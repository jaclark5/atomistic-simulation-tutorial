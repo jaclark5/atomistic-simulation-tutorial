{
 "cells": [
  {
   "cell_type": "markdown",
   "id": "6b6458af-d532-476e-b7eb-65d36d96ae02",
   "metadata": {},
   "source": [
    "# 分子動力学シミュレーション\n",
    "\n",
    "## TL;DR\n",
    "\n",
    "- MDシミュレーションでは古典力学の運動方程式に則った計算方法で、全ての原子の位置と速度の時間発展を露わに観察できる。\n",
    "- 時間スケールの制約があり一般的に数nsから数十nsぐらいが上限。その時間内に発現しない現象は別の計算手法を検討する必要がある。\n",
    "- MDシミュレーションには再現したい状態に応じて様々な状態（アンサンブル）があり、最も単純なアンサンブルはNVEアンサンブルという。\n",
    "- NVEアンサンブルでは全エネルギー保存則が成立し、計算精度および計算時間の観点から、時間ステップサイズを適切に設定する必要がある。\n",
    "\n",
    "\n",
    "</br>\n",
    "\n",
    "この章では系の時間発展をシミュレーションする、 **分子動力学シミュレーション（Molecular dynamics, MD）** について学びます。\n",
    "\n",
    "MDシミュレーションでは個々の原子の軌道の時間発展を露わに取り扱うシミュレーションで、古典力学の運動方程式を積分することによって計算対象である原子の座標と速度を逐次計算していく手法です。この計算手法自体は原子間に働く力やエネルギーのモデルとは独立した理論で、古くから分子シミュレーションの分野で用いられてきました。従って、理論的な背景や事例等は多くの書籍や文献が多く存在するのでそれらを確認していただければと思います。（参考文献：[1-3]） 本チュートリアルではあくまでMatlantisを使って**実践的に**これらの計算を実行するために必要な知識を習得するところが目的となっています。\n",
    "\n",
    "早速ですが具体的な事例を通して、どんなことがMDシミュレーションで観察出来るかみてみましょう。\n",
    "\n",
    " - https://wiki.fysik.dtu.dk/ase/tutorials/md/md.html"
   ]
  },
  {
   "cell_type": "markdown",
   "id": "74225efd-f5dd-4215-9f40-2525a709bad6",
   "metadata": {},
   "source": [
    "## 事前準備 - 必要なライブラリのインストール\n",
    "\n",
    "本章ではところどころ、ASE上で簡易に利用できる古典力場であるASAP3のEMT力場を利用しています。古典力場であるため精度や用途はかなり限定的ですがシンプルかつ高速で実行可能なのでチュートリアルとして事例を示すには十分な機能を持っています。ちなみにASAP3-EMTで利用可能な元素はNi、Cu、Pd、Ag、Pt、Auとこれらの合金に限定されます。インストールの仕方は以下のとおりです。"
   ]
  },
  {
   "cell_type": "code",
   "execution_count": 1,
   "id": "76855978-6625-42ad-a8fc-263d7f081f05",
   "metadata": {},
   "outputs": [
    {
     "name": "stdout",
     "output_type": "stream",
     "text": [
      "Looking in indexes: https://pypi.org/simple, http://pypi.artifact.svc:8080/simple\n",
      "Requirement already satisfied: asap3 in /home/jovyan/.py39/lib/python3.9/site-packages (3.13.4)\n",
      "Collecting asap3\n",
      "  Downloading asap3-3.13.5.tar.gz (849 kB)\n",
      "\u001b[2K     \u001b[90m━━━━━━━━━━━━━━━━━━━━━━━━━━━━━━━━━━━━━━\u001b[0m \u001b[32m849.3/849.3 kB\u001b[0m \u001b[31m46.4 MB/s\u001b[0m eta \u001b[36m0:00:00\u001b[0m\n",
      "\u001b[?25h  Installing build dependencies ... \u001b[?25ldone\n",
      "\u001b[?25h  Getting requirements to build wheel ... \u001b[?25ldone\n",
      "\u001b[?25h  Installing backend dependencies ... \u001b[?25ldone\n",
      "\u001b[?25h  Preparing metadata (pyproject.toml) ... \u001b[?25ldone\n",
      "\u001b[?25hRequirement already satisfied: ase>=3.23.0 in /home/jovyan/.py39/lib/python3.9/site-packages (from asap3) (3.23.0)\n",
      "Requirement already satisfied: numpy>=1.18.5 in /home/jovyan/.py39/lib/python3.9/site-packages (from ase>=3.23.0->asap3) (1.26.4)\n",
      "Requirement already satisfied: scipy>=1.6.0 in /home/jovyan/.py39/lib/python3.9/site-packages (from ase>=3.23.0->asap3) (1.13.1)\n",
      "Requirement already satisfied: matplotlib>=3.3.4 in /home/jovyan/.py39/lib/python3.9/site-packages (from ase>=3.23.0->asap3) (3.9.0)\n",
      "Requirement already satisfied: contourpy>=1.0.1 in /home/jovyan/.py39/lib/python3.9/site-packages (from matplotlib>=3.3.4->ase>=3.23.0->asap3) (1.2.1)\n",
      "Requirement already satisfied: cycler>=0.10 in /home/jovyan/.py39/lib/python3.9/site-packages (from matplotlib>=3.3.4->ase>=3.23.0->asap3) (0.12.1)\n",
      "Requirement already satisfied: fonttools>=4.22.0 in /home/jovyan/.py39/lib/python3.9/site-packages (from matplotlib>=3.3.4->ase>=3.23.0->asap3) (4.53.0)\n",
      "Requirement already satisfied: kiwisolver>=1.3.1 in /home/jovyan/.py39/lib/python3.9/site-packages (from matplotlib>=3.3.4->ase>=3.23.0->asap3) (1.4.5)\n",
      "Requirement already satisfied: packaging>=20.0 in /home/jovyan/.py39/lib/python3.9/site-packages (from matplotlib>=3.3.4->ase>=3.23.0->asap3) (24.1)\n",
      "Requirement already satisfied: pillow>=8 in /home/jovyan/.py39/lib/python3.9/site-packages (from matplotlib>=3.3.4->ase>=3.23.0->asap3) (10.4.0)\n",
      "Requirement already satisfied: pyparsing>=2.3.1 in /home/jovyan/.py39/lib/python3.9/site-packages (from matplotlib>=3.3.4->ase>=3.23.0->asap3) (3.1.2)\n",
      "Requirement already satisfied: python-dateutil>=2.7 in /home/jovyan/.py39/lib/python3.9/site-packages (from matplotlib>=3.3.4->ase>=3.23.0->asap3) (2.9.0.post0)\n",
      "Requirement already satisfied: importlib-resources>=3.2.0 in /home/jovyan/.py39/lib/python3.9/site-packages (from matplotlib>=3.3.4->ase>=3.23.0->asap3) (6.4.0)\n",
      "Requirement already satisfied: zipp>=3.1.0 in /home/jovyan/.py39/lib/python3.9/site-packages (from importlib-resources>=3.2.0->matplotlib>=3.3.4->ase>=3.23.0->asap3) (3.19.2)\n",
      "Requirement already satisfied: six>=1.5 in /home/jovyan/.py39/lib/python3.9/site-packages (from python-dateutil>=2.7->matplotlib>=3.3.4->ase>=3.23.0->asap3) (1.16.0)\n",
      "Building wheels for collected packages: asap3\n",
      "  Building wheel for asap3 (pyproject.toml) ... \u001b[?25ldone\n",
      "\u001b[?25h  Created wheel for asap3: filename=asap3-3.13.5-cp39-cp39-linux_x86_64.whl size=4432248 sha256=31f8e8a60ef879b55c6cd93d7518f8fd0183a6632500d1a2f34ac3976ea5cfe3\n",
      "  Stored in directory: /home/jovyan/.cache/pip/wheels/86/c6/6c/ad1816075e4617db75293ef31ab3e288466842bcc0727e2fdc\n",
      "Successfully built asap3\n",
      "Installing collected packages: asap3\n",
      "  Attempting uninstall: asap3\n",
      "    Found existing installation: asap3 3.13.4\n",
      "    Uninstalling asap3-3.13.4:\n",
      "      Successfully uninstalled asap3-3.13.4\n",
      "Successfully installed asap3-3.13.5\n",
      "\n",
      "\u001b[1m[\u001b[0m\u001b[34;49mnotice\u001b[0m\u001b[1;39;49m]\u001b[0m\u001b[39;49m A new release of pip is available: \u001b[0m\u001b[31;49m24.2\u001b[0m\u001b[39;49m -> \u001b[0m\u001b[32;49m24.3.1\u001b[0m\n",
      "\u001b[1m[\u001b[0m\u001b[34;49mnotice\u001b[0m\u001b[1;39;49m]\u001b[0m\u001b[39;49m To update, run: \u001b[0m\u001b[32;49mpip install --upgrade pip\u001b[0m\n"
     ]
    }
   ],
   "source": [
    "!pip install --upgrade asap3"
   ]
  },
  {
   "cell_type": "markdown",
   "id": "2e61e3b4-ae16-48c0-8a4f-834cfcbb971f",
   "metadata": {},
   "source": [
    "ASAP3-EMTに関する詳細は[ASAPのサイト](https://wiki.fysik.dtu.dk/asap/asap)をご確認ください。"
   ]
  },
  {
   "cell_type": "markdown",
   "id": "14452ac3-5055-4e75-b53c-4d5e319011cb",
   "metadata": {},
   "source": [
    "## MDシミュレーションでなにが出来るか\n",
    "\n",
    "以下の事例では金属Al構造の溶融状態をMDシミュレーションで再現しています。ご存知の通りアルミニウムは我々がよく見かける物質で工業的に非常に重要な金属であり、その特性も良く知られています。融点は660.3 °C（933.45 K）で、常圧下では幅広い温度領域で面心立方格子（face-centered cubic, fcc）構造を持ちます。以下はそのfcc-Al構造を初期温度1600 Kに過熱して熔融させる過程を示したものです。計算時間は100 psecです。"
   ]
  },
  {
   "cell_type": "markdown",
   "id": "d758229d-ae9a-43d0-93fe-4503a8cb3375",
   "metadata": {},
   "source": [
    "</br>\n",
    "<figure style=\"text-align:center\">\n",
    "  <img src=\"../assets/ch6/Fig6-1_fcc-Al_NVE_1600Kstart.png\" alt=\"fcc-Al_NVE_1600Kstart\">\n",
    "  <figcaption>Fig6-1a. Melting of fcc-Al in NVE ensemble starting at 1600 K</figcaption>\n",
    "  <figcaption>         (File: ../input/ch6/6-1_fcc-Al_NVE_1600Kstart.traj)</figcaption>\n",
    "</figure>"
   ]
  },
  {
   "cell_type": "markdown",
   "id": "d1cc926b-9a91-4602-b68e-fc9ed61504d1",
   "metadata": {},
   "source": [
    "最初はきれいにfccの結晶構造に配置されたAl原子ですが、計算が進むにつれ徐々に構造が乱れ、段々とシミュレーションセルの外側に拡散していく様子がうかがえます。このように**MDシミュレーションでは実際に原子が時間発展とともにどのような軌道を描くか詳細に観察することが可能です**。"
   ]
  },
  {
   "cell_type": "markdown",
   "id": "4fc8ad11-c26a-4016-ad7c-2ae5b6d04d2b",
   "metadata": {},
   "source": [
    "## アルミニウムの溶融シミュレーション\n",
    "\n",
    "それでは以下に、上記のfcc-Alの溶融過程を再現するのに用いたMDシミュレーションのサンプルコードを示します。今回は計算の高速化のためASAP3のEMT力場を用いています。（ユーザーのpython環境でこの力場を用いる際は始めに`pip install asap3`を実行してasap3のパッケージをインストールしてください。）以下の計算は100 psec実行しますが、数十秒ほどで計算が完了します。"
   ]
  },
  {
   "cell_type": "code",
   "execution_count": 2,
   "id": "e9eb0870-f7a5-4b9f-aadc-79c80273171b",
   "metadata": {
    "tags": []
   },
   "outputs": [
    {
     "name": "stdout",
     "output_type": "stream",
     "text": [
      "atoms =  Atoms(symbols='Al108', pbc=True, cell=[12.899999999999999, 12.899999999999999, 12.899999999999999])\n",
      "log_filename =  ./output/ch6/liquid-Al_NVE_1.0fs_test.log\n",
      "traj_filename =  ./output/ch6/liquid-Al_NVE_1.0fs_test.traj\n",
      "\n",
      "    imd     Etot(eV)    Ekin(eV)    Epot(eV)    T(K)\n",
      "     0     32.139701294     22.336120234    9.803581060   1600.00\n",
      "   1000     32.144732392     9.717662136    22.427070256   696.10\n",
      "   2000     32.144595676     10.384753227    21.759842449   743.89\n",
      "   3000     32.144485776     10.292545081    21.851940695   737.28\n",
      "   4000     32.144656501     9.569029340    22.575627161   685.46\n",
      "   5000     32.144223666     11.260312865    20.883910801   806.61\n",
      "   6000     32.144545079     10.854854065    21.289691013   777.56\n",
      "   7000     32.144674572     9.749442021    22.395232551   698.38\n",
      "   8000     32.144463479     10.658602272    21.485861207   763.51\n",
      "   9000     32.144319804     10.387294028    21.757025776   744.07\n",
      "   10000     32.144629878     10.025983768    22.118646110   718.19\n",
      "   11000     32.144361501     11.236237078    20.908124423   804.88\n",
      "   12000     32.144282709     11.138136472    21.006146236   797.86\n",
      "   13000     32.144353906     10.941409697    21.202944209   783.76\n",
      "   14000     32.144429188     10.722515666    21.421913523   768.08\n",
      "   15000     32.144375555     10.939219269    21.205156286   783.61\n",
      "   16000     32.144592848     9.409488230    22.735104618   674.03\n",
      "   17000     32.144024018     11.224044353    20.919979664   804.01\n",
      "   18000     32.144368456     10.108417246    22.035951209   724.09\n",
      "   19000     32.144305600     10.668868800    21.475436800   764.24\n",
      "   20000     32.144225902     10.733945978    21.410279924   768.90\n",
      "   21000     32.144479804     9.741119218    22.403360586   697.78\n",
      "   22000     32.144046753     10.898466211    21.245580542   780.69\n",
      "   23000     32.144622226     9.356067360    22.788554866   670.20\n",
      "   24000     32.144735318     8.279816397    23.864918921   593.11\n",
      "   25000     32.144262614     10.770595178    21.373667437   771.53\n",
      "   26000     32.144587780     10.012490263    22.132097518   717.22\n",
      "   27000     32.144457659     10.548355368    21.596102291   755.61\n",
      "   28000     32.144223772     11.000952065    21.143271706   788.03\n",
      "   29000     32.144108672     10.349540962    21.794567710   741.37\n",
      "   30000     32.144032797     10.306106856    21.837925940   738.26\n",
      "   31000     32.144272984     10.845360184    21.298912801   776.88\n",
      "   32000     32.144080434     11.683899064    20.460181371   836.95\n",
      "   33000     32.144326494     10.522818948    21.621507546   753.78\n",
      "   34000     32.144349760     10.829084255    21.315265504   775.72\n",
      "   35000     32.144530782     9.748968613    22.395562168   698.35\n",
      "   36000     32.144264785     11.057956331    21.086308454   792.11\n",
      "   37000     32.144231508     10.737533644    21.406697864   769.16\n",
      "   38000     32.143824362     11.202989634    20.940834728   802.50\n",
      "   39000     32.144470371     9.805347796    22.339122575   702.39\n",
      "   40000     32.144075224     11.038327085    21.105748139   790.71\n",
      "   41000     32.144660333     10.122700133    22.021960200   725.12\n",
      "   42000     32.144399470     10.471717961    21.672681509   750.12\n",
      "   43000     32.144301319     10.889584913    21.254716406   780.05\n",
      "   44000     32.144712144     10.040503091    22.104209052   719.23\n",
      "   45000     32.144470171     10.335349862    21.809120309   740.35\n",
      "   46000     32.144498444     10.831459795    21.313038648   775.89\n",
      "   47000     32.144480014     10.745521376    21.398958638   769.73\n",
      "   48000     32.144208898     10.811019456    21.333189442   774.42\n",
      "   49000     32.144394973     10.520276617    21.624118357   753.60\n",
      "   50000     32.143711391     11.693195391    20.450516000   837.62\n",
      "   51000     32.144216072     10.794231584    21.349984488   773.22\n",
      "   52000     32.143954477     11.167702465    20.976252011   799.97\n",
      "   53000     32.144197026     10.761047389    21.383149636   770.84\n",
      "   54000     32.144692097     10.650248738    21.494443358   762.91\n",
      "   55000     32.144292435     11.069017237    21.075275198   792.91\n",
      "   56000     32.144451534     10.818961116    21.325490419   774.99\n",
      "   57000     32.144159985     10.436902720    21.707257265   747.63\n",
      "   58000     32.144409863     10.518871169    21.625538694   753.50\n",
      "   59000     32.144290785     10.147827359    21.996463427   726.92\n",
      "   60000     32.144252442     10.561857643    21.582394799   756.58\n",
      "   61000     32.144211404     11.237046923    20.907164481   804.94\n",
      "   62000     32.144335612     10.234587556    21.909748055   733.13\n",
      "   63000     32.144553693     9.734651928    22.409901765   697.32\n",
      "   64000     32.144056336     11.331668716    20.812387620   811.72\n",
      "   65000     32.144544495     10.073495649    22.071048846   721.59\n",
      "   66000     32.144261257     11.553758409    20.590502848   827.63\n",
      "   67000     32.144400715     10.388117319    21.756283396   744.13\n",
      "   68000     32.144180052     11.049408118    21.094771934   791.50\n",
      "   69000     32.144331305     10.787515820    21.356815485   772.74\n",
      "   70000     32.144363121     9.757896544    22.386466577   698.99\n",
      "   71000     32.143995748     12.113379277    20.030616471   867.72\n",
      "   72000     32.144360474     9.849801292    22.294559182   705.57\n",
      "   73000     32.144573361     10.621878850    21.522694511   760.88\n",
      "   74000     32.144018243     11.163225758    20.980792485   799.65\n",
      "   75000     32.144376982     10.221662849    21.922714133   732.21\n",
      "   76000     32.144588102     9.451493371    22.693094731   677.04\n",
      "   77000     32.144417191     10.553128007    21.591289185   755.95\n",
      "   78000     32.144597951     10.231912256    21.912685695   732.94\n",
      "   79000     32.144830327     9.925136042    22.219694285   710.97\n",
      "   80000     32.143996211     10.923923218    21.220072993   782.51\n",
      "   81000     32.144574158     9.802931001    22.341643157   702.21\n",
      "   82000     32.144521087     10.157138062    21.987383025   727.58\n",
      "   83000     32.144238473     10.784705296    21.359533177   772.54\n",
      "   84000     32.144152374     11.426586870    20.717565505   818.52\n",
      "   85000     32.144128400     10.351754495    21.792373904   741.53\n",
      "   86000     32.144538231     10.954848440    21.189689791   784.73\n",
      "   87000     32.144430968     10.949426732    21.195004236   784.34\n",
      "   88000     32.144274375     10.209803957    21.934470418   731.36\n",
      "   89000     32.144706378     9.682925565    22.461780814   693.62\n",
      "   90000     32.144748840     10.276817862    21.867930978   736.16\n",
      "   91000     32.144569186     10.412884902    21.731684284   745.90\n",
      "   92000     32.144353339     10.693038177    21.451315163   765.97\n",
      "   93000     32.145033728     9.767317058    22.377716670   699.66\n",
      "   94000     32.144224948     11.741172068    20.403052880   841.05\n",
      "   95000     32.144571344     10.235993503    21.908577841   733.23\n",
      "   96000     32.144506261     11.768195101    20.376311159   842.99\n",
      "   97000     32.144586363     10.502267187    21.642319176   752.31\n",
      "   98000     32.144658691     10.422999129    21.721659562   746.63\n",
      "   99000     32.144269295     10.908635273    21.235634022   781.42\n",
      "   100000     32.144367925     10.044230000    22.100137925   719.50\n",
      "\n",
      "Normal termination of the MD run!\n",
      "CPU times: user 44.9 s, sys: 355 ms, total: 45.3 s\n",
      "Wall time: 1min 13s\n"
     ]
    }
   ],
   "source": [
    "%%time\n",
    "import os\n",
    "from asap3 import EMT\n",
    "calculator = EMT()\n",
    "\n",
    "from ase.build import bulk\n",
    "from ase.md.velocitydistribution import MaxwellBoltzmannDistribution,Stationary\n",
    "from ase.md.verlet import VelocityVerlet\n",
    "from ase.md import MDLogger\n",
    "from ase import units\n",
    "from time import perf_counter\n",
    "import numpy as np\n",
    "\n",
    "# Set up a fcc-Al crystal\n",
    "atoms = bulk(\"Al\",\"fcc\",a=4.3,cubic=True)\n",
    "atoms.pbc = True\n",
    "atoms *= 3\n",
    "print(\"atoms = \",atoms)\n",
    "\n",
    "# Set calculator (EMT in this case)\n",
    "atoms.calc = calculator\n",
    "\n",
    "# input parameters\n",
    "time_step    = 1.0      # MD step size in fsec\n",
    "temperature  = 1600     # Temperature in Kelvin\n",
    "num_md_steps = 100000   # Total number of MD steps\n",
    "num_interval = 1000     # Print out interval for .log and .traj\n",
    "\n",
    "# Set the momenta corresponding to the given \"temperature\"\n",
    "MaxwellBoltzmannDistribution(atoms, temperature_K=temperature,force_temp=True)\n",
    "Stationary(atoms)  # Set zero total momentum to avoid drifting\n",
    "\n",
    "# Set output filenames\n",
    "output_filename = \"./output/ch6/liquid-Al_NVE_1.0fs_test\"\n",
    "log_filename = output_filename + \".log\"\n",
    "print(\"log_filename = \",log_filename)\n",
    "traj_filename = output_filename + \".traj\"\n",
    "print(\"traj_filename = \",traj_filename)\n",
    "\n",
    "# Remove old files if they exist\n",
    "if os.path.exists(log_filename): os.remove(log_filename)\n",
    "if os.path.exists(traj_filename): os.remove(traj_filename)\n",
    "\n",
    "# Define the MD dynamics class object\n",
    "dyn = VelocityVerlet(atoms, \n",
    "                     time_step * units.fs,\n",
    "                     trajectory = traj_filename,\n",
    "                     loginterval=num_interval\n",
    "                    )  \n",
    "\n",
    "# Print statements\n",
    "def print_dyn():\n",
    "    imd = dyn.get_number_of_steps()\n",
    "    time_md = time_step*imd\n",
    "    etot  = atoms.get_total_energy()\n",
    "    ekin  = atoms.get_kinetic_energy()\n",
    "    epot  = atoms.get_potential_energy()\n",
    "    temp_K = atoms.get_temperature()\n",
    "    print(f\"   {imd: >3}     {etot:.9f}     {ekin:.9f}    {epot:.9f}   {temp_K:.2f}\")\n",
    "\n",
    "dyn.attach(print_dyn, interval=num_interval)\n",
    "\n",
    "# Set MD logger\n",
    "dyn.attach(MDLogger(dyn, atoms, log_filename, header=True, stress=False,peratom=False, mode=\"w\"), interval=num_interval)\n",
    "\n",
    "# Now run MD simulation\n",
    "print(f\"\\n    imd     Etot(eV)    Ekin(eV)    Epot(eV)    T(K)\")\n",
    "dyn.run(num_md_steps)\n",
    "\n",
    "print(\"\\nNormal termination of the MD run!\")"
   ]
  },
  {
   "cell_type": "markdown",
   "id": "8845d3ff-ff1a-40fd-8c8f-b5a9854ec95d",
   "metadata": {},
   "source": [
    "プログラムの流れはスクリプト内のコメントを見ながら流れを追っていけばだいたい理解できるとは思いますが重要なポイントのみについて解説します。\n",
    "\n",
    "\n",
    "（１）初速度分布\n",
    "\n",
    "構造作成、計算パラメーターの設定が終わったのち、各原子の初速度は指定の温度に対応した[Maxwell-Boltzmann分布](https://ja.wikipedia.org/wiki/%E3%83%9E%E3%82%AF%E3%82%B9%E3%82%A6%E3%82%A7%E3%83%AB%E5%88%86%E5%B8%83)に従う速度分布を与えます。上記コードでは、 `MaxwellBoltzmannDistribution` を用いて行っています。この方法で与えた初速度には系全体の運動量の任意性があるため、このままでは系全体がドリフトする可能性があります。なのでMaxwell-BoltzmannDistributionで初速度を与えた後に`Stationary`という関数で系全体の運動量をゼロとし、質量中心の座標を固定します。NVEの事例だけでなく、この後出てくる温度制御や圧力制御を伴うシミュレーションでも重要になります。\n",
    "\n",
    "（２）MDの実行\n",
    "\n",
    "今回は、`VelocityVerlet`というクラスを用いることで、[速度ベルレ法](https://ja.wikipedia.org/wiki/%E3%83%99%E3%83%AC%E3%81%AE%E6%96%B9%E6%B3%95)によるMDを実行しています。\n",
    "`dyn.run(num_md_steps)` の箇所で実際にMDの実行が行われています。\n",
    "今回の設定では、`time_step=1.0`として、1stepあたり1fs = $1 \\times 10^{-15}$ secの時間幅で、`num_md_steps=100000` step実行しています。\n",
    "\n",
    "（3）計算結果の記録\n",
    "\n",
    "このスクリプトには`print_dyn`という標準出力（notebook上へのデータの出力）にエネルギーや温度の値を出力する関数があります。その他にも`MDLogger`という関数があり、これは指定したLogファイルの中にエネルギー、温度、応力情報を出力します。独自に計算結果をファイル出力する機構を作っても良いですが、デフォルトで備わっているLoggerで大抵のアプリケーションに必要な情報は得られるので活用をお薦めします。\n",
    "\n",
    "MD実行後、軌跡の可視化は以下のように行なえます。"
   ]
  },
  {
   "cell_type": "code",
   "execution_count": 3,
   "id": "7237c8b8-3495-42dc-b73d-6f8df053541f",
   "metadata": {},
   "outputs": [
    {
     "data": {
      "application/vnd.jupyter.widget-view+json": {
       "model_id": "b81774d2e01e4e18ba3bf6993362830b",
       "version_major": 2,
       "version_minor": 0
      },
      "text/plain": []
     },
     "metadata": {},
     "output_type": "display_data"
    },
    {
     "data": {
      "application/vnd.jupyter.widget-view+json": {
       "model_id": "2292268dc9df4ab3b84394d19cc598f3",
       "version_major": 2,
       "version_minor": 0
      },
      "text/plain": [
       "HBox(children=(NGLWidget(max_frame=100), VBox(children=(Dropdown(description='Show', options=('All', 'Al'), va…"
      ]
     },
     "metadata": {},
     "output_type": "display_data"
    }
   ],
   "source": [
    "from ase.io import Trajectory\n",
    "from pfcc_extras.visualize.view import view_ngl\n",
    "\n",
    "\n",
    "traj = Trajectory(traj_filename)\n",
    "view_ngl(traj)"
   ]
  },
  {
   "cell_type": "code",
   "execution_count": 4,
   "id": "472cb3a7-09dd-4e26-ad96-96e49e770386",
   "metadata": {},
   "outputs": [
    {
     "name": "stderr",
     "output_type": "stream",
     "text": [
      "[Parallel(n_jobs=16)]: Using backend ThreadingBackend with 16 concurrent workers.\n",
      "[Parallel(n_jobs=16)]: Done  18 tasks      | elapsed:   27.4s\n",
      "[Parallel(n_jobs=16)]: Done 101 out of 101 | elapsed:  1.6min finished\n"
     ]
    }
   ],
   "source": [
    "from pfcc_extras.visualize.povray import traj_to_apng\n",
    "from IPython.display import Image\n",
    "\n",
    "\n",
    "traj_to_apng(traj, f\"output/Fig6-1_fcc-Al_NVE_1600Kstart.png\", rotation=\"0x,0y,0z\", clean=True, n_jobs=16)\n",
    "\n",
    "# See Fig6-1a\n",
    "#Image(url=\"output/Fig6-1_fcc-Al_NVE_1600Kstart.png\")"
   ]
  },
  {
   "cell_type": "markdown",
   "id": "27506b8c-130d-4cef-9aba-a8c6dd7f7147",
   "metadata": {},
   "source": [
    "## NVEアンサンブルにおける物性値のヒストリー\n",
    "\n",
    "各原子の速度（すなわち運動量）も分かるため各種エネルギーの履歴を追うことも出来ます。例えば、以下は上のfcc-Alの溶融の際の全エネルギー（Tot.E.）、ポテンシャルエネルギー（P.E.）、運動エネルギー（K.E.）、そして温度（Temp.）の時間プロファイルです。\n"
   ]
  },
  {
   "cell_type": "code",
   "execution_count": 5,
   "id": "8c8124da-be6a-4a46-b9e7-3bc5c581ef6e",
   "metadata": {},
   "outputs": [
    {
     "name": "stderr",
     "output_type": "stream",
     "text": [
      "/tmp/ipykernel_49555/510401485.py:3: FutureWarning: The 'delim_whitespace' keyword in pd.read_csv is deprecated and will be removed in a future version. Use ``sep='\\s+'`` instead\n",
      "  df = pd.read_csv(log_filename, delim_whitespace=True)\n"
     ]
    },
    {
     "data": {
      "text/html": [
       "<div>\n",
       "<style scoped>\n",
       "    .dataframe tbody tr th:only-of-type {\n",
       "        vertical-align: middle;\n",
       "    }\n",
       "\n",
       "    .dataframe tbody tr th {\n",
       "        vertical-align: top;\n",
       "    }\n",
       "\n",
       "    .dataframe thead th {\n",
       "        text-align: right;\n",
       "    }\n",
       "</style>\n",
       "<table border=\"1\" class=\"dataframe\">\n",
       "  <thead>\n",
       "    <tr style=\"text-align: right;\">\n",
       "      <th></th>\n",
       "      <th>Time[ps]</th>\n",
       "      <th>Etot[eV]</th>\n",
       "      <th>Epot[eV]</th>\n",
       "      <th>Ekin[eV]</th>\n",
       "      <th>T[K]</th>\n",
       "    </tr>\n",
       "  </thead>\n",
       "  <tbody>\n",
       "    <tr>\n",
       "      <th>0</th>\n",
       "      <td>0.0</td>\n",
       "      <td>32.140</td>\n",
       "      <td>9.804</td>\n",
       "      <td>22.336</td>\n",
       "      <td>1600.0</td>\n",
       "    </tr>\n",
       "    <tr>\n",
       "      <th>1</th>\n",
       "      <td>1.0</td>\n",
       "      <td>32.145</td>\n",
       "      <td>22.427</td>\n",
       "      <td>9.718</td>\n",
       "      <td>696.1</td>\n",
       "    </tr>\n",
       "    <tr>\n",
       "      <th>2</th>\n",
       "      <td>2.0</td>\n",
       "      <td>32.145</td>\n",
       "      <td>21.760</td>\n",
       "      <td>10.385</td>\n",
       "      <td>743.9</td>\n",
       "    </tr>\n",
       "    <tr>\n",
       "      <th>3</th>\n",
       "      <td>3.0</td>\n",
       "      <td>32.144</td>\n",
       "      <td>21.852</td>\n",
       "      <td>10.293</td>\n",
       "      <td>737.3</td>\n",
       "    </tr>\n",
       "    <tr>\n",
       "      <th>4</th>\n",
       "      <td>4.0</td>\n",
       "      <td>32.145</td>\n",
       "      <td>22.576</td>\n",
       "      <td>9.569</td>\n",
       "      <td>685.5</td>\n",
       "    </tr>\n",
       "    <tr>\n",
       "      <th>...</th>\n",
       "      <td>...</td>\n",
       "      <td>...</td>\n",
       "      <td>...</td>\n",
       "      <td>...</td>\n",
       "      <td>...</td>\n",
       "    </tr>\n",
       "    <tr>\n",
       "      <th>96</th>\n",
       "      <td>96.0</td>\n",
       "      <td>32.145</td>\n",
       "      <td>20.376</td>\n",
       "      <td>11.768</td>\n",
       "      <td>843.0</td>\n",
       "    </tr>\n",
       "    <tr>\n",
       "      <th>97</th>\n",
       "      <td>97.0</td>\n",
       "      <td>32.145</td>\n",
       "      <td>21.642</td>\n",
       "      <td>10.502</td>\n",
       "      <td>752.3</td>\n",
       "    </tr>\n",
       "    <tr>\n",
       "      <th>98</th>\n",
       "      <td>98.0</td>\n",
       "      <td>32.145</td>\n",
       "      <td>21.722</td>\n",
       "      <td>10.423</td>\n",
       "      <td>746.6</td>\n",
       "    </tr>\n",
       "    <tr>\n",
       "      <th>99</th>\n",
       "      <td>99.0</td>\n",
       "      <td>32.144</td>\n",
       "      <td>21.236</td>\n",
       "      <td>10.909</td>\n",
       "      <td>781.4</td>\n",
       "    </tr>\n",
       "    <tr>\n",
       "      <th>100</th>\n",
       "      <td>100.0</td>\n",
       "      <td>32.144</td>\n",
       "      <td>22.100</td>\n",
       "      <td>10.044</td>\n",
       "      <td>719.5</td>\n",
       "    </tr>\n",
       "  </tbody>\n",
       "</table>\n",
       "<p>101 rows × 5 columns</p>\n",
       "</div>"
      ],
      "text/plain": [
       "     Time[ps]  Etot[eV]  Epot[eV]  Ekin[eV]    T[K]\n",
       "0         0.0    32.140     9.804    22.336  1600.0\n",
       "1         1.0    32.145    22.427     9.718   696.1\n",
       "2         2.0    32.145    21.760    10.385   743.9\n",
       "3         3.0    32.144    21.852    10.293   737.3\n",
       "4         4.0    32.145    22.576     9.569   685.5\n",
       "..        ...       ...       ...       ...     ...\n",
       "96       96.0    32.145    20.376    11.768   843.0\n",
       "97       97.0    32.145    21.642    10.502   752.3\n",
       "98       98.0    32.145    21.722    10.423   746.6\n",
       "99       99.0    32.144    21.236    10.909   781.4\n",
       "100     100.0    32.144    22.100    10.044   719.5\n",
       "\n",
       "[101 rows x 5 columns]"
      ]
     },
     "execution_count": 5,
     "metadata": {},
     "output_type": "execute_result"
    }
   ],
   "source": [
    "import pandas as pd\n",
    "\n",
    "df = pd.read_csv(log_filename, delim_whitespace=True)\n",
    "df"
   ]
  },
  {
   "cell_type": "code",
   "execution_count": 6,
   "id": "4ba63de9-9ebb-49fd-85e2-88a95fe83e29",
   "metadata": {
    "tags": []
   },
   "outputs": [
    {
     "data": {
      "image/png": "[encoded data removed]",
      "text/plain": [
       "<Figure size 1000x500 with 4 Axes>"
      ]
     },
     "metadata": {},
     "output_type": "display_data"
    }
   ],
   "source": [
    "import numpy as np\n",
    "import matplotlib.pyplot as plt\n",
    "\n",
    "\n",
    "fig = plt.figure(figsize=(10, 5))\n",
    "\n",
    "#color = 'tab:grey'\n",
    "ax1 = fig.add_subplot(4, 1, 1)\n",
    "ax1.set_xticklabels([])  \n",
    "ax1.set_ylabel('Tot E (eV)')  \n",
    "ax1.set_ylim([31.,33.])\n",
    "ax1.plot(df[\"Time[ps]\"], df[\"Etot[eV]\"], color=\"blue\",alpha=0.5)\n",
    "\n",
    "ax2 = fig.add_subplot(4, 1, 2)\n",
    "ax2.set_xticklabels([])  \n",
    "ax2.set_ylabel('P.E. (eV)')  \n",
    "ax2.plot(df[\"Time[ps]\"], df[\"Epot[eV]\"], color=\"green\",alpha=0.5)\n",
    "\n",
    "ax3 = fig.add_subplot(4, 1, 3)\n",
    "ax3.set_xticklabels([])  \n",
    "ax3.set_ylabel('K.E. (eV)')  \n",
    "ax3.plot(df[\"Time[ps]\"], df[\"Ekin[eV]\"], color=\"orange\",alpha=0.5)\n",
    "\n",
    "ax4 = fig.add_subplot(4, 1, 4)\n",
    "ax4.set_xlabel('time (ps)')  \n",
    "ax4.set_ylabel('Temp. (K)')  \n",
    "ax4.plot(df[\"Time[ps]\"], df[\"T[K]\"], color=\"red\",alpha=0.5)\n",
    "ax4.set_ylim([500., 1700])\n",
    "\n",
    "fig.suptitle(\"Fig.6-1b. Time evolution of total, potential, and kinetic energies, and temperature.\", y=0)\n",
    "\n",
    "#plt.savefig(\"6-1_liquid-Al_NVE_1.0fs_test_E_vs_t.png\")  # <- Use if saving to an image file is desired\n",
    "plt.show()"
   ]
  },
  {
   "cell_type": "markdown",
   "id": "7bd9ee71-698c-4f2c-b789-9695e16e73d7",
   "metadata": {},
   "source": [
    "1-5節 でも出てきましたが、系の全エネルギー $E$ (Total energy) は、運動エネルギー $K$ (Kinetic energy)と、ポテンシャルエネルギー $V$ (Potential energy)で表されます。\n",
    "\n",
    "$$ E = K + V $$\n",
    "\n",
    "このうち、原子の運動エネルギー$K$は古典力学の表式を用い以下のように計算できます。\n",
    "\n",
    "$$ K = \\sum_{i=1}^{N} \\frac{1}{2} m_i {\\mathbf{v}}_i^2 = \\sum_{i=1}^{N} \\frac{{\\mathbf{p}}_i^2}{2 m_i}  $$\n",
    "\n",
    "ここで $m_i, \\mathbf{v}_i, \\mathbf{p}_i$ はそれぞれ各原子の質量 (mass) 、速度 (velocity)および運動量 (momenta, $\\mathbf{p}=m\\mathbf{v}$)です。ここで系の温度と運動エネルギーはほぼ同義で、以下のような関係で定義されます。\n",
    "\n",
    "$$ K = \\frac{3}{2} k_B T$$\n",
    "\n",
    "\n",
    "今回のケースでは初期温度を1600 Kと設定し、あとは古典力学の運動方程式に則って自然に系を時間発展させています。従って特に外力もないのでエネルギー保存則が守られ全エネルギーが数値誤差の範囲で一定に保たれます。そしてかなり早い段階で温度が低下し、運動エネルギーとポテンシャルエネルギーのそれぞれに[エネルギー分配則](https://ja.wikipedia.org/wiki/%E3%82%A8%E3%83%8D%E3%83%AB%E3%82%AE%E3%83%BC%E7%AD%89%E9%85%8D%E5%88%86%E3%81%AE%E6%B3%95%E5%89%87)が働き、最終的に温度は初期温度の半分程度に落ち着きます。自然界では実際に物質はそのようにふるまい、今回のような最もシンプルなMDシミュレーションではそういった状況を再現します。このような計算対象である系の状態分布を[**NVEアンサンブル**](https://ja.wikipedia.org/wiki/%E3%83%9F%E3%82%AF%E3%83%AD%E3%82%AB%E3%83%8E%E3%83%8B%E3%82%AB%E3%83%AB%E3%82%A2%E3%83%B3%E3%82%B5%E3%83%B3%E3%83%96%E3%83%AB)と言います。（または小正準集団アンサンブル。NVEのNは原子数、Vは体積、Eは全エネルギーが一定であることを表します。）ちなみに、ここでいう[アンサンブル](https://ja.wikipedia.org/wiki/%E7%B5%B1%E8%A8%88%E9%9B%86%E5%9B%A3)とは統計力学の考え方で物質の状態分布のことを指します。"
   ]
  },
  {
   "cell_type": "markdown",
   "id": "63f2bcfe-005f-41b9-8148-99cee3543ab0",
   "metadata": {},
   "source": [
    "## NVEアンサンブルにおけるMDシミュレーションの設定\n",
    "\n",
    "さて、上記のNVEアンサンブルのMDシミュレーションでは初期温度や計算時間のような計算条件を設定する必要があります。それ以外にも比較的自明ではないパラメーターとしてMDのタイムステップを設定する必要があります。このMDのタイムステップはどのように設定したらよいでしょうか？\n",
    "\n",
    "答えは求めている計算精度に依存します。NVEアンサンブルでは2階の常微分方程式である古典の運動方程式解くわけですが、この積分プロセスの精度がタイムステップの大きさで決まります。（積分手法の詳細については本節の最後に記載します。）タイムステップサイズを変えた時の全エネルギーがどのように変化するか見てみましょう。計算時間は仮に1 nsecとします。（古典MDなどで良く用いられる時間スケールです。）"
   ]
  },
  {
   "cell_type": "markdown",
   "id": "8aec3e9c-7d6a-4e18-a33b-8241a4943d94",
   "metadata": {},
   "source": [
    "<p>\n",
    "<figure style=\"text-align: center\">\n",
    "    <img src=\"../assets/ch6/Fig6-1_Etot_vs_dt.png\">\n",
    "    <figcaption align = \"center\">Fig.6-1c. Time evolution of the total energy with respect to time step size.</figcaption>\n",
    "</figure>\n",
    "</p>\n",
    "</br>"
   ]
  },
  {
   "cell_type": "markdown",
   "id": "0d6e7e40-ab9a-4fc4-abf6-9c3a24f9fb6c",
   "metadata": {},
   "source": [
    "\n",
    "上記はタイムステップを0.5から5.0 fsecまで変化させたときの計算結果です。本来一定であるはずの全エネルギーが、タイムステップが大きいときに時間の経過とともに大きくぶれてしまっていることが確認できます。\n",
    "\n",
    "全エネルギーの時間依存性確認のため、上記のMDシミュレーションスクリプトの`time_step` 引数を変えて実行し、そのエネルギープロファイルを比較してみてください。\n",
    "可視化にあたっては、上記Fig.6-1b の可視化コードを参考にしてください。"
   ]
  },
  {
   "cell_type": "markdown",
   "id": "9b06dd14-e6cf-4046-970a-6df55ee51cc7",
   "metadata": {},
   "source": [
    "上記の計算結果からMDのタイムステップサイズを変化し、横軸をステップサイズ、縦軸を全エネルギーの揺らぎから得られたRMSEをプロットすると以下のようになります。"
   ]
  },
  {
   "cell_type": "markdown",
   "id": "92557c6a-e65b-4087-ad0f-9590ac0ff27e",
   "metadata": {},
   "source": [
    "<p class=\"aligncenter\">\n",
    "<figure style=\"text-align: center\">\n",
    "    <img src=\"../assets/ch6/Fig6-1_Etot-RMSE_vs_dt.png\">\n",
    "    <figcaption align = \"center\">Fig.6-1d. Total energy ERMSE as a function of MD step size.</figcaption>\n",
    "</figure>\n",
    "</p>\n",
    "</br>"
   ]
  },
  {
   "cell_type": "markdown",
   "id": "e6a0fb91-f3a3-4012-8af9-209c2dfd6c50",
   "metadata": {},
   "source": [
    "縦軸は原子ひとつ辺りのエネルギーです。Log-logプロットで概ね直線上にのることが見て取れます。単位原子当たりの値にして、0.25 fsで1.2e-6 eVから5.0 fsで6e-5 fsまで変化することが分かります。この場合原子数は108原子なので、系全体で1e-4 eVから1e-3 eV変化しうることが確認できます。\n",
    "\n",
    "エネルギーの観点では時間ステップを1 fsecとすると、1 nsecのシミュレーションを100原子系で0.5 meV程度、1000原子系だと約5 meV程度の誤差が予想されます。もちろん計算したい物性などによりますが、たいていの計算では十分な精度ではないでしょうか？これが例えば計算時間を稼ぎたいからとタイムステップを5 fsecとするとほぼ一桁誤差が大きくなります。今後MD計算を活用するうえで、この計算精度がどの程度かというのは頭の片隅に止めておく必要があります。"
   ]
  },
  {
   "cell_type": "markdown",
   "id": "04f49052-1d19-429e-b937-93297244e500",
   "metadata": {},
   "source": [
    "## その他のアンサンブルとMDシミュレーション\n",
    "\n",
    "本節の最後にNVEアンサンブル以外のMDシミュレーション法について触れておきます。\n",
    "\n",
    "NVEアンサンブルのMDシミュレーションはシンプルかつパワフルな計算手法ですが、我々が一般に観察したい現象を再現するには不都合な点が多く存在します。\n",
    "NVEのシミュレーションは計算対象のセルそれそのものが全てであり、外界というものが存在しません。しかし我々が実際に観察したいミクロな世界にはそれを取り巻く環境が存在します。外部環境の温度や圧力の影響により、計算対象の状態が変化しますが、これはNVEアンサンブルの範疇では再現が出来ません。\n",
    "\n",
    "このため統計力学の世界ではcanonicalアンサンブル（NVT）、isothermal-isobaricアンサンブル（NPT）、等をはじめ様々な状態分布があり、それらを活用することで特定の条件下での計算が可能になります。次節以降ではこれらの統計力学アンサンブル下での計算方法について学びます。"
   ]
  },
  {
   "cell_type": "markdown",
   "id": "a3c4748a-0453-49f5-8af6-1bd8946dd980",
   "metadata": {},
   "source": [
    "## 参考文献"
   ]
  },
  {
   "cell_type": "markdown",
   "id": "9c4d138c-f252-41d2-8bcd-66d55282b80c",
   "metadata": {},
   "source": [
    "[1] M.P. Allen and D.J. Tildesley, \"Computer simulaiton of liquid\", 2nd Ed., Oxford University Press (2017) ISBN 978-0-19-880319-5. [DOI:10.1093/oso/9780198803195.001.0001](https://doi.org/10.1093/oso/9780198803195.001.0001)\n",
    "\n",
    "[2] D. Frenkel and B. Smit \"Understanding molecular simulation - from algorithms to applications\", 2nd Ed., Academic Press (2002) ISBN 978-0-12-267351-1. [DOI:10.1016/B978-0-12-267351-1.X5000-7](https://doi.org/10.1016/B978-0-12-267351-1.X5000-7)\n",
    "\n",
    "[3] M.E. Tuckerman, \"Statistical mechanics: Theory and molecular simulation\", Oxford University Press (2010) ISBN 978-0-19-852526-4. [https://global.oup.com/academic/product/statistical-mechanics-9780198525264?q=Statistical%20mechanics:%20Theory%20and%20molecular%20simulation&cc=gb&lang=en#](https://global.oup.com/academic/product/statistical-mechanics-9780198525264?q=Statistical%20mechanics%3A%20Theory%20and%20molecular%20simulation&cc=gb&lang=en#)\n"
   ]
  }
 ],
 "metadata": {
  "kernelspec": {
   "display_name": "Python 3.9",
   "language": "python",
   "name": "python39"
  },
  "language_info": {
   "codemirror_mode": {
    "name": "ipython",
    "version": 3
   },
   "file_extension": ".py",
   "mimetype": "text/x-python",
   "name": "python",
   "nbconvert_exporter": "python",
   "pygments_lexer": "ipython3",
   "version": "3.9.16"
  },
  "toc-autonumbering": false,
  "toc-showcode": false,
  "widgets": {
   "application/vnd.jupyter.widget-state+json": {
    "state": {
     "00f08222c6444d6f8b18a385bdd2732d": {
      "model_module": "@jupyter-widgets/base",
      "model_module_version": "1.2.0",
      "model_name": "LayoutModel",
      "state": {}
     },
     "00f7ce42787f49ae9ea562c7f1a9fdf5": {
      "model_module": "@jupyter-widgets/controls",
      "model_module_version": "1.5.0",
      "model_name": "LinkModel",
      "state": {
       "source": [
        "IPY_MODEL_15c40f93ee464d83805d8dd407b8bac0",
        "max"
       ],
       "target": [
        "IPY_MODEL_ea3eaa5a9171478d8be494ead1c14ecf",
        "max_frame"
       ]
      }
     },
     "010f00974c7a425497e1d019ca009b14": {
      "model_module": "@jupyter-widgets/controls",
      "model_module_version": "1.5.0",
      "model_name": "LinkModel",
      "state": {
       "source": [
        "IPY_MODEL_eb0802c2c04c41629f9b9bcd28ff5ddf",
        "max"
       ],
       "target": [
        "IPY_MODEL_ea3eaa5a9171478d8be494ead1c14ecf",
        "max_frame"
       ]
      }
     },
     "0205dc5a648d4414a590e40d63f7f041": {
      "model_module": "@jupyter-widgets/controls",
      "model_module_version": "1.5.0",
      "model_name": "ButtonStyleModel",
      "state": {}
     },
     "11ef5ce35ca54099a9dcf6984b474979": {
      "model_module": "@jupyter-widgets/controls",
      "model_module_version": "1.5.0",
      "model_name": "DropdownModel",
      "state": {
       "_options_labels": [
        "All",
        "Al"
       ],
       "description": "Show",
       "index": 0,
       "layout": "IPY_MODEL_86a27e438b0145c8b6ef9955d1ab584a",
       "style": "IPY_MODEL_c6d25cbe8a6842e1b2ba341927e420c8"
      }
     },
     "1252862787764b6a8c307ba01c345f31": {
      "model_module": "@jupyter-widgets/base",
      "model_module_version": "1.2.0",
      "model_name": "LayoutModel",
      "state": {}
     },
     "14499eefa7604e3e8675c252cb6616ea": {
      "model_module": "@jupyter-widgets/base",
      "model_module_version": "1.2.0",
      "model_name": "LayoutModel",
      "state": {
       "width": "34px"
      }
     },
     "15c40f93ee464d83805d8dd407b8bac0": {
      "model_module": "@jupyter-widgets/controls",
      "model_module_version": "1.5.0",
      "model_name": "IntSliderModel",
      "state": {
       "layout": "IPY_MODEL_15e00d1ced8a4fb9ba08575fe64f32c6",
       "style": "IPY_MODEL_f4054517766d433c83ff45979c334938",
       "value": 100
      }
     },
     "15e00d1ced8a4fb9ba08575fe64f32c6": {
      "model_module": "@jupyter-widgets/base",
      "model_module_version": "1.2.0",
      "model_name": "LayoutModel",
      "state": {}
     },
     "16378e2ac77f45e99f5b6313ec459c18": {
      "model_module": "@jupyter-widgets/controls",
      "model_module_version": "1.5.0",
      "model_name": "ButtonStyleModel",
      "state": {}
     },
     "199f033d2f304436b9aa70602d2ac61a": {
      "model_module": "@jupyter-widgets/controls",
      "model_module_version": "1.5.0",
      "model_name": "CheckboxModel",
      "state": {
       "description": "Show charge",
       "disabled": false,
       "layout": "IPY_MODEL_7c3c1f5aa2984f1e868689cef4f74b46",
       "style": "IPY_MODEL_23c51e7a35ee4fe5ac22484cbf2d8251",
       "value": false
      }
     },
     "1b60652ae41d450b87839e9528c9abf1": {
      "model_module": "@jupyter-widgets/controls",
      "model_module_version": "1.5.0",
      "model_name": "VBoxModel",
      "state": {
       "children": [
        "IPY_MODEL_11ef5ce35ca54099a9dcf6984b474979",
        "IPY_MODEL_49af2df4cf5a41ef8cbf79f50938cec9",
        "IPY_MODEL_21c68e3288ea4545b287710d0bf84bbb",
        "IPY_MODEL_9eaa2ecbc71f4cc9b2b00d0af31b8d3f",
        "IPY_MODEL_591d395b73ce4c5b844f8a1a8240ff04",
        "IPY_MODEL_72490fb575c345b988dee01d86068ef1",
        "IPY_MODEL_7ecc5ac43c6e4dd4aaccdcbcdb5a8ad9",
        "IPY_MODEL_cc4088ed59364915b2739e62b9683d73",
        "IPY_MODEL_199f033d2f304436b9aa70602d2ac61a",
        "IPY_MODEL_f9579be0f7224db3bf4a73c85fbec1b0",
        "IPY_MODEL_20669cf55330462dad2c3d4251bb0735"
       ],
       "layout": "IPY_MODEL_adfbacb5a05a48e684870ced9e432326"
      }
     },
     "20669cf55330462dad2c3d4251bb0735": {
      "model_module": "@jupyter-widgets/output",
      "model_module_version": "1.0.0",
      "model_name": "OutputModel",
      "state": {
       "layout": "IPY_MODEL_eb1325c4494743c3b97e50761501fc48"
      }
     },
     "21c68e3288ea4545b287710d0bf84bbb": {
      "model_module": "@jupyter-widgets/controls",
      "model_module_version": "1.5.0",
      "model_name": "FloatSliderModel",
      "state": {
       "description": "Ball size",
       "layout": "IPY_MODEL_778b4abd1f5e432e955734f636fe6284",
       "max": 1.5,
       "step": 0.01,
       "style": "IPY_MODEL_37f4156d7b8048c5931baab917b9de97",
       "value": 0.5
      }
     },
     "23c51e7a35ee4fe5ac22484cbf2d8251": {
      "model_module": "@jupyter-widgets/controls",
      "model_module_version": "1.5.0",
      "model_name": "DescriptionStyleModel",
      "state": {
       "description_width": ""
      }
     },
     "26bc847407af48928d19386515e00839": {
      "model_module": "@jupyter-widgets/base",
      "model_module_version": "1.2.0",
      "model_name": "LayoutModel",
      "state": {}
     },
     "298ab5b55bea4ce68d6e6ba082e0d7f6": {
      "model_module": "@jupyter-widgets/controls",
      "model_module_version": "1.5.0",
      "model_name": "ButtonStyleModel",
      "state": {}
     },
     "33a2a66d8c6e4498bbe10e57df76e482": {
      "model_module": "@jupyter-widgets/base",
      "model_module_version": "1.2.0",
      "model_name": "LayoutModel",
      "state": {}
     },
     "36da67c120994dbe971312136c99c2cb": {
      "model_module": "@jupyter-widgets/base",
      "model_module_version": "1.2.0",
      "model_name": "LayoutModel",
      "state": {}
     },
     "37f4156d7b8048c5931baab917b9de97": {
      "model_module": "@jupyter-widgets/controls",
      "model_module_version": "1.5.0",
      "model_name": "SliderStyleModel",
      "state": {
       "description_width": ""
      }
     },
     "40dbb0751b2c427fba532c360ba299a2": {
      "model_module": "@jupyter-widgets/controls",
      "model_module_version": "1.5.0",
      "model_name": "ButtonModel",
      "state": {
       "description": "Download image",
       "layout": "IPY_MODEL_525d86ffd8ee420483575d7ca5899b90",
       "style": "IPY_MODEL_0205dc5a648d4414a590e40d63f7f041",
       "tooltip": "Download current frame to your local PC"
      }
     },
     "49af2df4cf5a41ef8cbf79f50938cec9": {
      "model_module": "@jupyter-widgets/controls",
      "model_module_version": "1.5.0",
      "model_name": "DropdownModel",
      "state": {
       "_options_labels": [
        " ",
        "picking",
        "random",
        "uniform",
        "atomindex",
        "residueindex",
        "chainindex",
        "modelindex",
        "sstruc",
        "element",
        "resname",
        "bfactor",
        "hydrophobicity",
        "value",
        "volume",
        "occupancy"
       ],
       "description": "Color scheme",
       "index": 9,
       "layout": "IPY_MODEL_57df0da70ca749d8976a3ff46fa6a768",
       "style": "IPY_MODEL_5710c56d21f04a3589a793585ec30ec6"
      }
     },
     "4b6bdacb4512412fbb97310538632141": {
      "model_module": "@jupyter-widgets/base",
      "model_module_version": "1.2.0",
      "model_name": "LayoutModel",
      "state": {}
     },
     "4ead59ee58dc48ac8a4f10f4f6850b99": {
      "model_module": "@jupyter-widgets/base",
      "model_module_version": "1.2.0",
      "model_name": "LayoutModel",
      "state": {}
     },
     "525d86ffd8ee420483575d7ca5899b90": {
      "model_module": "@jupyter-widgets/base",
      "model_module_version": "1.2.0",
      "model_name": "LayoutModel",
      "state": {}
     },
     "5710c56d21f04a3589a793585ec30ec6": {
      "model_module": "@jupyter-widgets/controls",
      "model_module_version": "1.5.0",
      "model_name": "DescriptionStyleModel",
      "state": {
       "description_width": ""
      }
     },
     "57df0da70ca749d8976a3ff46fa6a768": {
      "model_module": "@jupyter-widgets/base",
      "model_module_version": "1.2.0",
      "model_name": "LayoutModel",
      "state": {}
     },
     "591d395b73ce4c5b844f8a1a8240ff04": {
      "model_module": "@jupyter-widgets/controls",
      "model_module_version": "1.5.0",
      "model_name": "TextModel",
      "state": {
       "description": "Filename: ",
       "layout": "IPY_MODEL_8fb7c92934ee4615944f5a3c0841a250",
       "style": "IPY_MODEL_9126affc2e394eccb7be35b09b04236f",
       "value": "screenshot.png"
      }
     },
     "70b79805fa9146729b65ff626d0fd4e1": {
      "model_module": "@jupyter-widgets/base",
      "model_module_version": "1.2.0",
      "model_name": "LayoutModel",
      "state": {}
     },
     "72490fb575c345b988dee01d86068ef1": {
      "model_module": "@jupyter-widgets/controls",
      "model_module_version": "1.5.0",
      "model_name": "HBoxModel",
      "state": {
       "children": [
        "IPY_MODEL_40dbb0751b2c427fba532c360ba299a2",
        "IPY_MODEL_c857ae6712cc4529acc2346f6fdc54c3"
       ],
       "layout": "IPY_MODEL_00f08222c6444d6f8b18a385bdd2732d"
      }
     },
     "778b4abd1f5e432e955734f636fe6284": {
      "model_module": "@jupyter-widgets/base",
      "model_module_version": "1.2.0",
      "model_name": "LayoutModel",
      "state": {}
     },
     "77fb403c51b04165a8db6fce2ab65045": {
      "model_module": "@jupyter-widgets/base",
      "model_module_version": "1.2.0",
      "model_name": "LayoutModel",
      "state": {}
     },
     "7c3c1f5aa2984f1e868689cef4f74b46": {
      "model_module": "@jupyter-widgets/base",
      "model_module_version": "1.2.0",
      "model_name": "LayoutModel",
      "state": {}
     },
     "7ecc5ac43c6e4dd4aaccdcbcdb5a8ad9": {
      "model_module": "@jupyter-widgets/controls",
      "model_module_version": "1.5.0",
      "model_name": "CheckboxModel",
      "state": {
       "description": "Show force",
       "disabled": false,
       "layout": "IPY_MODEL_4ead59ee58dc48ac8a4f10f4f6850b99",
       "style": "IPY_MODEL_8052412887f24c3d8350ccdebf46f3be",
       "value": false
      }
     },
     "8052412887f24c3d8350ccdebf46f3be": {
      "model_module": "@jupyter-widgets/controls",
      "model_module_version": "1.5.0",
      "model_name": "DescriptionStyleModel",
      "state": {
       "description_width": ""
      }
     },
     "86a27e438b0145c8b6ef9955d1ab584a": {
      "model_module": "@jupyter-widgets/base",
      "model_module_version": "1.2.0",
      "model_name": "LayoutModel",
      "state": {}
     },
     "8a23c66b5d054dd49dad71acc8692d32": {
      "model_module": "@jupyter-widgets/base",
      "model_module_version": "1.2.0",
      "model_name": "LayoutModel",
      "state": {}
     },
     "8f6e2874714e4eac84dc4051451082b6": {
      "model_module": "@jupyter-widgets/controls",
      "model_module_version": "1.5.0",
      "model_name": "SliderStyleModel",
      "state": {
       "description_width": ""
      }
     },
     "8fb7c92934ee4615944f5a3c0841a250": {
      "model_module": "@jupyter-widgets/base",
      "model_module_version": "1.2.0",
      "model_name": "LayoutModel",
      "state": {}
     },
     "9126affc2e394eccb7be35b09b04236f": {
      "model_module": "@jupyter-widgets/controls",
      "model_module_version": "1.5.0",
      "model_name": "DescriptionStyleModel",
      "state": {
       "description_width": ""
      }
     },
     "928ff723483742d592089cd08b0681fc": {
      "model_module": "@jupyter-widgets/controls",
      "model_module_version": "1.5.0",
      "model_name": "ImageModel",
      "state": {
       "layout": "IPY_MODEL_36da67c120994dbe971312136c99c2cb",
       "width": "900.0"
      }
     },
     "9eaa2ecbc71f4cc9b2b00d0af31b8d3f": {
      "model_module": "@jupyter-widgets/controls",
      "model_module_version": "1.5.0",
      "model_name": "IntSliderModel",
      "state": {
       "layout": "IPY_MODEL_33a2a66d8c6e4498bbe10e57df76e482",
       "style": "IPY_MODEL_8f6e2874714e4eac84dc4051451082b6"
      }
     },
     "adfbacb5a05a48e684870ced9e432326": {
      "model_module": "@jupyter-widgets/base",
      "model_module_version": "1.2.0",
      "model_name": "LayoutModel",
      "state": {}
     },
     "bbedf9fc5df4431c96025879aafe0ad4": {
      "model_module": "@jupyter-widgets/base",
      "model_module_version": "1.2.0",
      "model_name": "LayoutModel",
      "state": {}
     },
     "bc1e45cc1b204fdaaf9d61b27be6d12a": {
      "model_module": "@jupyter-widgets/controls",
      "model_module_version": "1.5.0",
      "model_name": "LinkModel",
      "state": {
       "source": [
        "IPY_MODEL_eb0802c2c04c41629f9b9bcd28ff5ddf",
        "value"
       ],
       "target": [
        "IPY_MODEL_ea3eaa5a9171478d8be494ead1c14ecf",
        "frame"
       ]
      }
     },
     "c05e5ff74ae54a83910fc3f34678ed2a": {
      "model_module": "@jupyter-widgets/controls",
      "model_module_version": "1.5.0",
      "model_name": "LinkModel",
      "state": {
       "source": [
        "IPY_MODEL_eb0802c2c04c41629f9b9bcd28ff5ddf",
        "value"
       ],
       "target": [
        "IPY_MODEL_15c40f93ee464d83805d8dd407b8bac0",
        "value"
       ]
      }
     },
     "c6d25cbe8a6842e1b2ba341927e420c8": {
      "model_module": "@jupyter-widgets/controls",
      "model_module_version": "1.5.0",
      "model_name": "DescriptionStyleModel",
      "state": {
       "description_width": ""
      }
     },
     "c857ae6712cc4529acc2346f6fdc54c3": {
      "model_module": "@jupyter-widgets/controls",
      "model_module_version": "1.5.0",
      "model_name": "ButtonModel",
      "state": {
       "description": "Save image",
       "layout": "IPY_MODEL_8a23c66b5d054dd49dad71acc8692d32",
       "style": "IPY_MODEL_16378e2ac77f45e99f5b6313ec459c18",
       "tooltip": "Save current frame to file.\nCurrently .png and .html are supported.\nIt takes a bit time, please be patient."
      }
     },
     "c9eb3a74979441869eaae2510ba0eabc": {
      "model_module": "@jupyter-widgets/controls",
      "model_module_version": "1.5.0",
      "model_name": "HBoxModel",
      "state": {
       "children": [
        "IPY_MODEL_eb0802c2c04c41629f9b9bcd28ff5ddf",
        "IPY_MODEL_15c40f93ee464d83805d8dd407b8bac0"
       ],
       "layout": "IPY_MODEL_bbedf9fc5df4431c96025879aafe0ad4"
      }
     },
     "cc4088ed59364915b2739e62b9683d73": {
      "model_module": "@jupyter-widgets/controls",
      "model_module_version": "1.5.0",
      "model_name": "FloatSliderModel",
      "state": {
       "description": "Force scale",
       "layout": "IPY_MODEL_d59cc746ac2445b18f3152548839d65f",
       "step": 0.1,
       "style": "IPY_MODEL_e0eea97ecb3d4a7fa352eceea0641862",
       "value": 0.5
      }
     },
     "d59cc746ac2445b18f3152548839d65f": {
      "model_module": "@jupyter-widgets/base",
      "model_module_version": "1.2.0",
      "model_name": "LayoutModel",
      "state": {}
     },
     "d79d0cad41964e25a5a0fe9069e7ff73": {
      "model_module": "@jupyter-widgets/controls",
      "model_module_version": "1.5.0",
      "model_name": "ButtonModel",
      "state": {
       "icon": "compress",
       "layout": "IPY_MODEL_14499eefa7604e3e8675c252cb6616ea",
       "style": "IPY_MODEL_298ab5b55bea4ce68d6e6ba082e0d7f6"
      }
     },
     "e0eea97ecb3d4a7fa352eceea0641862": {
      "model_module": "@jupyter-widgets/controls",
      "model_module_version": "1.5.0",
      "model_name": "SliderStyleModel",
      "state": {
       "description_width": ""
      }
     },
     "e31cba738e634cefa0a9baf6f5655f78": {
      "model_module": "@jupyter-widgets/controls",
      "model_module_version": "1.5.0",
      "model_name": "HBoxModel",
      "state": {
       "children": [
        "IPY_MODEL_ea3eaa5a9171478d8be494ead1c14ecf",
        "IPY_MODEL_1b60652ae41d450b87839e9528c9abf1"
       ],
       "layout": "IPY_MODEL_26bc847407af48928d19386515e00839"
      }
     },
     "e552ee5c079b40d0aa18ce0e92c66810": {
      "model_module": "@jupyter-widgets/controls",
      "model_module_version": "1.5.0",
      "model_name": "SliderStyleModel",
      "state": {
       "description_width": ""
      }
     },
     "ea3eaa5a9171478d8be494ead1c14ecf": {
      "model_module": "nglview-js-widgets",
      "model_module_version": "3.0.1",
      "model_name": "NGLModel",
      "state": {
       "_camera_orientation": [
        23.43574784938473,
        0,
        0,
        0,
        0,
        23.43574784938473,
        0,
        0,
        0,
        0,
        23.43574784938473,
        0,
        -5.375,
        -5.375,
        -5.375,
        1
       ],
       "_camera_str": "orthographic",
       "_gui_theme": null,
       "_ibtn_fullscreen": "IPY_MODEL_d79d0cad41964e25a5a0fe9069e7ff73",
       "_igui": null,
       "_iplayer": "IPY_MODEL_c9eb3a74979441869eaae2510ba0eabc",
       "_ngl_color_dict": {},
       "_ngl_coordinate_resource": {},
       "_ngl_full_stage_parameters": {
        "ambientColor": 14540253,
        "ambientIntensity": 0.2,
        "backgroundColor": "white",
        "cameraEyeSep": 0.3,
        "cameraFov": 40,
        "cameraType": "orthographic",
        "clipDist": 0,
        "clipFar": 100,
        "clipNear": 0,
        "fogFar": 100,
        "fogNear": 50,
        "hoverTimeout": 0,
        "impostor": true,
        "lightColor": 14540253,
        "lightIntensity": 1,
        "mousePreset": "default",
        "panSpeed": 1,
        "quality": "medium",
        "rotateSpeed": 2,
        "sampleLevel": 0,
        "tooltip": true,
        "workerDefault": true,
        "zoomSpeed": 1.2
       },
       "_ngl_msg_archive": [
        {
         "args": [
          {
           "binary": false,
           "data": "CRYST1   12.900   12.900   12.900  90.00  90.00  90.00 P 1\nMODEL     1\nATOM      1   Al MOL     1       0.000   0.000   0.000  1.00  0.00          AL  \nATOM      2   Al MOL     1       0.000   2.150   2.150  1.00  0.00          AL  \nATOM      3   Al MOL     1       2.150   0.000   2.150  1.00  0.00          AL  \nATOM      4   Al MOL     1       2.150   2.150   0.000  1.00  0.00          AL  \nATOM      5   Al MOL     1       0.000   0.000   4.300  1.00  0.00          AL  \nATOM      6   Al MOL     1       0.000   2.150   6.450  1.00  0.00          AL  \nATOM      7   Al MOL     1       2.150   0.000   6.450  1.00  0.00          AL  \nATOM      8   Al MOL     1       2.150   2.150   4.300  1.00  0.00          AL  \nATOM      9   Al MOL     1       0.000   0.000   8.600  1.00  0.00          AL  \nATOM     10   Al MOL     1       0.000   2.150  10.750  1.00  0.00          AL  \nATOM     11   Al MOL     1       2.150   0.000  10.750  1.00  0.00          AL  \nATOM     12   Al MOL     1       2.150   2.150   8.600  1.00  0.00          AL  \nATOM     13   Al MOL     1       0.000   4.300   0.000  1.00  0.00          AL  \nATOM     14   Al MOL     1       0.000   6.450   2.150  1.00  0.00          AL  \nATOM     15   Al MOL     1       2.150   4.300   2.150  1.00  0.00          AL  \nATOM     16   Al MOL     1       2.150   6.450   0.000  1.00  0.00          AL  \nATOM     17   Al MOL     1       0.000   4.300   4.300  1.00  0.00          AL  \nATOM     18   Al MOL     1       0.000   6.450   6.450  1.00  0.00          AL  \nATOM     19   Al MOL     1       2.150   4.300   6.450  1.00  0.00          AL  \nATOM     20   Al MOL     1       2.150   6.450   4.300  1.00  0.00          AL  \nATOM     21   Al MOL     1       0.000   4.300   8.600  1.00  0.00          AL  \nATOM     22   Al MOL     1       0.000   6.450  10.750  1.00  0.00          AL  \nATOM     23   Al MOL     1       2.150   4.300  10.750  1.00  0.00          AL  \nATOM     24   Al MOL     1       2.150   6.450   8.600  1.00  0.00          AL  \nATOM     25   Al MOL     1       0.000   8.600   0.000  1.00  0.00          AL  \nATOM     26   Al MOL     1       0.000  10.750   2.150  1.00  0.00          AL  \nATOM     27   Al MOL     1       2.150   8.600   2.150  1.00  0.00          AL  \nATOM     28   Al MOL     1       2.150  10.750   0.000  1.00  0.00          AL  \nATOM     29   Al MOL     1       0.000   8.600   4.300  1.00  0.00          AL  \nATOM     30   Al MOL     1       0.000  10.750   6.450  1.00  0.00          AL  \nATOM     31   Al MOL     1       2.150   8.600   6.450  1.00  0.00          AL  \nATOM     32   Al MOL     1       2.150  10.750   4.300  1.00  0.00          AL  \nATOM     33   Al MOL     1       0.000   8.600   8.600  1.00  0.00          AL  \nATOM     34   Al MOL     1       0.000  10.750  10.750  1.00  0.00          AL  \nATOM     35   Al MOL     1       2.150   8.600  10.750  1.00  0.00          AL  \nATOM     36   Al MOL     1       2.150  10.750   8.600  1.00  0.00          AL  \nATOM     37   Al MOL     1       4.300   0.000   0.000  1.00  0.00          AL  \nATOM     38   Al MOL     1       4.300   2.150   2.150  1.00  0.00          AL  \nATOM     39   Al MOL     1       6.450   0.000   2.150  1.00  0.00          AL  \nATOM     40   Al MOL     1       6.450   2.150   0.000  1.00  0.00          AL  \nATOM     41   Al MOL     1       4.300   0.000   4.300  1.00  0.00          AL  \nATOM     42   Al MOL     1       4.300   2.150   6.450  1.00  0.00          AL  \nATOM     43   Al MOL     1       6.450   0.000   6.450  1.00  0.00          AL  \nATOM     44   Al MOL     1       6.450   2.150   4.300  1.00  0.00          AL  \nATOM     45   Al MOL     1       4.300   0.000   8.600  1.00  0.00          AL  \nATOM     46   Al MOL     1       4.300   2.150  10.750  1.00  0.00          AL  \nATOM     47   Al MOL     1       6.450   0.000  10.750  1.00  0.00          AL  \nATOM     48   Al MOL     1       6.450   2.150   8.600  1.00  0.00          AL  \nATOM     49   Al MOL     1       4.300   4.300   0.000  1.00  0.00          AL  \nATOM     50   Al MOL     1       4.300   6.450   2.150  1.00  0.00          AL  \nATOM     51   Al MOL     1       6.450   4.300   2.150  1.00  0.00          AL  \nATOM     52   Al MOL     1       6.450   6.450   0.000  1.00  0.00          AL  \nATOM     53   Al MOL     1       4.300   4.300   4.300  1.00  0.00          AL  \nATOM     54   Al MOL     1       4.300   6.450   6.450  1.00  0.00          AL  \nATOM     55   Al MOL     1       6.450   4.300   6.450  1.00  0.00          AL  \nATOM     56   Al MOL     1       6.450   6.450   4.300  1.00  0.00          AL  \nATOM     57   Al MOL     1       4.300   4.300   8.600  1.00  0.00          AL  \nATOM     58   Al MOL     1       4.300   6.450  10.750  1.00  0.00          AL  \nATOM     59   Al MOL     1       6.450   4.300  10.750  1.00  0.00          AL  \nATOM     60   Al MOL     1       6.450   6.450   8.600  1.00  0.00          AL  \nATOM     61   Al MOL     1       4.300   8.600   0.000  1.00  0.00          AL  \nATOM     62   Al MOL     1       4.300  10.750   2.150  1.00  0.00          AL  \nATOM     63   Al MOL     1       6.450   8.600   2.150  1.00  0.00          AL  \nATOM     64   Al MOL     1       6.450  10.750   0.000  1.00  0.00          AL  \nATOM     65   Al MOL     1       4.300   8.600   4.300  1.00  0.00          AL  \nATOM     66   Al MOL     1       4.300  10.750   6.450  1.00  0.00          AL  \nATOM     67   Al MOL     1       6.450   8.600   6.450  1.00  0.00          AL  \nATOM     68   Al MOL     1       6.450  10.750   4.300  1.00  0.00          AL  \nATOM     69   Al MOL     1       4.300   8.600   8.600  1.00  0.00          AL  \nATOM     70   Al MOL     1       4.300  10.750  10.750  1.00  0.00          AL  \nATOM     71   Al MOL     1       6.450   8.600  10.750  1.00  0.00          AL  \nATOM     72   Al MOL     1       6.450  10.750   8.600  1.00  0.00          AL  \nATOM     73   Al MOL     1       8.600   0.000   0.000  1.00  0.00          AL  \nATOM     74   Al MOL     1       8.600   2.150   2.150  1.00  0.00          AL  \nATOM     75   Al MOL     1      10.750   0.000   2.150  1.00  0.00          AL  \nATOM     76   Al MOL     1      10.750   2.150   0.000  1.00  0.00          AL  \nATOM     77   Al MOL     1       8.600   0.000   4.300  1.00  0.00          AL  \nATOM     78   Al MOL     1       8.600   2.150   6.450  1.00  0.00          AL  \nATOM     79   Al MOL     1      10.750   0.000   6.450  1.00  0.00          AL  \nATOM     80   Al MOL     1      10.750   2.150   4.300  1.00  0.00          AL  \nATOM     81   Al MOL     1       8.600   0.000   8.600  1.00  0.00          AL  \nATOM     82   Al MOL     1       8.600   2.150  10.750  1.00  0.00          AL  \nATOM     83   Al MOL     1      10.750   0.000  10.750  1.00  0.00          AL  \nATOM     84   Al MOL     1      10.750   2.150   8.600  1.00  0.00          AL  \nATOM     85   Al MOL     1       8.600   4.300   0.000  1.00  0.00          AL  \nATOM     86   Al MOL     1       8.600   6.450   2.150  1.00  0.00          AL  \nATOM     87   Al MOL     1      10.750   4.300   2.150  1.00  0.00          AL  \nATOM     88   Al MOL     1      10.750   6.450   0.000  1.00  0.00          AL  \nATOM     89   Al MOL     1       8.600   4.300   4.300  1.00  0.00          AL  \nATOM     90   Al MOL     1       8.600   6.450   6.450  1.00  0.00          AL  \nATOM     91   Al MOL     1      10.750   4.300   6.450  1.00  0.00          AL  \nATOM     92   Al MOL     1      10.750   6.450   4.300  1.00  0.00          AL  \nATOM     93   Al MOL     1       8.600   4.300   8.600  1.00  0.00          AL  \nATOM     94   Al MOL     1       8.600   6.450  10.750  1.00  0.00          AL  \nATOM     95   Al MOL     1      10.750   4.300  10.750  1.00  0.00          AL  \nATOM     96   Al MOL     1      10.750   6.450   8.600  1.00  0.00          AL  \nATOM     97   Al MOL     1       8.600   8.600   0.000  1.00  0.00          AL  \nATOM     98   Al MOL     1       8.600  10.750   2.150  1.00  0.00          AL  \nATOM     99   Al MOL     1      10.750   8.600   2.150  1.00  0.00          AL  \nATOM    100   Al MOL     1      10.750  10.750   0.000  1.00  0.00          AL  \nATOM    101   Al MOL     1       8.600   8.600   4.300  1.00  0.00          AL  \nATOM    102   Al MOL     1       8.600  10.750   6.450  1.00  0.00          AL  \nATOM    103   Al MOL     1      10.750   8.600   6.450  1.00  0.00          AL  \nATOM    104   Al MOL     1      10.750  10.750   4.300  1.00  0.00          AL  \nATOM    105   Al MOL     1       8.600   8.600   8.600  1.00  0.00          AL  \nATOM    106   Al MOL     1       8.600  10.750  10.750  1.00  0.00          AL  \nATOM    107   Al MOL     1      10.750   8.600  10.750  1.00  0.00          AL  \nATOM    108   Al MOL     1      10.750  10.750   8.600  1.00  0.00          AL  \nENDMDL\n",
           "type": "blob"
          }
         ],
         "kwargs": {
          "defaultRepresentation": false,
          "ext": "pdb"
         },
         "methodName": "loadFile",
         "reconstruc_color_scheme": false,
         "target": "Stage",
         "type": "call_method"
        },
        {
         "args": [
          "500px",
          "500px"
         ],
         "kwargs": {},
         "methodName": "setSize",
         "reconstruc_color_scheme": false,
         "target": "Widget",
         "type": "call_method"
        },
        {
         "args": [
          "unitcell"
         ],
         "component_index": 0,
         "kwargs": {
          "sele": "all"
         },
         "methodName": "addRepresentation",
         "reconstruc_color_scheme": false,
         "target": "compList",
         "type": "call_method"
        },
        {
         "args": [
          "spacefill"
         ],
         "component_index": 0,
         "kwargs": {
          "sele": "all"
         },
         "methodName": "addRepresentation",
         "reconstruc_color_scheme": false,
         "target": "compList",
         "type": "call_method"
        },
        {
         "args": [],
         "kwargs": {
          "cameraType": "orthographic"
         },
         "methodName": "setParameters",
         "reconstruc_color_scheme": false,
         "target": "Stage",
         "type": "call_method"
        },
        {
         "args": [
          {
           "clipDist": 0
          }
         ],
         "kwargs": {},
         "methodName": "setParameters",
         "reconstruc_color_scheme": false,
         "target": "Widget",
         "type": "call_method"
        },
        {
         "args": [
          "spacefill",
          0
         ],
         "kwargs": {
          "colorScale": "rainbow",
          "colorScheme": "element",
          "radiusScale": 0.5,
          "radiusType": "covalent"
         },
         "methodName": "updateRepresentationsByName",
         "reconstruc_color_scheme": false,
         "target": "Widget",
         "type": "call_method"
        },
        {
         "args": [
          "this._Q = [[1.0, 0.0, 0.0], [0.0, 1.0, 0.0], [0.0, 0.0, 1.0]]\n    var tooltip = document.createElement('div');\n    Object.assign(tooltip.style, {\n      display: 'none',\n      position: 'fixed',\n      zIndex: 10,\n      pointerEvents: 'none',\n      backgroundColor: 'rgba( 0, 0, 0, 0.6 )',\n      color: 'lightgrey',\n      padding: '8px',\n      fontFamily: 'sans-serif'\n    });\n    document.body.appendChild(tooltip);\n\n    var that = this;\n    this.stage.mouseControls.remove('hoverPick');\n    this.stage.signals.hovered.add(function (pickingProxy) {\n      if (pickingProxy && (pickingProxy.atom || pickingProxy.bond)) {\n        var atom = pickingProxy.atom || pickingProxy.closestBondAtom\n        var mp = pickingProxy.mouse.position\n        //tooltip.innerText = atom.element + ' i=' + atom.index + ' (' + atom.x.toFixed(2) +  ', ' + atom.y.toFixed(2) +  ', ' + atom.z.toFixed(2) + ')'\n        //var pos = that._atoms_pos[atom.index]\n        var Q = that._Q\n        var pos_x = Q[0][0] * atom.x + Q[0][1] * atom.y + Q[0][2] * atom.z \n        var pos_y = Q[1][0] * atom.x + Q[1][1] * atom.y + Q[1][2] * atom.z\n        var pos_z = Q[2][0] * atom.x + Q[2][1] * atom.y + Q[2][2] * atom.z\n        tooltip.innerText = 'i=' + atom.index + ' ' + atom.element + ' (' + pos_x.toFixed(2) +  ', ' + pos_y.toFixed(2) +  ', ' + pos_z.toFixed(2) + ')'\n        tooltip.style.bottom = window.innerHeight - mp.y + 3 + 'px'\n        tooltip.style.left = mp.x + 3 + 'px'\n        tooltip.style.display = 'block'\n      } else {\n        tooltip.style.display = 'none'\n      }\n    });\n    this.stage.tooltip = tooltip;\n    "
         ],
         "kwargs": {},
         "methodName": "executeCode",
         "reconstruc_color_scheme": false,
         "target": "Widget",
         "type": "call_method"
        },
        {
         "args": [
          "this._Q = [[1.0, 0.0, 0.0], [0.0, 1.0, 0.0], [0.0, 0.0, 1.0]]"
         ],
         "kwargs": {},
         "methodName": "executeCode",
         "reconstruc_color_scheme": false,
         "target": "Widget",
         "type": "call_method"
        },
        {
         "args": [
          "this._Q = [[1.0, 0.0, 0.0], [0.0, 1.0, 0.0], [0.0, 0.0, 1.0]]"
         ],
         "kwargs": {},
         "methodName": "executeCode",
         "reconstruc_color_scheme": false,
         "target": "Widget",
         "type": "call_method"
        },
        {
         "args": [
          "this._Q = [[1.0, 0.0, 0.0], [0.0, 1.0, 0.0], [0.0, 0.0, 1.0]]"
         ],
         "kwargs": {},
         "methodName": "executeCode",
         "reconstruc_color_scheme": false,
         "target": "Widget",
         "type": "call_method"
        },
        {
         "args": [
          "this._Q = [[1.0, 0.0, 0.0], [0.0, 1.0, 0.0], [0.0, 0.0, 1.0]]"
         ],
         "kwargs": {},
         "methodName": "executeCode",
         "reconstruc_color_scheme": false,
         "target": "Widget",
         "type": "call_method"
        },
        {
         "args": [
          "this._Q = [[1.0, 0.0, 0.0], [0.0, 1.0, 0.0], [0.0, 0.0, 1.0]]"
         ],
         "kwargs": {},
         "methodName": "executeCode",
         "reconstruc_color_scheme": false,
         "target": "Widget",
         "type": "call_method"
        },
        {
         "args": [
          "this._Q = [[1.0, 0.0, 0.0], [0.0, 1.0, 0.0], [0.0, 0.0, 1.0]]"
         ],
         "kwargs": {},
         "methodName": "executeCode",
         "reconstruc_color_scheme": false,
         "target": "Widget",
         "type": "call_method"
        },
        {
         "args": [
          "this._Q = [[1.0, 0.0, 0.0], [0.0, 1.0, 0.0], [0.0, 0.0, 1.0]]"
         ],
         "kwargs": {},
         "methodName": "executeCode",
         "reconstruc_color_scheme": false,
         "target": "Widget",
         "type": "call_method"
        },
        {
         "args": [
          "this._Q = [[1.0, 0.0, 0.0], [0.0, 1.0, 0.0], [0.0, 0.0, 1.0]]"
         ],
         "kwargs": {},
         "methodName": "executeCode",
         "reconstruc_color_scheme": false,
         "target": "Widget",
         "type": "call_method"
        },
        {
         "args": [
          "this._Q = [[1.0, 0.0, 0.0], [0.0, 1.0, 0.0], [0.0, 0.0, 1.0]]"
         ],
         "kwargs": {},
         "methodName": "executeCode",
         "reconstruc_color_scheme": false,
         "target": "Widget",
         "type": "call_method"
        },
        {
         "args": [
          "this._Q = [[1.0, 0.0, 0.0], [0.0, 1.0, 0.0], [0.0, 0.0, 1.0]]"
         ],
         "kwargs": {},
         "methodName": "executeCode",
         "reconstruc_color_scheme": false,
         "target": "Widget",
         "type": "call_method"
        },
        {
         "args": [
          "this._Q = [[1.0, 0.0, 0.0], [0.0, 1.0, 0.0], [0.0, 0.0, 1.0]]"
         ],
         "kwargs": {},
         "methodName": "executeCode",
         "reconstruc_color_scheme": false,
         "target": "Widget",
         "type": "call_method"
        },
        {
         "args": [
          "this._Q = [[1.0, 0.0, 0.0], [0.0, 1.0, 0.0], [0.0, 0.0, 1.0]]"
         ],
         "kwargs": {},
         "methodName": "executeCode",
         "reconstruc_color_scheme": false,
         "target": "Widget",
         "type": "call_method"
        },
        {
         "args": [
          "this._Q = [[1.0, 0.0, 0.0], [0.0, 1.0, 0.0], [0.0, 0.0, 1.0]]"
         ],
         "kwargs": {},
         "methodName": "executeCode",
         "reconstruc_color_scheme": false,
         "target": "Widget",
         "type": "call_method"
        },
        {
         "args": [
          "this._Q = [[1.0, 0.0, 0.0], [0.0, 1.0, 0.0], [0.0, 0.0, 1.0]]"
         ],
         "kwargs": {},
         "methodName": "executeCode",
         "reconstruc_color_scheme": false,
         "target": "Widget",
         "type": "call_method"
        },
        {
         "args": [
          "this._Q = [[1.0, 0.0, 0.0], [0.0, 1.0, 0.0], [0.0, 0.0, 1.0]]"
         ],
         "kwargs": {},
         "methodName": "executeCode",
         "reconstruc_color_scheme": false,
         "target": "Widget",
         "type": "call_method"
        },
        {
         "args": [
          "this._Q = [[1.0, 0.0, 0.0], [0.0, 1.0, 0.0], [0.0, 0.0, 1.0]]"
         ],
         "kwargs": {},
         "methodName": "executeCode",
         "reconstruc_color_scheme": false,
         "target": "Widget",
         "type": "call_method"
        },
        {
         "args": [
          "this._Q = [[1.0, 0.0, 0.0], [0.0, 1.0, 0.0], [0.0, 0.0, 1.0]]"
         ],
         "kwargs": {},
         "methodName": "executeCode",
         "reconstruc_color_scheme": false,
         "target": "Widget",
         "type": "call_method"
        },
        {
         "args": [
          "this._Q = [[1.0, 0.0, 0.0], [0.0, 1.0, 0.0], [0.0, 0.0, 1.0]]"
         ],
         "kwargs": {},
         "methodName": "executeCode",
         "reconstruc_color_scheme": false,
         "target": "Widget",
         "type": "call_method"
        },
        {
         "args": [
          "this._Q = [[1.0, 0.0, 0.0], [0.0, 1.0, 0.0], [0.0, 0.0, 1.0]]"
         ],
         "kwargs": {},
         "methodName": "executeCode",
         "reconstruc_color_scheme": false,
         "target": "Widget",
         "type": "call_method"
        },
        {
         "args": [
          "this._Q = [[1.0, 0.0, 0.0], [0.0, 1.0, 0.0], [0.0, 0.0, 1.0]]"
         ],
         "kwargs": {},
         "methodName": "executeCode",
         "reconstruc_color_scheme": false,
         "target": "Widget",
         "type": "call_method"
        },
        {
         "args": [
          "this._Q = [[1.0, 0.0, 0.0], [0.0, 1.0, 0.0], [0.0, 0.0, 1.0]]"
         ],
         "kwargs": {},
         "methodName": "executeCode",
         "reconstruc_color_scheme": false,
         "target": "Widget",
         "type": "call_method"
        },
        {
         "args": [
          "this._Q = [[1.0, 0.0, 0.0], [0.0, 1.0, 0.0], [0.0, 0.0, 1.0]]"
         ],
         "kwargs": {},
         "methodName": "executeCode",
         "reconstruc_color_scheme": false,
         "target": "Widget",
         "type": "call_method"
        },
        {
         "args": [
          "this._Q = [[1.0, 0.0, 0.0], [0.0, 1.0, 0.0], [0.0, 0.0, 1.0]]"
         ],
         "kwargs": {},
         "methodName": "executeCode",
         "reconstruc_color_scheme": false,
         "target": "Widget",
         "type": "call_method"
        },
        {
         "args": [
          "this._Q = [[1.0, 0.0, 0.0], [0.0, 1.0, 0.0], [0.0, 0.0, 1.0]]"
         ],
         "kwargs": {},
         "methodName": "executeCode",
         "reconstruc_color_scheme": false,
         "target": "Widget",
         "type": "call_method"
        },
        {
         "args": [
          "this._Q = [[1.0, 0.0, 0.0], [0.0, 1.0, 0.0], [0.0, 0.0, 1.0]]"
         ],
         "kwargs": {},
         "methodName": "executeCode",
         "reconstruc_color_scheme": false,
         "target": "Widget",
         "type": "call_method"
        },
        {
         "args": [
          "this._Q = [[1.0, 0.0, 0.0], [0.0, 1.0, 0.0], [0.0, 0.0, 1.0]]"
         ],
         "kwargs": {},
         "methodName": "executeCode",
         "reconstruc_color_scheme": false,
         "target": "Widget",
         "type": "call_method"
        }
       ],
       "_ngl_original_stage_parameters": {
        "ambientColor": 14540253,
        "ambientIntensity": 0.2,
        "backgroundColor": "white",
        "cameraEyeSep": 0.3,
        "cameraFov": 40,
        "cameraType": "perspective",
        "clipDist": 10,
        "clipFar": 100,
        "clipNear": 0,
        "fogFar": 100,
        "fogNear": 50,
        "hoverTimeout": 0,
        "impostor": true,
        "lightColor": 14540253,
        "lightIntensity": 1,
        "mousePreset": "default",
        "panSpeed": 1,
        "quality": "medium",
        "rotateSpeed": 2,
        "sampleLevel": 0,
        "tooltip": true,
        "workerDefault": true,
        "zoomSpeed": 1.2
       },
       "_ngl_repr_dict": {
        "0": {
         "0": {
          "params": {
           "clipCenter": {
            "x": 0,
            "y": 0,
            "z": 0
           },
           "clipNear": 0,
           "clipRadius": 0,
           "colorMode": "hcl",
           "colorReverse": false,
           "colorScale": "",
           "colorScheme": "element",
           "colorValue": "orange",
           "defaultAssembly": "",
           "depthWrite": true,
           "diffuse": 16777215,
           "diffuseInterior": false,
           "disableImpostor": false,
           "disablePicking": false,
           "flatShaded": false,
           "interiorColor": 2236962,
           "interiorDarkening": 0,
           "lazy": false,
           "matrix": {
            "elements": [
             1,
             0,
             0,
             0,
             0,
             1,
             0,
             0,
             0,
             0,
             1,
             0,
             0,
             0,
             0,
             1
            ]
           },
           "metalness": 0,
           "opacity": 1,
           "quality": "medium",
           "radialSegments": 10,
           "radiusData": {},
           "radiusScale": 1,
           "radiusSize": 0.0644999971687006,
           "radiusType": "vdw",
           "roughness": 0.4,
           "sele": "all",
           "side": "double",
           "sphereDetail": 1,
           "useInteriorColor": true,
           "visible": true,
           "wireframe": false
          },
          "type": "unitcell"
         },
         "1": {
          "params": {
           "assembly": "default",
           "clipCenter": {
            "x": 0,
            "y": 0,
            "z": 0
           },
           "clipNear": 0,
           "clipRadius": 0,
           "colorMode": "hcl",
           "colorReverse": false,
           "colorScale": "rainbow",
           "colorScheme": "element",
           "colorValue": 9474192,
           "defaultAssembly": "",
           "depthWrite": true,
           "diffuse": 16777215,
           "diffuseInterior": false,
           "disableImpostor": false,
           "disablePicking": false,
           "flatShaded": false,
           "interiorColor": 2236962,
           "interiorDarkening": 0,
           "lazy": false,
           "matrix": {
            "elements": [
             1,
             0,
             0,
             0,
             0,
             1,
             0,
             0,
             0,
             0,
             1,
             0,
             0,
             0,
             0,
             1
            ]
           },
           "metalness": 0,
           "opacity": 1,
           "quality": "medium",
           "radiusData": {},
           "radiusScale": 0.5,
           "radiusSize": 1,
           "radiusType": "covalent",
           "roughness": 0.4,
           "sele": "all",
           "side": "double",
           "sphereDetail": 1,
           "useInteriorColor": true,
           "visible": true,
           "wireframe": false
          },
          "type": "spacefill"
         }
        }
       },
       "_ngl_serialize": false,
       "_ngl_version": "2.0.0-dev.36",
       "_ngl_view_id": [
        "6BBF3B39-2207-4EC0-AFE7-E83C4B1B633E"
       ],
       "_player_dict": {},
       "_scene_position": {},
       "_scene_rotation": {},
       "_synced_model_ids": [],
       "_synced_repr_model_ids": [],
       "_view_height": "",
       "_view_width": "",
       "background": "white",
       "frame": 100,
       "gui_style": null,
       "layout": "IPY_MODEL_70b79805fa9146729b65ff626d0fd4e1",
       "max_frame": 100,
       "n_components": 1,
       "picked": {}
      }
     },
     "eb0802c2c04c41629f9b9bcd28ff5ddf": {
      "model_module": "@jupyter-widgets/controls",
      "model_module_version": "1.5.0",
      "model_name": "PlayModel",
      "state": {
       "layout": "IPY_MODEL_77fb403c51b04165a8db6fce2ab65045",
       "style": "IPY_MODEL_f656f05040f840b09c31afe7e03c7c4d",
       "value": 100
      }
     },
     "eb1325c4494743c3b97e50761501fc48": {
      "model_module": "@jupyter-widgets/base",
      "model_module_version": "1.2.0",
      "model_name": "LayoutModel",
      "state": {
       "border": "0px solid black"
      }
     },
     "efd1634389be48c38545e7cb889ab6e3": {
      "model_module": "nglview-js-widgets",
      "model_module_version": "3.0.1",
      "model_name": "ColormakerRegistryModel",
      "state": {
       "_msg_ar": [],
       "_msg_q": [],
       "_ready": true,
       "layout": "IPY_MODEL_1252862787764b6a8c307ba01c345f31"
      }
     },
     "f4054517766d433c83ff45979c334938": {
      "model_module": "@jupyter-widgets/controls",
      "model_module_version": "1.5.0",
      "model_name": "SliderStyleModel",
      "state": {
       "description_width": ""
      }
     },
     "f656f05040f840b09c31afe7e03c7c4d": {
      "model_module": "@jupyter-widgets/controls",
      "model_module_version": "1.5.0",
      "model_name": "DescriptionStyleModel",
      "state": {
       "description_width": ""
      }
     },
     "f9579be0f7224db3bf4a73c85fbec1b0": {
      "model_module": "@jupyter-widgets/controls",
      "model_module_version": "1.5.0",
      "model_name": "FloatSliderModel",
      "state": {
       "description": "Charge scale",
       "layout": "IPY_MODEL_4b6bdacb4512412fbb97310538632141",
       "step": 0.1,
       "style": "IPY_MODEL_e552ee5c079b40d0aa18ce0e92c66810",
       "value": 1
      }
     }
    },
    "version_major": 2,
    "version_minor": 0
   }
  }
 },
 "nbformat": 4,
 "nbformat_minor": 5
}
