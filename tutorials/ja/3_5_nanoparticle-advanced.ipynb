{
 "cells": [
  {
   "cell_type": "markdown",
   "id": "cd01431d-dd73-43ba-8f2e-1869542bf503",
   "metadata": {},
   "source": [
    "# [Advanced] Nano particle energy\n",
    "\n",
    "本節は発展編の位置付けとします。次章へ急ぎたい方はスキップし、後から読んでいただいても構いません。\n",
    "\n",
    "本節では、Nano particle (クラスター構造) の過剰エネルギー(excess energy)計算と、担体上の吸着構造作成を行ってみます。"
   ]
  },
  {
   "cell_type": "code",
   "execution_count": 1,
   "id": "a3a40265-83ea-475a-a8f2-774af042f1f2",
   "metadata": {},
   "outputs": [
    {
     "data": {
      "application/vnd.jupyter.widget-view+json": {
       "model_id": "24847dce07254b8394bd0a5a7f953072",
       "version_major": 2,
       "version_minor": 0
      },
      "text/plain": []
     },
     "metadata": {},
     "output_type": "display_data"
    },
    {
     "name": "stdout",
     "output_type": "stream",
     "text": [
      "pfp_api_client: 1.18.0\n"
     ]
    }
   ],
   "source": [
    "import pfp_api_client\n",
    "from pfp_api_client.pfp.calculators.ase_calculator import ASECalculator\n",
    "from pfp_api_client.pfp.estimator import Estimator, EstimatorCalcMode\n",
    "from pfcc_extras.visualize.view import view_ngl\n",
    "\n",
    "\n",
    "print(f\"pfp_api_client: {pfp_api_client.__version__}\")\n",
    "\n",
    "estimator = Estimator(calc_mode=EstimatorCalcMode.CRYSTAL_U0, model_version=\"v3.0.0\")\n",
    "calculator = ASECalculator(estimator)"
   ]
  },
  {
   "cell_type": "code",
   "execution_count": 2,
   "id": "db071de7-fa97-487c-9ac4-ecc06e97290c",
   "metadata": {},
   "outputs": [],
   "source": [
    "from ase.cluster import Decahedron, Icosahedron, Octahedron, wulff_construction\n",
    "from ase import Atoms \n",
    "from ase.build import bulk\n",
    "from ase.constraints import ExpCellFilter, StrainFilter\n",
    "from ase.optimize import LBFGS\n",
    "from ase.io import Trajectory\n",
    "import numpy as np\n",
    "import pandas as pd"
   ]
  },
  {
   "cell_type": "markdown",
   "id": "bfc6c440-1802-4e86-a26e-c5bb36a95014",
   "metadata": {},
   "source": [
    "## 過剰エネルギー - Excess energy\n",
    "\n",
    "純金属に1種類以上他の元素を混ぜた材料を**合金 (alloy)** と呼びますが、\n",
    "金属は2種類以上の元素を組み合わせることで、その性質を大きく変化させるようなものがあります。\n",
    "\n",
    "例えば、アルミニウムと銅やマグネシウムを混ぜた、[ジュラルミン](https://ja.wikipedia.org/wiki/%E3%82%B8%E3%83%A5%E3%83%A9%E3%83%AB%E3%83%9F%E3%83%B3)はその軽くて硬い性質から航空宇宙機器などに使われています。\n",
    "\n",
    "2種類の元素が混ざったものを2元系合金、3種類以上の元素が混ざったものは多元系合金と呼ばれます。\n",
    "\n",
    "多元系合金は、新たな性質を持つような材料の発見も期待されていますが、\n",
    "元素の種類が増えるほどその組成比の組み合わせが大きくなり、まだまだ解析が進んでいない領域です。<br/>\n",
    "このような系も[Matlantis](https://matlantis.com)ではその汎用性を活かし、扱うことができます。\n",
    "\n",
    "\n",
    "こういった合金の原子構造を考える際には、現実ではどのように混ざるのか、そもそもきれいに混ざることができる組み合わせなのかを知る必要があります。\n",
    "\n",
    "このような合金の安定度合いを測る指標として、過剰エネルギー(excess energy)があります。<br/>\n",
    "元素Aと元素Bを混ぜた2元系合金 (alloy)の過剰エネルギー(excess energy)は以下のように計算され、その合金のエネルギーが、元素A, Bがそれぞれ混ざっていなかった場合と比べてどのくらい安定かを示します。\n",
    "\n",
    "$$ E_{\\rm{excess}} = \\frac{1}{N_{\\rm{alloy}}} \\left( E_{\\rm{alloy}} - \\frac{N_{\\rm{alloyA}}}{N_{\\rm{alloy}}} E_{\\rm{A}} - \\frac{N_{\\rm{alloyB}}}{N_{\\rm{alloy}}} E_{\\rm{B}} \\right) $$\n",
    "\n",
    "$E_{\\rm{alloy}}$が合金のエネルギー、$E_\\rm{A}, E_\\rm{B}$ は単原子AまたはBで構成された時のエネルギーで、$N_{\\rm{alloy}}, N_{\\rm{alloyA}}, N_{\\rm{alloyB}}$はそれぞれ合金のすべての原子数、元素Aの原子数、元素Bの原子数です。\n",
    "\n",
    "多元系の場合も同様に定義できます。"
   ]
  },
  {
   "cell_type": "markdown",
   "id": "dbb2e20d-479d-4a86-b665-f7535fbb1047",
   "metadata": {},
   "source": [
    "ここでは、PtとPdを混ぜた構造に対して、excess energyを評価することでその安定性を評価してみましょう。\n",
    "\n",
    "参考文献:\n",
    "\n",
    " - [Electronic Structure and Phase Stability of PdPt Nanoparticles](https://pubs.acs.org/doi/10.1021/acs.jpclett.5b02753)\n",
    " - [Electronic structure and phase stability of Pt3M (M = Co, Ni, and Cu) bimetallic nanoparticles](https://www.sciencedirect.com/science/article/abs/pii/S0927025620303657)\n",
    " - [Calculations of Real-System Nanoparticles Using Universal Neural Network Potential PFP](https://arxiv.org/abs/2107.00963)\n",
    "\n",
    "Pt711 Nano particleに対して、Pdを混ぜた構造に対して、\n",
    "2元系のNano particleを考えた場合にもその混ざり方は様々な可能性が考えられます。\n",
    "\n",
    "今回は以下のような構造を作成し、そのexcess energyを評価してみます。\n",
    "\n",
    " - PtとPdが均等に混ざる形で存在する構造\n",
    " - Ptが内殻に、Pdが外殻に存在する構造\n",
    " - Pdが内殻に、Ptが外殻に存在する構造\n",
    "\n",
    "Core shell構造を作成する関数定義です。読み飛ばしていただいて構いません。"
   ]
  },
  {
   "cell_type": "code",
   "execution_count": 3,
   "id": "b35b0343-99e1-49b2-b8aa-af9354d81f70",
   "metadata": {},
   "outputs": [],
   "source": [
    "from typing import List, Tuple\n",
    "\n",
    "from ase import Atoms, neighborlist\n",
    "from ase.cluster import Cluster\n",
    "import numpy as np\n",
    "from ase.data import atomic_numbers\n",
    "\n",
    "\n",
    "def cluster2atoms(cluster: Cluster) -> Atoms:\n",
    "    \"\"\"Convert ASE Cluster to ASE Atoms\n",
    "\n",
    "    Args:\n",
    "        cluster (Cluster): input cluster instance\n",
    "\n",
    "    Returns:\n",
    "        atoms (Atoms): converted output, atoms instance\n",
    "    \"\"\"\n",
    "    return Atoms(cluster.symbols, cluster.positions, cell=cluster.cell)\n",
    "\n",
    "\n",
    "def calc_coordination_numbers(atoms: Atoms) -> Tuple[List[int], List[np.ndarray]]:\n",
    "    \"\"\"Calculates coordination number\n",
    "\n",
    "    Args:\n",
    "        atoms: input atoms\n",
    "\n",
    "    Returns:\n",
    "        cns (list): coordination number for each atom\n",
    "        bonds (list): bond destination indices for each atom\n",
    "    \"\"\"\n",
    "    nl = neighborlist.NeighborList(\n",
    "        neighborlist.natural_cutoffs(atoms), self_interaction=False, bothways=True\n",
    "    )\n",
    "    nl.update(atoms)\n",
    "    bonds = []\n",
    "    cns = []\n",
    "    for i, _ in enumerate(atoms):\n",
    "        indices, offsets = nl.get_neighbors(i)\n",
    "        bonds.append(indices)\n",
    "        cns.append(len(indices))\n",
    "    return cns, bonds\n",
    "\n",
    "\n",
    "def substitute(scaffold: Atoms, sites: np.ndarray, elements: List[str]) -> Atoms:\n",
    "    \"\"\"Substibute `elements` to `sites` indices of `scaffold` atoms\n",
    "\n",
    "    Args:\n",
    "        scaffold (Atoms): Original input atoms\n",
    "        sites (np.ndarray): site indices to substitute `elements`\n",
    "        elements (list): elements to be substituted\n",
    "\n",
    "    Returns:\n",
    "        substituted (Atoms): substituted ase atoms\n",
    "    \"\"\"\n",
    "    substituted = scaffold.copy()\n",
    "    for site, element in zip(sites, elements):\n",
    "        substituted.numbers[site] = atomic_numbers[element]\n",
    "    return substituted\n",
    "\n",
    "\n",
    "def make_core_shell(scaffold: Atoms, element: str) -> Atoms:\n",
    "    \"\"\"Make core shell structure\n",
    "\n",
    "    Input `scaffold` element is kept inside core shell,\n",
    "    and outside surface is replaced by `element`.\n",
    "\n",
    "    Note that it is not fully tested.\n",
    "    It was not guaranteed to work on all the cases.\n",
    "\n",
    "    Args:\n",
    "        scaffold (Atoms): input cluster structure\n",
    "        element (str): outside surface element to be replaced\n",
    "\n",
    "    Returns:\n",
    "        coreshell (Atoms): core shell structure\n",
    "    \"\"\"\n",
    "    # CN : vertex < edge < surface < core\n",
    "    cn = np.array(calc_coordination_numbers(scaffold)[0])\n",
    "    cn_set = np.unique(cn)\n",
    "    vertexes = None\n",
    "    surfaces = None\n",
    "    cores = None\n",
    "    if len(cn_set) == 1:\n",
    "        pass\n",
    "    elif len(cn_set) == 2:\n",
    "        cores = np.where(cn == cn_set[1])[0]\n",
    "        surfaces = np.where(cn == cn_set[0])[0]\n",
    "    elif len(cn_set) == 3 or len(cn_set) == 4:\n",
    "        cores = np.where(cn == cn_set[-1])[0]\n",
    "        surfaces = np.where(cn != cn_set[-1])[0]\n",
    "        vertexes = np.where(cn == cn_set[0])[0]\n",
    "    else:\n",
    "        cores = np.where(cn == cn_set[-1])[0]\n",
    "        surfaces = np.where(cn != cn_set[-1])[0]\n",
    "        vertexes = np.where(np.isin(cn, cn_set[:-3]))[0]\n",
    "\n",
    "    if surfaces is None:\n",
    "        core_shell = scaffold.copy()\n",
    "    else:\n",
    "        core_shell = substitute(scaffold, surfaces, [element] * len(surfaces))\n",
    "    return core_shell\n"
   ]
  },
  {
   "cell_type": "markdown",
   "id": "230ed68f-bc0e-465f-a152-9dc9b6e7054a",
   "metadata": {},
   "source": [
    "まず今回ベースとなるNano particle 骨格構造(scaffold)を作成します。"
   ]
  },
  {
   "cell_type": "code",
   "execution_count": 4,
   "id": "55c88c08-3fe9-40b6-9043-78f92b012ad3",
   "metadata": {},
   "outputs": [
    {
     "data": {
      "application/vnd.jupyter.widget-view+json": {
       "model_id": "2e7e0dcbf960473f95cadac4c2b7b229",
       "version_major": 2,
       "version_minor": 0
      },
      "text/plain": [
       "HBox(children=(NGLWidget(), VBox(children=(Dropdown(description='Show', options=('All', 'Pt'), value='All'), D…"
      ]
     },
     "metadata": {},
     "output_type": "display_data"
    }
   ],
   "source": [
    "Pt711 = cluster2atoms(Octahedron(\"Pt\", 11, cutoff=4))\n",
    "view_ngl(Pt711)"
   ]
  },
  {
   "cell_type": "markdown",
   "id": "0dfa98d8-1d3d-451c-8d46-c3a37500c557",
   "metadata": {},
   "source": [
    "`make_core_shell` 関数を用いて、ベース骨格の内殻のみ \"Pd\" 元素に置き換えた構造 Pd306Pt405構造を作成します。"
   ]
  },
  {
   "cell_type": "code",
   "execution_count": 5,
   "id": "330171a2-0833-494f-9b02-8f003d04fc59",
   "metadata": {},
   "outputs": [
    {
     "data": {
      "application/vnd.jupyter.widget-view+json": {
       "model_id": "9ecc91dd71104015a6278484ce42d8e9",
       "version_major": 2,
       "version_minor": 0
      },
      "text/plain": [
       "HBox(children=(NGLWidget(), VBox(children=(Dropdown(description='Show', options=('All', 'Pt', 'Pd'), value='Al…"
      ]
     },
     "metadata": {},
     "output_type": "display_data"
    }
   ],
   "source": [
    "Pd306Pt405 = make_core_shell(Pt711, \"Pd\")\n",
    "view_ngl(Pd306Pt405)"
   ]
  },
  {
   "cell_type": "markdown",
   "id": "2b3de24a-def3-4072-a19e-89782ef6a080",
   "metadata": {},
   "source": [
    "同様にして、外殻がPd, 内殻がPtとなる構造Pd405Pt306を作成します。"
   ]
  },
  {
   "cell_type": "code",
   "execution_count": 6,
   "id": "f40ffc29-c04c-4311-b72f-07866d4b19a1",
   "metadata": {},
   "outputs": [
    {
     "data": {
      "application/vnd.jupyter.widget-view+json": {
       "model_id": "01719d4aa42649aab33bca6fbf26ec15",
       "version_major": 2,
       "version_minor": 0
      },
      "text/plain": [
       "HBox(children=(NGLWidget(), VBox(children=(Dropdown(description='Show', options=('All', 'Pt', 'Pd'), value='Al…"
      ]
     },
     "metadata": {},
     "output_type": "display_data"
    }
   ],
   "source": [
    "Pd711 = Octahedron(\"Pd\", 11, cutoff=4)\n",
    "Pd405Pt306 = make_core_shell(Pd711, \"Pt\")\n",
    "view_ngl(Pd405Pt306)"
   ]
  },
  {
   "cell_type": "code",
   "execution_count": 7,
   "id": "7ef9ddca-7fa1-484f-bddb-426ecff2d6b6",
   "metadata": {},
   "outputs": [
    {
     "name": "stdout",
     "output_type": "stream",
     "text": [
      "Pd405Pt306 structure contains ['Pd' 'Pt'] with counts [405 306]\n",
      "Pd306Pt405 structure contains ['Pd' 'Pt'] with counts [306 405]\n"
     ]
    }
   ],
   "source": [
    "symbols, counts = np.unique(Pd405Pt306.symbols, return_counts=True)\n",
    "print(f\"Pd405Pt306 structure contains {symbols} with counts {counts}\", )\n",
    "\n",
    "symbols, counts = np.unique(Pd306Pt405.symbols, return_counts=True)\n",
    "print(f\"Pd306Pt405 structure contains {symbols} with counts {counts}\", )"
   ]
  },
  {
   "cell_type": "markdown",
   "id": "a5ca254c-1965-4b75-ac98-a80b43e29004",
   "metadata": {},
   "source": [
    "ここで得られたそれぞれの構造を構造緩和し、エネルギーを求めます。"
   ]
  },
  {
   "cell_type": "code",
   "execution_count": 8,
   "id": "b9492e73-a2e2-4f2b-bdde-068377671d25",
   "metadata": {},
   "outputs": [],
   "source": [
    "from ase.optimize import FIRE\n",
    "\n",
    "def get_opt_energy(atoms, fmax=0.001):    \n",
    "    opt = FIRE(atoms)\n",
    "    opt.run(fmax=fmax)\n",
    "    return atoms.get_total_energy()"
   ]
  },
  {
   "cell_type": "code",
   "execution_count": 9,
   "id": "76e73a50-242e-4b7b-8961-e6d27286a096",
   "metadata": {},
   "outputs": [
    {
     "name": "stdout",
     "output_type": "stream",
     "text": [
      "Optimizing Pt711\n",
      "      Step     Time          Energy          fmax\n",
      "FIRE:    0 14:25:30    -3603.041877        1.106293\n",
      "FIRE:    1 14:25:30    -3604.082400        1.049765\n",
      "FIRE:    2 14:25:30    -3605.848908        0.930611\n",
      "FIRE:    3 14:25:31    -3607.346101        0.799823\n",
      "FIRE:    4 14:25:31    -3608.623109        0.664005\n",
      "FIRE:    5 14:25:31    -3609.736314        0.532733\n",
      "FIRE:    6 14:25:31    -3610.729497        0.414364\n",
      "FIRE:    7 14:25:31    -3611.628875        0.354905\n",
      "FIRE:    8 14:25:31    -3612.448010        0.343606\n",
      "FIRE:    9 14:25:31    -3613.188483        0.317494\n",
      "FIRE:   10 14:25:31    -3613.846765        0.266917\n",
      "FIRE:   11 14:25:31    -3614.426036        0.212701\n",
      "FIRE:   12 14:25:31    -3614.932004        0.218558\n",
      "FIRE:   13 14:25:31    -3615.370187        0.212221\n",
      "FIRE:   14 14:25:31    -3615.739076        0.193992\n",
      "FIRE:   15 14:25:31    -3616.044967        0.167131\n",
      "FIRE:   16 14:25:32    -3616.294819        0.138940\n",
      "FIRE:   17 14:25:32    -3616.482616        0.118548\n",
      "FIRE:   18 14:25:32    -3616.616606        0.126510\n",
      "FIRE:   19 14:25:32    -3616.718223        0.123149\n",
      "FIRE:   20 14:25:32    -3616.799659        0.123320\n",
      "FIRE:   21 14:25:32    -3616.856451        0.149213\n",
      "FIRE:   22 14:25:32    -3616.886184        0.136264\n",
      "FIRE:   23 14:25:32    -3616.960276        0.079333\n",
      "FIRE:   24 14:25:32    -3617.037810        0.082584\n",
      "FIRE:   25 14:25:32    -3617.108626        0.058447\n",
      "FIRE:   26 14:25:32    -3617.152649        0.069872\n",
      "FIRE:   27 14:25:32    -3617.175519        0.058664\n",
      "FIRE:   28 14:25:32    -3617.185417        0.052176\n",
      "FIRE:   29 14:25:33    -3617.189734        0.045037\n",
      "FIRE:   30 14:25:33    -3617.197330        0.037567\n",
      "FIRE:   31 14:25:33    -3617.206121        0.034813\n",
      "FIRE:   32 14:25:33    -3617.214139        0.035938\n",
      "FIRE:   33 14:25:33    -3617.221831        0.033390\n",
      "FIRE:   34 14:25:33    -3617.228216        0.025663\n",
      "FIRE:   35 14:25:33    -3617.233478        0.023158\n",
      "FIRE:   36 14:25:33    -3617.238206        0.019954\n",
      "FIRE:   37 14:25:33    -3617.240954        0.015322\n",
      "FIRE:   38 14:25:33    -3617.242835        0.016681\n",
      "FIRE:   39 14:25:33    -3617.242636        0.015962\n",
      "FIRE:   40 14:25:33    -3617.243507        0.014847\n",
      "FIRE:   41 14:25:34    -3617.244221        0.013744\n",
      "FIRE:   42 14:25:34    -3617.245183        0.012737\n",
      "FIRE:   43 14:25:34    -3617.246162        0.011964\n",
      "FIRE:   44 14:25:34    -3617.247463        0.010721\n",
      "FIRE:   45 14:25:34    -3617.248033        0.009881\n",
      "FIRE:   46 14:25:34    -3617.248958        0.009811\n",
      "FIRE:   47 14:25:34    -3617.250371        0.008724\n",
      "FIRE:   48 14:25:34    -3617.251432        0.008885\n",
      "FIRE:   49 14:25:34    -3617.252173        0.008483\n",
      "FIRE:   50 14:25:34    -3617.253084        0.007743\n",
      "FIRE:   51 14:25:34    -3617.253663        0.006933\n",
      "FIRE:   52 14:25:34    -3617.254801        0.007572\n",
      "FIRE:   53 14:25:35    -3617.255755        0.006551\n",
      "FIRE:   54 14:25:35    -3617.257078        0.006670\n",
      "FIRE:   55 14:25:35    -3617.258328        0.005623\n",
      "FIRE:   56 14:25:35    -3617.258520        0.004660\n",
      "FIRE:   57 14:25:35    -3617.258338        0.005419\n",
      "FIRE:   58 14:25:35    -3617.258259        0.004716\n",
      "FIRE:   59 14:25:35    -3617.258837        0.003457\n",
      "FIRE:   60 14:25:35    -3617.258737        0.001949\n",
      "FIRE:   61 14:25:35    -3617.258360        0.002321\n",
      "FIRE:   62 14:25:35    -3617.258359        0.002217\n",
      "FIRE:   63 14:25:36    -3617.258826        0.002021\n",
      "FIRE:   64 14:25:36    -3617.258391        0.001418\n",
      "FIRE:   65 14:25:36    -3617.258426        0.002427\n",
      "FIRE:   66 14:25:36    -3617.258023        0.002294\n",
      "FIRE:   67 14:25:36    -3617.258018        0.002035\n",
      "FIRE:   68 14:25:36    -3617.258499        0.001678\n",
      "FIRE:   69 14:25:36    -3617.258468        0.001255\n",
      "FIRE:   70 14:25:36    -3617.258770        0.001222\n",
      "FIRE:   71 14:25:36    -3617.258111        0.001241\n",
      "FIRE:   72 14:25:36    -3617.258517        0.001201\n",
      "FIRE:   73 14:25:36    -3617.258467        0.001056\n",
      "FIRE:   74 14:25:36    -3617.258608        0.000792\n",
      "Optimizing Pd306Pt405\n",
      "      Step     Time          Energy          fmax\n",
      "FIRE:    0 14:25:37    -3128.362422        0.554781\n",
      "FIRE:    1 14:25:37    -3128.718133        0.519479\n",
      "FIRE:    2 14:25:37    -3129.327287        0.448112\n",
      "FIRE:    3 14:25:37    -3130.025151        0.342119\n",
      "FIRE:    4 14:25:37    -3130.656600        0.213162\n",
      "FIRE:    5 14:25:37    -3131.125038        0.239736\n",
      "FIRE:    6 14:25:37    -3131.516222        0.300291\n",
      "FIRE:    7 14:25:37    -3131.877282        0.281049\n",
      "FIRE:    8 14:25:37    -3132.205099        0.190794\n",
      "FIRE:    9 14:25:37    -3132.466972        0.137278\n",
      "FIRE:   10 14:25:37    -3132.647158        0.160543\n",
      "FIRE:   11 14:25:37    -3132.767802        0.139157\n",
      "FIRE:   12 14:25:38    -3132.856732        0.138932\n",
      "FIRE:   13 14:25:38    -3132.915044        0.116241\n",
      "FIRE:   14 14:25:38    -3132.932396        0.107701\n",
      "FIRE:   15 14:25:38    -3132.953113        0.096480\n",
      "FIRE:   16 14:25:38    -3132.987904        0.080990\n",
      "FIRE:   17 14:25:38    -3133.025092        0.068376\n",
      "FIRE:   18 14:25:38    -3133.057638        0.056209\n",
      "FIRE:   19 14:25:38    -3133.083733        0.060529\n",
      "FIRE:   20 14:25:38    -3133.105666        0.063915\n",
      "FIRE:   21 14:25:38    -3133.124318        0.066711\n",
      "FIRE:   22 14:25:38    -3133.140353        0.067630\n",
      "FIRE:   23 14:25:38    -3133.150510        0.053313\n",
      "FIRE:   24 14:25:39    -3133.154367        0.034847\n",
      "FIRE:   25 14:25:39    -3133.155419        0.033043\n",
      "FIRE:   26 14:25:39    -3133.157375        0.029604\n",
      "FIRE:   27 14:25:39    -3133.160142        0.024925\n",
      "FIRE:   28 14:25:39    -3133.163324        0.023466\n",
      "FIRE:   29 14:25:39    -3133.166159        0.022205\n",
      "FIRE:   30 14:25:39    -3133.168810        0.020751\n",
      "FIRE:   31 14:25:39    -3133.171326        0.021625\n",
      "FIRE:   32 14:25:39    -3133.173944        0.022589\n",
      "FIRE:   33 14:25:39    -3133.176931        0.022479\n",
      "FIRE:   34 14:25:39    -3133.179845        0.021033\n",
      "FIRE:   35 14:25:39    -3133.182463        0.018295\n",
      "FIRE:   36 14:25:40    -3133.184520        0.014787\n",
      "FIRE:   37 14:25:40    -3133.186816        0.013854\n",
      "FIRE:   38 14:25:40    -3133.188659        0.014411\n",
      "FIRE:   39 14:25:40    -3133.191965        0.013155\n",
      "FIRE:   40 14:25:40    -3133.195140        0.013690\n",
      "FIRE:   41 14:25:40    -3133.197633        0.014567\n",
      "FIRE:   42 14:25:40    -3133.200278        0.016927\n",
      "FIRE:   43 14:25:40    -3133.201178        0.012301\n",
      "FIRE:   44 14:25:40    -3133.201493        0.010042\n",
      "FIRE:   45 14:25:40    -3133.201860        0.009081\n",
      "FIRE:   46 14:25:40    -3133.202039        0.007727\n",
      "FIRE:   47 14:25:41    -3133.202015        0.006072\n",
      "FIRE:   48 14:25:41    -3133.202341        0.006020\n",
      "FIRE:   49 14:25:41    -3133.202135        0.005921\n",
      "FIRE:   50 14:25:41    -3133.202026        0.005769\n",
      "FIRE:   51 14:25:41    -3133.202030        0.005554\n",
      "FIRE:   52 14:25:41    -3133.202192        0.005277\n",
      "FIRE:   53 14:25:41    -3133.202097        0.004928\n",
      "FIRE:   54 14:25:41    -3133.201711        0.004488\n",
      "FIRE:   55 14:25:41    -3133.201993        0.003916\n",
      "FIRE:   56 14:25:41    -3133.202221        0.003203\n",
      "FIRE:   57 14:25:41    -3133.202351        0.002568\n",
      "FIRE:   58 14:25:42    -3133.201891        0.002143\n",
      "FIRE:   59 14:25:42    -3133.202030        0.001219\n",
      "FIRE:   60 14:25:42    -3133.202281        0.000738\n",
      "Optimizing Pd405Pt306\n",
      "      Step     Time          Energy          fmax\n",
      "FIRE:    0 14:25:42    -2921.182322        0.808428\n",
      "FIRE:    1 14:25:42    -2922.173551        0.778165\n",
      "FIRE:    2 14:25:42    -2923.798310        0.717436\n",
      "FIRE:    3 14:25:42    -2925.164911        0.649386\n",
      "FIRE:    4 14:25:42    -2926.294831        0.574657\n",
      "FIRE:    5 14:25:42    -2927.257897        0.494829\n",
      "FIRE:    6 14:25:42    -2928.103585        0.412738\n",
      "FIRE:    7 14:25:42    -2928.859962        0.331024\n",
      "FIRE:    8 14:25:43    -2929.541733        0.273011\n",
      "FIRE:    9 14:25:43    -2930.148465        0.215194\n",
      "FIRE:   10 14:25:43    -2930.679256        0.194757\n",
      "FIRE:   11 14:25:43    -2931.135037        0.185401\n",
      "FIRE:   12 14:25:43    -2931.522678        0.173530\n",
      "FIRE:   13 14:25:43    -2931.850095        0.156303\n",
      "FIRE:   14 14:25:43    -2932.122774        0.138360\n",
      "FIRE:   15 14:25:43    -2932.342372        0.125447\n",
      "FIRE:   16 14:25:43    -2932.513091        0.119323\n",
      "FIRE:   17 14:25:43    -2932.643051        0.123406\n",
      "FIRE:   18 14:25:43    -2932.741551        0.109909\n",
      "FIRE:   19 14:25:43    -2932.812201        0.103340\n",
      "FIRE:   20 14:25:43    -2932.859174        0.117370\n",
      "FIRE:   21 14:25:44    -2932.887554        0.109580\n",
      "FIRE:   22 14:25:44    -2932.943548        0.083614\n",
      "FIRE:   23 14:25:44    -2933.016410        0.066704\n",
      "FIRE:   24 14:25:44    -2933.083822        0.061939\n",
      "FIRE:   25 14:25:44    -2933.140639        0.048594\n",
      "FIRE:   26 14:25:44    -2933.176532        0.042659\n",
      "FIRE:   27 14:25:44    -2933.193233        0.042365\n",
      "FIRE:   28 14:25:44    -2933.196132        0.038131\n",
      "FIRE:   29 14:25:44    -2933.200875        0.030508\n",
      "FIRE:   30 14:25:44    -2933.206880        0.029938\n",
      "FIRE:   31 14:25:44    -2933.212638        0.029914\n",
      "FIRE:   32 14:25:44    -2933.218642        0.029287\n",
      "FIRE:   33 14:25:45    -2933.223844        0.027860\n",
      "FIRE:   34 14:25:45    -2933.228650        0.025587\n",
      "FIRE:   35 14:25:45    -2933.233940        0.022231\n",
      "FIRE:   36 14:25:45    -2933.238736        0.017898\n",
      "FIRE:   37 14:25:45    -2933.242426        0.017854\n",
      "FIRE:   38 14:25:45    -2933.247045        0.022313\n",
      "FIRE:   39 14:25:45    -2933.251806        0.020310\n",
      "FIRE:   40 14:25:45    -2933.257739        0.015348\n",
      "FIRE:   41 14:25:45    -2933.262457        0.019001\n",
      "FIRE:   42 14:25:45    -2933.266097        0.017250\n",
      "FIRE:   43 14:25:45    -2933.267625        0.009698\n",
      "FIRE:   44 14:25:45    -2933.267971        0.008436\n",
      "FIRE:   45 14:25:46    -2933.268189        0.006457\n",
      "FIRE:   46 14:25:46    -2933.268305        0.004922\n",
      "FIRE:   47 14:25:46    -2933.268735        0.004740\n",
      "FIRE:   48 14:25:46    -2933.268920        0.005340\n",
      "FIRE:   49 14:25:46    -2933.268624        0.005050\n",
      "FIRE:   50 14:25:46    -2933.268842        0.003217\n",
      "FIRE:   51 14:25:46    -2933.268917        0.002606\n",
      "FIRE:   52 14:25:46    -2933.268878        0.002534\n",
      "FIRE:   53 14:25:46    -2933.268976        0.002397\n",
      "FIRE:   54 14:25:46    -2933.268877        0.002198\n",
      "FIRE:   55 14:25:46    -2933.269080        0.001950\n",
      "FIRE:   56 14:25:46    -2933.269169        0.001671\n",
      "FIRE:   57 14:25:46    -2933.269039        0.001550\n",
      "FIRE:   58 14:25:47    -2933.269291        0.001497\n",
      "FIRE:   59 14:25:47    -2933.268987        0.001398\n",
      "FIRE:   60 14:25:47    -2933.269336        0.001188\n",
      "FIRE:   61 14:25:47    -2933.268870        0.000877\n",
      "Optimizing Pd711\n",
      "      Step     Time          Energy          fmax\n",
      "FIRE:    0 14:25:47    -2415.405054        0.344279\n",
      "FIRE:    1 14:25:47    -2415.612591        0.321856\n",
      "FIRE:    2 14:25:47    -2415.978145        0.280675\n",
      "FIRE:    3 14:25:47    -2416.425082        0.226757\n",
      "FIRE:    4 14:25:47    -2416.883060        0.175707\n",
      "FIRE:    5 14:25:47    -2417.313508        0.185636\n",
      "FIRE:    6 14:25:47    -2417.704039        0.198317\n",
      "FIRE:    7 14:25:47    -2418.041955        0.182545\n",
      "FIRE:    8 14:25:48    -2418.336226        0.144903\n",
      "FIRE:    9 14:25:48    -2418.583558        0.119375\n",
      "FIRE:   10 14:25:48    -2418.783487        0.127179\n",
      "FIRE:   11 14:25:48    -2418.940574        0.127709\n",
      "FIRE:   12 14:25:48    -2419.064533        0.106266\n",
      "FIRE:   13 14:25:48    -2419.160496        0.095096\n",
      "FIRE:   14 14:25:48    -2419.227396        0.089455\n",
      "FIRE:   15 14:25:48    -2419.261333        0.061273\n",
      "FIRE:   16 14:25:48    -2419.268015        0.080886\n",
      "FIRE:   17 14:25:48    -2419.278864        0.074140\n",
      "FIRE:   18 14:25:48    -2419.297003        0.061625\n",
      "FIRE:   19 14:25:48    -2419.317263        0.052965\n",
      "FIRE:   20 14:25:49    -2419.335995        0.046415\n",
      "FIRE:   21 14:25:49    -2419.352427        0.039599\n",
      "FIRE:   22 14:25:49    -2419.368013        0.039988\n",
      "FIRE:   23 14:25:49    -2419.382131        0.032588\n",
      "FIRE:   24 14:25:49    -2419.394424        0.022818\n",
      "FIRE:   25 14:25:49    -2419.401560        0.027586\n",
      "FIRE:   26 14:25:49    -2419.404850        0.032415\n",
      "FIRE:   27 14:25:49    -2419.405462        0.030809\n",
      "FIRE:   28 14:25:49    -2419.406825        0.027701\n",
      "FIRE:   29 14:25:49    -2419.408605        0.023284\n",
      "FIRE:   30 14:25:49    -2419.410039        0.017863\n",
      "FIRE:   31 14:25:49    -2419.411662        0.011849\n",
      "FIRE:   32 14:25:50    -2419.412526        0.012844\n",
      "FIRE:   33 14:25:50    -2419.413746        0.013750\n",
      "FIRE:   34 14:25:50    -2419.414922        0.013153\n",
      "FIRE:   35 14:25:50    -2419.415954        0.010720\n",
      "FIRE:   36 14:25:50    -2419.417527        0.009610\n",
      "FIRE:   37 14:25:50    -2419.419019        0.008786\n",
      "FIRE:   38 14:25:50    -2419.419910        0.011812\n",
      "FIRE:   39 14:25:50    -2419.420802        0.014921\n",
      "FIRE:   40 14:25:50    -2419.422039        0.014570\n",
      "FIRE:   41 14:25:50    -2419.422992        0.010232\n",
      "FIRE:   42 14:25:50    -2419.424597        0.010144\n",
      "FIRE:   43 14:25:50    -2419.425413        0.013389\n",
      "FIRE:   44 14:25:51    -2419.426064        0.008441\n",
      "FIRE:   45 14:25:51    -2419.426573        0.006695\n",
      "FIRE:   46 14:25:51    -2419.426851        0.005802\n",
      "FIRE:   47 14:25:51    -2419.426737        0.004154\n",
      "FIRE:   48 14:25:51    -2419.426926        0.002776\n",
      "FIRE:   49 14:25:51    -2419.426802        0.003845\n",
      "FIRE:   50 14:25:51    -2419.426893        0.004072\n",
      "FIRE:   51 14:25:51    -2419.426808        0.003231\n",
      "FIRE:   52 14:25:51    -2419.426638        0.002835\n",
      "FIRE:   53 14:25:51    -2419.426816        0.002023\n",
      "FIRE:   54 14:25:51    -2419.426782        0.001955\n",
      "FIRE:   55 14:25:51    -2419.426839        0.001820\n",
      "FIRE:   56 14:25:52    -2419.426599        0.001631\n",
      "FIRE:   57 14:25:52    -2419.426650        0.001392\n",
      "FIRE:   58 14:25:52    -2419.426818        0.001256\n",
      "FIRE:   59 14:25:52    -2419.426641        0.001145\n",
      "FIRE:   60 14:25:52    -2419.426832        0.000994\n"
     ]
    }
   ],
   "source": [
    "print(\"Optimizing Pt711\")\n",
    "Pt711.calc = calculator\n",
    "E_pt711 = get_opt_energy(Pt711)\n",
    "\n",
    "print(\"Optimizing Pd306Pt405\")\n",
    "Pd306Pt405.calc = calculator\n",
    "E_pd306pt405 = get_opt_energy(Pd306Pt405)\n",
    "\n",
    "print(\"Optimizing Pd405Pt306\")\n",
    "Pd405Pt306.calc = calculator\n",
    "E_pd405pt306 = get_opt_energy(Pd405Pt306)\n",
    "\n",
    "print(\"Optimizing Pd711\")\n",
    "Pd711.calc = calculator\n",
    "E_pd711 = get_opt_energy(Pd711)"
   ]
  },
  {
   "cell_type": "markdown",
   "id": "5a9b5512-21d7-4eba-943d-4b9020bedc39",
   "metadata": {},
   "source": [
    "それぞれのエネルギーが得られたので、ここからexcess energyを計算することができます。"
   ]
  },
  {
   "cell_type": "code",
   "execution_count": 10,
   "id": "15595dfe-28cd-4a43-8467-858ebb9af9ff",
   "metadata": {},
   "outputs": [
    {
     "name": "stdout",
     "output_type": "stream",
     "text": [
      "Excess energy of Pd306Pt405 = -44.26 meV\n",
      "Excess energy of Pd405Pt306 = 2.36 meV\n"
     ]
    }
   ],
   "source": [
    "E_exess_pd306pt405 = (E_pd306pt405 - 306 / 711 * E_pd711 - 405 / 711 * E_pt711) / 711\n",
    "E_exess_pd405pt306 = (E_pd405pt306 - 405 / 711 * E_pd711 - 306 / 711 * E_pt711) / 711\n",
    "\n",
    "print(f\"Excess energy of Pd306Pt405 = {E_exess_pd306pt405 * 1000:.2f} meV\")\n",
    "print(f\"Excess energy of Pd405Pt306 = {E_exess_pd405pt306 * 1000:.2f} meV\")"
   ]
  },
  {
   "cell_type": "markdown",
   "id": "6e5d3ea0-f646-4f8f-bad8-3ebd2145ca60",
   "metadata": {},
   "source": [
    "Excess energyが負となっているPd306Pt405は単独でPd, Pt nanoparticleが存在するよりも混合したほうが安定であるということを示唆しています。<br/>\n",
    "一方で正となっているPd405Pt306の構造はPd306Pt405と比べると不安定であることになります。\n",
    "\n",
    "この結果から、**PdとPtの合金微粒子では、Pdが外殻に来るような構造が自然界では安定して存在しそう**だという考察ができます。\n",
    "\n",
    "最後に、Pt306個、Pd405個がランダムに配置されたような構造のexcess energyを求めてみましょう。"
   ]
  },
  {
   "cell_type": "code",
   "execution_count": 11,
   "id": "3316d745-4a53-4a8d-b3c7-2715c09f7476",
   "metadata": {},
   "outputs": [
    {
     "name": "stdout",
     "output_type": "stream",
     "text": [
      "Replaced to Pd with indices [ 88 383 604  60 213 558 439  15 208 550 690 533 647 538  57 391  62 470\n",
      " 247  86 595 150 611 152 445 157 107  46 360 397 667 553 101 356 461 161\n",
      " 565 374 613 313 196 257 486 441  61 184 666 589 210 457 548 528 293 650\n",
      " 245 402 163 120 552 638 526  17 587 448 480 133 539 624 634 534  67 376\n",
      " 336 646 531  44  58  64 418 427 446 372 408 285 310 499 541 212 610 118\n",
      " 224 600 349 572 467 665 532 632 231 148 555 111 317 700 319  14  41 267\n",
      " 509 709 272 517  29 454 401 657 617 394 506  37 567  78 692 159 508  98\n",
      " 234 264 294 282 518 269  72 116  77 671 601  42 703 237 414 415 117 471\n",
      " 635  19 549 661   5  87  32  59 529 428 154 633 171 626 686 619 645 503\n",
      " 223 384 484 288 707 122 579 299 382 674 256 469 684 597 195 320  45 689\n",
      " 103 468 186 584 498 425 492 289 102  16 225 476  92 697  90 404 325 515\n",
      " 370 491 475 433 708 463 227 193 114 450 119 483 295 411 590 644 165 276\n",
      " 424 511 527 578 367 343 543 413 592 281 365 191 581 173  91 232 417 652\n",
      " 357 400 561 177 451 393 189 649 149  93 302 551 421 573 344 147 131 609\n",
      " 250 698 341  10 409 138 390 710 301 192  31   1 440  95  76 437 333  27\n",
      " 473  69 520 110 348 694 460  13 570  53  39 221 335 362 524 323 389 190\n",
      " 434 183 239 438 535 386 479 599 672 197 435 673  96 621 347 172 207 121\n",
      " 259 571 487 304 238 478 472 585 436 366 180 662 622 412 554 569 691 337\n",
      " 494  94 388 658 387 396 643 512 220 203 125 327 373 380  80  18 194 676\n",
      " 254 504 249 405 277 615 166 655  12  75 678 660 513 530 326 462 465 605\n",
      " 230 132 606   0 216  28 577 410  51  84 168 185 537 135 458 354 240 582\n",
      " 322 182 648 395 640 429 704 236 311 685 206 219 432 309 426 268 140 594\n",
      " 115 431 464  85 144 359  40 695 544]\n"
     ]
    },
    {
     "data": {
      "application/vnd.jupyter.widget-view+json": {
       "model_id": "dbe51e60fef6479ebe6882595b70f91d",
       "version_major": 2,
       "version_minor": 0
      },
      "text/plain": [
       "HBox(children=(NGLWidget(), VBox(children=(Dropdown(description='Show', options=('All', 'Pt', 'Pd'), value='Al…"
      ]
     },
     "metadata": {},
     "output_type": "display_data"
    }
   ],
   "source": [
    "Pd405Pt306_random = Pt711.copy()\n",
    "# randomly choose 405 atoms to be replaced to Pd\n",
    "pd_indices = np.random.choice(np.arange(711), 405, replace=False)\n",
    "Pd405Pt306_random.numbers[pd_indices] = atomic_numbers[\"Pd\"]\n",
    "\n",
    "print(f\"Replaced to Pd with indices {pd_indices}\")\n",
    "view_ngl(Pd405Pt306_random)"
   ]
  },
  {
   "cell_type": "code",
   "execution_count": 12,
   "id": "633e53d9-ebe4-4c5a-8451-e0071228fda7",
   "metadata": {},
   "outputs": [
    {
     "name": "stdout",
     "output_type": "stream",
     "text": [
      "Optimizing Pd405Pt306_random\n",
      "      Step     Time          Energy          fmax\n",
      "FIRE:    0 14:25:52    -2951.506716        0.765766\n",
      "FIRE:    1 14:25:52    -2951.937831        0.733224\n",
      "FIRE:    2 14:25:52    -2952.682443        0.667993\n",
      "FIRE:    3 14:25:52    -2953.554715        0.569734\n",
      "FIRE:    4 14:25:52    -2954.299787        0.458146\n",
      "FIRE:    5 14:25:53    -2954.871782        0.369099\n",
      "FIRE:    6 14:25:53    -2955.320882        0.339895\n",
      "FIRE:    7 14:25:53    -2955.682170        0.324078\n",
      "FIRE:    8 14:25:53    -2955.974359        0.271887\n",
      "FIRE:    9 14:25:53    -2956.200539        0.226704\n",
      "FIRE:   10 14:25:53    -2956.364708        0.242435\n",
      "FIRE:   11 14:25:53    -2956.480267        0.212748\n",
      "FIRE:   12 14:25:53    -2956.566103        0.179629\n",
      "FIRE:   13 14:25:53    -2956.634076        0.154079\n",
      "FIRE:   14 14:25:53    -2956.685258        0.179475\n",
      "FIRE:   15 14:25:53    -2956.714649        0.171600\n",
      "FIRE:   16 14:25:54    -2956.765927        0.156315\n",
      "FIRE:   17 14:25:54    -2956.826483        0.143411\n",
      "FIRE:   18 14:25:54    -2956.885088        0.131068\n",
      "FIRE:   19 14:25:54    -2956.934194        0.116116\n",
      "FIRE:   20 14:25:54    -2956.971764        0.098397\n",
      "FIRE:   21 14:25:54    -2956.998637        0.077978\n",
      "FIRE:   22 14:25:54    -2957.016904        0.065541\n",
      "FIRE:   23 14:25:54    -2957.025704        0.072795\n",
      "FIRE:   24 14:25:54    -2957.027288        0.068062\n",
      "FIRE:   25 14:25:54    -2957.029893        0.059009\n",
      "FIRE:   26 14:25:54    -2957.033506        0.057342\n",
      "FIRE:   27 14:25:54    -2957.037790        0.055508\n",
      "FIRE:   28 14:25:54    -2957.042373        0.053160\n",
      "FIRE:   29 14:25:55    -2957.046964        0.050259\n",
      "FIRE:   30 14:25:55    -2957.051590        0.046763\n",
      "FIRE:   31 14:25:55    -2957.056268        0.042200\n",
      "FIRE:   32 14:25:55    -2957.060866        0.036376\n",
      "FIRE:   33 14:25:55    -2957.065366        0.029223\n",
      "FIRE:   34 14:25:55    -2957.069577        0.023238\n",
      "FIRE:   35 14:25:55    -2957.073891        0.022994\n",
      "FIRE:   36 14:25:55    -2957.077929        0.029810\n",
      "FIRE:   37 14:25:55    -2957.083078        0.028504\n",
      "FIRE:   38 14:25:55    -2957.088568        0.025424\n",
      "FIRE:   39 14:25:55    -2957.094616        0.023899\n",
      "FIRE:   40 14:25:55    -2957.100662        0.023016\n",
      "FIRE:   41 14:25:56    -2957.106078        0.014227\n",
      "FIRE:   42 14:25:56    -2957.109012        0.022076\n",
      "FIRE:   43 14:25:56    -2957.109576        0.016555\n",
      "FIRE:   44 14:25:56    -2957.109881        0.015553\n",
      "FIRE:   45 14:25:56    -2957.110283        0.013603\n",
      "FIRE:   46 14:25:56    -2957.110980        0.010819\n",
      "FIRE:   47 14:25:56    -2957.111612        0.007799\n",
      "FIRE:   48 14:25:56    -2957.111975        0.006767\n",
      "FIRE:   49 14:25:56    -2957.112346        0.006141\n",
      "FIRE:   50 14:25:56    -2957.112639        0.007015\n",
      "FIRE:   51 14:25:56    -2957.112887        0.009040\n",
      "FIRE:   52 14:25:57    -2957.113054        0.009885\n",
      "FIRE:   53 14:25:57    -2957.113349        0.010308\n",
      "FIRE:   54 14:25:57    -2957.113711        0.009055\n",
      "FIRE:   55 14:25:57    -2957.114145        0.006029\n",
      "FIRE:   56 14:25:57    -2957.114571        0.004789\n",
      "FIRE:   57 14:25:57    -2957.114860        0.003731\n",
      "FIRE:   58 14:25:57    -2957.114938        0.005924\n",
      "FIRE:   59 14:25:57    -2957.114904        0.005552\n",
      "FIRE:   60 14:25:57    -2957.114833        0.004836\n",
      "FIRE:   61 14:25:57    -2957.115067        0.003832\n",
      "FIRE:   62 14:25:57    -2957.115302        0.003199\n",
      "FIRE:   63 14:25:57    -2957.115327        0.003109\n",
      "FIRE:   64 14:25:58    -2957.115367        0.003030\n",
      "FIRE:   65 14:25:58    -2957.115489        0.002909\n",
      "FIRE:   66 14:25:58    -2957.115461        0.002807\n",
      "FIRE:   67 14:25:58    -2957.115612        0.002987\n",
      "FIRE:   68 14:25:58    -2957.115709        0.003293\n",
      "FIRE:   69 14:25:58    -2957.115815        0.003012\n",
      "FIRE:   70 14:25:58    -2957.115845        0.002345\n",
      "FIRE:   71 14:25:58    -2957.116003        0.001799\n",
      "FIRE:   72 14:25:58    -2957.116086        0.002503\n",
      "FIRE:   73 14:25:58    -2957.116224        0.002297\n",
      "FIRE:   74 14:25:58    -2957.116367        0.001981\n",
      "FIRE:   75 14:25:59    -2957.116417        0.001914\n",
      "FIRE:   76 14:25:59    -2957.116637        0.001993\n",
      "FIRE:   77 14:25:59    -2957.116764        0.002053\n",
      "FIRE:   78 14:25:59    -2957.116787        0.003677\n",
      "FIRE:   79 14:25:59    -2957.116837        0.001182\n",
      "FIRE:   80 14:25:59    -2957.116846        0.002599\n",
      "FIRE:   81 14:25:59    -2957.116755        0.002064\n",
      "FIRE:   82 14:25:59    -2957.116853        0.001125\n",
      "FIRE:   83 14:25:59    -2957.116860        0.000959\n"
     ]
    }
   ],
   "source": [
    "print(\"Optimizing Pd405Pt306_random\")\n",
    "Pd405Pt306_random.calc = calculator\n",
    "E_pd405pt306_random = get_opt_energy(Pd405Pt306_random)"
   ]
  },
  {
   "cell_type": "code",
   "execution_count": 13,
   "id": "4096ccbe-c1fc-4bcb-90dc-ac91d8f0b43d",
   "metadata": {},
   "outputs": [
    {
     "data": {
      "application/vnd.jupyter.widget-view+json": {
       "model_id": "5d5dd9e867b4476ab16513c96f3f6a86",
       "version_major": 2,
       "version_minor": 0
      },
      "text/plain": [
       "HBox(children=(NGLWidget(), VBox(children=(Dropdown(description='Show', options=('All', 'Pt', 'Pd'), value='Al…"
      ]
     },
     "metadata": {},
     "output_type": "display_data"
    }
   ],
   "source": [
    "view_ngl(Pd405Pt306_random)"
   ]
  },
  {
   "cell_type": "code",
   "execution_count": 14,
   "id": "a4baf5cc-348d-4a36-8e98-65e867ed9a0a",
   "metadata": {},
   "outputs": [
    {
     "name": "stdout",
     "output_type": "stream",
     "text": [
      "Excess energy of Pd306Pt405 random = -31.18 meV\n"
     ]
    }
   ],
   "source": [
    "E_exess_pd405pt306_random = (E_pd405pt306_random - 405 / 711 * E_pd711 - 306 / 711 * E_pt711) / 711\n",
    "\n",
    "print(f\"Excess energy of Pd306Pt405 random = {E_exess_pd405pt306_random * 1000:.2f} meV\")"
   ]
  },
  {
   "cell_type": "markdown",
   "id": "d8df60c7-bc5f-4cb5-9b54-98ab62ccf327",
   "metadata": {},
   "source": [
    "この場合も負のexcess energyが得られ、この構造が安定になりうるという結果が得られました。\n",
    "\n",
    "今回は完全にランダムな配置を行って構造を作成しましたが、実際は物質が混ざる場合には局所的にパターンを取ることでより安定な構造となる可能性もあります。\n",
    "こういった分析を進める場合はモンテカルロ法を用いて配置パターンを最適化するということがよく行われますがここでは省略します。<br/>\n",
    "（モンテカルロ法の説明及びその実例については将来後述されるかもしれません。）\n",
    "\n",
    "このように、様々な構造を作成し、そのexcess energyを計算することで合金の安定構造がどのようになるかを解析する事ができます。"
   ]
  },
  {
   "cell_type": "markdown",
   "id": "b067d85f-03dd-4a6f-9831-c0005f2c8ec1",
   "metadata": {},
   "source": [
    "## 担体上への微粒子吸着構造作成\n",
    "\n",
    "本チュートリアルでは、担体上に微粒子をおいたモデリングの簡単な計算事例を紹介するにとどめ、この構造の現実での妥当性検証までは行いません。\n",
    "\n",
    "ここでは、担持貴金属担体としてSnO2を、Nano particleとしてはPt を用いて、担体上へPt Nano particleを乗せた構造を作成してみます。\n",
    "\n",
    " - [The effect of SnO2(110) supports on the geometrical and electronic properties of platinum nanoparticles](https://link.springer.com/article/10.1007/s42452-019-1478-0)\n",
    " - [Calculations of Real-System Nanoparticles Using Universal Neural Network Potential PFP](https://arxiv.org/abs/2107.00963)"
   ]
  },
  {
   "cell_type": "code",
   "execution_count": 15,
   "id": "dfc34985-2994-4efb-ab5f-3a0f97682942",
   "metadata": {},
   "outputs": [
    {
     "data": {
      "application/vnd.jupyter.widget-view+json": {
       "model_id": "b90db3d38cec4dc3b4a05d34fda566ff",
       "version_major": 2,
       "version_minor": 0
      },
      "text/plain": [
       "HBox(children=(NGLWidget(), VBox(children=(Dropdown(description='Show', options=('All', 'O', 'Sn'), value='All…"
      ]
     },
     "metadata": {},
     "output_type": "display_data"
    }
   ],
   "source": [
    "# bulk, support material\n",
    "from ase.io import read\n",
    "SnO2 = read(\"../input/SnO2_mp-856_conventional_standard.cif\")\n",
    "view_ngl(SnO2, representations=[\"ball+stick\"])"
   ]
  },
  {
   "cell_type": "markdown",
   "id": "6fe00a54-a9f5-4c8b-a48f-2eb87ddf6b03",
   "metadata": {},
   "source": [
    "ここではSlab構造の作成(Bulkからの特定ミラー面の切り出し)にpymatgenの `SlabGenerator` を用いています。<br/>\n",
    "これは`SlabGenerator` のinstance化をする際の初期化パラメータとして作りたいSlab構造のパラメータを指定し、<br/>\n",
    "`get_slabs` 関数を呼ぶことで指定された初期化パラメータにマッチするSlab構造が列挙されて得られます。\n",
    "\n",
    " - [pymatgen document](https://pymatgen.org/pymatgen.core.surface.html#pymatgen.core.surface.SlabGenerator)\n",
    "\n",
    "詳しくは、以下のMaterials Project Workshopでも紹介されています。\n",
    "\n",
    " - [Working with Surfaces and Interfaces - The Materials Project Workshop](https://workshop.materialsproject.org/lessons/03_heterointerfaces/Main%20Lesson/)"
   ]
  },
  {
   "cell_type": "code",
   "execution_count": 16,
   "id": "0f189743-4631-482c-b73d-c64fa1cf5e56",
   "metadata": {},
   "outputs": [
    {
     "name": "stderr",
     "output_type": "stream",
     "text": [
      "/home/jovyan/.py39/lib/python3.9/site-packages/spglib/spglib.py:115: DeprecationWarning: dict interface (SpglibDataset['wyckoffs']) is deprecated.Use attribute interface ({self.__class__.__name__}.{key}) instead\n",
      "  warnings.warn(\n",
      "/home/jovyan/.py39/lib/python3.9/site-packages/spglib/spglib.py:115: DeprecationWarning: dict interface (SpglibDataset['equivalent_atoms']) is deprecated.Use attribute interface ({self.__class__.__name__}.{key}) instead\n",
      "  warnings.warn(\n"
     ]
    }
   ],
   "source": [
    "# Generate slab\n",
    "from ase.build import make_supercell\n",
    "import numpy as np\n",
    "from pymatgen.core.surface import SlabGenerator\n",
    "from pymatgen.io.ase import AseAtomsAdaptor\n",
    "\n",
    "\n",
    "slab_gen = SlabGenerator(\n",
    "    initial_structure=AseAtomsAdaptor.get_structure(SnO2),\n",
    "    miller_index=[1,1,0],\n",
    "    min_slab_size=5.0, # ここで層の出方が変わる\n",
    "    min_vacuum_size=15.0, # nanoparticleを載せるので大きめに\n",
    "    lll_reduce=False,\n",
    "    center_slab=True,\n",
    "    primitive=True,\n",
    "    max_normal_search=1,\n",
    ")\n",
    "slabs = slab_gen.get_slabs(tol=0.3, bonds=None, max_broken_bonds=0, symmetrize=False)"
   ]
  },
  {
   "cell_type": "markdown",
   "id": "47884c9e-1420-47e3-a6be-9551160d78a1",
   "metadata": {},
   "source": [
    "得られた `slabs` はpymatgenのinstanceです。これは、`AseAtomsAdaptor` を用いてASEの`Atoms` instanceに変換することができます。\n",
    "\n",
    "得られた構造をASE `Atoms`に変換して、可視化してみます。"
   ]
  },
  {
   "cell_type": "code",
   "execution_count": 17,
   "id": "8bf054c8-b66e-4c77-b9d7-4405ef45340b",
   "metadata": {},
   "outputs": [
    {
     "data": {
      "application/vnd.jupyter.widget-view+json": {
       "model_id": "4808352a3a4f45699c0d820bdac806a4",
       "version_major": 2,
       "version_minor": 0
      },
      "text/plain": [
       "HBox(children=(NGLWidget(max_frame=1), VBox(children=(Dropdown(description='Show', options=('All', 'O', 'Sn'),…"
      ]
     },
     "metadata": {},
     "output_type": "display_data"
    }
   ],
   "source": [
    "slab_atoms_list = [AseAtomsAdaptor.get_atoms(slab) for slab in slabs]\n",
    "view_ngl(slab_atoms_list, representations=[\"ball+stick\"])"
   ]
  },
  {
   "cell_type": "markdown",
   "id": "8bd49765-7b93-4e27-9e81-d783bd9a854b",
   "metadata": {},
   "source": [
    "２つの構造が得られました。\n",
    "\n",
    "以降では2つ目の構造を使用して、Slabを作成していきます。\n",
    "\n",
    "ASEでsupercellを作成した後、z軸方向に平行移動して一番下にある原子(Layer)の高さが0になるよう設定しています。"
   ]
  },
  {
   "cell_type": "code",
   "execution_count": 18,
   "id": "cfa67e8e-ed2b-42d6-b4e5-030e52ed792f",
   "metadata": {},
   "outputs": [],
   "source": [
    "slab = slab_atoms_list[1].copy()\n",
    "\n",
    "# make supercell: expand to xy-plane\n",
    "#slab = make_supercell(slab, [[4, 0, 0], [0, 2, 0], [0, 0, 1]])  # this is same with below.\n",
    "slab = slab * (4, 2, 1)\n",
    "\n",
    "# shift `slab` to bottom of cell\n",
    "min_pos_z = np.min(slab.positions, axis=0)[2]\n",
    "slab.set_positions(slab.positions - [0, 0, min_pos_z])"
   ]
  },
  {
   "cell_type": "code",
   "execution_count": 19,
   "id": "d3dd9896-3695-4a8c-b708-715ff818f596",
   "metadata": {},
   "outputs": [
    {
     "data": {
      "application/vnd.jupyter.widget-view+json": {
       "model_id": "537143d08ccd471b8786e833b422ac39",
       "version_major": 2,
       "version_minor": 0
      },
      "text/plain": [
       "HBox(children=(NGLWidget(), VBox(children=(Dropdown(description='Show', options=('All', 'O', 'Sn'), value='All…"
      ]
     },
     "metadata": {},
     "output_type": "display_data"
    }
   ],
   "source": [
    "view_ngl(slab, representations=[\"ball+stick\"], replace_structure=True)"
   ]
  },
  {
   "cell_type": "markdown",
   "id": "770dd3b5-ba42-4c81-b2bd-2c8785e805db",
   "metadata": {},
   "source": [
    "担体のSlab構造を作成することができました。\n",
    "\n",
    "次にこの担体上に乗せるNano particle clusterを作成します。"
   ]
  },
  {
   "cell_type": "code",
   "execution_count": 20,
   "id": "6d592569-6e1d-4596-a80e-d5470a3efce7",
   "metadata": {},
   "outputs": [],
   "source": [
    "Pt55 = Octahedron(\"Pt\", 5, cutoff=2)\n",
    "\n",
    "# cut cluster to make half-sphere\n",
    "cluster = Pt55.copy()\n",
    "# Rotate cluster to make triangle surface comes to top.\n",
    "cluster.rotate([0, 0, 1], [1, 1, 1], center=cluster.get_center_of_mass())\n",
    "# Cut bottom 2 layers\n",
    "for _ in range(2):\n",
    "    target = np.round(cluster.positions, decimals=0)\n",
    "    del cluster[np.where(target[:,2]==np.min(target[:,2]))[0]]"
   ]
  },
  {
   "cell_type": "code",
   "execution_count": 21,
   "id": "ba2f0a1b-25a9-48f4-a229-da44488c9326",
   "metadata": {},
   "outputs": [
    {
     "data": {
      "application/vnd.jupyter.widget-view+json": {
       "model_id": "85b9e899c49d4aa3bbe8bcbe227f5fde",
       "version_major": 2,
       "version_minor": 0
      },
      "text/plain": [
       "HBox(children=(NGLWidget(), VBox(children=(Dropdown(description='Show', options=('All', 'Pt'), value='All'), D…"
      ]
     },
     "metadata": {},
     "output_type": "display_data"
    }
   ],
   "source": [
    "view_ngl(cluster, representations=[\"ball+stick\"])"
   ]
  },
  {
   "cell_type": "markdown",
   "id": "88110961-4932-4b53-adb1-3dce6acd1df2",
   "metadata": {},
   "source": [
    "Nano particle clusterを担体の上に乗せましょう。\n",
    "\n",
    "ここでは、プログラムを書いて担体真ん中の上にNano particleを乗せていますが、\n",
    "5章で紹介する`SurfaceEditor`を用いると、InteractiveにNano particleを移動させて初期構造を作成することも可能です。"
   ]
  },
  {
   "cell_type": "code",
   "execution_count": 22,
   "id": "f527ccdd-55d6-4ce6-95df-6ecfb72d52a0",
   "metadata": {},
   "outputs": [
    {
     "name": "stdout",
     "output_type": "stream",
     "text": [
      "i=1\n",
      "i=2\n"
     ]
    }
   ],
   "source": [
    "from ase.data import atomic_numbers, chemical_symbols, covalent_radii\n",
    "\n",
    "\n",
    "# Put Pt37 on top of SnO2. Both perpendincular lines goes z-axis.\n",
    "slab_xy_size = np.min(slab.cell.cellpar()[0:2])\n",
    "cluster_xy_size = np.max(\n",
    "    (np.max(cluster.positions, axis=0) - np.min(cluster.positions, axis=0))[0:2]\n",
    ")\n",
    "# Vacuum size\n",
    "min_slab_xy_size = cluster_xy_size + 15\n",
    "for i in range(1, 5):\n",
    "    print(f\"i={i}\")\n",
    "    if slab_xy_size * i < min_slab_xy_size:\n",
    "        pass\n",
    "    else:\n",
    "        slab_sc = make_supercell(slab, [[i, 0, 0], [0, i, 0], [0, 0, 1]])\n",
    "        break\n",
    "slab_surface_xy_center = np.append(\n",
    "    slab_sc.cell.cellpar()[0:2] / 2, np.max(slab_sc.positions, axis=0)[2]\n",
    ")\n",
    "cluster_surface_xy_center = np.append(\n",
    "    np.mean(cluster.positions, axis=0)[0:2], np.min(cluster.positions, axis=0)[2]\n",
    ")\n",
    "cluster = Atoms(cluster.get_chemical_symbols(), cluster.positions - cluster_surface_xy_center)\n",
    "slab_surface_covalent_radii = covalent_radii[\n",
    "    slab_sc.get_atomic_numbers()[np.argmax(slab_sc.positions, axis=0)[2]]\n",
    "]\n",
    "cluster_surface_covalent_radii = covalent_radii[\n",
    "    cluster.get_atomic_numbers()[np.argmin(cluster.positions, axis=0)[2]]\n",
    "]\n",
    "cluster.translate(\n",
    "    slab_surface_xy_center + [0, 0, slab_surface_covalent_radii + cluster_surface_covalent_radii]\n",
    ")\n",
    "supported = slab_sc.copy()\n",
    "supported += cluster"
   ]
  },
  {
   "cell_type": "code",
   "execution_count": 23,
   "id": "0697fe68-b34a-4d65-86f2-be7b615d170c",
   "metadata": {},
   "outputs": [
    {
     "data": {
      "application/vnd.jupyter.widget-view+json": {
       "model_id": "be0a0e6d3a1c4eb5b407c977dd744e42",
       "version_major": 2,
       "version_minor": 0
      },
      "text/plain": [
       "HBox(children=(NGLWidget(), VBox(children=(Dropdown(description='Show', options=('All', 'Pt', 'O', 'Sn'), valu…"
      ]
     },
     "metadata": {},
     "output_type": "display_data"
    }
   ],
   "source": [
    "view_ngl(supported, representations=[\"ball+stick\"])"
   ]
  },
  {
   "cell_type": "code",
   "execution_count": 24,
   "id": "93d56f53-ae22-42ba-82d2-9945e39f77c3",
   "metadata": {},
   "outputs": [
    {
     "name": "stdout",
     "output_type": "stream",
     "text": [
      "pfp_api_client: 1.18.0\n",
      "      Step     Time          Energy          fmax\n",
      "FIRE:    0 14:26:01    -1860.090908        2.772337\n",
      "FIRE:    1 14:26:01    -1866.458219        2.345127\n",
      "FIRE:    2 14:26:01    -1871.904491        2.087904\n",
      "FIRE:    3 14:26:01    -1876.434687        2.025570\n",
      "FIRE:    4 14:26:01    -1880.091711        1.950061\n",
      "FIRE:    5 14:26:01    -1882.953197        1.859120\n",
      "FIRE:    6 14:26:01    -1885.147574        1.750495\n",
      "FIRE:    7 14:26:01    -1886.867187        1.622280\n",
      "FIRE:    8 14:26:01    -1888.359161        1.473233\n",
      "FIRE:    9 14:26:01    -1889.852359        1.404868\n",
      "FIRE:   10 14:26:01    -1891.473633        1.297790\n",
      "FIRE:   11 14:26:01    -1893.201802        1.075850\n",
      "FIRE:   12 14:26:02    -1894.905019        0.942317\n",
      "FIRE:   13 14:26:02    -1896.434131        0.936909\n",
      "FIRE:   14 14:26:02    -1897.707659        0.910064\n",
      "FIRE:   15 14:26:02    -1898.742466        0.862185\n",
      "FIRE:   16 14:26:02    -1899.634861        0.861930\n",
      "FIRE:   17 14:26:02    -1900.494820        0.963558\n",
      "FIRE:   18 14:26:02    -1901.381262        1.061127\n",
      "FIRE:   19 14:26:02    -1902.273342        1.143998\n",
      "FIRE:   20 14:26:02    -1903.099028        1.204080\n",
      "FIRE:   21 14:26:02    -1903.779864        1.239105\n",
      "FIRE:   22 14:26:02    -1904.287930        1.252026\n",
      "FIRE:   23 14:26:02    -1904.671582        1.193156\n",
      "FIRE:   24 14:26:02    -1905.006241        0.933255\n",
      "FIRE:   25 14:26:02    -1905.331652        0.708003\n",
      "FIRE:   26 14:26:02    -1905.632003        0.396677\n",
      "FIRE:   27 14:26:03    -1905.853795        0.348697\n",
      "FIRE:   28 14:26:03    -1905.981652        0.574539\n",
      "FIRE:   29 14:26:03    -1906.069442        0.972596\n",
      "FIRE:   30 14:26:03    -1906.185097        1.158863\n",
      "FIRE:   31 14:26:03    -1906.327633        1.032108\n",
      "FIRE:   32 14:26:03    -1906.441743        0.595610\n",
      "FIRE:   33 14:26:03    -1906.530182        0.583615\n",
      "FIRE:   34 14:26:03    -1906.646216        0.651942\n",
      "FIRE:   35 14:26:03    -1906.779208        0.521820\n",
      "FIRE:   36 14:26:03    -1906.857278        0.516498\n",
      "FIRE:   37 14:26:03    -1906.938751        0.604114\n",
      "FIRE:   38 14:26:03    -1906.936108        0.499259\n",
      "FIRE:   39 14:26:03    -1907.073790        0.219470\n",
      "FIRE:   40 14:26:03    -1907.089149        0.265532\n",
      "FIRE:   41 14:26:04    -1907.099471        0.222812\n",
      "FIRE:   42 14:26:04    -1907.114717        0.148420\n",
      "FIRE:   43 14:26:04    -1907.127346        0.094075\n",
      "FIRE:   44 14:26:04    -1907.133720        0.126109\n",
      "FIRE:   45 14:26:04    -1907.136501        0.181823\n",
      "FIRE:   46 14:26:04    -1907.141530        0.190427\n",
      "FIRE:   47 14:26:04    -1907.151441        0.153244\n",
      "FIRE:   48 14:26:04    -1907.166613        0.089478\n",
      "FIRE:   49 14:26:04    -1907.182458        0.082058\n",
      "FIRE:   50 14:26:04    -1907.193680        0.125017\n",
      "FIRE:   51 14:26:04    -1907.203037        0.123199\n",
      "FIRE:   52 14:26:04    -1907.216517        0.098550\n",
      "FIRE:   53 14:26:04    -1907.231361        0.102635\n",
      "FIRE:   54 14:26:04    -1907.241632        0.098295\n",
      "FIRE:   55 14:26:05    -1907.250636        0.081453\n",
      "FIRE:   56 14:26:05    -1907.262811        0.117063\n",
      "FIRE:   57 14:26:05    -1907.273459        0.085623\n",
      "FIRE:   58 14:26:05    -1907.286581        0.108768\n",
      "FIRE:   59 14:26:05    -1907.303755        0.094357\n",
      "FIRE:   60 14:26:05    -1907.324385        0.084778\n",
      "FIRE:   61 14:26:05    -1907.342073        0.129564\n",
      "FIRE:   62 14:26:05    -1907.366775        0.210234\n",
      "FIRE:   63 14:26:05    -1907.376727        0.090460\n",
      "FIRE:   64 14:26:05    -1907.376925        0.144653\n",
      "FIRE:   65 14:26:05    -1907.378877        0.113235\n",
      "FIRE:   66 14:26:05    -1907.381615        0.090670\n",
      "FIRE:   67 14:26:05    -1907.383712        0.090889\n",
      "FIRE:   68 14:26:05    -1907.384903        0.091418\n",
      "FIRE:   69 14:26:05    -1907.386135        0.103487\n",
      "FIRE:   70 14:26:05    -1907.388422        0.104706\n",
      "FIRE:   71 14:26:06    -1907.391927        0.096948\n",
      "FIRE:   72 14:26:06    -1907.396307        0.099185\n",
      "FIRE:   73 14:26:06    -1907.400288        0.101718\n",
      "FIRE:   74 14:26:06    -1907.404823        0.104522\n",
      "FIRE:   75 14:26:06    -1907.411394        0.107619\n",
      "FIRE:   76 14:26:06    -1907.419970        0.112768\n",
      "FIRE:   77 14:26:06    -1907.429382        0.120250\n",
      "FIRE:   78 14:26:06    -1907.442357        0.130297\n",
      "FIRE:   79 14:26:06    -1907.459655        0.146879\n",
      "FIRE:   80 14:26:06    -1907.482519        0.169491\n",
      "FIRE:   81 14:26:06    -1907.513447        0.199715\n",
      "FIRE:   82 14:26:06    -1907.554035        0.204859\n",
      "FIRE:   83 14:26:06    -1907.606618        0.217550\n",
      "FIRE:   84 14:26:06    -1907.673030        0.236763\n",
      "FIRE:   85 14:26:07    -1907.736135        0.176789\n",
      "FIRE:   86 14:26:07    -1907.758316        0.306274\n",
      "FIRE:   87 14:26:07    -1907.774721        0.207121\n",
      "FIRE:   88 14:26:07    -1907.775201        0.244971\n",
      "FIRE:   89 14:26:07    -1907.778715        0.189372\n",
      "FIRE:   90 14:26:07    -1907.783262        0.121422\n",
      "FIRE:   91 14:26:07    -1907.785674        0.106982\n",
      "FIRE:   92 14:26:07    -1907.785796        0.123431\n",
      "FIRE:   93 14:26:07    -1907.786062        0.116272\n",
      "FIRE:   94 14:26:07    -1907.786673        0.102399\n",
      "FIRE:   95 14:26:07    -1907.787429        0.094898\n",
      "FIRE:   96 14:26:07    -1907.788325        0.093130\n",
      "FIRE:   97 14:26:07    -1907.788986        0.090948\n",
      "FIRE:   98 14:26:07    -1907.789644        0.088366\n",
      "FIRE:   99 14:26:07    -1907.790372        0.085434\n",
      "FIRE:  100 14:26:08    -1907.791011        0.081900\n",
      "FIRE:  101 14:26:08    -1907.791864        0.077803\n",
      "FIRE:  102 14:26:08    -1907.792767        0.073164\n",
      "FIRE:  103 14:26:08    -1907.794271        0.068546\n",
      "FIRE:  104 14:26:08    -1907.796062        0.069537\n",
      "FIRE:  105 14:26:08    -1907.797949        0.070430\n",
      "FIRE:  106 14:26:08    -1907.799956        0.071095\n",
      "FIRE:  107 14:26:08    -1907.802252        0.071438\n",
      "FIRE:  108 14:26:08    -1907.805033        0.071406\n",
      "FIRE:  109 14:26:08    -1907.808316        0.071078\n",
      "FIRE:  110 14:26:08    -1907.811780        0.072608\n",
      "FIRE:  111 14:26:08    -1907.815622        0.073613\n",
      "FIRE:  112 14:26:08    -1907.820346        0.073447\n",
      "FIRE:  113 14:26:08    -1907.825377        0.071193\n",
      "FIRE:  114 14:26:08    -1907.831511        0.071082\n",
      "FIRE:  115 14:26:09    -1907.837697        0.069562\n",
      "FIRE:  116 14:26:09    -1907.844960        0.070838\n",
      "FIRE:  117 14:26:09    -1907.852505        0.070829\n",
      "FIRE:  118 14:26:09    -1907.859782        0.068965\n",
      "FIRE:  119 14:26:09    -1907.867469        0.068363\n",
      "FIRE:  120 14:26:09    -1907.875251        0.102928\n",
      "FIRE:  121 14:26:09    -1907.875899        0.209441\n",
      "FIRE:  122 14:26:09    -1907.883415        0.081490\n",
      "FIRE:  123 14:26:09    -1907.879635        0.182335\n",
      "FIRE:  124 14:26:09    -1907.881894        0.139073\n",
      "FIRE:  125 14:26:09    -1907.884525        0.062710\n",
      "FIRE:  126 14:26:09    -1907.885234        0.044130\n",
      "FIRE:  127 14:26:09    -1907.885276        0.044007\n",
      "FIRE:  128 14:26:09    -1907.885346        0.043749\n",
      "FIRE:  129 14:26:10    -1907.885507        0.043373\n",
      "FIRE:  130 14:26:10    -1907.885693        0.042876\n",
      "FIRE:  131 14:26:10    -1907.885731        0.042261\n",
      "FIRE:  132 14:26:10    -1907.885877        0.041530\n",
      "FIRE:  133 14:26:10    -1907.886004        0.040699\n",
      "FIRE:  134 14:26:10    -1907.886228        0.039678\n",
      "FIRE:  135 14:26:10    -1907.886437        0.038449\n",
      "FIRE:  136 14:26:10    -1907.886713        0.036993\n",
      "FIRE:  137 14:26:10    -1907.887086        0.035310\n",
      "FIRE:  138 14:26:10    -1907.887549        0.033379\n",
      "FIRE:  139 14:26:10    -1907.887874        0.031753\n",
      "FIRE:  140 14:26:10    -1907.888540        0.031262\n",
      "FIRE:  141 14:26:10    -1907.889055        0.031099\n",
      "FIRE:  142 14:26:10    -1907.889898        0.031420\n",
      "FIRE:  143 14:26:11    -1907.890641        0.032311\n",
      "FIRE:  144 14:26:11    -1907.891645        0.033755\n",
      "FIRE:  145 14:26:11    -1907.892700        0.035608\n",
      "FIRE:  146 14:26:11    -1907.893768        0.037698\n",
      "FIRE:  147 14:26:11    -1907.895272        0.039971\n",
      "FIRE:  148 14:26:11    -1907.896732        0.042451\n",
      "FIRE:  149 14:26:11    -1907.898633        0.044865\n",
      "FIRE:  150 14:26:11    -1907.900626        0.046492\n",
      "FIRE:  151 14:26:11    -1907.903095        0.046707\n",
      "FIRE:  152 14:26:11    -1907.906185        0.045647\n",
      "FIRE:  153 14:26:11    -1907.910242        0.044295\n",
      "FIRE:  154 14:26:11    -1907.915321        0.043031\n",
      "FIRE:  155 14:26:11    -1907.919890        0.111116\n",
      "FIRE:  156 14:26:12    -1907.903339        0.351716\n",
      "FIRE:  157 14:26:12    -1907.927347        0.092126\n",
      "FIRE:  158 14:26:12    -1907.928799        0.062258\n",
      "FIRE:  159 14:26:12    -1907.930066        0.034173\n",
      "FIRE:  160 14:26:12    -1907.929884        0.039012\n",
      "FIRE:  161 14:26:12    -1907.929892        0.035804\n",
      "FIRE:  162 14:26:12    -1907.929993        0.034914\n",
      "FIRE:  163 14:26:12    -1907.930285        0.034998\n",
      "FIRE:  164 14:26:12    -1907.930382        0.035114\n",
      "FIRE:  165 14:26:12    -1907.930585        0.035258\n",
      "FIRE:  166 14:26:12    -1907.930683        0.035434\n",
      "FIRE:  167 14:26:12    -1907.930846        0.035628\n",
      "FIRE:  168 14:26:12    -1907.930976        0.035857\n",
      "FIRE:  169 14:26:12    -1907.931140        0.036121\n",
      "FIRE:  170 14:26:13    -1907.931521        0.036421\n",
      "FIRE:  171 14:26:13    -1907.931827        0.036754\n",
      "FIRE:  172 14:26:13    -1907.932157        0.037118\n",
      "FIRE:  173 14:26:13    -1907.932683        0.037523\n",
      "FIRE:  174 14:26:13    -1907.933124        0.037940\n",
      "FIRE:  175 14:26:13    -1907.933843        0.038352\n",
      "FIRE:  176 14:26:13    -1907.934741        0.038720\n",
      "FIRE:  177 14:26:13    -1907.935671        0.038976\n",
      "FIRE:  178 14:26:13    -1907.936900        0.039007\n",
      "FIRE:  179 14:26:13    -1907.938319        0.038649\n",
      "FIRE:  180 14:26:13    -1907.939988        0.037674\n",
      "FIRE:  181 14:26:13    -1907.941833        0.035752\n",
      "FIRE:  182 14:26:13    -1907.944019        0.032470\n",
      "FIRE:  183 14:26:13    -1907.946171        0.027566\n",
      "FIRE:  184 14:26:14    -1907.948482        0.030197\n",
      "FIRE:  185 14:26:14    -1907.950556        0.021295\n",
      "FIRE:  186 14:26:14    -1907.952201        0.032205\n",
      "FIRE:  187 14:26:14    -1907.952747        0.073444\n",
      "FIRE:  188 14:26:14    -1907.954268        0.021003\n",
      "FIRE:  189 14:26:14    -1907.953358        0.063647\n",
      "FIRE:  190 14:26:14    -1907.953756        0.049090\n",
      "FIRE:  191 14:26:14    -1907.954271        0.023353\n",
      "FIRE:  192 14:26:14    -1907.954434        0.019450\n",
      "FIRE:  193 14:26:14    -1907.954569        0.019433\n",
      "FIRE:  194 14:26:14    -1907.954504        0.019395\n",
      "FIRE:  195 14:26:14    -1907.954539        0.019341\n",
      "FIRE:  196 14:26:14    -1907.954503        0.019271\n",
      "FIRE:  197 14:26:15    -1907.954638        0.019186\n",
      "FIRE:  198 14:26:15    -1907.954523        0.019087\n",
      "FIRE:  199 14:26:15    -1907.954515        0.018980\n",
      "FIRE:  200 14:26:15    -1907.954513        0.018846\n",
      "FIRE:  201 14:26:15    -1907.954575        0.018697\n",
      "FIRE:  202 14:26:15    -1907.954645        0.018528\n",
      "FIRE:  203 14:26:15    -1907.954701        0.018334\n",
      "FIRE:  204 14:26:15    -1907.954763        0.018124\n",
      "FIRE:  205 14:26:15    -1907.954869        0.017883\n",
      "FIRE:  206 14:26:15    -1907.954999        0.017609\n",
      "FIRE:  207 14:26:15    -1907.955124        0.017289\n",
      "FIRE:  208 14:26:15    -1907.955341        0.016922\n",
      "FIRE:  209 14:26:15    -1907.955377        0.016522\n",
      "FIRE:  210 14:26:15    -1907.955634        0.016077\n",
      "FIRE:  211 14:26:15    -1907.955862        0.015602\n",
      "FIRE:  212 14:26:16    -1907.956026        0.015067\n",
      "FIRE:  213 14:26:16    -1907.956399        0.014404\n",
      "FIRE:  214 14:26:16    -1907.956721        0.013535\n",
      "FIRE:  215 14:26:16    -1907.957169        0.012485\n",
      "FIRE:  216 14:26:16    -1907.957650        0.011294\n",
      "FIRE:  217 14:26:16    -1907.958229        0.011443\n",
      "FIRE:  218 14:26:16    -1907.958860        0.011535\n",
      "FIRE:  219 14:26:16    -1907.959676        0.011174\n",
      "FIRE:  220 14:26:16    -1907.960616        0.013063\n",
      "FIRE:  221 14:26:16    -1907.961210        0.039075\n",
      "FIRE:  222 14:26:16    -1907.961636        0.009395\n",
      "FIRE:  223 14:26:16    -1907.961405        0.034869\n",
      "FIRE:  224 14:26:16    -1907.961548        0.026539\n",
      "FIRE:  225 14:26:16    -1907.961745        0.011883\n",
      "FIRE:  226 14:26:16    -1907.961790        0.009261\n",
      "FIRE:  227 14:26:16    -1907.961785        0.009259\n",
      "FIRE:  228 14:26:17    -1907.961750        0.009257\n",
      "FIRE:  229 14:26:17    -1907.961771        0.009252\n",
      "FIRE:  230 14:26:17    -1907.961726        0.009241\n",
      "FIRE:  231 14:26:17    -1907.961767        0.009229\n",
      "FIRE:  232 14:26:17    -1907.961764        0.009219\n",
      "FIRE:  233 14:26:17    -1907.961763        0.009201\n",
      "FIRE:  234 14:26:17    -1907.961742        0.009192\n",
      "FIRE:  235 14:26:17    -1907.961817        0.009162\n",
      "FIRE:  236 14:26:17    -1907.961857        0.009132\n",
      "FIRE:  237 14:26:17    -1907.961880        0.009105\n",
      "FIRE:  238 14:26:17    -1907.961873        0.009060\n",
      "FIRE:  239 14:26:17    -1907.962030        0.009009\n",
      "FIRE:  240 14:26:17    -1907.962037        0.008956\n",
      "FIRE:  241 14:26:17    -1907.962013        0.008887\n",
      "FIRE:  242 14:26:17    -1907.962106        0.008910\n",
      "FIRE:  243 14:26:18    -1907.962219        0.008937\n",
      "FIRE:  244 14:26:18    -1907.962325        0.008967\n",
      "FIRE:  245 14:26:18    -1907.962489        0.009003\n",
      "FIRE:  246 14:26:18    -1907.962760        0.009210\n",
      "FIRE:  247 14:26:18    -1907.962874        0.009439\n",
      "FIRE:  248 14:26:18    -1907.963133        0.009635\n",
      "FIRE:  249 14:26:18    -1907.963391        0.009845\n",
      "FIRE:  250 14:26:18    -1907.963868        0.010076\n",
      "FIRE:  251 14:26:18    -1907.964118        0.010235\n",
      "FIRE:  252 14:26:18    -1907.964788        0.010394\n",
      "FIRE:  253 14:26:18    -1907.965359        0.010546\n",
      "FIRE:  254 14:26:18    -1907.966102        0.010584\n",
      "FIRE:  255 14:26:18    -1907.966770        0.032276\n",
      "FIRE:  256 14:26:19    -1907.965554        0.106832\n",
      "FIRE:  257 14:26:19    -1907.968037        0.021248\n",
      "FIRE:  258 14:26:19    -1907.968100        0.014734\n",
      "FIRE:  259 14:26:19    -1907.968221        0.010671\n",
      "FIRE:  260 14:26:19    -1907.968162        0.010570\n",
      "FIRE:  261 14:26:19    -1907.968148        0.010574\n",
      "FIRE:  262 14:26:19    -1907.968180        0.010581\n",
      "FIRE:  263 14:26:19    -1907.968214        0.010591\n",
      "FIRE:  264 14:26:19    -1907.968247        0.010603\n",
      "FIRE:  265 14:26:19    -1907.968283        0.010613\n",
      "FIRE:  266 14:26:19    -1907.968288        0.010629\n",
      "FIRE:  267 14:26:19    -1907.968246        0.010637\n",
      "FIRE:  268 14:26:19    -1907.968260        0.010641\n",
      "FIRE:  269 14:26:19    -1907.968378        0.010634\n",
      "FIRE:  270 14:26:20    -1907.968299        0.010622\n",
      "FIRE:  271 14:26:20    -1907.968359        0.010598\n",
      "FIRE:  272 14:26:20    -1907.968361        0.010566\n",
      "FIRE:  273 14:26:20    -1907.968438        0.010535\n",
      "FIRE:  274 14:26:20    -1907.968500        0.010508\n",
      "FIRE:  275 14:26:20    -1907.968538        0.010495\n",
      "FIRE:  276 14:26:20    -1907.968627        0.010490\n",
      "FIRE:  277 14:26:20    -1907.968849        0.010480\n",
      "FIRE:  278 14:26:20    -1907.968925        0.010454\n",
      "FIRE:  279 14:26:20    -1907.969011        0.010388\n",
      "FIRE:  280 14:26:20    -1907.969343        0.010366\n",
      "FIRE:  281 14:26:20    -1907.969564        0.010402\n",
      "FIRE:  282 14:26:20    -1907.969937        0.010453\n",
      "FIRE:  283 14:26:20    -1907.970304        0.010599\n",
      "FIRE:  284 14:26:20    -1907.970768        0.010807\n",
      "FIRE:  285 14:26:20    -1907.971429        0.011079\n",
      "FIRE:  286 14:26:21    -1907.972258        0.011439\n",
      "FIRE:  287 14:26:21    -1907.973033        0.013937\n",
      "FIRE:  288 14:26:21    -1907.973885        0.047231\n",
      "FIRE:  289 14:26:21    -1907.970801        0.153588\n",
      "FIRE:  290 14:26:21    -1907.975432        0.038165\n",
      "FIRE:  291 14:26:21    -1907.975606        0.026322\n",
      "FIRE:  292 14:26:21    -1907.975901        0.013462\n",
      "FIRE:  293 14:26:21    -1907.975759        0.014672\n",
      "FIRE:  294 14:26:21    -1907.975786        0.013496\n",
      "FIRE:  295 14:26:21    -1907.975843        0.013493\n",
      "FIRE:  296 14:26:21    -1907.975792        0.013493\n",
      "FIRE:  297 14:26:21    -1907.975917        0.013511\n",
      "FIRE:  298 14:26:22    -1907.975897        0.013516\n",
      "FIRE:  299 14:26:22    -1907.975984        0.013530\n",
      "FIRE:  300 14:26:22    -1907.975962        0.013551\n",
      "FIRE:  301 14:26:22    -1907.975902        0.013575\n",
      "FIRE:  302 14:26:22    -1907.975934        0.013606\n",
      "FIRE:  303 14:26:22    -1907.976034        0.013644\n",
      "FIRE:  304 14:26:22    -1907.976024        0.013682\n",
      "FIRE:  305 14:26:22    -1907.976115        0.013734\n",
      "FIRE:  306 14:26:22    -1907.976240        0.013803\n",
      "FIRE:  307 14:26:22    -1907.976387        0.013885\n",
      "FIRE:  308 14:26:22    -1907.976557        0.013981\n",
      "FIRE:  309 14:26:22    -1907.976569        0.014175\n",
      "FIRE:  310 14:26:22    -1907.976746        0.014503\n",
      "FIRE:  311 14:26:23    -1907.977103        0.014877\n",
      "FIRE:  312 14:26:23    -1907.977466        0.015331\n",
      "FIRE:  313 14:26:23    -1907.977719        0.015974\n",
      "FIRE:  314 14:26:23    -1907.978271        0.016913\n",
      "FIRE:  315 14:26:23    -1907.978816        0.018136\n",
      "FIRE:  316 14:26:23    -1907.979584        0.019708\n",
      "FIRE:  317 14:26:23    -1907.980664        0.022010\n",
      "FIRE:  318 14:26:23    -1907.981946        0.025254\n",
      "FIRE:  319 14:26:23    -1907.983866        0.029795\n",
      "FIRE:  320 14:26:23    -1907.986205        0.036769\n",
      "FIRE:  321 14:26:23    -1907.988527        0.084281\n",
      "FIRE:  322 14:26:23    -1907.978339        0.283086\n",
      "FIRE:  323 14:26:23    -1907.994095        0.082199\n",
      "FIRE:  324 14:26:24    -1907.995068        0.055828\n",
      "FIRE:  325 14:26:24    -1907.995934        0.056515\n",
      "FIRE:  326 14:26:24    -1907.995846        0.057388\n",
      "FIRE:  327 14:26:24    -1907.995934        0.057398\n",
      "FIRE:  328 14:26:24    -1907.996138        0.057426\n",
      "FIRE:  329 14:26:24    -1907.996158        0.057456\n",
      "FIRE:  330 14:26:24    -1907.996377        0.057517\n",
      "FIRE:  331 14:26:24    -1907.996554        0.057597\n",
      "FIRE:  332 14:26:24    -1907.996534        0.057718\n",
      "FIRE:  333 14:26:24    -1907.996706        0.057872\n",
      "FIRE:  334 14:26:24    -1907.996888        0.058088\n",
      "FIRE:  335 14:26:24    -1907.997189        0.058368\n",
      "FIRE:  336 14:26:24    -1907.997486        0.058706\n",
      "FIRE:  337 14:26:25    -1907.997822        0.059117\n",
      "FIRE:  338 14:26:25    -1907.998392        0.059581\n",
      "FIRE:  339 14:26:25    -1907.998924        0.060051\n",
      "FIRE:  340 14:26:25    -1907.999774        0.060477\n",
      "FIRE:  341 14:26:25    -1908.000681        0.060799\n",
      "FIRE:  342 14:26:25    -1908.001945        0.061015\n",
      "FIRE:  343 14:26:25    -1908.003300        0.061187\n",
      "FIRE:  344 14:26:25    -1908.005223        0.061500\n",
      "FIRE:  345 14:26:25    -1908.007627        0.062337\n",
      "FIRE:  346 14:26:25    -1908.010490        0.063982\n",
      "FIRE:  347 14:26:25    -1908.014161        0.065194\n",
      "FIRE:  348 14:26:25    -1908.018822        0.065593\n",
      "FIRE:  349 14:26:25    -1908.024674        0.065848\n",
      "FIRE:  350 14:26:25    -1908.032383        0.071611\n",
      "FIRE:  351 14:26:26    -1908.043108        0.081370\n",
      "FIRE:  352 14:26:26    -1908.059229        0.099618\n",
      "FIRE:  353 14:26:26    -1908.085400        0.125526\n",
      "FIRE:  354 14:26:26    -1908.128298        0.182419\n",
      "FIRE:  355 14:26:26    -1908.180454        0.373985\n",
      "FIRE:  356 14:26:26    -1908.106736        1.274011\n",
      "FIRE:  357 14:26:26    -1908.214616        0.751844\n",
      "FIRE:  358 14:26:26    -1908.251758        0.457676\n",
      "FIRE:  359 14:26:26    -1908.275850        0.205674\n",
      "FIRE:  360 14:26:26    -1908.264247        0.440378\n",
      "FIRE:  361 14:26:26    -1908.268350        0.396314\n",
      "FIRE:  362 14:26:26    -1908.274890        0.312673\n",
      "FIRE:  363 14:26:26    -1908.281906        0.199149\n",
      "FIRE:  364 14:26:26    -1908.287214        0.198479\n",
      "FIRE:  365 14:26:27    -1908.289617        0.197536\n",
      "FIRE:  366 14:26:27    -1908.290219        0.196310\n",
      "FIRE:  367 14:26:27    -1908.290522        0.196264\n",
      "FIRE:  368 14:26:27    -1908.290937        0.196180\n",
      "FIRE:  369 14:26:27    -1908.291633        0.196056\n",
      "FIRE:  370 14:26:27    -1908.292485        0.195878\n",
      "FIRE:  371 14:26:27    -1908.293428        0.195661\n",
      "FIRE:  372 14:26:27    -1908.294490        0.195394\n",
      "FIRE:  373 14:26:27    -1908.295602        0.195075\n",
      "FIRE:  374 14:26:27    -1908.296881        0.194659\n",
      "FIRE:  375 14:26:27    -1908.298290        0.194126\n",
      "FIRE:  376 14:26:27    -1908.299787        0.193421\n",
      "FIRE:  377 14:26:27    -1908.301511        0.192514\n",
      "FIRE:  378 14:26:27    -1908.303609        0.191339\n",
      "FIRE:  379 14:26:28    -1908.306390        0.189828\n",
      "FIRE:  380 14:26:28    -1908.309897        0.187863\n",
      "FIRE:  381 14:26:28    -1908.314358        0.185280\n",
      "FIRE:  382 14:26:28    -1908.319800        0.181847\n",
      "FIRE:  383 14:26:28    -1908.325967        0.177222\n",
      "FIRE:  384 14:26:28    -1908.333061        0.170962\n",
      "FIRE:  385 14:26:28    -1908.341416        0.162577\n",
      "FIRE:  386 14:26:28    -1908.351414        0.151517\n",
      "FIRE:  387 14:26:28    -1908.362455        0.137574\n",
      "FIRE:  388 14:26:28    -1908.374294        0.122055\n",
      "FIRE:  389 14:26:28    -1908.386829        0.108631\n",
      "FIRE:  390 14:26:28    -1908.399539        0.089955\n",
      "FIRE:  391 14:26:28    -1908.411355        0.103394\n",
      "FIRE:  392 14:26:28    -1908.422532        0.104505\n",
      "FIRE:  393 14:26:29    -1908.433075        0.125009\n",
      "FIRE:  394 14:26:29    -1908.444087        0.126238\n",
      "FIRE:  395 14:26:29    -1908.454284        0.113995\n",
      "FIRE:  396 14:26:29    -1908.463360        0.146129\n",
      "FIRE:  397 14:26:29    -1908.473144        0.132020\n",
      "FIRE:  398 14:26:29    -1908.485213        0.119345\n",
      "FIRE:  399 14:26:29    -1908.497222        0.089715\n",
      "FIRE:  400 14:26:29    -1908.495685        0.189681\n",
      "FIRE:  401 14:26:29    -1908.509126        0.075494\n",
      "FIRE:  402 14:26:29    -1908.509626        0.074013\n",
      "FIRE:  403 14:26:29    -1908.510447        0.071713\n",
      "FIRE:  404 14:26:29    -1908.511593        0.068479\n",
      "FIRE:  405 14:26:29    -1908.513175        0.064748\n",
      "FIRE:  406 14:26:29    -1908.514782        0.064082\n",
      "FIRE:  407 14:26:30    -1908.516520        0.063791\n",
      "FIRE:  408 14:26:30    -1908.518416        0.063679\n",
      "FIRE:  409 14:26:30    -1908.520556        0.063288\n",
      "FIRE:  410 14:26:30    -1908.522729        0.061866\n",
      "FIRE:  411 14:26:30    -1908.525179        0.058462\n",
      "FIRE:  412 14:26:30    -1908.527859        0.052075\n",
      "FIRE:  413 14:26:30    -1908.530710        0.046815\n",
      "FIRE:  414 14:26:30    -1908.533575        0.045756\n",
      "FIRE:  415 14:26:30    -1908.536343        0.050856\n",
      "FIRE:  416 14:26:30    -1908.539401        0.056004\n",
      "FIRE:  417 14:26:30    -1908.542811        0.057429\n",
      "FIRE:  418 14:26:30    -1908.546494        0.053774\n",
      "FIRE:  419 14:26:30    -1908.551103        0.056172\n",
      "FIRE:  420 14:26:31    -1908.556759        0.062229\n",
      "FIRE:  421 14:26:31    -1908.563898        0.072487\n",
      "FIRE:  422 14:26:31    -1908.570240        0.122885\n",
      "FIRE:  423 14:26:31    -1908.576926        0.088912\n",
      "FIRE:  424 14:26:31    -1908.573540        0.109395\n",
      "FIRE:  425 14:26:31    -1908.575864        0.088821\n",
      "FIRE:  426 14:26:31    -1908.578494        0.088961\n",
      "FIRE:  427 14:26:31    -1908.579285        0.089192\n",
      "FIRE:  428 14:26:31    -1908.579332        0.089220\n",
      "FIRE:  429 14:26:31    -1908.579549        0.089268\n",
      "FIRE:  430 14:26:31    -1908.579616        0.089343\n",
      "FIRE:  431 14:26:31    -1908.579873        0.089441\n",
      "FIRE:  432 14:26:31    -1908.580108        0.089568\n",
      "FIRE:  433 14:26:31    -1908.580386        0.089715\n",
      "FIRE:  434 14:26:32    -1908.580640        0.089887\n",
      "FIRE:  435 14:26:32    -1908.581140        0.090099\n",
      "FIRE:  436 14:26:32    -1908.581478        0.090356\n",
      "FIRE:  437 14:26:32    -1908.582087        0.090675\n",
      "FIRE:  438 14:26:32    -1908.582848        0.091054\n",
      "FIRE:  439 14:26:32    -1908.583857        0.091495\n",
      "FIRE:  440 14:26:32    -1908.584861        0.092006\n",
      "FIRE:  441 14:26:32    -1908.586272        0.092563\n",
      "FIRE:  442 14:26:32    -1908.587908        0.093115\n",
      "FIRE:  443 14:26:32    -1908.590173        0.093588\n",
      "FIRE:  444 14:26:32    -1908.592910        0.093827\n",
      "FIRE:  445 14:26:32    -1908.596140        0.093602\n",
      "FIRE:  446 14:26:32    -1908.600154        0.092631\n",
      "FIRE:  447 14:26:33    -1908.605071        0.090733\n",
      "FIRE:  448 14:26:33    -1908.611275        0.088377\n",
      "FIRE:  449 14:26:33    -1908.618847        0.087320\n",
      "FIRE:  450 14:26:33    -1908.626566        0.086153\n",
      "FIRE:  451 14:26:33    -1908.634591        0.072209\n",
      "FIRE:  452 14:26:33    -1908.642012        0.093389\n",
      "FIRE:  453 14:26:33    -1908.648773        0.084896\n",
      "FIRE:  454 14:26:33    -1908.656050        0.097475\n",
      "FIRE:  455 14:26:33    -1908.665150        0.074482\n",
      "FIRE:  456 14:26:33    -1908.676304        0.065448\n",
      "FIRE:  457 14:26:33    -1908.680114        0.138819\n",
      "FIRE:  458 14:26:33    -1908.684630        0.077553\n",
      "FIRE:  459 14:26:33    -1908.684990        0.072880\n",
      "FIRE:  460 14:26:33    -1908.685529        0.063982\n",
      "FIRE:  461 14:26:34    -1908.685962        0.051741\n",
      "FIRE:  462 14:26:34    -1908.686385        0.047074\n",
      "FIRE:  463 14:26:34    -1908.686924        0.046016\n",
      "FIRE:  464 14:26:34    -1908.687564        0.044806\n",
      "FIRE:  465 14:26:34    -1908.688107        0.043387\n",
      "FIRE:  466 14:26:34    -1908.688691        0.041506\n",
      "FIRE:  467 14:26:34    -1908.689294        0.039068\n",
      "FIRE:  468 14:26:34    -1908.689951        0.035876\n",
      "FIRE:  469 14:26:34    -1908.690712        0.031529\n",
      "FIRE:  470 14:26:34    -1908.691537        0.029724\n",
      "FIRE:  471 14:26:34    -1908.692464        0.024456\n",
      "FIRE:  472 14:26:34    -1908.693347        0.022876\n",
      "FIRE:  473 14:26:34    -1908.694072        0.022222\n",
      "FIRE:  474 14:26:34    -1908.694992        0.024558\n",
      "FIRE:  475 14:26:35    -1908.695936        0.024768\n",
      "FIRE:  476 14:26:35    -1908.696931        0.027556\n",
      "FIRE:  477 14:26:35    -1908.698152        0.035401\n",
      "FIRE:  478 14:26:35    -1908.699027        0.060521\n",
      "FIRE:  479 14:26:35    -1908.700084        0.032918\n",
      "FIRE:  480 14:26:35    -1908.699768        0.050698\n",
      "FIRE:  481 14:26:35    -1908.700056        0.038922\n",
      "FIRE:  482 14:26:35    -1908.700411        0.028242\n",
      "FIRE:  483 14:26:35    -1908.700504        0.027741\n",
      "FIRE:  484 14:26:35    -1908.700482        0.027706\n",
      "FIRE:  485 14:26:35    -1908.700628        0.027637\n",
      "FIRE:  486 14:26:35    -1908.700594        0.027536\n",
      "FIRE:  487 14:26:35    -1908.700687        0.027410\n",
      "FIRE:  488 14:26:35    -1908.700560        0.027245\n",
      "FIRE:  489 14:26:36    -1908.700652        0.027064\n",
      "FIRE:  490 14:26:36    -1908.700668        0.026856\n",
      "FIRE:  491 14:26:36    -1908.700673        0.026594\n",
      "FIRE:  492 14:26:36    -1908.700764        0.026282\n",
      "FIRE:  493 14:26:36    -1908.700902        0.025924\n",
      "FIRE:  494 14:26:36    -1908.700900        0.025510\n",
      "FIRE:  495 14:26:36    -1908.701139        0.025049\n",
      "FIRE:  496 14:26:36    -1908.701211        0.024556\n",
      "FIRE:  497 14:26:36    -1908.701374        0.024063\n",
      "FIRE:  498 14:26:36    -1908.701577        0.023588\n",
      "FIRE:  499 14:26:36    -1908.701869        0.023191\n",
      "FIRE:  500 14:26:36    -1908.702209        0.022947\n",
      "FIRE:  501 14:26:36    -1908.702658        0.022929\n",
      "FIRE:  502 14:26:37    -1908.703010        0.023199\n",
      "FIRE:  503 14:26:37    -1908.703624        0.023790\n",
      "FIRE:  504 14:26:37    -1908.704288        0.024679\n",
      "FIRE:  505 14:26:37    -1908.705014        0.025814\n",
      "FIRE:  506 14:26:37    -1908.706084        0.027119\n",
      "FIRE:  507 14:26:37    -1908.707476        0.028636\n",
      "FIRE:  508 14:26:37    -1908.709267        0.030362\n",
      "FIRE:  509 14:26:37    -1908.711647        0.032121\n",
      "FIRE:  510 14:26:37    -1908.714641        0.033637\n",
      "FIRE:  511 14:26:37    -1908.718775        0.034449\n",
      "FIRE:  512 14:26:37    -1908.723771        0.033630\n",
      "FIRE:  513 14:26:37    -1908.726074        0.111242\n",
      "FIRE:  514 14:26:37    -1908.730693        0.034417\n",
      "FIRE:  515 14:26:37    -1908.730951        0.034259\n",
      "FIRE:  516 14:26:37    -1908.730982        0.033959\n",
      "FIRE:  517 14:26:38    -1908.731140        0.033539\n",
      "FIRE:  518 14:26:38    -1908.731449        0.033273\n",
      "FIRE:  519 14:26:38    -1908.731705        0.033748\n",
      "FIRE:  520 14:26:38    -1908.732003        0.034146\n",
      "FIRE:  521 14:26:38    -1908.732525        0.034452\n",
      "FIRE:  522 14:26:38    -1908.732926        0.034594\n",
      "FIRE:  523 14:26:38    -1908.733572        0.034538\n",
      "FIRE:  524 14:26:38    -1908.734374        0.034447\n",
      "FIRE:  525 14:26:38    -1908.735452        0.035806\n",
      "FIRE:  526 14:26:38    -1908.736724        0.037682\n",
      "FIRE:  527 14:26:38    -1908.738355        0.040218\n",
      "FIRE:  528 14:26:38    -1908.740382        0.043755\n",
      "FIRE:  529 14:26:38    -1908.742864        0.048745\n",
      "FIRE:  530 14:26:38    -1908.746187        0.055600\n",
      "FIRE:  531 14:26:39    -1908.750613        0.063162\n",
      "FIRE:  532 14:26:39    -1908.756597        0.068666\n",
      "FIRE:  533 14:26:39    -1908.764814        0.077786\n",
      "FIRE:  534 14:26:39    -1908.776781        0.092138\n",
      "FIRE:  535 14:26:39    -1908.792466        0.110723\n",
      "FIRE:  536 14:26:39    -1908.782621        0.305921\n",
      "FIRE:  537 14:26:39    -1908.823143        0.129825\n",
      "FIRE:  538 14:26:39    -1908.825252        0.129040\n",
      "FIRE:  539 14:26:39    -1908.827705        0.127090\n",
      "FIRE:  540 14:26:39    -1908.828965        0.123385\n",
      "FIRE:  541 14:26:39    -1908.830038        0.118227\n",
      "FIRE:  542 14:26:39    -1908.832687        0.112908\n",
      "FIRE:  543 14:26:39    -1908.836650        0.108819\n",
      "FIRE:  544 14:26:40    -1908.840435        0.110200\n",
      "FIRE:  545 14:26:40    -1908.844176        0.111731\n",
      "FIRE:  546 14:26:40    -1908.849288        0.112822\n",
      "FIRE:  547 14:26:40    -1908.857171        0.119230\n",
      "FIRE:  548 14:26:40    -1908.865699        0.127668\n",
      "FIRE:  549 14:26:40    -1908.877264        0.133780\n",
      "FIRE:  550 14:26:40    -1908.893155        0.142806\n",
      "FIRE:  551 14:26:40    -1908.912650        0.158827\n",
      "FIRE:  552 14:26:40    -1908.939365        0.176322\n",
      "FIRE:  553 14:26:40    -1908.973295        0.191630\n",
      "FIRE:  554 14:26:40    -1909.015848        0.222644\n",
      "FIRE:  555 14:26:40    -1909.065900        0.188784\n",
      "FIRE:  556 14:26:40    -1909.109560        0.159869\n",
      "FIRE:  557 14:26:40    -1909.108238        0.410784\n",
      "FIRE:  558 14:26:41    -1909.131835        0.330241\n",
      "FIRE:  559 14:26:41    -1909.130883        0.195027\n",
      "FIRE:  560 14:26:41    -1909.136904        0.189601\n",
      "FIRE:  561 14:26:41    -1909.144041        0.178932\n",
      "FIRE:  562 14:26:41    -1909.147665        0.162918\n",
      "FIRE:  563 14:26:41    -1909.147364        0.142061\n",
      "FIRE:  564 14:26:41    -1909.148040        0.141207\n",
      "FIRE:  565 14:26:41    -1909.148888        0.139497\n",
      "FIRE:  566 14:26:41    -1909.150128        0.136931\n",
      "FIRE:  567 14:26:41    -1909.151465        0.133517\n",
      "FIRE:  568 14:26:41    -1909.152833        0.129241\n",
      "FIRE:  569 14:26:41    -1909.153904        0.124078\n",
      "FIRE:  570 14:26:41    -1909.154717        0.118087\n",
      "FIRE:  571 14:26:42    -1909.155598        0.110722\n",
      "FIRE:  572 14:26:42    -1909.156716        0.103327\n",
      "FIRE:  573 14:26:42    -1909.158246        0.101184\n",
      "FIRE:  574 14:26:42    -1909.160598        0.098630\n",
      "FIRE:  575 14:26:42    -1909.163340        0.095789\n",
      "FIRE:  576 14:26:42    -1909.165919        0.094306\n",
      "FIRE:  577 14:26:42    -1909.168518        0.091828\n",
      "FIRE:  578 14:26:42    -1909.171393        0.088093\n",
      "FIRE:  579 14:26:42    -1909.175036        0.083275\n",
      "FIRE:  580 14:26:42    -1909.178821        0.078375\n",
      "FIRE:  581 14:26:42    -1909.182339        0.077448\n",
      "FIRE:  582 14:26:42    -1909.186376        0.082618\n",
      "FIRE:  583 14:26:42    -1909.191082        0.086852\n",
      "FIRE:  584 14:26:42    -1909.195693        0.087227\n",
      "FIRE:  585 14:26:43    -1909.201293        0.082038\n",
      "FIRE:  586 14:26:43    -1909.207032        0.071967\n",
      "FIRE:  587 14:26:43    -1909.214190        0.075346\n",
      "FIRE:  588 14:26:43    -1909.221574        0.090704\n",
      "FIRE:  589 14:26:43    -1909.230259        0.088918\n",
      "FIRE:  590 14:26:43    -1909.239730        0.069651\n",
      "FIRE:  591 14:26:43    -1909.247007        0.078115\n",
      "FIRE:  592 14:26:43    -1909.247020        0.107810\n",
      "FIRE:  593 14:26:43    -1909.252657        0.061686\n",
      "FIRE:  594 14:26:43    -1909.249881        0.095057\n",
      "FIRE:  595 14:26:43    -1909.251759        0.071686\n",
      "FIRE:  596 14:26:43    -1909.253778        0.054739\n",
      "FIRE:  597 14:26:43    -1909.254357        0.053079\n",
      "FIRE:  598 14:26:44    -1909.254406        0.052961\n",
      "FIRE:  599 14:26:44    -1909.254511        0.052720\n",
      "FIRE:  600 14:26:44    -1909.254608        0.052368\n",
      "FIRE:  601 14:26:44    -1909.254624        0.051894\n",
      "FIRE:  602 14:26:44    -1909.254772        0.051300\n",
      "FIRE:  603 14:26:44    -1909.254987        0.050587\n",
      "FIRE:  604 14:26:44    -1909.255139        0.049758\n",
      "FIRE:  605 14:26:44    -1909.255188        0.048716\n",
      "FIRE:  606 14:26:44    -1909.255334        0.047422\n",
      "FIRE:  607 14:26:44    -1909.255668        0.045851\n",
      "FIRE:  608 14:26:44    -1909.255965        0.043949\n",
      "FIRE:  609 14:26:44    -1909.256352        0.041683\n",
      "FIRE:  610 14:26:44    -1909.256764        0.038982\n",
      "FIRE:  611 14:26:44    -1909.257135        0.035809\n",
      "FIRE:  612 14:26:45    -1909.257641        0.032162\n",
      "FIRE:  613 14:26:45    -1909.258257        0.028088\n",
      "FIRE:  614 14:26:45    -1909.258756        0.023664\n",
      "FIRE:  615 14:26:45    -1909.259346        0.020865\n",
      "FIRE:  616 14:26:45    -1909.260062        0.021286\n",
      "FIRE:  617 14:26:45    -1909.260701        0.021775\n",
      "FIRE:  618 14:26:45    -1909.261477        0.022444\n",
      "FIRE:  619 14:26:45    -1909.262288        0.023223\n",
      "FIRE:  620 14:26:45    -1909.263406        0.023696\n",
      "FIRE:  621 14:26:45    -1909.264471        0.023211\n",
      "FIRE:  622 14:26:45    -1909.265777        0.021326\n",
      "FIRE:  623 14:26:45    -1909.267241        0.017881\n",
      "FIRE:  624 14:26:45    -1909.268956        0.014549\n",
      "FIRE:  625 14:26:45    -1909.270531        0.013195\n",
      "FIRE:  626 14:26:46    -1909.271855        0.040027\n",
      "FIRE:  627 14:26:46    -1909.272439        0.017370\n",
      "FIRE:  628 14:26:46    -1909.271963        0.036472\n",
      "FIRE:  629 14:26:46    -1909.272224        0.027394\n",
      "FIRE:  630 14:26:46    -1909.272669        0.015755\n",
      "FIRE:  631 14:26:46    -1909.272765        0.015425\n",
      "FIRE:  632 14:26:46    -1909.272761        0.015401\n",
      "FIRE:  633 14:26:46    -1909.272713        0.015354\n",
      "FIRE:  634 14:26:46    -1909.272666        0.015286\n",
      "FIRE:  635 14:26:46    -1909.272686        0.015192\n",
      "FIRE:  636 14:26:46    -1909.272653        0.015075\n",
      "FIRE:  637 14:26:46    -1909.272705        0.014933\n",
      "FIRE:  638 14:26:46    -1909.272753        0.014768\n",
      "FIRE:  639 14:26:46    -1909.272772        0.014562\n",
      "FIRE:  640 14:26:47    -1909.272821        0.014310\n",
      "FIRE:  641 14:26:47    -1909.272937        0.014004\n",
      "FIRE:  642 14:26:47    -1909.272951        0.013635\n",
      "FIRE:  643 14:26:47    -1909.273063        0.013200\n",
      "FIRE:  644 14:26:47    -1909.273049        0.012687\n",
      "FIRE:  645 14:26:47    -1909.273187        0.012090\n",
      "FIRE:  646 14:26:47    -1909.273205        0.011408\n",
      "FIRE:  647 14:26:47    -1909.273360        0.010654\n",
      "FIRE:  648 14:26:47    -1909.273493        0.009839\n",
      "FIRE:  649 14:26:47    -1909.273645        0.009448\n",
      "FIRE:  650 14:26:47    -1909.273774        0.009143\n",
      "FIRE:  651 14:26:47    -1909.274060        0.009226\n",
      "FIRE:  652 14:26:47    -1909.274511        0.009522\n",
      "FIRE:  653 14:26:47    -1909.274690        0.009702\n",
      "FIRE:  654 14:26:48    -1909.275137        0.009696\n",
      "FIRE:  655 14:26:48    -1909.275554        0.009414\n",
      "FIRE:  656 14:26:48    -1909.276118        0.008817\n",
      "FIRE:  657 14:26:48    -1909.276683        0.007922\n",
      "FIRE:  658 14:26:48    -1909.277459        0.007380\n",
      "FIRE:  659 14:26:48    -1909.278042        0.018926\n",
      "FIRE:  660 14:26:48    -1909.277901        0.050066\n",
      "FIRE:  661 14:26:48    -1909.279029        0.008207\n",
      "FIRE:  662 14:26:48    -1909.279199        0.008181\n",
      "FIRE:  663 14:26:48    -1909.279092        0.008125\n",
      "FIRE:  664 14:26:48    -1909.279149        0.008042\n",
      "FIRE:  665 14:26:48    -1909.279203        0.007930\n",
      "FIRE:  666 14:26:48    -1909.279201        0.007800\n",
      "FIRE:  667 14:26:48    -1909.279200        0.007651\n",
      "FIRE:  668 14:26:48    -1909.279282        0.007488\n",
      "FIRE:  669 14:26:49    -1909.279400        0.007289\n",
      "FIRE:  670 14:26:49    -1909.279303        0.007056\n",
      "FIRE:  671 14:26:49    -1909.279451        0.006792\n",
      "FIRE:  672 14:26:49    -1909.279457        0.006500\n",
      "FIRE:  673 14:26:49    -1909.279639        0.006563\n",
      "FIRE:  674 14:26:49    -1909.279764        0.006704\n",
      "FIRE:  675 14:26:49    -1909.279777        0.006817\n",
      "FIRE:  676 14:26:49    -1909.279915        0.006871\n",
      "FIRE:  677 14:26:49    -1909.280137        0.006853\n",
      "FIRE:  678 14:26:49    -1909.280386        0.006734\n",
      "FIRE:  679 14:26:49    -1909.280773        0.006491\n",
      "FIRE:  680 14:26:49    -1909.281046        0.006146\n",
      "FIRE:  681 14:26:49    -1909.281335        0.005701\n",
      "FIRE:  682 14:26:50    -1909.281759        0.016009\n",
      "FIRE:  683 14:26:50    -1909.281137        0.048868\n",
      "FIRE:  684 14:26:50    -1909.282201        0.007326\n",
      "FIRE:  685 14:26:50    -1909.282181        0.005340\n",
      "FIRE:  686 14:26:50    -1909.282206        0.005321\n",
      "FIRE:  687 14:26:50    -1909.282202        0.005285\n",
      "FIRE:  688 14:26:50    -1909.282254        0.005241\n",
      "FIRE:  689 14:26:50    -1909.282235        0.005483\n",
      "FIRE:  690 14:26:50    -1909.282289        0.005129\n",
      "FIRE:  691 14:26:50    -1909.282408        0.005058\n",
      "FIRE:  692 14:26:50    -1909.282298        0.004974\n"
     ]
    }
   ],
   "source": [
    "import pfp_api_client\n",
    "from pfp_api_client.pfp.calculators.ase_calculator import ASECalculator\n",
    "from pfp_api_client.pfp.estimator import Estimator, EstimatorCalcMode\n",
    "from ase.optimize import BFGS, LBFGS, FIRE\n",
    "from ase.io import Trajectory\n",
    "print(f\"pfp_api_client: {pfp_api_client.__version__}\")\n",
    "\n",
    "estimator = Estimator(calc_mode=EstimatorCalcMode.CRYSTAL, model_version=\"v3.0.0\")\n",
    "calculator = ASECalculator(estimator)\n",
    "supported.calc = calculator\n",
    "traj = Trajectory(\"./SnO2_Pt119.traj\", \"w\", supported)\n",
    "opt = FIRE(supported)\n",
    "opt.attach(traj.write, interval=1)\n",
    "opt.run(fmax=0.005)\n",
    "traj.close()"
   ]
  },
  {
   "cell_type": "code",
   "execution_count": 25,
   "id": "cb7ac753-4acf-480e-b2c8-d41e03f5906a",
   "metadata": {},
   "outputs": [
    {
     "data": {
      "application/vnd.jupyter.widget-view+json": {
       "model_id": "0787f8598ad74086a38fce7854804c9f",
       "version_major": 2,
       "version_minor": 0
      },
      "text/plain": [
       "HBox(children=(NGLWidget(max_frame=692), VBox(children=(Dropdown(description='Show', options=('All', 'Pt', 'O'…"
      ]
     },
     "metadata": {},
     "output_type": "display_data"
    }
   ],
   "source": [
    "SnO2_Pt119 = Trajectory(\"./SnO2_Pt119.traj\")\n",
    "view_ngl(SnO2_Pt119, representations=[\"ball+stick\"])"
   ]
  },
  {
   "cell_type": "code",
   "execution_count": 26,
   "id": "13e1bbd9-bca8-4a1c-a204-a0ecef611871",
   "metadata": {},
   "outputs": [
    {
     "data": {
      "image/png": "[encoded data removed]",
      "text/plain": [
       "<Figure size 500x500 with 1 Axes>"
      ]
     },
     "metadata": {},
     "output_type": "display_data"
    }
   ],
   "source": [
    "from ase.io import write\n",
    "from IPython.display import Image\n",
    "import matplotlib.pyplot as plt\n",
    "import matplotlib.image as mpimg\n",
    "\n",
    "\n",
    "write(\"output/sno2_pt119_opt.png\", SnO2_Pt119[-1], rotation=\"-90x,0y,0z\")\n",
    "\n",
    "fig, ax = plt.subplots(1, 1, figsize=(5, 5))\n",
    "ax.imshow(mpimg.imread(\"output/sno2_pt119_opt.png\"))\n",
    "ax.set_axis_off()\n",
    "ax.set_title(\"SnO2 - Pt119 optimized structure\")\n",
    "fig.show()"
   ]
  },
  {
   "cell_type": "markdown",
   "id": "83547b85-e1a3-41bf-988d-34bd56b8568d",
   "metadata": {},
   "source": [
    "このように、担体上のNano particle 構造を作成することができました。\n",
    "\n",
    "ここで、論文で示されているようなchargeの可視化も可能です。<br/>\n",
    "Nano particleの吸着面に近いところでのみ電荷が０からずれていて、核の外側がプラスに、内側がマイナスになっていることが確認できます。"
   ]
  },
  {
   "cell_type": "code",
   "execution_count": 27,
   "id": "3c047057-c293-40a1-9b88-f8086b9b4006",
   "metadata": {},
   "outputs": [
    {
     "data": {
      "application/vnd.jupyter.widget-view+json": {
       "model_id": "2ee8d824799342c7982d7b2898a209d4",
       "version_major": 2,
       "version_minor": 0
      },
      "text/plain": [
       "HBox(children=(NGLWidget(), VBox(children=(Dropdown(description='Show', options=('All', 'Pt', 'O', 'Sn'), valu…"
      ]
     },
     "metadata": {},
     "output_type": "display_data"
    }
   ],
   "source": [
    "v = view_ngl(SnO2_Pt119[-1], show_charge=True)\n",
    "v.show_charge_label()\n",
    "v"
   ]
  },
  {
   "cell_type": "markdown",
   "id": "bfa98498-9389-4b05-b1b8-e89275e6c30c",
   "metadata": {},
   "source": [
    "このように、SnO2担体上にPt Nano particleが吸着している構造を作成することができました。\n",
    "\n",
    "実際には、本当にこの構造で正しいのか（微粒子の状態で吸着するのか、それとも全体に均質に伸びて吸着するような形のほうが安定なのかなど)の検証が必要となりますが、このTutorialでは省略します。\n",
    "\n",
    "こういった構造が作成できる事により、ここから更に後述する反応探索やMDなどを組み合わせることで、\n",
    "\n",
    " - 様々な面が露出している触媒下での反応\n",
    " - 触媒と担体の境界面での反応\n",
    "\n",
    "なども扱えるようになる可能性があり、より現実に近い状態での触媒反応シミュレーションができる可能性があります。"
   ]
  },
  {
   "cell_type": "markdown",
   "id": "d2293de3-a1ac-4314-b033-813067bc2e0d",
   "metadata": {},
   "source": [
    "参考文献\n",
    "\n",
    " - [Calculations of Real-System Nanoparticles Using Universal Neural Network Potential PFP](https://arxiv.org/abs/2107.00963)\n",
    " - [Structural Stability of Ruthenium Nanoparticles: A Density Functional Theory Study](https://pubs.acs.org/doi/10.1021/acs.jpcc.7b08672)\n",
    " - [Electronic Structure and Phase Stability of PdPt Nanoparticles](https://pubs.acs.org/doi/10.1021/acs.jpclett.5b02753)\n",
    " - [Electronic structure and phase stability of Pt3M (M = Co, Ni, and Cu) bimetallic nanoparticles](https://www.sciencedirect.com/science/article/abs/pii/S0927025620303657)\n",
    " - [The effect of SnO2(110) supports on the geometrical and electronic properties of platinum nanoparticles](https://link.springer.com/article/10.1007/s42452-019-1478-0)"
   ]
  }
 ],
 "metadata": {
  "kernelspec": {
   "display_name": "Python 3.9",
   "language": "python",
   "name": "python39"
  },
  "language_info": {
   "codemirror_mode": {
    "name": "ipython",
    "version": 3
   },
   "file_extension": ".py",
   "mimetype": "text/x-python",
   "name": "python",
   "nbconvert_exporter": "python",
   "pygments_lexer": "ipython3",
   "version": "3.9.16"
  },
  "widgets": {
   "application/vnd.jupyter.widget-state+json": {
    "state": {
     "001f4206fcae46969ada9203593bddda": {
      "model_module": "@jupyter-widgets/controls",
      "model_module_version": "1.5.0",
      "model_name": "DescriptionStyleModel",
      "state": {
       "description_width": ""
      }
     },
     "00ea302b80d54f9f9c3baa3abb2dcd51": {
      "model_module": "@jupyter-widgets/controls",
      "model_module_version": "1.5.0",
      "model_name": "CheckboxModel",
      "state": {
       "description": "Show charge",
       "disabled": false,
       "layout": "IPY_MODEL_5d6a7732d4824c84a15bd44c202a5075",
       "style": "IPY_MODEL_509468fe83f940beb13433005432f1f1",
       "value": true
      }
     },
     "011b238ca20442d68ef3fb33cea2dc1c": {
      "model_module": "@jupyter-widgets/controls",
      "model_module_version": "1.5.0",
      "model_name": "SliderStyleModel",
      "state": {
       "description_width": ""
      }
     },
     "019b53e01d7b4bb7b7d171f5a3cf599e": {
      "model_module": "@jupyter-widgets/controls",
      "model_module_version": "1.5.0",
      "model_name": "HBoxModel",
      "state": {
       "children": [
        "IPY_MODEL_1c656c58435f4474b950acb512fde823",
        "IPY_MODEL_1285454fea8c4d519e6ce1231a30c798"
       ],
       "layout": "IPY_MODEL_c7da40a4a25643d7a47a66cde4cdc772"
      }
     },
     "01f1149c7f224745a5062ced97bb49da": {
      "model_module": "@jupyter-widgets/controls",
      "model_module_version": "1.5.0",
      "model_name": "LinkModel",
      "state": {
       "source": [
        "IPY_MODEL_633c7840bd4d4ff196f9711b51c6334f",
        "value"
       ],
       "target": [
        "IPY_MODEL_479b549d347a4e6a8a3e915f94999ca9",
        "value"
       ]
      }
     },
     "021e7abda55a405297653f8b062817ec": {
      "model_module": "@jupyter-widgets/base",
      "model_module_version": "1.2.0",
      "model_name": "LayoutModel",
      "state": {}
     },
     "02335e990ccb47709417fb33fb01c203": {
      "model_module": "@jupyter-widgets/controls",
      "model_module_version": "1.5.0",
      "model_name": "SliderStyleModel",
      "state": {
       "description_width": ""
      }
     },
     "02497a9976e6463ca32c9296a603e279": {
      "model_module": "@jupyter-widgets/base",
      "model_module_version": "1.2.0",
      "model_name": "LayoutModel",
      "state": {}
     },
     "0285ae6b65a84712ac7937491f55ce50": {
      "model_module": "@jupyter-widgets/base",
      "model_module_version": "1.2.0",
      "model_name": "LayoutModel",
      "state": {}
     },
     "02efe031a1424468a9673f628cdbf65f": {
      "model_module": "@jupyter-widgets/base",
      "model_module_version": "1.2.0",
      "model_name": "LayoutModel",
      "state": {}
     },
     "043a500abd094e7d8543260438a365f6": {
      "model_module": "@jupyter-widgets/base",
      "model_module_version": "1.2.0",
      "model_name": "LayoutModel",
      "state": {}
     },
     "04af904fe17b46afaf62b32df74525f8": {
      "model_module": "@jupyter-widgets/controls",
      "model_module_version": "1.5.0",
      "model_name": "HBoxModel",
      "state": {
       "children": [
        "IPY_MODEL_bf97b3f05d164348bafa9985f9a28955",
        "IPY_MODEL_9c1a161f32ac4a72959f7a256a9b35a7"
       ],
       "layout": "IPY_MODEL_d8c7bc25362745a8b2f310fc08171933"
      }
     },
     "04ef1eb1a84e48f5921212b328a6fdec": {
      "model_module": "@jupyter-widgets/controls",
      "model_module_version": "1.5.0",
      "model_name": "DescriptionStyleModel",
      "state": {
       "description_width": ""
      }
     },
     "05d5dc3cd4ef4566a9f1a5f610c58cbd": {
      "model_module": "@jupyter-widgets/base",
      "model_module_version": "1.2.0",
      "model_name": "LayoutModel",
      "state": {}
     },
     "05f6818c378e447cb10538683e1f58ae": {
      "model_module": "@jupyter-widgets/base",
      "model_module_version": "1.2.0",
      "model_name": "LayoutModel",
      "state": {}
     },
     "0626c508fd8f4942a659dc22e6a7a52d": {
      "model_module": "@jupyter-widgets/controls",
      "model_module_version": "1.5.0",
      "model_name": "CheckboxModel",
      "state": {
       "description": "Show charge",
       "disabled": false,
       "layout": "IPY_MODEL_2b3b3cf06f434bd1ab9e19ed3440d97f",
       "style": "IPY_MODEL_cc8eb6a461734fed8e60d78afb39549c",
       "value": false
      }
     },
     "0672f78e81224651b1ee4e71a00f1eff": {
      "model_module": "@jupyter-widgets/controls",
      "model_module_version": "1.5.0",
      "model_name": "SliderStyleModel",
      "state": {
       "description_width": ""
      }
     },
     "06fe3e65ea244947829989d2bfedfedb": {
      "model_module": "@jupyter-widgets/base",
      "model_module_version": "1.2.0",
      "model_name": "LayoutModel",
      "state": {}
     },
     "0711d6c6bdc147bd960d8080cab07157": {
      "model_module": "@jupyter-widgets/controls",
      "model_module_version": "1.5.0",
      "model_name": "SliderStyleModel",
      "state": {
       "description_width": ""
      }
     },
     "0729f505a67a4788a03e6e130ccf4169": {
      "model_module": "@jupyter-widgets/controls",
      "model_module_version": "1.5.0",
      "model_name": "ButtonModel",
      "state": {
       "description": "Download image",
       "layout": "IPY_MODEL_4284d4b8f1684625b419e55bee13a83a",
       "style": "IPY_MODEL_f10023ca038c4a65a245cefeeaecca90",
       "tooltip": "Download current frame to your local PC"
      }
     },
     "07817cab5d4d4ec2a7629f9476c6e40a": {
      "model_module": "@jupyter-widgets/base",
      "model_module_version": "1.2.0",
      "model_name": "LayoutModel",
      "state": {}
     },
     "0792cf6ef4c041b3997a6a51e1598218": {
      "model_module": "@jupyter-widgets/controls",
      "model_module_version": "1.5.0",
      "model_name": "SliderStyleModel",
      "state": {
       "description_width": ""
      }
     },
     "07eaacf71ade4c7c8b7f582cf4ae5a2b": {
      "model_module": "@jupyter-widgets/controls",
      "model_module_version": "1.5.0",
      "model_name": "SliderStyleModel",
      "state": {
       "description_width": ""
      }
     },
     "085d158aab3b44fa912a3a84c478acb8": {
      "model_module": "@jupyter-widgets/controls",
      "model_module_version": "1.5.0",
      "model_name": "VBoxModel",
      "state": {
       "children": [
        "IPY_MODEL_b68b609c0e134d3fb880adddcbb84b11",
        "IPY_MODEL_aee4fe91dc5f4a07b2cfbe7dfec2ca0d",
        "IPY_MODEL_d803af1ed36040d2af62610a410afe46",
        "IPY_MODEL_73a1b90b46b44c29a64717294b4605b9",
        "IPY_MODEL_64aefa151ed8485c878c77f200e7cdd3",
        "IPY_MODEL_997ab033ddfe47d1ba5b9a5005d35a12",
        "IPY_MODEL_189bcf4ce1794805b55e4ee5d0dc40ba",
        "IPY_MODEL_f786df34ace34e71b2dbdd495c78c526",
        "IPY_MODEL_40f96a5c25c641119496bd7a16996144",
        "IPY_MODEL_bb0448b5baf042ffa569ef595d5a9b15"
       ],
       "layout": "IPY_MODEL_0b9aead487d5458ebf091af7ca0f6aba"
      }
     },
     "089d7b104d194011abea0772fba8d304": {
      "model_module": "nglview-js-widgets",
      "model_module_version": "3.0.1",
      "model_name": "NGLModel",
      "state": {
       "_camera_orientation": [
        9.418109197063648,
        -0.7081409060281427,
        0.04290733836912039,
        0,
        -0.07406654419806466,
        -1.5495696005936992,
        -9.316514027802386,
        0,
        0.7055627041637358,
        9.289857692151035,
        -1.5507452274205582,
        0,
        -1.9490000009536743,
        -1.9490000009536743,
        -0.8109999895095825,
        1
       ],
       "_camera_str": "orthographic",
       "_gui_theme": null,
       "_ibtn_fullscreen": "IPY_MODEL_0b20a9a2beeb4f39b8a63f678fb1d74e",
       "_igui": null,
       "_iplayer": "IPY_MODEL_8542e0b886e14b19b3c840f38a39af96",
       "_ngl_color_dict": {},
       "_ngl_coordinate_resource": {},
       "_ngl_full_stage_parameters": {
        "ambientColor": 14540253,
        "ambientIntensity": 0.2,
        "backgroundColor": "white",
        "cameraEyeSep": 0.3,
        "cameraFov": 40,
        "cameraType": "orthographic",
        "clipDist": 0,
        "clipFar": 100,
        "clipNear": 0,
        "fogFar": 100,
        "fogNear": 50,
        "hoverTimeout": 0,
        "impostor": true,
        "lightColor": 14540253,
        "lightIntensity": 1,
        "mousePreset": "default",
        "panSpeed": 1,
        "quality": "medium",
        "rotateSpeed": 2,
        "sampleLevel": 0,
        "tooltip": true,
        "workerDefault": true,
        "zoomSpeed": 1.2
       },
       "_ngl_msg_archive": [
        {
         "args": [
          {
           "binary": false,
           "data": "CRYST1    4.832    4.832    3.243  90.00  90.00  90.00 P 1\nMODEL     1\nATOM      1   Sn MOL     1       2.416   2.416   1.622  1.00  0.00          SN  \nATOM      2   Sn MOL     1       0.000   0.000   0.000  1.00  0.00          SN  \nATOM      3    O MOL     1       0.935   3.898   1.622  1.00  0.00           O  \nATOM      4    O MOL     1       3.898   0.935   1.622  1.00  0.00           O  \nATOM      5    O MOL     1       1.481   1.481   0.000  1.00  0.00           O  \nATOM      6    O MOL     1       3.351   3.351   0.000  1.00  0.00           O  \nENDMDL\n",
           "type": "blob"
          }
         ],
         "kwargs": {
          "defaultRepresentation": false,
          "ext": "pdb"
         },
         "methodName": "loadFile",
         "reconstruc_color_scheme": false,
         "target": "Stage",
         "type": "call_method"
        },
        {
         "args": [
          "500px",
          "500px"
         ],
         "kwargs": {},
         "methodName": "setSize",
         "reconstruc_color_scheme": false,
         "target": "Widget",
         "type": "call_method"
        },
        {
         "args": [
          "unitcell"
         ],
         "component_index": 0,
         "kwargs": {
          "sele": "all"
         },
         "methodName": "addRepresentation",
         "reconstruc_color_scheme": false,
         "target": "compList",
         "type": "call_method"
        },
        {
         "args": [
          "spacefill"
         ],
         "component_index": 0,
         "kwargs": {
          "sele": "all"
         },
         "methodName": "addRepresentation",
         "reconstruc_color_scheme": false,
         "target": "compList",
         "type": "call_method"
        },
        {
         "args": [],
         "kwargs": {
          "cameraType": "orthographic"
         },
         "methodName": "setParameters",
         "reconstruc_color_scheme": false,
         "target": "Stage",
         "type": "call_method"
        },
        {
         "args": [
          {
           "clipDist": 0
          }
         ],
         "kwargs": {},
         "methodName": "setParameters",
         "reconstruc_color_scheme": false,
         "target": "Widget",
         "type": "call_method"
        },
        {
         "args": [
          "spacefill",
          0
         ],
         "kwargs": {
          "colorScale": "rainbow",
          "colorScheme": "element",
          "radiusScale": 0.5,
          "radiusType": "covalent"
         },
         "methodName": "updateRepresentationsByName",
         "reconstruc_color_scheme": false,
         "target": "Widget",
         "type": "call_method"
        },
        {
         "args": [
          "this._Q = [[1.0, 0.0, 0.0], [0.0, 1.0, 0.0], [0.0, 0.0, 1.0]]\n    var tooltip = document.createElement('div');\n    Object.assign(tooltip.style, {\n      display: 'none',\n      position: 'fixed',\n      zIndex: 10,\n      pointerEvents: 'none',\n      backgroundColor: 'rgba( 0, 0, 0, 0.6 )',\n      color: 'lightgrey',\n      padding: '8px',\n      fontFamily: 'sans-serif'\n    });\n    document.body.appendChild(tooltip);\n\n    var that = this;\n    this.stage.mouseControls.remove('hoverPick');\n    this.stage.signals.hovered.add(function (pickingProxy) {\n      if (pickingProxy && (pickingProxy.atom || pickingProxy.bond)) {\n        var atom = pickingProxy.atom || pickingProxy.closestBondAtom\n        var mp = pickingProxy.mouse.position\n        //tooltip.innerText = atom.element + ' i=' + atom.index + ' (' + atom.x.toFixed(2) +  ', ' + atom.y.toFixed(2) +  ', ' + atom.z.toFixed(2) + ')'\n        //var pos = that._atoms_pos[atom.index]\n        var Q = that._Q\n        var pos_x = Q[0][0] * atom.x + Q[0][1] * atom.y + Q[0][2] * atom.z \n        var pos_y = Q[1][0] * atom.x + Q[1][1] * atom.y + Q[1][2] * atom.z\n        var pos_z = Q[2][0] * atom.x + Q[2][1] * atom.y + Q[2][2] * atom.z\n        tooltip.innerText = 'i=' + atom.index + ' ' + atom.element + ' (' + pos_x.toFixed(2) +  ', ' + pos_y.toFixed(2) +  ', ' + pos_z.toFixed(2) + ')'\n        tooltip.style.bottom = window.innerHeight - mp.y + 3 + 'px'\n        tooltip.style.left = mp.x + 3 + 'px'\n        tooltip.style.display = 'block'\n      } else {\n        tooltip.style.display = 'none'\n      }\n    });\n    this.stage.tooltip = tooltip;\n    "
         ],
         "kwargs": {},
         "methodName": "executeCode",
         "reconstruc_color_scheme": false,
         "target": "Widget",
         "type": "call_method"
        },
        {
         "args": [
          "ball+stick"
         ],
         "component_index": 0,
         "kwargs": {
          "sele": "all"
         },
         "methodName": "addRepresentation",
         "reconstruc_color_scheme": false,
         "target": "compList",
         "type": "call_method"
        }
       ],
       "_ngl_original_stage_parameters": {
        "ambientColor": 14540253,
        "ambientIntensity": 0.2,
        "backgroundColor": "white",
        "cameraEyeSep": 0.3,
        "cameraFov": 40,
        "cameraType": "perspective",
        "clipDist": 10,
        "clipFar": 100,
        "clipNear": 0,
        "fogFar": 100,
        "fogNear": 50,
        "hoverTimeout": 0,
        "impostor": true,
        "lightColor": 14540253,
        "lightIntensity": 1,
        "mousePreset": "default",
        "panSpeed": 1,
        "quality": "medium",
        "rotateSpeed": 2,
        "sampleLevel": 0,
        "tooltip": true,
        "workerDefault": true,
        "zoomSpeed": 1.2
       },
       "_ngl_repr_dict": {
        "0": {
         "0": {
          "params": {
           "clipCenter": {
            "x": 0,
            "y": 0,
            "z": 0
           },
           "clipNear": 0,
           "clipRadius": 0,
           "colorMode": "hcl",
           "colorReverse": false,
           "colorScale": "",
           "colorScheme": "element",
           "colorValue": "orange",
           "defaultAssembly": "",
           "depthWrite": true,
           "diffuse": 16777215,
           "diffuseInterior": false,
           "disableImpostor": false,
           "disablePicking": false,
           "flatShaded": false,
           "interiorColor": 2236962,
           "interiorDarkening": 0,
           "lazy": false,
           "matrix": {
            "elements": [
             1,
             0,
             0,
             0,
             0,
             1,
             0,
             0,
             0,
             0,
             1,
             0,
             0,
             0,
             0,
             1
            ]
           },
           "metalness": 0,
           "opacity": 1,
           "quality": "medium",
           "radialSegments": 10,
           "radiusData": {},
           "radiusScale": 1,
           "radiusSize": 0.021152916347024715,
           "radiusType": "vdw",
           "roughness": 0.4,
           "sele": "all",
           "side": "double",
           "sphereDetail": 1,
           "useInteriorColor": true,
           "visible": true,
           "wireframe": false
          },
          "type": "unitcell"
         },
         "1": {
          "params": {
           "assembly": "default",
           "clipCenter": {
            "x": 0,
            "y": 0,
            "z": 0
           },
           "clipNear": 0,
           "clipRadius": 0,
           "colorMode": "hcl",
           "colorReverse": false,
           "colorScale": "rainbow",
           "colorScheme": "element",
           "colorValue": 9474192,
           "defaultAssembly": "",
           "depthWrite": true,
           "diffuse": 16777215,
           "diffuseInterior": false,
           "disableImpostor": false,
           "disablePicking": false,
           "flatShaded": false,
           "interiorColor": 2236962,
           "interiorDarkening": 0,
           "lazy": false,
           "matrix": {
            "elements": [
             1,
             0,
             0,
             0,
             0,
             1,
             0,
             0,
             0,
             0,
             1,
             0,
             0,
             0,
             0,
             1
            ]
           },
           "metalness": 0,
           "opacity": 1,
           "quality": "medium",
           "radiusData": {},
           "radiusScale": 0.5,
           "radiusSize": 1,
           "radiusType": "covalent",
           "roughness": 0.4,
           "sele": "all",
           "side": "double",
           "sphereDetail": 1,
           "useInteriorColor": true,
           "visible": true,
           "wireframe": false
          },
          "type": "spacefill"
         },
         "2": {
          "params": {
           "aspectRatio": 2,
           "assembly": "default",
           "bondScale": 0.4,
           "bondSpacing": 1,
           "clipCenter": {
            "x": 0,
            "y": 0,
            "z": 0
           },
           "clipNear": 0,
           "clipRadius": 0,
           "colorMode": "hcl",
           "colorReverse": false,
           "colorScale": "",
           "colorScheme": "element",
           "colorValue": 9474192,
           "cylinderOnly": false,
           "defaultAssembly": "",
           "depthWrite": true,
           "diffuse": 16777215,
           "diffuseInterior": false,
           "disableImpostor": false,
           "disablePicking": false,
           "flatShaded": false,
           "interiorColor": 2236962,
           "interiorDarkening": 0,
           "lazy": false,
           "lineOnly": false,
           "linewidth": 2,
           "matrix": {
            "elements": [
             1,
             0,
             0,
             0,
             0,
             1,
             0,
             0,
             0,
             0,
             1,
             0,
             0,
             0,
             0,
             1
            ]
           },
           "metalness": 0,
           "multipleBond": "off",
           "opacity": 1,
           "openEnded": true,
           "quality": "medium",
           "radialSegments": 10,
           "radiusData": {},
           "radiusScale": 1,
           "radiusSize": 0.15,
           "radiusType": "size",
           "roughness": 0.4,
           "sele": "all",
           "side": "double",
           "sphereDetail": 1,
           "useInteriorColor": true,
           "visible": true,
           "wireframe": false
          },
          "type": "ball+stick"
         }
        }
       },
       "_ngl_serialize": false,
       "_ngl_version": "2.0.0-dev.36",
       "_ngl_view_id": [
        "CA92EF9E-3FFD-4AF8-B321-FC831785738F"
       ],
       "_player_dict": {},
       "_scene_position": {},
       "_scene_rotation": {},
       "_synced_model_ids": [],
       "_synced_repr_model_ids": [],
       "_view_height": "",
       "_view_width": "",
       "background": "white",
       "frame": 0,
       "gui_style": null,
       "layout": "IPY_MODEL_b586f6b84643483d83c293702d616ddf",
       "max_frame": 0,
       "n_components": 1,
       "picked": {}
      }
     },
     "09245d0e0f094dc6ae2fa0af2006d3fa": {
      "model_module": "@jupyter-widgets/base",
      "model_module_version": "1.2.0",
      "model_name": "LayoutModel",
      "state": {}
     },
     "0a2979be03ed4e9ebe9b68af5b47bd95": {
      "model_module": "@jupyter-widgets/base",
      "model_module_version": "1.2.0",
      "model_name": "LayoutModel",
      "state": {}
     },
     "0a2ee6d62287452c8c2164c5fbf984ed": {
      "model_module": "@jupyter-widgets/controls",
      "model_module_version": "1.5.0",
      "model_name": "HBoxModel",
      "state": {
       "children": [
        "IPY_MODEL_8de67015e48d4384b2292dc4c4e95b6c",
        "IPY_MODEL_62de2bd350114eec819873ae5900554d"
       ],
       "layout": "IPY_MODEL_b2b9750fcbef4634b87299d75c6244ff"
      }
     },
     "0a4452eccec848ac9ca93dc0cd498dcb": {
      "model_module": "@jupyter-widgets/controls",
      "model_module_version": "1.5.0",
      "model_name": "HBoxModel",
      "state": {
       "children": [
        "IPY_MODEL_5678f1e3f47f46048bad6b42024e9425",
        "IPY_MODEL_38fa1f3c809b47f980ed7664d2ff44d1"
       ],
       "layout": "IPY_MODEL_19c442e2afdf44c3b94871786ce7bf17"
      }
     },
     "0ae8023cd86b43ca9aa7dd056f5ff9e6": {
      "model_module": "@jupyter-widgets/base",
      "model_module_version": "1.2.0",
      "model_name": "LayoutModel",
      "state": {}
     },
     "0b20a9a2beeb4f39b8a63f678fb1d74e": {
      "model_module": "@jupyter-widgets/controls",
      "model_module_version": "1.5.0",
      "model_name": "ButtonModel",
      "state": {
       "icon": "compress",
       "layout": "IPY_MODEL_f8252469c56642008eaf7befad0e0da3",
       "style": "IPY_MODEL_fcaa413ff3374aab8e75f2a5734d6fd1"
      }
     },
     "0b9aead487d5458ebf091af7ca0f6aba": {
      "model_module": "@jupyter-widgets/base",
      "model_module_version": "1.2.0",
      "model_name": "LayoutModel",
      "state": {}
     },
     "0bb2ce8d48a74dc3af11b8307985324f": {
      "model_module": "@jupyter-widgets/controls",
      "model_module_version": "1.5.0",
      "model_name": "HBoxModel",
      "state": {
       "children": [
        "IPY_MODEL_40d67bdddf7a4ddda429508b0745e327",
        "IPY_MODEL_17f2c979ad7c440d980850704615fcf4"
       ],
       "layout": "IPY_MODEL_fc9e367ddba74fe1873faa88ceaafce7"
      }
     },
     "0bd649336b274809994732011e4185cd": {
      "model_module": "@jupyter-widgets/controls",
      "model_module_version": "1.5.0",
      "model_name": "LinkModel",
      "state": {
       "source": [
        "IPY_MODEL_a862e85e546945d284a84c18c115c4cc",
        "value"
       ],
       "target": [
        "IPY_MODEL_ec6e1028f2444bcfb65ab69ca33c5aaf",
        "value"
       ]
      }
     },
     "0bdda308b68e4bff983712b506b2167c": {
      "model_module": "@jupyter-widgets/base",
      "model_module_version": "1.2.0",
      "model_name": "LayoutModel",
      "state": {
       "width": "34px"
      }
     },
     "0c393e21bd004da5b4bb0bda9be9da30": {
      "model_module": "@jupyter-widgets/controls",
      "model_module_version": "1.5.0",
      "model_name": "LinkModel",
      "state": {
       "source": [
        "IPY_MODEL_633c7840bd4d4ff196f9711b51c6334f",
        "value"
       ],
       "target": [
        "IPY_MODEL_cbf108cb3e3547daa75b25eb866ab378",
        "frame"
       ]
      }
     },
     "0c3b03fde3ce439c9c230116f90cadd6": {
      "model_module": "@jupyter-widgets/controls",
      "model_module_version": "1.5.0",
      "model_name": "DropdownModel",
      "state": {
       "_options_labels": [
        " ",
        "picking",
        "random",
        "uniform",
        "atomindex",
        "residueindex",
        "chainindex",
        "modelindex",
        "sstruc",
        "element",
        "resname",
        "bfactor",
        "hydrophobicity",
        "value",
        "volume",
        "occupancy"
       ],
       "description": "Color scheme",
       "index": 9,
       "layout": "IPY_MODEL_7a01c923d24f484f8e413556976cc1e2",
       "style": "IPY_MODEL_1c6df6a934304970a0725c885f3c50fc"
      }
     },
     "0cced8be22e84b3aa6c94344898954f8": {
      "model_module": "@jupyter-widgets/controls",
      "model_module_version": "1.5.0",
      "model_name": "FloatSliderModel",
      "state": {
       "description": "Force scale",
       "layout": "IPY_MODEL_12a58f381022476a89735183f16b2a0f",
       "step": 0.1,
       "style": "IPY_MODEL_77289c39b9c74001b057820dbb1f1c6a",
       "value": 0.5
      }
     },
     "0e09053fa8754f92ac2138884c4460db": {
      "model_module": "@jupyter-widgets/controls",
      "model_module_version": "1.5.0",
      "model_name": "ButtonStyleModel",
      "state": {}
     },
     "0e22accb869c46a9a4e1a8804b365f0a": {
      "model_module": "@jupyter-widgets/controls",
      "model_module_version": "1.5.0",
      "model_name": "TextModel",
      "state": {
       "description": "Filename: ",
       "layout": "IPY_MODEL_14fb18eff4d34992b09f39dad83db39c",
       "style": "IPY_MODEL_23eda02c90c745858508c4932c8eac2d",
       "value": "screenshot.png"
      }
     },
     "0ebf0d45fceb4cbe8d403b3ad2679c42": {
      "model_module": "@jupyter-widgets/base",
      "model_module_version": "1.2.0",
      "model_name": "LayoutModel",
      "state": {}
     },
     "0f192740877f4403957fa5f42098c970": {
      "model_module": "@jupyter-widgets/controls",
      "model_module_version": "1.5.0",
      "model_name": "DescriptionStyleModel",
      "state": {
       "description_width": ""
      }
     },
     "0f3d11848b444a9ca85a09e0a1540c99": {
      "model_module": "@jupyter-widgets/controls",
      "model_module_version": "1.5.0",
      "model_name": "DescriptionStyleModel",
      "state": {
       "description_width": ""
      }
     },
     "0f404679e3ba4b6182349cc91f57ff01": {
      "model_module": "@jupyter-widgets/controls",
      "model_module_version": "1.5.0",
      "model_name": "LinkModel",
      "state": {
       "source": [
        "IPY_MODEL_fba03774a2264687b684d1fd3bbfd84b",
        "value"
       ],
       "target": [
        "IPY_MODEL_2b4c4e46a31747eb9c9f767a3f1864a4",
        "value"
       ]
      }
     },
     "0f828b4d5f6044dba20f550ec98e9840": {
      "model_module": "@jupyter-widgets/controls",
      "model_module_version": "1.5.0",
      "model_name": "DescriptionStyleModel",
      "state": {
       "description_width": ""
      }
     },
     "0f86605d2f784faab623043b90c886ba": {
      "model_module": "@jupyter-widgets/base",
      "model_module_version": "1.2.0",
      "model_name": "LayoutModel",
      "state": {}
     },
     "0ff62caf9f8544cd8c48893ed6131164": {
      "model_module": "@jupyter-widgets/controls",
      "model_module_version": "1.5.0",
      "model_name": "SliderStyleModel",
      "state": {
       "description_width": ""
      }
     },
     "103ad5d012054a7c9b0c185a2ab8b0dc": {
      "model_module": "@jupyter-widgets/controls",
      "model_module_version": "1.5.0",
      "model_name": "VBoxModel",
      "state": {
       "children": [
        "IPY_MODEL_7354da441a0443aab24c1f02c3c08bba",
        "IPY_MODEL_c4f8b320eb3f444bb1cd70ba6971a3b8",
        "IPY_MODEL_ea38bc7b3a054dedb5d32813b5201976",
        "IPY_MODEL_576b925e80ae417a9981e0632d72a74a",
        "IPY_MODEL_d5ff84d3ace545e1b210cbe20334cd44",
        "IPY_MODEL_cabff38c0d2b4f18a64cd67beda7787e",
        "IPY_MODEL_d871d66931cd4b6ba89cfb68f1a51baf",
        "IPY_MODEL_0626c508fd8f4942a659dc22e6a7a52d",
        "IPY_MODEL_bba7fe83352d411ca756e2efea277d64",
        "IPY_MODEL_44bbb843f1f246738348349fa4174839"
       ],
       "layout": "IPY_MODEL_021e7abda55a405297653f8b062817ec"
      }
     },
     "10f484d19a2d4ece97b633fec3e01dfc": {
      "model_module": "@jupyter-widgets/controls",
      "model_module_version": "1.5.0",
      "model_name": "SliderStyleModel",
      "state": {
       "description_width": ""
      }
     },
     "1138a802f7a547e58550525996a4b61d": {
      "model_module": "@jupyter-widgets/controls",
      "model_module_version": "1.5.0",
      "model_name": "FloatSliderModel",
      "state": {
       "description": "Charge scale",
       "layout": "IPY_MODEL_de5731958700421a99214feb7f6047f0",
       "step": 0.1,
       "style": "IPY_MODEL_eaf915a970a546409b153751af35046e",
       "value": 1
      }
     },
     "113bb1ddd26c4c1a8383aa53c9ba75f1": {
      "model_module": "@jupyter-widgets/controls",
      "model_module_version": "1.5.0",
      "model_name": "HBoxModel",
      "state": {
       "children": [
        "IPY_MODEL_c965f3a78c914df5a78fbea6a22383d1",
        "IPY_MODEL_a54c2d7ce5714797ab3d30b02124220f"
       ],
       "layout": "IPY_MODEL_cbf15158d50140d6b008b1500ab7f4e3"
      }
     },
     "119557eaab0f45448a538867b3ea7e52": {
      "model_module": "@jupyter-widgets/base",
      "model_module_version": "1.2.0",
      "model_name": "LayoutModel",
      "state": {}
     },
     "1285454fea8c4d519e6ce1231a30c798": {
      "model_module": "@jupyter-widgets/controls",
      "model_module_version": "1.5.0",
      "model_name": "ButtonModel",
      "state": {
       "description": "Save image",
       "layout": "IPY_MODEL_251eb9d11a874474893118859ca2f614",
       "style": "IPY_MODEL_1b60fabc0fe74931ad997c72ef34b1d7",
       "tooltip": "Save current frame to file.\nCurrently .png and .html are supported.\nIt takes a bit time, please be patient."
      }
     },
     "12a58f381022476a89735183f16b2a0f": {
      "model_module": "@jupyter-widgets/base",
      "model_module_version": "1.2.0",
      "model_name": "LayoutModel",
      "state": {}
     },
     "135fb2d495a740fe91856dbdcb18ff1a": {
      "model_module": "@jupyter-widgets/base",
      "model_module_version": "1.2.0",
      "model_name": "LayoutModel",
      "state": {}
     },
     "137eae16b94a436ea65ac55775ba1164": {
      "model_module": "@jupyter-widgets/base",
      "model_module_version": "1.2.0",
      "model_name": "LayoutModel",
      "state": {}
     },
     "13e5c8e61dbb41dfb83389642e4e5d5e": {
      "model_module": "@jupyter-widgets/base",
      "model_module_version": "1.2.0",
      "model_name": "LayoutModel",
      "state": {}
     },
     "146cb11d626148dabbd6a3e85016acf7": {
      "model_module": "@jupyter-widgets/base",
      "model_module_version": "1.2.0",
      "model_name": "LayoutModel",
      "state": {}
     },
     "149ebf04a46d45c18e68cb0c5fa833b9": {
      "model_module": "@jupyter-widgets/controls",
      "model_module_version": "1.5.0",
      "model_name": "DescriptionStyleModel",
      "state": {
       "description_width": ""
      }
     },
     "14ac4b9cef9843c39164138eb82c5c59": {
      "model_module": "@jupyter-widgets/base",
      "model_module_version": "1.2.0",
      "model_name": "LayoutModel",
      "state": {}
     },
     "14c9075033934c81a3f3ce71b2497061": {
      "model_module": "@jupyter-widgets/controls",
      "model_module_version": "1.5.0",
      "model_name": "DescriptionStyleModel",
      "state": {
       "description_width": ""
      }
     },
     "14dda678369c42e9aaa49b7a04433ae8": {
      "model_module": "@jupyter-widgets/controls",
      "model_module_version": "1.5.0",
      "model_name": "ImageModel",
      "state": {
       "layout": "IPY_MODEL_4cd84bd577424ba1860aab200e2eaf21",
       "width": "900.0"
      }
     },
     "14fb18eff4d34992b09f39dad83db39c": {
      "model_module": "@jupyter-widgets/base",
      "model_module_version": "1.2.0",
      "model_name": "LayoutModel",
      "state": {}
     },
     "14fd652689d441508127daf7dc591d6b": {
      "model_module": "@jupyter-widgets/controls",
      "model_module_version": "1.5.0",
      "model_name": "DescriptionStyleModel",
      "state": {
       "description_width": ""
      }
     },
     "1504cb558560410d9eef545d32c66fd9": {
      "model_module": "@jupyter-widgets/base",
      "model_module_version": "1.2.0",
      "model_name": "LayoutModel",
      "state": {}
     },
     "1574c362b25a4b64a0c5e94f113be683": {
      "model_module": "@jupyter-widgets/base",
      "model_module_version": "1.2.0",
      "model_name": "LayoutModel",
      "state": {}
     },
     "162f7c73a852459f9a896fd33dbe7251": {
      "model_module": "@jupyter-widgets/controls",
      "model_module_version": "1.5.0",
      "model_name": "VBoxModel",
      "state": {
       "children": [
        "IPY_MODEL_1d70d8f4f7594491b36656c0757fa27c",
        "IPY_MODEL_4c4bf981464b4ed4b32373d4d8afa4ac",
        "IPY_MODEL_638c8790da2541c3825288296e976212",
        "IPY_MODEL_ae7d243e2ef347458199dde6e426e870",
        "IPY_MODEL_0e22accb869c46a9a4e1a8804b365f0a",
        "IPY_MODEL_019b53e01d7b4bb7b7d171f5a3cf599e",
        "IPY_MODEL_ce1ec43fa0b54603a9da2c0b11b016e6",
        "IPY_MODEL_0cced8be22e84b3aa6c94344898954f8",
        "IPY_MODEL_43a383645a754a2594b78af796247ebe",
        "IPY_MODEL_8b2d097c385843f794aa04e98dbe04e9",
        "IPY_MODEL_ebcb438023a74157a0b0abc282122424"
       ],
       "layout": "IPY_MODEL_3a6b4f27daf44a8e8d7d99e173163840"
      }
     },
     "1657191f447b4b5fb484be084cb909f6": {
      "model_module": "@jupyter-widgets/controls",
      "model_module_version": "1.5.0",
      "model_name": "ButtonStyleModel",
      "state": {}
     },
     "16c106472d914a15baa4f23d648ec819": {
      "model_module": "@jupyter-widgets/base",
      "model_module_version": "1.2.0",
      "model_name": "LayoutModel",
      "state": {}
     },
     "16ef825c49ce4a15a738952604c3b228": {
      "model_module": "@jupyter-widgets/base",
      "model_module_version": "1.2.0",
      "model_name": "LayoutModel",
      "state": {}
     },
     "1793d0e76d574a03bd81d1fedc9d1342": {
      "model_module": "@jupyter-widgets/controls",
      "model_module_version": "1.5.0",
      "model_name": "ButtonModel",
      "state": {
       "description": "Save image",
       "layout": "IPY_MODEL_540902ffd0c84f61a6b11172d4b3f5cd",
       "style": "IPY_MODEL_4dbb29ce8a134ac48e54921ef638eb2f",
       "tooltip": "Save current frame to file.\nCurrently .png and .html are supported.\nIt takes a bit time, please be patient."
      }
     },
     "17c52860d25e4cd69e11cc21018cf223": {
      "model_module": "@jupyter-widgets/base",
      "model_module_version": "1.2.0",
      "model_name": "LayoutModel",
      "state": {
       "width": "34px"
      }
     },
     "17f2c979ad7c440d980850704615fcf4": {
      "model_module": "@jupyter-widgets/controls",
      "model_module_version": "1.5.0",
      "model_name": "VBoxModel",
      "state": {
       "children": [
        "IPY_MODEL_cfda740f22e94a4bb719e3655516b66f",
        "IPY_MODEL_5af63aafc3bd463986591cfce1f00de6",
        "IPY_MODEL_5edf2addd0a5466a8e224bc589532c99",
        "IPY_MODEL_53a7f2b38b9f4146a10c7fe7cb2356f0",
        "IPY_MODEL_807b399df2154248a89176ec5de8c627",
        "IPY_MODEL_e717bc66d29f46b3907d49f08ed74b26",
        "IPY_MODEL_e57436abbb4f44e4b0b2e97fb355c072",
        "IPY_MODEL_deca60704f0e4fbd8f74b07f701ad61d",
        "IPY_MODEL_1138a802f7a547e58550525996a4b61d",
        "IPY_MODEL_7b4047edda4d4479921af3ac7955f80b"
       ],
       "layout": "IPY_MODEL_b45b4c1605b945f0b560d83da9cc04a2"
      }
     },
     "188412a6fd54421a86fb52d7198e1f4e": {
      "model_module": "@jupyter-widgets/base",
      "model_module_version": "1.2.0",
      "model_name": "LayoutModel",
      "state": {}
     },
     "189bcf4ce1794805b55e4ee5d0dc40ba": {
      "model_module": "@jupyter-widgets/controls",
      "model_module_version": "1.5.0",
      "model_name": "FloatSliderModel",
      "state": {
       "description": "Force scale",
       "layout": "IPY_MODEL_32a180239be34514b1a70f5dd918bc02",
       "step": 0.1,
       "style": "IPY_MODEL_f82d3ae226cf427db3374fbb6677e3a4",
       "value": 0.5
      }
     },
     "18f46c6b2a1648099f8e6986054c4044": {
      "model_module": "@jupyter-widgets/controls",
      "model_module_version": "1.5.0",
      "model_name": "HBoxModel",
      "state": {
       "children": [
        "IPY_MODEL_fce827b379ba477f876f4bda946e90ac",
        "IPY_MODEL_7c0288530d4d418f9ff620258ff03e3b"
       ],
       "layout": "IPY_MODEL_52f5006108f348cc84ed9674b9996d89"
      }
     },
     "191b893cf1934c3587f372f469a2613a": {
      "model_module": "@jupyter-widgets/base",
      "model_module_version": "1.2.0",
      "model_name": "LayoutModel",
      "state": {}
     },
     "19afe008b2aa46ecae61fb9a4c7384a4": {
      "model_module": "@jupyter-widgets/controls",
      "model_module_version": "1.5.0",
      "model_name": "DescriptionStyleModel",
      "state": {
       "description_width": ""
      }
     },
     "19c442e2afdf44c3b94871786ce7bf17": {
      "model_module": "@jupyter-widgets/base",
      "model_module_version": "1.2.0",
      "model_name": "LayoutModel",
      "state": {}
     },
     "19eb7767ec8a4d00a60940afbfac94fd": {
      "model_module": "@jupyter-widgets/base",
      "model_module_version": "1.2.0",
      "model_name": "LayoutModel",
      "state": {}
     },
     "19f48c5fafe5466b8764b70666603ed0": {
      "model_module": "@jupyter-widgets/controls",
      "model_module_version": "1.5.0",
      "model_name": "SliderStyleModel",
      "state": {
       "description_width": ""
      }
     },
     "1b279dc6e4de415fbf170ea021bc36c0": {
      "model_module": "@jupyter-widgets/controls",
      "model_module_version": "1.5.0",
      "model_name": "ButtonModel",
      "state": {
       "icon": "compress",
       "layout": "IPY_MODEL_2bfb8ea9be8a4d2ab6687e84c2f0b7d9",
       "style": "IPY_MODEL_954c137752014d08b489b66100f41e2f"
      }
     },
     "1b60fabc0fe74931ad997c72ef34b1d7": {
      "model_module": "@jupyter-widgets/controls",
      "model_module_version": "1.5.0",
      "model_name": "ButtonStyleModel",
      "state": {}
     },
     "1b9343517ffa4e6c9ba74b7c3acab0b4": {
      "model_module": "@jupyter-widgets/controls",
      "model_module_version": "1.5.0",
      "model_name": "ButtonStyleModel",
      "state": {}
     },
     "1be48f90800f4b2a98bfb0ebb8d56faf": {
      "model_module": "@jupyter-widgets/controls",
      "model_module_version": "1.5.0",
      "model_name": "FloatSliderModel",
      "state": {
       "description": "Charge scale",
       "layout": "IPY_MODEL_06fe3e65ea244947829989d2bfedfedb",
       "step": 0.1,
       "style": "IPY_MODEL_ba920f8147e047e885529393b7f3a9d6",
       "value": 1
      }
     },
     "1c06fa9c49614b32a90ea6edb7cb7a3a": {
      "model_module": "@jupyter-widgets/base",
      "model_module_version": "1.2.0",
      "model_name": "LayoutModel",
      "state": {
       "width": "34px"
      }
     },
     "1c656c58435f4474b950acb512fde823": {
      "model_module": "@jupyter-widgets/controls",
      "model_module_version": "1.5.0",
      "model_name": "ButtonModel",
      "state": {
       "description": "Download image",
       "layout": "IPY_MODEL_07817cab5d4d4ec2a7629f9476c6e40a",
       "style": "IPY_MODEL_e68fbf76aa464e058a83b4a0dded2d81",
       "tooltip": "Download current frame to your local PC"
      }
     },
     "1c6df6a934304970a0725c885f3c50fc": {
      "model_module": "@jupyter-widgets/controls",
      "model_module_version": "1.5.0",
      "model_name": "DescriptionStyleModel",
      "state": {
       "description_width": ""
      }
     },
     "1ca9cd06b867447f9b933c1c3988fa20": {
      "model_module": "@jupyter-widgets/base",
      "model_module_version": "1.2.0",
      "model_name": "LayoutModel",
      "state": {}
     },
     "1cb2541d9e89438581eda86dc324adeb": {
      "model_module": "@jupyter-widgets/controls",
      "model_module_version": "1.5.0",
      "model_name": "LinkModel",
      "state": {
       "source": [
        "IPY_MODEL_a862e85e546945d284a84c18c115c4cc",
        "value"
       ],
       "target": [
        "IPY_MODEL_ae6744d3a7824183b7faba85bb91a1e2",
        "frame"
       ]
      }
     },
     "1cf478c06a194e1383cd946b362ba2f2": {
      "model_module": "@jupyter-widgets/controls",
      "model_module_version": "1.5.0",
      "model_name": "TextModel",
      "state": {
       "description": "Filename: ",
       "layout": "IPY_MODEL_1574c362b25a4b64a0c5e94f113be683",
       "style": "IPY_MODEL_3aee53ff826f45ee87ace27323f514c9",
       "value": "screenshot.png"
      }
     },
     "1d70d8f4f7594491b36656c0757fa27c": {
      "model_module": "@jupyter-widgets/controls",
      "model_module_version": "1.5.0",
      "model_name": "DropdownModel",
      "state": {
       "_options_labels": [
        "All",
        "Sn",
        "O",
        "Pt"
       ],
       "description": "Show",
       "index": 0,
       "layout": "IPY_MODEL_55a5bd5246774b43aeb0adee8412bc4b",
       "style": "IPY_MODEL_7160e17561bf4167b36915848dc8e508"
      }
     },
     "1dd2617f4f3d467abdb4b38591658ad8": {
      "model_module": "@jupyter-widgets/controls",
      "model_module_version": "1.5.0",
      "model_name": "LinkModel",
      "state": {
       "source": [
        "IPY_MODEL_7c0288530d4d418f9ff620258ff03e3b",
        "max"
       ],
       "target": [
        "IPY_MODEL_f9e11cd4892740c3a4ecffbd4d3fb924",
        "max_frame"
       ]
      }
     },
     "1df6136b59cc4711b17f5ee12299ee62": {
      "model_module": "@jupyter-widgets/base",
      "model_module_version": "1.2.0",
      "model_name": "LayoutModel",
      "state": {}
     },
     "1e19b04572e344569a0bbff8e0bd61bc": {
      "model_module": "@jupyter-widgets/controls",
      "model_module_version": "1.5.0",
      "model_name": "ImageModel",
      "state": {
       "layout": "IPY_MODEL_ed9f48cbc3cf4d20807a5675bf864e46",
       "width": "900.0"
      }
     },
     "1e56f188dbae4f688d6a34159692a3d9": {
      "model_module": "@jupyter-widgets/base",
      "model_module_version": "1.2.0",
      "model_name": "LayoutModel",
      "state": {}
     },
     "1e652e33b00f4104bab0a354c9cb1c99": {
      "model_module": "@jupyter-widgets/controls",
      "model_module_version": "1.5.0",
      "model_name": "LinkModel",
      "state": {
       "source": [
        "IPY_MODEL_ddba749f66dc4e82a2868e7021bd9638",
        "max"
       ],
       "target": [
        "IPY_MODEL_5678f1e3f47f46048bad6b42024e9425",
        "max_frame"
       ]
      }
     },
     "1fad5161601c4ff880820a2ae5913633": {
      "model_module": "@jupyter-widgets/controls",
      "model_module_version": "1.5.0",
      "model_name": "DescriptionStyleModel",
      "state": {
       "description_width": ""
      }
     },
     "20d7133f26c74835986cc4e9389bf782": {
      "model_module": "@jupyter-widgets/base",
      "model_module_version": "1.2.0",
      "model_name": "LayoutModel",
      "state": {}
     },
     "2122e1bcdb2f458fbf12e660e8cedf1e": {
      "model_module": "@jupyter-widgets/controls",
      "model_module_version": "1.5.0",
      "model_name": "ButtonStyleModel",
      "state": {}
     },
     "22700abcc8414926a3d96d5fbc6451f0": {
      "model_module": "@jupyter-widgets/base",
      "model_module_version": "1.2.0",
      "model_name": "LayoutModel",
      "state": {}
     },
     "2398c4ee96314997900f98df42b370d6": {
      "model_module": "@jupyter-widgets/controls",
      "model_module_version": "1.5.0",
      "model_name": "DescriptionStyleModel",
      "state": {
       "description_width": ""
      }
     },
     "23eda02c90c745858508c4932c8eac2d": {
      "model_module": "@jupyter-widgets/controls",
      "model_module_version": "1.5.0",
      "model_name": "DescriptionStyleModel",
      "state": {
       "description_width": ""
      }
     },
     "23fab29ddb2f44f09c78edbd4a561190": {
      "model_module": "@jupyter-widgets/controls",
      "model_module_version": "1.5.0",
      "model_name": "SliderStyleModel",
      "state": {
       "description_width": ""
      }
     },
     "24fdc1eb71cc48b6a8edf7fd03ae2d68": {
      "model_module": "@jupyter-widgets/controls",
      "model_module_version": "1.5.0",
      "model_name": "CheckboxModel",
      "state": {
       "description": "Show force",
       "disabled": false,
       "layout": "IPY_MODEL_02497a9976e6463ca32c9296a603e279",
       "style": "IPY_MODEL_8f30e35eb1494cd3bbfdffe049c7cf07",
       "value": false
      }
     },
     "250db6983bd941428fc28f8e362510e0": {
      "model_module": "@jupyter-widgets/base",
      "model_module_version": "1.2.0",
      "model_name": "LayoutModel",
      "state": {}
     },
     "251eb9d11a874474893118859ca2f614": {
      "model_module": "@jupyter-widgets/base",
      "model_module_version": "1.2.0",
      "model_name": "LayoutModel",
      "state": {}
     },
     "252c72468ba9460795bf2b94d725696f": {
      "model_module": "@jupyter-widgets/base",
      "model_module_version": "1.2.0",
      "model_name": "LayoutModel",
      "state": {}
     },
     "255507ccb71d4bf5b86bea81482062ce": {
      "model_module": "@jupyter-widgets/base",
      "model_module_version": "1.2.0",
      "model_name": "LayoutModel",
      "state": {}
     },
     "2591151f00284389961282feb58cf81e": {
      "model_module": "@jupyter-widgets/controls",
      "model_module_version": "1.5.0",
      "model_name": "PlayModel",
      "state": {
       "layout": "IPY_MODEL_9fb1a3b3d9b54bd2af421ee032d572c1",
       "max": 0,
       "style": "IPY_MODEL_d15a93931319412c8d2693c8c27ee88c"
      }
     },
     "26bcd2018345410488ab2914dd47165f": {
      "model_module": "@jupyter-widgets/base",
      "model_module_version": "1.2.0",
      "model_name": "LayoutModel",
      "state": {}
     },
     "26c97768edfd4448a5064d8180bb6ce6": {
      "model_module": "@jupyter-widgets/base",
      "model_module_version": "1.2.0",
      "model_name": "LayoutModel",
      "state": {}
     },
     "26d62e6afb40408ba4c132e9e54800b3": {
      "model_module": "@jupyter-widgets/controls",
      "model_module_version": "1.5.0",
      "model_name": "HBoxModel",
      "state": {
       "children": [
        "IPY_MODEL_ae6744d3a7824183b7faba85bb91a1e2",
        "IPY_MODEL_61e712976b2743e49f1711820d652e3d"
       ],
       "layout": "IPY_MODEL_cbc0dc519dca425baa5ac14555532498"
      }
     },
     "2759b0663851444cb0ffa2a77228f71b": {
      "model_module": "@jupyter-widgets/controls",
      "model_module_version": "1.5.0",
      "model_name": "ButtonStyleModel",
      "state": {}
     },
     "2804242721794e92a1fdf460218bbc7f": {
      "model_module": "@jupyter-widgets/controls",
      "model_module_version": "1.5.0",
      "model_name": "DescriptionStyleModel",
      "state": {
       "description_width": ""
      }
     },
     "2879e77131964e5b8be5f9bb16d5e7e9": {
      "model_module": "@jupyter-widgets/base",
      "model_module_version": "1.2.0",
      "model_name": "LayoutModel",
      "state": {}
     },
     "287eae3f3adb46a2b415d687558d41eb": {
      "model_module": "@jupyter-widgets/controls",
      "model_module_version": "1.5.0",
      "model_name": "HBoxModel",
      "state": {
       "children": [
        "IPY_MODEL_f9e11cd4892740c3a4ecffbd4d3fb924",
        "IPY_MODEL_668808e461294f2b9fef39cd445deab9"
       ],
       "layout": "IPY_MODEL_63eff96baa7b4f9381e91d1ec3a6f61a"
      }
     },
     "28da9b1a0d5d401cb9bdce30bc590e6f": {
      "model_module": "@jupyter-widgets/controls",
      "model_module_version": "1.5.0",
      "model_name": "DescriptionStyleModel",
      "state": {
       "description_width": ""
      }
     },
     "28f466d603a84effb53ea5a18764f4f0": {
      "model_module": "@jupyter-widgets/base",
      "model_module_version": "1.2.0",
      "model_name": "LayoutModel",
      "state": {
       "border": "0px solid black"
      }
     },
     "2906dc0603894163ac34ab27307aa988": {
      "model_module": "@jupyter-widgets/controls",
      "model_module_version": "1.5.0",
      "model_name": "DescriptionStyleModel",
      "state": {
       "description_width": ""
      }
     },
     "291d82cf6afd4973a9e48390b1ecb540": {
      "model_module": "@jupyter-widgets/base",
      "model_module_version": "1.2.0",
      "model_name": "LayoutModel",
      "state": {}
     },
     "29aaa4278e9e4e1c9bac2813a7b72ae7": {
      "model_module": "@jupyter-widgets/base",
      "model_module_version": "1.2.0",
      "model_name": "LayoutModel",
      "state": {}
     },
     "2a62cc6c8b124ad3b7fa3042a6d2a6b6": {
      "model_module": "@jupyter-widgets/controls",
      "model_module_version": "1.5.0",
      "model_name": "DescriptionStyleModel",
      "state": {
       "description_width": ""
      }
     },
     "2a6802559d9d4b238449746cae551416": {
      "model_module": "@jupyter-widgets/controls",
      "model_module_version": "1.5.0",
      "model_name": "ButtonModel",
      "state": {
       "icon": "compress",
       "layout": "IPY_MODEL_3a72c996e0114470bc6845bb8477542e",
       "style": "IPY_MODEL_6a0e3cbc3200476d89a03d6d695da6ae"
      }
     },
     "2aa20ddb7fb7424ea6228e7a734712e6": {
      "model_module": "@jupyter-widgets/controls",
      "model_module_version": "1.5.0",
      "model_name": "FloatSliderModel",
      "state": {
       "description": "Force scale",
       "layout": "IPY_MODEL_b2a097a46a7a46d9881023e8fbcad3b4",
       "step": 0.1,
       "style": "IPY_MODEL_0ff62caf9f8544cd8c48893ed6131164",
       "value": 0.5
      }
     },
     "2b3b3cf06f434bd1ab9e19ed3440d97f": {
      "model_module": "@jupyter-widgets/base",
      "model_module_version": "1.2.0",
      "model_name": "LayoutModel",
      "state": {}
     },
     "2b4c4e46a31747eb9c9f767a3f1864a4": {
      "model_module": "@jupyter-widgets/controls",
      "model_module_version": "1.5.0",
      "model_name": "IntSliderModel",
      "state": {
       "layout": "IPY_MODEL_6b069410b6fc42bea975efa532e96622",
       "max": 0,
       "style": "IPY_MODEL_c78ee15c2b7b4fd5b415e3dd9526a499"
      }
     },
     "2ba7552bbd424d6992f03ccbdde9cf26": {
      "model_module": "@jupyter-widgets/controls",
      "model_module_version": "1.5.0",
      "model_name": "HBoxModel",
      "state": {
       "children": [
        "IPY_MODEL_992e7bfabd9c4c0b928583d4f317984c",
        "IPY_MODEL_96b03fa0f3074f83a60ca7aa10fb0463"
       ],
       "layout": "IPY_MODEL_f4274f44c21c405da7833a866ea87323"
      }
     },
     "2bcb8419da764015b2d3bb088ce85224": {
      "model_module": "@jupyter-widgets/controls",
      "model_module_version": "1.5.0",
      "model_name": "SliderStyleModel",
      "state": {
       "description_width": ""
      }
     },
     "2bfb8ea9be8a4d2ab6687e84c2f0b7d9": {
      "model_module": "@jupyter-widgets/base",
      "model_module_version": "1.2.0",
      "model_name": "LayoutModel",
      "state": {
       "width": "34px"
      }
     },
     "2c4b356e592b4a2c96cff95b103339f4": {
      "model_module": "@jupyter-widgets/output",
      "model_module_version": "1.0.0",
      "model_name": "OutputModel",
      "state": {
       "layout": "IPY_MODEL_9e6c55617f5c4213aec2c3b9e536bf3e"
      }
     },
     "2c9788f3559b441e89dcec50bb3f3104": {
      "model_module": "@jupyter-widgets/controls",
      "model_module_version": "1.5.0",
      "model_name": "ButtonStyleModel",
      "state": {}
     },
     "2cee4c0890bd4f97a5d9f4bf16e233bc": {
      "model_module": "@jupyter-widgets/base",
      "model_module_version": "1.2.0",
      "model_name": "LayoutModel",
      "state": {}
     },
     "2d16e7a2fe0249a785103dd520dffd58": {
      "model_module": "@jupyter-widgets/controls",
      "model_module_version": "1.5.0",
      "model_name": "SliderStyleModel",
      "state": {
       "description_width": ""
      }
     },
     "2d25c950ddd947c3998c827aba1b358d": {
      "model_module": "@jupyter-widgets/base",
      "model_module_version": "1.2.0",
      "model_name": "LayoutModel",
      "state": {}
     },
     "2d6364d524264941b53a36e379d8f9fb": {
      "model_module": "@jupyter-widgets/controls",
      "model_module_version": "1.5.0",
      "model_name": "ButtonModel",
      "state": {
       "icon": "compress",
       "layout": "IPY_MODEL_8c260023e22d47698da41d0a2a46eae4",
       "style": "IPY_MODEL_65ac5df119d046628de24a77886b501b"
      }
     },
     "2daa5c23753041238cbcc3cdb1bac0ab": {
      "model_module": "@jupyter-widgets/base",
      "model_module_version": "1.2.0",
      "model_name": "LayoutModel",
      "state": {}
     },
     "2daf4d1520a344d4862082454bea6795": {
      "model_module": "@jupyter-widgets/base",
      "model_module_version": "1.2.0",
      "model_name": "LayoutModel",
      "state": {}
     },
     "2dd51741fdd744c7877266b8fb3f8cef": {
      "model_module": "@jupyter-widgets/controls",
      "model_module_version": "1.5.0",
      "model_name": "IntSliderModel",
      "state": {
       "layout": "IPY_MODEL_2daa5c23753041238cbcc3cdb1bac0ab",
       "max": 0,
       "style": "IPY_MODEL_ec1ec0baf2bf432696e30113ab8d1111"
      }
     },
     "2e92dc13063942829a47fdcad74fd472": {
      "model_module": "@jupyter-widgets/base",
      "model_module_version": "1.2.0",
      "model_name": "LayoutModel",
      "state": {}
     },
     "2ece412f293e4867a2ab9a09129a92ee": {
      "model_module": "@jupyter-widgets/controls",
      "model_module_version": "1.5.0",
      "model_name": "ImageModel",
      "state": {
       "layout": "IPY_MODEL_e0a31e8ce8724332a724adddacb4f383",
       "width": "900.0"
      }
     },
     "2f54ccb41d2f43048c59a03a0f4a8831": {
      "model_module": "@jupyter-widgets/base",
      "model_module_version": "1.2.0",
      "model_name": "LayoutModel",
      "state": {}
     },
     "30fa8d53b09e472194a0d14c98a0e88d": {
      "model_module": "@jupyter-widgets/controls",
      "model_module_version": "1.5.0",
      "model_name": "PlayModel",
      "state": {
       "layout": "IPY_MODEL_4d9ab9a7160448ee846590497e381109",
       "max": 0,
       "style": "IPY_MODEL_3bce74c1e3fb4078b8daae01fbc8e26d"
      }
     },
     "311cde88e8214e4185654d612d4dc8bc": {
      "model_module": "@jupyter-widgets/base",
      "model_module_version": "1.2.0",
      "model_name": "LayoutModel",
      "state": {}
     },
     "31225cdc2aba4c75873078dbf6015037": {
      "model_module": "@jupyter-widgets/controls",
      "model_module_version": "1.5.0",
      "model_name": "ButtonStyleModel",
      "state": {}
     },
     "312e720255974c3cabdbbf2da87313e0": {
      "model_module": "@jupyter-widgets/controls",
      "model_module_version": "1.5.0",
      "model_name": "ButtonStyleModel",
      "state": {}
     },
     "3135d8993bb6469089cb9dde508f5aa5": {
      "model_module": "@jupyter-widgets/controls",
      "model_module_version": "1.5.0",
      "model_name": "SliderStyleModel",
      "state": {
       "description_width": ""
      }
     },
     "313ae08e974948618758dffc96107c21": {
      "model_module": "@jupyter-widgets/controls",
      "model_module_version": "1.5.0",
      "model_name": "ButtonStyleModel",
      "state": {}
     },
     "31d4289277b1439ab5d70a622e0b8a95": {
      "model_module": "@jupyter-widgets/base",
      "model_module_version": "1.2.0",
      "model_name": "LayoutModel",
      "state": {}
     },
     "321efdce76c34d74a679d91e0b4421c2": {
      "model_module": "@jupyter-widgets/controls",
      "model_module_version": "1.5.0",
      "model_name": "TextModel",
      "state": {
       "description": "Filename: ",
       "layout": "IPY_MODEL_0f86605d2f784faab623043b90c886ba",
       "style": "IPY_MODEL_19afe008b2aa46ecae61fb9a4c7384a4",
       "value": "screenshot.png"
      }
     },
     "32a180239be34514b1a70f5dd918bc02": {
      "model_module": "@jupyter-widgets/base",
      "model_module_version": "1.2.0",
      "model_name": "LayoutModel",
      "state": {}
     },
     "32b7d6adb34d460e8581841293d8ad2c": {
      "model_module": "@jupyter-widgets/controls",
      "model_module_version": "1.5.0",
      "model_name": "SliderStyleModel",
      "state": {
       "description_width": ""
      }
     },
     "33bcab6ce2a6456f885791668c180171": {
      "model_module": "@jupyter-widgets/controls",
      "model_module_version": "1.5.0",
      "model_name": "DescriptionStyleModel",
      "state": {
       "description_width": ""
      }
     },
     "344e2426faf2495d9916a5b3b2cf15b0": {
      "model_module": "@jupyter-widgets/base",
      "model_module_version": "1.2.0",
      "model_name": "LayoutModel",
      "state": {}
     },
     "34f477ce3f7d4d199ed6801568a5a468": {
      "model_module": "@jupyter-widgets/base",
      "model_module_version": "1.2.0",
      "model_name": "LayoutModel",
      "state": {}
     },
     "35514db3f49f4bc3934143436a2185c8": {
      "model_module": "@jupyter-widgets/controls",
      "model_module_version": "1.5.0",
      "model_name": "LinkModel",
      "state": {
       "source": [
        "IPY_MODEL_633c7840bd4d4ff196f9711b51c6334f",
        "max"
       ],
       "target": [
        "IPY_MODEL_cbf108cb3e3547daa75b25eb866ab378",
        "max_frame"
       ]
      }
     },
     "35858d276a914919b9443eb265f0f63d": {
      "model_module": "@jupyter-widgets/base",
      "model_module_version": "1.2.0",
      "model_name": "LayoutModel",
      "state": {}
     },
     "363f5b4f8a48443bafe10d5181863ace": {
      "model_module": "@jupyter-widgets/controls",
      "model_module_version": "1.5.0",
      "model_name": "ImageModel",
      "state": {
       "layout": "IPY_MODEL_19eb7767ec8a4d00a60940afbfac94fd",
       "width": "900.0"
      }
     },
     "36b781323591466ba18c31fd30b141e3": {
      "model_module": "@jupyter-widgets/controls",
      "model_module_version": "1.5.0",
      "model_name": "SliderStyleModel",
      "state": {
       "description_width": ""
      }
     },
     "37ee0e3bf25345e0b0b33d71d153366c": {
      "model_module": "@jupyter-widgets/controls",
      "model_module_version": "1.5.0",
      "model_name": "SliderStyleModel",
      "state": {
       "description_width": ""
      }
     },
     "38fa1f3c809b47f980ed7664d2ff44d1": {
      "model_module": "@jupyter-widgets/controls",
      "model_module_version": "1.5.0",
      "model_name": "VBoxModel",
      "state": {
       "children": [
        "IPY_MODEL_97b2ff1ec7c64572a3cce08956f84bb1",
        "IPY_MODEL_f7e75f61b0c54f729a2ae6f69bbd5d4d",
        "IPY_MODEL_f085e3b5440f4ce3bd009997b855f9f1",
        "IPY_MODEL_bbd185a8f4ce4a51bca8bd48e7d937a0",
        "IPY_MODEL_ff2d8c1d53dd431e98b2795b38a4ef3c",
        "IPY_MODEL_b06730fe464b47eda798d6bdf8dfc251",
        "IPY_MODEL_6b3eb6d3ff704919beab6aeb745d4f9d",
        "IPY_MODEL_d563325254cf41e28b0b65b8733d9354",
        "IPY_MODEL_674e04213def4f25b3fc082b43b862e1",
        "IPY_MODEL_cd99bb634c7644ebbaf7ed762ce63be5",
        "IPY_MODEL_b98db3a448f44148a752383cfdbd96bd"
       ],
       "layout": "IPY_MODEL_61278a73cde64b0fb60ea563567afb44"
      }
     },
     "3a4fbb9d299749cab391ecf7ce175e5e": {
      "model_module": "@jupyter-widgets/controls",
      "model_module_version": "1.5.0",
      "model_name": "SliderStyleModel",
      "state": {
       "description_width": ""
      }
     },
     "3a6b4f27daf44a8e8d7d99e173163840": {
      "model_module": "@jupyter-widgets/base",
      "model_module_version": "1.2.0",
      "model_name": "LayoutModel",
      "state": {}
     },
     "3a72c996e0114470bc6845bb8477542e": {
      "model_module": "@jupyter-widgets/base",
      "model_module_version": "1.2.0",
      "model_name": "LayoutModel",
      "state": {
       "width": "34px"
      }
     },
     "3acffd825d314279b5aa8eda5e1b238a": {
      "model_module": "@jupyter-widgets/base",
      "model_module_version": "1.2.0",
      "model_name": "LayoutModel",
      "state": {}
     },
     "3ae6a027e81b44c2b63c1a5f418d125e": {
      "model_module": "@jupyter-widgets/controls",
      "model_module_version": "1.5.0",
      "model_name": "IntSliderModel",
      "state": {
       "layout": "IPY_MODEL_2d25c950ddd947c3998c827aba1b358d",
       "max": 0,
       "style": "IPY_MODEL_37ee0e3bf25345e0b0b33d71d153366c"
      }
     },
     "3aee53ff826f45ee87ace27323f514c9": {
      "model_module": "@jupyter-widgets/controls",
      "model_module_version": "1.5.0",
      "model_name": "DescriptionStyleModel",
      "state": {
       "description_width": ""
      }
     },
     "3b17f87789f646eab70262f4fcc6712e": {
      "model_module": "@jupyter-widgets/base",
      "model_module_version": "1.2.0",
      "model_name": "LayoutModel",
      "state": {}
     },
     "3bc1b3b8cc2d45aa8926a3b8603f66d7": {
      "model_module": "@jupyter-widgets/controls",
      "model_module_version": "1.5.0",
      "model_name": "DropdownModel",
      "state": {
       "_options_labels": [
        " ",
        "picking",
        "random",
        "uniform",
        "atomindex",
        "residueindex",
        "chainindex",
        "modelindex",
        "sstruc",
        "element",
        "resname",
        "bfactor",
        "hydrophobicity",
        "value",
        "volume",
        "occupancy"
       ],
       "description": "Color scheme",
       "index": 9,
       "layout": "IPY_MODEL_f88ddde686e9442e8cfa03759506a3d5",
       "style": "IPY_MODEL_7bd0b6f5653a43f590e1175a6cc7dfd7"
      }
     },
     "3bce74c1e3fb4078b8daae01fbc8e26d": {
      "model_module": "@jupyter-widgets/controls",
      "model_module_version": "1.5.0",
      "model_name": "DescriptionStyleModel",
      "state": {
       "description_width": ""
      }
     },
     "3cd1a51f825849ebb5faf5f48baf1423": {
      "model_module": "@jupyter-widgets/controls",
      "model_module_version": "1.5.0",
      "model_name": "DescriptionStyleModel",
      "state": {
       "description_width": ""
      }
     },
     "3ce76f6d492145adb238e85e4e7dc838": {
      "model_module": "@jupyter-widgets/controls",
      "model_module_version": "1.5.0",
      "model_name": "SliderStyleModel",
      "state": {
       "description_width": ""
      }
     },
     "3d7caa83602942e58b0e8eb47bbc0e25": {
      "model_module": "@jupyter-widgets/base",
      "model_module_version": "1.2.0",
      "model_name": "LayoutModel",
      "state": {}
     },
     "3d9ba9f977a74c168ec00fc577d072b7": {
      "model_module": "@jupyter-widgets/controls",
      "model_module_version": "1.5.0",
      "model_name": "HBoxModel",
      "state": {
       "children": [
        "IPY_MODEL_7df21900880b452d9561183391f3ade2",
        "IPY_MODEL_5255c262df994526976116771c5d1275"
       ],
       "layout": "IPY_MODEL_f5d1cc7be7d546f189d119fc3ede0703"
      }
     },
     "3dec3d04d9bd4746b965c2affac6ab94": {
      "model_module": "@jupyter-widgets/base",
      "model_module_version": "1.2.0",
      "model_name": "LayoutModel",
      "state": {}
     },
     "3e005a63cd4949c0bf165d23df6f805d": {
      "model_module": "@jupyter-widgets/controls",
      "model_module_version": "1.5.0",
      "model_name": "LinkModel",
      "state": {
       "source": [
        "IPY_MODEL_2591151f00284389961282feb58cf81e",
        "value"
       ],
       "target": [
        "IPY_MODEL_5646e436dd464e09b9f2ff8010507359",
        "value"
       ]
      }
     },
     "3e08a389555e43cf9f10c4eb0bcebeb8": {
      "model_module": "@jupyter-widgets/base",
      "model_module_version": "1.2.0",
      "model_name": "LayoutModel",
      "state": {}
     },
     "3e142208fb7a45e9b4b94ac972b5d70f": {
      "model_module": "@jupyter-widgets/controls",
      "model_module_version": "1.5.0",
      "model_name": "DescriptionStyleModel",
      "state": {
       "description_width": ""
      }
     },
     "3e9a8a53d713458ba22e5eb65942895f": {
      "model_module": "@jupyter-widgets/controls",
      "model_module_version": "1.5.0",
      "model_name": "FloatSliderModel",
      "state": {
       "description": "Charge scale",
       "layout": "IPY_MODEL_3e08a389555e43cf9f10c4eb0bcebeb8",
       "step": 0.1,
       "style": "IPY_MODEL_3a4fbb9d299749cab391ecf7ce175e5e",
       "value": 1
      }
     },
     "3ea33c28f1494f388bd615e217fb40aa": {
      "model_module": "@jupyter-widgets/controls",
      "model_module_version": "1.5.0",
      "model_name": "LinkModel",
      "state": {
       "source": [
        "IPY_MODEL_a862e85e546945d284a84c18c115c4cc",
        "max"
       ],
       "target": [
        "IPY_MODEL_ae6744d3a7824183b7faba85bb91a1e2",
        "max_frame"
       ]
      }
     },
     "3ec7f6f13e944af6940c9ddd3014c92c": {
      "model_module": "@jupyter-widgets/base",
      "model_module_version": "1.2.0",
      "model_name": "LayoutModel",
      "state": {}
     },
     "3f2b1d2d0e634c328bc53d9fa167b124": {
      "model_module": "@jupyter-widgets/controls",
      "model_module_version": "1.5.0",
      "model_name": "CheckboxModel",
      "state": {
       "description": "Show charge",
       "disabled": false,
       "layout": "IPY_MODEL_20d7133f26c74835986cc4e9389bf782",
       "style": "IPY_MODEL_a86b1393652d4d8c95c50aa07dae3000",
       "value": false
      }
     },
     "3f6f562017cf4ae8a474aadaec85e689": {
      "model_module": "@jupyter-widgets/output",
      "model_module_version": "1.0.0",
      "model_name": "OutputModel",
      "state": {
       "layout": "IPY_MODEL_dc12320d08ee4a6bbea6327de47dae5f"
      }
     },
     "3fe4f38a014945fe8dcf6373aa470b8f": {
      "model_module": "@jupyter-widgets/base",
      "model_module_version": "1.2.0",
      "model_name": "LayoutModel",
      "state": {
       "border": "0px solid black"
      }
     },
     "405db3376f4548c683c71b6ff93f3400": {
      "model_module": "@jupyter-widgets/controls",
      "model_module_version": "1.5.0",
      "model_name": "SliderStyleModel",
      "state": {
       "description_width": ""
      }
     },
     "40d67bdddf7a4ddda429508b0745e327": {
      "model_module": "nglview-js-widgets",
      "model_module_version": "3.0.1",
      "model_name": "NGLModel",
      "state": {
       "_camera_orientation": [
        41.48129435432746,
        0,
        0,
        0,
        0,
        41.48129435432746,
        0,
        0,
        0,
        0,
        41.48129435432746,
        0,
        0,
        0,
        0,
        1
       ],
       "_camera_str": "orthographic",
       "_gui_theme": null,
       "_ibtn_fullscreen": "IPY_MODEL_d675b8da56f0432da9ca6e04acfe7a3c",
       "_igui": null,
       "_iplayer": "IPY_MODEL_04af904fe17b46afaf62b32df74525f8",
       "_ngl_color_dict": {},
       "_ngl_coordinate_resource": {},
       "_ngl_full_stage_parameters": {
        "ambientColor": 14540253,
        "ambientIntensity": 0.2,
        "backgroundColor": "white",
        "cameraEyeSep": 0.3,
        "cameraFov": 40,
        "cameraType": "orthographic",
        "clipDist": 0,
        "clipFar": 100,
        "clipNear": 0,
        "fogFar": 100,
        "fogNear": 50,
        "hoverTimeout": 0,
        "impostor": true,
        "lightColor": 14540253,
        "lightIntensity": 1,
        "mousePreset": "default",
        "panSpeed": 1,
        "quality": "medium",
        "rotateSpeed": 2,
        "sampleLevel": 0,
        "tooltip": true,
        "workerDefault": true,
        "zoomSpeed": 1.2
       },
       "_ngl_msg_archive": [
        {
         "args": [
          {
           "binary": false,
           "data": "MODEL     1\nATOM      1   Pt MOL     1      -9.800  -9.800   0.000  1.00  0.00          PT  \nATOM      2   Pt MOL     1     -11.760  -5.880  -1.960  1.00  0.00          PT  \nATOM      3   Pt MOL     1      -9.800  -7.840  -1.960  1.00  0.00          PT  \nATOM      4   Pt MOL     1      -9.800  -5.880  -3.920  1.00  0.00          PT  \nATOM      5   Pt MOL     1     -11.760  -7.840   0.000  1.00  0.00          PT  \nATOM      6   Pt MOL     1     -11.760  -5.880   1.960  1.00  0.00          PT  \nATOM      7   Pt MOL     1      -9.800  -7.840   1.960  1.00  0.00          PT  \nATOM      8   Pt MOL     1      -9.800  -5.880   0.000  1.00  0.00          PT  \nATOM      9   Pt MOL     1      -9.800  -5.880   3.920  1.00  0.00          PT  \nATOM     10   Pt MOL     1     -11.760  -1.960  -5.880  1.00  0.00          PT  \nATOM     11   Pt MOL     1      -9.800  -3.920  -5.880  1.00  0.00          PT  \nATOM     12   Pt MOL     1      -9.800  -1.960  -7.840  1.00  0.00          PT  \nATOM     13   Pt MOL     1     -11.760  -3.920  -3.920  1.00  0.00          PT  \nATOM     14   Pt MOL     1     -11.760  -1.960  -1.960  1.00  0.00          PT  \nATOM     15   Pt MOL     1      -9.800  -3.920  -1.960  1.00  0.00          PT  \nATOM     16   Pt MOL     1      -9.800  -1.960  -3.920  1.00  0.00          PT  \nATOM     17   Pt MOL     1     -11.760  -3.920   0.000  1.00  0.00          PT  \nATOM     18   Pt MOL     1     -11.760  -1.960   1.960  1.00  0.00          PT  \nATOM     19   Pt MOL     1      -9.800  -3.920   1.960  1.00  0.00          PT  \nATOM     20   Pt MOL     1      -9.800  -1.960   0.000  1.00  0.00          PT  \nATOM     21   Pt MOL     1     -11.760  -3.920   3.920  1.00  0.00          PT  \nATOM     22   Pt MOL     1     -11.760  -1.960   5.880  1.00  0.00          PT  \nATOM     23   Pt MOL     1      -9.800  -3.920   5.880  1.00  0.00          PT  \nATOM     24   Pt MOL     1      -9.800  -1.960   3.920  1.00  0.00          PT  \nATOM     25   Pt MOL     1      -9.800  -1.960   7.840  1.00  0.00          PT  \nATOM     26   Pt MOL     1      -9.800   0.000  -9.800  1.00  0.00          PT  \nATOM     27   Pt MOL     1     -11.760   0.000  -7.840  1.00  0.00          PT  \nATOM     28   Pt MOL     1     -11.760   1.960  -5.880  1.00  0.00          PT  \nATOM     29   Pt MOL     1      -9.800   0.000  -5.880  1.00  0.00          PT  \nATOM     30   Pt MOL     1      -9.800   1.960  -7.840  1.00  0.00          PT  \nATOM     31   Pt MOL     1     -11.760   0.000  -3.920  1.00  0.00          PT  \nATOM     32   Pt MOL     1     -11.760   1.960  -1.960  1.00  0.00          PT  \nATOM     33   Pt MOL     1      -9.800   0.000  -1.960  1.00  0.00          PT  \nATOM     34   Pt MOL     1      -9.800   1.960  -3.920  1.00  0.00          PT  \nATOM     35   Pt MOL     1     -11.760   0.000   0.000  1.00  0.00          PT  \nATOM     36   Pt MOL     1     -11.760   1.960   1.960  1.00  0.00          PT  \nATOM     37   Pt MOL     1      -9.800   0.000   1.960  1.00  0.00          PT  \nATOM     38   Pt MOL     1      -9.800   1.960   0.000  1.00  0.00          PT  \nATOM     39   Pt MOL     1     -11.760   0.000   3.920  1.00  0.00          PT  \nATOM     40   Pt MOL     1     -11.760   1.960   5.880  1.00  0.00          PT  \nATOM     41   Pt MOL     1      -9.800   0.000   5.880  1.00  0.00          PT  \nATOM     42   Pt MOL     1      -9.800   1.960   3.920  1.00  0.00          PT  \nATOM     43   Pt MOL     1     -11.760   0.000   7.840  1.00  0.00          PT  \nATOM     44   Pt MOL     1      -9.800   0.000   9.800  1.00  0.00          PT  \nATOM     45   Pt MOL     1      -9.800   1.960   7.840  1.00  0.00          PT  \nATOM     46   Pt MOL     1      -9.800   3.920  -5.880  1.00  0.00          PT  \nATOM     47   Pt MOL     1     -11.760   3.920  -3.920  1.00  0.00          PT  \nATOM     48   Pt MOL     1     -11.760   5.880  -1.960  1.00  0.00          PT  \nATOM     49   Pt MOL     1      -9.800   3.920  -1.960  1.00  0.00          PT  \nATOM     50   Pt MOL     1      -9.800   5.880  -3.920  1.00  0.00          PT  \nATOM     51   Pt MOL     1     -11.760   3.920   0.000  1.00  0.00          PT  \nATOM     52   Pt MOL     1     -11.760   5.880   1.960  1.00  0.00          PT  \nATOM     53   Pt MOL     1      -9.800   3.920   1.960  1.00  0.00          PT  \nATOM     54   Pt MOL     1      -9.800   5.880   0.000  1.00  0.00          PT  \nATOM     55   Pt MOL     1     -11.760   3.920   3.920  1.00  0.00          PT  \nATOM     56   Pt MOL     1      -9.800   3.920   5.880  1.00  0.00          PT  \nATOM     57   Pt MOL     1      -9.800   5.880   3.920  1.00  0.00          PT  \nATOM     58   Pt MOL     1      -9.800   7.840  -1.960  1.00  0.00          PT  \nATOM     59   Pt MOL     1     -11.760   7.840   0.000  1.00  0.00          PT  \nATOM     60   Pt MOL     1      -9.800   7.840   1.960  1.00  0.00          PT  \nATOM     61   Pt MOL     1      -9.800   9.800   0.000  1.00  0.00          PT  \nATOM     62   Pt MOL     1      -7.840  -9.800  -1.960  1.00  0.00          PT  \nATOM     63   Pt MOL     1      -5.880 -11.760  -1.960  1.00  0.00          PT  \nATOM     64   Pt MOL     1      -5.880  -9.800  -3.920  1.00  0.00          PT  \nATOM     65   Pt MOL     1      -7.840 -11.760   0.000  1.00  0.00          PT  \nATOM     66   Pt MOL     1      -7.840  -9.800   1.960  1.00  0.00          PT  \nATOM     67   Pt MOL     1      -5.880 -11.760   1.960  1.00  0.00          PT  \nATOM     68   Pt MOL     1      -5.880  -9.800   0.000  1.00  0.00          PT  \nATOM     69   Pt MOL     1      -5.880  -9.800   3.920  1.00  0.00          PT  \nATOM     70   Pt MOL     1      -7.840  -5.880  -5.880  1.00  0.00          PT  \nATOM     71   Pt MOL     1      -5.880  -7.840  -5.880  1.00  0.00          PT  \nATOM     72   Pt MOL     1      -5.880  -5.880  -7.840  1.00  0.00          PT  \nATOM     73   Pt MOL     1      -7.840  -7.840  -3.920  1.00  0.00          PT  \nATOM     74   Pt MOL     1      -7.840  -5.880  -1.960  1.00  0.00          PT  \nATOM     75   Pt MOL     1      -5.880  -7.840  -1.960  1.00  0.00          PT  \nATOM     76   Pt MOL     1      -5.880  -5.880  -3.920  1.00  0.00          PT  \nATOM     77   Pt MOL     1      -7.840  -7.840   0.000  1.00  0.00          PT  \nATOM     78   Pt MOL     1      -7.840  -5.880   1.960  1.00  0.00          PT  \nATOM     79   Pt MOL     1      -5.880  -7.840   1.960  1.00  0.00          PT  \nATOM     80   Pt MOL     1      -5.880  -5.880   0.000  1.00  0.00          PT  \nATOM     81   Pt MOL     1      -7.840  -7.840   3.920  1.00  0.00          PT  \nATOM     82   Pt MOL     1      -7.840  -5.880   5.880  1.00  0.00          PT  \nATOM     83   Pt MOL     1      -5.880  -7.840   5.880  1.00  0.00          PT  \nATOM     84   Pt MOL     1      -5.880  -5.880   3.920  1.00  0.00          PT  \nATOM     85   Pt MOL     1      -5.880  -5.880   7.840  1.00  0.00          PT  \nATOM     86   Pt MOL     1      -7.840  -1.960  -9.800  1.00  0.00          PT  \nATOM     87   Pt MOL     1      -5.880  -3.920  -9.800  1.00  0.00          PT  \nATOM     88   Pt MOL     1      -5.880  -1.960 -11.760  1.00  0.00          PT  \nATOM     89   Pt MOL     1      -7.840  -3.920  -7.840  1.00  0.00          PT  \nATOM     90   Pt MOL     1      -7.840  -1.960  -5.880  1.00  0.00          PT  \nATOM     91   Pt MOL     1      -5.880  -3.920  -5.880  1.00  0.00          PT  \nATOM     92   Pt MOL     1      -5.880  -1.960  -7.840  1.00  0.00          PT  \nATOM     93   Pt MOL     1      -7.840  -3.920  -3.920  1.00  0.00          PT  \nATOM     94   Pt MOL     1      -7.840  -1.960  -1.960  1.00  0.00          PT  \nATOM     95   Pt MOL     1      -5.880  -3.920  -1.960  1.00  0.00          PT  \nATOM     96   Pt MOL     1      -5.880  -1.960  -3.920  1.00  0.00          PT  \nATOM     97   Pt MOL     1      -7.840  -3.920   0.000  1.00  0.00          PT  \nATOM     98   Pt MOL     1      -7.840  -1.960   1.960  1.00  0.00          PT  \nATOM     99   Pt MOL     1      -5.880  -3.920   1.960  1.00  0.00          PT  \nATOM    100   Pt MOL     1      -5.880  -1.960   0.000  1.00  0.00          PT  \nATOM    101   Pt MOL     1      -7.840  -3.920   3.920  1.00  0.00          PT  \nATOM    102   Pt MOL     1      -7.840  -1.960   5.880  1.00  0.00          PT  \nATOM    103   Pt MOL     1      -5.880  -3.920   5.880  1.00  0.00          PT  \nATOM    104   Pt MOL     1      -5.880  -1.960   3.920  1.00  0.00          PT  \nATOM    105   Pt MOL     1      -7.840  -3.920   7.840  1.00  0.00          PT  \nATOM    106   Pt MOL     1      -7.840  -1.960   9.800  1.00  0.00          PT  \nATOM    107   Pt MOL     1      -5.880  -3.920   9.800  1.00  0.00          PT  \nATOM    108   Pt MOL     1      -5.880  -1.960   7.840  1.00  0.00          PT  \nATOM    109   Pt MOL     1      -5.880  -1.960  11.760  1.00  0.00          PT  \nATOM    110   Pt MOL     1      -7.840   0.000 -11.760  1.00  0.00          PT  \nATOM    111   Pt MOL     1      -7.840   1.960  -9.800  1.00  0.00          PT  \nATOM    112   Pt MOL     1      -5.880   0.000  -9.800  1.00  0.00          PT  \nATOM    113   Pt MOL     1      -5.880   1.960 -11.760  1.00  0.00          PT  \nATOM    114   Pt MOL     1      -7.840   0.000  -7.840  1.00  0.00          PT  \nATOM    115   Pt MOL     1      -7.840   1.960  -5.880  1.00  0.00          PT  \nATOM    116   Pt MOL     1      -5.880   0.000  -5.880  1.00  0.00          PT  \nATOM    117   Pt MOL     1      -5.880   1.960  -7.840  1.00  0.00          PT  \nATOM    118   Pt MOL     1      -7.840   0.000  -3.920  1.00  0.00          PT  \nATOM    119   Pt MOL     1      -7.840   1.960  -1.960  1.00  0.00          PT  \nATOM    120   Pt MOL     1      -5.880   0.000  -1.960  1.00  0.00          PT  \nATOM    121   Pt MOL     1      -5.880   1.960  -3.920  1.00  0.00          PT  \nATOM    122   Pt MOL     1      -7.840   0.000   0.000  1.00  0.00          PT  \nATOM    123   Pt MOL     1      -7.840   1.960   1.960  1.00  0.00          PT  \nATOM    124   Pt MOL     1      -5.880   0.000   1.960  1.00  0.00          PT  \nATOM    125   Pt MOL     1      -5.880   1.960   0.000  1.00  0.00          PT  \nATOM    126   Pt MOL     1      -7.840   0.000   3.920  1.00  0.00          PT  \nATOM    127   Pt MOL     1      -7.840   1.960   5.880  1.00  0.00          PT  \nATOM    128   Pt MOL     1      -5.880   0.000   5.880  1.00  0.00          PT  \nATOM    129   Pt MOL     1      -5.880   1.960   3.920  1.00  0.00          PT  \nATOM    130   Pt MOL     1      -7.840   0.000   7.840  1.00  0.00          PT  \nATOM    131   Pt MOL     1      -7.840   1.960   9.800  1.00  0.00          PT  \nATOM    132   Pt MOL     1      -5.880   0.000   9.800  1.00  0.00          PT  \nATOM    133   Pt MOL     1      -5.880   1.960   7.840  1.00  0.00          PT  \nATOM    134   Pt MOL     1      -7.840   0.000  11.760  1.00  0.00          PT  \nATOM    135   Pt MOL     1      -5.880   1.960  11.760  1.00  0.00          PT  \nATOM    136   Pt MOL     1      -5.880   3.920  -9.800  1.00  0.00          PT  \nATOM    137   Pt MOL     1      -7.840   3.920  -7.840  1.00  0.00          PT  \nATOM    138   Pt MOL     1      -7.840   5.880  -5.880  1.00  0.00          PT  \nATOM    139   Pt MOL     1      -5.880   3.920  -5.880  1.00  0.00          PT  \nATOM    140   Pt MOL     1      -5.880   5.880  -7.840  1.00  0.00          PT  \nATOM    141   Pt MOL     1      -7.840   3.920  -3.920  1.00  0.00          PT  \nATOM    142   Pt MOL     1      -7.840   5.880  -1.960  1.00  0.00          PT  \nATOM    143   Pt MOL     1      -5.880   3.920  -1.960  1.00  0.00          PT  \nATOM    144   Pt MOL     1      -5.880   5.880  -3.920  1.00  0.00          PT  \nATOM    145   Pt MOL     1      -7.840   3.920   0.000  1.00  0.00          PT  \nATOM    146   Pt MOL     1      -7.840   5.880   1.960  1.00  0.00          PT  \nATOM    147   Pt MOL     1      -5.880   3.920   1.960  1.00  0.00          PT  \nATOM    148   Pt MOL     1      -5.880   5.880   0.000  1.00  0.00          PT  \nATOM    149   Pt MOL     1      -7.840   3.920   3.920  1.00  0.00          PT  \nATOM    150   Pt MOL     1      -7.840   5.880   5.880  1.00  0.00          PT  \nATOM    151   Pt MOL     1      -5.880   3.920   5.880  1.00  0.00          PT  \nATOM    152   Pt MOL     1      -5.880   5.880   3.920  1.00  0.00          PT  \nATOM    153   Pt MOL     1      -7.840   3.920   7.840  1.00  0.00          PT  \nATOM    154   Pt MOL     1      -5.880   3.920   9.800  1.00  0.00          PT  \nATOM    155   Pt MOL     1      -5.880   5.880   7.840  1.00  0.00          PT  \nATOM    156   Pt MOL     1      -5.880   7.840  -5.880  1.00  0.00          PT  \nATOM    157   Pt MOL     1      -7.840   7.840  -3.920  1.00  0.00          PT  \nATOM    158   Pt MOL     1      -7.840   9.800  -1.960  1.00  0.00          PT  \nATOM    159   Pt MOL     1      -5.880   7.840  -1.960  1.00  0.00          PT  \nATOM    160   Pt MOL     1      -5.880   9.800  -3.920  1.00  0.00          PT  \nATOM    161   Pt MOL     1      -7.840   7.840   0.000  1.00  0.00          PT  \nATOM    162   Pt MOL     1      -7.840   9.800   1.960  1.00  0.00          PT  \nATOM    163   Pt MOL     1      -5.880   7.840   1.960  1.00  0.00          PT  \nATOM    164   Pt MOL     1      -5.880   9.800   0.000  1.00  0.00          PT  \nATOM    165   Pt MOL     1      -7.840   7.840   3.920  1.00  0.00          PT  \nATOM    166   Pt MOL     1      -5.880   7.840   5.880  1.00  0.00          PT  \nATOM    167   Pt MOL     1      -5.880   9.800   3.920  1.00  0.00          PT  \nATOM    168   Pt MOL     1      -5.880  11.760  -1.960  1.00  0.00          PT  \nATOM    169   Pt MOL     1      -7.840  11.760   0.000  1.00  0.00          PT  \nATOM    170   Pt MOL     1      -5.880  11.760   1.960  1.00  0.00          PT  \nATOM    171   Pt MOL     1      -3.920  -9.800  -5.880  1.00  0.00          PT  \nATOM    172   Pt MOL     1      -1.960 -11.760  -5.880  1.00  0.00          PT  \nATOM    173   Pt MOL     1      -1.960  -9.800  -7.840  1.00  0.00          PT  \nATOM    174   Pt MOL     1      -3.920 -11.760  -3.920  1.00  0.00          PT  \nATOM    175   Pt MOL     1      -3.920  -9.800  -1.960  1.00  0.00          PT  \nATOM    176   Pt MOL     1      -1.960 -11.760  -1.960  1.00  0.00          PT  \nATOM    177   Pt MOL     1      -1.960  -9.800  -3.920  1.00  0.00          PT  \nATOM    178   Pt MOL     1      -3.920 -11.760   0.000  1.00  0.00          PT  \nATOM    179   Pt MOL     1      -3.920  -9.800   1.960  1.00  0.00          PT  \nATOM    180   Pt MOL     1      -1.960 -11.760   1.960  1.00  0.00          PT  \nATOM    181   Pt MOL     1      -1.960  -9.800   0.000  1.00  0.00          PT  \nATOM    182   Pt MOL     1      -3.920 -11.760   3.920  1.00  0.00          PT  \nATOM    183   Pt MOL     1      -3.920  -9.800   5.880  1.00  0.00          PT  \nATOM    184   Pt MOL     1      -1.960 -11.760   5.880  1.00  0.00          PT  \nATOM    185   Pt MOL     1      -1.960  -9.800   3.920  1.00  0.00          PT  \nATOM    186   Pt MOL     1      -1.960  -9.800   7.840  1.00  0.00          PT  \nATOM    187   Pt MOL     1      -3.920  -5.880  -9.800  1.00  0.00          PT  \nATOM    188   Pt MOL     1      -1.960  -7.840  -9.800  1.00  0.00          PT  \nATOM    189   Pt MOL     1      -1.960  -5.880 -11.760  1.00  0.00          PT  \nATOM    190   Pt MOL     1      -3.920  -7.840  -7.840  1.00  0.00          PT  \nATOM    191   Pt MOL     1      -3.920  -5.880  -5.880  1.00  0.00          PT  \nATOM    192   Pt MOL     1      -1.960  -7.840  -5.880  1.00  0.00          PT  \nATOM    193   Pt MOL     1      -1.960  -5.880  -7.840  1.00  0.00          PT  \nATOM    194   Pt MOL     1      -3.920  -7.840  -3.920  1.00  0.00          PT  \nATOM    195   Pt MOL     1      -3.920  -5.880  -1.960  1.00  0.00          PT  \nATOM    196   Pt MOL     1      -1.960  -7.840  -1.960  1.00  0.00          PT  \nATOM    197   Pt MOL     1      -1.960  -5.880  -3.920  1.00  0.00          PT  \nATOM    198   Pt MOL     1      -3.920  -7.840   0.000  1.00  0.00          PT  \nATOM    199   Pt MOL     1      -3.920  -5.880   1.960  1.00  0.00          PT  \nATOM    200   Pt MOL     1      -1.960  -7.840   1.960  1.00  0.00          PT  \nATOM    201   Pt MOL     1      -1.960  -5.880   0.000  1.00  0.00          PT  \nATOM    202   Pt MOL     1      -3.920  -7.840   3.920  1.00  0.00          PT  \nATOM    203   Pt MOL     1      -3.920  -5.880   5.880  1.00  0.00          PT  \nATOM    204   Pt MOL     1      -1.960  -7.840   5.880  1.00  0.00          PT  \nATOM    205   Pt MOL     1      -1.960  -5.880   3.920  1.00  0.00          PT  \nATOM    206   Pt MOL     1      -3.920  -7.840   7.840  1.00  0.00          PT  \nATOM    207   Pt MOL     1      -3.920  -5.880   9.800  1.00  0.00          PT  \nATOM    208   Pt MOL     1      -1.960  -7.840   9.800  1.00  0.00          PT  \nATOM    209   Pt MOL     1      -1.960  -5.880   7.840  1.00  0.00          PT  \nATOM    210   Pt MOL     1      -1.960  -5.880  11.760  1.00  0.00          PT  \nATOM    211   Pt MOL     1      -3.920  -3.920 -11.760  1.00  0.00          PT  \nATOM    212   Pt MOL     1      -3.920  -1.960  -9.800  1.00  0.00          PT  \nATOM    213   Pt MOL     1      -1.960  -3.920  -9.800  1.00  0.00          PT  \nATOM    214   Pt MOL     1      -1.960  -1.960 -11.760  1.00  0.00          PT  \nATOM    215   Pt MOL     1      -3.920  -3.920  -7.840  1.00  0.00          PT  \nATOM    216   Pt MOL     1      -3.920  -1.960  -5.880  1.00  0.00          PT  \nATOM    217   Pt MOL     1      -1.960  -3.920  -5.880  1.00  0.00          PT  \nATOM    218   Pt MOL     1      -1.960  -1.960  -7.840  1.00  0.00          PT  \nATOM    219   Pt MOL     1      -3.920  -3.920  -3.920  1.00  0.00          PT  \nATOM    220   Pt MOL     1      -3.920  -1.960  -1.960  1.00  0.00          PT  \nATOM    221   Pt MOL     1      -1.960  -3.920  -1.960  1.00  0.00          PT  \nATOM    222   Pt MOL     1      -1.960  -1.960  -3.920  1.00  0.00          PT  \nATOM    223   Pt MOL     1      -3.920  -3.920   0.000  1.00  0.00          PT  \nATOM    224   Pt MOL     1      -3.920  -1.960   1.960  1.00  0.00          PT  \nATOM    225   Pt MOL     1      -1.960  -3.920   1.960  1.00  0.00          PT  \nATOM    226   Pt MOL     1      -1.960  -1.960   0.000  1.00  0.00          PT  \nATOM    227   Pt MOL     1      -3.920  -3.920   3.920  1.00  0.00          PT  \nATOM    228   Pt MOL     1      -3.920  -1.960   5.880  1.00  0.00          PT  \nATOM    229   Pt MOL     1      -1.960  -3.920   5.880  1.00  0.00          PT  \nATOM    230   Pt MOL     1      -1.960  -1.960   3.920  1.00  0.00          PT  \nATOM    231   Pt MOL     1      -3.920  -3.920   7.840  1.00  0.00          PT  \nATOM    232   Pt MOL     1      -3.920  -1.960   9.800  1.00  0.00          PT  \nATOM    233   Pt MOL     1      -1.960  -3.920   9.800  1.00  0.00          PT  \nATOM    234   Pt MOL     1      -1.960  -1.960   7.840  1.00  0.00          PT  \nATOM    235   Pt MOL     1      -3.920  -3.920  11.760  1.00  0.00          PT  \nATOM    236   Pt MOL     1      -1.960  -1.960  11.760  1.00  0.00          PT  \nATOM    237   Pt MOL     1      -3.920   0.000 -11.760  1.00  0.00          PT  \nATOM    238   Pt MOL     1      -3.920   1.960  -9.800  1.00  0.00          PT  \nATOM    239   Pt MOL     1      -1.960   0.000  -9.800  1.00  0.00          PT  \nATOM    240   Pt MOL     1      -1.960   1.960 -11.760  1.00  0.00          PT  \nATOM    241   Pt MOL     1      -3.920   0.000  -7.840  1.00  0.00          PT  \nATOM    242   Pt MOL     1      -3.920   1.960  -5.880  1.00  0.00          PT  \nATOM    243   Pt MOL     1      -1.960   0.000  -5.880  1.00  0.00          PT  \nATOM    244   Pt MOL     1      -1.960   1.960  -7.840  1.00  0.00          PT  \nATOM    245   Pt MOL     1      -3.920   0.000  -3.920  1.00  0.00          PT  \nATOM    246   Pt MOL     1      -3.920   1.960  -1.960  1.00  0.00          PT  \nATOM    247   Pt MOL     1      -1.960   0.000  -1.960  1.00  0.00          PT  \nATOM    248   Pt MOL     1      -1.960   1.960  -3.920  1.00  0.00          PT  \nATOM    249   Pt MOL     1      -3.920   0.000   0.000  1.00  0.00          PT  \nATOM    250   Pt MOL     1      -3.920   1.960   1.960  1.00  0.00          PT  \nATOM    251   Pt MOL     1      -1.960   0.000   1.960  1.00  0.00          PT  \nATOM    252   Pt MOL     1      -1.960   1.960   0.000  1.00  0.00          PT  \nATOM    253   Pt MOL     1      -3.920   0.000   3.920  1.00  0.00          PT  \nATOM    254   Pt MOL     1      -3.920   1.960   5.880  1.00  0.00          PT  \nATOM    255   Pt MOL     1      -1.960   0.000   5.880  1.00  0.00          PT  \nATOM    256   Pt MOL     1      -1.960   1.960   3.920  1.00  0.00          PT  \nATOM    257   Pt MOL     1      -3.920   0.000   7.840  1.00  0.00          PT  \nATOM    258   Pt MOL     1      -3.920   1.960   9.800  1.00  0.00          PT  \nATOM    259   Pt MOL     1      -1.960   0.000   9.800  1.00  0.00          PT  \nATOM    260   Pt MOL     1      -1.960   1.960   7.840  1.00  0.00          PT  \nATOM    261   Pt MOL     1      -3.920   0.000  11.760  1.00  0.00          PT  \nATOM    262   Pt MOL     1      -1.960   1.960  11.760  1.00  0.00          PT  \nATOM    263   Pt MOL     1      -3.920   3.920 -11.760  1.00  0.00          PT  \nATOM    264   Pt MOL     1      -3.920   5.880  -9.800  1.00  0.00          PT  \nATOM    265   Pt MOL     1      -1.960   3.920  -9.800  1.00  0.00          PT  \nATOM    266   Pt MOL     1      -1.960   5.880 -11.760  1.00  0.00          PT  \nATOM    267   Pt MOL     1      -3.920   3.920  -7.840  1.00  0.00          PT  \nATOM    268   Pt MOL     1      -3.920   5.880  -5.880  1.00  0.00          PT  \nATOM    269   Pt MOL     1      -1.960   3.920  -5.880  1.00  0.00          PT  \nATOM    270   Pt MOL     1      -1.960   5.880  -7.840  1.00  0.00          PT  \nATOM    271   Pt MOL     1      -3.920   3.920  -3.920  1.00  0.00          PT  \nATOM    272   Pt MOL     1      -3.920   5.880  -1.960  1.00  0.00          PT  \nATOM    273   Pt MOL     1      -1.960   3.920  -1.960  1.00  0.00          PT  \nATOM    274   Pt MOL     1      -1.960   5.880  -3.920  1.00  0.00          PT  \nATOM    275   Pt MOL     1      -3.920   3.920   0.000  1.00  0.00          PT  \nATOM    276   Pt MOL     1      -3.920   5.880   1.960  1.00  0.00          PT  \nATOM    277   Pt MOL     1      -1.960   3.920   1.960  1.00  0.00          PT  \nATOM    278   Pt MOL     1      -1.960   5.880   0.000  1.00  0.00          PT  \nATOM    279   Pt MOL     1      -3.920   3.920   3.920  1.00  0.00          PT  \nATOM    280   Pt MOL     1      -3.920   5.880   5.880  1.00  0.00          PT  \nATOM    281   Pt MOL     1      -1.960   3.920   5.880  1.00  0.00          PT  \nATOM    282   Pt MOL     1      -1.960   5.880   3.920  1.00  0.00          PT  \nATOM    283   Pt MOL     1      -3.920   3.920   7.840  1.00  0.00          PT  \nATOM    284   Pt MOL     1      -3.920   5.880   9.800  1.00  0.00          PT  \nATOM    285   Pt MOL     1      -1.960   3.920   9.800  1.00  0.00          PT  \nATOM    286   Pt MOL     1      -1.960   5.880   7.840  1.00  0.00          PT  \nATOM    287   Pt MOL     1      -3.920   3.920  11.760  1.00  0.00          PT  \nATOM    288   Pt MOL     1      -1.960   5.880  11.760  1.00  0.00          PT  \nATOM    289   Pt MOL     1      -1.960   7.840  -9.800  1.00  0.00          PT  \nATOM    290   Pt MOL     1      -3.920   7.840  -7.840  1.00  0.00          PT  \nATOM    291   Pt MOL     1      -3.920   9.800  -5.880  1.00  0.00          PT  \nATOM    292   Pt MOL     1      -1.960   7.840  -5.880  1.00  0.00          PT  \nATOM    293   Pt MOL     1      -1.960   9.800  -7.840  1.00  0.00          PT  \nATOM    294   Pt MOL     1      -3.920   7.840  -3.920  1.00  0.00          PT  \nATOM    295   Pt MOL     1      -3.920   9.800  -1.960  1.00  0.00          PT  \nATOM    296   Pt MOL     1      -1.960   7.840  -1.960  1.00  0.00          PT  \nATOM    297   Pt MOL     1      -1.960   9.800  -3.920  1.00  0.00          PT  \nATOM    298   Pt MOL     1      -3.920   7.840   0.000  1.00  0.00          PT  \nATOM    299   Pt MOL     1      -3.920   9.800   1.960  1.00  0.00          PT  \nATOM    300   Pt MOL     1      -1.960   7.840   1.960  1.00  0.00          PT  \nATOM    301   Pt MOL     1      -1.960   9.800   0.000  1.00  0.00          PT  \nATOM    302   Pt MOL     1      -3.920   7.840   3.920  1.00  0.00          PT  \nATOM    303   Pt MOL     1      -3.920   9.800   5.880  1.00  0.00          PT  \nATOM    304   Pt MOL     1      -1.960   7.840   5.880  1.00  0.00          PT  \nATOM    305   Pt MOL     1      -1.960   9.800   3.920  1.00  0.00          PT  \nATOM    306   Pt MOL     1      -3.920   7.840   7.840  1.00  0.00          PT  \nATOM    307   Pt MOL     1      -1.960   7.840   9.800  1.00  0.00          PT  \nATOM    308   Pt MOL     1      -1.960   9.800   7.840  1.00  0.00          PT  \nATOM    309   Pt MOL     1      -1.960  11.760  -5.880  1.00  0.00          PT  \nATOM    310   Pt MOL     1      -3.920  11.760  -3.920  1.00  0.00          PT  \nATOM    311   Pt MOL     1      -1.960  11.760  -1.960  1.00  0.00          PT  \nATOM    312   Pt MOL     1      -3.920  11.760   0.000  1.00  0.00          PT  \nATOM    313   Pt MOL     1      -1.960  11.760   1.960  1.00  0.00          PT  \nATOM    314   Pt MOL     1      -3.920  11.760   3.920  1.00  0.00          PT  \nATOM    315   Pt MOL     1      -1.960  11.760   5.880  1.00  0.00          PT  \nATOM    316   Pt MOL     1       0.000  -9.800  -9.800  1.00  0.00          PT  \nATOM    317   Pt MOL     1       0.000 -11.760  -7.840  1.00  0.00          PT  \nATOM    318   Pt MOL     1       0.000  -9.800  -5.880  1.00  0.00          PT  \nATOM    319   Pt MOL     1       1.960 -11.760  -5.880  1.00  0.00          PT  \nATOM    320   Pt MOL     1       1.960  -9.800  -7.840  1.00  0.00          PT  \nATOM    321   Pt MOL     1       0.000 -11.760  -3.920  1.00  0.00          PT  \nATOM    322   Pt MOL     1       0.000  -9.800  -1.960  1.00  0.00          PT  \nATOM    323   Pt MOL     1       1.960 -11.760  -1.960  1.00  0.00          PT  \nATOM    324   Pt MOL     1       1.960  -9.800  -3.920  1.00  0.00          PT  \nATOM    325   Pt MOL     1       0.000 -11.760   0.000  1.00  0.00          PT  \nATOM    326   Pt MOL     1       0.000  -9.800   1.960  1.00  0.00          PT  \nATOM    327   Pt MOL     1       1.960 -11.760   1.960  1.00  0.00          PT  \nATOM    328   Pt MOL     1       1.960  -9.800   0.000  1.00  0.00          PT  \nATOM    329   Pt MOL     1       0.000 -11.760   3.920  1.00  0.00          PT  \nATOM    330   Pt MOL     1       0.000  -9.800   5.880  1.00  0.00          PT  \nATOM    331   Pt MOL     1       1.960 -11.760   5.880  1.00  0.00          PT  \nATOM    332   Pt MOL     1       1.960  -9.800   3.920  1.00  0.00          PT  \nATOM    333   Pt MOL     1       0.000 -11.760   7.840  1.00  0.00          PT  \nATOM    334   Pt MOL     1       0.000  -9.800   9.800  1.00  0.00          PT  \nATOM    335   Pt MOL     1       1.960  -9.800   7.840  1.00  0.00          PT  \nATOM    336   Pt MOL     1       0.000  -7.840 -11.760  1.00  0.00          PT  \nATOM    337   Pt MOL     1       0.000  -5.880  -9.800  1.00  0.00          PT  \nATOM    338   Pt MOL     1       1.960  -7.840  -9.800  1.00  0.00          PT  \nATOM    339   Pt MOL     1       1.960  -5.880 -11.760  1.00  0.00          PT  \nATOM    340   Pt MOL     1       0.000  -7.840  -7.840  1.00  0.00          PT  \nATOM    341   Pt MOL     1       0.000  -5.880  -5.880  1.00  0.00          PT  \nATOM    342   Pt MOL     1       1.960  -7.840  -5.880  1.00  0.00          PT  \nATOM    343   Pt MOL     1       1.960  -5.880  -7.840  1.00  0.00          PT  \nATOM    344   Pt MOL     1       0.000  -7.840  -3.920  1.00  0.00          PT  \nATOM    345   Pt MOL     1       0.000  -5.880  -1.960  1.00  0.00          PT  \nATOM    346   Pt MOL     1       1.960  -7.840  -1.960  1.00  0.00          PT  \nATOM    347   Pt MOL     1       1.960  -5.880  -3.920  1.00  0.00          PT  \nATOM    348   Pt MOL     1       0.000  -7.840   0.000  1.00  0.00          PT  \nATOM    349   Pt MOL     1       0.000  -5.880   1.960  1.00  0.00          PT  \nATOM    350   Pt MOL     1       1.960  -7.840   1.960  1.00  0.00          PT  \nATOM    351   Pt MOL     1       1.960  -5.880   0.000  1.00  0.00          PT  \nATOM    352   Pt MOL     1       0.000  -7.840   3.920  1.00  0.00          PT  \nATOM    353   Pt MOL     1       0.000  -5.880   5.880  1.00  0.00          PT  \nATOM    354   Pt MOL     1       1.960  -7.840   5.880  1.00  0.00          PT  \nATOM    355   Pt MOL     1       1.960  -5.880   3.920  1.00  0.00          PT  \nATOM    356   Pt MOL     1       0.000  -7.840   7.840  1.00  0.00          PT  \nATOM    357   Pt MOL     1       0.000  -5.880   9.800  1.00  0.00          PT  \nATOM    358   Pt MOL     1       1.960  -7.840   9.800  1.00  0.00          PT  \nATOM    359   Pt MOL     1       1.960  -5.880   7.840  1.00  0.00          PT  \nATOM    360   Pt MOL     1       0.000  -7.840  11.760  1.00  0.00          PT  \nATOM    361   Pt MOL     1       1.960  -5.880  11.760  1.00  0.00          PT  \nATOM    362   Pt MOL     1       0.000  -3.920 -11.760  1.00  0.00          PT  \nATOM    363   Pt MOL     1       0.000  -1.960  -9.800  1.00  0.00          PT  \nATOM    364   Pt MOL     1       1.960  -3.920  -9.800  1.00  0.00          PT  \nATOM    365   Pt MOL     1       1.960  -1.960 -11.760  1.00  0.00          PT  \nATOM    366   Pt MOL     1       0.000  -3.920  -7.840  1.00  0.00          PT  \nATOM    367   Pt MOL     1       0.000  -1.960  -5.880  1.00  0.00          PT  \nATOM    368   Pt MOL     1       1.960  -3.920  -5.880  1.00  0.00          PT  \nATOM    369   Pt MOL     1       1.960  -1.960  -7.840  1.00  0.00          PT  \nATOM    370   Pt MOL     1       0.000  -3.920  -3.920  1.00  0.00          PT  \nATOM    371   Pt MOL     1       0.000  -1.960  -1.960  1.00  0.00          PT  \nATOM    372   Pt MOL     1       1.960  -3.920  -1.960  1.00  0.00          PT  \nATOM    373   Pt MOL     1       1.960  -1.960  -3.920  1.00  0.00          PT  \nATOM    374   Pt MOL     1       0.000  -3.920   0.000  1.00  0.00          PT  \nATOM    375   Pt MOL     1       0.000  -1.960   1.960  1.00  0.00          PT  \nATOM    376   Pt MOL     1       1.960  -3.920   1.960  1.00  0.00          PT  \nATOM    377   Pt MOL     1       1.960  -1.960   0.000  1.00  0.00          PT  \nATOM    378   Pt MOL     1       0.000  -3.920   3.920  1.00  0.00          PT  \nATOM    379   Pt MOL     1       0.000  -1.960   5.880  1.00  0.00          PT  \nATOM    380   Pt MOL     1       1.960  -3.920   5.880  1.00  0.00          PT  \nATOM    381   Pt MOL     1       1.960  -1.960   3.920  1.00  0.00          PT  \nATOM    382   Pt MOL     1       0.000  -3.920   7.840  1.00  0.00          PT  \nATOM    383   Pt MOL     1       0.000  -1.960   9.800  1.00  0.00          PT  \nATOM    384   Pt MOL     1       1.960  -3.920   9.800  1.00  0.00          PT  \nATOM    385   Pt MOL     1       1.960  -1.960   7.840  1.00  0.00          PT  \nATOM    386   Pt MOL     1       0.000  -3.920  11.760  1.00  0.00          PT  \nATOM    387   Pt MOL     1       1.960  -1.960  11.760  1.00  0.00          PT  \nATOM    388   Pt MOL     1       0.000   0.000 -11.760  1.00  0.00          PT  \nATOM    389   Pt MOL     1       0.000   1.960  -9.800  1.00  0.00          PT  \nATOM    390   Pt MOL     1       1.960   0.000  -9.800  1.00  0.00          PT  \nATOM    391   Pt MOL     1       1.960   1.960 -11.760  1.00  0.00          PT  \nATOM    392   Pt MOL     1       0.000   0.000  -7.840  1.00  0.00          PT  \nATOM    393   Pt MOL     1       0.000   1.960  -5.880  1.00  0.00          PT  \nATOM    394   Pt MOL     1       1.960   0.000  -5.880  1.00  0.00          PT  \nATOM    395   Pt MOL     1       1.960   1.960  -7.840  1.00  0.00          PT  \nATOM    396   Pt MOL     1       0.000   0.000  -3.920  1.00  0.00          PT  \nATOM    397   Pt MOL     1       0.000   1.960  -1.960  1.00  0.00          PT  \nATOM    398   Pt MOL     1       1.960   0.000  -1.960  1.00  0.00          PT  \nATOM    399   Pt MOL     1       1.960   1.960  -3.920  1.00  0.00          PT  \nATOM    400   Pt MOL     1       0.000   0.000   0.000  1.00  0.00          PT  \nATOM    401   Pt MOL     1       0.000   1.960   1.960  1.00  0.00          PT  \nATOM    402   Pt MOL     1       1.960   0.000   1.960  1.00  0.00          PT  \nATOM    403   Pt MOL     1       1.960   1.960   0.000  1.00  0.00          PT  \nATOM    404   Pt MOL     1       0.000   0.000   3.920  1.00  0.00          PT  \nATOM    405   Pt MOL     1       0.000   1.960   5.880  1.00  0.00          PT  \nATOM    406   Pt MOL     1       1.960   0.000   5.880  1.00  0.00          PT  \nATOM    407   Pt MOL     1       1.960   1.960   3.920  1.00  0.00          PT  \nATOM    408   Pt MOL     1       0.000   0.000   7.840  1.00  0.00          PT  \nATOM    409   Pt MOL     1       0.000   1.960   9.800  1.00  0.00          PT  \nATOM    410   Pt MOL     1       1.960   0.000   9.800  1.00  0.00          PT  \nATOM    411   Pt MOL     1       1.960   1.960   7.840  1.00  0.00          PT  \nATOM    412   Pt MOL     1       0.000   0.000  11.760  1.00  0.00          PT  \nATOM    413   Pt MOL     1       1.960   1.960  11.760  1.00  0.00          PT  \nATOM    414   Pt MOL     1       0.000   3.920 -11.760  1.00  0.00          PT  \nATOM    415   Pt MOL     1       0.000   5.880  -9.800  1.00  0.00          PT  \nATOM    416   Pt MOL     1       1.960   3.920  -9.800  1.00  0.00          PT  \nATOM    417   Pt MOL     1       1.960   5.880 -11.760  1.00  0.00          PT  \nATOM    418   Pt MOL     1       0.000   3.920  -7.840  1.00  0.00          PT  \nATOM    419   Pt MOL     1       0.000   5.880  -5.880  1.00  0.00          PT  \nATOM    420   Pt MOL     1       1.960   3.920  -5.880  1.00  0.00          PT  \nATOM    421   Pt MOL     1       1.960   5.880  -7.840  1.00  0.00          PT  \nATOM    422   Pt MOL     1       0.000   3.920  -3.920  1.00  0.00          PT  \nATOM    423   Pt MOL     1       0.000   5.880  -1.960  1.00  0.00          PT  \nATOM    424   Pt MOL     1       1.960   3.920  -1.960  1.00  0.00          PT  \nATOM    425   Pt MOL     1       1.960   5.880  -3.920  1.00  0.00          PT  \nATOM    426   Pt MOL     1       0.000   3.920   0.000  1.00  0.00          PT  \nATOM    427   Pt MOL     1       0.000   5.880   1.960  1.00  0.00          PT  \nATOM    428   Pt MOL     1       1.960   3.920   1.960  1.00  0.00          PT  \nATOM    429   Pt MOL     1       1.960   5.880   0.000  1.00  0.00          PT  \nATOM    430   Pt MOL     1       0.000   3.920   3.920  1.00  0.00          PT  \nATOM    431   Pt MOL     1       0.000   5.880   5.880  1.00  0.00          PT  \nATOM    432   Pt MOL     1       1.960   3.920   5.880  1.00  0.00          PT  \nATOM    433   Pt MOL     1       1.960   5.880   3.920  1.00  0.00          PT  \nATOM    434   Pt MOL     1       0.000   3.920   7.840  1.00  0.00          PT  \nATOM    435   Pt MOL     1       0.000   5.880   9.800  1.00  0.00          PT  \nATOM    436   Pt MOL     1       1.960   3.920   9.800  1.00  0.00          PT  \nATOM    437   Pt MOL     1       1.960   5.880   7.840  1.00  0.00          PT  \nATOM    438   Pt MOL     1       0.000   3.920  11.760  1.00  0.00          PT  \nATOM    439   Pt MOL     1       1.960   5.880  11.760  1.00  0.00          PT  \nATOM    440   Pt MOL     1       0.000   7.840 -11.760  1.00  0.00          PT  \nATOM    441   Pt MOL     1       0.000   9.800  -9.800  1.00  0.00          PT  \nATOM    442   Pt MOL     1       1.960   7.840  -9.800  1.00  0.00          PT  \nATOM    443   Pt MOL     1       0.000   7.840  -7.840  1.00  0.00          PT  \nATOM    444   Pt MOL     1       0.000   9.800  -5.880  1.00  0.00          PT  \nATOM    445   Pt MOL     1       1.960   7.840  -5.880  1.00  0.00          PT  \nATOM    446   Pt MOL     1       1.960   9.800  -7.840  1.00  0.00          PT  \nATOM    447   Pt MOL     1       0.000   7.840  -3.920  1.00  0.00          PT  \nATOM    448   Pt MOL     1       0.000   9.800  -1.960  1.00  0.00          PT  \nATOM    449   Pt MOL     1       1.960   7.840  -1.960  1.00  0.00          PT  \nATOM    450   Pt MOL     1       1.960   9.800  -3.920  1.00  0.00          PT  \nATOM    451   Pt MOL     1       0.000   7.840   0.000  1.00  0.00          PT  \nATOM    452   Pt MOL     1       0.000   9.800   1.960  1.00  0.00          PT  \nATOM    453   Pt MOL     1       1.960   7.840   1.960  1.00  0.00          PT  \nATOM    454   Pt MOL     1       1.960   9.800   0.000  1.00  0.00          PT  \nATOM    455   Pt MOL     1       0.000   7.840   3.920  1.00  0.00          PT  \nATOM    456   Pt MOL     1       0.000   9.800   5.880  1.00  0.00          PT  \nATOM    457   Pt MOL     1       1.960   7.840   5.880  1.00  0.00          PT  \nATOM    458   Pt MOL     1       1.960   9.800   3.920  1.00  0.00          PT  \nATOM    459   Pt MOL     1       0.000   7.840   7.840  1.00  0.00          PT  \nATOM    460   Pt MOL     1       0.000   9.800   9.800  1.00  0.00          PT  \nATOM    461   Pt MOL     1       1.960   7.840   9.800  1.00  0.00          PT  \nATOM    462   Pt MOL     1       1.960   9.800   7.840  1.00  0.00          PT  \nATOM    463   Pt MOL     1       0.000   7.840  11.760  1.00  0.00          PT  \nATOM    464   Pt MOL     1       0.000  11.760  -7.840  1.00  0.00          PT  \nATOM    465   Pt MOL     1       1.960  11.760  -5.880  1.00  0.00          PT  \nATOM    466   Pt MOL     1       0.000  11.760  -3.920  1.00  0.00          PT  \nATOM    467   Pt MOL     1       1.960  11.760  -1.960  1.00  0.00          PT  \nATOM    468   Pt MOL     1       0.000  11.760   0.000  1.00  0.00          PT  \nATOM    469   Pt MOL     1       1.960  11.760   1.960  1.00  0.00          PT  \nATOM    470   Pt MOL     1       0.000  11.760   3.920  1.00  0.00          PT  \nATOM    471   Pt MOL     1       1.960  11.760   5.880  1.00  0.00          PT  \nATOM    472   Pt MOL     1       0.000  11.760   7.840  1.00  0.00          PT  \nATOM    473   Pt MOL     1       3.920  -9.800  -5.880  1.00  0.00          PT  \nATOM    474   Pt MOL     1       3.920 -11.760  -3.920  1.00  0.00          PT  \nATOM    475   Pt MOL     1       3.920  -9.800  -1.960  1.00  0.00          PT  \nATOM    476   Pt MOL     1       5.880 -11.760  -1.960  1.00  0.00          PT  \nATOM    477   Pt MOL     1       5.880  -9.800  -3.920  1.00  0.00          PT  \nATOM    478   Pt MOL     1       3.920 -11.760   0.000  1.00  0.00          PT  \nATOM    479   Pt MOL     1       3.920  -9.800   1.960  1.00  0.00          PT  \nATOM    480   Pt MOL     1       5.880 -11.760   1.960  1.00  0.00          PT  \nATOM    481   Pt MOL     1       5.880  -9.800   0.000  1.00  0.00          PT  \nATOM    482   Pt MOL     1       3.920 -11.760   3.920  1.00  0.00          PT  \nATOM    483   Pt MOL     1       3.920  -9.800   5.880  1.00  0.00          PT  \nATOM    484   Pt MOL     1       5.880  -9.800   3.920  1.00  0.00          PT  \nATOM    485   Pt MOL     1       3.920  -5.880  -9.800  1.00  0.00          PT  \nATOM    486   Pt MOL     1       3.920  -7.840  -7.840  1.00  0.00          PT  \nATOM    487   Pt MOL     1       3.920  -5.880  -5.880  1.00  0.00          PT  \nATOM    488   Pt MOL     1       5.880  -7.840  -5.880  1.00  0.00          PT  \nATOM    489   Pt MOL     1       5.880  -5.880  -7.840  1.00  0.00          PT  \nATOM    490   Pt MOL     1       3.920  -7.840  -3.920  1.00  0.00          PT  \nATOM    491   Pt MOL     1       3.920  -5.880  -1.960  1.00  0.00          PT  \nATOM    492   Pt MOL     1       5.880  -7.840  -1.960  1.00  0.00          PT  \nATOM    493   Pt MOL     1       5.880  -5.880  -3.920  1.00  0.00          PT  \nATOM    494   Pt MOL     1       3.920  -7.840   0.000  1.00  0.00          PT  \nATOM    495   Pt MOL     1       3.920  -5.880   1.960  1.00  0.00          PT  \nATOM    496   Pt MOL     1       5.880  -7.840   1.960  1.00  0.00          PT  \nATOM    497   Pt MOL     1       5.880  -5.880   0.000  1.00  0.00          PT  \nATOM    498   Pt MOL     1       3.920  -7.840   3.920  1.00  0.00          PT  \nATOM    499   Pt MOL     1       3.920  -5.880   5.880  1.00  0.00          PT  \nATOM    500   Pt MOL     1       5.880  -7.840   5.880  1.00  0.00          PT  \nATOM    501   Pt MOL     1       5.880  -5.880   3.920  1.00  0.00          PT  \nATOM    502   Pt MOL     1       3.920  -7.840   7.840  1.00  0.00          PT  \nATOM    503   Pt MOL     1       3.920  -5.880   9.800  1.00  0.00          PT  \nATOM    504   Pt MOL     1       5.880  -5.880   7.840  1.00  0.00          PT  \nATOM    505   Pt MOL     1       3.920  -3.920 -11.760  1.00  0.00          PT  \nATOM    506   Pt MOL     1       3.920  -1.960  -9.800  1.00  0.00          PT  \nATOM    507   Pt MOL     1       5.880  -3.920  -9.800  1.00  0.00          PT  \nATOM    508   Pt MOL     1       5.880  -1.960 -11.760  1.00  0.00          PT  \nATOM    509   Pt MOL     1       3.920  -3.920  -7.840  1.00  0.00          PT  \nATOM    510   Pt MOL     1       3.920  -1.960  -5.880  1.00  0.00          PT  \nATOM    511   Pt MOL     1       5.880  -3.920  -5.880  1.00  0.00          PT  \nATOM    512   Pt MOL     1       5.880  -1.960  -7.840  1.00  0.00          PT  \nATOM    513   Pt MOL     1       3.920  -3.920  -3.920  1.00  0.00          PT  \nATOM    514   Pt MOL     1       3.920  -1.960  -1.960  1.00  0.00          PT  \nATOM    515   Pt MOL     1       5.880  -3.920  -1.960  1.00  0.00          PT  \nATOM    516   Pt MOL     1       5.880  -1.960  -3.920  1.00  0.00          PT  \nATOM    517   Pt MOL     1       3.920  -3.920   0.000  1.00  0.00          PT  \nATOM    518   Pt MOL     1       3.920  -1.960   1.960  1.00  0.00          PT  \nATOM    519   Pt MOL     1       5.880  -3.920   1.960  1.00  0.00          PT  \nATOM    520   Pt MOL     1       5.880  -1.960   0.000  1.00  0.00          PT  \nATOM    521   Pt MOL     1       3.920  -3.920   3.920  1.00  0.00          PT  \nATOM    522   Pt MOL     1       3.920  -1.960   5.880  1.00  0.00          PT  \nATOM    523   Pt MOL     1       5.880  -3.920   5.880  1.00  0.00          PT  \nATOM    524   Pt MOL     1       5.880  -1.960   3.920  1.00  0.00          PT  \nATOM    525   Pt MOL     1       3.920  -3.920   7.840  1.00  0.00          PT  \nATOM    526   Pt MOL     1       3.920  -1.960   9.800  1.00  0.00          PT  \nATOM    527   Pt MOL     1       5.880  -3.920   9.800  1.00  0.00          PT  \nATOM    528   Pt MOL     1       5.880  -1.960   7.840  1.00  0.00          PT  \nATOM    529   Pt MOL     1       3.920  -3.920  11.760  1.00  0.00          PT  \nATOM    530   Pt MOL     1       5.880  -1.960  11.760  1.00  0.00          PT  \nATOM    531   Pt MOL     1       3.920   0.000 -11.760  1.00  0.00          PT  \nATOM    532   Pt MOL     1       3.920   1.960  -9.800  1.00  0.00          PT  \nATOM    533   Pt MOL     1       5.880   0.000  -9.800  1.00  0.00          PT  \nATOM    534   Pt MOL     1       5.880   1.960 -11.760  1.00  0.00          PT  \nATOM    535   Pt MOL     1       3.920   0.000  -7.840  1.00  0.00          PT  \nATOM    536   Pt MOL     1       3.920   1.960  -5.880  1.00  0.00          PT  \nATOM    537   Pt MOL     1       5.880   0.000  -5.880  1.00  0.00          PT  \nATOM    538   Pt MOL     1       5.880   1.960  -7.840  1.00  0.00          PT  \nATOM    539   Pt MOL     1       3.920   0.000  -3.920  1.00  0.00          PT  \nATOM    540   Pt MOL     1       3.920   1.960  -1.960  1.00  0.00          PT  \nATOM    541   Pt MOL     1       5.880   0.000  -1.960  1.00  0.00          PT  \nATOM    542   Pt MOL     1       5.880   1.960  -3.920  1.00  0.00          PT  \nATOM    543   Pt MOL     1       3.920   0.000   0.000  1.00  0.00          PT  \nATOM    544   Pt MOL     1       3.920   1.960   1.960  1.00  0.00          PT  \nATOM    545   Pt MOL     1       5.880   0.000   1.960  1.00  0.00          PT  \nATOM    546   Pt MOL     1       5.880   1.960   0.000  1.00  0.00          PT  \nATOM    547   Pt MOL     1       3.920   0.000   3.920  1.00  0.00          PT  \nATOM    548   Pt MOL     1       3.920   1.960   5.880  1.00  0.00          PT  \nATOM    549   Pt MOL     1       5.880   0.000   5.880  1.00  0.00          PT  \nATOM    550   Pt MOL     1       5.880   1.960   3.920  1.00  0.00          PT  \nATOM    551   Pt MOL     1       3.920   0.000   7.840  1.00  0.00          PT  \nATOM    552   Pt MOL     1       3.920   1.960   9.800  1.00  0.00          PT  \nATOM    553   Pt MOL     1       5.880   0.000   9.800  1.00  0.00          PT  \nATOM    554   Pt MOL     1       5.880   1.960   7.840  1.00  0.00          PT  \nATOM    555   Pt MOL     1       3.920   0.000  11.760  1.00  0.00          PT  \nATOM    556   Pt MOL     1       5.880   1.960  11.760  1.00  0.00          PT  \nATOM    557   Pt MOL     1       3.920   3.920 -11.760  1.00  0.00          PT  \nATOM    558   Pt MOL     1       3.920   5.880  -9.800  1.00  0.00          PT  \nATOM    559   Pt MOL     1       5.880   3.920  -9.800  1.00  0.00          PT  \nATOM    560   Pt MOL     1       3.920   3.920  -7.840  1.00  0.00          PT  \nATOM    561   Pt MOL     1       3.920   5.880  -5.880  1.00  0.00          PT  \nATOM    562   Pt MOL     1       5.880   3.920  -5.880  1.00  0.00          PT  \nATOM    563   Pt MOL     1       5.880   5.880  -7.840  1.00  0.00          PT  \nATOM    564   Pt MOL     1       3.920   3.920  -3.920  1.00  0.00          PT  \nATOM    565   Pt MOL     1       3.920   5.880  -1.960  1.00  0.00          PT  \nATOM    566   Pt MOL     1       5.880   3.920  -1.960  1.00  0.00          PT  \nATOM    567   Pt MOL     1       5.880   5.880  -3.920  1.00  0.00          PT  \nATOM    568   Pt MOL     1       3.920   3.920   0.000  1.00  0.00          PT  \nATOM    569   Pt MOL     1       3.920   5.880   1.960  1.00  0.00          PT  \nATOM    570   Pt MOL     1       5.880   3.920   1.960  1.00  0.00          PT  \nATOM    571   Pt MOL     1       5.880   5.880   0.000  1.00  0.00          PT  \nATOM    572   Pt MOL     1       3.920   3.920   3.920  1.00  0.00          PT  \nATOM    573   Pt MOL     1       3.920   5.880   5.880  1.00  0.00          PT  \nATOM    574   Pt MOL     1       5.880   3.920   5.880  1.00  0.00          PT  \nATOM    575   Pt MOL     1       5.880   5.880   3.920  1.00  0.00          PT  \nATOM    576   Pt MOL     1       3.920   3.920   7.840  1.00  0.00          PT  \nATOM    577   Pt MOL     1       3.920   5.880   9.800  1.00  0.00          PT  \nATOM    578   Pt MOL     1       5.880   3.920   9.800  1.00  0.00          PT  \nATOM    579   Pt MOL     1       5.880   5.880   7.840  1.00  0.00          PT  \nATOM    580   Pt MOL     1       3.920   3.920  11.760  1.00  0.00          PT  \nATOM    581   Pt MOL     1       3.920   7.840  -7.840  1.00  0.00          PT  \nATOM    582   Pt MOL     1       3.920   9.800  -5.880  1.00  0.00          PT  \nATOM    583   Pt MOL     1       5.880   7.840  -5.880  1.00  0.00          PT  \nATOM    584   Pt MOL     1       3.920   7.840  -3.920  1.00  0.00          PT  \nATOM    585   Pt MOL     1       3.920   9.800  -1.960  1.00  0.00          PT  \nATOM    586   Pt MOL     1       5.880   7.840  -1.960  1.00  0.00          PT  \nATOM    587   Pt MOL     1       5.880   9.800  -3.920  1.00  0.00          PT  \nATOM    588   Pt MOL     1       3.920   7.840   0.000  1.00  0.00          PT  \nATOM    589   Pt MOL     1       3.920   9.800   1.960  1.00  0.00          PT  \nATOM    590   Pt MOL     1       5.880   7.840   1.960  1.00  0.00          PT  \nATOM    591   Pt MOL     1       5.880   9.800   0.000  1.00  0.00          PT  \nATOM    592   Pt MOL     1       3.920   7.840   3.920  1.00  0.00          PT  \nATOM    593   Pt MOL     1       3.920   9.800   5.880  1.00  0.00          PT  \nATOM    594   Pt MOL     1       5.880   7.840   5.880  1.00  0.00          PT  \nATOM    595   Pt MOL     1       5.880   9.800   3.920  1.00  0.00          PT  \nATOM    596   Pt MOL     1       3.920   7.840   7.840  1.00  0.00          PT  \nATOM    597   Pt MOL     1       3.920  11.760  -3.920  1.00  0.00          PT  \nATOM    598   Pt MOL     1       5.880  11.760  -1.960  1.00  0.00          PT  \nATOM    599   Pt MOL     1       3.920  11.760   0.000  1.00  0.00          PT  \nATOM    600   Pt MOL     1       5.880  11.760   1.960  1.00  0.00          PT  \nATOM    601   Pt MOL     1       3.920  11.760   3.920  1.00  0.00          PT  \nATOM    602   Pt MOL     1       7.840  -9.800  -1.960  1.00  0.00          PT  \nATOM    603   Pt MOL     1       7.840 -11.760   0.000  1.00  0.00          PT  \nATOM    604   Pt MOL     1       7.840  -9.800   1.960  1.00  0.00          PT  \nATOM    605   Pt MOL     1       9.800  -9.800   0.000  1.00  0.00          PT  \nATOM    606   Pt MOL     1       7.840  -5.880  -5.880  1.00  0.00          PT  \nATOM    607   Pt MOL     1       7.840  -7.840  -3.920  1.00  0.00          PT  \nATOM    608   Pt MOL     1       7.840  -5.880  -1.960  1.00  0.00          PT  \nATOM    609   Pt MOL     1       9.800  -7.840  -1.960  1.00  0.00          PT  \nATOM    610   Pt MOL     1       9.800  -5.880  -3.920  1.00  0.00          PT  \nATOM    611   Pt MOL     1       7.840  -7.840   0.000  1.00  0.00          PT  \nATOM    612   Pt MOL     1       7.840  -5.880   1.960  1.00  0.00          PT  \nATOM    613   Pt MOL     1       9.800  -7.840   1.960  1.00  0.00          PT  \nATOM    614   Pt MOL     1       9.800  -5.880   0.000  1.00  0.00          PT  \nATOM    615   Pt MOL     1       7.840  -7.840   3.920  1.00  0.00          PT  \nATOM    616   Pt MOL     1       7.840  -5.880   5.880  1.00  0.00          PT  \nATOM    617   Pt MOL     1       9.800  -5.880   3.920  1.00  0.00          PT  \nATOM    618   Pt MOL     1       7.840  -1.960  -9.800  1.00  0.00          PT  \nATOM    619   Pt MOL     1       7.840  -3.920  -7.840  1.00  0.00          PT  \nATOM    620   Pt MOL     1       7.840  -1.960  -5.880  1.00  0.00          PT  \nATOM    621   Pt MOL     1       9.800  -3.920  -5.880  1.00  0.00          PT  \nATOM    622   Pt MOL     1       9.800  -1.960  -7.840  1.00  0.00          PT  \nATOM    623   Pt MOL     1       7.840  -3.920  -3.920  1.00  0.00          PT  \nATOM    624   Pt MOL     1       7.840  -1.960  -1.960  1.00  0.00          PT  \nATOM    625   Pt MOL     1       9.800  -3.920  -1.960  1.00  0.00          PT  \nATOM    626   Pt MOL     1       9.800  -1.960  -3.920  1.00  0.00          PT  \nATOM    627   Pt MOL     1       7.840  -3.920   0.000  1.00  0.00          PT  \nATOM    628   Pt MOL     1       7.840  -1.960   1.960  1.00  0.00          PT  \nATOM    629   Pt MOL     1       9.800  -3.920   1.960  1.00  0.00          PT  \nATOM    630   Pt MOL     1       9.800  -1.960   0.000  1.00  0.00          PT  \nATOM    631   Pt MOL     1       7.840  -3.920   3.920  1.00  0.00          PT  \nATOM    632   Pt MOL     1       7.840  -1.960   5.880  1.00  0.00          PT  \nATOM    633   Pt MOL     1       9.800  -3.920   5.880  1.00  0.00          PT  \nATOM    634   Pt MOL     1       9.800  -1.960   3.920  1.00  0.00          PT  \nATOM    635   Pt MOL     1       7.840  -3.920   7.840  1.00  0.00          PT  \nATOM    636   Pt MOL     1       7.840  -1.960   9.800  1.00  0.00          PT  \nATOM    637   Pt MOL     1       9.800  -1.960   7.840  1.00  0.00          PT  \nATOM    638   Pt MOL     1       7.840   0.000 -11.760  1.00  0.00          PT  \nATOM    639   Pt MOL     1       7.840   1.960  -9.800  1.00  0.00          PT  \nATOM    640   Pt MOL     1       9.800   0.000  -9.800  1.00  0.00          PT  \nATOM    641   Pt MOL     1       7.840   0.000  -7.840  1.00  0.00          PT  \nATOM    642   Pt MOL     1       7.840   1.960  -5.880  1.00  0.00          PT  \nATOM    643   Pt MOL     1       9.800   0.000  -5.880  1.00  0.00          PT  \nATOM    644   Pt MOL     1       9.800   1.960  -7.840  1.00  0.00          PT  \nATOM    645   Pt MOL     1       7.840   0.000  -3.920  1.00  0.00          PT  \nATOM    646   Pt MOL     1       7.840   1.960  -1.960  1.00  0.00          PT  \nATOM    647   Pt MOL     1       9.800   0.000  -1.960  1.00  0.00          PT  \nATOM    648   Pt MOL     1       9.800   1.960  -3.920  1.00  0.00          PT  \nATOM    649   Pt MOL     1       7.840   0.000   0.000  1.00  0.00          PT  \nATOM    650   Pt MOL     1       7.840   1.960   1.960  1.00  0.00          PT  \nATOM    651   Pt MOL     1       9.800   0.000   1.960  1.00  0.00          PT  \nATOM    652   Pt MOL     1       9.800   1.960   0.000  1.00  0.00          PT  \nATOM    653   Pt MOL     1       7.840   0.000   3.920  1.00  0.00          PT  \nATOM    654   Pt MOL     1       7.840   1.960   5.880  1.00  0.00          PT  \nATOM    655   Pt MOL     1       9.800   0.000   5.880  1.00  0.00          PT  \nATOM    656   Pt MOL     1       9.800   1.960   3.920  1.00  0.00          PT  \nATOM    657   Pt MOL     1       7.840   0.000   7.840  1.00  0.00          PT  \nATOM    658   Pt MOL     1       7.840   1.960   9.800  1.00  0.00          PT  \nATOM    659   Pt MOL     1       9.800   0.000   9.800  1.00  0.00          PT  \nATOM    660   Pt MOL     1       9.800   1.960   7.840  1.00  0.00          PT  \nATOM    661   Pt MOL     1       7.840   0.000  11.760  1.00  0.00          PT  \nATOM    662   Pt MOL     1       7.840   3.920  -7.840  1.00  0.00          PT  \nATOM    663   Pt MOL     1       7.840   5.880  -5.880  1.00  0.00          PT  \nATOM    664   Pt MOL     1       9.800   3.920  -5.880  1.00  0.00          PT  \nATOM    665   Pt MOL     1       7.840   3.920  -3.920  1.00  0.00          PT  \nATOM    666   Pt MOL     1       7.840   5.880  -1.960  1.00  0.00          PT  \nATOM    667   Pt MOL     1       9.800   3.920  -1.960  1.00  0.00          PT  \nATOM    668   Pt MOL     1       9.800   5.880  -3.920  1.00  0.00          PT  \nATOM    669   Pt MOL     1       7.840   3.920   0.000  1.00  0.00          PT  \nATOM    670   Pt MOL     1       7.840   5.880   1.960  1.00  0.00          PT  \nATOM    671   Pt MOL     1       9.800   3.920   1.960  1.00  0.00          PT  \nATOM    672   Pt MOL     1       9.800   5.880   0.000  1.00  0.00          PT  \nATOM    673   Pt MOL     1       7.840   3.920   3.920  1.00  0.00          PT  \nATOM    674   Pt MOL     1       7.840   5.880   5.880  1.00  0.00          PT  \nATOM    675   Pt MOL     1       9.800   3.920   5.880  1.00  0.00          PT  \nATOM    676   Pt MOL     1       9.800   5.880   3.920  1.00  0.00          PT  \nATOM    677   Pt MOL     1       7.840   3.920   7.840  1.00  0.00          PT  \nATOM    678   Pt MOL     1       7.840   7.840  -3.920  1.00  0.00          PT  \nATOM    679   Pt MOL     1       7.840   9.800  -1.960  1.00  0.00          PT  \nATOM    680   Pt MOL     1       9.800   7.840  -1.960  1.00  0.00          PT  \nATOM    681   Pt MOL     1       7.840   7.840   0.000  1.00  0.00          PT  \nATOM    682   Pt MOL     1       7.840   9.800   1.960  1.00  0.00          PT  \nATOM    683   Pt MOL     1       9.800   7.840   1.960  1.00  0.00          PT  \nATOM    684   Pt MOL     1       9.800   9.800   0.000  1.00  0.00          PT  \nATOM    685   Pt MOL     1       7.840   7.840   3.920  1.00  0.00          PT  \nATOM    686   Pt MOL     1       7.840  11.760   0.000  1.00  0.00          PT  \nATOM    687   Pt MOL     1      11.760  -5.880  -1.960  1.00  0.00          PT  \nATOM    688   Pt MOL     1      11.760  -7.840   0.000  1.00  0.00          PT  \nATOM    689   Pt MOL     1      11.760  -5.880   1.960  1.00  0.00          PT  \nATOM    690   Pt MOL     1      11.760  -1.960  -5.880  1.00  0.00          PT  \nATOM    691   Pt MOL     1      11.760  -3.920  -3.920  1.00  0.00          PT  \nATOM    692   Pt MOL     1      11.760  -1.960  -1.960  1.00  0.00          PT  \nATOM    693   Pt MOL     1      11.760  -3.920   0.000  1.00  0.00          PT  \nATOM    694   Pt MOL     1      11.760  -1.960   1.960  1.00  0.00          PT  \nATOM    695   Pt MOL     1      11.760  -3.920   3.920  1.00  0.00          PT  \nATOM    696   Pt MOL     1      11.760  -1.960   5.880  1.00  0.00          PT  \nATOM    697   Pt MOL     1      11.760   0.000  -7.840  1.00  0.00          PT  \nATOM    698   Pt MOL     1      11.760   1.960  -5.880  1.00  0.00          PT  \nATOM    699   Pt MOL     1      11.760   0.000  -3.920  1.00  0.00          PT  \nATOM    700   Pt MOL     1      11.760   1.960  -1.960  1.00  0.00          PT  \nATOM    701   Pt MOL     1      11.760   0.000   0.000  1.00  0.00          PT  \nATOM    702   Pt MOL     1      11.760   1.960   1.960  1.00  0.00          PT  \nATOM    703   Pt MOL     1      11.760   0.000   3.920  1.00  0.00          PT  \nATOM    704   Pt MOL     1      11.760   1.960   5.880  1.00  0.00          PT  \nATOM    705   Pt MOL     1      11.760   0.000   7.840  1.00  0.00          PT  \nATOM    706   Pt MOL     1      11.760   3.920  -3.920  1.00  0.00          PT  \nATOM    707   Pt MOL     1      11.760   5.880  -1.960  1.00  0.00          PT  \nATOM    708   Pt MOL     1      11.760   3.920   0.000  1.00  0.00          PT  \nATOM    709   Pt MOL     1      11.760   5.880   1.960  1.00  0.00          PT  \nATOM    710   Pt MOL     1      11.760   3.920   3.920  1.00  0.00          PT  \nATOM    711   Pt MOL     1      11.760   7.840   0.000  1.00  0.00          PT  \nENDMDL\n",
           "type": "blob"
          }
         ],
         "kwargs": {
          "defaultRepresentation": false,
          "ext": "pdb"
         },
         "methodName": "loadFile",
         "reconstruc_color_scheme": false,
         "target": "Stage",
         "type": "call_method"
        },
        {
         "args": [
          "500px",
          "500px"
         ],
         "kwargs": {},
         "methodName": "setSize",
         "reconstruc_color_scheme": false,
         "target": "Widget",
         "type": "call_method"
        },
        {
         "args": [
          "unitcell"
         ],
         "component_index": 0,
         "kwargs": {
          "sele": "all"
         },
         "methodName": "addRepresentation",
         "reconstruc_color_scheme": false,
         "target": "compList",
         "type": "call_method"
        },
        {
         "args": [
          "spacefill"
         ],
         "component_index": 0,
         "kwargs": {
          "sele": "all"
         },
         "methodName": "addRepresentation",
         "reconstruc_color_scheme": false,
         "target": "compList",
         "type": "call_method"
        },
        {
         "args": [],
         "kwargs": {
          "cameraType": "orthographic"
         },
         "methodName": "setParameters",
         "reconstruc_color_scheme": false,
         "target": "Stage",
         "type": "call_method"
        },
        {
         "args": [
          {
           "clipDist": 0
          }
         ],
         "kwargs": {},
         "methodName": "setParameters",
         "reconstruc_color_scheme": false,
         "target": "Widget",
         "type": "call_method"
        },
        {
         "args": [
          "spacefill",
          0
         ],
         "kwargs": {
          "colorScale": "rainbow",
          "colorScheme": "element",
          "radiusScale": 0.5,
          "radiusType": "covalent"
         },
         "methodName": "updateRepresentationsByName",
         "reconstruc_color_scheme": false,
         "target": "Widget",
         "type": "call_method"
        },
        {
         "args": [
          "this._Q = [[1.0, 0.0, 0.0], [0.0, 1.0, 0.0], [0.0, 0.0, 1.0]]\n    var tooltip = document.createElement('div');\n    Object.assign(tooltip.style, {\n      display: 'none',\n      position: 'fixed',\n      zIndex: 10,\n      pointerEvents: 'none',\n      backgroundColor: 'rgba( 0, 0, 0, 0.6 )',\n      color: 'lightgrey',\n      padding: '8px',\n      fontFamily: 'sans-serif'\n    });\n    document.body.appendChild(tooltip);\n\n    var that = this;\n    this.stage.mouseControls.remove('hoverPick');\n    this.stage.signals.hovered.add(function (pickingProxy) {\n      if (pickingProxy && (pickingProxy.atom || pickingProxy.bond)) {\n        var atom = pickingProxy.atom || pickingProxy.closestBondAtom\n        var mp = pickingProxy.mouse.position\n        //tooltip.innerText = atom.element + ' i=' + atom.index + ' (' + atom.x.toFixed(2) +  ', ' + atom.y.toFixed(2) +  ', ' + atom.z.toFixed(2) + ')'\n        //var pos = that._atoms_pos[atom.index]\n        var Q = that._Q\n        var pos_x = Q[0][0] * atom.x + Q[0][1] * atom.y + Q[0][2] * atom.z \n        var pos_y = Q[1][0] * atom.x + Q[1][1] * atom.y + Q[1][2] * atom.z\n        var pos_z = Q[2][0] * atom.x + Q[2][1] * atom.y + Q[2][2] * atom.z\n        tooltip.innerText = 'i=' + atom.index + ' ' + atom.element + ' (' + pos_x.toFixed(2) +  ', ' + pos_y.toFixed(2) +  ', ' + pos_z.toFixed(2) + ')'\n        tooltip.style.bottom = window.innerHeight - mp.y + 3 + 'px'\n        tooltip.style.left = mp.x + 3 + 'px'\n        tooltip.style.display = 'block'\n      } else {\n        tooltip.style.display = 'none'\n      }\n    });\n    this.stage.tooltip = tooltip;\n    "
         ],
         "kwargs": {},
         "methodName": "executeCode",
         "reconstruc_color_scheme": false,
         "target": "Widget",
         "type": "call_method"
        }
       ],
       "_ngl_original_stage_parameters": {
        "ambientColor": 14540253,
        "ambientIntensity": 0.2,
        "backgroundColor": "white",
        "cameraEyeSep": 0.3,
        "cameraFov": 40,
        "cameraType": "perspective",
        "clipDist": 10,
        "clipFar": 100,
        "clipNear": 0,
        "fogFar": 100,
        "fogNear": 50,
        "hoverTimeout": 0,
        "impostor": true,
        "lightColor": 14540253,
        "lightIntensity": 1,
        "mousePreset": "default",
        "panSpeed": 1,
        "quality": "medium",
        "rotateSpeed": 2,
        "sampleLevel": 0,
        "tooltip": true,
        "workerDefault": true,
        "zoomSpeed": 1.2
       },
       "_ngl_repr_dict": {
        "0": {
         "0": {
          "params": {
           "clipCenter": {
            "x": 0,
            "y": 0,
            "z": 0
           },
           "clipNear": 0,
           "clipRadius": 0,
           "colorMode": "hcl",
           "colorReverse": false,
           "colorScale": "",
           "colorScheme": "element",
           "colorValue": "orange",
           "defaultAssembly": "",
           "depthWrite": true,
           "diffuse": 16777215,
           "diffuseInterior": false,
           "disableImpostor": false,
           "disablePicking": false,
           "flatShaded": false,
           "interiorColor": 2236962,
           "interiorDarkening": 0,
           "lazy": false,
           "matrix": {
            "elements": [
             1,
             0,
             0,
             0,
             0,
             1,
             0,
             0,
             0,
             0,
             1,
             0,
             0,
             0,
             0,
             1
            ]
           },
           "metalness": 0,
           "opacity": 1,
           "quality": "medium",
           "radialSegments": 10,
           "radiusData": {},
           "radiusScale": 1,
           "radiusSize": 0.5,
           "radiusType": "vdw",
           "roughness": 0.4,
           "sele": "all",
           "side": "double",
           "sphereDetail": 1,
           "useInteriorColor": true,
           "visible": true,
           "wireframe": false
          },
          "type": "unitcell"
         },
         "1": {
          "params": {
           "assembly": "default",
           "clipCenter": {
            "x": 0,
            "y": 0,
            "z": 0
           },
           "clipNear": 0,
           "clipRadius": 0,
           "colorMode": "hcl",
           "colorReverse": false,
           "colorScale": "rainbow",
           "colorScheme": "element",
           "colorValue": 9474192,
           "defaultAssembly": "",
           "depthWrite": true,
           "diffuse": 16777215,
           "diffuseInterior": false,
           "disableImpostor": false,
           "disablePicking": false,
           "flatShaded": false,
           "interiorColor": 2236962,
           "interiorDarkening": 0,
           "lazy": false,
           "matrix": {
            "elements": [
             1,
             0,
             0,
             0,
             0,
             1,
             0,
             0,
             0,
             0,
             1,
             0,
             0,
             0,
             0,
             1
            ]
           },
           "metalness": 0,
           "opacity": 1,
           "quality": "medium",
           "radiusData": {},
           "radiusScale": 0.5,
           "radiusSize": 1,
           "radiusType": "covalent",
           "roughness": 0.4,
           "sele": "all",
           "side": "double",
           "sphereDetail": 1,
           "useInteriorColor": true,
           "visible": true,
           "wireframe": false
          },
          "type": "spacefill"
         }
        }
       },
       "_ngl_serialize": false,
       "_ngl_version": "2.0.0-dev.36",
       "_ngl_view_id": [
        "2FC1D26A-AB27-4EA8-B474-8DC3579FB897"
       ],
       "_player_dict": {},
       "_scene_position": {},
       "_scene_rotation": {},
       "_synced_model_ids": [],
       "_synced_repr_model_ids": [],
       "_view_height": "",
       "_view_width": "",
       "background": "white",
       "frame": 0,
       "gui_style": null,
       "layout": "IPY_MODEL_6f82adc934704a729c7dabf47be03cd2",
       "max_frame": 0,
       "n_components": 1,
       "picked": {}
      }
     },
     "40e4a16d129f4f39953e0c2f4ab46dc1": {
      "model_module": "@jupyter-widgets/base",
      "model_module_version": "1.2.0",
      "model_name": "LayoutModel",
      "state": {}
     },
     "40f96a5c25c641119496bd7a16996144": {
      "model_module": "@jupyter-widgets/controls",
      "model_module_version": "1.5.0",
      "model_name": "FloatSliderModel",
      "state": {
       "description": "Charge scale",
       "layout": "IPY_MODEL_2f54ccb41d2f43048c59a03a0f4a8831",
       "step": 0.1,
       "style": "IPY_MODEL_9d1476e042394af78f5afea0a2f5dd03",
       "value": 1
      }
     },
     "41096b8e8ffe4fa5ab16bfa14ad4e1b2": {
      "model_module": "@jupyter-widgets/base",
      "model_module_version": "1.2.0",
      "model_name": "LayoutModel",
      "state": {}
     },
     "4172c389ed6b47a49820a703cf81536e": {
      "model_module": "@jupyter-widgets/controls",
      "model_module_version": "1.5.0",
      "model_name": "DescriptionStyleModel",
      "state": {
       "description_width": ""
      }
     },
     "41d5db6f4ef14011a217613c49da4eec": {
      "model_module": "@jupyter-widgets/controls",
      "model_module_version": "1.5.0",
      "model_name": "LinkModel",
      "state": {
       "source": [
        "IPY_MODEL_992e7bfabd9c4c0b928583d4f317984c",
        "value"
       ],
       "target": [
        "IPY_MODEL_ffc0ff16fc804555aa0c96aef6fa21ef",
        "frame"
       ]
      }
     },
     "4258b5fea33045caaa452d872852e58a": {
      "model_module": "@jupyter-widgets/controls",
      "model_module_version": "1.5.0",
      "model_name": "HBoxModel",
      "state": {
       "children": [
        "IPY_MODEL_ae0b4ae5469540b4bdc6491b004545ad",
        "IPY_MODEL_2dd51741fdd744c7877266b8fb3f8cef"
       ],
       "layout": "IPY_MODEL_556a484b3ff6491c9b405dff424c0bcb"
      }
     },
     "4284d4b8f1684625b419e55bee13a83a": {
      "model_module": "@jupyter-widgets/base",
      "model_module_version": "1.2.0",
      "model_name": "LayoutModel",
      "state": {}
     },
     "43a383645a754a2594b78af796247ebe": {
      "model_module": "@jupyter-widgets/controls",
      "model_module_version": "1.5.0",
      "model_name": "CheckboxModel",
      "state": {
       "description": "Show charge",
       "disabled": false,
       "layout": "IPY_MODEL_64e2b8a038444b428b208242d06e08cb",
       "style": "IPY_MODEL_e333d88d3c5b4324934941562b75453f",
       "value": false
      }
     },
     "44bbb843f1f246738348349fa4174839": {
      "model_module": "@jupyter-widgets/output",
      "model_module_version": "1.0.0",
      "model_name": "OutputModel",
      "state": {
       "layout": "IPY_MODEL_4974b388067a4d6f9cf439131db36f8d"
      }
     },
     "4556450881174fee8f1d3503ce2bdddc": {
      "model_module": "@jupyter-widgets/base",
      "model_module_version": "1.2.0",
      "model_name": "LayoutModel",
      "state": {}
     },
     "455e4b2d4dd5472687c1f5cbad0dd5c8": {
      "model_module": "@jupyter-widgets/output",
      "model_module_version": "1.0.0",
      "model_name": "OutputModel",
      "state": {
       "layout": "IPY_MODEL_6a551f29076c4f139fc3bb2e16816630"
      }
     },
     "4658bb2aec204d02a8e1a72344067efe": {
      "model_module": "@jupyter-widgets/controls",
      "model_module_version": "1.5.0",
      "model_name": "ButtonModel",
      "state": {
       "description": "Download image",
       "layout": "IPY_MODEL_0a2979be03ed4e9ebe9b68af5b47bd95",
       "style": "IPY_MODEL_ac3890036ee34bf4ab7ccfb910d22961",
       "tooltip": "Download current frame to your local PC"
      }
     },
     "46a3d5452d0c4a2cbb3a108fb76fa10e": {
      "model_module": "@jupyter-widgets/base",
      "model_module_version": "1.2.0",
      "model_name": "LayoutModel",
      "state": {}
     },
     "46cb0d0beb6347b9bf5ebce57f5ae496": {
      "model_module": "@jupyter-widgets/controls",
      "model_module_version": "1.5.0",
      "model_name": "SliderStyleModel",
      "state": {
       "description_width": ""
      }
     },
     "4733b531f9fc4c9aa98145bc44ead202": {
      "model_module": "@jupyter-widgets/base",
      "model_module_version": "1.2.0",
      "model_name": "LayoutModel",
      "state": {}
     },
     "4763296668254a1f929b8d08c664eea0": {
      "model_module": "@jupyter-widgets/controls",
      "model_module_version": "1.5.0",
      "model_name": "DescriptionStyleModel",
      "state": {
       "description_width": ""
      }
     },
     "479b549d347a4e6a8a3e915f94999ca9": {
      "model_module": "@jupyter-widgets/controls",
      "model_module_version": "1.5.0",
      "model_name": "IntSliderModel",
      "state": {
       "layout": "IPY_MODEL_9326c20ce6aa401585cd9c5772f33bb4",
       "max": 0,
       "style": "IPY_MODEL_3ce76f6d492145adb238e85e4e7dc838"
      }
     },
     "47bf76e2b29a49d5a15625ed929485fa": {
      "model_module": "@jupyter-widgets/controls",
      "model_module_version": "1.5.0",
      "model_name": "DropdownModel",
      "state": {
       "_options_labels": [
        "All",
        "Pd",
        "Pt"
       ],
       "description": "Show",
       "index": 0,
       "layout": "IPY_MODEL_5d9fb6e056844540b0024cb507ffd9a2",
       "style": "IPY_MODEL_f4d60dc7ec424b49a6e7145bf310ef17"
      }
     },
     "4880194c19544319911c01b9e779f62d": {
      "model_module": "@jupyter-widgets/controls",
      "model_module_version": "1.5.0",
      "model_name": "ButtonStyleModel",
      "state": {}
     },
     "4974b388067a4d6f9cf439131db36f8d": {
      "model_module": "@jupyter-widgets/base",
      "model_module_version": "1.2.0",
      "model_name": "LayoutModel",
      "state": {
       "border": "0px solid black"
      }
     },
     "4b47e953c3ee4d0289dca0b5a12224a2": {
      "model_module": "@jupyter-widgets/controls",
      "model_module_version": "1.5.0",
      "model_name": "LinkModel",
      "state": {
       "source": [
        "IPY_MODEL_30fa8d53b09e472194a0d14c98a0e88d",
        "value"
       ],
       "target": [
        "IPY_MODEL_e5bb61eb1d964940b9f3031635c3521f",
        "frame"
       ]
      }
     },
     "4c4bf981464b4ed4b32373d4d8afa4ac": {
      "model_module": "@jupyter-widgets/controls",
      "model_module_version": "1.5.0",
      "model_name": "DropdownModel",
      "state": {
       "_options_labels": [
        " ",
        "picking",
        "random",
        "uniform",
        "atomindex",
        "residueindex",
        "chainindex",
        "modelindex",
        "sstruc",
        "element",
        "resname",
        "bfactor",
        "hydrophobicity",
        "value",
        "volume",
        "occupancy"
       ],
       "description": "Color scheme",
       "index": 9,
       "layout": "IPY_MODEL_d827f5721f0b4b43ae1e07eb18bd82b4",
       "style": "IPY_MODEL_68b5b5bec7fc4155a037b0de422dff40"
      }
     },
     "4c8dd4f32f7f43d7b41c72667944717a": {
      "model_module": "@jupyter-widgets/controls",
      "model_module_version": "1.5.0",
      "model_name": "DescriptionStyleModel",
      "state": {
       "description_width": ""
      }
     },
     "4cd84bd577424ba1860aab200e2eaf21": {
      "model_module": "@jupyter-widgets/base",
      "model_module_version": "1.2.0",
      "model_name": "LayoutModel",
      "state": {}
     },
     "4d0364f035694b199407b18fd0292239": {
      "model_module": "@jupyter-widgets/controls",
      "model_module_version": "1.5.0",
      "model_name": "SliderStyleModel",
      "state": {
       "description_width": ""
      }
     },
     "4d9ab9a7160448ee846590497e381109": {
      "model_module": "@jupyter-widgets/base",
      "model_module_version": "1.2.0",
      "model_name": "LayoutModel",
      "state": {}
     },
     "4dbb29ce8a134ac48e54921ef638eb2f": {
      "model_module": "@jupyter-widgets/controls",
      "model_module_version": "1.5.0",
      "model_name": "ButtonStyleModel",
      "state": {}
     },
     "4e0da825531948bf8539ff1a43cdf22d": {
      "model_module": "@jupyter-widgets/controls",
      "model_module_version": "1.5.0",
      "model_name": "PlayModel",
      "state": {
       "layout": "IPY_MODEL_ec7a45471e0840dcbbcb5f1394370243",
       "max": 706,
       "style": "IPY_MODEL_63de26ac2ebc403f93f37a37f4701391",
       "value": 706
      }
     },
     "4e2264df6a244bf8bdd77beb34e6185f": {
      "model_module": "@jupyter-widgets/controls",
      "model_module_version": "1.5.0",
      "model_name": "ButtonStyleModel",
      "state": {}
     },
     "4ef4252e34ec45d48031354046982f00": {
      "model_module": "@jupyter-widgets/base",
      "model_module_version": "1.2.0",
      "model_name": "LayoutModel",
      "state": {}
     },
     "4f4187b8bf0b4b41bafed2cfdeca636e": {
      "model_module": "@jupyter-widgets/base",
      "model_module_version": "1.2.0",
      "model_name": "LayoutModel",
      "state": {}
     },
     "509468fe83f940beb13433005432f1f1": {
      "model_module": "@jupyter-widgets/controls",
      "model_module_version": "1.5.0",
      "model_name": "DescriptionStyleModel",
      "state": {
       "description_width": ""
      }
     },
     "50e3ed59d2134645bbbe15106d8b38a7": {
      "model_module": "@jupyter-widgets/controls",
      "model_module_version": "1.5.0",
      "model_name": "HBoxModel",
      "state": {
       "children": [
        "IPY_MODEL_089d7b104d194011abea0772fba8d304",
        "IPY_MODEL_607f1de747df4938a09f7d4ced040fbc"
       ],
       "layout": "IPY_MODEL_73979dbafc5744e1a4e02223ba371784"
      }
     },
     "518881f715d8483b8d0e6ecb31057ec2": {
      "model_module": "@jupyter-widgets/controls",
      "model_module_version": "1.5.0",
      "model_name": "DescriptionStyleModel",
      "state": {
       "description_width": ""
      }
     },
     "519ba7b6a62f4ff7b09c290b8fd4c781": {
      "model_module": "@jupyter-widgets/base",
      "model_module_version": "1.2.0",
      "model_name": "LayoutModel",
      "state": {}
     },
     "5255c262df994526976116771c5d1275": {
      "model_module": "@jupyter-widgets/controls",
      "model_module_version": "1.5.0",
      "model_name": "ButtonModel",
      "state": {
       "description": "Save image",
       "layout": "IPY_MODEL_c810ab13a2674054ad114bbbee3e9407",
       "style": "IPY_MODEL_2759b0663851444cb0ffa2a77228f71b",
       "tooltip": "Save current frame to file.\nCurrently .png and .html are supported.\nIt takes a bit time, please be patient."
      }
     },
     "52f5006108f348cc84ed9674b9996d89": {
      "model_module": "@jupyter-widgets/base",
      "model_module_version": "1.2.0",
      "model_name": "LayoutModel",
      "state": {}
     },
     "53a7f2b38b9f4146a10c7fe7cb2356f0": {
      "model_module": "@jupyter-widgets/controls",
      "model_module_version": "1.5.0",
      "model_name": "TextModel",
      "state": {
       "description": "Filename: ",
       "layout": "IPY_MODEL_e4cbe5d1b0554dfaa36e1febf0993265",
       "style": "IPY_MODEL_6a6ae83d15ec473b8d0b89a67129fdc1",
       "value": "screenshot.png"
      }
     },
     "53dde95b507343ddba5f18b00a7ff2d3": {
      "model_module": "@jupyter-widgets/controls",
      "model_module_version": "1.5.0",
      "model_name": "ImageModel",
      "state": {
       "layout": "IPY_MODEL_7be112203c214f18b841dcf3a14467b5",
       "width": "900.0"
      }
     },
     "540902ffd0c84f61a6b11172d4b3f5cd": {
      "model_module": "@jupyter-widgets/base",
      "model_module_version": "1.2.0",
      "model_name": "LayoutModel",
      "state": {}
     },
     "5413145cc8c740e0b725f5c5763dc2ef": {
      "model_module": "@jupyter-widgets/controls",
      "model_module_version": "1.5.0",
      "model_name": "LinkModel",
      "state": {
       "source": [
        "IPY_MODEL_f461599251ce4ec6b111226acb8b4b01",
        "max"
       ],
       "target": [
        "IPY_MODEL_780fe39126ce456bae13c435afacbc77",
        "max_frame"
       ]
      }
     },
     "552376bd95b749508a6eba824fb36c58": {
      "model_module": "@jupyter-widgets/base",
      "model_module_version": "1.2.0",
      "model_name": "LayoutModel",
      "state": {}
     },
     "556a484b3ff6491c9b405dff424c0bcb": {
      "model_module": "@jupyter-widgets/base",
      "model_module_version": "1.2.0",
      "model_name": "LayoutModel",
      "state": {}
     },
     "55a5bd5246774b43aeb0adee8412bc4b": {
      "model_module": "@jupyter-widgets/base",
      "model_module_version": "1.2.0",
      "model_name": "LayoutModel",
      "state": {}
     },
     "562d14dd0d21455a88656328ad2e24e6": {
      "model_module": "@jupyter-widgets/controls",
      "model_module_version": "1.5.0",
      "model_name": "LinkModel",
      "state": {
       "source": [
        "IPY_MODEL_96b03fa0f3074f83a60ca7aa10fb0463",
        "max"
       ],
       "target": [
        "IPY_MODEL_ffc0ff16fc804555aa0c96aef6fa21ef",
        "max_frame"
       ]
      }
     },
     "563fd8a3ef254d3e9d87fd0a6eefcd7f": {
      "model_module": "@jupyter-widgets/base",
      "model_module_version": "1.2.0",
      "model_name": "LayoutModel",
      "state": {}
     },
     "5646e436dd464e09b9f2ff8010507359": {
      "model_module": "@jupyter-widgets/controls",
      "model_module_version": "1.5.0",
      "model_name": "IntSliderModel",
      "state": {
       "layout": "IPY_MODEL_16ef825c49ce4a15a738952604c3b228",
       "max": 0,
       "style": "IPY_MODEL_10f484d19a2d4ece97b633fec3e01dfc"
      }
     },
     "5678f1e3f47f46048bad6b42024e9425": {
      "model_module": "nglview-js-widgets",
      "model_module_version": "3.0.1",
      "model_name": "NGLModel",
      "state": {
       "_camera_orientation": [
        9.921646058814545,
        0,
        0,
        0,
        0,
        9.921646058814545,
        0,
        0,
        0,
        0,
        9.921646058814545,
        0,
        -0.8109999895095825,
        -2.75600004196167,
        -13.190000057220459,
        1
       ],
       "_camera_str": "orthographic",
       "_gui_theme": null,
       "_ibtn_fullscreen": "IPY_MODEL_2a6802559d9d4b238449746cae551416",
       "_igui": null,
       "_iplayer": "IPY_MODEL_ba80f315cb4645f9962a14ea393d4c5b",
       "_ngl_color_dict": {},
       "_ngl_coordinate_resource": {},
       "_ngl_full_stage_parameters": {
        "ambientColor": 14540253,
        "ambientIntensity": 0.2,
        "backgroundColor": "white",
        "cameraEyeSep": 0.3,
        "cameraFov": 40,
        "cameraType": "orthographic",
        "clipDist": 0,
        "clipFar": 100,
        "clipNear": 0,
        "fogFar": 100,
        "fogNear": 50,
        "hoverTimeout": 0,
        "impostor": true,
        "lightColor": 14540253,
        "lightIntensity": 1,
        "mousePreset": "default",
        "panSpeed": 1,
        "quality": "medium",
        "rotateSpeed": 2,
        "sampleLevel": 0,
        "tooltip": true,
        "workerDefault": true,
        "zoomSpeed": 1.2
       },
       "_ngl_msg_archive": [
        {
         "args": [
          {
           "binary": false,
           "data": "CRYST1    3.243    6.834   27.336  90.00  90.00  90.00 P 1\nMODEL     1\nATOM      1   Sn MOL     1       1.622   3.417  15.946  1.00  0.00          SN  \nATOM      2   Sn MOL     1       1.622   0.000  12.529  1.00  0.00          SN  \nATOM      3   Sn MOL     1       0.000   3.417  12.529  1.00  0.00          SN  \nATOM      4   Sn MOL     1       0.000   0.000  15.946  1.00  0.00          SN  \nATOM      5    O MOL     1       1.622   1.322  15.946  1.00  0.00           O  \nATOM      6    O MOL     1       1.622   4.739  12.529  1.00  0.00           O  \nATOM      7    O MOL     1       1.622   5.512  15.946  1.00  0.00           O  \nATOM      8    O MOL     1       1.622   2.095  12.529  1.00  0.00           O  \nATOM      9    O MOL     1       0.000   3.417  10.434  1.00  0.00           O  \nATOM     10    O MOL     1       0.000   0.000  13.851  1.00  0.00           O  \nATOM     11    O MOL     1       0.000   3.417  14.624  1.00  0.00           O  \nATOM     12    O MOL     1       0.000   0.000  11.207  1.00  0.00           O  \nENDMDL\n",
           "type": "blob"
          }
         ],
         "kwargs": {
          "defaultRepresentation": false,
          "ext": "pdb"
         },
         "methodName": "loadFile",
         "reconstruc_color_scheme": false,
         "target": "Stage",
         "type": "call_method"
        },
        {
         "args": [
          "500px",
          "500px"
         ],
         "kwargs": {},
         "methodName": "setSize",
         "reconstruc_color_scheme": false,
         "target": "Widget",
         "type": "call_method"
        },
        {
         "args": [
          "unitcell"
         ],
         "component_index": 0,
         "kwargs": {
          "sele": "all"
         },
         "methodName": "addRepresentation",
         "reconstruc_color_scheme": false,
         "target": "compList",
         "type": "call_method"
        },
        {
         "args": [
          "spacefill"
         ],
         "component_index": 0,
         "kwargs": {
          "sele": "all"
         },
         "methodName": "addRepresentation",
         "reconstruc_color_scheme": false,
         "target": "compList",
         "type": "call_method"
        },
        {
         "args": [],
         "kwargs": {
          "cameraType": "orthographic"
         },
         "methodName": "setParameters",
         "reconstruc_color_scheme": false,
         "target": "Stage",
         "type": "call_method"
        },
        {
         "args": [
          {
           "clipDist": 0
          }
         ],
         "kwargs": {},
         "methodName": "setParameters",
         "reconstruc_color_scheme": false,
         "target": "Widget",
         "type": "call_method"
        },
        {
         "args": [
          "spacefill",
          0
         ],
         "kwargs": {
          "colorScale": "rainbow",
          "colorScheme": "element",
          "radiusScale": 0.5,
          "radiusType": "covalent"
         },
         "methodName": "updateRepresentationsByName",
         "reconstruc_color_scheme": false,
         "target": "Widget",
         "type": "call_method"
        },
        {
         "args": [
          "this._Q = [[1.0, 0.0, 6.123233995736766e-17], [-3.749399456654643e-33, 1.0, 6.123233995736765e-17], [-6.123233995736766e-17, -6.123233995736765e-17, 1.0]]\n    var tooltip = document.createElement('div');\n    Object.assign(tooltip.style, {\n      display: 'none',\n      position: 'fixed',\n      zIndex: 10,\n      pointerEvents: 'none',\n      backgroundColor: 'rgba( 0, 0, 0, 0.6 )',\n      color: 'lightgrey',\n      padding: '8px',\n      fontFamily: 'sans-serif'\n    });\n    document.body.appendChild(tooltip);\n\n    var that = this;\n    this.stage.mouseControls.remove('hoverPick');\n    this.stage.signals.hovered.add(function (pickingProxy) {\n      if (pickingProxy && (pickingProxy.atom || pickingProxy.bond)) {\n        var atom = pickingProxy.atom || pickingProxy.closestBondAtom\n        var mp = pickingProxy.mouse.position\n        //tooltip.innerText = atom.element + ' i=' + atom.index + ' (' + atom.x.toFixed(2) +  ', ' + atom.y.toFixed(2) +  ', ' + atom.z.toFixed(2) + ')'\n        //var pos = that._atoms_pos[atom.index]\n        var Q = that._Q\n        var pos_x = Q[0][0] * atom.x + Q[0][1] * atom.y + Q[0][2] * atom.z \n        var pos_y = Q[1][0] * atom.x + Q[1][1] * atom.y + Q[1][2] * atom.z\n        var pos_z = Q[2][0] * atom.x + Q[2][1] * atom.y + Q[2][2] * atom.z\n        tooltip.innerText = 'i=' + atom.index + ' ' + atom.element + ' (' + pos_x.toFixed(2) +  ', ' + pos_y.toFixed(2) +  ', ' + pos_z.toFixed(2) + ')'\n        tooltip.style.bottom = window.innerHeight - mp.y + 3 + 'px'\n        tooltip.style.left = mp.x + 3 + 'px'\n        tooltip.style.display = 'block'\n      } else {\n        tooltip.style.display = 'none'\n      }\n    });\n    this.stage.tooltip = tooltip;\n    "
         ],
         "kwargs": {},
         "methodName": "executeCode",
         "reconstruc_color_scheme": false,
         "target": "Widget",
         "type": "call_method"
        },
        {
         "args": [
          "ball+stick"
         ],
         "component_index": 0,
         "kwargs": {
          "sele": "all"
         },
         "methodName": "addRepresentation",
         "reconstruc_color_scheme": false,
         "target": "compList",
         "type": "call_method"
        }
       ],
       "_ngl_original_stage_parameters": {
        "ambientColor": 14540253,
        "ambientIntensity": 0.2,
        "backgroundColor": "white",
        "cameraEyeSep": 0.3,
        "cameraFov": 40,
        "cameraType": "perspective",
        "clipDist": 10,
        "clipFar": 100,
        "clipNear": 0,
        "fogFar": 100,
        "fogNear": 50,
        "hoverTimeout": 0,
        "impostor": true,
        "lightColor": 14540253,
        "lightIntensity": 1,
        "mousePreset": "default",
        "panSpeed": 1,
        "quality": "medium",
        "rotateSpeed": 2,
        "sampleLevel": 0,
        "tooltip": true,
        "workerDefault": true,
        "zoomSpeed": 1.2
       },
       "_ngl_repr_dict": {
        "0": {
         "0": {
          "params": {
           "clipCenter": {
            "x": 0,
            "y": 0,
            "z": 0
           },
           "clipNear": 0,
           "clipRadius": 0,
           "colorMode": "hcl",
           "colorReverse": false,
           "colorScale": "",
           "colorScheme": "element",
           "colorValue": "orange",
           "defaultAssembly": "",
           "depthWrite": true,
           "diffuse": 16777215,
           "diffuseInterior": false,
           "disableImpostor": false,
           "disablePicking": false,
           "flatShaded": false,
           "interiorColor": 2236962,
           "interiorDarkening": 0,
           "lazy": false,
           "matrix": {
            "elements": [
             1,
             0,
             0,
             0,
             0,
             1,
             0,
             0,
             0,
             0,
             1,
             0,
             0,
             0,
             0,
             1
            ]
           },
           "metalness": 0,
           "opacity": 1,
           "quality": "medium",
           "radialSegments": 10,
           "radiusData": {},
           "radiusScale": 1,
           "radiusSize": 0.04230797914283533,
           "radiusType": "vdw",
           "roughness": 0.4,
           "sele": "all",
           "side": "double",
           "sphereDetail": 1,
           "useInteriorColor": true,
           "visible": true,
           "wireframe": false
          },
          "type": "unitcell"
         },
         "1": {
          "params": {
           "assembly": "default",
           "clipCenter": {
            "x": 0,
            "y": 0,
            "z": 0
           },
           "clipNear": 0,
           "clipRadius": 0,
           "colorMode": "hcl",
           "colorReverse": false,
           "colorScale": "rainbow",
           "colorScheme": "element",
           "colorValue": 9474192,
           "defaultAssembly": "",
           "depthWrite": true,
           "diffuse": 16777215,
           "diffuseInterior": false,
           "disableImpostor": false,
           "disablePicking": false,
           "flatShaded": false,
           "interiorColor": 2236962,
           "interiorDarkening": 0,
           "lazy": false,
           "matrix": {
            "elements": [
             1,
             0,
             0,
             0,
             0,
             1,
             0,
             0,
             0,
             0,
             1,
             0,
             0,
             0,
             0,
             1
            ]
           },
           "metalness": 0,
           "opacity": 1,
           "quality": "medium",
           "radiusData": {},
           "radiusScale": 0.5,
           "radiusSize": 1,
           "radiusType": "covalent",
           "roughness": 0.4,
           "sele": "all",
           "side": "double",
           "sphereDetail": 1,
           "useInteriorColor": true,
           "visible": true,
           "wireframe": false
          },
          "type": "spacefill"
         },
         "2": {
          "params": {
           "aspectRatio": 2,
           "assembly": "default",
           "bondScale": 0.4,
           "bondSpacing": 1,
           "clipCenter": {
            "x": 0,
            "y": 0,
            "z": 0
           },
           "clipNear": 0,
           "clipRadius": 0,
           "colorMode": "hcl",
           "colorReverse": false,
           "colorScale": "",
           "colorScheme": "element",
           "colorValue": 9474192,
           "cylinderOnly": false,
           "defaultAssembly": "",
           "depthWrite": true,
           "diffuse": 16777215,
           "diffuseInterior": false,
           "disableImpostor": false,
           "disablePicking": false,
           "flatShaded": false,
           "interiorColor": 2236962,
           "interiorDarkening": 0,
           "lazy": false,
           "lineOnly": false,
           "linewidth": 2,
           "matrix": {
            "elements": [
             1,
             0,
             0,
             0,
             0,
             1,
             0,
             0,
             0,
             0,
             1,
             0,
             0,
             0,
             0,
             1
            ]
           },
           "metalness": 0,
           "multipleBond": "off",
           "opacity": 1,
           "openEnded": true,
           "quality": "medium",
           "radialSegments": 10,
           "radiusData": {},
           "radiusScale": 1,
           "radiusSize": 0.15,
           "radiusType": "size",
           "roughness": 0.4,
           "sele": "all",
           "side": "double",
           "sphereDetail": 1,
           "useInteriorColor": true,
           "visible": true,
           "wireframe": false
          },
          "type": "ball+stick"
         }
        }
       },
       "_ngl_serialize": false,
       "_ngl_version": "2.0.0-dev.36",
       "_ngl_view_id": [
        "CCDA91E2-0E7B-4B41-9E79-122A7DDADEED"
       ],
       "_player_dict": {},
       "_scene_position": {},
       "_scene_rotation": {},
       "_synced_model_ids": [],
       "_synced_repr_model_ids": [],
       "_view_height": "",
       "_view_width": "",
       "background": "white",
       "frame": 0,
       "gui_style": null,
       "layout": "IPY_MODEL_691fb4a209984f13aac1f6eeadad090d",
       "max_frame": 1,
       "n_components": 1,
       "picked": {}
      }
     },
     "568095dfa67c4096a8eb1a707b44c019": {
      "model_module": "@jupyter-widgets/base",
      "model_module_version": "1.2.0",
      "model_name": "LayoutModel",
      "state": {
       "width": "34px"
      }
     },
     "576b925e80ae417a9981e0632d72a74a": {
      "model_module": "@jupyter-widgets/controls",
      "model_module_version": "1.5.0",
      "model_name": "TextModel",
      "state": {
       "description": "Filename: ",
       "layout": "IPY_MODEL_c05550b36c7e46fe8a793d7e6291ca6e",
       "style": "IPY_MODEL_d3132a3737b944a39f999a919b5df60e",
       "value": "screenshot.png"
      }
     },
     "578b41c7c96f490b888fa91e7d6ceae5": {
      "model_module": "@jupyter-widgets/controls",
      "model_module_version": "1.5.0",
      "model_name": "ButtonStyleModel",
      "state": {}
     },
     "57b76bb457b843d8b6bdd4034a8a12cc": {
      "model_module": "@jupyter-widgets/base",
      "model_module_version": "1.2.0",
      "model_name": "LayoutModel",
      "state": {
       "width": "34px"
      }
     },
     "58c9da9e56934502894f748e621ad9d6": {
      "model_module": "@jupyter-widgets/base",
      "model_module_version": "1.2.0",
      "model_name": "LayoutModel",
      "state": {}
     },
     "58fcd60707654cb3b01100eb94f4da88": {
      "model_module": "@jupyter-widgets/base",
      "model_module_version": "1.2.0",
      "model_name": "LayoutModel",
      "state": {}
     },
     "590bdcb12ba047b6b9cd633c83dbd163": {
      "model_module": "@jupyter-widgets/controls",
      "model_module_version": "1.5.0",
      "model_name": "VBoxModel",
      "state": {
       "children": [
        "IPY_MODEL_fe0a09d717d0478ab3cdad5403828791",
        "IPY_MODEL_b405bb7a02b84d258f0413bc8b85df5d",
        "IPY_MODEL_5b939e9d5b6d45319d29f669e50f74aa",
        "IPY_MODEL_d108da43eda6427e9caa7b9f2a62ee84",
        "IPY_MODEL_113bb1ddd26c4c1a8383aa53c9ba75f1",
        "IPY_MODEL_c746e07bb9c7483abb368c6947bdd7b5",
        "IPY_MODEL_873edd929d24455b9d145d868c1c169e",
        "IPY_MODEL_595fa89f5a3f4f0b9064cee27aa89808",
        "IPY_MODEL_595ec414b98b4157b5e3189c26bd5b45",
        "IPY_MODEL_7e02715c56d541068db8911cf3df8537"
       ],
       "layout": "IPY_MODEL_b6e80b5838454297bc4fd6cc280b496a"
      }
     },
     "595ec414b98b4157b5e3189c26bd5b45": {
      "model_module": "@jupyter-widgets/controls",
      "model_module_version": "1.5.0",
      "model_name": "FloatSliderModel",
      "state": {
       "description": "Charge scale",
       "layout": "IPY_MODEL_e8436c8f15a44d769c84659aa902f399",
       "step": 0.1,
       "style": "IPY_MODEL_011b238ca20442d68ef3fb33cea2dc1c",
       "value": 1
      }
     },
     "595fa89f5a3f4f0b9064cee27aa89808": {
      "model_module": "@jupyter-widgets/controls",
      "model_module_version": "1.5.0",
      "model_name": "CheckboxModel",
      "state": {
       "description": "Show charge",
       "disabled": false,
       "layout": "IPY_MODEL_9b5cc240e4064796b7af07b35e23a437",
       "style": "IPY_MODEL_c9481e198ad548358e47d3ab3cc58b56",
       "value": false
      }
     },
     "5a6a6969453a4d31b67f4c8556dac846": {
      "model_module": "@jupyter-widgets/controls",
      "model_module_version": "1.5.0",
      "model_name": "DescriptionStyleModel",
      "state": {
       "description_width": ""
      }
     },
     "5a781f7c51cc4d058ad20d51196d4e10": {
      "model_module": "@jupyter-widgets/controls",
      "model_module_version": "1.5.0",
      "model_name": "FloatSliderModel",
      "state": {
       "description": "Ball size",
       "layout": "IPY_MODEL_883eb9a111f143f7b2f98a0eb15fce72",
       "max": 1.5,
       "step": 0.01,
       "style": "IPY_MODEL_46cb0d0beb6347b9bf5ebce57f5ae496",
       "value": 0.5
      }
     },
     "5aadbf80894d4e4fa855e2faf48844ff": {
      "model_module": "@jupyter-widgets/base",
      "model_module_version": "1.2.0",
      "model_name": "LayoutModel",
      "state": {}
     },
     "5ad04443b3b943489f9cab68f7a5ba48": {
      "model_module": "@jupyter-widgets/controls",
      "model_module_version": "1.5.0",
      "model_name": "DescriptionStyleModel",
      "state": {
       "description_width": ""
      }
     },
     "5adc5a4850764b6b98137420e34ee3d6": {
      "model_module": "@jupyter-widgets/base",
      "model_module_version": "1.2.0",
      "model_name": "LayoutModel",
      "state": {}
     },
     "5af63aafc3bd463986591cfce1f00de6": {
      "model_module": "@jupyter-widgets/controls",
      "model_module_version": "1.5.0",
      "model_name": "DropdownModel",
      "state": {
       "_options_labels": [
        " ",
        "picking",
        "random",
        "uniform",
        "atomindex",
        "residueindex",
        "chainindex",
        "modelindex",
        "sstruc",
        "element",
        "resname",
        "bfactor",
        "hydrophobicity",
        "value",
        "volume",
        "occupancy"
       ],
       "description": "Color scheme",
       "index": 9,
       "layout": "IPY_MODEL_5bc4809698ca4f1189311f4fdd3d6a94",
       "style": "IPY_MODEL_a959aa5f33f247c287da3d58aa778225"
      }
     },
     "5b8605912b0448d1acac68a219fcc51b": {
      "model_module": "@jupyter-widgets/controls",
      "model_module_version": "1.5.0",
      "model_name": "LinkModel",
      "state": {
       "source": [
        "IPY_MODEL_2591151f00284389961282feb58cf81e",
        "max"
       ],
       "target": [
        "IPY_MODEL_089d7b104d194011abea0772fba8d304",
        "max_frame"
       ]
      }
     },
     "5b939e9d5b6d45319d29f669e50f74aa": {
      "model_module": "@jupyter-widgets/controls",
      "model_module_version": "1.5.0",
      "model_name": "FloatSliderModel",
      "state": {
       "description": "Ball size",
       "layout": "IPY_MODEL_4556450881174fee8f1d3503ce2bdddc",
       "max": 1.5,
       "step": 0.01,
       "style": "IPY_MODEL_36b781323591466ba18c31fd30b141e3",
       "value": 0.5
      }
     },
     "5bc4809698ca4f1189311f4fdd3d6a94": {
      "model_module": "@jupyter-widgets/base",
      "model_module_version": "1.2.0",
      "model_name": "LayoutModel",
      "state": {}
     },
     "5c3521000cf543b3bbddbd4d208b20d6": {
      "model_module": "@jupyter-widgets/controls",
      "model_module_version": "1.5.0",
      "model_name": "FloatSliderModel",
      "state": {
       "description": "Ball size",
       "layout": "IPY_MODEL_f02b2fc2612641a6aec478c5b725e183",
       "max": 1.5,
       "step": 0.01,
       "style": "IPY_MODEL_3135d8993bb6469089cb9dde508f5aa5",
       "value": 0.5
      }
     },
     "5c6b4683f9ef43b5b65184ca8b353b40": {
      "model_module": "@jupyter-widgets/controls",
      "model_module_version": "1.5.0",
      "model_name": "CheckboxModel",
      "state": {
       "description": "Show force",
       "disabled": false,
       "layout": "IPY_MODEL_3b17f87789f646eab70262f4fcc6712e",
       "style": "IPY_MODEL_1fad5161601c4ff880820a2ae5913633",
       "value": false
      }
     },
     "5c95f4875af34617b68798bf49d5a958": {
      "model_module": "@jupyter-widgets/controls",
      "model_module_version": "1.5.0",
      "model_name": "LinkModel",
      "state": {
       "source": [
        "IPY_MODEL_9c1a161f32ac4a72959f7a256a9b35a7",
        "max"
       ],
       "target": [
        "IPY_MODEL_40d67bdddf7a4ddda429508b0745e327",
        "max_frame"
       ]
      }
     },
     "5cf1893a77c447d78c05106299780b60": {
      "model_module": "@jupyter-widgets/controls",
      "model_module_version": "1.5.0",
      "model_name": "DropdownModel",
      "state": {
       "_options_labels": [
        "All",
        "Pd",
        "Pt"
       ],
       "description": "Show",
       "index": 0,
       "layout": "IPY_MODEL_ed01386bd1784499a835685b9946514c",
       "style": "IPY_MODEL_951589be1754448796b68fa3e776d610"
      }
     },
     "5d13a3e8996643b295a53079f312d6f8": {
      "model_module": "@jupyter-widgets/controls",
      "model_module_version": "1.5.0",
      "model_name": "ButtonModel",
      "state": {
       "icon": "compress",
       "layout": "IPY_MODEL_1c06fa9c49614b32a90ea6edb7cb7a3a",
       "style": "IPY_MODEL_2c9788f3559b441e89dcec50bb3f3104"
      }
     },
     "5d5cf462c5044081b6363a4f8e35c6ae": {
      "model_module": "@jupyter-widgets/controls",
      "model_module_version": "1.5.0",
      "model_name": "HBoxModel",
      "state": {
       "children": [
        "IPY_MODEL_788d90116fb449a1ace96e6a5172263f",
        "IPY_MODEL_9c8a821316124cff803bf85cd2f0ed72"
       ],
       "layout": "IPY_MODEL_af056eebe2c5453593d0e202d801256c"
      }
     },
     "5d6a7732d4824c84a15bd44c202a5075": {
      "model_module": "@jupyter-widgets/base",
      "model_module_version": "1.2.0",
      "model_name": "LayoutModel",
      "state": {}
     },
     "5d9fb6e056844540b0024cb507ffd9a2": {
      "model_module": "@jupyter-widgets/base",
      "model_module_version": "1.2.0",
      "model_name": "LayoutModel",
      "state": {}
     },
     "5e528f5d3e2f40929525f7a941c6412e": {
      "model_module": "@jupyter-widgets/base",
      "model_module_version": "1.2.0",
      "model_name": "LayoutModel",
      "state": {}
     },
     "5edf2addd0a5466a8e224bc589532c99": {
      "model_module": "@jupyter-widgets/controls",
      "model_module_version": "1.5.0",
      "model_name": "FloatSliderModel",
      "state": {
       "description": "Ball size",
       "layout": "IPY_MODEL_252c72468ba9460795bf2b94d725696f",
       "max": 1.5,
       "step": 0.01,
       "style": "IPY_MODEL_730a4b8425a447deaa1283df3df2d1e8",
       "value": 0.5
      }
     },
     "5eeafcb51b5243419a5491f2df2f1e24": {
      "model_module": "@jupyter-widgets/base",
      "model_module_version": "1.2.0",
      "model_name": "LayoutModel",
      "state": {}
     },
     "5f2fefcb08ae451cb2afc7e7ae768de7": {
      "model_module": "@jupyter-widgets/controls",
      "model_module_version": "1.5.0",
      "model_name": "FloatSliderModel",
      "state": {
       "description": "Ball size",
       "layout": "IPY_MODEL_3dec3d04d9bd4746b965c2affac6ab94",
       "max": 1.5,
       "step": 0.01,
       "style": "IPY_MODEL_f842200b0ab849248a71e0ae5e617290",
       "value": 0.5
      }
     },
     "5fc84f8a87ca4018b72f00fad5232272": {
      "model_module": "@jupyter-widgets/controls",
      "model_module_version": "1.5.0",
      "model_name": "SliderStyleModel",
      "state": {
       "description_width": ""
      }
     },
     "6072916f8968402e898d55e57e875a1b": {
      "model_module": "@jupyter-widgets/controls",
      "model_module_version": "1.5.0",
      "model_name": "LinkModel",
      "state": {
       "source": [
        "IPY_MODEL_fba03774a2264687b684d1fd3bbfd84b",
        "max"
       ],
       "target": [
        "IPY_MODEL_9b87bf5b29574b4c96d7ac4703bedaf4",
        "max_frame"
       ]
      }
     },
     "607f1de747df4938a09f7d4ced040fbc": {
      "model_module": "@jupyter-widgets/controls",
      "model_module_version": "1.5.0",
      "model_name": "VBoxModel",
      "state": {
       "children": [
        "IPY_MODEL_c66dcc36f56a4bdea53f09539e34cfb4",
        "IPY_MODEL_0c3b03fde3ce439c9c230116f90cadd6",
        "IPY_MODEL_84dc1778e5c5402f965afafaa746c918",
        "IPY_MODEL_321efdce76c34d74a679d91e0b4421c2",
        "IPY_MODEL_5d5cf462c5044081b6363a4f8e35c6ae",
        "IPY_MODEL_24fdc1eb71cc48b6a8edf7fd03ae2d68",
        "IPY_MODEL_f46df3be266f4861bc5bf25eb7493449",
        "IPY_MODEL_c199dc50ec2a4003b225e8c81423060b",
        "IPY_MODEL_3e9a8a53d713458ba22e5eb65942895f",
        "IPY_MODEL_9610f1d9853846539850881f3ca20494"
       ],
       "layout": "IPY_MODEL_5aadbf80894d4e4fa855e2faf48844ff"
      }
     },
     "609cc7908fa745c294d33f030f6a5e6e": {
      "model_module": "@jupyter-widgets/controls",
      "model_module_version": "1.5.0",
      "model_name": "SliderStyleModel",
      "state": {
       "description_width": ""
      }
     },
     "60f8ad26effb4a9d86cb912cf7b9ee34": {
      "model_module": "@jupyter-widgets/controls",
      "model_module_version": "1.5.0",
      "model_name": "HBoxModel",
      "state": {
       "children": [
        "IPY_MODEL_87b9d88681eb47b5bc384d3ddc9b6772",
        "IPY_MODEL_085d158aab3b44fa912a3a84c478acb8"
       ],
       "layout": "IPY_MODEL_043a500abd094e7d8543260438a365f6"
      }
     },
     "61278a73cde64b0fb60ea563567afb44": {
      "model_module": "@jupyter-widgets/base",
      "model_module_version": "1.2.0",
      "model_name": "LayoutModel",
      "state": {}
     },
     "6149097b77cc49b5829cbd242ae2c93a": {
      "model_module": "@jupyter-widgets/controls",
      "model_module_version": "1.5.0",
      "model_name": "ButtonStyleModel",
      "state": {}
     },
     "61689aca54e54727b6d5813f971a92c3": {
      "model_module": "@jupyter-widgets/controls",
      "model_module_version": "1.5.0",
      "model_name": "LinkModel",
      "state": {
       "source": [
        "IPY_MODEL_2dd51741fdd744c7877266b8fb3f8cef",
        "max"
       ],
       "target": [
        "IPY_MODEL_87b9d88681eb47b5bc384d3ddc9b6772",
        "max_frame"
       ]
      }
     },
     "61e712976b2743e49f1711820d652e3d": {
      "model_module": "@jupyter-widgets/controls",
      "model_module_version": "1.5.0",
      "model_name": "VBoxModel",
      "state": {
       "children": [
        "IPY_MODEL_6cd66b99ff3a46d7b791f4926b582399",
        "IPY_MODEL_ecfca08f04a748f7ba145aa6f15d26da",
        "IPY_MODEL_63d857684852488dbb4adaca7d6373ac",
        "IPY_MODEL_ed4b73196d2743e992acd1e7e9e8cdc9",
        "IPY_MODEL_aee565e475ab4b4ea021310336732469",
        "IPY_MODEL_5c6b4683f9ef43b5b65184ca8b353b40",
        "IPY_MODEL_7b40591218df4782adcf672326cc5bf4",
        "IPY_MODEL_c871cc6c2c804c8aaa900382925e5216",
        "IPY_MODEL_69f1d2ad150c41b78b6ddc26e58c9206",
        "IPY_MODEL_8e35a503a1be4fa1bf88205f6df74f79"
       ],
       "layout": "IPY_MODEL_ba7d2c4bfc3449b3a095375ed64a70ef"
      }
     },
     "6216d4a277124047bef4cbe6c0803596": {
      "model_module": "@jupyter-widgets/controls",
      "model_module_version": "1.5.0",
      "model_name": "SliderStyleModel",
      "state": {
       "description_width": ""
      }
     },
     "6245462211714841b2d9b685cdad6feb": {
      "model_module": "@jupyter-widgets/base",
      "model_module_version": "1.2.0",
      "model_name": "LayoutModel",
      "state": {}
     },
     "62de2bd350114eec819873ae5900554d": {
      "model_module": "@jupyter-widgets/controls",
      "model_module_version": "1.5.0",
      "model_name": "ButtonModel",
      "state": {
       "description": "Save image",
       "layout": "IPY_MODEL_191b893cf1934c3587f372f469a2613a",
       "style": "IPY_MODEL_312e720255974c3cabdbbf2da87313e0",
       "tooltip": "Save current frame to file.\nCurrently .png and .html are supported.\nIt takes a bit time, please be patient."
      }
     },
     "6326e1530caa40c897b645d4d53e7d38": {
      "model_module": "@jupyter-widgets/controls",
      "model_module_version": "1.5.0",
      "model_name": "ImageModel",
      "state": {
       "layout": "IPY_MODEL_b40cf480dbbf476ca67aa08da76f6dfb",
       "width": "900.0"
      }
     },
     "633c7840bd4d4ff196f9711b51c6334f": {
      "model_module": "@jupyter-widgets/controls",
      "model_module_version": "1.5.0",
      "model_name": "PlayModel",
      "state": {
       "layout": "IPY_MODEL_cdb467d35014461488bb21789d6935f8",
       "max": 0,
       "style": "IPY_MODEL_8ab6a3675e994302ae3db9c7a52515eb"
      }
     },
     "638c8790da2541c3825288296e976212": {
      "model_module": "@jupyter-widgets/controls",
      "model_module_version": "1.5.0",
      "model_name": "FloatSliderModel",
      "state": {
       "description": "Ball size",
       "layout": "IPY_MODEL_cc5addefdad448c996cf58a135924c0a",
       "max": 1.5,
       "step": 0.01,
       "style": "IPY_MODEL_8ae4ec7a13214439b3224f65156d0604",
       "value": 0.5
      }
     },
     "63d857684852488dbb4adaca7d6373ac": {
      "model_module": "@jupyter-widgets/controls",
      "model_module_version": "1.5.0",
      "model_name": "FloatSliderModel",
      "state": {
       "description": "Ball size",
       "layout": "IPY_MODEL_d63c2400239645a2b589f16c3dfeb1d0",
       "max": 1.5,
       "step": 0.01,
       "style": "IPY_MODEL_2bcb8419da764015b2d3bb088ce85224",
       "value": 0.5
      }
     },
     "63de26ac2ebc403f93f37a37f4701391": {
      "model_module": "@jupyter-widgets/controls",
      "model_module_version": "1.5.0",
      "model_name": "DescriptionStyleModel",
      "state": {
       "description_width": ""
      }
     },
     "63eff96baa7b4f9381e91d1ec3a6f61a": {
      "model_module": "@jupyter-widgets/base",
      "model_module_version": "1.2.0",
      "model_name": "LayoutModel",
      "state": {}
     },
     "63f0714514994644a6a3cf9b26c68c76": {
      "model_module": "@jupyter-widgets/controls",
      "model_module_version": "1.5.0",
      "model_name": "DescriptionStyleModel",
      "state": {
       "description_width": ""
      }
     },
     "64697735076149c8b5f6d41e50870432": {
      "model_module": "@jupyter-widgets/controls",
      "model_module_version": "1.5.0",
      "model_name": "LinkModel",
      "state": {
       "source": [
        "IPY_MODEL_5646e436dd464e09b9f2ff8010507359",
        "max"
       ],
       "target": [
        "IPY_MODEL_089d7b104d194011abea0772fba8d304",
        "max_frame"
       ]
      }
     },
     "6481b987f24244aab9cd7582b261007f": {
      "model_module": "@jupyter-widgets/controls",
      "model_module_version": "1.5.0",
      "model_name": "DescriptionStyleModel",
      "state": {
       "description_width": ""
      }
     },
     "6490fe1448894166ab98a22b5a40994f": {
      "model_module": "@jupyter-widgets/controls",
      "model_module_version": "1.5.0",
      "model_name": "ImageModel",
      "state": {
       "layout": "IPY_MODEL_d634d1f13c454cc5b7c2dfc087b70348",
       "width": "900.0"
      }
     },
     "64a1bf04aa4b4c86b63b2732eaf4c8f8": {
      "model_module": "@jupyter-widgets/base",
      "model_module_version": "1.2.0",
      "model_name": "LayoutModel",
      "state": {}
     },
     "64aefa151ed8485c878c77f200e7cdd3": {
      "model_module": "@jupyter-widgets/controls",
      "model_module_version": "1.5.0",
      "model_name": "HBoxModel",
      "state": {
       "children": [
        "IPY_MODEL_6fe6b1e94ff449bf9b1d08ca75a8ac17",
        "IPY_MODEL_1793d0e76d574a03bd81d1fedc9d1342"
       ],
       "layout": "IPY_MODEL_4f4187b8bf0b4b41bafed2cfdeca636e"
      }
     },
     "64e2b8a038444b428b208242d06e08cb": {
      "model_module": "@jupyter-widgets/base",
      "model_module_version": "1.2.0",
      "model_name": "LayoutModel",
      "state": {}
     },
     "65ac5df119d046628de24a77886b501b": {
      "model_module": "@jupyter-widgets/controls",
      "model_module_version": "1.5.0",
      "model_name": "ButtonStyleModel",
      "state": {}
     },
     "65bb23335b064dddb5d11ffe37aa7474": {
      "model_module": "@jupyter-widgets/controls",
      "model_module_version": "1.5.0",
      "model_name": "ButtonStyleModel",
      "state": {}
     },
     "667f6d9d230342ad83e4070849098616": {
      "model_module": "@jupyter-widgets/controls",
      "model_module_version": "1.5.0",
      "model_name": "LinkModel",
      "state": {
       "source": [
        "IPY_MODEL_4e0da825531948bf8539ff1a43cdf22d",
        "value"
       ],
       "target": [
        "IPY_MODEL_fb395ff55a264eb6a1b47ffb4f827ad5",
        "value"
       ]
      }
     },
     "668808e461294f2b9fef39cd445deab9": {
      "model_module": "@jupyter-widgets/controls",
      "model_module_version": "1.5.0",
      "model_name": "VBoxModel",
      "state": {
       "children": [
        "IPY_MODEL_a1c96cf63cf74b8fb570c3ca47970034",
        "IPY_MODEL_b2c4400b32004af6a18389386ca0502a",
        "IPY_MODEL_5a781f7c51cc4d058ad20d51196d4e10",
        "IPY_MODEL_a26eefb2b42147a692e8705c7833b643",
        "IPY_MODEL_0a2ee6d62287452c8c2164c5fbf984ed",
        "IPY_MODEL_b40f6d2d66fb46f5b404c296e9187457",
        "IPY_MODEL_79dfcb6e5fe24e2b8ee928b2d6a713da",
        "IPY_MODEL_3f2b1d2d0e634c328bc53d9fa167b124",
        "IPY_MODEL_d47a4f75f9b143db9b2210d177fa2cab",
        "IPY_MODEL_455e4b2d4dd5472687c1f5cbad0dd5c8"
       ],
       "layout": "IPY_MODEL_e1812992bd0941d3bf0ddbf5f46c2772"
      }
     },
     "66ff7a3596e94f08993d4ab469a9e842": {
      "model_module": "@jupyter-widgets/base",
      "model_module_version": "1.2.0",
      "model_name": "LayoutModel",
      "state": {}
     },
     "674e04213def4f25b3fc082b43b862e1": {
      "model_module": "@jupyter-widgets/controls",
      "model_module_version": "1.5.0",
      "model_name": "CheckboxModel",
      "state": {
       "description": "Show charge",
       "disabled": false,
       "layout": "IPY_MODEL_9ed04f870f8f4094a6946e53f2432f8b",
       "style": "IPY_MODEL_4c8dd4f32f7f43d7b41c72667944717a",
       "value": false
      }
     },
     "68b5b5bec7fc4155a037b0de422dff40": {
      "model_module": "@jupyter-widgets/controls",
      "model_module_version": "1.5.0",
      "model_name": "DescriptionStyleModel",
      "state": {
       "description_width": ""
      }
     },
     "691fb4a209984f13aac1f6eeadad090d": {
      "model_module": "@jupyter-widgets/base",
      "model_module_version": "1.2.0",
      "model_name": "LayoutModel",
      "state": {}
     },
     "697069da70004e788a1e00d723b3794a": {
      "model_module": "@jupyter-widgets/controls",
      "model_module_version": "1.5.0",
      "model_name": "DescriptionStyleModel",
      "state": {
       "description_width": ""
      }
     },
     "69c8c96400fe47fb9d453ff398b07b54": {
      "model_module": "@jupyter-widgets/controls",
      "model_module_version": "1.5.0",
      "model_name": "HBoxModel",
      "state": {
       "children": [
        "IPY_MODEL_633c7840bd4d4ff196f9711b51c6334f",
        "IPY_MODEL_479b549d347a4e6a8a3e915f94999ca9"
       ],
       "layout": "IPY_MODEL_94729be5efb24b91ae2a7a08cac4cfb2"
      }
     },
     "69f1d2ad150c41b78b6ddc26e58c9206": {
      "model_module": "@jupyter-widgets/controls",
      "model_module_version": "1.5.0",
      "model_name": "FloatSliderModel",
      "state": {
       "description": "Charge scale",
       "layout": "IPY_MODEL_b87551cf4e8040dda67a08711847eee6",
       "step": 0.1,
       "style": "IPY_MODEL_82e1cfd1d52447faba52afbc2e030f63",
       "value": 1
      }
     },
     "6a0e3cbc3200476d89a03d6d695da6ae": {
      "model_module": "@jupyter-widgets/controls",
      "model_module_version": "1.5.0",
      "model_name": "ButtonStyleModel",
      "state": {}
     },
     "6a114dd124024648b57433cb6c4e16f3": {
      "model_module": "@jupyter-widgets/base",
      "model_module_version": "1.2.0",
      "model_name": "LayoutModel",
      "state": {
       "border": "0px solid black"
      }
     },
     "6a3b899ccfbf49fc94f62b9a67777e2f": {
      "model_module": "@jupyter-widgets/base",
      "model_module_version": "1.2.0",
      "model_name": "LayoutModel",
      "state": {}
     },
     "6a551f29076c4f139fc3bb2e16816630": {
      "model_module": "@jupyter-widgets/base",
      "model_module_version": "1.2.0",
      "model_name": "LayoutModel",
      "state": {
       "border": "0px solid black"
      }
     },
     "6a6ae83d15ec473b8d0b89a67129fdc1": {
      "model_module": "@jupyter-widgets/controls",
      "model_module_version": "1.5.0",
      "model_name": "DescriptionStyleModel",
      "state": {
       "description_width": ""
      }
     },
     "6ae2497d4fb34aa3888b2a961bf4f52d": {
      "model_module": "@jupyter-widgets/base",
      "model_module_version": "1.2.0",
      "model_name": "LayoutModel",
      "state": {}
     },
     "6af88871c1814010831f36ff95477dfa": {
      "model_module": "@jupyter-widgets/base",
      "model_module_version": "1.2.0",
      "model_name": "LayoutModel",
      "state": {}
     },
     "6b069410b6fc42bea975efa532e96622": {
      "model_module": "@jupyter-widgets/base",
      "model_module_version": "1.2.0",
      "model_name": "LayoutModel",
      "state": {}
     },
     "6b3eb6d3ff704919beab6aeb745d4f9d": {
      "model_module": "@jupyter-widgets/controls",
      "model_module_version": "1.5.0",
      "model_name": "CheckboxModel",
      "state": {
       "description": "Show force",
       "disabled": false,
       "layout": "IPY_MODEL_7727fcf4dae649efa9a0a7e25c1d545e",
       "style": "IPY_MODEL_001f4206fcae46969ada9203593bddda",
       "value": false
      }
     },
     "6b93adc949ae4c0eb5dd63b0d226fb3a": {
      "model_module": "@jupyter-widgets/controls",
      "model_module_version": "1.5.0",
      "model_name": "ButtonModel",
      "state": {
       "description": "Download image",
       "layout": "IPY_MODEL_ed18498608bb47a0ab57201791ae3ca8",
       "style": "IPY_MODEL_313ae08e974948618758dffc96107c21",
       "tooltip": "Download current frame to your local PC"
      }
     },
     "6bc5ff5a22d84c98af3cb8af241879bb": {
      "model_module": "@jupyter-widgets/base",
      "model_module_version": "1.2.0",
      "model_name": "LayoutModel",
      "state": {}
     },
     "6c04d9172c314c708f638d962a9ef021": {
      "model_module": "@jupyter-widgets/controls",
      "model_module_version": "1.5.0",
      "model_name": "LinkModel",
      "state": {
       "source": [
        "IPY_MODEL_992e7bfabd9c4c0b928583d4f317984c",
        "max"
       ],
       "target": [
        "IPY_MODEL_ffc0ff16fc804555aa0c96aef6fa21ef",
        "max_frame"
       ]
      }
     },
     "6c42f448da334fd386184b56d2f7d79e": {
      "model_module": "@jupyter-widgets/controls",
      "model_module_version": "1.5.0",
      "model_name": "SliderStyleModel",
      "state": {
       "description_width": ""
      }
     },
     "6c7fb50ff0504f01b0512156b28ebec8": {
      "model_module": "@jupyter-widgets/controls",
      "model_module_version": "1.5.0",
      "model_name": "CheckboxModel",
      "state": {
       "description": "Show charge",
       "disabled": false,
       "layout": "IPY_MODEL_135fb2d495a740fe91856dbdcb18ff1a",
       "style": "IPY_MODEL_965332fbd8ce46349c6507a10dee36c4",
       "value": false
      }
     },
     "6cd66b99ff3a46d7b791f4926b582399": {
      "model_module": "@jupyter-widgets/controls",
      "model_module_version": "1.5.0",
      "model_name": "DropdownModel",
      "state": {
       "_options_labels": [
        "All",
        "Pd",
        "Pt"
       ],
       "description": "Show",
       "index": 0,
       "layout": "IPY_MODEL_09245d0e0f094dc6ae2fa0af2006d3fa",
       "style": "IPY_MODEL_80bae21cf088400fa67a526b1b4913fe"
      }
     },
     "6cf585a532ca470a8bc94e1ff28c75a8": {
      "model_module": "@jupyter-widgets/controls",
      "model_module_version": "1.5.0",
      "model_name": "DescriptionStyleModel",
      "state": {
       "description_width": ""
      }
     },
     "6d0919040f01401188820d5851fcf33b": {
      "model_module": "@jupyter-widgets/base",
      "model_module_version": "1.2.0",
      "model_name": "LayoutModel",
      "state": {}
     },
     "6f765b05bc5a4809b40396f4f7f93340": {
      "model_module": "@jupyter-widgets/base",
      "model_module_version": "1.2.0",
      "model_name": "LayoutModel",
      "state": {}
     },
     "6f82adc934704a729c7dabf47be03cd2": {
      "model_module": "@jupyter-widgets/base",
      "model_module_version": "1.2.0",
      "model_name": "LayoutModel",
      "state": {}
     },
     "6fb55c8df0a74fabb83f47ff220ed980": {
      "model_module": "@jupyter-widgets/controls",
      "model_module_version": "1.5.0",
      "model_name": "LinkModel",
      "state": {
       "source": [
        "IPY_MODEL_4e0da825531948bf8539ff1a43cdf22d",
        "value"
       ],
       "target": [
        "IPY_MODEL_a99ad709090048eb9bfef8886e7312f0",
        "frame"
       ]
      }
     },
     "6fe6b1e94ff449bf9b1d08ca75a8ac17": {
      "model_module": "@jupyter-widgets/controls",
      "model_module_version": "1.5.0",
      "model_name": "ButtonModel",
      "state": {
       "description": "Download image",
       "layout": "IPY_MODEL_6d0919040f01401188820d5851fcf33b",
       "style": "IPY_MODEL_4880194c19544319911c01b9e779f62d",
       "tooltip": "Download current frame to your local PC"
      }
     },
     "7011403da3aa43418aea42e94806fdca": {
      "model_module": "@jupyter-widgets/controls",
      "model_module_version": "1.5.0",
      "model_name": "VBoxModel",
      "state": {
       "children": [
        "IPY_MODEL_d9516ecb3bf645ca8c53b8667dd4525f",
        "IPY_MODEL_3bc1b3b8cc2d45aa8926a3b8603f66d7",
        "IPY_MODEL_5c3521000cf543b3bbddbd4d208b20d6",
        "IPY_MODEL_f34f8d3ec56a483888a449582d3e5106",
        "IPY_MODEL_abd96a3c6e2249bbb27537ee82aa3471",
        "IPY_MODEL_ac3d84e93c044dddb4375adf2b686656",
        "IPY_MODEL_2aa20ddb7fb7424ea6228e7a734712e6",
        "IPY_MODEL_00ea302b80d54f9f9c3baa3abb2dcd51",
        "IPY_MODEL_fb16882da67d4dde93f7555ab777c887",
        "IPY_MODEL_2c4b356e592b4a2c96cff95b103339f4"
       ],
       "layout": "IPY_MODEL_4ef4252e34ec45d48031354046982f00"
      }
     },
     "703b86b24f374526b773b81c334b1153": {
      "model_module": "@jupyter-widgets/controls",
      "model_module_version": "1.5.0",
      "model_name": "FloatSliderModel",
      "state": {
       "description": "Ball size",
       "layout": "IPY_MODEL_d8269d66873b47debe42a29c184f0a31",
       "max": 1.5,
       "step": 0.01,
       "style": "IPY_MODEL_ccfde63cc7214cb6b7ded228955254d7",
       "value": 0.5
      }
     },
     "7160e17561bf4167b36915848dc8e508": {
      "model_module": "@jupyter-widgets/controls",
      "model_module_version": "1.5.0",
      "model_name": "DescriptionStyleModel",
      "state": {
       "description_width": ""
      }
     },
     "730a4b8425a447deaa1283df3df2d1e8": {
      "model_module": "@jupyter-widgets/controls",
      "model_module_version": "1.5.0",
      "model_name": "SliderStyleModel",
      "state": {
       "description_width": ""
      }
     },
     "7354da441a0443aab24c1f02c3c08bba": {
      "model_module": "@jupyter-widgets/controls",
      "model_module_version": "1.5.0",
      "model_name": "DropdownModel",
      "state": {
       "_options_labels": [
        "All",
        "Sn",
        "O"
       ],
       "description": "Show",
       "index": 0,
       "layout": "IPY_MODEL_9b60c5d7e2c5494591d3387c4663b410",
       "style": "IPY_MODEL_0f3d11848b444a9ca85a09e0a1540c99"
      }
     },
     "73979dbafc5744e1a4e02223ba371784": {
      "model_module": "@jupyter-widgets/base",
      "model_module_version": "1.2.0",
      "model_name": "LayoutModel",
      "state": {}
     },
     "73a1b90b46b44c29a64717294b4605b9": {
      "model_module": "@jupyter-widgets/controls",
      "model_module_version": "1.5.0",
      "model_name": "TextModel",
      "state": {
       "description": "Filename: ",
       "layout": "IPY_MODEL_d62e49ba32b94254896fe68b4ac35034",
       "style": "IPY_MODEL_697069da70004e788a1e00d723b3794a",
       "value": "screenshot.png"
      }
     },
     "73fe9a0ff98a4c70b742101f3d2ca8db": {
      "model_module": "@jupyter-widgets/base",
      "model_module_version": "1.2.0",
      "model_name": "LayoutModel",
      "state": {}
     },
     "755d882c23b8438197e3aee910355454": {
      "model_module": "@jupyter-widgets/base",
      "model_module_version": "1.2.0",
      "model_name": "LayoutModel",
      "state": {}
     },
     "756407f2f7fc42b7aeea31caa989b67d": {
      "model_module": "@jupyter-widgets/controls",
      "model_module_version": "1.5.0",
      "model_name": "HBoxModel",
      "state": {
       "children": [
        "IPY_MODEL_e5bb61eb1d964940b9f3031635c3521f",
        "IPY_MODEL_590bdcb12ba047b6b9cd633c83dbd163"
       ],
       "layout": "IPY_MODEL_552376bd95b749508a6eba824fb36c58"
      }
     },
     "75cfbc9f34b648ce8964137ee1eae804": {
      "model_module": "@jupyter-widgets/controls",
      "model_module_version": "1.5.0",
      "model_name": "FloatSliderModel",
      "state": {
       "description": "Force scale",
       "layout": "IPY_MODEL_a9cd9397a68148118292328c97710482",
       "step": 0.1,
       "style": "IPY_MODEL_19f48c5fafe5466b8764b70666603ed0",
       "value": 0.5
      }
     },
     "772789663fd1460e8f609d060d1516b4": {
      "model_module": "@jupyter-widgets/base",
      "model_module_version": "1.2.0",
      "model_name": "LayoutModel",
      "state": {}
     },
     "7727fcf4dae649efa9a0a7e25c1d545e": {
      "model_module": "@jupyter-widgets/base",
      "model_module_version": "1.2.0",
      "model_name": "LayoutModel",
      "state": {}
     },
     "77289c39b9c74001b057820dbb1f1c6a": {
      "model_module": "@jupyter-widgets/controls",
      "model_module_version": "1.5.0",
      "model_name": "SliderStyleModel",
      "state": {
       "description_width": ""
      }
     },
     "773e4fb5261f4b20ac98aa7c342a26cd": {
      "model_module": "@jupyter-widgets/controls",
      "model_module_version": "1.5.0",
      "model_name": "DescriptionStyleModel",
      "state": {
       "description_width": ""
      }
     },
     "780fe39126ce456bae13c435afacbc77": {
      "model_module": "nglview-js-widgets",
      "model_module_version": "3.0.1",
      "model_name": "NGLModel",
      "state": {
       "_camera_orientation": [
        21.6343207485563,
        -0.154982377594741,
        0.8516747790522998,
        0,
        0.8389211112411922,
        -1.5000077383328727,
        -21.583312810412302,
        0,
        0.2134966879193823,
        21.599054631294152,
        -1.4928033750869123,
        0,
        -5.67549991607666,
        -6.172999858856201,
        -3.0304999351501465,
        1
       ],
       "_camera_str": "orthographic",
       "_gui_theme": null,
       "_ibtn_fullscreen": "IPY_MODEL_1b279dc6e4de415fbf170ea021bc36c0",
       "_igui": null,
       "_iplayer": "IPY_MODEL_9fc9a4f37ea8435495f992bbafbc50f2",
       "_ngl_color_dict": {},
       "_ngl_coordinate_resource": {},
       "_ngl_full_stage_parameters": {
        "ambientColor": 14540253,
        "ambientIntensity": 0.2,
        "backgroundColor": "white",
        "cameraEyeSep": 0.3,
        "cameraFov": 40,
        "cameraType": "orthographic",
        "clipDist": 0,
        "clipFar": 100,
        "clipNear": 0,
        "fogFar": 100,
        "fogNear": 50,
        "hoverTimeout": 0,
        "impostor": true,
        "lightColor": 14540253,
        "lightIntensity": 1,
        "mousePreset": "default",
        "panSpeed": 1,
        "quality": "medium",
        "rotateSpeed": 2,
        "sampleLevel": 0,
        "tooltip": true,
        "workerDefault": true,
        "zoomSpeed": 1.2
       },
       "_ngl_msg_archive": [
        {
         "args": [
          {
           "binary": false,
           "data": "CRYST1   12.973   13.668   27.336  90.00  90.00  90.00 P 1\nMODEL     1\nATOM      1   Sn MOL     1       1.622   3.417   4.739  1.00  0.00          SN  \nATOM      2   Sn MOL     1       1.622   0.000   1.322  1.00  0.00          SN  \nATOM      3   Sn MOL     1       0.000   3.417   1.322  1.00  0.00          SN  \nATOM      4   Sn MOL     1       0.000   0.000   4.739  1.00  0.00          SN  \nATOM      5    O MOL     1       1.622   1.322   4.739  1.00  0.00           O  \nATOM      6    O MOL     1       1.622   4.739   1.322  1.00  0.00           O  \nATOM      7    O MOL     1       1.622   5.512   4.739  1.00  0.00           O  \nATOM      8    O MOL     1       1.622   2.095   1.322  1.00  0.00           O  \nATOM      9    O MOL     1       0.000   3.417   6.061  1.00  0.00           O  \nATOM     10    O MOL     1       0.000   0.000   2.644  1.00  0.00           O  \nATOM     11    O MOL     1       0.000   3.417   3.417  1.00  0.00           O  \nATOM     12    O MOL     1       0.000   0.000  -0.000  1.00  0.00           O  \nATOM     13   Sn MOL     1       1.622  10.251   4.739  1.00  0.00          SN  \nATOM     14   Sn MOL     1       1.622   6.834   1.322  1.00  0.00          SN  \nATOM     15   Sn MOL     1       0.000  10.251   1.322  1.00  0.00          SN  \nATOM     16   Sn MOL     1       0.000   6.834   4.739  1.00  0.00          SN  \nATOM     17    O MOL     1       1.622   8.156   4.739  1.00  0.00           O  \nATOM     18    O MOL     1       1.622  11.573   1.322  1.00  0.00           O  \nATOM     19    O MOL     1       1.622  12.346   4.739  1.00  0.00           O  \nATOM     20    O MOL     1       1.622   8.929   1.322  1.00  0.00           O  \nATOM     21    O MOL     1       0.000  10.251   6.061  1.00  0.00           O  \nATOM     22    O MOL     1       0.000   6.834   2.644  1.00  0.00           O  \nATOM     23    O MOL     1       0.000  10.251   3.417  1.00  0.00           O  \nATOM     24    O MOL     1       0.000   6.834  -0.000  1.00  0.00           O  \nATOM     25   Sn MOL     1       4.865   3.417   4.739  1.00  0.00          SN  \nATOM     26   Sn MOL     1       4.865   0.000   1.322  1.00  0.00          SN  \nATOM     27   Sn MOL     1       3.243   3.417   1.322  1.00  0.00          SN  \nATOM     28   Sn MOL     1       3.243   0.000   4.739  1.00  0.00          SN  \nATOM     29    O MOL     1       4.865   1.322   4.739  1.00  0.00           O  \nATOM     30    O MOL     1       4.865   4.739   1.322  1.00  0.00           O  \nATOM     31    O MOL     1       4.865   5.512   4.739  1.00  0.00           O  \nATOM     32    O MOL     1       4.865   2.095   1.322  1.00  0.00           O  \nATOM     33    O MOL     1       3.243   3.417   6.061  1.00  0.00           O  \nATOM     34    O MOL     1       3.243   0.000   2.644  1.00  0.00           O  \nATOM     35    O MOL     1       3.243   3.417   3.417  1.00  0.00           O  \nATOM     36    O MOL     1       3.243   0.000  -0.000  1.00  0.00           O  \nATOM     37   Sn MOL     1       4.865  10.251   4.739  1.00  0.00          SN  \nATOM     38   Sn MOL     1       4.865   6.834   1.322  1.00  0.00          SN  \nATOM     39   Sn MOL     1       3.243  10.251   1.322  1.00  0.00          SN  \nATOM     40   Sn MOL     1       3.243   6.834   4.739  1.00  0.00          SN  \nATOM     41    O MOL     1       4.865   8.156   4.739  1.00  0.00           O  \nATOM     42    O MOL     1       4.865  11.573   1.322  1.00  0.00           O  \nATOM     43    O MOL     1       4.865  12.346   4.739  1.00  0.00           O  \nATOM     44    O MOL     1       4.865   8.929   1.322  1.00  0.00           O  \nATOM     45    O MOL     1       3.243  10.251   6.061  1.00  0.00           O  \nATOM     46    O MOL     1       3.243   6.834   2.644  1.00  0.00           O  \nATOM     47    O MOL     1       3.243  10.251   3.417  1.00  0.00           O  \nATOM     48    O MOL     1       3.243   6.834  -0.000  1.00  0.00           O  \nATOM     49   Sn MOL     1       8.108   3.417   4.739  1.00  0.00          SN  \nATOM     50   Sn MOL     1       8.108   0.000   1.322  1.00  0.00          SN  \nATOM     51   Sn MOL     1       6.486   3.417   1.322  1.00  0.00          SN  \nATOM     52   Sn MOL     1       6.486   0.000   4.739  1.00  0.00          SN  \nATOM     53    O MOL     1       8.108   1.322   4.739  1.00  0.00           O  \nATOM     54    O MOL     1       8.108   4.739   1.322  1.00  0.00           O  \nATOM     55    O MOL     1       8.108   5.512   4.739  1.00  0.00           O  \nATOM     56    O MOL     1       8.108   2.095   1.322  1.00  0.00           O  \nATOM     57    O MOL     1       6.486   3.417   6.061  1.00  0.00           O  \nATOM     58    O MOL     1       6.486   0.000   2.644  1.00  0.00           O  \nATOM     59    O MOL     1       6.486   3.417   3.417  1.00  0.00           O  \nATOM     60    O MOL     1       6.486   0.000  -0.000  1.00  0.00           O  \nATOM     61   Sn MOL     1       8.108  10.251   4.739  1.00  0.00          SN  \nATOM     62   Sn MOL     1       8.108   6.834   1.322  1.00  0.00          SN  \nATOM     63   Sn MOL     1       6.486  10.251   1.322  1.00  0.00          SN  \nATOM     64   Sn MOL     1       6.486   6.834   4.739  1.00  0.00          SN  \nATOM     65    O MOL     1       8.108   8.156   4.739  1.00  0.00           O  \nATOM     66    O MOL     1       8.108  11.573   1.322  1.00  0.00           O  \nATOM     67    O MOL     1       8.108  12.346   4.739  1.00  0.00           O  \nATOM     68    O MOL     1       8.108   8.929   1.322  1.00  0.00           O  \nATOM     69    O MOL     1       6.486  10.251   6.061  1.00  0.00           O  \nATOM     70    O MOL     1       6.486   6.834   2.644  1.00  0.00           O  \nATOM     71    O MOL     1       6.486  10.251   3.417  1.00  0.00           O  \nATOM     72    O MOL     1       6.486   6.834  -0.000  1.00  0.00           O  \nATOM     73   Sn MOL     1      11.351   3.417   4.739  1.00  0.00          SN  \nATOM     74   Sn MOL     1      11.351   0.000   1.322  1.00  0.00          SN  \nATOM     75   Sn MOL     1       9.730   3.417   1.322  1.00  0.00          SN  \nATOM     76   Sn MOL     1       9.730   0.000   4.739  1.00  0.00          SN  \nATOM     77    O MOL     1      11.351   1.322   4.739  1.00  0.00           O  \nATOM     78    O MOL     1      11.351   4.739   1.322  1.00  0.00           O  \nATOM     79    O MOL     1      11.351   5.512   4.739  1.00  0.00           O  \nATOM     80    O MOL     1      11.351   2.095   1.322  1.00  0.00           O  \nATOM     81    O MOL     1       9.730   3.417   6.061  1.00  0.00           O  \nATOM     82    O MOL     1       9.730   0.000   2.644  1.00  0.00           O  \nATOM     83    O MOL     1       9.730   3.417   3.417  1.00  0.00           O  \nATOM     84    O MOL     1       9.730   0.000  -0.000  1.00  0.00           O  \nATOM     85   Sn MOL     1      11.351  10.251   4.739  1.00  0.00          SN  \nATOM     86   Sn MOL     1      11.351   6.834   1.322  1.00  0.00          SN  \nATOM     87   Sn MOL     1       9.730  10.251   1.322  1.00  0.00          SN  \nATOM     88   Sn MOL     1       9.730   6.834   4.739  1.00  0.00          SN  \nATOM     89    O MOL     1      11.351   8.156   4.739  1.00  0.00           O  \nATOM     90    O MOL     1      11.351  11.573   1.322  1.00  0.00           O  \nATOM     91    O MOL     1      11.351  12.346   4.739  1.00  0.00           O  \nATOM     92    O MOL     1      11.351   8.929   1.322  1.00  0.00           O  \nATOM     93    O MOL     1       9.730  10.251   6.061  1.00  0.00           O  \nATOM     94    O MOL     1       9.730   6.834   2.644  1.00  0.00           O  \nATOM     95    O MOL     1       9.730  10.251   3.417  1.00  0.00           O  \nATOM     96    O MOL     1       9.730   6.834   0.000  1.00  0.00           O  \nENDMDL\n",
           "type": "blob"
          }
         ],
         "kwargs": {
          "defaultRepresentation": false,
          "ext": "pdb"
         },
         "methodName": "loadFile",
         "reconstruc_color_scheme": false,
         "target": "Stage",
         "type": "call_method"
        },
        {
         "args": [
          "500px",
          "500px"
         ],
         "kwargs": {},
         "methodName": "setSize",
         "reconstruc_color_scheme": false,
         "target": "Widget",
         "type": "call_method"
        },
        {
         "args": [
          "unitcell"
         ],
         "component_index": 0,
         "kwargs": {
          "sele": "all"
         },
         "methodName": "addRepresentation",
         "reconstruc_color_scheme": false,
         "target": "compList",
         "type": "call_method"
        },
        {
         "args": [
          "spacefill"
         ],
         "component_index": 0,
         "kwargs": {
          "sele": "all"
         },
         "methodName": "addRepresentation",
         "reconstruc_color_scheme": false,
         "target": "compList",
         "type": "call_method"
        },
        {
         "args": [],
         "kwargs": {
          "cameraType": "orthographic"
         },
         "methodName": "setParameters",
         "reconstruc_color_scheme": false,
         "target": "Stage",
         "type": "call_method"
        },
        {
         "args": [
          {
           "clipDist": 0
          }
         ],
         "kwargs": {},
         "methodName": "setParameters",
         "reconstruc_color_scheme": false,
         "target": "Widget",
         "type": "call_method"
        },
        {
         "args": [
          "spacefill",
          0
         ],
         "kwargs": {
          "colorScale": "rainbow",
          "colorScheme": "element",
          "radiusScale": 0.5,
          "radiusType": "covalent"
         },
         "methodName": "updateRepresentationsByName",
         "reconstruc_color_scheme": false,
         "target": "Widget",
         "type": "call_method"
        },
        {
         "args": [
          "this._Q = [[1.0, 0.0, 6.123233995736766e-17], [-3.749399456654643e-33, 1.0, 6.123233995736765e-17], [-6.123233995736766e-17, -6.123233995736765e-17, 1.0]]\n    var tooltip = document.createElement('div');\n    Object.assign(tooltip.style, {\n      display: 'none',\n      position: 'fixed',\n      zIndex: 10,\n      pointerEvents: 'none',\n      backgroundColor: 'rgba( 0, 0, 0, 0.6 )',\n      color: 'lightgrey',\n      padding: '8px',\n      fontFamily: 'sans-serif'\n    });\n    document.body.appendChild(tooltip);\n\n    var that = this;\n    this.stage.mouseControls.remove('hoverPick');\n    this.stage.signals.hovered.add(function (pickingProxy) {\n      if (pickingProxy && (pickingProxy.atom || pickingProxy.bond)) {\n        var atom = pickingProxy.atom || pickingProxy.closestBondAtom\n        var mp = pickingProxy.mouse.position\n        //tooltip.innerText = atom.element + ' i=' + atom.index + ' (' + atom.x.toFixed(2) +  ', ' + atom.y.toFixed(2) +  ', ' + atom.z.toFixed(2) + ')'\n        //var pos = that._atoms_pos[atom.index]\n        var Q = that._Q\n        var pos_x = Q[0][0] * atom.x + Q[0][1] * atom.y + Q[0][2] * atom.z \n        var pos_y = Q[1][0] * atom.x + Q[1][1] * atom.y + Q[1][2] * atom.z\n        var pos_z = Q[2][0] * atom.x + Q[2][1] * atom.y + Q[2][2] * atom.z\n        tooltip.innerText = 'i=' + atom.index + ' ' + atom.element + ' (' + pos_x.toFixed(2) +  ', ' + pos_y.toFixed(2) +  ', ' + pos_z.toFixed(2) + ')'\n        tooltip.style.bottom = window.innerHeight - mp.y + 3 + 'px'\n        tooltip.style.left = mp.x + 3 + 'px'\n        tooltip.style.display = 'block'\n      } else {\n        tooltip.style.display = 'none'\n      }\n    });\n    this.stage.tooltip = tooltip;\n    "
         ],
         "kwargs": {},
         "methodName": "executeCode",
         "reconstruc_color_scheme": false,
         "target": "Widget",
         "type": "call_method"
        },
        {
         "args": [
          "ball+stick"
         ],
         "component_index": 0,
         "kwargs": {
          "sele": "all"
         },
         "methodName": "addRepresentation",
         "reconstruc_color_scheme": false,
         "target": "compList",
         "type": "call_method"
        }
       ],
       "_ngl_original_stage_parameters": {
        "ambientColor": 14540253,
        "ambientIntensity": 0.2,
        "backgroundColor": "white",
        "cameraEyeSep": 0.3,
        "cameraFov": 40,
        "cameraType": "perspective",
        "clipDist": 10,
        "clipFar": 100,
        "clipNear": 0,
        "fogFar": 100,
        "fogNear": 50,
        "hoverTimeout": 0,
        "impostor": true,
        "lightColor": 14540253,
        "lightIntensity": 1,
        "mousePreset": "default",
        "panSpeed": 1,
        "quality": "medium",
        "rotateSpeed": 2,
        "sampleLevel": 0,
        "tooltip": true,
        "workerDefault": true,
        "zoomSpeed": 1.2
       },
       "_ngl_repr_dict": {
        "0": {
         "0": {
          "params": {
           "clipCenter": {
            "x": 0,
            "y": 0,
            "z": 0
           },
           "clipNear": 0,
           "clipRadius": 0,
           "colorMode": "hcl",
           "colorReverse": false,
           "colorScale": "",
           "colorScheme": "element",
           "colorValue": "orange",
           "defaultAssembly": "",
           "depthWrite": true,
           "diffuse": 16777215,
           "diffuseInterior": false,
           "disableImpostor": false,
           "disablePicking": false,
           "flatShaded": false,
           "interiorColor": 2236962,
           "interiorDarkening": 0,
           "lazy": false,
           "matrix": {
            "elements": [
             1,
             0,
             0,
             0,
             0,
             1,
             0,
             0,
             0,
             0,
             1,
             0,
             0,
             0,
             0,
             1
            ]
           },
           "metalness": 0,
           "opacity": 1,
           "quality": "medium",
           "radialSegments": 10,
           "radiusData": {},
           "radiusScale": 1,
           "radiusSize": 0.08461813255291437,
           "radiusType": "vdw",
           "roughness": 0.4,
           "sele": "all",
           "side": "double",
           "sphereDetail": 1,
           "useInteriorColor": true,
           "visible": true,
           "wireframe": false
          },
          "type": "unitcell"
         },
         "1": {
          "params": {
           "assembly": "default",
           "clipCenter": {
            "x": 0,
            "y": 0,
            "z": 0
           },
           "clipNear": 0,
           "clipRadius": 0,
           "colorMode": "hcl",
           "colorReverse": false,
           "colorScale": "rainbow",
           "colorScheme": "element",
           "colorValue": 9474192,
           "defaultAssembly": "",
           "depthWrite": true,
           "diffuse": 16777215,
           "diffuseInterior": false,
           "disableImpostor": false,
           "disablePicking": false,
           "flatShaded": false,
           "interiorColor": 2236962,
           "interiorDarkening": 0,
           "lazy": false,
           "matrix": {
            "elements": [
             1,
             0,
             0,
             0,
             0,
             1,
             0,
             0,
             0,
             0,
             1,
             0,
             0,
             0,
             0,
             1
            ]
           },
           "metalness": 0,
           "opacity": 1,
           "quality": "medium",
           "radiusData": {},
           "radiusScale": 0.5,
           "radiusSize": 1,
           "radiusType": "covalent",
           "roughness": 0.4,
           "sele": "all",
           "side": "double",
           "sphereDetail": 1,
           "useInteriorColor": true,
           "visible": true,
           "wireframe": false
          },
          "type": "spacefill"
         },
         "2": {
          "params": {
           "aspectRatio": 2,
           "assembly": "default",
           "bondScale": 0.4,
           "bondSpacing": 1,
           "clipCenter": {
            "x": 0,
            "y": 0,
            "z": 0
           },
           "clipNear": 0,
           "clipRadius": 0,
           "colorMode": "hcl",
           "colorReverse": false,
           "colorScale": "",
           "colorScheme": "element",
           "colorValue": 9474192,
           "cylinderOnly": false,
           "defaultAssembly": "",
           "depthWrite": true,
           "diffuse": 16777215,
           "diffuseInterior": false,
           "disableImpostor": false,
           "disablePicking": false,
           "flatShaded": false,
           "interiorColor": 2236962,
           "interiorDarkening": 0,
           "lazy": false,
           "lineOnly": false,
           "linewidth": 2,
           "matrix": {
            "elements": [
             1,
             0,
             0,
             0,
             0,
             1,
             0,
             0,
             0,
             0,
             1,
             0,
             0,
             0,
             0,
             1
            ]
           },
           "metalness": 0,
           "multipleBond": "off",
           "opacity": 1,
           "openEnded": true,
           "quality": "medium",
           "radialSegments": 10,
           "radiusData": {},
           "radiusScale": 1,
           "radiusSize": 0.15,
           "radiusType": "size",
           "roughness": 0.4,
           "sele": "all",
           "side": "double",
           "sphereDetail": 1,
           "useInteriorColor": true,
           "visible": true,
           "wireframe": false
          },
          "type": "ball+stick"
         }
        }
       },
       "_ngl_serialize": false,
       "_ngl_version": "2.0.0-dev.36",
       "_ngl_view_id": [
        "67565E7A-E66A-40A6-A941-EA715C8C4176"
       ],
       "_player_dict": {},
       "_scene_position": {},
       "_scene_rotation": {},
       "_synced_model_ids": [],
       "_synced_repr_model_ids": [],
       "_view_height": "",
       "_view_width": "",
       "background": "white",
       "frame": 0,
       "gui_style": null,
       "layout": "IPY_MODEL_6245462211714841b2d9b685cdad6feb",
       "max_frame": 0,
       "n_components": 1,
       "picked": {}
      }
     },
     "7833e3ffac0346fd90b977c530850793": {
      "model_module": "@jupyter-widgets/base",
      "model_module_version": "1.2.0",
      "model_name": "LayoutModel",
      "state": {}
     },
     "78893893e6cd4ec295800a5f0fa12f11": {
      "model_module": "@jupyter-widgets/controls",
      "model_module_version": "1.5.0",
      "model_name": "ButtonModel",
      "state": {
       "description": "Save image",
       "layout": "IPY_MODEL_788db7b88bec4c69b4d2c25aa2a00cb9",
       "style": "IPY_MODEL_b18965846e5046d2b2fb66464d6471fb",
       "tooltip": "Save current frame to file.\nCurrently .png and .html are supported.\nIt takes a bit time, please be patient."
      }
     },
     "788d90116fb449a1ace96e6a5172263f": {
      "model_module": "@jupyter-widgets/controls",
      "model_module_version": "1.5.0",
      "model_name": "ButtonModel",
      "state": {
       "description": "Download image",
       "layout": "IPY_MODEL_99b29f7ff0f44854be9a91245d94f77d",
       "style": "IPY_MODEL_0e09053fa8754f92ac2138884c4460db",
       "tooltip": "Download current frame to your local PC"
      }
     },
     "788db7b88bec4c69b4d2c25aa2a00cb9": {
      "model_module": "@jupyter-widgets/base",
      "model_module_version": "1.2.0",
      "model_name": "LayoutModel",
      "state": {}
     },
     "78b045afe3114537aa228098e5e1db47": {
      "model_module": "@jupyter-widgets/controls",
      "model_module_version": "1.5.0",
      "model_name": "DescriptionStyleModel",
      "state": {
       "description_width": ""
      }
     },
     "79c31297bda141a3bf27aa8661b98543": {
      "model_module": "@jupyter-widgets/controls",
      "model_module_version": "1.5.0",
      "model_name": "PlayModel",
      "state": {
       "layout": "IPY_MODEL_22700abcc8414926a3d96d5fbc6451f0",
       "max": 0,
       "style": "IPY_MODEL_773e4fb5261f4b20ac98aa7c342a26cd"
      }
     },
     "79dfcb6e5fe24e2b8ee928b2d6a713da": {
      "model_module": "@jupyter-widgets/controls",
      "model_module_version": "1.5.0",
      "model_name": "FloatSliderModel",
      "state": {
       "description": "Force scale",
       "layout": "IPY_MODEL_73fe9a0ff98a4c70b742101f3d2ca8db",
       "step": 0.1,
       "style": "IPY_MODEL_02335e990ccb47709417fb33fb01c203",
       "value": 0.5
      }
     },
     "7a01c923d24f484f8e413556976cc1e2": {
      "model_module": "@jupyter-widgets/base",
      "model_module_version": "1.2.0",
      "model_name": "LayoutModel",
      "state": {}
     },
     "7a0da7e0af1140e28b2bbb81d0c2cb2a": {
      "model_module": "@jupyter-widgets/base",
      "model_module_version": "1.2.0",
      "model_name": "LayoutModel",
      "state": {}
     },
     "7a17b0d7fca1479197593026e0860cf7": {
      "model_module": "@jupyter-widgets/base",
      "model_module_version": "1.2.0",
      "model_name": "LayoutModel",
      "state": {}
     },
     "7b4047edda4d4479921af3ac7955f80b": {
      "model_module": "@jupyter-widgets/output",
      "model_module_version": "1.0.0",
      "model_name": "OutputModel",
      "state": {
       "layout": "IPY_MODEL_6a114dd124024648b57433cb6c4e16f3"
      }
     },
     "7b40591218df4782adcf672326cc5bf4": {
      "model_module": "@jupyter-widgets/controls",
      "model_module_version": "1.5.0",
      "model_name": "FloatSliderModel",
      "state": {
       "description": "Force scale",
       "layout": "IPY_MODEL_fe3e3c80eaca47ef9dd01fd9fa2b20f3",
       "step": 0.1,
       "style": "IPY_MODEL_405db3376f4548c683c71b6ff93f3400",
       "value": 0.5
      }
     },
     "7bd0b6f5653a43f590e1175a6cc7dfd7": {
      "model_module": "@jupyter-widgets/controls",
      "model_module_version": "1.5.0",
      "model_name": "DescriptionStyleModel",
      "state": {
       "description_width": ""
      }
     },
     "7be112203c214f18b841dcf3a14467b5": {
      "model_module": "@jupyter-widgets/base",
      "model_module_version": "1.2.0",
      "model_name": "LayoutModel",
      "state": {}
     },
     "7c0288530d4d418f9ff620258ff03e3b": {
      "model_module": "@jupyter-widgets/controls",
      "model_module_version": "1.5.0",
      "model_name": "IntSliderModel",
      "state": {
       "layout": "IPY_MODEL_7f1c6a2e388f4ae782bb630cea084d46",
       "max": 0,
       "style": "IPY_MODEL_c9b3c227e64a4553bb00ee5766574345"
      }
     },
     "7c8241dbd0f14ab79bdd6b2488689d35": {
      "model_module": "@jupyter-widgets/base",
      "model_module_version": "1.2.0",
      "model_name": "LayoutModel",
      "state": {}
     },
     "7c9b3917988c410fb8f53b4eb38274f0": {
      "model_module": "@jupyter-widgets/base",
      "model_module_version": "1.2.0",
      "model_name": "LayoutModel",
      "state": {}
     },
     "7df21900880b452d9561183391f3ade2": {
      "model_module": "@jupyter-widgets/controls",
      "model_module_version": "1.5.0",
      "model_name": "ButtonModel",
      "state": {
       "description": "Download image",
       "layout": "IPY_MODEL_563fd8a3ef254d3e9d87fd0a6eefcd7f",
       "style": "IPY_MODEL_94cfba99e551491c8e31d59219a5f872",
       "tooltip": "Download current frame to your local PC"
      }
     },
     "7e02715c56d541068db8911cf3df8537": {
      "model_module": "@jupyter-widgets/output",
      "model_module_version": "1.0.0",
      "model_name": "OutputModel",
      "state": {
       "layout": "IPY_MODEL_a67718289f244b46804861b6d0286b57"
      }
     },
     "7e5ce7d1fea84159af107b238400c720": {
      "model_module": "@jupyter-widgets/controls",
      "model_module_version": "1.5.0",
      "model_name": "HBoxModel",
      "state": {
       "children": [
        "IPY_MODEL_780fe39126ce456bae13c435afacbc77",
        "IPY_MODEL_103ad5d012054a7c9b0c185a2ab8b0dc"
       ],
       "layout": "IPY_MODEL_7a17b0d7fca1479197593026e0860cf7"
      }
     },
     "7f1c6a2e388f4ae782bb630cea084d46": {
      "model_module": "@jupyter-widgets/base",
      "model_module_version": "1.2.0",
      "model_name": "LayoutModel",
      "state": {}
     },
     "8068318ffda94a55bd211cfbff76948f": {
      "model_module": "@jupyter-widgets/controls",
      "model_module_version": "1.5.0",
      "model_name": "LinkModel",
      "state": {
       "source": [
        "IPY_MODEL_ae0b4ae5469540b4bdc6491b004545ad",
        "max"
       ],
       "target": [
        "IPY_MODEL_87b9d88681eb47b5bc384d3ddc9b6772",
        "max_frame"
       ]
      }
     },
     "807b399df2154248a89176ec5de8c627": {
      "model_module": "@jupyter-widgets/controls",
      "model_module_version": "1.5.0",
      "model_name": "HBoxModel",
      "state": {
       "children": [
        "IPY_MODEL_8419093470504542a56d165f0ad6c426",
        "IPY_MODEL_c22a1725f56643848556ae487d62fe05"
       ],
       "layout": "IPY_MODEL_344e2426faf2495d9916a5b3b2cf15b0"
      }
     },
     "80bae21cf088400fa67a526b1b4913fe": {
      "model_module": "@jupyter-widgets/controls",
      "model_module_version": "1.5.0",
      "model_name": "DescriptionStyleModel",
      "state": {
       "description_width": ""
      }
     },
     "80e11a61730d49c2b3b8f8d2c5fe2c62": {
      "model_module": "@jupyter-widgets/controls",
      "model_module_version": "1.5.0",
      "model_name": "DescriptionStyleModel",
      "state": {
       "description_width": ""
      }
     },
     "81487586dc684faf96004be9520677b7": {
      "model_module": "@jupyter-widgets/controls",
      "model_module_version": "1.5.0",
      "model_name": "LinkModel",
      "state": {
       "source": [
        "IPY_MODEL_ae0b4ae5469540b4bdc6491b004545ad",
        "value"
       ],
       "target": [
        "IPY_MODEL_87b9d88681eb47b5bc384d3ddc9b6772",
        "frame"
       ]
      }
     },
     "82024888a5934e29b478b6dfb1cbfb88": {
      "model_module": "@jupyter-widgets/controls",
      "model_module_version": "1.5.0",
      "model_name": "ButtonModel",
      "state": {
       "description": "Save image",
       "layout": "IPY_MODEL_b92cd1ff6b374648984cd3361ad20b88",
       "style": "IPY_MODEL_dec17bd47e134caba58b2a263a8444cb",
       "tooltip": "Save current frame to file.\nCurrently .png and .html are supported.\nIt takes a bit time, please be patient."
      }
     },
     "82e1cfd1d52447faba52afbc2e030f63": {
      "model_module": "@jupyter-widgets/controls",
      "model_module_version": "1.5.0",
      "model_name": "SliderStyleModel",
      "state": {
       "description_width": ""
      }
     },
     "8342b41232dc4173b3079ba0e95549a5": {
      "model_module": "@jupyter-widgets/controls",
      "model_module_version": "1.5.0",
      "model_name": "DescriptionStyleModel",
      "state": {
       "description_width": ""
      }
     },
     "83baa756577b47b5a845290110e82ec3": {
      "model_module": "@jupyter-widgets/controls",
      "model_module_version": "1.5.0",
      "model_name": "LinkModel",
      "state": {
       "source": [
        "IPY_MODEL_30fa8d53b09e472194a0d14c98a0e88d",
        "value"
       ],
       "target": [
        "IPY_MODEL_3ae6a027e81b44c2b63c1a5f418d125e",
        "value"
       ]
      }
     },
     "8419093470504542a56d165f0ad6c426": {
      "model_module": "@jupyter-widgets/controls",
      "model_module_version": "1.5.0",
      "model_name": "ButtonModel",
      "state": {
       "description": "Download image",
       "layout": "IPY_MODEL_31d4289277b1439ab5d70a622e0b8a95",
       "style": "IPY_MODEL_a8d096b052a346e499a55eb3a107db1d",
       "tooltip": "Download current frame to your local PC"
      }
     },
     "841c88c727e4491a94101a2c9666dead": {
      "model_module": "@jupyter-widgets/base",
      "model_module_version": "1.2.0",
      "model_name": "LayoutModel",
      "state": {}
     },
     "84dc1778e5c5402f965afafaa746c918": {
      "model_module": "@jupyter-widgets/controls",
      "model_module_version": "1.5.0",
      "model_name": "FloatSliderModel",
      "state": {
       "description": "Ball size",
       "layout": "IPY_MODEL_f5bc7d748d944352adf56f01dbf2257c",
       "max": 1.5,
       "step": 0.01,
       "style": "IPY_MODEL_c3cea908a7e1418187fa79ffe8db5a74",
       "value": 0.5
      }
     },
     "851f836c7e7a434d8e6c9ceb27e9ab46": {
      "model_module": "@jupyter-widgets/controls",
      "model_module_version": "1.5.0",
      "model_name": "DescriptionStyleModel",
      "state": {
       "description_width": ""
      }
     },
     "8542e0b886e14b19b3c840f38a39af96": {
      "model_module": "@jupyter-widgets/controls",
      "model_module_version": "1.5.0",
      "model_name": "HBoxModel",
      "state": {
       "children": [
        "IPY_MODEL_2591151f00284389961282feb58cf81e",
        "IPY_MODEL_5646e436dd464e09b9f2ff8010507359"
       ],
       "layout": "IPY_MODEL_e0ea0bbae8224139bcd0f73feffa42d4"
      }
     },
     "855a9e6c79514609b225f0ff411ec76c": {
      "model_module": "@jupyter-widgets/controls",
      "model_module_version": "1.5.0",
      "model_name": "SliderStyleModel",
      "state": {
       "description_width": ""
      }
     },
     "8589ff638cfa46a68ddad564b2d2a250": {
      "model_module": "@jupyter-widgets/base",
      "model_module_version": "1.2.0",
      "model_name": "LayoutModel",
      "state": {}
     },
     "85a05affc3044671822dd9fd15ba3d7b": {
      "model_module": "@jupyter-widgets/base",
      "model_module_version": "1.2.0",
      "model_name": "LayoutModel",
      "state": {}
     },
     "85e519b203cf4efc8c2f924a1000c2e3": {
      "model_module": "@jupyter-widgets/controls",
      "model_module_version": "1.5.0",
      "model_name": "LinkModel",
      "state": {
       "source": [
        "IPY_MODEL_3ae6a027e81b44c2b63c1a5f418d125e",
        "max"
       ],
       "target": [
        "IPY_MODEL_e5bb61eb1d964940b9f3031635c3521f",
        "max_frame"
       ]
      }
     },
     "868719e3a6b14303bc2d7bd4d2908c59": {
      "model_module": "@jupyter-widgets/controls",
      "model_module_version": "1.5.0",
      "model_name": "HBoxModel",
      "state": {
       "children": [
        "IPY_MODEL_4e0da825531948bf8539ff1a43cdf22d",
        "IPY_MODEL_fb395ff55a264eb6a1b47ffb4f827ad5"
       ],
       "layout": "IPY_MODEL_146cb11d626148dabbd6a3e85016acf7"
      }
     },
     "872f953703d14dbbb3e00aabaec75479": {
      "model_module": "@jupyter-widgets/controls",
      "model_module_version": "1.5.0",
      "model_name": "DescriptionStyleModel",
      "state": {
       "description_width": ""
      }
     },
     "873edd929d24455b9d145d868c1c169e": {
      "model_module": "@jupyter-widgets/controls",
      "model_module_version": "1.5.0",
      "model_name": "FloatSliderModel",
      "state": {
       "description": "Force scale",
       "layout": "IPY_MODEL_311cde88e8214e4185654d612d4dc8bc",
       "step": 0.1,
       "style": "IPY_MODEL_c388408f36c94ca483ccf7ee80ac39ae",
       "value": 0.5
      }
     },
     "875b55c159124d1a8de803858e54d906": {
      "model_module": "@jupyter-widgets/base",
      "model_module_version": "1.2.0",
      "model_name": "LayoutModel",
      "state": {}
     },
     "878ac96795d14f429d16fa5e785182d4": {
      "model_module": "@jupyter-widgets/controls",
      "model_module_version": "1.5.0",
      "model_name": "LinkModel",
      "state": {
       "source": [
        "IPY_MODEL_ddba749f66dc4e82a2868e7021bd9638",
        "value"
       ],
       "target": [
        "IPY_MODEL_5678f1e3f47f46048bad6b42024e9425",
        "frame"
       ]
      }
     },
     "87b9d88681eb47b5bc384d3ddc9b6772": {
      "model_module": "nglview-js-widgets",
      "model_module_version": "3.0.1",
      "model_name": "NGLModel",
      "state": {
       "_camera_orientation": [
        18.770477557524757,
        0,
        0,
        0,
        0,
        18.770477557524757,
        0,
        0,
        0,
        0,
        18.770477557524757,
        0,
        0,
        0,
        -2.263000011444092,
        1
       ],
       "_camera_str": "orthographic",
       "_gui_theme": null,
       "_ibtn_fullscreen": "IPY_MODEL_fb893b3dd11d4061b94d81bed8bd57f9",
       "_igui": null,
       "_iplayer": "IPY_MODEL_4258b5fea33045caaa452d872852e58a",
       "_ngl_color_dict": {},
       "_ngl_coordinate_resource": {},
       "_ngl_full_stage_parameters": {
        "ambientColor": 14540253,
        "ambientIntensity": 0.2,
        "backgroundColor": "white",
        "cameraEyeSep": 0.3,
        "cameraFov": 40,
        "cameraType": "orthographic",
        "clipDist": 0,
        "clipFar": 100,
        "clipNear": 0,
        "fogFar": 100,
        "fogNear": 50,
        "hoverTimeout": 0,
        "impostor": true,
        "lightColor": 14540253,
        "lightIntensity": 1,
        "mousePreset": "default",
        "panSpeed": 1,
        "quality": "medium",
        "rotateSpeed": 2,
        "sampleLevel": 0,
        "tooltip": true,
        "workerDefault": true,
        "zoomSpeed": 1.2
       },
       "_ngl_msg_archive": [
        {
         "args": [
          {
           "binary": false,
           "data": "MODEL     1\nATOM      1   Pt MOL     1      -3.809  -1.849   2.263  1.00  0.00          PT  \nATOM      2   Pt MOL     1      -1.849  -3.809   2.263  1.00  0.00          PT  \nATOM      3   Pt MOL     1      -3.395  -3.395  -0.000  1.00  0.00          PT  \nATOM      4   Pt MOL     1      -2.263  -2.263   4.526  1.00  0.00          PT  \nATOM      5   Pt MOL     1      -1.546   0.414   4.526  1.00  0.00          PT  \nATOM      6   Pt MOL     1       0.414  -1.546   4.526  1.00  0.00          PT  \nATOM      7   Pt MOL     1      -1.132  -1.132   2.263  1.00  0.00          PT  \nATOM      8   Pt MOL     1       1.132   1.132   4.526  1.00  0.00          PT  \nATOM      9   Pt MOL     1      -5.355  -1.435  -0.000  1.00  0.00          PT  \nATOM     10   Pt MOL     1      -4.637   1.243  -0.000  1.00  0.00          PT  \nATOM     11   Pt MOL     1      -2.677  -0.717  -0.000  1.00  0.00          PT  \nATOM     12   Pt MOL     1      -3.092   0.828   2.263  1.00  0.00          PT  \nATOM     13   Pt MOL     1      -2.374   3.506   2.263  1.00  0.00          PT  \nATOM     14   Pt MOL     1      -0.414   1.546   2.263  1.00  0.00          PT  \nATOM     15   Pt MOL     1      -1.960   1.960  -0.000  1.00  0.00          PT  \nATOM     16   Pt MOL     1      -0.828   3.092   4.526  1.00  0.00          PT  \nATOM     17   Pt MOL     1       0.303   4.223   2.263  1.00  0.00          PT  \nATOM     18   Pt MOL     1      -3.920   3.920  -0.000  1.00  0.00          PT  \nATOM     19   Pt MOL     1      -1.243   4.637  -0.000  1.00  0.00          PT  \nATOM     20   Pt MOL     1      -1.435  -5.355  -0.000  1.00  0.00          PT  \nATOM     21   Pt MOL     1      -0.717  -2.677  -0.000  1.00  0.00          PT  \nATOM     22   Pt MOL     1       1.243  -4.637  -0.000  1.00  0.00          PT  \nATOM     23   Pt MOL     1       0.828  -3.092   2.263  1.00  0.00          PT  \nATOM     24   Pt MOL     1       1.546  -0.414   2.263  1.00  0.00          PT  \nATOM     25   Pt MOL     1       3.506  -2.374   2.263  1.00  0.00          PT  \nATOM     26   Pt MOL     1       1.960  -1.960  -0.000  1.00  0.00          PT  \nATOM     27   Pt MOL     1       3.092  -0.828   4.526  1.00  0.00          PT  \nATOM     28   Pt MOL     1       4.223   0.303   2.263  1.00  0.00          PT  \nATOM     29   Pt MOL     1      -0.000  -0.000  -0.000  1.00  0.00          PT  \nATOM     30   Pt MOL     1       0.717   2.677  -0.000  1.00  0.00          PT  \nATOM     31   Pt MOL     1       2.677   0.717  -0.000  1.00  0.00          PT  \nATOM     32   Pt MOL     1       2.263   2.263   2.263  1.00  0.00          PT  \nATOM     33   Pt MOL     1       3.395   3.395  -0.000  1.00  0.00          PT  \nATOM     34   Pt MOL     1       1.435   5.355  -0.000  1.00  0.00          PT  \nATOM     35   Pt MOL     1       3.920  -3.920  -0.000  1.00  0.00          PT  \nATOM     36   Pt MOL     1       4.637  -1.243  -0.000  1.00  0.00          PT  \nATOM     37   Pt MOL     1       5.355   1.435  -0.000  1.00  0.00          PT  \nENDMDL\n",
           "type": "blob"
          }
         ],
         "kwargs": {
          "defaultRepresentation": false,
          "ext": "pdb"
         },
         "methodName": "loadFile",
         "reconstruc_color_scheme": false,
         "target": "Stage",
         "type": "call_method"
        },
        {
         "args": [
          "500px",
          "500px"
         ],
         "kwargs": {},
         "methodName": "setSize",
         "reconstruc_color_scheme": false,
         "target": "Widget",
         "type": "call_method"
        },
        {
         "args": [
          "unitcell"
         ],
         "component_index": 0,
         "kwargs": {
          "sele": "all"
         },
         "methodName": "addRepresentation",
         "reconstruc_color_scheme": false,
         "target": "compList",
         "type": "call_method"
        },
        {
         "args": [
          "spacefill"
         ],
         "component_index": 0,
         "kwargs": {
          "sele": "all"
         },
         "methodName": "addRepresentation",
         "reconstruc_color_scheme": false,
         "target": "compList",
         "type": "call_method"
        },
        {
         "args": [],
         "kwargs": {
          "cameraType": "orthographic"
         },
         "methodName": "setParameters",
         "reconstruc_color_scheme": false,
         "target": "Stage",
         "type": "call_method"
        },
        {
         "args": [
          {
           "clipDist": 0
          }
         ],
         "kwargs": {},
         "methodName": "setParameters",
         "reconstruc_color_scheme": false,
         "target": "Widget",
         "type": "call_method"
        },
        {
         "args": [
          "spacefill",
          0
         ],
         "kwargs": {
          "colorScale": "rainbow",
          "colorScheme": "element",
          "radiusScale": 0.5,
          "radiusType": "covalent"
         },
         "methodName": "updateRepresentationsByName",
         "reconstruc_color_scheme": false,
         "target": "Widget",
         "type": "call_method"
        },
        {
         "args": [
          "this._Q = [[1.0, 0.0, 0.0], [0.0, 1.0, 0.0], [0.0, 0.0, 1.0]]\n    var tooltip = document.createElement('div');\n    Object.assign(tooltip.style, {\n      display: 'none',\n      position: 'fixed',\n      zIndex: 10,\n      pointerEvents: 'none',\n      backgroundColor: 'rgba( 0, 0, 0, 0.6 )',\n      color: 'lightgrey',\n      padding: '8px',\n      fontFamily: 'sans-serif'\n    });\n    document.body.appendChild(tooltip);\n\n    var that = this;\n    this.stage.mouseControls.remove('hoverPick');\n    this.stage.signals.hovered.add(function (pickingProxy) {\n      if (pickingProxy && (pickingProxy.atom || pickingProxy.bond)) {\n        var atom = pickingProxy.atom || pickingProxy.closestBondAtom\n        var mp = pickingProxy.mouse.position\n        //tooltip.innerText = atom.element + ' i=' + atom.index + ' (' + atom.x.toFixed(2) +  ', ' + atom.y.toFixed(2) +  ', ' + atom.z.toFixed(2) + ')'\n        //var pos = that._atoms_pos[atom.index]\n        var Q = that._Q\n        var pos_x = Q[0][0] * atom.x + Q[0][1] * atom.y + Q[0][2] * atom.z \n        var pos_y = Q[1][0] * atom.x + Q[1][1] * atom.y + Q[1][2] * atom.z\n        var pos_z = Q[2][0] * atom.x + Q[2][1] * atom.y + Q[2][2] * atom.z\n        tooltip.innerText = 'i=' + atom.index + ' ' + atom.element + ' (' + pos_x.toFixed(2) +  ', ' + pos_y.toFixed(2) +  ', ' + pos_z.toFixed(2) + ')'\n        tooltip.style.bottom = window.innerHeight - mp.y + 3 + 'px'\n        tooltip.style.left = mp.x + 3 + 'px'\n        tooltip.style.display = 'block'\n      } else {\n        tooltip.style.display = 'none'\n      }\n    });\n    this.stage.tooltip = tooltip;\n    "
         ],
         "kwargs": {},
         "methodName": "executeCode",
         "reconstruc_color_scheme": false,
         "target": "Widget",
         "type": "call_method"
        },
        {
         "args": [
          "ball+stick"
         ],
         "component_index": 0,
         "kwargs": {
          "sele": "all"
         },
         "methodName": "addRepresentation",
         "reconstruc_color_scheme": false,
         "target": "compList",
         "type": "call_method"
        }
       ],
       "_ngl_original_stage_parameters": {
        "ambientColor": 14540253,
        "ambientIntensity": 0.2,
        "backgroundColor": "white",
        "cameraEyeSep": 0.3,
        "cameraFov": 40,
        "cameraType": "perspective",
        "clipDist": 10,
        "clipFar": 100,
        "clipNear": 0,
        "fogFar": 100,
        "fogNear": 50,
        "hoverTimeout": 0,
        "impostor": true,
        "lightColor": 14540253,
        "lightIntensity": 1,
        "mousePreset": "default",
        "panSpeed": 1,
        "quality": "medium",
        "rotateSpeed": 2,
        "sampleLevel": 0,
        "tooltip": true,
        "workerDefault": true,
        "zoomSpeed": 1.2
       },
       "_ngl_repr_dict": {
        "0": {
         "0": {
          "params": {
           "clipCenter": {
            "x": 0,
            "y": 0,
            "z": 0
           },
           "clipNear": 0,
           "clipRadius": 0,
           "colorMode": "hcl",
           "colorReverse": false,
           "colorScale": "",
           "colorScheme": "element",
           "colorValue": "orange",
           "defaultAssembly": "",
           "depthWrite": true,
           "diffuse": 16777215,
           "diffuseInterior": false,
           "disableImpostor": false,
           "disablePicking": false,
           "flatShaded": false,
           "interiorColor": 2236962,
           "interiorDarkening": 0,
           "lazy": false,
           "matrix": {
            "elements": [
             1,
             0,
             0,
             0,
             0,
             1,
             0,
             0,
             0,
             0,
             1,
             0,
             0,
             0,
             0,
             1
            ]
           },
           "metalness": 0,
           "opacity": 1,
           "quality": "medium",
           "radialSegments": 10,
           "radiusData": {},
           "radiusScale": 1,
           "radiusSize": 0.5,
           "radiusType": "vdw",
           "roughness": 0.4,
           "sele": "all",
           "side": "double",
           "sphereDetail": 1,
           "useInteriorColor": true,
           "visible": true,
           "wireframe": false
          },
          "type": "unitcell"
         },
         "1": {
          "params": {
           "assembly": "default",
           "clipCenter": {
            "x": 0,
            "y": 0,
            "z": 0
           },
           "clipNear": 0,
           "clipRadius": 0,
           "colorMode": "hcl",
           "colorReverse": false,
           "colorScale": "rainbow",
           "colorScheme": "element",
           "colorValue": 9474192,
           "defaultAssembly": "",
           "depthWrite": true,
           "diffuse": 16777215,
           "diffuseInterior": false,
           "disableImpostor": false,
           "disablePicking": false,
           "flatShaded": false,
           "interiorColor": 2236962,
           "interiorDarkening": 0,
           "lazy": false,
           "matrix": {
            "elements": [
             1,
             0,
             0,
             0,
             0,
             1,
             0,
             0,
             0,
             0,
             1,
             0,
             0,
             0,
             0,
             1
            ]
           },
           "metalness": 0,
           "opacity": 1,
           "quality": "medium",
           "radiusData": {},
           "radiusScale": 0.5,
           "radiusSize": 1,
           "radiusType": "covalent",
           "roughness": 0.4,
           "sele": "all",
           "side": "double",
           "sphereDetail": 1,
           "useInteriorColor": true,
           "visible": true,
           "wireframe": false
          },
          "type": "spacefill"
         },
         "2": {
          "params": {
           "aspectRatio": 2,
           "assembly": "default",
           "bondScale": 0.4,
           "bondSpacing": 1,
           "clipCenter": {
            "x": 0,
            "y": 0,
            "z": 0
           },
           "clipNear": 0,
           "clipRadius": 0,
           "colorMode": "hcl",
           "colorReverse": false,
           "colorScale": "",
           "colorScheme": "element",
           "colorValue": 9474192,
           "cylinderOnly": false,
           "defaultAssembly": "",
           "depthWrite": true,
           "diffuse": 16777215,
           "diffuseInterior": false,
           "disableImpostor": false,
           "disablePicking": false,
           "flatShaded": false,
           "interiorColor": 2236962,
           "interiorDarkening": 0,
           "lazy": false,
           "lineOnly": false,
           "linewidth": 2,
           "matrix": {
            "elements": [
             1,
             0,
             0,
             0,
             0,
             1,
             0,
             0,
             0,
             0,
             1,
             0,
             0,
             0,
             0,
             1
            ]
           },
           "metalness": 0,
           "multipleBond": "off",
           "opacity": 1,
           "openEnded": true,
           "quality": "medium",
           "radialSegments": 10,
           "radiusData": {},
           "radiusScale": 1,
           "radiusSize": 0.15,
           "radiusType": "size",
           "roughness": 0.4,
           "sele": "all",
           "side": "double",
           "sphereDetail": 1,
           "useInteriorColor": true,
           "visible": true,
           "wireframe": false
          },
          "type": "ball+stick"
         }
        }
       },
       "_ngl_serialize": false,
       "_ngl_version": "2.0.0-dev.36",
       "_ngl_view_id": [
        "6FDFE638-77C1-4CEC-B622-DDDC7BE0BBDC"
       ],
       "_player_dict": {},
       "_scene_position": {},
       "_scene_rotation": {},
       "_synced_model_ids": [],
       "_synced_repr_model_ids": [],
       "_view_height": "",
       "_view_width": "",
       "background": "white",
       "frame": 0,
       "gui_style": null,
       "layout": "IPY_MODEL_1ca9cd06b867447f9b933c1c3988fa20",
       "max_frame": 0,
       "n_components": 1,
       "picked": {}
      }
     },
     "87db7948f20c48d8b51bc476819ccc49": {
      "model_module": "@jupyter-widgets/controls",
      "model_module_version": "1.5.0",
      "model_name": "LinkModel",
      "state": {
       "source": [
        "IPY_MODEL_bf97b3f05d164348bafa9985f9a28955",
        "value"
       ],
       "target": [
        "IPY_MODEL_40d67bdddf7a4ddda429508b0745e327",
        "frame"
       ]
      }
     },
     "883eb9a111f143f7b2f98a0eb15fce72": {
      "model_module": "@jupyter-widgets/base",
      "model_module_version": "1.2.0",
      "model_name": "LayoutModel",
      "state": {}
     },
     "88920f01f94141a3a8ab09016a67ad1c": {
      "model_module": "@jupyter-widgets/controls",
      "model_module_version": "1.5.0",
      "model_name": "LinkModel",
      "state": {
       "source": [
        "IPY_MODEL_30fa8d53b09e472194a0d14c98a0e88d",
        "max"
       ],
       "target": [
        "IPY_MODEL_e5bb61eb1d964940b9f3031635c3521f",
        "max_frame"
       ]
      }
     },
     "890bed74533a46d2ae2e8922421b76d2": {
      "model_module": "@jupyter-widgets/controls",
      "model_module_version": "1.5.0",
      "model_name": "LinkModel",
      "state": {
       "source": [
        "IPY_MODEL_fba03774a2264687b684d1fd3bbfd84b",
        "value"
       ],
       "target": [
        "IPY_MODEL_9b87bf5b29574b4c96d7ac4703bedaf4",
        "frame"
       ]
      }
     },
     "894b65ca1c5b47a2923203eb2389fbc8": {
      "model_module": "@jupyter-widgets/controls",
      "model_module_version": "1.5.0",
      "model_name": "ImageModel",
      "state": {
       "layout": "IPY_MODEL_9ef4f32b62cc4b24ad121af973d5ddf9",
       "width": "900.0"
      }
     },
     "8ab6a3675e994302ae3db9c7a52515eb": {
      "model_module": "@jupyter-widgets/controls",
      "model_module_version": "1.5.0",
      "model_name": "DescriptionStyleModel",
      "state": {
       "description_width": ""
      }
     },
     "8ae4ec7a13214439b3224f65156d0604": {
      "model_module": "@jupyter-widgets/controls",
      "model_module_version": "1.5.0",
      "model_name": "SliderStyleModel",
      "state": {
       "description_width": ""
      }
     },
     "8b2d097c385843f794aa04e98dbe04e9": {
      "model_module": "@jupyter-widgets/controls",
      "model_module_version": "1.5.0",
      "model_name": "FloatSliderModel",
      "state": {
       "description": "Charge scale",
       "layout": "IPY_MODEL_e6b40583fdc84ddab86df8e1d414c088",
       "step": 0.1,
       "style": "IPY_MODEL_ac70420f61e94fa58c77a44613d39236",
       "value": 1
      }
     },
     "8b989f9ff9204ce486b8bdbeb3fbb697": {
      "model_module": "@jupyter-widgets/base",
      "model_module_version": "1.2.0",
      "model_name": "LayoutModel",
      "state": {}
     },
     "8c260023e22d47698da41d0a2a46eae4": {
      "model_module": "@jupyter-widgets/base",
      "model_module_version": "1.2.0",
      "model_name": "LayoutModel",
      "state": {
       "width": "34px"
      }
     },
     "8c711d006e8d471f9beb1ca874059ad3": {
      "model_module": "@jupyter-widgets/base",
      "model_module_version": "1.2.0",
      "model_name": "LayoutModel",
      "state": {
       "border": "0px solid black"
      }
     },
     "8de67015e48d4384b2292dc4c4e95b6c": {
      "model_module": "@jupyter-widgets/controls",
      "model_module_version": "1.5.0",
      "model_name": "ButtonModel",
      "state": {
       "description": "Download image",
       "layout": "IPY_MODEL_ceba47529542434a8fa792b98f32dcbf",
       "style": "IPY_MODEL_6149097b77cc49b5829cbd242ae2c93a",
       "tooltip": "Download current frame to your local PC"
      }
     },
     "8e297815469f4e6ab32255069d90a32e": {
      "model_module": "@jupyter-widgets/base",
      "model_module_version": "1.2.0",
      "model_name": "LayoutModel",
      "state": {}
     },
     "8e35a503a1be4fa1bf88205f6df74f79": {
      "model_module": "@jupyter-widgets/output",
      "model_module_version": "1.0.0",
      "model_name": "OutputModel",
      "state": {
       "layout": "IPY_MODEL_8c711d006e8d471f9beb1ca874059ad3"
      }
     },
     "8f30e35eb1494cd3bbfdffe049c7cf07": {
      "model_module": "@jupyter-widgets/controls",
      "model_module_version": "1.5.0",
      "model_name": "DescriptionStyleModel",
      "state": {
       "description_width": ""
      }
     },
     "9042cffbbe6a4313bf7ec484c4c74a32": {
      "model_module": "@jupyter-widgets/controls",
      "model_module_version": "1.5.0",
      "model_name": "SliderStyleModel",
      "state": {
       "description_width": ""
      }
     },
     "91b05d26d6ba41228a70a377c712b8b5": {
      "model_module": "@jupyter-widgets/controls",
      "model_module_version": "1.5.0",
      "model_name": "ButtonStyleModel",
      "state": {}
     },
     "9242fe6632d24f29bb92a77fd629b66e": {
      "model_module": "@jupyter-widgets/base",
      "model_module_version": "1.2.0",
      "model_name": "LayoutModel",
      "state": {}
     },
     "92ad2373d8d447948a5165727cc1c7df": {
      "model_module": "@jupyter-widgets/controls",
      "model_module_version": "1.5.0",
      "model_name": "LinkModel",
      "state": {
       "source": [
        "IPY_MODEL_2591151f00284389961282feb58cf81e",
        "value"
       ],
       "target": [
        "IPY_MODEL_089d7b104d194011abea0772fba8d304",
        "frame"
       ]
      }
     },
     "9326c20ce6aa401585cd9c5772f33bb4": {
      "model_module": "@jupyter-widgets/base",
      "model_module_version": "1.2.0",
      "model_name": "LayoutModel",
      "state": {}
     },
     "935c0a45b0be4925b7273bdf4f6d2811": {
      "model_module": "nglview-js-widgets",
      "model_module_version": "3.0.1",
      "model_name": "ColormakerRegistryModel",
      "state": {
       "_msg_ar": [],
       "_msg_q": [],
       "_ready": true,
       "layout": "IPY_MODEL_772789663fd1460e8f609d060d1516b4"
      }
     },
     "939c0298c3ea403ebda9d10b40651ad7": {
      "model_module": "@jupyter-widgets/controls",
      "model_module_version": "1.5.0",
      "model_name": "ButtonModel",
      "state": {
       "description": "Download image",
       "layout": "IPY_MODEL_3ec7f6f13e944af6940c9ddd3014c92c",
       "style": "IPY_MODEL_ba29498cf3ce47e8ae3e1d7e6ea5a389",
       "tooltip": "Download current frame to your local PC"
      }
     },
     "93ba6525b6f54ade8ebbeb4f04614294": {
      "model_module": "@jupyter-widgets/base",
      "model_module_version": "1.2.0",
      "model_name": "LayoutModel",
      "state": {}
     },
     "9414c3c906d2439895fd50f6b8f0616f": {
      "model_module": "@jupyter-widgets/base",
      "model_module_version": "1.2.0",
      "model_name": "LayoutModel",
      "state": {}
     },
     "94729be5efb24b91ae2a7a08cac4cfb2": {
      "model_module": "@jupyter-widgets/base",
      "model_module_version": "1.2.0",
      "model_name": "LayoutModel",
      "state": {}
     },
     "94a36117218a4429835c4936af17b4e9": {
      "model_module": "@jupyter-widgets/controls",
      "model_module_version": "1.5.0",
      "model_name": "HBoxModel",
      "state": {
       "children": [
        "IPY_MODEL_a862e85e546945d284a84c18c115c4cc",
        "IPY_MODEL_ec6e1028f2444bcfb65ab69ca33c5aaf"
       ],
       "layout": "IPY_MODEL_6af88871c1814010831f36ff95477dfa"
      }
     },
     "94cfba99e551491c8e31d59219a5f872": {
      "model_module": "@jupyter-widgets/controls",
      "model_module_version": "1.5.0",
      "model_name": "ButtonStyleModel",
      "state": {}
     },
     "951589be1754448796b68fa3e776d610": {
      "model_module": "@jupyter-widgets/controls",
      "model_module_version": "1.5.0",
      "model_name": "DescriptionStyleModel",
      "state": {
       "description_width": ""
      }
     },
     "954c137752014d08b489b66100f41e2f": {
      "model_module": "@jupyter-widgets/controls",
      "model_module_version": "1.5.0",
      "model_name": "ButtonStyleModel",
      "state": {}
     },
     "9610f1d9853846539850881f3ca20494": {
      "model_module": "@jupyter-widgets/output",
      "model_module_version": "1.0.0",
      "model_name": "OutputModel",
      "state": {
       "layout": "IPY_MODEL_eaec156e712641ccb4d9d2fd1102ab45"
      }
     },
     "965332fbd8ce46349c6507a10dee36c4": {
      "model_module": "@jupyter-widgets/controls",
      "model_module_version": "1.5.0",
      "model_name": "DescriptionStyleModel",
      "state": {
       "description_width": ""
      }
     },
     "96b03fa0f3074f83a60ca7aa10fb0463": {
      "model_module": "@jupyter-widgets/controls",
      "model_module_version": "1.5.0",
      "model_name": "IntSliderModel",
      "state": {
       "layout": "IPY_MODEL_d599592396114d68b4f364af743a5407",
       "max": 0,
       "style": "IPY_MODEL_9042cffbbe6a4313bf7ec484c4c74a32"
      }
     },
     "96e161522561402d99cafa151a65333f": {
      "model_module": "@jupyter-widgets/controls",
      "model_module_version": "1.5.0",
      "model_name": "DescriptionStyleModel",
      "state": {
       "description_width": ""
      }
     },
     "973ab628cb3a4a068c8505c95a59918d": {
      "model_module": "@jupyter-widgets/controls",
      "model_module_version": "1.5.0",
      "model_name": "LinkModel",
      "state": {
       "source": [
        "IPY_MODEL_79c31297bda141a3bf27aa8661b98543",
        "value"
       ],
       "target": [
        "IPY_MODEL_f461599251ce4ec6b111226acb8b4b01",
        "value"
       ]
      }
     },
     "97b2ff1ec7c64572a3cce08956f84bb1": {
      "model_module": "@jupyter-widgets/controls",
      "model_module_version": "1.5.0",
      "model_name": "DropdownModel",
      "state": {
       "_options_labels": [
        "All",
        "Sn",
        "O"
       ],
       "description": "Show",
       "index": 0,
       "layout": "IPY_MODEL_e87b9c152c28481491697b50c152d27d",
       "style": "IPY_MODEL_b2d21f2aa9f9451281f16d244032e599"
      }
     },
     "992e7bfabd9c4c0b928583d4f317984c": {
      "model_module": "@jupyter-widgets/controls",
      "model_module_version": "1.5.0",
      "model_name": "PlayModel",
      "state": {
       "layout": "IPY_MODEL_f3995bf59f394a0eb0a616aa3246deb8",
       "max": 0,
       "style": "IPY_MODEL_fb18e75236a443b59168e3b31295f06a"
      }
     },
     "997ab033ddfe47d1ba5b9a5005d35a12": {
      "model_module": "@jupyter-widgets/controls",
      "model_module_version": "1.5.0",
      "model_name": "CheckboxModel",
      "state": {
       "description": "Show force",
       "disabled": false,
       "layout": "IPY_MODEL_64a1bf04aa4b4c86b63b2732eaf4c8f8",
       "style": "IPY_MODEL_2398c4ee96314997900f98df42b370d6",
       "value": false
      }
     },
     "99b29f7ff0f44854be9a91245d94f77d": {
      "model_module": "@jupyter-widgets/base",
      "model_module_version": "1.2.0",
      "model_name": "LayoutModel",
      "state": {}
     },
     "99f26cd66fc04825b505e7250ff530a4": {
      "model_module": "@jupyter-widgets/controls",
      "model_module_version": "1.5.0",
      "model_name": "LinkModel",
      "state": {
       "source": [
        "IPY_MODEL_fce827b379ba477f876f4bda946e90ac",
        "value"
       ],
       "target": [
        "IPY_MODEL_7c0288530d4d418f9ff620258ff03e3b",
        "value"
       ]
      }
     },
     "9a4eee0d9aa1478fa04d72e925574107": {
      "model_module": "@jupyter-widgets/controls",
      "model_module_version": "1.5.0",
      "model_name": "LinkModel",
      "state": {
       "source": [
        "IPY_MODEL_79c31297bda141a3bf27aa8661b98543",
        "max"
       ],
       "target": [
        "IPY_MODEL_780fe39126ce456bae13c435afacbc77",
        "max_frame"
       ]
      }
     },
     "9b30567f28ed4006a6720b86d026583a": {
      "model_module": "@jupyter-widgets/controls",
      "model_module_version": "1.5.0",
      "model_name": "DescriptionStyleModel",
      "state": {
       "description_width": ""
      }
     },
     "9b5cc240e4064796b7af07b35e23a437": {
      "model_module": "@jupyter-widgets/base",
      "model_module_version": "1.2.0",
      "model_name": "LayoutModel",
      "state": {}
     },
     "9b60c5d7e2c5494591d3387c4663b410": {
      "model_module": "@jupyter-widgets/base",
      "model_module_version": "1.2.0",
      "model_name": "LayoutModel",
      "state": {}
     },
     "9b7345b6be0c493ba3e9fac10cf8bab6": {
      "model_module": "@jupyter-widgets/base",
      "model_module_version": "1.2.0",
      "model_name": "LayoutModel",
      "state": {}
     },
     "9b87bf5b29574b4c96d7ac4703bedaf4": {
      "model_module": "nglview-js-widgets",
      "model_module_version": "3.0.1",
      "model_name": "NGLModel",
      "state": {
       "_camera_orientation": [
        41.48129435432746,
        0,
        0,
        0,
        0,
        41.48129435432746,
        0,
        0,
        0,
        0,
        41.48129435432746,
        0,
        0,
        0,
        0,
        1
       ],
       "_camera_str": "orthographic",
       "_gui_theme": null,
       "_ibtn_fullscreen": "IPY_MODEL_9d0e70d00f074391a26ef76195355b44",
       "_igui": null,
       "_iplayer": "IPY_MODEL_c409b46db2254637ad0f99b9de00584e",
       "_ngl_color_dict": {},
       "_ngl_coordinate_resource": {},
       "_ngl_full_stage_parameters": {
        "ambientColor": 14540253,
        "ambientIntensity": 0.2,
        "backgroundColor": "white",
        "cameraEyeSep": 0.3,
        "cameraFov": 40,
        "cameraType": "orthographic",
        "clipDist": 0,
        "clipFar": 100,
        "clipNear": 0,
        "fogFar": 100,
        "fogNear": 50,
        "hoverTimeout": 0,
        "impostor": true,
        "lightColor": 14540253,
        "lightIntensity": 1,
        "mousePreset": "default",
        "panSpeed": 1,
        "quality": "medium",
        "rotateSpeed": 2,
        "sampleLevel": 0,
        "tooltip": true,
        "workerDefault": true,
        "zoomSpeed": 1.2
       },
       "_ngl_msg_archive": [
        {
         "args": [
          {
           "binary": false,
           "data": "MODEL     1\nATOM      1   Pd MOL     1      -9.800  -9.800   0.000  1.00  0.00          PD  \nATOM      2   Pd MOL     1     -11.760  -5.880  -1.960  1.00  0.00          PD  \nATOM      3   Pd MOL     1      -9.800  -7.840  -1.960  1.00  0.00          PD  \nATOM      4   Pd MOL     1      -9.800  -5.880  -3.920  1.00  0.00          PD  \nATOM      5   Pd MOL     1     -11.760  -7.840   0.000  1.00  0.00          PD  \nATOM      6   Pd MOL     1     -11.760  -5.880   1.960  1.00  0.00          PD  \nATOM      7   Pd MOL     1      -9.800  -7.840   1.960  1.00  0.00          PD  \nATOM      8   Pt MOL     1      -9.800  -5.880   0.000  1.00  0.00          PT  \nATOM      9   Pd MOL     1      -9.800  -5.880   3.920  1.00  0.00          PD  \nATOM     10   Pd MOL     1     -11.760  -1.960  -5.880  1.00  0.00          PD  \nATOM     11   Pd MOL     1      -9.800  -3.920  -5.880  1.00  0.00          PD  \nATOM     12   Pd MOL     1      -9.800  -1.960  -7.840  1.00  0.00          PD  \nATOM     13   Pd MOL     1     -11.760  -3.920  -3.920  1.00  0.00          PD  \nATOM     14   Pd MOL     1     -11.760  -1.960  -1.960  1.00  0.00          PD  \nATOM     15   Pt MOL     1      -9.800  -3.920  -1.960  1.00  0.00          PT  \nATOM     16   Pt MOL     1      -9.800  -1.960  -3.920  1.00  0.00          PT  \nATOM     17   Pd MOL     1     -11.760  -3.920   0.000  1.00  0.00          PD  \nATOM     18   Pd MOL     1     -11.760  -1.960   1.960  1.00  0.00          PD  \nATOM     19   Pt MOL     1      -9.800  -3.920   1.960  1.00  0.00          PT  \nATOM     20   Pt MOL     1      -9.800  -1.960   0.000  1.00  0.00          PT  \nATOM     21   Pd MOL     1     -11.760  -3.920   3.920  1.00  0.00          PD  \nATOM     22   Pd MOL     1     -11.760  -1.960   5.880  1.00  0.00          PD  \nATOM     23   Pd MOL     1      -9.800  -3.920   5.880  1.00  0.00          PD  \nATOM     24   Pt MOL     1      -9.800  -1.960   3.920  1.00  0.00          PT  \nATOM     25   Pd MOL     1      -9.800  -1.960   7.840  1.00  0.00          PD  \nATOM     26   Pd MOL     1      -9.800   0.000  -9.800  1.00  0.00          PD  \nATOM     27   Pd MOL     1     -11.760   0.000  -7.840  1.00  0.00          PD  \nATOM     28   Pd MOL     1     -11.760   1.960  -5.880  1.00  0.00          PD  \nATOM     29   Pt MOL     1      -9.800   0.000  -5.880  1.00  0.00          PT  \nATOM     30   Pd MOL     1      -9.800   1.960  -7.840  1.00  0.00          PD  \nATOM     31   Pd MOL     1     -11.760   0.000  -3.920  1.00  0.00          PD  \nATOM     32   Pd MOL     1     -11.760   1.960  -1.960  1.00  0.00          PD  \nATOM     33   Pt MOL     1      -9.800   0.000  -1.960  1.00  0.00          PT  \nATOM     34   Pt MOL     1      -9.800   1.960  -3.920  1.00  0.00          PT  \nATOM     35   Pd MOL     1     -11.760   0.000   0.000  1.00  0.00          PD  \nATOM     36   Pd MOL     1     -11.760   1.960   1.960  1.00  0.00          PD  \nATOM     37   Pt MOL     1      -9.800   0.000   1.960  1.00  0.00          PT  \nATOM     38   Pt MOL     1      -9.800   1.960   0.000  1.00  0.00          PT  \nATOM     39   Pd MOL     1     -11.760   0.000   3.920  1.00  0.00          PD  \nATOM     40   Pd MOL     1     -11.760   1.960   5.880  1.00  0.00          PD  \nATOM     41   Pt MOL     1      -9.800   0.000   5.880  1.00  0.00          PT  \nATOM     42   Pt MOL     1      -9.800   1.960   3.920  1.00  0.00          PT  \nATOM     43   Pd MOL     1     -11.760   0.000   7.840  1.00  0.00          PD  \nATOM     44   Pd MOL     1      -9.800   0.000   9.800  1.00  0.00          PD  \nATOM     45   Pd MOL     1      -9.800   1.960   7.840  1.00  0.00          PD  \nATOM     46   Pd MOL     1      -9.800   3.920  -5.880  1.00  0.00          PD  \nATOM     47   Pd MOL     1     -11.760   3.920  -3.920  1.00  0.00          PD  \nATOM     48   Pd MOL     1     -11.760   5.880  -1.960  1.00  0.00          PD  \nATOM     49   Pt MOL     1      -9.800   3.920  -1.960  1.00  0.00          PT  \nATOM     50   Pd MOL     1      -9.800   5.880  -3.920  1.00  0.00          PD  \nATOM     51   Pd MOL     1     -11.760   3.920   0.000  1.00  0.00          PD  \nATOM     52   Pd MOL     1     -11.760   5.880   1.960  1.00  0.00          PD  \nATOM     53   Pt MOL     1      -9.800   3.920   1.960  1.00  0.00          PT  \nATOM     54   Pt MOL     1      -9.800   5.880   0.000  1.00  0.00          PT  \nATOM     55   Pd MOL     1     -11.760   3.920   3.920  1.00  0.00          PD  \nATOM     56   Pd MOL     1      -9.800   3.920   5.880  1.00  0.00          PD  \nATOM     57   Pd MOL     1      -9.800   5.880   3.920  1.00  0.00          PD  \nATOM     58   Pd MOL     1      -9.800   7.840  -1.960  1.00  0.00          PD  \nATOM     59   Pd MOL     1     -11.760   7.840   0.000  1.00  0.00          PD  \nATOM     60   Pd MOL     1      -9.800   7.840   1.960  1.00  0.00          PD  \nATOM     61   Pd MOL     1      -9.800   9.800   0.000  1.00  0.00          PD  \nATOM     62   Pd MOL     1      -7.840  -9.800  -1.960  1.00  0.00          PD  \nATOM     63   Pd MOL     1      -5.880 -11.760  -1.960  1.00  0.00          PD  \nATOM     64   Pd MOL     1      -5.880  -9.800  -3.920  1.00  0.00          PD  \nATOM     65   Pd MOL     1      -7.840 -11.760   0.000  1.00  0.00          PD  \nATOM     66   Pd MOL     1      -7.840  -9.800   1.960  1.00  0.00          PD  \nATOM     67   Pd MOL     1      -5.880 -11.760   1.960  1.00  0.00          PD  \nATOM     68   Pt MOL     1      -5.880  -9.800   0.000  1.00  0.00          PT  \nATOM     69   Pd MOL     1      -5.880  -9.800   3.920  1.00  0.00          PD  \nATOM     70   Pd MOL     1      -7.840  -5.880  -5.880  1.00  0.00          PD  \nATOM     71   Pd MOL     1      -5.880  -7.840  -5.880  1.00  0.00          PD  \nATOM     72   Pd MOL     1      -5.880  -5.880  -7.840  1.00  0.00          PD  \nATOM     73   Pd MOL     1      -7.840  -7.840  -3.920  1.00  0.00          PD  \nATOM     74   Pt MOL     1      -7.840  -5.880  -1.960  1.00  0.00          PT  \nATOM     75   Pt MOL     1      -5.880  -7.840  -1.960  1.00  0.00          PT  \nATOM     76   Pt MOL     1      -5.880  -5.880  -3.920  1.00  0.00          PT  \nATOM     77   Pt MOL     1      -7.840  -7.840   0.000  1.00  0.00          PT  \nATOM     78   Pt MOL     1      -7.840  -5.880   1.960  1.00  0.00          PT  \nATOM     79   Pt MOL     1      -5.880  -7.840   1.960  1.00  0.00          PT  \nATOM     80   Pt MOL     1      -5.880  -5.880   0.000  1.00  0.00          PT  \nATOM     81   Pd MOL     1      -7.840  -7.840   3.920  1.00  0.00          PD  \nATOM     82   Pd MOL     1      -7.840  -5.880   5.880  1.00  0.00          PD  \nATOM     83   Pd MOL     1      -5.880  -7.840   5.880  1.00  0.00          PD  \nATOM     84   Pt MOL     1      -5.880  -5.880   3.920  1.00  0.00          PT  \nATOM     85   Pd MOL     1      -5.880  -5.880   7.840  1.00  0.00          PD  \nATOM     86   Pd MOL     1      -7.840  -1.960  -9.800  1.00  0.00          PD  \nATOM     87   Pd MOL     1      -5.880  -3.920  -9.800  1.00  0.00          PD  \nATOM     88   Pd MOL     1      -5.880  -1.960 -11.760  1.00  0.00          PD  \nATOM     89   Pd MOL     1      -7.840  -3.920  -7.840  1.00  0.00          PD  \nATOM     90   Pt MOL     1      -7.840  -1.960  -5.880  1.00  0.00          PT  \nATOM     91   Pt MOL     1      -5.880  -3.920  -5.880  1.00  0.00          PT  \nATOM     92   Pt MOL     1      -5.880  -1.960  -7.840  1.00  0.00          PT  \nATOM     93   Pt MOL     1      -7.840  -3.920  -3.920  1.00  0.00          PT  \nATOM     94   Pt MOL     1      -7.840  -1.960  -1.960  1.00  0.00          PT  \nATOM     95   Pt MOL     1      -5.880  -3.920  -1.960  1.00  0.00          PT  \nATOM     96   Pt MOL     1      -5.880  -1.960  -3.920  1.00  0.00          PT  \nATOM     97   Pt MOL     1      -7.840  -3.920   0.000  1.00  0.00          PT  \nATOM     98   Pt MOL     1      -7.840  -1.960   1.960  1.00  0.00          PT  \nATOM     99   Pt MOL     1      -5.880  -3.920   1.960  1.00  0.00          PT  \nATOM    100   Pt MOL     1      -5.880  -1.960   0.000  1.00  0.00          PT  \nATOM    101   Pt MOL     1      -7.840  -3.920   3.920  1.00  0.00          PT  \nATOM    102   Pt MOL     1      -7.840  -1.960   5.880  1.00  0.00          PT  \nATOM    103   Pt MOL     1      -5.880  -3.920   5.880  1.00  0.00          PT  \nATOM    104   Pt MOL     1      -5.880  -1.960   3.920  1.00  0.00          PT  \nATOM    105   Pd MOL     1      -7.840  -3.920   7.840  1.00  0.00          PD  \nATOM    106   Pd MOL     1      -7.840  -1.960   9.800  1.00  0.00          PD  \nATOM    107   Pd MOL     1      -5.880  -3.920   9.800  1.00  0.00          PD  \nATOM    108   Pt MOL     1      -5.880  -1.960   7.840  1.00  0.00          PT  \nATOM    109   Pd MOL     1      -5.880  -1.960  11.760  1.00  0.00          PD  \nATOM    110   Pd MOL     1      -7.840   0.000 -11.760  1.00  0.00          PD  \nATOM    111   Pd MOL     1      -7.840   1.960  -9.800  1.00  0.00          PD  \nATOM    112   Pt MOL     1      -5.880   0.000  -9.800  1.00  0.00          PT  \nATOM    113   Pd MOL     1      -5.880   1.960 -11.760  1.00  0.00          PD  \nATOM    114   Pt MOL     1      -7.840   0.000  -7.840  1.00  0.00          PT  \nATOM    115   Pt MOL     1      -7.840   1.960  -5.880  1.00  0.00          PT  \nATOM    116   Pt MOL     1      -5.880   0.000  -5.880  1.00  0.00          PT  \nATOM    117   Pt MOL     1      -5.880   1.960  -7.840  1.00  0.00          PT  \nATOM    118   Pt MOL     1      -7.840   0.000  -3.920  1.00  0.00          PT  \nATOM    119   Pt MOL     1      -7.840   1.960  -1.960  1.00  0.00          PT  \nATOM    120   Pt MOL     1      -5.880   0.000  -1.960  1.00  0.00          PT  \nATOM    121   Pt MOL     1      -5.880   1.960  -3.920  1.00  0.00          PT  \nATOM    122   Pt MOL     1      -7.840   0.000   0.000  1.00  0.00          PT  \nATOM    123   Pt MOL     1      -7.840   1.960   1.960  1.00  0.00          PT  \nATOM    124   Pt MOL     1      -5.880   0.000   1.960  1.00  0.00          PT  \nATOM    125   Pt MOL     1      -5.880   1.960   0.000  1.00  0.00          PT  \nATOM    126   Pt MOL     1      -7.840   0.000   3.920  1.00  0.00          PT  \nATOM    127   Pt MOL     1      -7.840   1.960   5.880  1.00  0.00          PT  \nATOM    128   Pt MOL     1      -5.880   0.000   5.880  1.00  0.00          PT  \nATOM    129   Pt MOL     1      -5.880   1.960   3.920  1.00  0.00          PT  \nATOM    130   Pt MOL     1      -7.840   0.000   7.840  1.00  0.00          PT  \nATOM    131   Pd MOL     1      -7.840   1.960   9.800  1.00  0.00          PD  \nATOM    132   Pt MOL     1      -5.880   0.000   9.800  1.00  0.00          PT  \nATOM    133   Pt MOL     1      -5.880   1.960   7.840  1.00  0.00          PT  \nATOM    134   Pd MOL     1      -7.840   0.000  11.760  1.00  0.00          PD  \nATOM    135   Pd MOL     1      -5.880   1.960  11.760  1.00  0.00          PD  \nATOM    136   Pd MOL     1      -5.880   3.920  -9.800  1.00  0.00          PD  \nATOM    137   Pd MOL     1      -7.840   3.920  -7.840  1.00  0.00          PD  \nATOM    138   Pd MOL     1      -7.840   5.880  -5.880  1.00  0.00          PD  \nATOM    139   Pt MOL     1      -5.880   3.920  -5.880  1.00  0.00          PT  \nATOM    140   Pd MOL     1      -5.880   5.880  -7.840  1.00  0.00          PD  \nATOM    141   Pt MOL     1      -7.840   3.920  -3.920  1.00  0.00          PT  \nATOM    142   Pt MOL     1      -7.840   5.880  -1.960  1.00  0.00          PT  \nATOM    143   Pt MOL     1      -5.880   3.920  -1.960  1.00  0.00          PT  \nATOM    144   Pt MOL     1      -5.880   5.880  -3.920  1.00  0.00          PT  \nATOM    145   Pt MOL     1      -7.840   3.920   0.000  1.00  0.00          PT  \nATOM    146   Pt MOL     1      -7.840   5.880   1.960  1.00  0.00          PT  \nATOM    147   Pt MOL     1      -5.880   3.920   1.960  1.00  0.00          PT  \nATOM    148   Pt MOL     1      -5.880   5.880   0.000  1.00  0.00          PT  \nATOM    149   Pt MOL     1      -7.840   3.920   3.920  1.00  0.00          PT  \nATOM    150   Pd MOL     1      -7.840   5.880   5.880  1.00  0.00          PD  \nATOM    151   Pt MOL     1      -5.880   3.920   5.880  1.00  0.00          PT  \nATOM    152   Pt MOL     1      -5.880   5.880   3.920  1.00  0.00          PT  \nATOM    153   Pd MOL     1      -7.840   3.920   7.840  1.00  0.00          PD  \nATOM    154   Pd MOL     1      -5.880   3.920   9.800  1.00  0.00          PD  \nATOM    155   Pd MOL     1      -5.880   5.880   7.840  1.00  0.00          PD  \nATOM    156   Pd MOL     1      -5.880   7.840  -5.880  1.00  0.00          PD  \nATOM    157   Pd MOL     1      -7.840   7.840  -3.920  1.00  0.00          PD  \nATOM    158   Pd MOL     1      -7.840   9.800  -1.960  1.00  0.00          PD  \nATOM    159   Pt MOL     1      -5.880   7.840  -1.960  1.00  0.00          PT  \nATOM    160   Pd MOL     1      -5.880   9.800  -3.920  1.00  0.00          PD  \nATOM    161   Pt MOL     1      -7.840   7.840   0.000  1.00  0.00          PT  \nATOM    162   Pd MOL     1      -7.840   9.800   1.960  1.00  0.00          PD  \nATOM    163   Pt MOL     1      -5.880   7.840   1.960  1.00  0.00          PT  \nATOM    164   Pt MOL     1      -5.880   9.800   0.000  1.00  0.00          PT  \nATOM    165   Pd MOL     1      -7.840   7.840   3.920  1.00  0.00          PD  \nATOM    166   Pd MOL     1      -5.880   7.840   5.880  1.00  0.00          PD  \nATOM    167   Pd MOL     1      -5.880   9.800   3.920  1.00  0.00          PD  \nATOM    168   Pd MOL     1      -5.880  11.760  -1.960  1.00  0.00          PD  \nATOM    169   Pd MOL     1      -7.840  11.760   0.000  1.00  0.00          PD  \nATOM    170   Pd MOL     1      -5.880  11.760   1.960  1.00  0.00          PD  \nATOM    171   Pd MOL     1      -3.920  -9.800  -5.880  1.00  0.00          PD  \nATOM    172   Pd MOL     1      -1.960 -11.760  -5.880  1.00  0.00          PD  \nATOM    173   Pd MOL     1      -1.960  -9.800  -7.840  1.00  0.00          PD  \nATOM    174   Pd MOL     1      -3.920 -11.760  -3.920  1.00  0.00          PD  \nATOM    175   Pt MOL     1      -3.920  -9.800  -1.960  1.00  0.00          PT  \nATOM    176   Pd MOL     1      -1.960 -11.760  -1.960  1.00  0.00          PD  \nATOM    177   Pt MOL     1      -1.960  -9.800  -3.920  1.00  0.00          PT  \nATOM    178   Pd MOL     1      -3.920 -11.760   0.000  1.00  0.00          PD  \nATOM    179   Pt MOL     1      -3.920  -9.800   1.960  1.00  0.00          PT  \nATOM    180   Pd MOL     1      -1.960 -11.760   1.960  1.00  0.00          PD  \nATOM    181   Pt MOL     1      -1.960  -9.800   0.000  1.00  0.00          PT  \nATOM    182   Pd MOL     1      -3.920 -11.760   3.920  1.00  0.00          PD  \nATOM    183   Pd MOL     1      -3.920  -9.800   5.880  1.00  0.00          PD  \nATOM    184   Pd MOL     1      -1.960 -11.760   5.880  1.00  0.00          PD  \nATOM    185   Pt MOL     1      -1.960  -9.800   3.920  1.00  0.00          PT  \nATOM    186   Pd MOL     1      -1.960  -9.800   7.840  1.00  0.00          PD  \nATOM    187   Pd MOL     1      -3.920  -5.880  -9.800  1.00  0.00          PD  \nATOM    188   Pd MOL     1      -1.960  -7.840  -9.800  1.00  0.00          PD  \nATOM    189   Pd MOL     1      -1.960  -5.880 -11.760  1.00  0.00          PD  \nATOM    190   Pd MOL     1      -3.920  -7.840  -7.840  1.00  0.00          PD  \nATOM    191   Pt MOL     1      -3.920  -5.880  -5.880  1.00  0.00          PT  \nATOM    192   Pt MOL     1      -1.960  -7.840  -5.880  1.00  0.00          PT  \nATOM    193   Pt MOL     1      -1.960  -5.880  -7.840  1.00  0.00          PT  \nATOM    194   Pt MOL     1      -3.920  -7.840  -3.920  1.00  0.00          PT  \nATOM    195   Pt MOL     1      -3.920  -5.880  -1.960  1.00  0.00          PT  \nATOM    196   Pt MOL     1      -1.960  -7.840  -1.960  1.00  0.00          PT  \nATOM    197   Pt MOL     1      -1.960  -5.880  -3.920  1.00  0.00          PT  \nATOM    198   Pt MOL     1      -3.920  -7.840   0.000  1.00  0.00          PT  \nATOM    199   Pt MOL     1      -3.920  -5.880   1.960  1.00  0.00          PT  \nATOM    200   Pt MOL     1      -1.960  -7.840   1.960  1.00  0.00          PT  \nATOM    201   Pt MOL     1      -1.960  -5.880   0.000  1.00  0.00          PT  \nATOM    202   Pt MOL     1      -3.920  -7.840   3.920  1.00  0.00          PT  \nATOM    203   Pt MOL     1      -3.920  -5.880   5.880  1.00  0.00          PT  \nATOM    204   Pt MOL     1      -1.960  -7.840   5.880  1.00  0.00          PT  \nATOM    205   Pt MOL     1      -1.960  -5.880   3.920  1.00  0.00          PT  \nATOM    206   Pd MOL     1      -3.920  -7.840   7.840  1.00  0.00          PD  \nATOM    207   Pd MOL     1      -3.920  -5.880   9.800  1.00  0.00          PD  \nATOM    208   Pd MOL     1      -1.960  -7.840   9.800  1.00  0.00          PD  \nATOM    209   Pt MOL     1      -1.960  -5.880   7.840  1.00  0.00          PT  \nATOM    210   Pd MOL     1      -1.960  -5.880  11.760  1.00  0.00          PD  \nATOM    211   Pd MOL     1      -3.920  -3.920 -11.760  1.00  0.00          PD  \nATOM    212   Pt MOL     1      -3.920  -1.960  -9.800  1.00  0.00          PT  \nATOM    213   Pt MOL     1      -1.960  -3.920  -9.800  1.00  0.00          PT  \nATOM    214   Pd MOL     1      -1.960  -1.960 -11.760  1.00  0.00          PD  \nATOM    215   Pt MOL     1      -3.920  -3.920  -7.840  1.00  0.00          PT  \nATOM    216   Pt MOL     1      -3.920  -1.960  -5.880  1.00  0.00          PT  \nATOM    217   Pt MOL     1      -1.960  -3.920  -5.880  1.00  0.00          PT  \nATOM    218   Pt MOL     1      -1.960  -1.960  -7.840  1.00  0.00          PT  \nATOM    219   Pt MOL     1      -3.920  -3.920  -3.920  1.00  0.00          PT  \nATOM    220   Pt MOL     1      -3.920  -1.960  -1.960  1.00  0.00          PT  \nATOM    221   Pt MOL     1      -1.960  -3.920  -1.960  1.00  0.00          PT  \nATOM    222   Pt MOL     1      -1.960  -1.960  -3.920  1.00  0.00          PT  \nATOM    223   Pt MOL     1      -3.920  -3.920   0.000  1.00  0.00          PT  \nATOM    224   Pt MOL     1      -3.920  -1.960   1.960  1.00  0.00          PT  \nATOM    225   Pt MOL     1      -1.960  -3.920   1.960  1.00  0.00          PT  \nATOM    226   Pt MOL     1      -1.960  -1.960   0.000  1.00  0.00          PT  \nATOM    227   Pt MOL     1      -3.920  -3.920   3.920  1.00  0.00          PT  \nATOM    228   Pt MOL     1      -3.920  -1.960   5.880  1.00  0.00          PT  \nATOM    229   Pt MOL     1      -1.960  -3.920   5.880  1.00  0.00          PT  \nATOM    230   Pt MOL     1      -1.960  -1.960   3.920  1.00  0.00          PT  \nATOM    231   Pt MOL     1      -3.920  -3.920   7.840  1.00  0.00          PT  \nATOM    232   Pt MOL     1      -3.920  -1.960   9.800  1.00  0.00          PT  \nATOM    233   Pt MOL     1      -1.960  -3.920   9.800  1.00  0.00          PT  \nATOM    234   Pt MOL     1      -1.960  -1.960   7.840  1.00  0.00          PT  \nATOM    235   Pd MOL     1      -3.920  -3.920  11.760  1.00  0.00          PD  \nATOM    236   Pd MOL     1      -1.960  -1.960  11.760  1.00  0.00          PD  \nATOM    237   Pd MOL     1      -3.920   0.000 -11.760  1.00  0.00          PD  \nATOM    238   Pt MOL     1      -3.920   1.960  -9.800  1.00  0.00          PT  \nATOM    239   Pt MOL     1      -1.960   0.000  -9.800  1.00  0.00          PT  \nATOM    240   Pd MOL     1      -1.960   1.960 -11.760  1.00  0.00          PD  \nATOM    241   Pt MOL     1      -3.920   0.000  -7.840  1.00  0.00          PT  \nATOM    242   Pt MOL     1      -3.920   1.960  -5.880  1.00  0.00          PT  \nATOM    243   Pt MOL     1      -1.960   0.000  -5.880  1.00  0.00          PT  \nATOM    244   Pt MOL     1      -1.960   1.960  -7.840  1.00  0.00          PT  \nATOM    245   Pt MOL     1      -3.920   0.000  -3.920  1.00  0.00          PT  \nATOM    246   Pt MOL     1      -3.920   1.960  -1.960  1.00  0.00          PT  \nATOM    247   Pt MOL     1      -1.960   0.000  -1.960  1.00  0.00          PT  \nATOM    248   Pt MOL     1      -1.960   1.960  -3.920  1.00  0.00          PT  \nATOM    249   Pt MOL     1      -3.920   0.000   0.000  1.00  0.00          PT  \nATOM    250   Pt MOL     1      -3.920   1.960   1.960  1.00  0.00          PT  \nATOM    251   Pt MOL     1      -1.960   0.000   1.960  1.00  0.00          PT  \nATOM    252   Pt MOL     1      -1.960   1.960   0.000  1.00  0.00          PT  \nATOM    253   Pt MOL     1      -3.920   0.000   3.920  1.00  0.00          PT  \nATOM    254   Pt MOL     1      -3.920   1.960   5.880  1.00  0.00          PT  \nATOM    255   Pt MOL     1      -1.960   0.000   5.880  1.00  0.00          PT  \nATOM    256   Pt MOL     1      -1.960   1.960   3.920  1.00  0.00          PT  \nATOM    257   Pt MOL     1      -3.920   0.000   7.840  1.00  0.00          PT  \nATOM    258   Pt MOL     1      -3.920   1.960   9.800  1.00  0.00          PT  \nATOM    259   Pt MOL     1      -1.960   0.000   9.800  1.00  0.00          PT  \nATOM    260   Pt MOL     1      -1.960   1.960   7.840  1.00  0.00          PT  \nATOM    261   Pd MOL     1      -3.920   0.000  11.760  1.00  0.00          PD  \nATOM    262   Pd MOL     1      -1.960   1.960  11.760  1.00  0.00          PD  \nATOM    263   Pd MOL     1      -3.920   3.920 -11.760  1.00  0.00          PD  \nATOM    264   Pd MOL     1      -3.920   5.880  -9.800  1.00  0.00          PD  \nATOM    265   Pt MOL     1      -1.960   3.920  -9.800  1.00  0.00          PT  \nATOM    266   Pd MOL     1      -1.960   5.880 -11.760  1.00  0.00          PD  \nATOM    267   Pt MOL     1      -3.920   3.920  -7.840  1.00  0.00          PT  \nATOM    268   Pt MOL     1      -3.920   5.880  -5.880  1.00  0.00          PT  \nATOM    269   Pt MOL     1      -1.960   3.920  -5.880  1.00  0.00          PT  \nATOM    270   Pt MOL     1      -1.960   5.880  -7.840  1.00  0.00          PT  \nATOM    271   Pt MOL     1      -3.920   3.920  -3.920  1.00  0.00          PT  \nATOM    272   Pt MOL     1      -3.920   5.880  -1.960  1.00  0.00          PT  \nATOM    273   Pt MOL     1      -1.960   3.920  -1.960  1.00  0.00          PT  \nATOM    274   Pt MOL     1      -1.960   5.880  -3.920  1.00  0.00          PT  \nATOM    275   Pt MOL     1      -3.920   3.920   0.000  1.00  0.00          PT  \nATOM    276   Pt MOL     1      -3.920   5.880   1.960  1.00  0.00          PT  \nATOM    277   Pt MOL     1      -1.960   3.920   1.960  1.00  0.00          PT  \nATOM    278   Pt MOL     1      -1.960   5.880   0.000  1.00  0.00          PT  \nATOM    279   Pt MOL     1      -3.920   3.920   3.920  1.00  0.00          PT  \nATOM    280   Pt MOL     1      -3.920   5.880   5.880  1.00  0.00          PT  \nATOM    281   Pt MOL     1      -1.960   3.920   5.880  1.00  0.00          PT  \nATOM    282   Pt MOL     1      -1.960   5.880   3.920  1.00  0.00          PT  \nATOM    283   Pt MOL     1      -3.920   3.920   7.840  1.00  0.00          PT  \nATOM    284   Pd MOL     1      -3.920   5.880   9.800  1.00  0.00          PD  \nATOM    285   Pt MOL     1      -1.960   3.920   9.800  1.00  0.00          PT  \nATOM    286   Pt MOL     1      -1.960   5.880   7.840  1.00  0.00          PT  \nATOM    287   Pd MOL     1      -3.920   3.920  11.760  1.00  0.00          PD  \nATOM    288   Pd MOL     1      -1.960   5.880  11.760  1.00  0.00          PD  \nATOM    289   Pd MOL     1      -1.960   7.840  -9.800  1.00  0.00          PD  \nATOM    290   Pd MOL     1      -3.920   7.840  -7.840  1.00  0.00          PD  \nATOM    291   Pd MOL     1      -3.920   9.800  -5.880  1.00  0.00          PD  \nATOM    292   Pt MOL     1      -1.960   7.840  -5.880  1.00  0.00          PT  \nATOM    293   Pd MOL     1      -1.960   9.800  -7.840  1.00  0.00          PD  \nATOM    294   Pt MOL     1      -3.920   7.840  -3.920  1.00  0.00          PT  \nATOM    295   Pt MOL     1      -3.920   9.800  -1.960  1.00  0.00          PT  \nATOM    296   Pt MOL     1      -1.960   7.840  -1.960  1.00  0.00          PT  \nATOM    297   Pt MOL     1      -1.960   9.800  -3.920  1.00  0.00          PT  \nATOM    298   Pt MOL     1      -3.920   7.840   0.000  1.00  0.00          PT  \nATOM    299   Pt MOL     1      -3.920   9.800   1.960  1.00  0.00          PT  \nATOM    300   Pt MOL     1      -1.960   7.840   1.960  1.00  0.00          PT  \nATOM    301   Pt MOL     1      -1.960   9.800   0.000  1.00  0.00          PT  \nATOM    302   Pt MOL     1      -3.920   7.840   3.920  1.00  0.00          PT  \nATOM    303   Pd MOL     1      -3.920   9.800   5.880  1.00  0.00          PD  \nATOM    304   Pt MOL     1      -1.960   7.840   5.880  1.00  0.00          PT  \nATOM    305   Pt MOL     1      -1.960   9.800   3.920  1.00  0.00          PT  \nATOM    306   Pd MOL     1      -3.920   7.840   7.840  1.00  0.00          PD  \nATOM    307   Pd MOL     1      -1.960   7.840   9.800  1.00  0.00          PD  \nATOM    308   Pd MOL     1      -1.960   9.800   7.840  1.00  0.00          PD  \nATOM    309   Pd MOL     1      -1.960  11.760  -5.880  1.00  0.00          PD  \nATOM    310   Pd MOL     1      -3.920  11.760  -3.920  1.00  0.00          PD  \nATOM    311   Pd MOL     1      -1.960  11.760  -1.960  1.00  0.00          PD  \nATOM    312   Pd MOL     1      -3.920  11.760   0.000  1.00  0.00          PD  \nATOM    313   Pd MOL     1      -1.960  11.760   1.960  1.00  0.00          PD  \nATOM    314   Pd MOL     1      -3.920  11.760   3.920  1.00  0.00          PD  \nATOM    315   Pd MOL     1      -1.960  11.760   5.880  1.00  0.00          PD  \nATOM    316   Pd MOL     1       0.000  -9.800  -9.800  1.00  0.00          PD  \nATOM    317   Pd MOL     1       0.000 -11.760  -7.840  1.00  0.00          PD  \nATOM    318   Pt MOL     1       0.000  -9.800  -5.880  1.00  0.00          PT  \nATOM    319   Pd MOL     1       1.960 -11.760  -5.880  1.00  0.00          PD  \nATOM    320   Pd MOL     1       1.960  -9.800  -7.840  1.00  0.00          PD  \nATOM    321   Pd MOL     1       0.000 -11.760  -3.920  1.00  0.00          PD  \nATOM    322   Pt MOL     1       0.000  -9.800  -1.960  1.00  0.00          PT  \nATOM    323   Pd MOL     1       1.960 -11.760  -1.960  1.00  0.00          PD  \nATOM    324   Pt MOL     1       1.960  -9.800  -3.920  1.00  0.00          PT  \nATOM    325   Pd MOL     1       0.000 -11.760   0.000  1.00  0.00          PD  \nATOM    326   Pt MOL     1       0.000  -9.800   1.960  1.00  0.00          PT  \nATOM    327   Pd MOL     1       1.960 -11.760   1.960  1.00  0.00          PD  \nATOM    328   Pt MOL     1       1.960  -9.800   0.000  1.00  0.00          PT  \nATOM    329   Pd MOL     1       0.000 -11.760   3.920  1.00  0.00          PD  \nATOM    330   Pt MOL     1       0.000  -9.800   5.880  1.00  0.00          PT  \nATOM    331   Pd MOL     1       1.960 -11.760   5.880  1.00  0.00          PD  \nATOM    332   Pt MOL     1       1.960  -9.800   3.920  1.00  0.00          PT  \nATOM    333   Pd MOL     1       0.000 -11.760   7.840  1.00  0.00          PD  \nATOM    334   Pd MOL     1       0.000  -9.800   9.800  1.00  0.00          PD  \nATOM    335   Pd MOL     1       1.960  -9.800   7.840  1.00  0.00          PD  \nATOM    336   Pd MOL     1       0.000  -7.840 -11.760  1.00  0.00          PD  \nATOM    337   Pt MOL     1       0.000  -5.880  -9.800  1.00  0.00          PT  \nATOM    338   Pd MOL     1       1.960  -7.840  -9.800  1.00  0.00          PD  \nATOM    339   Pd MOL     1       1.960  -5.880 -11.760  1.00  0.00          PD  \nATOM    340   Pt MOL     1       0.000  -7.840  -7.840  1.00  0.00          PT  \nATOM    341   Pt MOL     1       0.000  -5.880  -5.880  1.00  0.00          PT  \nATOM    342   Pt MOL     1       1.960  -7.840  -5.880  1.00  0.00          PT  \nATOM    343   Pt MOL     1       1.960  -5.880  -7.840  1.00  0.00          PT  \nATOM    344   Pt MOL     1       0.000  -7.840  -3.920  1.00  0.00          PT  \nATOM    345   Pt MOL     1       0.000  -5.880  -1.960  1.00  0.00          PT  \nATOM    346   Pt MOL     1       1.960  -7.840  -1.960  1.00  0.00          PT  \nATOM    347   Pt MOL     1       1.960  -5.880  -3.920  1.00  0.00          PT  \nATOM    348   Pt MOL     1       0.000  -7.840   0.000  1.00  0.00          PT  \nATOM    349   Pt MOL     1       0.000  -5.880   1.960  1.00  0.00          PT  \nATOM    350   Pt MOL     1       1.960  -7.840   1.960  1.00  0.00          PT  \nATOM    351   Pt MOL     1       1.960  -5.880   0.000  1.00  0.00          PT  \nATOM    352   Pt MOL     1       0.000  -7.840   3.920  1.00  0.00          PT  \nATOM    353   Pt MOL     1       0.000  -5.880   5.880  1.00  0.00          PT  \nATOM    354   Pt MOL     1       1.960  -7.840   5.880  1.00  0.00          PT  \nATOM    355   Pt MOL     1       1.960  -5.880   3.920  1.00  0.00          PT  \nATOM    356   Pt MOL     1       0.000  -7.840   7.840  1.00  0.00          PT  \nATOM    357   Pt MOL     1       0.000  -5.880   9.800  1.00  0.00          PT  \nATOM    358   Pd MOL     1       1.960  -7.840   9.800  1.00  0.00          PD  \nATOM    359   Pt MOL     1       1.960  -5.880   7.840  1.00  0.00          PT  \nATOM    360   Pd MOL     1       0.000  -7.840  11.760  1.00  0.00          PD  \nATOM    361   Pd MOL     1       1.960  -5.880  11.760  1.00  0.00          PD  \nATOM    362   Pd MOL     1       0.000  -3.920 -11.760  1.00  0.00          PD  \nATOM    363   Pt MOL     1       0.000  -1.960  -9.800  1.00  0.00          PT  \nATOM    364   Pt MOL     1       1.960  -3.920  -9.800  1.00  0.00          PT  \nATOM    365   Pd MOL     1       1.960  -1.960 -11.760  1.00  0.00          PD  \nATOM    366   Pt MOL     1       0.000  -3.920  -7.840  1.00  0.00          PT  \nATOM    367   Pt MOL     1       0.000  -1.960  -5.880  1.00  0.00          PT  \nATOM    368   Pt MOL     1       1.960  -3.920  -5.880  1.00  0.00          PT  \nATOM    369   Pt MOL     1       1.960  -1.960  -7.840  1.00  0.00          PT  \nATOM    370   Pt MOL     1       0.000  -3.920  -3.920  1.00  0.00          PT  \nATOM    371   Pt MOL     1       0.000  -1.960  -1.960  1.00  0.00          PT  \nATOM    372   Pt MOL     1       1.960  -3.920  -1.960  1.00  0.00          PT  \nATOM    373   Pt MOL     1       1.960  -1.960  -3.920  1.00  0.00          PT  \nATOM    374   Pt MOL     1       0.000  -3.920   0.000  1.00  0.00          PT  \nATOM    375   Pt MOL     1       0.000  -1.960   1.960  1.00  0.00          PT  \nATOM    376   Pt MOL     1       1.960  -3.920   1.960  1.00  0.00          PT  \nATOM    377   Pt MOL     1       1.960  -1.960   0.000  1.00  0.00          PT  \nATOM    378   Pt MOL     1       0.000  -3.920   3.920  1.00  0.00          PT  \nATOM    379   Pt MOL     1       0.000  -1.960   5.880  1.00  0.00          PT  \nATOM    380   Pt MOL     1       1.960  -3.920   5.880  1.00  0.00          PT  \nATOM    381   Pt MOL     1       1.960  -1.960   3.920  1.00  0.00          PT  \nATOM    382   Pt MOL     1       0.000  -3.920   7.840  1.00  0.00          PT  \nATOM    383   Pt MOL     1       0.000  -1.960   9.800  1.00  0.00          PT  \nATOM    384   Pt MOL     1       1.960  -3.920   9.800  1.00  0.00          PT  \nATOM    385   Pt MOL     1       1.960  -1.960   7.840  1.00  0.00          PT  \nATOM    386   Pd MOL     1       0.000  -3.920  11.760  1.00  0.00          PD  \nATOM    387   Pd MOL     1       1.960  -1.960  11.760  1.00  0.00          PD  \nATOM    388   Pd MOL     1       0.000   0.000 -11.760  1.00  0.00          PD  \nATOM    389   Pt MOL     1       0.000   1.960  -9.800  1.00  0.00          PT  \nATOM    390   Pt MOL     1       1.960   0.000  -9.800  1.00  0.00          PT  \nATOM    391   Pd MOL     1       1.960   1.960 -11.760  1.00  0.00          PD  \nATOM    392   Pt MOL     1       0.000   0.000  -7.840  1.00  0.00          PT  \nATOM    393   Pt MOL     1       0.000   1.960  -5.880  1.00  0.00          PT  \nATOM    394   Pt MOL     1       1.960   0.000  -5.880  1.00  0.00          PT  \nATOM    395   Pt MOL     1       1.960   1.960  -7.840  1.00  0.00          PT  \nATOM    396   Pt MOL     1       0.000   0.000  -3.920  1.00  0.00          PT  \nATOM    397   Pt MOL     1       0.000   1.960  -1.960  1.00  0.00          PT  \nATOM    398   Pt MOL     1       1.960   0.000  -1.960  1.00  0.00          PT  \nATOM    399   Pt MOL     1       1.960   1.960  -3.920  1.00  0.00          PT  \nATOM    400   Pt MOL     1       0.000   0.000   0.000  1.00  0.00          PT  \nATOM    401   Pt MOL     1       0.000   1.960   1.960  1.00  0.00          PT  \nATOM    402   Pt MOL     1       1.960   0.000   1.960  1.00  0.00          PT  \nATOM    403   Pt MOL     1       1.960   1.960   0.000  1.00  0.00          PT  \nATOM    404   Pt MOL     1       0.000   0.000   3.920  1.00  0.00          PT  \nATOM    405   Pt MOL     1       0.000   1.960   5.880  1.00  0.00          PT  \nATOM    406   Pt MOL     1       1.960   0.000   5.880  1.00  0.00          PT  \nATOM    407   Pt MOL     1       1.960   1.960   3.920  1.00  0.00          PT  \nATOM    408   Pt MOL     1       0.000   0.000   7.840  1.00  0.00          PT  \nATOM    409   Pt MOL     1       0.000   1.960   9.800  1.00  0.00          PT  \nATOM    410   Pt MOL     1       1.960   0.000   9.800  1.00  0.00          PT  \nATOM    411   Pt MOL     1       1.960   1.960   7.840  1.00  0.00          PT  \nATOM    412   Pd MOL     1       0.000   0.000  11.760  1.00  0.00          PD  \nATOM    413   Pd MOL     1       1.960   1.960  11.760  1.00  0.00          PD  \nATOM    414   Pd MOL     1       0.000   3.920 -11.760  1.00  0.00          PD  \nATOM    415   Pt MOL     1       0.000   5.880  -9.800  1.00  0.00          PT  \nATOM    416   Pt MOL     1       1.960   3.920  -9.800  1.00  0.00          PT  \nATOM    417   Pd MOL     1       1.960   5.880 -11.760  1.00  0.00          PD  \nATOM    418   Pt MOL     1       0.000   3.920  -7.840  1.00  0.00          PT  \nATOM    419   Pt MOL     1       0.000   5.880  -5.880  1.00  0.00          PT  \nATOM    420   Pt MOL     1       1.960   3.920  -5.880  1.00  0.00          PT  \nATOM    421   Pt MOL     1       1.960   5.880  -7.840  1.00  0.00          PT  \nATOM    422   Pt MOL     1       0.000   3.920  -3.920  1.00  0.00          PT  \nATOM    423   Pt MOL     1       0.000   5.880  -1.960  1.00  0.00          PT  \nATOM    424   Pt MOL     1       1.960   3.920  -1.960  1.00  0.00          PT  \nATOM    425   Pt MOL     1       1.960   5.880  -3.920  1.00  0.00          PT  \nATOM    426   Pt MOL     1       0.000   3.920   0.000  1.00  0.00          PT  \nATOM    427   Pt MOL     1       0.000   5.880   1.960  1.00  0.00          PT  \nATOM    428   Pt MOL     1       1.960   3.920   1.960  1.00  0.00          PT  \nATOM    429   Pt MOL     1       1.960   5.880   0.000  1.00  0.00          PT  \nATOM    430   Pt MOL     1       0.000   3.920   3.920  1.00  0.00          PT  \nATOM    431   Pt MOL     1       0.000   5.880   5.880  1.00  0.00          PT  \nATOM    432   Pt MOL     1       1.960   3.920   5.880  1.00  0.00          PT  \nATOM    433   Pt MOL     1       1.960   5.880   3.920  1.00  0.00          PT  \nATOM    434   Pt MOL     1       0.000   3.920   7.840  1.00  0.00          PT  \nATOM    435   Pt MOL     1       0.000   5.880   9.800  1.00  0.00          PT  \nATOM    436   Pt MOL     1       1.960   3.920   9.800  1.00  0.00          PT  \nATOM    437   Pt MOL     1       1.960   5.880   7.840  1.00  0.00          PT  \nATOM    438   Pd MOL     1       0.000   3.920  11.760  1.00  0.00          PD  \nATOM    439   Pd MOL     1       1.960   5.880  11.760  1.00  0.00          PD  \nATOM    440   Pd MOL     1       0.000   7.840 -11.760  1.00  0.00          PD  \nATOM    441   Pd MOL     1       0.000   9.800  -9.800  1.00  0.00          PD  \nATOM    442   Pd MOL     1       1.960   7.840  -9.800  1.00  0.00          PD  \nATOM    443   Pt MOL     1       0.000   7.840  -7.840  1.00  0.00          PT  \nATOM    444   Pt MOL     1       0.000   9.800  -5.880  1.00  0.00          PT  \nATOM    445   Pt MOL     1       1.960   7.840  -5.880  1.00  0.00          PT  \nATOM    446   Pd MOL     1       1.960   9.800  -7.840  1.00  0.00          PD  \nATOM    447   Pt MOL     1       0.000   7.840  -3.920  1.00  0.00          PT  \nATOM    448   Pt MOL     1       0.000   9.800  -1.960  1.00  0.00          PT  \nATOM    449   Pt MOL     1       1.960   7.840  -1.960  1.00  0.00          PT  \nATOM    450   Pt MOL     1       1.960   9.800  -3.920  1.00  0.00          PT  \nATOM    451   Pt MOL     1       0.000   7.840   0.000  1.00  0.00          PT  \nATOM    452   Pt MOL     1       0.000   9.800   1.960  1.00  0.00          PT  \nATOM    453   Pt MOL     1       1.960   7.840   1.960  1.00  0.00          PT  \nATOM    454   Pt MOL     1       1.960   9.800   0.000  1.00  0.00          PT  \nATOM    455   Pt MOL     1       0.000   7.840   3.920  1.00  0.00          PT  \nATOM    456   Pt MOL     1       0.000   9.800   5.880  1.00  0.00          PT  \nATOM    457   Pt MOL     1       1.960   7.840   5.880  1.00  0.00          PT  \nATOM    458   Pt MOL     1       1.960   9.800   3.920  1.00  0.00          PT  \nATOM    459   Pt MOL     1       0.000   7.840   7.840  1.00  0.00          PT  \nATOM    460   Pd MOL     1       0.000   9.800   9.800  1.00  0.00          PD  \nATOM    461   Pd MOL     1       1.960   7.840   9.800  1.00  0.00          PD  \nATOM    462   Pd MOL     1       1.960   9.800   7.840  1.00  0.00          PD  \nATOM    463   Pd MOL     1       0.000   7.840  11.760  1.00  0.00          PD  \nATOM    464   Pd MOL     1       0.000  11.760  -7.840  1.00  0.00          PD  \nATOM    465   Pd MOL     1       1.960  11.760  -5.880  1.00  0.00          PD  \nATOM    466   Pd MOL     1       0.000  11.760  -3.920  1.00  0.00          PD  \nATOM    467   Pd MOL     1       1.960  11.760  -1.960  1.00  0.00          PD  \nATOM    468   Pd MOL     1       0.000  11.760   0.000  1.00  0.00          PD  \nATOM    469   Pd MOL     1       1.960  11.760   1.960  1.00  0.00          PD  \nATOM    470   Pd MOL     1       0.000  11.760   3.920  1.00  0.00          PD  \nATOM    471   Pd MOL     1       1.960  11.760   5.880  1.00  0.00          PD  \nATOM    472   Pd MOL     1       0.000  11.760   7.840  1.00  0.00          PD  \nATOM    473   Pd MOL     1       3.920  -9.800  -5.880  1.00  0.00          PD  \nATOM    474   Pd MOL     1       3.920 -11.760  -3.920  1.00  0.00          PD  \nATOM    475   Pt MOL     1       3.920  -9.800  -1.960  1.00  0.00          PT  \nATOM    476   Pd MOL     1       5.880 -11.760  -1.960  1.00  0.00          PD  \nATOM    477   Pd MOL     1       5.880  -9.800  -3.920  1.00  0.00          PD  \nATOM    478   Pd MOL     1       3.920 -11.760   0.000  1.00  0.00          PD  \nATOM    479   Pt MOL     1       3.920  -9.800   1.960  1.00  0.00          PT  \nATOM    480   Pd MOL     1       5.880 -11.760   1.960  1.00  0.00          PD  \nATOM    481   Pt MOL     1       5.880  -9.800   0.000  1.00  0.00          PT  \nATOM    482   Pd MOL     1       3.920 -11.760   3.920  1.00  0.00          PD  \nATOM    483   Pd MOL     1       3.920  -9.800   5.880  1.00  0.00          PD  \nATOM    484   Pd MOL     1       5.880  -9.800   3.920  1.00  0.00          PD  \nATOM    485   Pd MOL     1       3.920  -5.880  -9.800  1.00  0.00          PD  \nATOM    486   Pd MOL     1       3.920  -7.840  -7.840  1.00  0.00          PD  \nATOM    487   Pt MOL     1       3.920  -5.880  -5.880  1.00  0.00          PT  \nATOM    488   Pd MOL     1       5.880  -7.840  -5.880  1.00  0.00          PD  \nATOM    489   Pd MOL     1       5.880  -5.880  -7.840  1.00  0.00          PD  \nATOM    490   Pt MOL     1       3.920  -7.840  -3.920  1.00  0.00          PT  \nATOM    491   Pt MOL     1       3.920  -5.880  -1.960  1.00  0.00          PT  \nATOM    492   Pt MOL     1       5.880  -7.840  -1.960  1.00  0.00          PT  \nATOM    493   Pt MOL     1       5.880  -5.880  -3.920  1.00  0.00          PT  \nATOM    494   Pt MOL     1       3.920  -7.840   0.000  1.00  0.00          PT  \nATOM    495   Pt MOL     1       3.920  -5.880   1.960  1.00  0.00          PT  \nATOM    496   Pt MOL     1       5.880  -7.840   1.960  1.00  0.00          PT  \nATOM    497   Pt MOL     1       5.880  -5.880   0.000  1.00  0.00          PT  \nATOM    498   Pt MOL     1       3.920  -7.840   3.920  1.00  0.00          PT  \nATOM    499   Pt MOL     1       3.920  -5.880   5.880  1.00  0.00          PT  \nATOM    500   Pd MOL     1       5.880  -7.840   5.880  1.00  0.00          PD  \nATOM    501   Pt MOL     1       5.880  -5.880   3.920  1.00  0.00          PT  \nATOM    502   Pd MOL     1       3.920  -7.840   7.840  1.00  0.00          PD  \nATOM    503   Pd MOL     1       3.920  -5.880   9.800  1.00  0.00          PD  \nATOM    504   Pd MOL     1       5.880  -5.880   7.840  1.00  0.00          PD  \nATOM    505   Pd MOL     1       3.920  -3.920 -11.760  1.00  0.00          PD  \nATOM    506   Pt MOL     1       3.920  -1.960  -9.800  1.00  0.00          PT  \nATOM    507   Pd MOL     1       5.880  -3.920  -9.800  1.00  0.00          PD  \nATOM    508   Pd MOL     1       5.880  -1.960 -11.760  1.00  0.00          PD  \nATOM    509   Pt MOL     1       3.920  -3.920  -7.840  1.00  0.00          PT  \nATOM    510   Pt MOL     1       3.920  -1.960  -5.880  1.00  0.00          PT  \nATOM    511   Pt MOL     1       5.880  -3.920  -5.880  1.00  0.00          PT  \nATOM    512   Pt MOL     1       5.880  -1.960  -7.840  1.00  0.00          PT  \nATOM    513   Pt MOL     1       3.920  -3.920  -3.920  1.00  0.00          PT  \nATOM    514   Pt MOL     1       3.920  -1.960  -1.960  1.00  0.00          PT  \nATOM    515   Pt MOL     1       5.880  -3.920  -1.960  1.00  0.00          PT  \nATOM    516   Pt MOL     1       5.880  -1.960  -3.920  1.00  0.00          PT  \nATOM    517   Pt MOL     1       3.920  -3.920   0.000  1.00  0.00          PT  \nATOM    518   Pt MOL     1       3.920  -1.960   1.960  1.00  0.00          PT  \nATOM    519   Pt MOL     1       5.880  -3.920   1.960  1.00  0.00          PT  \nATOM    520   Pt MOL     1       5.880  -1.960   0.000  1.00  0.00          PT  \nATOM    521   Pt MOL     1       3.920  -3.920   3.920  1.00  0.00          PT  \nATOM    522   Pt MOL     1       3.920  -1.960   5.880  1.00  0.00          PT  \nATOM    523   Pt MOL     1       5.880  -3.920   5.880  1.00  0.00          PT  \nATOM    524   Pt MOL     1       5.880  -1.960   3.920  1.00  0.00          PT  \nATOM    525   Pt MOL     1       3.920  -3.920   7.840  1.00  0.00          PT  \nATOM    526   Pt MOL     1       3.920  -1.960   9.800  1.00  0.00          PT  \nATOM    527   Pd MOL     1       5.880  -3.920   9.800  1.00  0.00          PD  \nATOM    528   Pt MOL     1       5.880  -1.960   7.840  1.00  0.00          PT  \nATOM    529   Pd MOL     1       3.920  -3.920  11.760  1.00  0.00          PD  \nATOM    530   Pd MOL     1       5.880  -1.960  11.760  1.00  0.00          PD  \nATOM    531   Pd MOL     1       3.920   0.000 -11.760  1.00  0.00          PD  \nATOM    532   Pt MOL     1       3.920   1.960  -9.800  1.00  0.00          PT  \nATOM    533   Pt MOL     1       5.880   0.000  -9.800  1.00  0.00          PT  \nATOM    534   Pd MOL     1       5.880   1.960 -11.760  1.00  0.00          PD  \nATOM    535   Pt MOL     1       3.920   0.000  -7.840  1.00  0.00          PT  \nATOM    536   Pt MOL     1       3.920   1.960  -5.880  1.00  0.00          PT  \nATOM    537   Pt MOL     1       5.880   0.000  -5.880  1.00  0.00          PT  \nATOM    538   Pt MOL     1       5.880   1.960  -7.840  1.00  0.00          PT  \nATOM    539   Pt MOL     1       3.920   0.000  -3.920  1.00  0.00          PT  \nATOM    540   Pt MOL     1       3.920   1.960  -1.960  1.00  0.00          PT  \nATOM    541   Pt MOL     1       5.880   0.000  -1.960  1.00  0.00          PT  \nATOM    542   Pt MOL     1       5.880   1.960  -3.920  1.00  0.00          PT  \nATOM    543   Pt MOL     1       3.920   0.000   0.000  1.00  0.00          PT  \nATOM    544   Pt MOL     1       3.920   1.960   1.960  1.00  0.00          PT  \nATOM    545   Pt MOL     1       5.880   0.000   1.960  1.00  0.00          PT  \nATOM    546   Pt MOL     1       5.880   1.960   0.000  1.00  0.00          PT  \nATOM    547   Pt MOL     1       3.920   0.000   3.920  1.00  0.00          PT  \nATOM    548   Pt MOL     1       3.920   1.960   5.880  1.00  0.00          PT  \nATOM    549   Pt MOL     1       5.880   0.000   5.880  1.00  0.00          PT  \nATOM    550   Pt MOL     1       5.880   1.960   3.920  1.00  0.00          PT  \nATOM    551   Pt MOL     1       3.920   0.000   7.840  1.00  0.00          PT  \nATOM    552   Pt MOL     1       3.920   1.960   9.800  1.00  0.00          PT  \nATOM    553   Pt MOL     1       5.880   0.000   9.800  1.00  0.00          PT  \nATOM    554   Pt MOL     1       5.880   1.960   7.840  1.00  0.00          PT  \nATOM    555   Pd MOL     1       3.920   0.000  11.760  1.00  0.00          PD  \nATOM    556   Pd MOL     1       5.880   1.960  11.760  1.00  0.00          PD  \nATOM    557   Pd MOL     1       3.920   3.920 -11.760  1.00  0.00          PD  \nATOM    558   Pd MOL     1       3.920   5.880  -9.800  1.00  0.00          PD  \nATOM    559   Pd MOL     1       5.880   3.920  -9.800  1.00  0.00          PD  \nATOM    560   Pt MOL     1       3.920   3.920  -7.840  1.00  0.00          PT  \nATOM    561   Pt MOL     1       3.920   5.880  -5.880  1.00  0.00          PT  \nATOM    562   Pt MOL     1       5.880   3.920  -5.880  1.00  0.00          PT  \nATOM    563   Pd MOL     1       5.880   5.880  -7.840  1.00  0.00          PD  \nATOM    564   Pt MOL     1       3.920   3.920  -3.920  1.00  0.00          PT  \nATOM    565   Pt MOL     1       3.920   5.880  -1.960  1.00  0.00          PT  \nATOM    566   Pt MOL     1       5.880   3.920  -1.960  1.00  0.00          PT  \nATOM    567   Pt MOL     1       5.880   5.880  -3.920  1.00  0.00          PT  \nATOM    568   Pt MOL     1       3.920   3.920   0.000  1.00  0.00          PT  \nATOM    569   Pt MOL     1       3.920   5.880   1.960  1.00  0.00          PT  \nATOM    570   Pt MOL     1       5.880   3.920   1.960  1.00  0.00          PT  \nATOM    571   Pt MOL     1       5.880   5.880   0.000  1.00  0.00          PT  \nATOM    572   Pt MOL     1       3.920   3.920   3.920  1.00  0.00          PT  \nATOM    573   Pt MOL     1       3.920   5.880   5.880  1.00  0.00          PT  \nATOM    574   Pt MOL     1       5.880   3.920   5.880  1.00  0.00          PT  \nATOM    575   Pt MOL     1       5.880   5.880   3.920  1.00  0.00          PT  \nATOM    576   Pt MOL     1       3.920   3.920   7.840  1.00  0.00          PT  \nATOM    577   Pd MOL     1       3.920   5.880   9.800  1.00  0.00          PD  \nATOM    578   Pd MOL     1       5.880   3.920   9.800  1.00  0.00          PD  \nATOM    579   Pd MOL     1       5.880   5.880   7.840  1.00  0.00          PD  \nATOM    580   Pd MOL     1       3.920   3.920  11.760  1.00  0.00          PD  \nATOM    581   Pd MOL     1       3.920   7.840  -7.840  1.00  0.00          PD  \nATOM    582   Pd MOL     1       3.920   9.800  -5.880  1.00  0.00          PD  \nATOM    583   Pd MOL     1       5.880   7.840  -5.880  1.00  0.00          PD  \nATOM    584   Pt MOL     1       3.920   7.840  -3.920  1.00  0.00          PT  \nATOM    585   Pt MOL     1       3.920   9.800  -1.960  1.00  0.00          PT  \nATOM    586   Pt MOL     1       5.880   7.840  -1.960  1.00  0.00          PT  \nATOM    587   Pd MOL     1       5.880   9.800  -3.920  1.00  0.00          PD  \nATOM    588   Pt MOL     1       3.920   7.840   0.000  1.00  0.00          PT  \nATOM    589   Pt MOL     1       3.920   9.800   1.960  1.00  0.00          PT  \nATOM    590   Pt MOL     1       5.880   7.840   1.960  1.00  0.00          PT  \nATOM    591   Pt MOL     1       5.880   9.800   0.000  1.00  0.00          PT  \nATOM    592   Pt MOL     1       3.920   7.840   3.920  1.00  0.00          PT  \nATOM    593   Pd MOL     1       3.920   9.800   5.880  1.00  0.00          PD  \nATOM    594   Pd MOL     1       5.880   7.840   5.880  1.00  0.00          PD  \nATOM    595   Pd MOL     1       5.880   9.800   3.920  1.00  0.00          PD  \nATOM    596   Pd MOL     1       3.920   7.840   7.840  1.00  0.00          PD  \nATOM    597   Pd MOL     1       3.920  11.760  -3.920  1.00  0.00          PD  \nATOM    598   Pd MOL     1       5.880  11.760  -1.960  1.00  0.00          PD  \nATOM    599   Pd MOL     1       3.920  11.760   0.000  1.00  0.00          PD  \nATOM    600   Pd MOL     1       5.880  11.760   1.960  1.00  0.00          PD  \nATOM    601   Pd MOL     1       3.920  11.760   3.920  1.00  0.00          PD  \nATOM    602   Pd MOL     1       7.840  -9.800  -1.960  1.00  0.00          PD  \nATOM    603   Pd MOL     1       7.840 -11.760   0.000  1.00  0.00          PD  \nATOM    604   Pd MOL     1       7.840  -9.800   1.960  1.00  0.00          PD  \nATOM    605   Pd MOL     1       9.800  -9.800   0.000  1.00  0.00          PD  \nATOM    606   Pd MOL     1       7.840  -5.880  -5.880  1.00  0.00          PD  \nATOM    607   Pd MOL     1       7.840  -7.840  -3.920  1.00  0.00          PD  \nATOM    608   Pt MOL     1       7.840  -5.880  -1.960  1.00  0.00          PT  \nATOM    609   Pd MOL     1       9.800  -7.840  -1.960  1.00  0.00          PD  \nATOM    610   Pd MOL     1       9.800  -5.880  -3.920  1.00  0.00          PD  \nATOM    611   Pt MOL     1       7.840  -7.840   0.000  1.00  0.00          PT  \nATOM    612   Pt MOL     1       7.840  -5.880   1.960  1.00  0.00          PT  \nATOM    613   Pd MOL     1       9.800  -7.840   1.960  1.00  0.00          PD  \nATOM    614   Pt MOL     1       9.800  -5.880   0.000  1.00  0.00          PT  \nATOM    615   Pd MOL     1       7.840  -7.840   3.920  1.00  0.00          PD  \nATOM    616   Pd MOL     1       7.840  -5.880   5.880  1.00  0.00          PD  \nATOM    617   Pd MOL     1       9.800  -5.880   3.920  1.00  0.00          PD  \nATOM    618   Pd MOL     1       7.840  -1.960  -9.800  1.00  0.00          PD  \nATOM    619   Pd MOL     1       7.840  -3.920  -7.840  1.00  0.00          PD  \nATOM    620   Pt MOL     1       7.840  -1.960  -5.880  1.00  0.00          PT  \nATOM    621   Pd MOL     1       9.800  -3.920  -5.880  1.00  0.00          PD  \nATOM    622   Pd MOL     1       9.800  -1.960  -7.840  1.00  0.00          PD  \nATOM    623   Pt MOL     1       7.840  -3.920  -3.920  1.00  0.00          PT  \nATOM    624   Pt MOL     1       7.840  -1.960  -1.960  1.00  0.00          PT  \nATOM    625   Pt MOL     1       9.800  -3.920  -1.960  1.00  0.00          PT  \nATOM    626   Pt MOL     1       9.800  -1.960  -3.920  1.00  0.00          PT  \nATOM    627   Pt MOL     1       7.840  -3.920   0.000  1.00  0.00          PT  \nATOM    628   Pt MOL     1       7.840  -1.960   1.960  1.00  0.00          PT  \nATOM    629   Pt MOL     1       9.800  -3.920   1.960  1.00  0.00          PT  \nATOM    630   Pt MOL     1       9.800  -1.960   0.000  1.00  0.00          PT  \nATOM    631   Pt MOL     1       7.840  -3.920   3.920  1.00  0.00          PT  \nATOM    632   Pt MOL     1       7.840  -1.960   5.880  1.00  0.00          PT  \nATOM    633   Pd MOL     1       9.800  -3.920   5.880  1.00  0.00          PD  \nATOM    634   Pt MOL     1       9.800  -1.960   3.920  1.00  0.00          PT  \nATOM    635   Pd MOL     1       7.840  -3.920   7.840  1.00  0.00          PD  \nATOM    636   Pd MOL     1       7.840  -1.960   9.800  1.00  0.00          PD  \nATOM    637   Pd MOL     1       9.800  -1.960   7.840  1.00  0.00          PD  \nATOM    638   Pd MOL     1       7.840   0.000 -11.760  1.00  0.00          PD  \nATOM    639   Pd MOL     1       7.840   1.960  -9.800  1.00  0.00          PD  \nATOM    640   Pd MOL     1       9.800   0.000  -9.800  1.00  0.00          PD  \nATOM    641   Pt MOL     1       7.840   0.000  -7.840  1.00  0.00          PT  \nATOM    642   Pt MOL     1       7.840   1.960  -5.880  1.00  0.00          PT  \nATOM    643   Pt MOL     1       9.800   0.000  -5.880  1.00  0.00          PT  \nATOM    644   Pd MOL     1       9.800   1.960  -7.840  1.00  0.00          PD  \nATOM    645   Pt MOL     1       7.840   0.000  -3.920  1.00  0.00          PT  \nATOM    646   Pt MOL     1       7.840   1.960  -1.960  1.00  0.00          PT  \nATOM    647   Pt MOL     1       9.800   0.000  -1.960  1.00  0.00          PT  \nATOM    648   Pt MOL     1       9.800   1.960  -3.920  1.00  0.00          PT  \nATOM    649   Pt MOL     1       7.840   0.000   0.000  1.00  0.00          PT  \nATOM    650   Pt MOL     1       7.840   1.960   1.960  1.00  0.00          PT  \nATOM    651   Pt MOL     1       9.800   0.000   1.960  1.00  0.00          PT  \nATOM    652   Pt MOL     1       9.800   1.960   0.000  1.00  0.00          PT  \nATOM    653   Pt MOL     1       7.840   0.000   3.920  1.00  0.00          PT  \nATOM    654   Pt MOL     1       7.840   1.960   5.880  1.00  0.00          PT  \nATOM    655   Pt MOL     1       9.800   0.000   5.880  1.00  0.00          PT  \nATOM    656   Pt MOL     1       9.800   1.960   3.920  1.00  0.00          PT  \nATOM    657   Pt MOL     1       7.840   0.000   7.840  1.00  0.00          PT  \nATOM    658   Pd MOL     1       7.840   1.960   9.800  1.00  0.00          PD  \nATOM    659   Pd MOL     1       9.800   0.000   9.800  1.00  0.00          PD  \nATOM    660   Pd MOL     1       9.800   1.960   7.840  1.00  0.00          PD  \nATOM    661   Pd MOL     1       7.840   0.000  11.760  1.00  0.00          PD  \nATOM    662   Pd MOL     1       7.840   3.920  -7.840  1.00  0.00          PD  \nATOM    663   Pd MOL     1       7.840   5.880  -5.880  1.00  0.00          PD  \nATOM    664   Pd MOL     1       9.800   3.920  -5.880  1.00  0.00          PD  \nATOM    665   Pt MOL     1       7.840   3.920  -3.920  1.00  0.00          PT  \nATOM    666   Pt MOL     1       7.840   5.880  -1.960  1.00  0.00          PT  \nATOM    667   Pt MOL     1       9.800   3.920  -1.960  1.00  0.00          PT  \nATOM    668   Pd MOL     1       9.800   5.880  -3.920  1.00  0.00          PD  \nATOM    669   Pt MOL     1       7.840   3.920   0.000  1.00  0.00          PT  \nATOM    670   Pt MOL     1       7.840   5.880   1.960  1.00  0.00          PT  \nATOM    671   Pt MOL     1       9.800   3.920   1.960  1.00  0.00          PT  \nATOM    672   Pt MOL     1       9.800   5.880   0.000  1.00  0.00          PT  \nATOM    673   Pt MOL     1       7.840   3.920   3.920  1.00  0.00          PT  \nATOM    674   Pd MOL     1       7.840   5.880   5.880  1.00  0.00          PD  \nATOM    675   Pd MOL     1       9.800   3.920   5.880  1.00  0.00          PD  \nATOM    676   Pd MOL     1       9.800   5.880   3.920  1.00  0.00          PD  \nATOM    677   Pd MOL     1       7.840   3.920   7.840  1.00  0.00          PD  \nATOM    678   Pd MOL     1       7.840   7.840  -3.920  1.00  0.00          PD  \nATOM    679   Pd MOL     1       7.840   9.800  -1.960  1.00  0.00          PD  \nATOM    680   Pd MOL     1       9.800   7.840  -1.960  1.00  0.00          PD  \nATOM    681   Pt MOL     1       7.840   7.840   0.000  1.00  0.00          PT  \nATOM    682   Pd MOL     1       7.840   9.800   1.960  1.00  0.00          PD  \nATOM    683   Pd MOL     1       9.800   7.840   1.960  1.00  0.00          PD  \nATOM    684   Pd MOL     1       9.800   9.800   0.000  1.00  0.00          PD  \nATOM    685   Pd MOL     1       7.840   7.840   3.920  1.00  0.00          PD  \nATOM    686   Pd MOL     1       7.840  11.760   0.000  1.00  0.00          PD  \nATOM    687   Pd MOL     1      11.760  -5.880  -1.960  1.00  0.00          PD  \nATOM    688   Pd MOL     1      11.760  -7.840   0.000  1.00  0.00          PD  \nATOM    689   Pd MOL     1      11.760  -5.880   1.960  1.00  0.00          PD  \nATOM    690   Pd MOL     1      11.760  -1.960  -5.880  1.00  0.00          PD  \nATOM    691   Pd MOL     1      11.760  -3.920  -3.920  1.00  0.00          PD  \nATOM    692   Pd MOL     1      11.760  -1.960  -1.960  1.00  0.00          PD  \nATOM    693   Pd MOL     1      11.760  -3.920   0.000  1.00  0.00          PD  \nATOM    694   Pd MOL     1      11.760  -1.960   1.960  1.00  0.00          PD  \nATOM    695   Pd MOL     1      11.760  -3.920   3.920  1.00  0.00          PD  \nATOM    696   Pd MOL     1      11.760  -1.960   5.880  1.00  0.00          PD  \nATOM    697   Pd MOL     1      11.760   0.000  -7.840  1.00  0.00          PD  \nATOM    698   Pd MOL     1      11.760   1.960  -5.880  1.00  0.00          PD  \nATOM    699   Pd MOL     1      11.760   0.000  -3.920  1.00  0.00          PD  \nATOM    700   Pd MOL     1      11.760   1.960  -1.960  1.00  0.00          PD  \nATOM    701   Pd MOL     1      11.760   0.000   0.000  1.00  0.00          PD  \nATOM    702   Pd MOL     1      11.760   1.960   1.960  1.00  0.00          PD  \nATOM    703   Pd MOL     1      11.760   0.000   3.920  1.00  0.00          PD  \nATOM    704   Pd MOL     1      11.760   1.960   5.880  1.00  0.00          PD  \nATOM    705   Pd MOL     1      11.760   0.000   7.840  1.00  0.00          PD  \nATOM    706   Pd MOL     1      11.760   3.920  -3.920  1.00  0.00          PD  \nATOM    707   Pd MOL     1      11.760   5.880  -1.960  1.00  0.00          PD  \nATOM    708   Pd MOL     1      11.760   3.920   0.000  1.00  0.00          PD  \nATOM    709   Pd MOL     1      11.760   5.880   1.960  1.00  0.00          PD  \nATOM    710   Pd MOL     1      11.760   3.920   3.920  1.00  0.00          PD  \nATOM    711   Pd MOL     1      11.760   7.840   0.000  1.00  0.00          PD  \nENDMDL\n",
           "type": "blob"
          }
         ],
         "kwargs": {
          "defaultRepresentation": false,
          "ext": "pdb"
         },
         "methodName": "loadFile",
         "reconstruc_color_scheme": false,
         "target": "Stage",
         "type": "call_method"
        },
        {
         "args": [
          "500px",
          "500px"
         ],
         "kwargs": {},
         "methodName": "setSize",
         "reconstruc_color_scheme": false,
         "target": "Widget",
         "type": "call_method"
        },
        {
         "args": [
          "unitcell"
         ],
         "component_index": 0,
         "kwargs": {
          "sele": "all"
         },
         "methodName": "addRepresentation",
         "reconstruc_color_scheme": false,
         "target": "compList",
         "type": "call_method"
        },
        {
         "args": [
          "spacefill"
         ],
         "component_index": 0,
         "kwargs": {
          "sele": "all"
         },
         "methodName": "addRepresentation",
         "reconstruc_color_scheme": false,
         "target": "compList",
         "type": "call_method"
        },
        {
         "args": [],
         "kwargs": {
          "cameraType": "orthographic"
         },
         "methodName": "setParameters",
         "reconstruc_color_scheme": false,
         "target": "Stage",
         "type": "call_method"
        },
        {
         "args": [
          {
           "clipDist": 0
          }
         ],
         "kwargs": {},
         "methodName": "setParameters",
         "reconstruc_color_scheme": false,
         "target": "Widget",
         "type": "call_method"
        },
        {
         "args": [
          "spacefill",
          0
         ],
         "kwargs": {
          "colorScale": "rainbow",
          "colorScheme": "element",
          "radiusScale": 0.5,
          "radiusType": "covalent"
         },
         "methodName": "updateRepresentationsByName",
         "reconstruc_color_scheme": false,
         "target": "Widget",
         "type": "call_method"
        },
        {
         "args": [
          "this._Q = [[1.0, 0.0, 0.0], [0.0, 1.0, 0.0], [0.0, 0.0, 1.0]]\n    var tooltip = document.createElement('div');\n    Object.assign(tooltip.style, {\n      display: 'none',\n      position: 'fixed',\n      zIndex: 10,\n      pointerEvents: 'none',\n      backgroundColor: 'rgba( 0, 0, 0, 0.6 )',\n      color: 'lightgrey',\n      padding: '8px',\n      fontFamily: 'sans-serif'\n    });\n    document.body.appendChild(tooltip);\n\n    var that = this;\n    this.stage.mouseControls.remove('hoverPick');\n    this.stage.signals.hovered.add(function (pickingProxy) {\n      if (pickingProxy && (pickingProxy.atom || pickingProxy.bond)) {\n        var atom = pickingProxy.atom || pickingProxy.closestBondAtom\n        var mp = pickingProxy.mouse.position\n        //tooltip.innerText = atom.element + ' i=' + atom.index + ' (' + atom.x.toFixed(2) +  ', ' + atom.y.toFixed(2) +  ', ' + atom.z.toFixed(2) + ')'\n        //var pos = that._atoms_pos[atom.index]\n        var Q = that._Q\n        var pos_x = Q[0][0] * atom.x + Q[0][1] * atom.y + Q[0][2] * atom.z \n        var pos_y = Q[1][0] * atom.x + Q[1][1] * atom.y + Q[1][2] * atom.z\n        var pos_z = Q[2][0] * atom.x + Q[2][1] * atom.y + Q[2][2] * atom.z\n        tooltip.innerText = 'i=' + atom.index + ' ' + atom.element + ' (' + pos_x.toFixed(2) +  ', ' + pos_y.toFixed(2) +  ', ' + pos_z.toFixed(2) + ')'\n        tooltip.style.bottom = window.innerHeight - mp.y + 3 + 'px'\n        tooltip.style.left = mp.x + 3 + 'px'\n        tooltip.style.display = 'block'\n      } else {\n        tooltip.style.display = 'none'\n      }\n    });\n    this.stage.tooltip = tooltip;\n    "
         ],
         "kwargs": {},
         "methodName": "executeCode",
         "reconstruc_color_scheme": false,
         "target": "Widget",
         "type": "call_method"
        }
       ],
       "_ngl_original_stage_parameters": {
        "ambientColor": 14540253,
        "ambientIntensity": 0.2,
        "backgroundColor": "white",
        "cameraEyeSep": 0.3,
        "cameraFov": 40,
        "cameraType": "perspective",
        "clipDist": 10,
        "clipFar": 100,
        "clipNear": 0,
        "fogFar": 100,
        "fogNear": 50,
        "hoverTimeout": 0,
        "impostor": true,
        "lightColor": 14540253,
        "lightIntensity": 1,
        "mousePreset": "default",
        "panSpeed": 1,
        "quality": "medium",
        "rotateSpeed": 2,
        "sampleLevel": 0,
        "tooltip": true,
        "workerDefault": true,
        "zoomSpeed": 1.2
       },
       "_ngl_repr_dict": {
        "0": {
         "0": {
          "params": {
           "clipCenter": {
            "x": 0,
            "y": 0,
            "z": 0
           },
           "clipNear": 0,
           "clipRadius": 0,
           "colorMode": "hcl",
           "colorReverse": false,
           "colorScale": "",
           "colorScheme": "element",
           "colorValue": "orange",
           "defaultAssembly": "",
           "depthWrite": true,
           "diffuse": 16777215,
           "diffuseInterior": false,
           "disableImpostor": false,
           "disablePicking": false,
           "flatShaded": false,
           "interiorColor": 2236962,
           "interiorDarkening": 0,
           "lazy": false,
           "matrix": {
            "elements": [
             1,
             0,
             0,
             0,
             0,
             1,
             0,
             0,
             0,
             0,
             1,
             0,
             0,
             0,
             0,
             1
            ]
           },
           "metalness": 0,
           "opacity": 1,
           "quality": "medium",
           "radialSegments": 10,
           "radiusData": {},
           "radiusScale": 1,
           "radiusSize": 0.5,
           "radiusType": "vdw",
           "roughness": 0.4,
           "sele": "all",
           "side": "double",
           "sphereDetail": 1,
           "useInteriorColor": true,
           "visible": true,
           "wireframe": false
          },
          "type": "unitcell"
         },
         "1": {
          "params": {
           "assembly": "default",
           "clipCenter": {
            "x": 0,
            "y": 0,
            "z": 0
           },
           "clipNear": 0,
           "clipRadius": 0,
           "colorMode": "hcl",
           "colorReverse": false,
           "colorScale": "rainbow",
           "colorScheme": "element",
           "colorValue": 9474192,
           "defaultAssembly": "",
           "depthWrite": true,
           "diffuse": 16777215,
           "diffuseInterior": false,
           "disableImpostor": false,
           "disablePicking": false,
           "flatShaded": false,
           "interiorColor": 2236962,
           "interiorDarkening": 0,
           "lazy": false,
           "matrix": {
            "elements": [
             1,
             0,
             0,
             0,
             0,
             1,
             0,
             0,
             0,
             0,
             1,
             0,
             0,
             0,
             0,
             1
            ]
           },
           "metalness": 0,
           "opacity": 1,
           "quality": "medium",
           "radiusData": {},
           "radiusScale": 0.5,
           "radiusSize": 1,
           "radiusType": "covalent",
           "roughness": 0.4,
           "sele": "all",
           "side": "double",
           "sphereDetail": 1,
           "useInteriorColor": true,
           "visible": true,
           "wireframe": false
          },
          "type": "spacefill"
         }
        }
       },
       "_ngl_serialize": false,
       "_ngl_version": "2.0.0-dev.36",
       "_ngl_view_id": [
        "9BE5E365-0E81-430E-A1ED-34AD7324294B"
       ],
       "_player_dict": {},
       "_scene_position": {},
       "_scene_rotation": {},
       "_synced_model_ids": [],
       "_synced_repr_model_ids": [],
       "_view_height": "",
       "_view_width": "",
       "background": "white",
       "frame": 0,
       "gui_style": null,
       "layout": "IPY_MODEL_b4427a63738c4e19a7e7cb114692795f",
       "max_frame": 0,
       "n_components": 1,
       "picked": {}
      }
     },
     "9c1a161f32ac4a72959f7a256a9b35a7": {
      "model_module": "@jupyter-widgets/controls",
      "model_module_version": "1.5.0",
      "model_name": "IntSliderModel",
      "state": {
       "layout": "IPY_MODEL_ab6ad543004f4fbb890182758b6236af",
       "max": 0,
       "style": "IPY_MODEL_855a9e6c79514609b225f0ff411ec76c"
      }
     },
     "9c8a821316124cff803bf85cd2f0ed72": {
      "model_module": "@jupyter-widgets/controls",
      "model_module_version": "1.5.0",
      "model_name": "ButtonModel",
      "state": {
       "description": "Save image",
       "layout": "IPY_MODEL_b05e5b5f435d4a89a8c82c01401bf03c",
       "style": "IPY_MODEL_aeb956b097584f75b34f5fde2c96df0e",
       "tooltip": "Save current frame to file.\nCurrently .png and .html are supported.\nIt takes a bit time, please be patient."
      }
     },
     "9d0e70d00f074391a26ef76195355b44": {
      "model_module": "@jupyter-widgets/controls",
      "model_module_version": "1.5.0",
      "model_name": "ButtonModel",
      "state": {
       "icon": "compress",
       "layout": "IPY_MODEL_0bdda308b68e4bff983712b506b2167c",
       "style": "IPY_MODEL_1b9343517ffa4e6c9ba74b7c3acab0b4"
      }
     },
     "9d1476e042394af78f5afea0a2f5dd03": {
      "model_module": "@jupyter-widgets/controls",
      "model_module_version": "1.5.0",
      "model_name": "SliderStyleModel",
      "state": {
       "description_width": ""
      }
     },
     "9dd0114525c34b239c541f8b1f673e5a": {
      "model_module": "@jupyter-widgets/base",
      "model_module_version": "1.2.0",
      "model_name": "LayoutModel",
      "state": {}
     },
     "9e2c6445c2e348e49d76046d9c8452f3": {
      "model_module": "@jupyter-widgets/base",
      "model_module_version": "1.2.0",
      "model_name": "LayoutModel",
      "state": {}
     },
     "9e6c55617f5c4213aec2c3b9e536bf3e": {
      "model_module": "@jupyter-widgets/base",
      "model_module_version": "1.2.0",
      "model_name": "LayoutModel",
      "state": {
       "border": "0px solid black"
      }
     },
     "9ea293b654e64288a659ba9099777481": {
      "model_module": "@jupyter-widgets/controls",
      "model_module_version": "1.5.0",
      "model_name": "ButtonStyleModel",
      "state": {}
     },
     "9ed04f870f8f4094a6946e53f2432f8b": {
      "model_module": "@jupyter-widgets/base",
      "model_module_version": "1.2.0",
      "model_name": "LayoutModel",
      "state": {}
     },
     "9ee30269a98c484fb868c42aaa9bb0a1": {
      "model_module": "@jupyter-widgets/controls",
      "model_module_version": "1.5.0",
      "model_name": "ButtonModel",
      "state": {
       "icon": "compress",
       "layout": "IPY_MODEL_57b76bb457b843d8b6bdd4034a8a12cc",
       "style": "IPY_MODEL_a1f79ff3906040b18c9715238d90ac9d"
      }
     },
     "9ef4f32b62cc4b24ad121af973d5ddf9": {
      "model_module": "@jupyter-widgets/base",
      "model_module_version": "1.2.0",
      "model_name": "LayoutModel",
      "state": {}
     },
     "9fb1a3b3d9b54bd2af421ee032d572c1": {
      "model_module": "@jupyter-widgets/base",
      "model_module_version": "1.2.0",
      "model_name": "LayoutModel",
      "state": {}
     },
     "9fc9a4f37ea8435495f992bbafbc50f2": {
      "model_module": "@jupyter-widgets/controls",
      "model_module_version": "1.5.0",
      "model_name": "HBoxModel",
      "state": {
       "children": [
        "IPY_MODEL_79c31297bda141a3bf27aa8661b98543",
        "IPY_MODEL_f461599251ce4ec6b111226acb8b4b01"
       ],
       "layout": "IPY_MODEL_0ae8023cd86b43ca9aa7dd056f5ff9e6"
      }
     },
     "9fd6fd1a31b14d4f8a51c6fb2b81e136": {
      "model_module": "@jupyter-widgets/controls",
      "model_module_version": "1.5.0",
      "model_name": "FloatSliderModel",
      "state": {
       "description": "Force scale",
       "layout": "IPY_MODEL_f7be960327ee43bda81d13371df4258b",
       "step": 0.1,
       "style": "IPY_MODEL_c22b75a15e9542e3a0c1b137fde92814",
       "value": 0.5
      }
     },
     "a182ba5cf7554e31b4b88e5bf1271334": {
      "model_module": "@jupyter-widgets/controls",
      "model_module_version": "1.5.0",
      "model_name": "SliderStyleModel",
      "state": {
       "description_width": ""
      }
     },
     "a1c96cf63cf74b8fb570c3ca47970034": {
      "model_module": "@jupyter-widgets/controls",
      "model_module_version": "1.5.0",
      "model_name": "DropdownModel",
      "state": {
       "_options_labels": [
        "All",
        "Pd",
        "Pt"
       ],
       "description": "Show",
       "index": 0,
       "layout": "IPY_MODEL_519ba7b6a62f4ff7b09c290b8fd4c781",
       "style": "IPY_MODEL_3cd1a51f825849ebb5faf5f48baf1423"
      }
     },
     "a1f79ff3906040b18c9715238d90ac9d": {
      "model_module": "@jupyter-widgets/controls",
      "model_module_version": "1.5.0",
      "model_name": "ButtonStyleModel",
      "state": {}
     },
     "a26eefb2b42147a692e8705c7833b643": {
      "model_module": "@jupyter-widgets/controls",
      "model_module_version": "1.5.0",
      "model_name": "TextModel",
      "state": {
       "description": "Filename: ",
       "layout": "IPY_MODEL_5e528f5d3e2f40929525f7a941c6412e",
       "style": "IPY_MODEL_d0a2be1c8c4844099f08c1f7483a639f",
       "value": "screenshot.png"
      }
     },
     "a39596f56de343c7962f7c23ba5c287e": {
      "model_module": "@jupyter-widgets/base",
      "model_module_version": "1.2.0",
      "model_name": "LayoutModel",
      "state": {}
     },
     "a48ad773e9004cfb9275a1529b3231b5": {
      "model_module": "@jupyter-widgets/base",
      "model_module_version": "1.2.0",
      "model_name": "LayoutModel",
      "state": {}
     },
     "a4fbfceb0ccf40bd82e003293ded15ae": {
      "model_module": "@jupyter-widgets/controls",
      "model_module_version": "1.5.0",
      "model_name": "DescriptionStyleModel",
      "state": {
       "description_width": ""
      }
     },
     "a54c2d7ce5714797ab3d30b02124220f": {
      "model_module": "@jupyter-widgets/controls",
      "model_module_version": "1.5.0",
      "model_name": "ButtonModel",
      "state": {
       "description": "Save image",
       "layout": "IPY_MODEL_db494a01dc20446889d62f2d32079acb",
       "style": "IPY_MODEL_65bb23335b064dddb5d11ffe37aa7474",
       "tooltip": "Save current frame to file.\nCurrently .png and .html are supported.\nIt takes a bit time, please be patient."
      }
     },
     "a55fd251497a47dbb29419c9c8bfe433": {
      "model_module": "@jupyter-widgets/base",
      "model_module_version": "1.2.0",
      "model_name": "LayoutModel",
      "state": {}
     },
     "a5c893ae12bd4a0b84141bc1cc3d0976": {
      "model_module": "@jupyter-widgets/base",
      "model_module_version": "1.2.0",
      "model_name": "LayoutModel",
      "state": {}
     },
     "a5eeaa23da994984be352460a84bbd59": {
      "model_module": "@jupyter-widgets/controls",
      "model_module_version": "1.5.0",
      "model_name": "DescriptionStyleModel",
      "state": {
       "description_width": ""
      }
     },
     "a67718289f244b46804861b6d0286b57": {
      "model_module": "@jupyter-widgets/base",
      "model_module_version": "1.2.0",
      "model_name": "LayoutModel",
      "state": {
       "border": "0px solid black"
      }
     },
     "a742b93c7a3041f4909c8631dd2f55bd": {
      "model_module": "@jupyter-widgets/base",
      "model_module_version": "1.2.0",
      "model_name": "LayoutModel",
      "state": {}
     },
     "a77a35586c1545c6966f1d1a2199b93c": {
      "model_module": "@jupyter-widgets/base",
      "model_module_version": "1.2.0",
      "model_name": "LayoutModel",
      "state": {}
     },
     "a862e85e546945d284a84c18c115c4cc": {
      "model_module": "@jupyter-widgets/controls",
      "model_module_version": "1.5.0",
      "model_name": "PlayModel",
      "state": {
       "layout": "IPY_MODEL_ac9536d454ac44f7938c245b41669cca",
       "max": 0,
       "style": "IPY_MODEL_9b30567f28ed4006a6720b86d026583a"
      }
     },
     "a86b1393652d4d8c95c50aa07dae3000": {
      "model_module": "@jupyter-widgets/controls",
      "model_module_version": "1.5.0",
      "model_name": "DescriptionStyleModel",
      "state": {
       "description_width": ""
      }
     },
     "a8d096b052a346e499a55eb3a107db1d": {
      "model_module": "@jupyter-widgets/controls",
      "model_module_version": "1.5.0",
      "model_name": "ButtonStyleModel",
      "state": {}
     },
     "a959aa5f33f247c287da3d58aa778225": {
      "model_module": "@jupyter-widgets/controls",
      "model_module_version": "1.5.0",
      "model_name": "DescriptionStyleModel",
      "state": {
       "description_width": ""
      }
     },
     "a99ad709090048eb9bfef8886e7312f0": {
      "model_module": "nglview-js-widgets",
      "model_module_version": "3.0.1",
      "model_name": "NGLModel",
      "state": {
       "_camera_orientation": [
        43.1345045409343,
        1.9799228299702687,
        -2.0472130930096695,
        0,
        -1.8648897126979898,
        -3.8498149683936536,
        -43.016250056476665,
        0,
        -2.1525246154924607,
        43.01110889234569,
        -3.756036139762826,
        0,
        -12.161999702453613,
        -13.006999969482422,
        -6.303500175476074,
        1
       ],
       "_camera_str": "orthographic",
       "_gui_theme": null,
       "_ibtn_fullscreen": "IPY_MODEL_5d13a3e8996643b295a53079f312d6f8",
       "_igui": null,
       "_iplayer": "IPY_MODEL_868719e3a6b14303bc2d7bd4d2908c59",
       "_ngl_color_dict": {},
       "_ngl_coordinate_resource": {},
       "_ngl_full_stage_parameters": {
        "ambientColor": 14540253,
        "ambientIntensity": 0.2,
        "backgroundColor": "white",
        "cameraEyeSep": 0.3,
        "cameraFov": 40,
        "cameraType": "orthographic",
        "clipDist": 0,
        "clipFar": 100,
        "clipNear": 0,
        "fogFar": 100,
        "fogNear": 50,
        "hoverTimeout": 0,
        "impostor": true,
        "lightColor": 14540253,
        "lightIntensity": 1,
        "mousePreset": "default",
        "panSpeed": 1,
        "quality": "medium",
        "rotateSpeed": 2,
        "sampleLevel": 0,
        "tooltip": true,
        "workerDefault": true,
        "zoomSpeed": 1.2
       },
       "_ngl_msg_archive": [
        {
         "args": [
          {
           "binary": false,
           "data": "CRYST1   25.946   27.336   27.336  90.00  90.00  90.00 P 1\nMODEL     1\nATOM      1   Sn MOL     1       1.622   3.417   4.739  1.00  0.00          SN  \nATOM      2   Sn MOL     1       1.622   0.000   1.322  1.00  0.00          SN  \nATOM      3   Sn MOL     1       0.000   3.417   1.322  1.00  0.00          SN  \nATOM      4   Sn MOL     1       0.000   0.000   4.739  1.00  0.00          SN  \nATOM      5    O MOL     1       1.622   1.322   4.739  1.00  0.00           O  \nATOM      6    O MOL     1       1.622   4.739   1.322  1.00  0.00           O  \nATOM      7    O MOL     1       1.622   5.512   4.739  1.00  0.00           O  \nATOM      8    O MOL     1       1.622   2.095   1.322  1.00  0.00           O  \nATOM      9    O MOL     1       0.000   3.417   6.061  1.00  0.00           O  \nATOM     10    O MOL     1       0.000   0.000   2.644  1.00  0.00           O  \nATOM     11    O MOL     1       0.000   3.417   3.417  1.00  0.00           O  \nATOM     12    O MOL     1       0.000   0.000   0.000  1.00  0.00           O  \nATOM     13   Sn MOL     1       1.622  10.251   4.739  1.00  0.00          SN  \nATOM     14   Sn MOL     1       1.622   6.834   1.322  1.00  0.00          SN  \nATOM     15   Sn MOL     1       0.000  10.251   1.322  1.00  0.00          SN  \nATOM     16   Sn MOL     1       0.000   6.834   4.739  1.00  0.00          SN  \nATOM     17    O MOL     1       1.622   8.156   4.739  1.00  0.00           O  \nATOM     18    O MOL     1       1.622  11.573   1.322  1.00  0.00           O  \nATOM     19    O MOL     1       1.622  12.346   4.739  1.00  0.00           O  \nATOM     20    O MOL     1       1.622   8.929   1.322  1.00  0.00           O  \nATOM     21    O MOL     1       0.000  10.251   6.061  1.00  0.00           O  \nATOM     22    O MOL     1       0.000   6.834   2.644  1.00  0.00           O  \nATOM     23    O MOL     1       0.000  10.251   3.417  1.00  0.00           O  \nATOM     24    O MOL     1       0.000   6.834   0.000  1.00  0.00           O  \nATOM     25   Sn MOL     1       4.865   3.417   4.739  1.00  0.00          SN  \nATOM     26   Sn MOL     1       4.865   0.000   1.322  1.00  0.00          SN  \nATOM     27   Sn MOL     1       3.243   3.417   1.322  1.00  0.00          SN  \nATOM     28   Sn MOL     1       3.243   0.000   4.739  1.00  0.00          SN  \nATOM     29    O MOL     1       4.865   1.322   4.739  1.00  0.00           O  \nATOM     30    O MOL     1       4.865   4.739   1.322  1.00  0.00           O  \nATOM     31    O MOL     1       4.865   5.512   4.739  1.00  0.00           O  \nATOM     32    O MOL     1       4.865   2.095   1.322  1.00  0.00           O  \nATOM     33    O MOL     1       3.243   3.417   6.061  1.00  0.00           O  \nATOM     34    O MOL     1       3.243   0.000   2.644  1.00  0.00           O  \nATOM     35    O MOL     1       3.243   3.417   3.417  1.00  0.00           O  \nATOM     36    O MOL     1       3.243   0.000   0.000  1.00  0.00           O  \nATOM     37   Sn MOL     1       4.865  10.251   4.739  1.00  0.00          SN  \nATOM     38   Sn MOL     1       4.865   6.834   1.322  1.00  0.00          SN  \nATOM     39   Sn MOL     1       3.243  10.251   1.322  1.00  0.00          SN  \nATOM     40   Sn MOL     1       3.243   6.834   4.739  1.00  0.00          SN  \nATOM     41    O MOL     1       4.865   8.156   4.739  1.00  0.00           O  \nATOM     42    O MOL     1       4.865  11.573   1.322  1.00  0.00           O  \nATOM     43    O MOL     1       4.865  12.346   4.739  1.00  0.00           O  \nATOM     44    O MOL     1       4.865   8.929   1.322  1.00  0.00           O  \nATOM     45    O MOL     1       3.243  10.251   6.061  1.00  0.00           O  \nATOM     46    O MOL     1       3.243   6.834   2.644  1.00  0.00           O  \nATOM     47    O MOL     1       3.243  10.251   3.417  1.00  0.00           O  \nATOM     48    O MOL     1       3.243   6.834   0.000  1.00  0.00           O  \nATOM     49   Sn MOL     1       8.108   3.417   4.739  1.00  0.00          SN  \nATOM     50   Sn MOL     1       8.108   0.000   1.322  1.00  0.00          SN  \nATOM     51   Sn MOL     1       6.486   3.417   1.322  1.00  0.00          SN  \nATOM     52   Sn MOL     1       6.486   0.000   4.739  1.00  0.00          SN  \nATOM     53    O MOL     1       8.108   1.322   4.739  1.00  0.00           O  \nATOM     54    O MOL     1       8.108   4.739   1.322  1.00  0.00           O  \nATOM     55    O MOL     1       8.108   5.512   4.739  1.00  0.00           O  \nATOM     56    O MOL     1       8.108   2.095   1.322  1.00  0.00           O  \nATOM     57    O MOL     1       6.486   3.417   6.061  1.00  0.00           O  \nATOM     58    O MOL     1       6.486   0.000   2.644  1.00  0.00           O  \nATOM     59    O MOL     1       6.486   3.417   3.417  1.00  0.00           O  \nATOM     60    O MOL     1       6.486   0.000   0.000  1.00  0.00           O  \nATOM     61   Sn MOL     1       8.108  10.251   4.739  1.00  0.00          SN  \nATOM     62   Sn MOL     1       8.108   6.834   1.322  1.00  0.00          SN  \nATOM     63   Sn MOL     1       6.486  10.251   1.322  1.00  0.00          SN  \nATOM     64   Sn MOL     1       6.486   6.834   4.739  1.00  0.00          SN  \nATOM     65    O MOL     1       8.108   8.156   4.739  1.00  0.00           O  \nATOM     66    O MOL     1       8.108  11.573   1.322  1.00  0.00           O  \nATOM     67    O MOL     1       8.108  12.346   4.739  1.00  0.00           O  \nATOM     68    O MOL     1       8.108   8.929   1.322  1.00  0.00           O  \nATOM     69    O MOL     1       6.486  10.251   6.061  1.00  0.00           O  \nATOM     70    O MOL     1       6.486   6.834   2.644  1.00  0.00           O  \nATOM     71    O MOL     1       6.486  10.251   3.417  1.00  0.00           O  \nATOM     72    O MOL     1       6.486   6.834   0.000  1.00  0.00           O  \nATOM     73   Sn MOL     1      11.351   3.417   4.739  1.00  0.00          SN  \nATOM     74   Sn MOL     1      11.351   0.000   1.322  1.00  0.00          SN  \nATOM     75   Sn MOL     1       9.730   3.417   1.322  1.00  0.00          SN  \nATOM     76   Sn MOL     1       9.730   0.000   4.739  1.00  0.00          SN  \nATOM     77    O MOL     1      11.351   1.322   4.739  1.00  0.00           O  \nATOM     78    O MOL     1      11.351   4.739   1.322  1.00  0.00           O  \nATOM     79    O MOL     1      11.351   5.512   4.739  1.00  0.00           O  \nATOM     80    O MOL     1      11.351   2.095   1.322  1.00  0.00           O  \nATOM     81    O MOL     1       9.730   3.417   6.061  1.00  0.00           O  \nATOM     82    O MOL     1       9.730   0.000   2.644  1.00  0.00           O  \nATOM     83    O MOL     1       9.730   3.417   3.417  1.00  0.00           O  \nATOM     84    O MOL     1       9.730   0.000   0.000  1.00  0.00           O  \nATOM     85   Sn MOL     1      11.351  10.251   4.739  1.00  0.00          SN  \nATOM     86   Sn MOL     1      11.351   6.834   1.322  1.00  0.00          SN  \nATOM     87   Sn MOL     1       9.730  10.251   1.322  1.00  0.00          SN  \nATOM     88   Sn MOL     1       9.730   6.834   4.739  1.00  0.00          SN  \nATOM     89    O MOL     1      11.351   8.156   4.739  1.00  0.00           O  \nATOM     90    O MOL     1      11.351  11.573   1.322  1.00  0.00           O  \nATOM     91    O MOL     1      11.351  12.346   4.739  1.00  0.00           O  \nATOM     92    O MOL     1      11.351   8.929   1.322  1.00  0.00           O  \nATOM     93    O MOL     1       9.730  10.251   6.061  1.00  0.00           O  \nATOM     94    O MOL     1       9.730   6.834   2.644  1.00  0.00           O  \nATOM     95    O MOL     1       9.730  10.251   3.417  1.00  0.00           O  \nATOM     96    O MOL     1       9.730   6.834   0.000  1.00  0.00           O  \nATOM     97   Sn MOL     1       1.622  17.085   4.739  1.00  0.00          SN  \nATOM     98   Sn MOL     1       1.622  13.668   1.322  1.00  0.00          SN  \nATOM     99   Sn MOL     1       0.000  17.085   1.322  1.00  0.00          SN  \nATOM    100   Sn MOL     1       0.000  13.668   4.739  1.00  0.00          SN  \nATOM    101    O MOL     1       1.622  14.990   4.739  1.00  0.00           O  \nATOM    102    O MOL     1       1.622  18.407   1.322  1.00  0.00           O  \nATOM    103    O MOL     1       1.622  19.180   4.739  1.00  0.00           O  \nATOM    104    O MOL     1       1.622  15.763   1.322  1.00  0.00           O  \nATOM    105    O MOL     1       0.000  17.085   6.061  1.00  0.00           O  \nATOM    106    O MOL     1       0.000  13.668   2.644  1.00  0.00           O  \nATOM    107    O MOL     1       0.000  17.085   3.417  1.00  0.00           O  \nATOM    108    O MOL     1       0.000  13.668   0.000  1.00  0.00           O  \nATOM    109   Sn MOL     1       1.622  23.919   4.739  1.00  0.00          SN  \nATOM    110   Sn MOL     1       1.622  20.502   1.322  1.00  0.00          SN  \nATOM    111   Sn MOL     1       0.000  23.919   1.322  1.00  0.00          SN  \nATOM    112   Sn MOL     1       0.000  20.502   4.739  1.00  0.00          SN  \nATOM    113    O MOL     1       1.622  21.824   4.739  1.00  0.00           O  \nATOM    114    O MOL     1       1.622  25.241   1.322  1.00  0.00           O  \nATOM    115    O MOL     1       1.622  26.014   4.739  1.00  0.00           O  \nATOM    116    O MOL     1       1.622  22.597   1.322  1.00  0.00           O  \nATOM    117    O MOL     1       0.000  23.919   6.061  1.00  0.00           O  \nATOM    118    O MOL     1       0.000  20.502   2.644  1.00  0.00           O  \nATOM    119    O MOL     1       0.000  23.919   3.417  1.00  0.00           O  \nATOM    120    O MOL     1       0.000  20.502   0.000  1.00  0.00           O  \nATOM    121   Sn MOL     1       4.865  17.085   4.739  1.00  0.00          SN  \nATOM    122   Sn MOL     1       4.865  13.668   1.322  1.00  0.00          SN  \nATOM    123   Sn MOL     1       3.243  17.085   1.322  1.00  0.00          SN  \nATOM    124   Sn MOL     1       3.243  13.668   4.739  1.00  0.00          SN  \nATOM    125    O MOL     1       4.865  14.990   4.739  1.00  0.00           O  \nATOM    126    O MOL     1       4.865  18.407   1.322  1.00  0.00           O  \nATOM    127    O MOL     1       4.865  19.180   4.739  1.00  0.00           O  \nATOM    128    O MOL     1       4.865  15.763   1.322  1.00  0.00           O  \nATOM    129    O MOL     1       3.243  17.085   6.061  1.00  0.00           O  \nATOM    130    O MOL     1       3.243  13.668   2.644  1.00  0.00           O  \nATOM    131    O MOL     1       3.243  17.085   3.417  1.00  0.00           O  \nATOM    132    O MOL     1       3.243  13.668   0.000  1.00  0.00           O  \nATOM    133   Sn MOL     1       4.865  23.919   4.739  1.00  0.00          SN  \nATOM    134   Sn MOL     1       4.865  20.502   1.322  1.00  0.00          SN  \nATOM    135   Sn MOL     1       3.243  23.919   1.322  1.00  0.00          SN  \nATOM    136   Sn MOL     1       3.243  20.502   4.739  1.00  0.00          SN  \nATOM    137    O MOL     1       4.865  21.824   4.739  1.00  0.00           O  \nATOM    138    O MOL     1       4.865  25.241   1.322  1.00  0.00           O  \nATOM    139    O MOL     1       4.865  26.014   4.739  1.00  0.00           O  \nATOM    140    O MOL     1       4.865  22.597   1.322  1.00  0.00           O  \nATOM    141    O MOL     1       3.243  23.919   6.061  1.00  0.00           O  \nATOM    142    O MOL     1       3.243  20.502   2.644  1.00  0.00           O  \nATOM    143    O MOL     1       3.243  23.919   3.417  1.00  0.00           O  \nATOM    144    O MOL     1       3.243  20.502   0.000  1.00  0.00           O  \nATOM    145   Sn MOL     1       8.108  17.085   4.739  1.00  0.00          SN  \nATOM    146   Sn MOL     1       8.108  13.668   1.322  1.00  0.00          SN  \nATOM    147   Sn MOL     1       6.486  17.085   1.322  1.00  0.00          SN  \nATOM    148   Sn MOL     1       6.486  13.668   4.739  1.00  0.00          SN  \nATOM    149    O MOL     1       8.108  14.990   4.739  1.00  0.00           O  \nATOM    150    O MOL     1       8.108  18.407   1.322  1.00  0.00           O  \nATOM    151    O MOL     1       8.108  19.180   4.739  1.00  0.00           O  \nATOM    152    O MOL     1       8.108  15.763   1.322  1.00  0.00           O  \nATOM    153    O MOL     1       6.486  17.085   6.061  1.00  0.00           O  \nATOM    154    O MOL     1       6.486  13.668   2.644  1.00  0.00           O  \nATOM    155    O MOL     1       6.486  17.085   3.417  1.00  0.00           O  \nATOM    156    O MOL     1       6.486  13.668   0.000  1.00  0.00           O  \nATOM    157   Sn MOL     1       8.108  23.919   4.739  1.00  0.00          SN  \nATOM    158   Sn MOL     1       8.108  20.502   1.322  1.00  0.00          SN  \nATOM    159   Sn MOL     1       6.486  23.919   1.322  1.00  0.00          SN  \nATOM    160   Sn MOL     1       6.486  20.502   4.739  1.00  0.00          SN  \nATOM    161    O MOL     1       8.108  21.824   4.739  1.00  0.00           O  \nATOM    162    O MOL     1       8.108  25.241   1.322  1.00  0.00           O  \nATOM    163    O MOL     1       8.108  26.014   4.739  1.00  0.00           O  \nATOM    164    O MOL     1       8.108  22.597   1.322  1.00  0.00           O  \nATOM    165    O MOL     1       6.486  23.919   6.061  1.00  0.00           O  \nATOM    166    O MOL     1       6.486  20.502   2.644  1.00  0.00           O  \nATOM    167    O MOL     1       6.486  23.919   3.417  1.00  0.00           O  \nATOM    168    O MOL     1       6.486  20.502   0.000  1.00  0.00           O  \nATOM    169   Sn MOL     1      11.351  17.085   4.739  1.00  0.00          SN  \nATOM    170   Sn MOL     1      11.351  13.668   1.322  1.00  0.00          SN  \nATOM    171   Sn MOL     1       9.730  17.085   1.322  1.00  0.00          SN  \nATOM    172   Sn MOL     1       9.730  13.668   4.739  1.00  0.00          SN  \nATOM    173    O MOL     1      11.351  14.990   4.739  1.00  0.00           O  \nATOM    174    O MOL     1      11.351  18.407   1.322  1.00  0.00           O  \nATOM    175    O MOL     1      11.351  19.180   4.739  1.00  0.00           O  \nATOM    176    O MOL     1      11.351  15.763   1.322  1.00  0.00           O  \nATOM    177    O MOL     1       9.730  17.085   6.061  1.00  0.00           O  \nATOM    178    O MOL     1       9.730  13.668   2.644  1.00  0.00           O  \nATOM    179    O MOL     1       9.730  17.085   3.417  1.00  0.00           O  \nATOM    180    O MOL     1       9.730  13.668   0.000  1.00  0.00           O  \nATOM    181   Sn MOL     1      11.351  23.919   4.739  1.00  0.00          SN  \nATOM    182   Sn MOL     1      11.351  20.502   1.322  1.00  0.00          SN  \nATOM    183   Sn MOL     1       9.730  23.919   1.322  1.00  0.00          SN  \nATOM    184   Sn MOL     1       9.730  20.502   4.739  1.00  0.00          SN  \nATOM    185    O MOL     1      11.351  21.824   4.739  1.00  0.00           O  \nATOM    186    O MOL     1      11.351  25.241   1.322  1.00  0.00           O  \nATOM    187    O MOL     1      11.351  26.014   4.739  1.00  0.00           O  \nATOM    188    O MOL     1      11.351  22.597   1.322  1.00  0.00           O  \nATOM    189    O MOL     1       9.730  23.919   6.061  1.00  0.00           O  \nATOM    190    O MOL     1       9.730  20.502   2.644  1.00  0.00           O  \nATOM    191    O MOL     1       9.730  23.919   3.417  1.00  0.00           O  \nATOM    192    O MOL     1       9.730  20.502   0.000  1.00  0.00           O  \nATOM    193   Sn MOL     1      14.594   3.417   4.739  1.00  0.00          SN  \nATOM    194   Sn MOL     1      14.594   0.000   1.322  1.00  0.00          SN  \nATOM    195   Sn MOL     1      12.973   3.417   1.322  1.00  0.00          SN  \nATOM    196   Sn MOL     1      12.973   0.000   4.739  1.00  0.00          SN  \nATOM    197    O MOL     1      14.594   1.322   4.739  1.00  0.00           O  \nATOM    198    O MOL     1      14.594   4.739   1.322  1.00  0.00           O  \nATOM    199    O MOL     1      14.594   5.512   4.739  1.00  0.00           O  \nATOM    200    O MOL     1      14.594   2.095   1.322  1.00  0.00           O  \nATOM    201    O MOL     1      12.973   3.417   6.061  1.00  0.00           O  \nATOM    202    O MOL     1      12.973   0.000   2.644  1.00  0.00           O  \nATOM    203    O MOL     1      12.973   3.417   3.417  1.00  0.00           O  \nATOM    204    O MOL     1      12.973   0.000   0.000  1.00  0.00           O  \nATOM    205   Sn MOL     1      14.594  10.251   4.739  1.00  0.00          SN  \nATOM    206   Sn MOL     1      14.594   6.834   1.322  1.00  0.00          SN  \nATOM    207   Sn MOL     1      12.973  10.251   1.322  1.00  0.00          SN  \nATOM    208   Sn MOL     1      12.973   6.834   4.739  1.00  0.00          SN  \nATOM    209    O MOL     1      14.594   8.156   4.739  1.00  0.00           O  \nATOM    210    O MOL     1      14.594  11.573   1.322  1.00  0.00           O  \nATOM    211    O MOL     1      14.594  12.346   4.739  1.00  0.00           O  \nATOM    212    O MOL     1      14.594   8.929   1.322  1.00  0.00           O  \nATOM    213    O MOL     1      12.973  10.251   6.061  1.00  0.00           O  \nATOM    214    O MOL     1      12.973   6.834   2.644  1.00  0.00           O  \nATOM    215    O MOL     1      12.973  10.251   3.417  1.00  0.00           O  \nATOM    216    O MOL     1      12.973   6.834   0.000  1.00  0.00           O  \nATOM    217   Sn MOL     1      17.838   3.417   4.739  1.00  0.00          SN  \nATOM    218   Sn MOL     1      17.838   0.000   1.322  1.00  0.00          SN  \nATOM    219   Sn MOL     1      16.216   3.417   1.322  1.00  0.00          SN  \nATOM    220   Sn MOL     1      16.216   0.000   4.739  1.00  0.00          SN  \nATOM    221    O MOL     1      17.838   1.322   4.739  1.00  0.00           O  \nATOM    222    O MOL     1      17.838   4.739   1.322  1.00  0.00           O  \nATOM    223    O MOL     1      17.838   5.512   4.739  1.00  0.00           O  \nATOM    224    O MOL     1      17.838   2.095   1.322  1.00  0.00           O  \nATOM    225    O MOL     1      16.216   3.417   6.061  1.00  0.00           O  \nATOM    226    O MOL     1      16.216   0.000   2.644  1.00  0.00           O  \nATOM    227    O MOL     1      16.216   3.417   3.417  1.00  0.00           O  \nATOM    228    O MOL     1      16.216   0.000   0.000  1.00  0.00           O  \nATOM    229   Sn MOL     1      17.838  10.251   4.739  1.00  0.00          SN  \nATOM    230   Sn MOL     1      17.838   6.834   1.322  1.00  0.00          SN  \nATOM    231   Sn MOL     1      16.216  10.251   1.322  1.00  0.00          SN  \nATOM    232   Sn MOL     1      16.216   6.834   4.739  1.00  0.00          SN  \nATOM    233    O MOL     1      17.838   8.156   4.739  1.00  0.00           O  \nATOM    234    O MOL     1      17.838  11.573   1.322  1.00  0.00           O  \nATOM    235    O MOL     1      17.838  12.346   4.739  1.00  0.00           O  \nATOM    236    O MOL     1      17.838   8.929   1.322  1.00  0.00           O  \nATOM    237    O MOL     1      16.216  10.251   6.061  1.00  0.00           O  \nATOM    238    O MOL     1      16.216   6.834   2.644  1.00  0.00           O  \nATOM    239    O MOL     1      16.216  10.251   3.417  1.00  0.00           O  \nATOM    240    O MOL     1      16.216   6.834   0.000  1.00  0.00           O  \nATOM    241   Sn MOL     1      21.081   3.417   4.739  1.00  0.00          SN  \nATOM    242   Sn MOL     1      21.081   0.000   1.322  1.00  0.00          SN  \nATOM    243   Sn MOL     1      19.459   3.417   1.322  1.00  0.00          SN  \nATOM    244   Sn MOL     1      19.459   0.000   4.739  1.00  0.00          SN  \nATOM    245    O MOL     1      21.081   1.322   4.739  1.00  0.00           O  \nATOM    246    O MOL     1      21.081   4.739   1.322  1.00  0.00           O  \nATOM    247    O MOL     1      21.081   5.512   4.739  1.00  0.00           O  \nATOM    248    O MOL     1      21.081   2.095   1.322  1.00  0.00           O  \nATOM    249    O MOL     1      19.459   3.417   6.061  1.00  0.00           O  \nATOM    250    O MOL     1      19.459   0.000   2.644  1.00  0.00           O  \nATOM    251    O MOL     1      19.459   3.417   3.417  1.00  0.00           O  \nATOM    252    O MOL     1      19.459   0.000   0.000  1.00  0.00           O  \nATOM    253   Sn MOL     1      21.081  10.251   4.739  1.00  0.00          SN  \nATOM    254   Sn MOL     1      21.081   6.834   1.322  1.00  0.00          SN  \nATOM    255   Sn MOL     1      19.459  10.251   1.322  1.00  0.00          SN  \nATOM    256   Sn MOL     1      19.459   6.834   4.739  1.00  0.00          SN  \nATOM    257    O MOL     1      21.081   8.156   4.739  1.00  0.00           O  \nATOM    258    O MOL     1      21.081  11.573   1.322  1.00  0.00           O  \nATOM    259    O MOL     1      21.081  12.346   4.739  1.00  0.00           O  \nATOM    260    O MOL     1      21.081   8.929   1.322  1.00  0.00           O  \nATOM    261    O MOL     1      19.459  10.251   6.061  1.00  0.00           O  \nATOM    262    O MOL     1      19.459   6.834   2.644  1.00  0.00           O  \nATOM    263    O MOL     1      19.459  10.251   3.417  1.00  0.00           O  \nATOM    264    O MOL     1      19.459   6.834   0.000  1.00  0.00           O  \nATOM    265   Sn MOL     1      24.324   3.417   4.739  1.00  0.00          SN  \nATOM    266   Sn MOL     1      24.324   0.000   1.322  1.00  0.00          SN  \nATOM    267   Sn MOL     1      22.703   3.417   1.322  1.00  0.00          SN  \nATOM    268   Sn MOL     1      22.703   0.000   4.739  1.00  0.00          SN  \nATOM    269    O MOL     1      24.324   1.322   4.739  1.00  0.00           O  \nATOM    270    O MOL     1      24.324   4.739   1.322  1.00  0.00           O  \nATOM    271    O MOL     1      24.324   5.512   4.739  1.00  0.00           O  \nATOM    272    O MOL     1      24.324   2.095   1.322  1.00  0.00           O  \nATOM    273    O MOL     1      22.703   3.417   6.061  1.00  0.00           O  \nATOM    274    O MOL     1      22.703   0.000   2.644  1.00  0.00           O  \nATOM    275    O MOL     1      22.703   3.417   3.417  1.00  0.00           O  \nATOM    276    O MOL     1      22.703   0.000   0.000  1.00  0.00           O  \nATOM    277   Sn MOL     1      24.324  10.251   4.739  1.00  0.00          SN  \nATOM    278   Sn MOL     1      24.324   6.834   1.322  1.00  0.00          SN  \nATOM    279   Sn MOL     1      22.703  10.251   1.322  1.00  0.00          SN  \nATOM    280   Sn MOL     1      22.703   6.834   4.739  1.00  0.00          SN  \nATOM    281    O MOL     1      24.324   8.156   4.739  1.00  0.00           O  \nATOM    282    O MOL     1      24.324  11.573   1.322  1.00  0.00           O  \nATOM    283    O MOL     1      24.324  12.346   4.739  1.00  0.00           O  \nATOM    284    O MOL     1      24.324   8.929   1.322  1.00  0.00           O  \nATOM    285    O MOL     1      22.703  10.251   6.061  1.00  0.00           O  \nATOM    286    O MOL     1      22.703   6.834   2.644  1.00  0.00           O  \nATOM    287    O MOL     1      22.703  10.251   3.417  1.00  0.00           O  \nATOM    288    O MOL     1      22.703   6.834   0.000  1.00  0.00           O  \nATOM    289   Sn MOL     1      14.594  17.085   4.739  1.00  0.00          SN  \nATOM    290   Sn MOL     1      14.594  13.668   1.322  1.00  0.00          SN  \nATOM    291   Sn MOL     1      12.973  17.085   1.322  1.00  0.00          SN  \nATOM    292   Sn MOL     1      12.973  13.668   4.739  1.00  0.00          SN  \nATOM    293    O MOL     1      14.594  14.990   4.739  1.00  0.00           O  \nATOM    294    O MOL     1      14.594  18.407   1.322  1.00  0.00           O  \nATOM    295    O MOL     1      14.594  19.180   4.739  1.00  0.00           O  \nATOM    296    O MOL     1      14.594  15.763   1.322  1.00  0.00           O  \nATOM    297    O MOL     1      12.973  17.085   6.061  1.00  0.00           O  \nATOM    298    O MOL     1      12.973  13.668   2.644  1.00  0.00           O  \nATOM    299    O MOL     1      12.973  17.085   3.417  1.00  0.00           O  \nATOM    300    O MOL     1      12.973  13.668   0.000  1.00  0.00           O  \nATOM    301   Sn MOL     1      14.594  23.919   4.739  1.00  0.00          SN  \nATOM    302   Sn MOL     1      14.594  20.502   1.322  1.00  0.00          SN  \nATOM    303   Sn MOL     1      12.973  23.919   1.322  1.00  0.00          SN  \nATOM    304   Sn MOL     1      12.973  20.502   4.739  1.00  0.00          SN  \nATOM    305    O MOL     1      14.594  21.824   4.739  1.00  0.00           O  \nATOM    306    O MOL     1      14.594  25.241   1.322  1.00  0.00           O  \nATOM    307    O MOL     1      14.594  26.014   4.739  1.00  0.00           O  \nATOM    308    O MOL     1      14.594  22.597   1.322  1.00  0.00           O  \nATOM    309    O MOL     1      12.973  23.919   6.061  1.00  0.00           O  \nATOM    310    O MOL     1      12.973  20.502   2.644  1.00  0.00           O  \nATOM    311    O MOL     1      12.973  23.919   3.417  1.00  0.00           O  \nATOM    312    O MOL     1      12.973  20.502   0.000  1.00  0.00           O  \nATOM    313   Sn MOL     1      17.838  17.085   4.739  1.00  0.00          SN  \nATOM    314   Sn MOL     1      17.838  13.668   1.322  1.00  0.00          SN  \nATOM    315   Sn MOL     1      16.216  17.085   1.322  1.00  0.00          SN  \nATOM    316   Sn MOL     1      16.216  13.668   4.739  1.00  0.00          SN  \nATOM    317    O MOL     1      17.838  14.990   4.739  1.00  0.00           O  \nATOM    318    O MOL     1      17.838  18.407   1.322  1.00  0.00           O  \nATOM    319    O MOL     1      17.838  19.180   4.739  1.00  0.00           O  \nATOM    320    O MOL     1      17.838  15.763   1.322  1.00  0.00           O  \nATOM    321    O MOL     1      16.216  17.085   6.061  1.00  0.00           O  \nATOM    322    O MOL     1      16.216  13.668   2.644  1.00  0.00           O  \nATOM    323    O MOL     1      16.216  17.085   3.417  1.00  0.00           O  \nATOM    324    O MOL     1      16.216  13.668   0.000  1.00  0.00           O  \nATOM    325   Sn MOL     1      17.838  23.919   4.739  1.00  0.00          SN  \nATOM    326   Sn MOL     1      17.838  20.502   1.322  1.00  0.00          SN  \nATOM    327   Sn MOL     1      16.216  23.919   1.322  1.00  0.00          SN  \nATOM    328   Sn MOL     1      16.216  20.502   4.739  1.00  0.00          SN  \nATOM    329    O MOL     1      17.838  21.824   4.739  1.00  0.00           O  \nATOM    330    O MOL     1      17.838  25.241   1.322  1.00  0.00           O  \nATOM    331    O MOL     1      17.838  26.014   4.739  1.00  0.00           O  \nATOM    332    O MOL     1      17.838  22.597   1.322  1.00  0.00           O  \nATOM    333    O MOL     1      16.216  23.919   6.061  1.00  0.00           O  \nATOM    334    O MOL     1      16.216  20.502   2.644  1.00  0.00           O  \nATOM    335    O MOL     1      16.216  23.919   3.417  1.00  0.00           O  \nATOM    336    O MOL     1      16.216  20.502   0.000  1.00  0.00           O  \nATOM    337   Sn MOL     1      21.081  17.085   4.739  1.00  0.00          SN  \nATOM    338   Sn MOL     1      21.081  13.668   1.322  1.00  0.00          SN  \nATOM    339   Sn MOL     1      19.459  17.085   1.322  1.00  0.00          SN  \nATOM    340   Sn MOL     1      19.459  13.668   4.739  1.00  0.00          SN  \nATOM    341    O MOL     1      21.081  14.990   4.739  1.00  0.00           O  \nATOM    342    O MOL     1      21.081  18.407   1.322  1.00  0.00           O  \nATOM    343    O MOL     1      21.081  19.180   4.739  1.00  0.00           O  \nATOM    344    O MOL     1      21.081  15.763   1.322  1.00  0.00           O  \nATOM    345    O MOL     1      19.459  17.085   6.061  1.00  0.00           O  \nATOM    346    O MOL     1      19.459  13.668   2.644  1.00  0.00           O  \nATOM    347    O MOL     1      19.459  17.085   3.417  1.00  0.00           O  \nATOM    348    O MOL     1      19.459  13.668   0.000  1.00  0.00           O  \nATOM    349   Sn MOL     1      21.081  23.919   4.739  1.00  0.00          SN  \nATOM    350   Sn MOL     1      21.081  20.502   1.322  1.00  0.00          SN  \nATOM    351   Sn MOL     1      19.459  23.919   1.322  1.00  0.00          SN  \nATOM    352   Sn MOL     1      19.459  20.502   4.739  1.00  0.00          SN  \nATOM    353    O MOL     1      21.081  21.824   4.739  1.00  0.00           O  \nATOM    354    O MOL     1      21.081  25.241   1.322  1.00  0.00           O  \nATOM    355    O MOL     1      21.081  26.014   4.739  1.00  0.00           O  \nATOM    356    O MOL     1      21.081  22.597   1.322  1.00  0.00           O  \nATOM    357    O MOL     1      19.459  23.919   6.061  1.00  0.00           O  \nATOM    358    O MOL     1      19.459  20.502   2.644  1.00  0.00           O  \nATOM    359    O MOL     1      19.459  23.919   3.417  1.00  0.00           O  \nATOM    360    O MOL     1      19.459  20.502   0.000  1.00  0.00           O  \nATOM    361   Sn MOL     1      24.324  17.085   4.739  1.00  0.00          SN  \nATOM    362   Sn MOL     1      24.324  13.668   1.322  1.00  0.00          SN  \nATOM    363   Sn MOL     1      22.703  17.085   1.322  1.00  0.00          SN  \nATOM    364   Sn MOL     1      22.703  13.668   4.739  1.00  0.00          SN  \nATOM    365    O MOL     1      24.324  14.990   4.739  1.00  0.00           O  \nATOM    366    O MOL     1      24.324  18.407   1.322  1.00  0.00           O  \nATOM    367    O MOL     1      24.324  19.180   4.739  1.00  0.00           O  \nATOM    368    O MOL     1      24.324  15.763   1.322  1.00  0.00           O  \nATOM    369    O MOL     1      22.703  17.085   6.061  1.00  0.00           O  \nATOM    370    O MOL     1      22.703  13.668   2.644  1.00  0.00           O  \nATOM    371    O MOL     1      22.703  17.085   3.417  1.00  0.00           O  \nATOM    372    O MOL     1      22.703  13.668   0.000  1.00  0.00           O  \nATOM    373   Sn MOL     1      24.324  23.919   4.739  1.00  0.00          SN  \nATOM    374   Sn MOL     1      24.324  20.502   1.322  1.00  0.00          SN  \nATOM    375   Sn MOL     1      22.703  23.919   1.322  1.00  0.00          SN  \nATOM    376   Sn MOL     1      22.703  20.502   4.739  1.00  0.00          SN  \nATOM    377    O MOL     1      24.324  21.824   4.739  1.00  0.00           O  \nATOM    378    O MOL     1      24.324  25.241   1.322  1.00  0.00           O  \nATOM    379    O MOL     1      24.324  26.014   4.739  1.00  0.00           O  \nATOM    380    O MOL     1      24.324  22.597   1.322  1.00  0.00           O  \nATOM    381    O MOL     1      22.703  23.919   6.061  1.00  0.00           O  \nATOM    382    O MOL     1      22.703  20.502   2.644  1.00  0.00           O  \nATOM    383    O MOL     1      22.703  23.919   3.417  1.00  0.00           O  \nATOM    384    O MOL     1      22.703  20.502   0.000  1.00  0.00           O  \nATOM    385   Pt MOL     1       9.164  11.819  10.344  1.00  0.00          PT  \nATOM    386   Pt MOL     1      11.124   9.859  10.344  1.00  0.00          PT  \nATOM    387   Pt MOL     1       9.578  10.273   8.081  1.00  0.00          PT  \nATOM    388   Pt MOL     1      10.710  11.405  12.607  1.00  0.00          PT  \nATOM    389   Pt MOL     1      11.427  14.082  12.607  1.00  0.00          PT  \nATOM    390   Pt MOL     1      13.387  12.122  12.607  1.00  0.00          PT  \nATOM    391   Pt MOL     1      11.841  12.536  10.344  1.00  0.00          PT  \nATOM    392   Pt MOL     1      14.104  14.800  12.607  1.00  0.00          PT  \nATOM    393   Pt MOL     1       7.618  12.233   8.081  1.00  0.00          PT  \nATOM    394   Pt MOL     1       8.335  14.911   8.081  1.00  0.00          PT  \nATOM    395   Pt MOL     1      10.295  12.951   8.081  1.00  0.00          PT  \nATOM    396   Pt MOL     1       9.881  14.496  10.344  1.00  0.00          PT  \nATOM    397   Pt MOL     1      10.599  17.174  10.344  1.00  0.00          PT  \nATOM    398   Pt MOL     1      12.559  15.214  10.344  1.00  0.00          PT  \nATOM    399   Pt MOL     1      11.013  15.628   8.081  1.00  0.00          PT  \nATOM    400   Pt MOL     1      12.144  16.760  12.607  1.00  0.00          PT  \nATOM    401   Pt MOL     1      13.276  17.891  10.344  1.00  0.00          PT  \nATOM    402   Pt MOL     1       9.053  17.588   8.081  1.00  0.00          PT  \nATOM    403   Pt MOL     1      11.730  18.305   8.081  1.00  0.00          PT  \nATOM    404   Pt MOL     1      11.538   8.313   8.081  1.00  0.00          PT  \nATOM    405   Pt MOL     1      12.255  10.991   8.081  1.00  0.00          PT  \nATOM    406   Pt MOL     1      14.215   9.031   8.081  1.00  0.00          PT  \nATOM    407   Pt MOL     1      13.801  10.576  10.344  1.00  0.00          PT  \nATOM    408   Pt MOL     1      14.519  13.254  10.344  1.00  0.00          PT  \nATOM    409   Pt MOL     1      16.479  11.294  10.344  1.00  0.00          PT  \nATOM    410   Pt MOL     1      14.933  11.708   8.081  1.00  0.00          PT  \nATOM    411   Pt MOL     1      16.064  12.840  12.607  1.00  0.00          PT  \nATOM    412   Pt MOL     1      17.196  13.971  10.344  1.00  0.00          PT  \nATOM    413   Pt MOL     1      12.973  13.668   8.081  1.00  0.00          PT  \nATOM    414   Pt MOL     1      13.690  16.345   8.081  1.00  0.00          PT  \nATOM    415   Pt MOL     1      15.650  14.385   8.081  1.00  0.00          PT  \nATOM    416   Pt MOL     1      15.236  15.931  10.344  1.00  0.00          PT  \nATOM    417   Pt MOL     1      16.368  17.063   8.081  1.00  0.00          PT  \nATOM    418   Pt MOL     1      14.408  19.023   8.081  1.00  0.00          PT  \nATOM    419   Pt MOL     1      16.893   9.748   8.081  1.00  0.00          PT  \nATOM    420   Pt MOL     1      17.610  12.425   8.081  1.00  0.00          PT  \nATOM    421   Pt MOL     1      18.328  15.103   8.081  1.00  0.00          PT  \nENDMDL\n",
           "type": "blob"
          }
         ],
         "kwargs": {
          "defaultRepresentation": false,
          "ext": "pdb"
         },
         "methodName": "loadFile",
         "reconstruc_color_scheme": false,
         "target": "Stage",
         "type": "call_method"
        },
        {
         "args": [
          "500px",
          "500px"
         ],
         "kwargs": {},
         "methodName": "setSize",
         "reconstruc_color_scheme": false,
         "target": "Widget",
         "type": "call_method"
        },
        {
         "args": [
          "unitcell"
         ],
         "component_index": 0,
         "kwargs": {
          "sele": "all"
         },
         "methodName": "addRepresentation",
         "reconstruc_color_scheme": false,
         "target": "compList",
         "type": "call_method"
        },
        {
         "args": [
          "spacefill"
         ],
         "component_index": 0,
         "kwargs": {
          "sele": "all"
         },
         "methodName": "addRepresentation",
         "reconstruc_color_scheme": false,
         "target": "compList",
         "type": "call_method"
        },
        {
         "args": [],
         "kwargs": {
          "cameraType": "orthographic"
         },
         "methodName": "setParameters",
         "reconstruc_color_scheme": false,
         "target": "Stage",
         "type": "call_method"
        },
        {
         "args": [
          {
           "clipDist": 0
          }
         ],
         "kwargs": {},
         "methodName": "setParameters",
         "reconstruc_color_scheme": false,
         "target": "Widget",
         "type": "call_method"
        },
        {
         "args": [
          "spacefill",
          0
         ],
         "kwargs": {
          "colorScale": "rainbow",
          "colorScheme": "element",
          "radiusScale": 0.5,
          "radiusType": "covalent"
         },
         "methodName": "updateRepresentationsByName",
         "reconstruc_color_scheme": false,
         "target": "Widget",
         "type": "call_method"
        },
        {
         "args": [
          "this._Q = [[1.0, 0.0, 0.0], [0.0, 1.0, 0.0], [0.0, 0.0, 1.0]]\n    var tooltip = document.createElement('div');\n    Object.assign(tooltip.style, {\n      display: 'none',\n      position: 'fixed',\n      zIndex: 10,\n      pointerEvents: 'none',\n      backgroundColor: 'rgba( 0, 0, 0, 0.6 )',\n      color: 'lightgrey',\n      padding: '8px',\n      fontFamily: 'sans-serif'\n    });\n    document.body.appendChild(tooltip);\n\n    var that = this;\n    this.stage.mouseControls.remove('hoverPick');\n    this.stage.signals.hovered.add(function (pickingProxy) {\n      if (pickingProxy && (pickingProxy.atom || pickingProxy.bond)) {\n        var atom = pickingProxy.atom || pickingProxy.closestBondAtom\n        var mp = pickingProxy.mouse.position\n        //tooltip.innerText = atom.element + ' i=' + atom.index + ' (' + atom.x.toFixed(2) +  ', ' + atom.y.toFixed(2) +  ', ' + atom.z.toFixed(2) + ')'\n        //var pos = that._atoms_pos[atom.index]\n        var Q = that._Q\n        var pos_x = Q[0][0] * atom.x + Q[0][1] * atom.y + Q[0][2] * atom.z \n        var pos_y = Q[1][0] * atom.x + Q[1][1] * atom.y + Q[1][2] * atom.z\n        var pos_z = Q[2][0] * atom.x + Q[2][1] * atom.y + Q[2][2] * atom.z\n        tooltip.innerText = 'i=' + atom.index + ' ' + atom.element + ' (' + pos_x.toFixed(2) +  ', ' + pos_y.toFixed(2) +  ', ' + pos_z.toFixed(2) + ')'\n        tooltip.style.bottom = window.innerHeight - mp.y + 3 + 'px'\n        tooltip.style.left = mp.x + 3 + 'px'\n        tooltip.style.display = 'block'\n      } else {\n        tooltip.style.display = 'none'\n      }\n    });\n    this.stage.tooltip = tooltip;\n    "
         ],
         "kwargs": {},
         "methodName": "executeCode",
         "reconstruc_color_scheme": false,
         "target": "Widget",
         "type": "call_method"
        },
        {
         "args": [
          "ball+stick"
         ],
         "component_index": 0,
         "kwargs": {
          "sele": "all"
         },
         "methodName": "addRepresentation",
         "reconstruc_color_scheme": false,
         "target": "compList",
         "type": "call_method"
        },
        {
         "args": [
          "this._Q = [[1.0, 0.0, 0.0], [0.0, 1.0, 0.0], [0.0, 0.0, 1.0]]"
         ],
         "kwargs": {},
         "methodName": "executeCode",
         "reconstruc_color_scheme": false,
         "target": "Widget",
         "type": "call_method"
        },
        {
         "args": [
          "this._Q = [[1.0, 0.0, 0.0], [0.0, 1.0, 0.0], [0.0, 0.0, 1.0]]"
         ],
         "kwargs": {},
         "methodName": "executeCode",
         "reconstruc_color_scheme": false,
         "target": "Widget",
         "type": "call_method"
        },
        {
         "args": [
          "this._Q = [[1.0, 0.0, 0.0], [0.0, 1.0, 0.0], [0.0, 0.0, 1.0]]"
         ],
         "kwargs": {},
         "methodName": "executeCode",
         "reconstruc_color_scheme": false,
         "target": "Widget",
         "type": "call_method"
        },
        {
         "args": [
          "this._Q = [[1.0, 0.0, 0.0], [0.0, 1.0, 0.0], [0.0, 0.0, 1.0]]"
         ],
         "kwargs": {},
         "methodName": "executeCode",
         "reconstruc_color_scheme": false,
         "target": "Widget",
         "type": "call_method"
        },
        {
         "args": [
          "this._Q = [[1.0, 0.0, 0.0], [0.0, 1.0, 0.0], [0.0, 0.0, 1.0]]"
         ],
         "kwargs": {},
         "methodName": "executeCode",
         "reconstruc_color_scheme": false,
         "target": "Widget",
         "type": "call_method"
        },
        {
         "args": [
          "this._Q = [[1.0, 0.0, 0.0], [0.0, 1.0, 0.0], [0.0, 0.0, 1.0]]"
         ],
         "kwargs": {},
         "methodName": "executeCode",
         "reconstruc_color_scheme": false,
         "target": "Widget",
         "type": "call_method"
        },
        {
         "args": [
          "this._Q = [[1.0, 0.0, 0.0], [0.0, 1.0, 0.0], [0.0, 0.0, 1.0]]"
         ],
         "kwargs": {},
         "methodName": "executeCode",
         "reconstruc_color_scheme": false,
         "target": "Widget",
         "type": "call_method"
        }
       ],
       "_ngl_original_stage_parameters": {
        "ambientColor": 14540253,
        "ambientIntensity": 0.2,
        "backgroundColor": "white",
        "cameraEyeSep": 0.3,
        "cameraFov": 40,
        "cameraType": "perspective",
        "clipDist": 10,
        "clipFar": 100,
        "clipNear": 0,
        "fogFar": 100,
        "fogNear": 50,
        "hoverTimeout": 0,
        "impostor": true,
        "lightColor": 14540253,
        "lightIntensity": 1,
        "mousePreset": "default",
        "panSpeed": 1,
        "quality": "medium",
        "rotateSpeed": 2,
        "sampleLevel": 0,
        "tooltip": true,
        "workerDefault": true,
        "zoomSpeed": 1.2
       },
       "_ngl_repr_dict": {
        "0": {
         "0": {
          "params": {
           "clipCenter": {
            "x": 0,
            "y": 0,
            "z": 0
           },
           "clipNear": 0,
           "clipRadius": 0,
           "colorMode": "hcl",
           "colorReverse": false,
           "colorScale": "",
           "colorScheme": "element",
           "colorValue": "orange",
           "defaultAssembly": "",
           "depthWrite": true,
           "diffuse": 16777215,
           "diffuseInterior": false,
           "disableImpostor": false,
           "disablePicking": false,
           "flatShaded": false,
           "interiorColor": 2236962,
           "interiorDarkening": 0,
           "lazy": false,
           "matrix": {
            "elements": [
             1,
             0,
             0,
             0,
             0,
             1,
             0,
             0,
             0,
             0,
             1,
             0,
             0,
             0,
             0,
             1
            ]
           },
           "metalness": 0,
           "opacity": 1,
           "quality": "medium",
           "radialSegments": 10,
           "radiusData": {},
           "radiusScale": 1,
           "radiusSize": 0.1343229126300808,
           "radiusType": "vdw",
           "roughness": 0.4,
           "sele": "all",
           "side": "double",
           "sphereDetail": 1,
           "useInteriorColor": true,
           "visible": true,
           "wireframe": false
          },
          "type": "unitcell"
         },
         "1": {
          "params": {
           "assembly": "default",
           "clipCenter": {
            "x": 0,
            "y": 0,
            "z": 0
           },
           "clipNear": 0,
           "clipRadius": 0,
           "colorMode": "hcl",
           "colorReverse": false,
           "colorScale": "rainbow",
           "colorScheme": "element",
           "colorValue": 9474192,
           "defaultAssembly": "",
           "depthWrite": true,
           "diffuse": 16777215,
           "diffuseInterior": false,
           "disableImpostor": false,
           "disablePicking": false,
           "flatShaded": false,
           "interiorColor": 2236962,
           "interiorDarkening": 0,
           "lazy": false,
           "matrix": {
            "elements": [
             1,
             0,
             0,
             0,
             0,
             1,
             0,
             0,
             0,
             0,
             1,
             0,
             0,
             0,
             0,
             1
            ]
           },
           "metalness": 0,
           "opacity": 1,
           "quality": "medium",
           "radiusData": {},
           "radiusScale": 0.5,
           "radiusSize": 1,
           "radiusType": "covalent",
           "roughness": 0.4,
           "sele": "all",
           "side": "double",
           "sphereDetail": 1,
           "useInteriorColor": true,
           "visible": true,
           "wireframe": false
          },
          "type": "spacefill"
         },
         "2": {
          "params": {
           "aspectRatio": 2,
           "assembly": "default",
           "bondScale": 0.4,
           "bondSpacing": 1,
           "clipCenter": {
            "x": 0,
            "y": 0,
            "z": 0
           },
           "clipNear": 0,
           "clipRadius": 0,
           "colorMode": "hcl",
           "colorReverse": false,
           "colorScale": "",
           "colorScheme": "element",
           "colorValue": 9474192,
           "cylinderOnly": false,
           "defaultAssembly": "",
           "depthWrite": true,
           "diffuse": 16777215,
           "diffuseInterior": false,
           "disableImpostor": false,
           "disablePicking": false,
           "flatShaded": false,
           "interiorColor": 2236962,
           "interiorDarkening": 0,
           "lazy": false,
           "lineOnly": false,
           "linewidth": 2,
           "matrix": {
            "elements": [
             1,
             0,
             0,
             0,
             0,
             1,
             0,
             0,
             0,
             0,
             1,
             0,
             0,
             0,
             0,
             1
            ]
           },
           "metalness": 0,
           "multipleBond": "off",
           "opacity": 1,
           "openEnded": true,
           "quality": "medium",
           "radialSegments": 10,
           "radiusData": {},
           "radiusScale": 1,
           "radiusSize": 0.15,
           "radiusType": "size",
           "roughness": 0.4,
           "sele": "all",
           "side": "double",
           "sphereDetail": 1,
           "useInteriorColor": true,
           "visible": true,
           "wireframe": false
          },
          "type": "ball+stick"
         }
        }
       },
       "_ngl_serialize": false,
       "_ngl_version": "2.0.0-dev.36",
       "_ngl_view_id": [
        "CCB29CB6-70CB-4D79-BEB5-210C78FED51E"
       ],
       "_player_dict": {},
       "_scene_position": {},
       "_scene_rotation": {},
       "_synced_model_ids": [],
       "_synced_repr_model_ids": [],
       "_view_height": "",
       "_view_width": "",
       "background": "white",
       "frame": 706,
       "gui_style": null,
       "layout": "IPY_MODEL_875b55c159124d1a8de803858e54d906",
       "max_frame": 706,
       "n_components": 1,
       "picked": {}
      }
     },
     "a9cd9397a68148118292328c97710482": {
      "model_module": "@jupyter-widgets/base",
      "model_module_version": "1.2.0",
      "model_name": "LayoutModel",
      "state": {}
     },
     "aa0c81556d5f4755baef2ccaaccc5578": {
      "model_module": "@jupyter-widgets/base",
      "model_module_version": "1.2.0",
      "model_name": "LayoutModel",
      "state": {}
     },
     "aa0dff692a0845fab23356feecdecf47": {
      "model_module": "@jupyter-widgets/controls",
      "model_module_version": "1.5.0",
      "model_name": "HBoxModel",
      "state": {
       "children": [
        "IPY_MODEL_cbf108cb3e3547daa75b25eb866ab378",
        "IPY_MODEL_7011403da3aa43418aea42e94806fdca"
       ],
       "layout": "IPY_MODEL_6bc5ff5a22d84c98af3cb8af241879bb"
      }
     },
     "aa44342cb6ed4218bc11a6f616e1c1da": {
      "model_module": "@jupyter-widgets/controls",
      "model_module_version": "1.5.0",
      "model_name": "LinkModel",
      "state": {
       "source": [
        "IPY_MODEL_bd48da0a84c34af386a3a9afebd97201",
        "max"
       ],
       "target": [
        "IPY_MODEL_5678f1e3f47f46048bad6b42024e9425",
        "max_frame"
       ]
      }
     },
     "aa78c6fee7404f18a7a8f92991e04fa0": {
      "model_module": "@jupyter-widgets/controls",
      "model_module_version": "1.5.0",
      "model_name": "DescriptionStyleModel",
      "state": {
       "description_width": ""
      }
     },
     "ab6ad543004f4fbb890182758b6236af": {
      "model_module": "@jupyter-widgets/base",
      "model_module_version": "1.2.0",
      "model_name": "LayoutModel",
      "state": {}
     },
     "ab8be6235ade4883ae9d7979d1c229af": {
      "model_module": "@jupyter-widgets/controls",
      "model_module_version": "1.5.0",
      "model_name": "ButtonModel",
      "state": {
       "description": "Save image",
       "layout": "IPY_MODEL_188412a6fd54421a86fb52d7198e1f4e",
       "style": "IPY_MODEL_2122e1bcdb2f458fbf12e660e8cedf1e",
       "tooltip": "Save current frame to file.\nCurrently .png and .html are supported.\nIt takes a bit time, please be patient."
      }
     },
     "abd96a3c6e2249bbb27537ee82aa3471": {
      "model_module": "@jupyter-widgets/controls",
      "model_module_version": "1.5.0",
      "model_name": "HBoxModel",
      "state": {
       "children": [
        "IPY_MODEL_0729f505a67a4788a03e6e130ccf4169",
        "IPY_MODEL_d1afbf5542ad4cb4b3244601e53df68c"
       ],
       "layout": "IPY_MODEL_6f765b05bc5a4809b40396f4f7f93340"
      }
     },
     "ac3890036ee34bf4ab7ccfb910d22961": {
      "model_module": "@jupyter-widgets/controls",
      "model_module_version": "1.5.0",
      "model_name": "ButtonStyleModel",
      "state": {}
     },
     "ac3d84e93c044dddb4375adf2b686656": {
      "model_module": "@jupyter-widgets/controls",
      "model_module_version": "1.5.0",
      "model_name": "CheckboxModel",
      "state": {
       "description": "Show force",
       "disabled": false,
       "layout": "IPY_MODEL_f1dad71ee6d142e79cc16f040e983598",
       "style": "IPY_MODEL_5a6a6969453a4d31b67f4c8556dac846",
       "value": false
      }
     },
     "ac70420f61e94fa58c77a44613d39236": {
      "model_module": "@jupyter-widgets/controls",
      "model_module_version": "1.5.0",
      "model_name": "SliderStyleModel",
      "state": {
       "description_width": ""
      }
     },
     "ac9536d454ac44f7938c245b41669cca": {
      "model_module": "@jupyter-widgets/base",
      "model_module_version": "1.2.0",
      "model_name": "LayoutModel",
      "state": {}
     },
     "ad83a7ce4090448faef2b6b58fc38814": {
      "model_module": "@jupyter-widgets/base",
      "model_module_version": "1.2.0",
      "model_name": "LayoutModel",
      "state": {}
     },
     "ade942e66d7f42d6880a9d7063e58b4e": {
      "model_module": "@jupyter-widgets/controls",
      "model_module_version": "1.5.0",
      "model_name": "LinkModel",
      "state": {
       "source": [
        "IPY_MODEL_bf97b3f05d164348bafa9985f9a28955",
        "value"
       ],
       "target": [
        "IPY_MODEL_9c1a161f32ac4a72959f7a256a9b35a7",
        "value"
       ]
      }
     },
     "ae0b4ae5469540b4bdc6491b004545ad": {
      "model_module": "@jupyter-widgets/controls",
      "model_module_version": "1.5.0",
      "model_name": "PlayModel",
      "state": {
       "layout": "IPY_MODEL_26c97768edfd4448a5064d8180bb6ce6",
       "max": 0,
       "style": "IPY_MODEL_80e11a61730d49c2b3b8f8d2c5fe2c62"
      }
     },
     "ae0f59b91f954e388d55067ee0005bd5": {
      "model_module": "@jupyter-widgets/controls",
      "model_module_version": "1.5.0",
      "model_name": "HBoxModel",
      "state": {
       "children": [
        "IPY_MODEL_a99ad709090048eb9bfef8886e7312f0",
        "IPY_MODEL_162f7c73a852459f9a896fd33dbe7251"
       ],
       "layout": "IPY_MODEL_c32d9760e8fc4ec8ad8b52b00a16aa22"
      }
     },
     "ae13f2d84c3a4b0db285f0c7669fc460": {
      "model_module": "@jupyter-widgets/controls",
      "model_module_version": "1.5.0",
      "model_name": "ButtonStyleModel",
      "state": {}
     },
     "ae6744d3a7824183b7faba85bb91a1e2": {
      "model_module": "nglview-js-widgets",
      "model_module_version": "3.0.1",
      "model_name": "NGLModel",
      "state": {
       "_camera_orientation": [
        41.71029619196595,
        0,
        0,
        0,
        0,
        41.71029619196595,
        0,
        0,
        0,
        0,
        41.71029619196595,
        0,
        0,
        0,
        0,
        1
       ],
       "_camera_str": "orthographic",
       "_gui_theme": null,
       "_ibtn_fullscreen": "IPY_MODEL_d6b96a9797284df38c40995b6167b767",
       "_igui": null,
       "_iplayer": "IPY_MODEL_94a36117218a4429835c4936af17b4e9",
       "_ngl_color_dict": {},
       "_ngl_coordinate_resource": {},
       "_ngl_full_stage_parameters": {
        "ambientColor": 14540253,
        "ambientIntensity": 0.2,
        "backgroundColor": "white",
        "cameraEyeSep": 0.3,
        "cameraFov": 40,
        "cameraType": "orthographic",
        "clipDist": 0,
        "clipFar": 100,
        "clipNear": 0,
        "fogFar": 100,
        "fogNear": 50,
        "hoverTimeout": 0,
        "impostor": true,
        "lightColor": 14540253,
        "lightIntensity": 1,
        "mousePreset": "default",
        "panSpeed": 1,
        "quality": "medium",
        "rotateSpeed": 2,
        "sampleLevel": 0,
        "tooltip": true,
        "workerDefault": true,
        "zoomSpeed": 1.2
       },
       "_ngl_msg_archive": [
        {
         "args": [
          {
           "binary": false,
           "data": "MODEL     1\nATOM      1   Pd MOL     1      -9.671  -9.671  -0.000  1.00  0.00          PD  \nATOM      2   Pd MOL     1     -11.590  -5.852  -1.983  1.00  0.00          PD  \nATOM      3   Pd MOL     1      -9.843  -7.942  -2.143  1.00  0.00          PD  \nATOM      4   Pd MOL     1      -9.854  -6.020  -4.081  1.00  0.00          PD  \nATOM      5   Pd MOL     1     -11.491  -7.722  -0.000  1.00  0.00          PD  \nATOM      6   Pd MOL     1     -11.590  -5.852   1.983  1.00  0.00          PD  \nATOM      7   Pd MOL     1      -9.843  -7.942   2.143  1.00  0.00          PD  \nATOM      8   Pd MOL     1      -9.702  -5.838  -0.000  1.00  0.00          PD  \nATOM      9   Pd MOL     1      -9.854  -6.020   4.081  1.00  0.00          PD  \nATOM     10   Pt MOL     1     -11.590  -1.983  -5.852  1.00  0.00          PT  \nATOM     11   Pt MOL     1      -9.854  -4.081  -6.020  1.00  0.00          PT  \nATOM     12   Pd MOL     1      -9.843  -2.143  -7.942  1.00  0.00          PD  \nATOM     13   Pt MOL     1     -11.600  -3.924  -3.924  1.00  0.00          PT  \nATOM     14   Pd MOL     1     -11.798  -1.956  -1.956  1.00  0.00          PD  \nATOM     15   Pt MOL     1      -9.763  -3.887  -1.948  1.00  0.00          PT  \nATOM     16   Pt MOL     1      -9.763  -1.948  -3.887  1.00  0.00          PT  \nATOM     17   Pt MOL     1     -11.768  -3.909  -0.000  1.00  0.00          PT  \nATOM     18   Pt MOL     1     -11.798  -1.956   1.956  1.00  0.00          PT  \nATOM     19   Pd MOL     1      -9.763  -3.887   1.948  1.00  0.00          PD  \nATOM     20   Pd MOL     1      -9.837  -1.940   0.000  1.00  0.00          PD  \nATOM     21   Pd MOL     1     -11.600  -3.924   3.924  1.00  0.00          PD  \nATOM     22   Pt MOL     1     -11.590  -1.983   5.852  1.00  0.00          PT  \nATOM     23   Pt MOL     1      -9.854  -4.081   6.020  1.00  0.00          PT  \nATOM     24   Pd MOL     1      -9.763  -1.948   3.887  1.00  0.00          PD  \nATOM     25   Pt MOL     1      -9.843  -2.143   7.942  1.00  0.00          PT  \nATOM     26   Pt MOL     1      -9.671  -0.000  -9.671  1.00  0.00          PT  \nATOM     27   Pt MOL     1     -11.491  -0.000  -7.722  1.00  0.00          PT  \nATOM     28   Pd MOL     1     -11.590   1.983  -5.852  1.00  0.00          PD  \nATOM     29   Pd MOL     1      -9.702  -0.000  -5.838  1.00  0.00          PD  \nATOM     30   Pd MOL     1      -9.843   2.143  -7.942  1.00  0.00          PD  \nATOM     31   Pt MOL     1     -11.768   0.000  -3.909  1.00  0.00          PT  \nATOM     32   Pd MOL     1     -11.798   1.956  -1.956  1.00  0.00          PD  \nATOM     33   Pt MOL     1      -9.837  -0.000  -1.940  1.00  0.00          PT  \nATOM     34   Pd MOL     1      -9.763   1.948  -3.887  1.00  0.00          PD  \nATOM     35   Pd MOL     1     -11.831   0.000  -0.000  1.00  0.00          PD  \nATOM     36   Pt MOL     1     -11.798   1.956   1.956  1.00  0.00          PT  \nATOM     37   Pt MOL     1      -9.837   0.000   1.940  1.00  0.00          PT  \nATOM     38   Pd MOL     1      -9.837   1.940   0.000  1.00  0.00          PD  \nATOM     39   Pt MOL     1     -11.768   0.000   3.909  1.00  0.00          PT  \nATOM     40   Pd MOL     1     -11.590   1.983   5.852  1.00  0.00          PD  \nATOM     41   Pd MOL     1      -9.702  -0.000   5.838  1.00  0.00          PD  \nATOM     42   Pt MOL     1      -9.763   1.948   3.887  1.00  0.00          PT  \nATOM     43   Pd MOL     1     -11.491   0.000   7.722  1.00  0.00          PD  \nATOM     44   Pd MOL     1      -9.671  -0.000   9.671  1.00  0.00          PD  \nATOM     45   Pt MOL     1      -9.843   2.143   7.942  1.00  0.00          PT  \nATOM     46   Pt MOL     1      -9.854   4.081  -6.020  1.00  0.00          PT  \nATOM     47   Pd MOL     1     -11.600   3.924  -3.924  1.00  0.00          PD  \nATOM     48   Pd MOL     1     -11.590   5.852  -1.983  1.00  0.00          PD  \nATOM     49   Pt MOL     1      -9.763   3.887  -1.948  1.00  0.00          PT  \nATOM     50   Pd MOL     1      -9.854   6.020  -4.081  1.00  0.00          PD  \nATOM     51   Pd MOL     1     -11.768   3.909  -0.000  1.00  0.00          PD  \nATOM     52   Pd MOL     1     -11.590   5.852   1.983  1.00  0.00          PD  \nATOM     53   Pd MOL     1      -9.763   3.887   1.948  1.00  0.00          PD  \nATOM     54   Pt MOL     1      -9.702   5.838  -0.000  1.00  0.00          PT  \nATOM     55   Pd MOL     1     -11.600   3.924   3.924  1.00  0.00          PD  \nATOM     56   Pd MOL     1      -9.854   4.081   6.020  1.00  0.00          PD  \nATOM     57   Pt MOL     1      -9.854   6.020   4.081  1.00  0.00          PT  \nATOM     58   Pt MOL     1      -9.843   7.942  -2.143  1.00  0.00          PT  \nATOM     59   Pd MOL     1     -11.491   7.722  -0.000  1.00  0.00          PD  \nATOM     60   Pt MOL     1      -9.843   7.942   2.143  1.00  0.00          PT  \nATOM     61   Pt MOL     1      -9.671   9.671  -0.000  1.00  0.00          PT  \nATOM     62   Pd MOL     1      -7.942  -9.843  -2.143  1.00  0.00          PD  \nATOM     63   Pt MOL     1      -5.852 -11.590  -1.983  1.00  0.00          PT  \nATOM     64   Pt MOL     1      -6.020  -9.854  -4.081  1.00  0.00          PT  \nATOM     65   Pd MOL     1      -7.722 -11.491  -0.000  1.00  0.00          PD  \nATOM     66   Pd MOL     1      -7.942  -9.843   2.143  1.00  0.00          PD  \nATOM     67   Pd MOL     1      -5.852 -11.590   1.983  1.00  0.00          PD  \nATOM     68   Pd MOL     1      -5.838  -9.702  -0.000  1.00  0.00          PD  \nATOM     69   Pt MOL     1      -6.020  -9.854   4.081  1.00  0.00          PT  \nATOM     70   Pt MOL     1      -7.969  -6.035  -6.035  1.00  0.00          PT  \nATOM     71   Pt MOL     1      -6.035  -7.969  -6.035  1.00  0.00          PT  \nATOM     72   Pt MOL     1      -6.035  -6.035  -7.969  1.00  0.00          PT  \nATOM     73   Pd MOL     1      -7.965  -7.965  -4.088  1.00  0.00          PD  \nATOM     74   Pd MOL     1      -7.882  -5.930  -2.037  1.00  0.00          PD  \nATOM     75   Pt MOL     1      -5.930  -7.882  -2.037  1.00  0.00          PT  \nATOM     76   Pt MOL     1      -5.971  -5.971  -4.017  1.00  0.00          PT  \nATOM     77   Pd MOL     1      -7.808  -7.808   0.000  1.00  0.00          PD  \nATOM     78   Pt MOL     1      -7.882  -5.930   2.037  1.00  0.00          PT  \nATOM     79   Pd MOL     1      -5.930  -7.882   2.037  1.00  0.00          PD  \nATOM     80   Pt MOL     1      -5.919  -5.919  -0.000  1.00  0.00          PT  \nATOM     81   Pd MOL     1      -7.965  -7.965   4.088  1.00  0.00          PD  \nATOM     82   Pd MOL     1      -7.969  -6.035   6.035  1.00  0.00          PD  \nATOM     83   Pd MOL     1      -6.035  -7.969   6.035  1.00  0.00          PD  \nATOM     84   Pd MOL     1      -5.971  -5.971   4.017  1.00  0.00          PD  \nATOM     85   Pd MOL     1      -6.035  -6.035   7.969  1.00  0.00          PD  \nATOM     86   Pd MOL     1      -7.942  -2.143  -9.843  1.00  0.00          PD  \nATOM     87   Pt MOL     1      -6.020  -4.081  -9.854  1.00  0.00          PT  \nATOM     88   Pt MOL     1      -5.852  -1.983 -11.590  1.00  0.00          PT  \nATOM     89   Pd MOL     1      -7.965  -4.088  -7.965  1.00  0.00          PD  \nATOM     90   Pt MOL     1      -7.882  -2.037  -5.930  1.00  0.00          PT  \nATOM     91   Pd MOL     1      -5.971  -4.017  -5.971  1.00  0.00          PD  \nATOM     92   Pd MOL     1      -5.930  -2.037  -7.882  1.00  0.00          PD  \nATOM     93   Pt MOL     1      -7.898  -3.988  -3.988  1.00  0.00          PT  \nATOM     94   Pd MOL     1      -7.826  -1.964  -1.964  1.00  0.00          PD  \nATOM     95   Pt MOL     1      -5.923  -3.975  -2.010  1.00  0.00          PT  \nATOM     96   Pd MOL     1      -5.923  -2.010  -3.975  1.00  0.00          PD  \nATOM     97   Pd MOL     1      -7.823  -3.930  -0.000  1.00  0.00          PD  \nATOM     98   Pt MOL     1      -7.826  -1.964   1.964  1.00  0.00          PT  \nATOM     99   Pd MOL     1      -5.923  -3.975   2.010  1.00  0.00          PD  \nATOM    100   Pd MOL     1      -5.869  -1.979   0.000  1.00  0.00          PD  \nATOM    101   Pd MOL     1      -7.898  -3.988   3.988  1.00  0.00          PD  \nATOM    102   Pt MOL     1      -7.882  -2.037   5.930  1.00  0.00          PT  \nATOM    103   Pd MOL     1      -5.971  -4.017   5.971  1.00  0.00          PD  \nATOM    104   Pd MOL     1      -5.923  -2.010   3.975  1.00  0.00          PD  \nATOM    105   Pd MOL     1      -7.965  -4.088   7.965  1.00  0.00          PD  \nATOM    106   Pd MOL     1      -7.942  -2.143   9.843  1.00  0.00          PD  \nATOM    107   Pt MOL     1      -6.020  -4.081   9.854  1.00  0.00          PT  \nATOM    108   Pd MOL     1      -5.930  -2.037   7.882  1.00  0.00          PD  \nATOM    109   Pt MOL     1      -5.852  -1.983  11.590  1.00  0.00          PT  \nATOM    110   Pt MOL     1      -7.722  -0.000 -11.491  1.00  0.00          PT  \nATOM    111   Pd MOL     1      -7.942   2.143  -9.843  1.00  0.00          PD  \nATOM    112   Pt MOL     1      -5.838  -0.000  -9.702  1.00  0.00          PT  \nATOM    113   Pt MOL     1      -5.852   1.983 -11.590  1.00  0.00          PT  \nATOM    114   Pt MOL     1      -7.808  -0.000  -7.808  1.00  0.00          PT  \nATOM    115   Pt MOL     1      -7.882   2.037  -5.930  1.00  0.00          PT  \nATOM    116   Pd MOL     1      -5.919   0.000  -5.919  1.00  0.00          PD  \nATOM    117   Pt MOL     1      -5.930   2.037  -7.882  1.00  0.00          PT  \nATOM    118   Pd MOL     1      -7.823  -0.000  -3.930  1.00  0.00          PD  \nATOM    119   Pd MOL     1      -7.826   1.964  -1.964  1.00  0.00          PD  \nATOM    120   Pd MOL     1      -5.869  -0.000  -1.979  1.00  0.00          PD  \nATOM    121   Pd MOL     1      -5.923   2.010  -3.975  1.00  0.00          PD  \nATOM    122   Pt MOL     1      -7.832  -0.000  -0.000  1.00  0.00          PT  \nATOM    123   Pd MOL     1      -7.826   1.964   1.964  1.00  0.00          PD  \nATOM    124   Pd MOL     1      -5.869  -0.000   1.979  1.00  0.00          PD  \nATOM    125   Pt MOL     1      -5.869   1.979  -0.000  1.00  0.00          PT  \nATOM    126   Pt MOL     1      -7.823  -0.000   3.930  1.00  0.00          PT  \nATOM    127   Pd MOL     1      -7.882   2.037   5.930  1.00  0.00          PD  \nATOM    128   Pt MOL     1      -5.919   0.000   5.919  1.00  0.00          PT  \nATOM    129   Pd MOL     1      -5.923   2.010   3.975  1.00  0.00          PD  \nATOM    130   Pt MOL     1      -7.808  -0.000   7.808  1.00  0.00          PT  \nATOM    131   Pt MOL     1      -7.942   2.143   9.843  1.00  0.00          PT  \nATOM    132   Pd MOL     1      -5.838  -0.000   9.702  1.00  0.00          PD  \nATOM    133   Pd MOL     1      -5.930   2.037   7.882  1.00  0.00          PD  \nATOM    134   Pd MOL     1      -7.722  -0.000  11.491  1.00  0.00          PD  \nATOM    135   Pt MOL     1      -5.852   1.983  11.590  1.00  0.00          PT  \nATOM    136   Pd MOL     1      -6.020   4.081  -9.854  1.00  0.00          PD  \nATOM    137   Pd MOL     1      -7.965   4.088  -7.965  1.00  0.00          PD  \nATOM    138   Pd MOL     1      -7.969   6.035  -6.035  1.00  0.00          PD  \nATOM    139   Pd MOL     1      -5.971   4.017  -5.971  1.00  0.00          PD  \nATOM    140   Pd MOL     1      -6.035   6.035  -7.969  1.00  0.00          PD  \nATOM    141   Pd MOL     1      -7.898   3.988  -3.988  1.00  0.00          PD  \nATOM    142   Pt MOL     1      -7.882   5.930  -2.037  1.00  0.00          PT  \nATOM    143   Pd MOL     1      -5.923   3.975  -2.010  1.00  0.00          PD  \nATOM    144   Pt MOL     1      -5.971   5.971  -4.017  1.00  0.00          PT  \nATOM    145   Pd MOL     1      -7.823   3.930   0.000  1.00  0.00          PD  \nATOM    146   Pd MOL     1      -7.882   5.930   2.037  1.00  0.00          PD  \nATOM    147   Pd MOL     1      -5.923   3.975   2.010  1.00  0.00          PD  \nATOM    148   Pt MOL     1      -5.919   5.919  -0.000  1.00  0.00          PT  \nATOM    149   Pt MOL     1      -7.898   3.988   3.988  1.00  0.00          PT  \nATOM    150   Pt MOL     1      -7.969   6.035   6.035  1.00  0.00          PT  \nATOM    151   Pd MOL     1      -5.971   4.017   5.971  1.00  0.00          PD  \nATOM    152   Pd MOL     1      -5.971   5.971   4.017  1.00  0.00          PD  \nATOM    153   Pt MOL     1      -7.965   4.088   7.965  1.00  0.00          PT  \nATOM    154   Pd MOL     1      -6.020   4.081   9.854  1.00  0.00          PD  \nATOM    155   Pd MOL     1      -6.035   6.035   7.969  1.00  0.00          PD  \nATOM    156   Pt MOL     1      -6.035   7.969  -6.035  1.00  0.00          PT  \nATOM    157   Pt MOL     1      -7.965   7.965  -4.088  1.00  0.00          PT  \nATOM    158   Pd MOL     1      -7.942   9.843  -2.143  1.00  0.00          PD  \nATOM    159   Pt MOL     1      -5.930   7.882  -2.037  1.00  0.00          PT  \nATOM    160   Pt MOL     1      -6.020   9.854  -4.081  1.00  0.00          PT  \nATOM    161   Pd MOL     1      -7.808   7.808  -0.000  1.00  0.00          PD  \nATOM    162   Pt MOL     1      -7.942   9.843   2.143  1.00  0.00          PT  \nATOM    163   Pd MOL     1      -5.930   7.882   2.037  1.00  0.00          PD  \nATOM    164   Pt MOL     1      -5.838   9.702   0.000  1.00  0.00          PT  \nATOM    165   Pd MOL     1      -7.965   7.965   4.088  1.00  0.00          PD  \nATOM    166   Pt MOL     1      -6.035   7.969   6.035  1.00  0.00          PT  \nATOM    167   Pd MOL     1      -6.020   9.854   4.081  1.00  0.00          PD  \nATOM    168   Pt MOL     1      -5.852  11.590  -1.983  1.00  0.00          PT  \nATOM    169   Pd MOL     1      -7.722  11.491   0.000  1.00  0.00          PD  \nATOM    170   Pt MOL     1      -5.852  11.590   1.983  1.00  0.00          PT  \nATOM    171   Pd MOL     1      -4.081  -9.854  -6.020  1.00  0.00          PD  \nATOM    172   Pt MOL     1      -1.983 -11.590  -5.852  1.00  0.00          PT  \nATOM    173   Pd MOL     1      -2.143  -9.843  -7.942  1.00  0.00          PD  \nATOM    174   Pd MOL     1      -3.924 -11.600  -3.924  1.00  0.00          PD  \nATOM    175   Pd MOL     1      -3.887  -9.763  -1.948  1.00  0.00          PD  \nATOM    176   Pt MOL     1      -1.956 -11.798  -1.956  1.00  0.00          PT  \nATOM    177   Pd MOL     1      -1.948  -9.763  -3.887  1.00  0.00          PD  \nATOM    178   Pd MOL     1      -3.909 -11.768   0.000  1.00  0.00          PD  \nATOM    179   Pt MOL     1      -3.887  -9.763   1.948  1.00  0.00          PT  \nATOM    180   Pt MOL     1      -1.956 -11.798   1.956  1.00  0.00          PT  \nATOM    181   Pt MOL     1      -1.940  -9.837   0.000  1.00  0.00          PT  \nATOM    182   Pd MOL     1      -3.924 -11.600   3.924  1.00  0.00          PD  \nATOM    183   Pt MOL     1      -4.081  -9.854   6.020  1.00  0.00          PT  \nATOM    184   Pt MOL     1      -1.983 -11.590   5.852  1.00  0.00          PT  \nATOM    185   Pt MOL     1      -1.948  -9.763   3.887  1.00  0.00          PT  \nATOM    186   Pd MOL     1      -2.143  -9.843   7.942  1.00  0.00          PD  \nATOM    187   Pt MOL     1      -4.081  -6.020  -9.854  1.00  0.00          PT  \nATOM    188   Pd MOL     1      -2.143  -7.942  -9.843  1.00  0.00          PD  \nATOM    189   Pt MOL     1      -1.983  -5.852 -11.590  1.00  0.00          PT  \nATOM    190   Pt MOL     1      -4.088  -7.965  -7.965  1.00  0.00          PT  \nATOM    191   Pt MOL     1      -4.017  -5.971  -5.971  1.00  0.00          PT  \nATOM    192   Pd MOL     1      -2.037  -7.882  -5.930  1.00  0.00          PD  \nATOM    193   Pt MOL     1      -2.037  -5.930  -7.882  1.00  0.00          PT  \nATOM    194   Pt MOL     1      -3.988  -7.898  -3.988  1.00  0.00          PT  \nATOM    195   Pd MOL     1      -3.975  -5.923  -2.010  1.00  0.00          PD  \nATOM    196   Pd MOL     1      -1.964  -7.826  -1.964  1.00  0.00          PD  \nATOM    197   Pd MOL     1      -2.010  -5.923  -3.975  1.00  0.00          PD  \nATOM    198   Pd MOL     1      -3.930  -7.823   0.000  1.00  0.00          PD  \nATOM    199   Pt MOL     1      -3.975  -5.923   2.010  1.00  0.00          PT  \nATOM    200   Pt MOL     1      -1.964  -7.826   1.964  1.00  0.00          PT  \nATOM    201   Pd MOL     1      -1.979  -5.869   0.000  1.00  0.00          PD  \nATOM    202   Pd MOL     1      -3.988  -7.898   3.988  1.00  0.00          PD  \nATOM    203   Pd MOL     1      -4.017  -5.971   5.971  1.00  0.00          PD  \nATOM    204   Pd MOL     1      -2.037  -7.882   5.930  1.00  0.00          PD  \nATOM    205   Pt MOL     1      -2.010  -5.923   3.975  1.00  0.00          PT  \nATOM    206   Pd MOL     1      -4.088  -7.965   7.965  1.00  0.00          PD  \nATOM    207   Pd MOL     1      -4.081  -6.020   9.854  1.00  0.00          PD  \nATOM    208   Pd MOL     1      -2.143  -7.942   9.843  1.00  0.00          PD  \nATOM    209   Pd MOL     1      -2.037  -5.930   7.882  1.00  0.00          PD  \nATOM    210   Pd MOL     1      -1.983  -5.852  11.590  1.00  0.00          PD  \nATOM    211   Pd MOL     1      -3.924  -3.924 -11.600  1.00  0.00          PD  \nATOM    212   Pt MOL     1      -3.887  -1.948  -9.763  1.00  0.00          PT  \nATOM    213   Pd MOL     1      -1.948  -3.887  -9.763  1.00  0.00          PD  \nATOM    214   Pd MOL     1      -1.956  -1.956 -11.798  1.00  0.00          PD  \nATOM    215   Pd MOL     1      -3.988  -3.988  -7.898  1.00  0.00          PD  \nATOM    216   Pt MOL     1      -3.975  -2.010  -5.923  1.00  0.00          PT  \nATOM    217   Pt MOL     1      -2.010  -3.975  -5.923  1.00  0.00          PT  \nATOM    218   Pd MOL     1      -1.964  -1.964  -7.826  1.00  0.00          PD  \nATOM    219   Pd MOL     1      -3.989  -3.989  -3.989  1.00  0.00          PD  \nATOM    220   Pd MOL     1      -3.948  -1.995  -1.995  1.00  0.00          PD  \nATOM    221   Pd MOL     1      -1.995  -3.948  -1.995  1.00  0.00          PD  \nATOM    222   Pd MOL     1      -1.995  -1.995  -3.948  1.00  0.00          PD  \nATOM    223   Pt MOL     1      -3.958  -3.958   0.000  1.00  0.00          PT  \nATOM    224   Pd MOL     1      -3.948  -1.995   1.995  1.00  0.00          PD  \nATOM    225   Pd MOL     1      -1.995  -3.948   1.995  1.00  0.00          PD  \nATOM    226   Pd MOL     1      -1.978  -1.978  -0.000  1.00  0.00          PD  \nATOM    227   Pd MOL     1      -3.989  -3.989   3.989  1.00  0.00          PD  \nATOM    228   Pd MOL     1      -3.975  -2.010   5.923  1.00  0.00          PD  \nATOM    229   Pt MOL     1      -2.010  -3.975   5.923  1.00  0.00          PT  \nATOM    230   Pt MOL     1      -1.995  -1.995   3.948  1.00  0.00          PT  \nATOM    231   Pd MOL     1      -3.988  -3.988   7.898  1.00  0.00          PD  \nATOM    232   Pt MOL     1      -3.887  -1.948   9.763  1.00  0.00          PT  \nATOM    233   Pd MOL     1      -1.948  -3.887   9.763  1.00  0.00          PD  \nATOM    234   Pt MOL     1      -1.964  -1.964   7.826  1.00  0.00          PT  \nATOM    235   Pd MOL     1      -3.924  -3.924  11.600  1.00  0.00          PD  \nATOM    236   Pt MOL     1      -1.956  -1.956  11.798  1.00  0.00          PT  \nATOM    237   Pd MOL     1      -3.909  -0.000 -11.768  1.00  0.00          PD  \nATOM    238   Pt MOL     1      -3.887   1.948  -9.763  1.00  0.00          PT  \nATOM    239   Pt MOL     1      -1.940   0.000  -9.837  1.00  0.00          PT  \nATOM    240   Pd MOL     1      -1.956   1.956 -11.798  1.00  0.00          PD  \nATOM    241   Pd MOL     1      -3.930  -0.000  -7.823  1.00  0.00          PD  \nATOM    242   Pt MOL     1      -3.975   2.010  -5.923  1.00  0.00          PT  \nATOM    243   Pt MOL     1      -1.979  -0.000  -5.869  1.00  0.00          PT  \nATOM    244   Pt MOL     1      -1.964   1.964  -7.826  1.00  0.00          PT  \nATOM    245   Pd MOL     1      -3.958   0.000  -3.958  1.00  0.00          PD  \nATOM    246   Pd MOL     1      -3.948   1.995  -1.995  1.00  0.00          PD  \nATOM    247   Pd MOL     1      -1.978   0.000  -1.978  1.00  0.00          PD  \nATOM    248   Pt MOL     1      -1.995   1.995  -3.948  1.00  0.00          PT  \nATOM    249   Pt MOL     1      -3.914  -0.000   0.000  1.00  0.00          PT  \nATOM    250   Pd MOL     1      -3.948   1.995   1.995  1.00  0.00          PD  \nATOM    251   Pd MOL     1      -1.978  -0.000   1.978  1.00  0.00          PD  \nATOM    252   Pt MOL     1      -1.978   1.978  -0.000  1.00  0.00          PT  \nATOM    253   Pt MOL     1      -3.958  -0.000   3.958  1.00  0.00          PT  \nATOM    254   Pd MOL     1      -3.975   2.010   5.923  1.00  0.00          PD  \nATOM    255   Pd MOL     1      -1.979  -0.000   5.869  1.00  0.00          PD  \nATOM    256   Pt MOL     1      -1.995   1.995   3.948  1.00  0.00          PT  \nATOM    257   Pd MOL     1      -3.930   0.000   7.823  1.00  0.00          PD  \nATOM    258   Pd MOL     1      -3.887   1.948   9.763  1.00  0.00          PD  \nATOM    259   Pd MOL     1      -1.940   0.000   9.837  1.00  0.00          PD  \nATOM    260   Pt MOL     1      -1.964   1.964   7.826  1.00  0.00          PT  \nATOM    261   Pt MOL     1      -3.909  -0.000  11.768  1.00  0.00          PT  \nATOM    262   Pt MOL     1      -1.956   1.956  11.798  1.00  0.00          PT  \nATOM    263   Pt MOL     1      -3.924   3.924 -11.600  1.00  0.00          PT  \nATOM    264   Pt MOL     1      -4.081   6.020  -9.854  1.00  0.00          PT  \nATOM    265   Pd MOL     1      -1.948   3.887  -9.763  1.00  0.00          PD  \nATOM    266   Pt MOL     1      -1.983   5.852 -11.590  1.00  0.00          PT  \nATOM    267   Pt MOL     1      -3.988   3.988  -7.898  1.00  0.00          PT  \nATOM    268   Pd MOL     1      -4.017   5.971  -5.971  1.00  0.00          PD  \nATOM    269   Pd MOL     1      -2.010   3.975  -5.923  1.00  0.00          PD  \nATOM    270   Pd MOL     1      -2.037   5.930  -7.882  1.00  0.00          PD  \nATOM    271   Pd MOL     1      -3.989   3.989  -3.989  1.00  0.00          PD  \nATOM    272   Pt MOL     1      -3.975   5.923  -2.010  1.00  0.00          PT  \nATOM    273   Pd MOL     1      -1.995   3.948  -1.995  1.00  0.00          PD  \nATOM    274   Pd MOL     1      -2.010   5.923  -3.975  1.00  0.00          PD  \nATOM    275   Pt MOL     1      -3.958   3.958  -0.000  1.00  0.00          PT  \nATOM    276   Pd MOL     1      -3.975   5.923   2.010  1.00  0.00          PD  \nATOM    277   Pd MOL     1      -1.995   3.948   1.995  1.00  0.00          PD  \nATOM    278   Pd MOL     1      -1.979   5.869   0.000  1.00  0.00          PD  \nATOM    279   Pd MOL     1      -3.989   3.989   3.989  1.00  0.00          PD  \nATOM    280   Pt MOL     1      -4.017   5.971   5.971  1.00  0.00          PT  \nATOM    281   Pt MOL     1      -2.010   3.975   5.923  1.00  0.00          PT  \nATOM    282   Pd MOL     1      -2.010   5.923   3.975  1.00  0.00          PD  \nATOM    283   Pt MOL     1      -3.988   3.988   7.898  1.00  0.00          PT  \nATOM    284   Pd MOL     1      -4.081   6.020   9.854  1.00  0.00          PD  \nATOM    285   Pt MOL     1      -1.948   3.887   9.763  1.00  0.00          PT  \nATOM    286   Pt MOL     1      -2.037   5.930   7.882  1.00  0.00          PT  \nATOM    287   Pd MOL     1      -3.924   3.924  11.600  1.00  0.00          PD  \nATOM    288   Pt MOL     1      -1.983   5.852  11.590  1.00  0.00          PT  \nATOM    289   Pd MOL     1      -2.143   7.942  -9.843  1.00  0.00          PD  \nATOM    290   Pt MOL     1      -4.088   7.965  -7.965  1.00  0.00          PT  \nATOM    291   Pd MOL     1      -4.081   9.854  -6.020  1.00  0.00          PD  \nATOM    292   Pd MOL     1      -2.037   7.882  -5.930  1.00  0.00          PD  \nATOM    293   Pt MOL     1      -2.143   9.843  -7.942  1.00  0.00          PT  \nATOM    294   Pt MOL     1      -3.988   7.898  -3.988  1.00  0.00          PT  \nATOM    295   Pt MOL     1      -3.887   9.763  -1.948  1.00  0.00          PT  \nATOM    296   Pt MOL     1      -1.964   7.826  -1.964  1.00  0.00          PT  \nATOM    297   Pd MOL     1      -1.948   9.763  -3.887  1.00  0.00          PD  \nATOM    298   Pd MOL     1      -3.930   7.823  -0.000  1.00  0.00          PD  \nATOM    299   Pt MOL     1      -3.887   9.763   1.948  1.00  0.00          PT  \nATOM    300   Pt MOL     1      -1.964   7.826   1.964  1.00  0.00          PT  \nATOM    301   Pt MOL     1      -1.940   9.837  -0.000  1.00  0.00          PT  \nATOM    302   Pt MOL     1      -3.988   7.898   3.988  1.00  0.00          PT  \nATOM    303   Pd MOL     1      -4.081   9.854   6.020  1.00  0.00          PD  \nATOM    304   Pd MOL     1      -2.037   7.882   5.930  1.00  0.00          PD  \nATOM    305   Pd MOL     1      -1.948   9.763   3.887  1.00  0.00          PD  \nATOM    306   Pd MOL     1      -4.088   7.965   7.965  1.00  0.00          PD  \nATOM    307   Pt MOL     1      -2.143   7.942   9.843  1.00  0.00          PT  \nATOM    308   Pd MOL     1      -2.143   9.843   7.942  1.00  0.00          PD  \nATOM    309   Pd MOL     1      -1.983  11.590  -5.852  1.00  0.00          PD  \nATOM    310   Pt MOL     1      -3.924  11.600  -3.924  1.00  0.00          PT  \nATOM    311   Pd MOL     1      -1.956  11.798  -1.956  1.00  0.00          PD  \nATOM    312   Pd MOL     1      -3.909  11.768   0.000  1.00  0.00          PD  \nATOM    313   Pd MOL     1      -1.956  11.798   1.956  1.00  0.00          PD  \nATOM    314   Pd MOL     1      -3.924  11.600   3.924  1.00  0.00          PD  \nATOM    315   Pd MOL     1      -1.983  11.590   5.852  1.00  0.00          PD  \nATOM    316   Pd MOL     1       0.000  -9.671  -9.671  1.00  0.00          PD  \nATOM    317   Pt MOL     1       0.000 -11.491  -7.722  1.00  0.00          PT  \nATOM    318   Pd MOL     1      -0.000  -9.702  -5.838  1.00  0.00          PD  \nATOM    319   Pt MOL     1       1.983 -11.590  -5.852  1.00  0.00          PT  \nATOM    320   Pt MOL     1       2.143  -9.843  -7.942  1.00  0.00          PT  \nATOM    321   Pt MOL     1      -0.000 -11.768  -3.909  1.00  0.00          PT  \nATOM    322   Pd MOL     1      -0.000  -9.837  -1.940  1.00  0.00          PD  \nATOM    323   Pd MOL     1       1.956 -11.798  -1.956  1.00  0.00          PD  \nATOM    324   Pt MOL     1       1.948  -9.763  -3.887  1.00  0.00          PT  \nATOM    325   Pt MOL     1      -0.000 -11.831  -0.000  1.00  0.00          PT  \nATOM    326   Pd MOL     1      -0.000  -9.837   1.940  1.00  0.00          PD  \nATOM    327   Pd MOL     1       1.956 -11.798   1.956  1.00  0.00          PD  \nATOM    328   Pd MOL     1       1.940  -9.837   0.000  1.00  0.00          PD  \nATOM    329   Pd MOL     1      -0.000 -11.768   3.909  1.00  0.00          PD  \nATOM    330   Pd MOL     1       0.000  -9.702   5.838  1.00  0.00          PD  \nATOM    331   Pd MOL     1       1.983 -11.590   5.852  1.00  0.00          PD  \nATOM    332   Pt MOL     1       1.948  -9.763   3.887  1.00  0.00          PT  \nATOM    333   Pt MOL     1       0.000 -11.491   7.722  1.00  0.00          PT  \nATOM    334   Pt MOL     1      -0.000  -9.671   9.671  1.00  0.00          PT  \nATOM    335   Pd MOL     1       2.143  -9.843   7.942  1.00  0.00          PD  \nATOM    336   Pd MOL     1       0.000  -7.722 -11.491  1.00  0.00          PD  \nATOM    337   Pd MOL     1      -0.000  -5.838  -9.702  1.00  0.00          PD  \nATOM    338   Pt MOL     1       2.143  -7.942  -9.843  1.00  0.00          PT  \nATOM    339   Pd MOL     1       1.983  -5.852 -11.590  1.00  0.00          PD  \nATOM    340   Pd MOL     1       0.000  -7.808  -7.808  1.00  0.00          PD  \nATOM    341   Pt MOL     1       0.000  -5.919  -5.919  1.00  0.00          PT  \nATOM    342   Pt MOL     1       2.037  -7.882  -5.930  1.00  0.00          PT  \nATOM    343   Pt MOL     1       2.037  -5.930  -7.882  1.00  0.00          PT  \nATOM    344   Pd MOL     1       0.000  -7.823  -3.930  1.00  0.00          PD  \nATOM    345   Pd MOL     1       0.000  -5.869  -1.979  1.00  0.00          PD  \nATOM    346   Pt MOL     1       1.964  -7.826  -1.964  1.00  0.00          PT  \nATOM    347   Pd MOL     1       2.010  -5.923  -3.975  1.00  0.00          PD  \nATOM    348   Pd MOL     1      -0.000  -7.832   0.000  1.00  0.00          PD  \nATOM    349   Pd MOL     1      -0.000  -5.869   1.979  1.00  0.00          PD  \nATOM    350   Pt MOL     1       1.964  -7.826   1.964  1.00  0.00          PT  \nATOM    351   Pd MOL     1       1.979  -5.869   0.000  1.00  0.00          PD  \nATOM    352   Pd MOL     1       0.000  -7.823   3.930  1.00  0.00          PD  \nATOM    353   Pt MOL     1       0.000  -5.919   5.919  1.00  0.00          PT  \nATOM    354   Pd MOL     1       2.037  -7.882   5.930  1.00  0.00          PD  \nATOM    355   Pt MOL     1       2.010  -5.923   3.975  1.00  0.00          PT  \nATOM    356   Pd MOL     1       0.000  -7.808   7.808  1.00  0.00          PD  \nATOM    357   Pt MOL     1      -0.000  -5.838   9.702  1.00  0.00          PT  \nATOM    358   Pt MOL     1       2.143  -7.942   9.843  1.00  0.00          PT  \nATOM    359   Pd MOL     1       2.037  -5.930   7.882  1.00  0.00          PD  \nATOM    360   Pd MOL     1      -0.000  -7.722  11.491  1.00  0.00          PD  \nATOM    361   Pd MOL     1       1.983  -5.852  11.590  1.00  0.00          PD  \nATOM    362   Pd MOL     1       0.000  -3.909 -11.768  1.00  0.00          PD  \nATOM    363   Pt MOL     1       0.000  -1.940  -9.837  1.00  0.00          PT  \nATOM    364   Pd MOL     1       1.948  -3.887  -9.763  1.00  0.00          PD  \nATOM    365   Pd MOL     1       1.956  -1.956 -11.798  1.00  0.00          PD  \nATOM    366   Pd MOL     1      -0.000  -3.930  -7.823  1.00  0.00          PD  \nATOM    367   Pd MOL     1       0.000  -1.979  -5.869  1.00  0.00          PD  \nATOM    368   Pt MOL     1       2.010  -3.975  -5.923  1.00  0.00          PT  \nATOM    369   Pd MOL     1       1.964  -1.964  -7.826  1.00  0.00          PD  \nATOM    370   Pd MOL     1       0.000  -3.958  -3.958  1.00  0.00          PD  \nATOM    371   Pd MOL     1      -0.000  -1.978  -1.978  1.00  0.00          PD  \nATOM    372   Pd MOL     1       1.995  -3.948  -1.995  1.00  0.00          PD  \nATOM    373   Pt MOL     1       1.995  -1.995  -3.948  1.00  0.00          PT  \nATOM    374   Pd MOL     1       0.000  -3.914  -0.000  1.00  0.00          PD  \nATOM    375   Pd MOL     1      -0.000  -1.978   1.978  1.00  0.00          PD  \nATOM    376   Pd MOL     1       1.995  -3.948   1.995  1.00  0.00          PD  \nATOM    377   Pt MOL     1       1.978  -1.978   0.000  1.00  0.00          PT  \nATOM    378   Pd MOL     1      -0.000  -3.958   3.958  1.00  0.00          PD  \nATOM    379   Pt MOL     1      -0.000  -1.979   5.869  1.00  0.00          PT  \nATOM    380   Pd MOL     1       2.010  -3.975   5.923  1.00  0.00          PD  \nATOM    381   Pt MOL     1       1.995  -1.995   3.948  1.00  0.00          PT  \nATOM    382   Pt MOL     1      -0.000  -3.930   7.823  1.00  0.00          PT  \nATOM    383   Pd MOL     1      -0.000  -1.940   9.837  1.00  0.00          PD  \nATOM    384   Pt MOL     1       1.948  -3.887   9.763  1.00  0.00          PT  \nATOM    385   Pt MOL     1       1.964  -1.964   7.826  1.00  0.00          PT  \nATOM    386   Pd MOL     1      -0.000  -3.909  11.768  1.00  0.00          PD  \nATOM    387   Pd MOL     1       1.956  -1.956  11.798  1.00  0.00          PD  \nATOM    388   Pt MOL     1      -0.000   0.000 -11.831  1.00  0.00          PT  \nATOM    389   Pt MOL     1      -0.000   1.940  -9.837  1.00  0.00          PT  \nATOM    390   Pt MOL     1       1.940  -0.000  -9.837  1.00  0.00          PT  \nATOM    391   Pd MOL     1       1.956   1.956 -11.798  1.00  0.00          PD  \nATOM    392   Pd MOL     1       0.000   0.000  -7.832  1.00  0.00          PD  \nATOM    393   Pd MOL     1       0.000   1.979  -5.869  1.00  0.00          PD  \nATOM    394   Pt MOL     1       1.979   0.000  -5.869  1.00  0.00          PT  \nATOM    395   Pd MOL     1       1.964   1.964  -7.826  1.00  0.00          PD  \nATOM    396   Pd MOL     1       0.000   0.000  -3.914  1.00  0.00          PD  \nATOM    397   Pd MOL     1       0.000   1.978  -1.978  1.00  0.00          PD  \nATOM    398   Pd MOL     1       1.978  -0.000  -1.978  1.00  0.00          PD  \nATOM    399   Pt MOL     1       1.995   1.995  -3.948  1.00  0.00          PT  \nATOM    400   Pd MOL     1       0.000  -0.000  -0.000  1.00  0.00          PD  \nATOM    401   Pd MOL     1      -0.000   1.978   1.978  1.00  0.00          PD  \nATOM    402   Pt MOL     1       1.978  -0.000   1.978  1.00  0.00          PT  \nATOM    403   Pt MOL     1       1.978   1.978  -0.000  1.00  0.00          PT  \nATOM    404   Pd MOL     1       0.000   0.000   3.914  1.00  0.00          PD  \nATOM    405   Pd MOL     1      -0.000   1.979   5.869  1.00  0.00          PD  \nATOM    406   Pd MOL     1       1.979   0.000   5.869  1.00  0.00          PD  \nATOM    407   Pt MOL     1       1.995   1.995   3.948  1.00  0.00          PT  \nATOM    408   Pd MOL     1       0.000  -0.000   7.832  1.00  0.00          PD  \nATOM    409   Pt MOL     1       0.000   1.940   9.837  1.00  0.00          PT  \nATOM    410   Pd MOL     1       1.940  -0.000   9.837  1.00  0.00          PD  \nATOM    411   Pt MOL     1       1.964   1.964   7.826  1.00  0.00          PT  \nATOM    412   Pd MOL     1      -0.000  -0.000  11.831  1.00  0.00          PD  \nATOM    413   Pt MOL     1       1.956   1.956  11.798  1.00  0.00          PT  \nATOM    414   Pd MOL     1      -0.000   3.909 -11.768  1.00  0.00          PD  \nATOM    415   Pd MOL     1      -0.000   5.838  -9.702  1.00  0.00          PD  \nATOM    416   Pt MOL     1       1.948   3.887  -9.763  1.00  0.00          PT  \nATOM    417   Pt MOL     1       1.983   5.852 -11.590  1.00  0.00          PT  \nATOM    418   Pd MOL     1      -0.000   3.930  -7.823  1.00  0.00          PD  \nATOM    419   Pd MOL     1      -0.000   5.919  -5.919  1.00  0.00          PD  \nATOM    420   Pd MOL     1       2.010   3.975  -5.923  1.00  0.00          PD  \nATOM    421   Pd MOL     1       2.037   5.930  -7.882  1.00  0.00          PD  \nATOM    422   Pt MOL     1      -0.000   3.958  -3.958  1.00  0.00          PT  \nATOM    423   Pt MOL     1      -0.000   5.869  -1.979  1.00  0.00          PT  \nATOM    424   Pd MOL     1       1.995   3.948  -1.995  1.00  0.00          PD  \nATOM    425   Pt MOL     1       2.010   5.923  -3.975  1.00  0.00          PT  \nATOM    426   Pd MOL     1       0.000   3.914  -0.000  1.00  0.00          PD  \nATOM    427   Pd MOL     1       0.000   5.869   1.979  1.00  0.00          PD  \nATOM    428   Pt MOL     1       1.995   3.948   1.995  1.00  0.00          PT  \nATOM    429   Pd MOL     1       1.979   5.869  -0.000  1.00  0.00          PD  \nATOM    430   Pd MOL     1      -0.000   3.958   3.958  1.00  0.00          PD  \nATOM    431   Pt MOL     1       0.000   5.919   5.919  1.00  0.00          PT  \nATOM    432   Pt MOL     1       2.010   3.975   5.923  1.00  0.00          PT  \nATOM    433   Pd MOL     1       2.010   5.923   3.975  1.00  0.00          PD  \nATOM    434   Pd MOL     1       0.000   3.930   7.823  1.00  0.00          PD  \nATOM    435   Pt MOL     1      -0.000   5.838   9.702  1.00  0.00          PT  \nATOM    436   Pd MOL     1       1.948   3.887   9.763  1.00  0.00          PD  \nATOM    437   Pt MOL     1       2.037   5.930   7.882  1.00  0.00          PT  \nATOM    438   Pd MOL     1       0.000   3.909  11.768  1.00  0.00          PD  \nATOM    439   Pd MOL     1       1.983   5.852  11.590  1.00  0.00          PD  \nATOM    440   Pd MOL     1      -0.000   7.722 -11.491  1.00  0.00          PD  \nATOM    441   Pt MOL     1      -0.000   9.671  -9.671  1.00  0.00          PT  \nATOM    442   Pd MOL     1       2.143   7.942  -9.843  1.00  0.00          PD  \nATOM    443   Pt MOL     1       0.000   7.808  -7.808  1.00  0.00          PT  \nATOM    444   Pd MOL     1      -0.000   9.702  -5.838  1.00  0.00          PD  \nATOM    445   Pd MOL     1       2.037   7.882  -5.930  1.00  0.00          PD  \nATOM    446   Pt MOL     1       2.143   9.843  -7.942  1.00  0.00          PT  \nATOM    447   Pt MOL     1       0.000   7.823  -3.930  1.00  0.00          PT  \nATOM    448   Pt MOL     1       0.000   9.837  -1.940  1.00  0.00          PT  \nATOM    449   Pt MOL     1       1.964   7.826  -1.964  1.00  0.00          PT  \nATOM    450   Pt MOL     1       1.948   9.763  -3.887  1.00  0.00          PT  \nATOM    451   Pd MOL     1       0.000   7.832   0.000  1.00  0.00          PD  \nATOM    452   Pt MOL     1      -0.000   9.837   1.940  1.00  0.00          PT  \nATOM    453   Pd MOL     1       1.964   7.826   1.964  1.00  0.00          PD  \nATOM    454   Pt MOL     1       1.940   9.837  -0.000  1.00  0.00          PT  \nATOM    455   Pt MOL     1       0.000   7.823   3.930  1.00  0.00          PT  \nATOM    456   Pt MOL     1       0.000   9.702   5.838  1.00  0.00          PT  \nATOM    457   Pd MOL     1       2.037   7.882   5.930  1.00  0.00          PD  \nATOM    458   Pt MOL     1       1.948   9.763   3.887  1.00  0.00          PT  \nATOM    459   Pd MOL     1       0.000   7.808   7.808  1.00  0.00          PD  \nATOM    460   Pt MOL     1      -0.000   9.671   9.671  1.00  0.00          PT  \nATOM    461   Pt MOL     1       2.143   7.942   9.843  1.00  0.00          PT  \nATOM    462   Pt MOL     1       2.143   9.843   7.942  1.00  0.00          PT  \nATOM    463   Pt MOL     1      -0.000   7.722  11.491  1.00  0.00          PT  \nATOM    464   Pd MOL     1      -0.000  11.491  -7.722  1.00  0.00          PD  \nATOM    465   Pd MOL     1       1.983  11.590  -5.852  1.00  0.00          PD  \nATOM    466   Pt MOL     1       0.000  11.768  -3.909  1.00  0.00          PT  \nATOM    467   Pd MOL     1       1.956  11.798  -1.956  1.00  0.00          PD  \nATOM    468   Pd MOL     1      -0.000  11.831   0.000  1.00  0.00          PD  \nATOM    469   Pt MOL     1       1.956  11.798   1.956  1.00  0.00          PT  \nATOM    470   Pd MOL     1       0.000  11.768   3.909  1.00  0.00          PD  \nATOM    471   Pt MOL     1       1.983  11.590   5.852  1.00  0.00          PT  \nATOM    472   Pd MOL     1      -0.000  11.491   7.722  1.00  0.00          PD  \nATOM    473   Pt MOL     1       4.081  -9.854  -6.020  1.00  0.00          PT  \nATOM    474   Pt MOL     1       3.924 -11.600  -3.924  1.00  0.00          PT  \nATOM    475   Pd MOL     1       3.887  -9.763  -1.948  1.00  0.00          PD  \nATOM    476   Pd MOL     1       5.852 -11.590  -1.983  1.00  0.00          PD  \nATOM    477   Pt MOL     1       6.020  -9.854  -4.081  1.00  0.00          PT  \nATOM    478   Pt MOL     1       3.909 -11.768   0.000  1.00  0.00          PT  \nATOM    479   Pd MOL     1       3.887  -9.763   1.948  1.00  0.00          PD  \nATOM    480   Pt MOL     1       5.852 -11.590   1.983  1.00  0.00          PT  \nATOM    481   Pd MOL     1       5.838  -9.702  -0.000  1.00  0.00          PD  \nATOM    482   Pd MOL     1       3.924 -11.600   3.924  1.00  0.00          PD  \nATOM    483   Pt MOL     1       4.081  -9.854   6.020  1.00  0.00          PT  \nATOM    484   Pd MOL     1       6.020  -9.854   4.081  1.00  0.00          PD  \nATOM    485   Pd MOL     1       4.081  -6.020  -9.854  1.00  0.00          PD  \nATOM    486   Pt MOL     1       4.088  -7.965  -7.965  1.00  0.00          PT  \nATOM    487   Pt MOL     1       4.017  -5.971  -5.971  1.00  0.00          PT  \nATOM    488   Pd MOL     1       6.035  -7.969  -6.035  1.00  0.00          PD  \nATOM    489   Pt MOL     1       6.035  -6.035  -7.969  1.00  0.00          PT  \nATOM    490   Pt MOL     1       3.988  -7.898  -3.988  1.00  0.00          PT  \nATOM    491   Pt MOL     1       3.975  -5.923  -2.010  1.00  0.00          PT  \nATOM    492   Pt MOL     1       5.930  -7.882  -2.037  1.00  0.00          PT  \nATOM    493   Pt MOL     1       5.971  -5.971  -4.017  1.00  0.00          PT  \nATOM    494   Pd MOL     1       3.930  -7.823   0.000  1.00  0.00          PD  \nATOM    495   Pt MOL     1       3.975  -5.923   2.010  1.00  0.00          PT  \nATOM    496   Pt MOL     1       5.930  -7.882   2.037  1.00  0.00          PT  \nATOM    497   Pt MOL     1       5.919  -5.919   0.000  1.00  0.00          PT  \nATOM    498   Pt MOL     1       3.988  -7.898   3.988  1.00  0.00          PT  \nATOM    499   Pd MOL     1       4.017  -5.971   5.971  1.00  0.00          PD  \nATOM    500   Pd MOL     1       6.035  -7.969   6.035  1.00  0.00          PD  \nATOM    501   Pt MOL     1       5.971  -5.971   4.017  1.00  0.00          PT  \nATOM    502   Pt MOL     1       4.088  -7.965   7.965  1.00  0.00          PT  \nATOM    503   Pt MOL     1       4.081  -6.020   9.854  1.00  0.00          PT  \nATOM    504   Pt MOL     1       6.035  -6.035   7.969  1.00  0.00          PT  \nATOM    505   Pd MOL     1       3.924  -3.924 -11.600  1.00  0.00          PD  \nATOM    506   Pt MOL     1       3.887  -1.948  -9.763  1.00  0.00          PT  \nATOM    507   Pt MOL     1       6.020  -4.081  -9.854  1.00  0.00          PT  \nATOM    508   Pd MOL     1       5.852  -1.983 -11.590  1.00  0.00          PD  \nATOM    509   Pt MOL     1       3.988  -3.988  -7.898  1.00  0.00          PT  \nATOM    510   Pd MOL     1       3.975  -2.010  -5.923  1.00  0.00          PD  \nATOM    511   Pd MOL     1       5.971  -4.017  -5.971  1.00  0.00          PD  \nATOM    512   Pd MOL     1       5.930  -2.037  -7.882  1.00  0.00          PD  \nATOM    513   Pt MOL     1       3.989  -3.989  -3.989  1.00  0.00          PT  \nATOM    514   Pt MOL     1       3.948  -1.995  -1.995  1.00  0.00          PT  \nATOM    515   Pd MOL     1       5.923  -3.975  -2.010  1.00  0.00          PD  \nATOM    516   Pd MOL     1       5.923  -2.010  -3.975  1.00  0.00          PD  \nATOM    517   Pt MOL     1       3.958  -3.958  -0.000  1.00  0.00          PT  \nATOM    518   Pt MOL     1       3.948  -1.995   1.995  1.00  0.00          PT  \nATOM    519   Pt MOL     1       5.923  -3.975   2.010  1.00  0.00          PT  \nATOM    520   Pt MOL     1       5.869  -1.979  -0.000  1.00  0.00          PT  \nATOM    521   Pd MOL     1       3.989  -3.989   3.989  1.00  0.00          PD  \nATOM    522   Pt MOL     1       3.975  -2.010   5.923  1.00  0.00          PT  \nATOM    523   Pt MOL     1       5.971  -4.017   5.971  1.00  0.00          PT  \nATOM    524   Pt MOL     1       5.923  -2.010   3.975  1.00  0.00          PT  \nATOM    525   Pt MOL     1       3.988  -3.988   7.898  1.00  0.00          PT  \nATOM    526   Pd MOL     1       3.887  -1.948   9.763  1.00  0.00          PD  \nATOM    527   Pd MOL     1       6.020  -4.081   9.854  1.00  0.00          PD  \nATOM    528   Pd MOL     1       5.930  -2.037   7.882  1.00  0.00          PD  \nATOM    529   Pd MOL     1       3.924  -3.924  11.600  1.00  0.00          PD  \nATOM    530   Pd MOL     1       5.852  -1.983  11.590  1.00  0.00          PD  \nATOM    531   Pt MOL     1       3.909   0.000 -11.768  1.00  0.00          PT  \nATOM    532   Pt MOL     1       3.887   1.948  -9.763  1.00  0.00          PT  \nATOM    533   Pd MOL     1       5.838   0.000  -9.702  1.00  0.00          PD  \nATOM    534   Pt MOL     1       5.852   1.983 -11.590  1.00  0.00          PT  \nATOM    535   Pd MOL     1       3.930  -0.000  -7.823  1.00  0.00          PD  \nATOM    536   Pt MOL     1       3.975   2.010  -5.923  1.00  0.00          PT  \nATOM    537   Pd MOL     1       5.919  -0.000  -5.919  1.00  0.00          PD  \nATOM    538   Pd MOL     1       5.930   2.037  -7.882  1.00  0.00          PD  \nATOM    539   Pt MOL     1       3.958  -0.000  -3.958  1.00  0.00          PT  \nATOM    540   Pt MOL     1       3.948   1.995  -1.995  1.00  0.00          PT  \nATOM    541   Pd MOL     1       5.869  -0.000  -1.979  1.00  0.00          PD  \nATOM    542   Pt MOL     1       5.923   2.010  -3.975  1.00  0.00          PT  \nATOM    543   Pd MOL     1       3.914   0.000   0.000  1.00  0.00          PD  \nATOM    544   Pt MOL     1       3.948   1.995   1.995  1.00  0.00          PT  \nATOM    545   Pt MOL     1       5.869   0.000   1.979  1.00  0.00          PT  \nATOM    546   Pd MOL     1       5.869   1.979   0.000  1.00  0.00          PD  \nATOM    547   Pd MOL     1       3.958  -0.000   3.958  1.00  0.00          PD  \nATOM    548   Pt MOL     1       3.975   2.010   5.923  1.00  0.00          PT  \nATOM    549   Pd MOL     1       5.919  -0.000   5.919  1.00  0.00          PD  \nATOM    550   Pd MOL     1       5.923   2.010   3.975  1.00  0.00          PD  \nATOM    551   Pd MOL     1       3.930  -0.000   7.823  1.00  0.00          PD  \nATOM    552   Pd MOL     1       3.887   1.948   9.763  1.00  0.00          PD  \nATOM    553   Pd MOL     1       5.838  -0.000   9.702  1.00  0.00          PD  \nATOM    554   Pd MOL     1       5.930   2.037   7.882  1.00  0.00          PD  \nATOM    555   Pd MOL     1       3.909  -0.000  11.768  1.00  0.00          PD  \nATOM    556   Pd MOL     1       5.852   1.983  11.590  1.00  0.00          PD  \nATOM    557   Pd MOL     1       3.924   3.924 -11.600  1.00  0.00          PD  \nATOM    558   Pd MOL     1       4.081   6.020  -9.854  1.00  0.00          PD  \nATOM    559   Pd MOL     1       6.020   4.081  -9.854  1.00  0.00          PD  \nATOM    560   Pd MOL     1       3.988   3.988  -7.898  1.00  0.00          PD  \nATOM    561   Pd MOL     1       4.017   5.971  -5.971  1.00  0.00          PD  \nATOM    562   Pd MOL     1       5.971   4.017  -5.971  1.00  0.00          PD  \nATOM    563   Pd MOL     1       6.035   6.035  -7.969  1.00  0.00          PD  \nATOM    564   Pd MOL     1       3.989   3.989  -3.989  1.00  0.00          PD  \nATOM    565   Pd MOL     1       3.975   5.923  -2.010  1.00  0.00          PD  \nATOM    566   Pd MOL     1       5.923   3.975  -2.010  1.00  0.00          PD  \nATOM    567   Pd MOL     1       5.971   5.971  -4.017  1.00  0.00          PD  \nATOM    568   Pt MOL     1       3.958   3.958   0.000  1.00  0.00          PT  \nATOM    569   Pd MOL     1       3.975   5.923   2.010  1.00  0.00          PD  \nATOM    570   Pd MOL     1       5.923   3.975   2.010  1.00  0.00          PD  \nATOM    571   Pt MOL     1       5.919   5.919  -0.000  1.00  0.00          PT  \nATOM    572   Pd MOL     1       3.989   3.989   3.989  1.00  0.00          PD  \nATOM    573   Pt MOL     1       4.017   5.971   5.971  1.00  0.00          PT  \nATOM    574   Pd MOL     1       5.971   4.017   5.971  1.00  0.00          PD  \nATOM    575   Pt MOL     1       5.971   5.971   4.017  1.00  0.00          PT  \nATOM    576   Pt MOL     1       3.988   3.988   7.898  1.00  0.00          PT  \nATOM    577   Pd MOL     1       4.081   6.020   9.854  1.00  0.00          PD  \nATOM    578   Pt MOL     1       6.020   4.081   9.854  1.00  0.00          PT  \nATOM    579   Pt MOL     1       6.035   6.035   7.969  1.00  0.00          PT  \nATOM    580   Pt MOL     1       3.924   3.924  11.600  1.00  0.00          PT  \nATOM    581   Pd MOL     1       4.088   7.965  -7.965  1.00  0.00          PD  \nATOM    582   Pd MOL     1       4.081   9.854  -6.020  1.00  0.00          PD  \nATOM    583   Pd MOL     1       6.035   7.969  -6.035  1.00  0.00          PD  \nATOM    584   Pt MOL     1       3.988   7.898  -3.988  1.00  0.00          PT  \nATOM    585   Pd MOL     1       3.887   9.763  -1.948  1.00  0.00          PD  \nATOM    586   Pt MOL     1       5.930   7.882  -2.037  1.00  0.00          PT  \nATOM    587   Pt MOL     1       6.020   9.854  -4.081  1.00  0.00          PT  \nATOM    588   Pt MOL     1       3.930   7.823  -0.000  1.00  0.00          PT  \nATOM    589   Pt MOL     1       3.887   9.763   1.948  1.00  0.00          PT  \nATOM    590   Pt MOL     1       5.930   7.882   2.037  1.00  0.00          PT  \nATOM    591   Pd MOL     1       5.838   9.702  -0.000  1.00  0.00          PD  \nATOM    592   Pd MOL     1       3.988   7.898   3.988  1.00  0.00          PD  \nATOM    593   Pd MOL     1       4.081   9.854   6.020  1.00  0.00          PD  \nATOM    594   Pd MOL     1       6.035   7.969   6.035  1.00  0.00          PD  \nATOM    595   Pd MOL     1       6.020   9.854   4.081  1.00  0.00          PD  \nATOM    596   Pt MOL     1       4.088   7.965   7.965  1.00  0.00          PT  \nATOM    597   Pd MOL     1       3.924  11.600  -3.924  1.00  0.00          PD  \nATOM    598   Pd MOL     1       5.852  11.590  -1.983  1.00  0.00          PD  \nATOM    599   Pt MOL     1       3.909  11.768  -0.000  1.00  0.00          PT  \nATOM    600   Pd MOL     1       5.852  11.590   1.983  1.00  0.00          PD  \nATOM    601   Pd MOL     1       3.924  11.600   3.924  1.00  0.00          PD  \nATOM    602   Pd MOL     1       7.942  -9.843  -2.143  1.00  0.00          PD  \nATOM    603   Pd MOL     1       7.722 -11.491  -0.000  1.00  0.00          PD  \nATOM    604   Pt MOL     1       7.942  -9.843   2.143  1.00  0.00          PT  \nATOM    605   Pt MOL     1       9.671  -9.671  -0.000  1.00  0.00          PT  \nATOM    606   Pt MOL     1       7.969  -6.035  -6.035  1.00  0.00          PT  \nATOM    607   Pd MOL     1       7.965  -7.965  -4.088  1.00  0.00          PD  \nATOM    608   Pt MOL     1       7.882  -5.930  -2.037  1.00  0.00          PT  \nATOM    609   Pt MOL     1       9.843  -7.942  -2.143  1.00  0.00          PT  \nATOM    610   Pt MOL     1       9.854  -6.020  -4.081  1.00  0.00          PT  \nATOM    611   Pd MOL     1       7.808  -7.808  -0.000  1.00  0.00          PD  \nATOM    612   Pt MOL     1       7.882  -5.930   2.037  1.00  0.00          PT  \nATOM    613   Pd MOL     1       9.843  -7.942   2.143  1.00  0.00          PD  \nATOM    614   Pt MOL     1       9.702  -5.838   0.000  1.00  0.00          PT  \nATOM    615   Pd MOL     1       7.965  -7.965   4.088  1.00  0.00          PD  \nATOM    616   Pd MOL     1       7.969  -6.035   6.035  1.00  0.00          PD  \nATOM    617   Pd MOL     1       9.854  -6.020   4.081  1.00  0.00          PD  \nATOM    618   Pt MOL     1       7.942  -2.143  -9.843  1.00  0.00          PT  \nATOM    619   Pd MOL     1       7.965  -4.088  -7.965  1.00  0.00          PD  \nATOM    620   Pt MOL     1       7.882  -2.037  -5.930  1.00  0.00          PT  \nATOM    621   Pd MOL     1       9.854  -4.081  -6.020  1.00  0.00          PD  \nATOM    622   Pd MOL     1       9.843  -2.143  -7.942  1.00  0.00          PD  \nATOM    623   Pt MOL     1       7.898  -3.988  -3.988  1.00  0.00          PT  \nATOM    624   Pd MOL     1       7.826  -1.964  -1.964  1.00  0.00          PD  \nATOM    625   Pd MOL     1       9.763  -3.887  -1.948  1.00  0.00          PD  \nATOM    626   Pt MOL     1       9.763  -1.948  -3.887  1.00  0.00          PT  \nATOM    627   Pd MOL     1       7.823  -3.930  -0.000  1.00  0.00          PD  \nATOM    628   Pd MOL     1       7.826  -1.964   1.964  1.00  0.00          PD  \nATOM    629   Pd MOL     1       9.763  -3.887   1.948  1.00  0.00          PD  \nATOM    630   Pd MOL     1       9.837  -1.940  -0.000  1.00  0.00          PD  \nATOM    631   Pt MOL     1       7.898  -3.988   3.988  1.00  0.00          PT  \nATOM    632   Pt MOL     1       7.882  -2.037   5.930  1.00  0.00          PT  \nATOM    633   Pd MOL     1       9.854  -4.081   6.020  1.00  0.00          PD  \nATOM    634   Pd MOL     1       9.763  -1.948   3.887  1.00  0.00          PD  \nATOM    635   Pt MOL     1       7.965  -4.088   7.965  1.00  0.00          PT  \nATOM    636   Pd MOL     1       7.942  -2.143   9.843  1.00  0.00          PD  \nATOM    637   Pt MOL     1       9.843  -2.143   7.942  1.00  0.00          PT  \nATOM    638   Pd MOL     1       7.722  -0.000 -11.491  1.00  0.00          PD  \nATOM    639   Pd MOL     1       7.942   2.143  -9.843  1.00  0.00          PD  \nATOM    640   Pd MOL     1       9.671   0.000  -9.671  1.00  0.00          PD  \nATOM    641   Pd MOL     1       7.808   0.000  -7.808  1.00  0.00          PD  \nATOM    642   Pt MOL     1       7.882   2.037  -5.930  1.00  0.00          PT  \nATOM    643   Pd MOL     1       9.702  -0.000  -5.838  1.00  0.00          PD  \nATOM    644   Pt MOL     1       9.843   2.143  -7.942  1.00  0.00          PT  \nATOM    645   Pd MOL     1       7.823  -0.000  -3.930  1.00  0.00          PD  \nATOM    646   Pt MOL     1       7.826   1.964  -1.964  1.00  0.00          PT  \nATOM    647   Pt MOL     1       9.837  -0.000  -1.940  1.00  0.00          PT  \nATOM    648   Pd MOL     1       9.763   1.948  -3.887  1.00  0.00          PD  \nATOM    649   Pd MOL     1       7.832   0.000  -0.000  1.00  0.00          PD  \nATOM    650   Pd MOL     1       7.826   1.964   1.964  1.00  0.00          PD  \nATOM    651   Pt MOL     1       9.837   0.000   1.940  1.00  0.00          PT  \nATOM    652   Pd MOL     1       9.837   1.940  -0.000  1.00  0.00          PD  \nATOM    653   Pt MOL     1       7.823  -0.000   3.930  1.00  0.00          PT  \nATOM    654   Pt MOL     1       7.882   2.037   5.930  1.00  0.00          PT  \nATOM    655   Pd MOL     1       9.702   0.000   5.838  1.00  0.00          PD  \nATOM    656   Pd MOL     1       9.763   1.948   3.887  1.00  0.00          PD  \nATOM    657   Pd MOL     1       7.808  -0.000   7.808  1.00  0.00          PD  \nATOM    658   Pd MOL     1       7.942   2.143   9.843  1.00  0.00          PD  \nATOM    659   Pd MOL     1       9.671  -0.000   9.671  1.00  0.00          PD  \nATOM    660   Pd MOL     1       9.843   2.143   7.942  1.00  0.00          PD  \nATOM    661   Pt MOL     1       7.722   0.000  11.491  1.00  0.00          PT  \nATOM    662   Pd MOL     1       7.965   4.088  -7.965  1.00  0.00          PD  \nATOM    663   Pt MOL     1       7.969   6.035  -6.035  1.00  0.00          PT  \nATOM    664   Pd MOL     1       9.854   4.081  -6.020  1.00  0.00          PD  \nATOM    665   Pt MOL     1       7.898   3.988  -3.988  1.00  0.00          PT  \nATOM    666   Pt MOL     1       7.882   5.930  -2.037  1.00  0.00          PT  \nATOM    667   Pd MOL     1       9.763   3.887  -1.948  1.00  0.00          PD  \nATOM    668   Pd MOL     1       9.854   6.020  -4.081  1.00  0.00          PD  \nATOM    669   Pt MOL     1       7.823   3.930   0.000  1.00  0.00          PT  \nATOM    670   Pt MOL     1       7.882   5.930   2.037  1.00  0.00          PT  \nATOM    671   Pt MOL     1       9.763   3.887   1.948  1.00  0.00          PT  \nATOM    672   Pd MOL     1       9.702   5.838   0.000  1.00  0.00          PD  \nATOM    673   Pd MOL     1       7.898   3.988   3.988  1.00  0.00          PD  \nATOM    674   Pd MOL     1       7.969   6.035   6.035  1.00  0.00          PD  \nATOM    675   Pd MOL     1       9.854   4.081   6.020  1.00  0.00          PD  \nATOM    676   Pd MOL     1       9.854   6.020   4.081  1.00  0.00          PD  \nATOM    677   Pd MOL     1       7.965   4.088   7.965  1.00  0.00          PD  \nATOM    678   Pd MOL     1       7.965   7.965  -4.088  1.00  0.00          PD  \nATOM    679   Pd MOL     1       7.943   9.843  -2.143  1.00  0.00          PD  \nATOM    680   Pd MOL     1       9.843   7.942  -2.143  1.00  0.00          PD  \nATOM    681   Pd MOL     1       7.808   7.808   0.000  1.00  0.00          PD  \nATOM    682   Pd MOL     1       7.942   9.843   2.143  1.00  0.00          PD  \nATOM    683   Pt MOL     1       9.843   7.942   2.143  1.00  0.00          PT  \nATOM    684   Pt MOL     1       9.671   9.671  -0.000  1.00  0.00          PT  \nATOM    685   Pd MOL     1       7.965   7.965   4.088  1.00  0.00          PD  \nATOM    686   Pt MOL     1       7.722  11.491   0.000  1.00  0.00          PT  \nATOM    687   Pd MOL     1      11.590  -5.852  -1.983  1.00  0.00          PD  \nATOM    688   Pt MOL     1      11.491  -7.722   0.000  1.00  0.00          PT  \nATOM    689   Pd MOL     1      11.590  -5.852   1.983  1.00  0.00          PD  \nATOM    690   Pt MOL     1      11.590  -1.983  -5.852  1.00  0.00          PT  \nATOM    691   Pd MOL     1      11.600  -3.924  -3.924  1.00  0.00          PD  \nATOM    692   Pd MOL     1      11.798  -1.956  -1.956  1.00  0.00          PD  \nATOM    693   Pt MOL     1      11.768  -3.909   0.000  1.00  0.00          PT  \nATOM    694   Pt MOL     1      11.798  -1.956   1.956  1.00  0.00          PT  \nATOM    695   Pd MOL     1      11.600  -3.924   3.924  1.00  0.00          PD  \nATOM    696   Pt MOL     1      11.590  -1.983   5.852  1.00  0.00          PT  \nATOM    697   Pt MOL     1      11.491   0.000  -7.722  1.00  0.00          PT  \nATOM    698   Pd MOL     1      11.590   1.983  -5.852  1.00  0.00          PD  \nATOM    699   Pd MOL     1      11.768   0.000  -3.909  1.00  0.00          PD  \nATOM    700   Pd MOL     1      11.798   1.956  -1.956  1.00  0.00          PD  \nATOM    701   Pd MOL     1      11.831   0.000   0.000  1.00  0.00          PD  \nATOM    702   Pt MOL     1      11.798   1.956   1.956  1.00  0.00          PT  \nATOM    703   Pd MOL     1      11.768   0.000   3.909  1.00  0.00          PD  \nATOM    704   Pt MOL     1      11.590   1.983   5.852  1.00  0.00          PT  \nATOM    705   Pd MOL     1      11.491  -0.000   7.722  1.00  0.00          PD  \nATOM    706   Pd MOL     1      11.600   3.924  -3.924  1.00  0.00          PD  \nATOM    707   Pd MOL     1      11.590   5.852  -1.983  1.00  0.00          PD  \nATOM    708   Pd MOL     1      11.768   3.909  -0.000  1.00  0.00          PD  \nATOM    709   Pd MOL     1      11.590   5.852   1.983  1.00  0.00          PD  \nATOM    710   Pt MOL     1      11.600   3.924   3.924  1.00  0.00          PT  \nATOM    711   Pt MOL     1      11.491   7.722  -0.000  1.00  0.00          PT  \nENDMDL\n",
           "type": "blob"
          }
         ],
         "kwargs": {
          "defaultRepresentation": false,
          "ext": "pdb"
         },
         "methodName": "loadFile",
         "reconstruc_color_scheme": false,
         "target": "Stage",
         "type": "call_method"
        },
        {
         "args": [
          "500px",
          "500px"
         ],
         "kwargs": {},
         "methodName": "setSize",
         "reconstruc_color_scheme": false,
         "target": "Widget",
         "type": "call_method"
        },
        {
         "args": [
          "unitcell"
         ],
         "component_index": 0,
         "kwargs": {
          "sele": "all"
         },
         "methodName": "addRepresentation",
         "reconstruc_color_scheme": false,
         "target": "compList",
         "type": "call_method"
        },
        {
         "args": [
          "spacefill"
         ],
         "component_index": 0,
         "kwargs": {
          "sele": "all"
         },
         "methodName": "addRepresentation",
         "reconstruc_color_scheme": false,
         "target": "compList",
         "type": "call_method"
        },
        {
         "args": [],
         "kwargs": {
          "cameraType": "orthographic"
         },
         "methodName": "setParameters",
         "reconstruc_color_scheme": false,
         "target": "Stage",
         "type": "call_method"
        },
        {
         "args": [
          {
           "clipDist": 0
          }
         ],
         "kwargs": {},
         "methodName": "setParameters",
         "reconstruc_color_scheme": false,
         "target": "Widget",
         "type": "call_method"
        },
        {
         "args": [
          "spacefill",
          0
         ],
         "kwargs": {
          "colorScale": "rainbow",
          "colorScheme": "element",
          "radiusScale": 0.5,
          "radiusType": "covalent"
         },
         "methodName": "updateRepresentationsByName",
         "reconstruc_color_scheme": false,
         "target": "Widget",
         "type": "call_method"
        },
        {
         "args": [
          "this._Q = [[1.0, 0.0, 0.0], [0.0, 1.0, 0.0], [0.0, 0.0, 1.0]]\n    var tooltip = document.createElement('div');\n    Object.assign(tooltip.style, {\n      display: 'none',\n      position: 'fixed',\n      zIndex: 10,\n      pointerEvents: 'none',\n      backgroundColor: 'rgba( 0, 0, 0, 0.6 )',\n      color: 'lightgrey',\n      padding: '8px',\n      fontFamily: 'sans-serif'\n    });\n    document.body.appendChild(tooltip);\n\n    var that = this;\n    this.stage.mouseControls.remove('hoverPick');\n    this.stage.signals.hovered.add(function (pickingProxy) {\n      if (pickingProxy && (pickingProxy.atom || pickingProxy.bond)) {\n        var atom = pickingProxy.atom || pickingProxy.closestBondAtom\n        var mp = pickingProxy.mouse.position\n        //tooltip.innerText = atom.element + ' i=' + atom.index + ' (' + atom.x.toFixed(2) +  ', ' + atom.y.toFixed(2) +  ', ' + atom.z.toFixed(2) + ')'\n        //var pos = that._atoms_pos[atom.index]\n        var Q = that._Q\n        var pos_x = Q[0][0] * atom.x + Q[0][1] * atom.y + Q[0][2] * atom.z \n        var pos_y = Q[1][0] * atom.x + Q[1][1] * atom.y + Q[1][2] * atom.z\n        var pos_z = Q[2][0] * atom.x + Q[2][1] * atom.y + Q[2][2] * atom.z\n        tooltip.innerText = 'i=' + atom.index + ' ' + atom.element + ' (' + pos_x.toFixed(2) +  ', ' + pos_y.toFixed(2) +  ', ' + pos_z.toFixed(2) + ')'\n        tooltip.style.bottom = window.innerHeight - mp.y + 3 + 'px'\n        tooltip.style.left = mp.x + 3 + 'px'\n        tooltip.style.display = 'block'\n      } else {\n        tooltip.style.display = 'none'\n      }\n    });\n    this.stage.tooltip = tooltip;\n    "
         ],
         "kwargs": {},
         "methodName": "executeCode",
         "reconstruc_color_scheme": false,
         "target": "Widget",
         "type": "call_method"
        }
       ],
       "_ngl_original_stage_parameters": {
        "ambientColor": 14540253,
        "ambientIntensity": 0.2,
        "backgroundColor": "white",
        "cameraEyeSep": 0.3,
        "cameraFov": 40,
        "cameraType": "perspective",
        "clipDist": 10,
        "clipFar": 100,
        "clipNear": 0,
        "fogFar": 100,
        "fogNear": 50,
        "hoverTimeout": 0,
        "impostor": true,
        "lightColor": 14540253,
        "lightIntensity": 1,
        "mousePreset": "default",
        "panSpeed": 1,
        "quality": "medium",
        "rotateSpeed": 2,
        "sampleLevel": 0,
        "tooltip": true,
        "workerDefault": true,
        "zoomSpeed": 1.2
       },
       "_ngl_repr_dict": {
        "0": {
         "0": {
          "params": {
           "clipCenter": {
            "x": 0,
            "y": 0,
            "z": 0
           },
           "clipNear": 0,
           "clipRadius": 0,
           "colorMode": "hcl",
           "colorReverse": false,
           "colorScale": "",
           "colorScheme": "element",
           "colorValue": "orange",
           "defaultAssembly": "",
           "depthWrite": true,
           "diffuse": 16777215,
           "diffuseInterior": false,
           "disableImpostor": false,
           "disablePicking": false,
           "flatShaded": false,
           "interiorColor": 2236962,
           "interiorDarkening": 0,
           "lazy": false,
           "matrix": {
            "elements": [
             1,
             0,
             0,
             0,
             0,
             1,
             0,
             0,
             0,
             0,
             1,
             0,
             0,
             0,
             0,
             1
            ]
           },
           "metalness": 0,
           "opacity": 1,
           "quality": "medium",
           "radialSegments": 10,
           "radiusData": {},
           "radiusScale": 1,
           "radiusSize": 0.5,
           "radiusType": "vdw",
           "roughness": 0.4,
           "sele": "all",
           "side": "double",
           "sphereDetail": 1,
           "useInteriorColor": true,
           "visible": true,
           "wireframe": false
          },
          "type": "unitcell"
         },
         "1": {
          "params": {
           "assembly": "default",
           "clipCenter": {
            "x": 0,
            "y": 0,
            "z": 0
           },
           "clipNear": 0,
           "clipRadius": 0,
           "colorMode": "hcl",
           "colorReverse": false,
           "colorScale": "rainbow",
           "colorScheme": "element",
           "colorValue": 9474192,
           "defaultAssembly": "",
           "depthWrite": true,
           "diffuse": 16777215,
           "diffuseInterior": false,
           "disableImpostor": false,
           "disablePicking": false,
           "flatShaded": false,
           "interiorColor": 2236962,
           "interiorDarkening": 0,
           "lazy": false,
           "matrix": {
            "elements": [
             1,
             0,
             0,
             0,
             0,
             1,
             0,
             0,
             0,
             0,
             1,
             0,
             0,
             0,
             0,
             1
            ]
           },
           "metalness": 0,
           "opacity": 1,
           "quality": "medium",
           "radiusData": {},
           "radiusScale": 0.5,
           "radiusSize": 1,
           "radiusType": "covalent",
           "roughness": 0.4,
           "sele": "all",
           "side": "double",
           "sphereDetail": 1,
           "useInteriorColor": true,
           "visible": true,
           "wireframe": false
          },
          "type": "spacefill"
         }
        }
       },
       "_ngl_serialize": false,
       "_ngl_version": "2.0.0-dev.36",
       "_ngl_view_id": [
        "0255B721-98AA-4F0C-B5CD-2349AD0980F8"
       ],
       "_player_dict": {},
       "_scene_position": {},
       "_scene_rotation": {},
       "_synced_model_ids": [],
       "_synced_repr_model_ids": [],
       "_view_height": "",
       "_view_width": "",
       "background": "white",
       "frame": 0,
       "gui_style": null,
       "layout": "IPY_MODEL_0ebf0d45fceb4cbe8d403b3ad2679c42",
       "max_frame": 0,
       "n_components": 1,
       "picked": {}
      }
     },
     "ae7d243e2ef347458199dde6e426e870": {
      "model_module": "@jupyter-widgets/controls",
      "model_module_version": "1.5.0",
      "model_name": "IntSliderModel",
      "state": {
       "layout": "IPY_MODEL_93ba6525b6f54ade8ebbeb4f04614294",
       "max": 706,
       "style": "IPY_MODEL_be2355ad735549c8b044891d06a62a26"
      }
     },
     "aeb956b097584f75b34f5fde2c96df0e": {
      "model_module": "@jupyter-widgets/controls",
      "model_module_version": "1.5.0",
      "model_name": "ButtonStyleModel",
      "state": {}
     },
     "aec5398528d549b7a18364f20f5cdd43": {
      "model_module": "@jupyter-widgets/controls",
      "model_module_version": "1.5.0",
      "model_name": "LinkModel",
      "state": {
       "source": [
        "IPY_MODEL_ddba749f66dc4e82a2868e7021bd9638",
        "value"
       ],
       "target": [
        "IPY_MODEL_bd48da0a84c34af386a3a9afebd97201",
        "value"
       ]
      }
     },
     "aee4fe91dc5f4a07b2cfbe7dfec2ca0d": {
      "model_module": "@jupyter-widgets/controls",
      "model_module_version": "1.5.0",
      "model_name": "DropdownModel",
      "state": {
       "_options_labels": [
        " ",
        "picking",
        "random",
        "uniform",
        "atomindex",
        "residueindex",
        "chainindex",
        "modelindex",
        "sstruc",
        "element",
        "resname",
        "bfactor",
        "hydrophobicity",
        "value",
        "volume",
        "occupancy"
       ],
       "description": "Color scheme",
       "index": 9,
       "layout": "IPY_MODEL_cd45c6e1d80e432892914baa0bb1cb05",
       "style": "IPY_MODEL_33bcab6ce2a6456f885791668c180171"
      }
     },
     "aee565e475ab4b4ea021310336732469": {
      "model_module": "@jupyter-widgets/controls",
      "model_module_version": "1.5.0",
      "model_name": "HBoxModel",
      "state": {
       "children": [
        "IPY_MODEL_6b93adc949ae4c0eb5dd63b0d226fb3a",
        "IPY_MODEL_82024888a5934e29b478b6dfb1cbfb88"
       ],
       "layout": "IPY_MODEL_1504cb558560410d9eef545d32c66fd9"
      }
     },
     "af056eebe2c5453593d0e202d801256c": {
      "model_module": "@jupyter-widgets/base",
      "model_module_version": "1.2.0",
      "model_name": "LayoutModel",
      "state": {}
     },
     "af288754d3e14c8fa5eae2c71fad1fa5": {
      "model_module": "@jupyter-widgets/controls",
      "model_module_version": "1.5.0",
      "model_name": "LinkModel",
      "state": {
       "source": [
        "IPY_MODEL_479b549d347a4e6a8a3e915f94999ca9",
        "max"
       ],
       "target": [
        "IPY_MODEL_cbf108cb3e3547daa75b25eb866ab378",
        "max_frame"
       ]
      }
     },
     "b05e5b5f435d4a89a8c82c01401bf03c": {
      "model_module": "@jupyter-widgets/base",
      "model_module_version": "1.2.0",
      "model_name": "LayoutModel",
      "state": {}
     },
     "b06730fe464b47eda798d6bdf8dfc251": {
      "model_module": "@jupyter-widgets/controls",
      "model_module_version": "1.5.0",
      "model_name": "HBoxModel",
      "state": {
       "children": [
        "IPY_MODEL_939c0298c3ea403ebda9d10b40651ad7",
        "IPY_MODEL_78893893e6cd4ec295800a5f0fa12f11"
       ],
       "layout": "IPY_MODEL_46a3d5452d0c4a2cbb3a108fb76fa10e"
      }
     },
     "b18965846e5046d2b2fb66464d6471fb": {
      "model_module": "@jupyter-widgets/controls",
      "model_module_version": "1.5.0",
      "model_name": "ButtonStyleModel",
      "state": {}
     },
     "b2a097a46a7a46d9881023e8fbcad3b4": {
      "model_module": "@jupyter-widgets/base",
      "model_module_version": "1.2.0",
      "model_name": "LayoutModel",
      "state": {}
     },
     "b2b9750fcbef4634b87299d75c6244ff": {
      "model_module": "@jupyter-widgets/base",
      "model_module_version": "1.2.0",
      "model_name": "LayoutModel",
      "state": {}
     },
     "b2c4400b32004af6a18389386ca0502a": {
      "model_module": "@jupyter-widgets/controls",
      "model_module_version": "1.5.0",
      "model_name": "DropdownModel",
      "state": {
       "_options_labels": [
        " ",
        "picking",
        "random",
        "uniform",
        "atomindex",
        "residueindex",
        "chainindex",
        "modelindex",
        "sstruc",
        "element",
        "resname",
        "bfactor",
        "hydrophobicity",
        "value",
        "volume",
        "occupancy"
       ],
       "description": "Color scheme",
       "index": 9,
       "layout": "IPY_MODEL_9e2c6445c2e348e49d76046d9c8452f3",
       "style": "IPY_MODEL_d67e382b3fe14217821ef25a063bffc9"
      }
     },
     "b2d21f2aa9f9451281f16d244032e599": {
      "model_module": "@jupyter-widgets/controls",
      "model_module_version": "1.5.0",
      "model_name": "DescriptionStyleModel",
      "state": {
       "description_width": ""
      }
     },
     "b3fbcc3dedcd43539f9b4e5c2f730f8c": {
      "model_module": "@jupyter-widgets/base",
      "model_module_version": "1.2.0",
      "model_name": "LayoutModel",
      "state": {
       "width": "34px"
      }
     },
     "b405bb7a02b84d258f0413bc8b85df5d": {
      "model_module": "@jupyter-widgets/controls",
      "model_module_version": "1.5.0",
      "model_name": "DropdownModel",
      "state": {
       "_options_labels": [
        " ",
        "picking",
        "random",
        "uniform",
        "atomindex",
        "residueindex",
        "chainindex",
        "modelindex",
        "sstruc",
        "element",
        "resname",
        "bfactor",
        "hydrophobicity",
        "value",
        "volume",
        "occupancy"
       ],
       "description": "Color scheme",
       "index": 9,
       "layout": "IPY_MODEL_a48ad773e9004cfb9275a1529b3231b5",
       "style": "IPY_MODEL_2804242721794e92a1fdf460218bbc7f"
      }
     },
     "b40cf480dbbf476ca67aa08da76f6dfb": {
      "model_module": "@jupyter-widgets/base",
      "model_module_version": "1.2.0",
      "model_name": "LayoutModel",
      "state": {}
     },
     "b40f6d2d66fb46f5b404c296e9187457": {
      "model_module": "@jupyter-widgets/controls",
      "model_module_version": "1.5.0",
      "model_name": "CheckboxModel",
      "state": {
       "description": "Show force",
       "disabled": false,
       "layout": "IPY_MODEL_41096b8e8ffe4fa5ab16bfa14ad4e1b2",
       "style": "IPY_MODEL_a4fbfceb0ccf40bd82e003293ded15ae",
       "value": false
      }
     },
     "b439e54214ed4dd589f3d24b6d46c999": {
      "model_module": "@jupyter-widgets/controls",
      "model_module_version": "1.5.0",
      "model_name": "ImageModel",
      "state": {
       "layout": "IPY_MODEL_137eae16b94a436ea65ac55775ba1164",
       "width": "900.0"
      }
     },
     "b4427a63738c4e19a7e7cb114692795f": {
      "model_module": "@jupyter-widgets/base",
      "model_module_version": "1.2.0",
      "model_name": "LayoutModel",
      "state": {}
     },
     "b45b4c1605b945f0b560d83da9cc04a2": {
      "model_module": "@jupyter-widgets/base",
      "model_module_version": "1.2.0",
      "model_name": "LayoutModel",
      "state": {}
     },
     "b46da67c67f2413eb6d23b94ca4a387e": {
      "model_module": "@jupyter-widgets/controls",
      "model_module_version": "1.5.0",
      "model_name": "ButtonModel",
      "state": {
       "icon": "compress",
       "layout": "IPY_MODEL_b97f969220714fcab397dc1511559da7",
       "style": "IPY_MODEL_b93015ec8f284c438a5cac19cb88f13c"
      }
     },
     "b586f6b84643483d83c293702d616ddf": {
      "model_module": "@jupyter-widgets/base",
      "model_module_version": "1.2.0",
      "model_name": "LayoutModel",
      "state": {}
     },
     "b68b609c0e134d3fb880adddcbb84b11": {
      "model_module": "@jupyter-widgets/controls",
      "model_module_version": "1.5.0",
      "model_name": "DropdownModel",
      "state": {
       "_options_labels": [
        "All",
        "Pt"
       ],
       "description": "Show",
       "index": 0,
       "layout": "IPY_MODEL_e83d98337b174c34b2a29a76a9261740",
       "style": "IPY_MODEL_f2e360dded724787a33e9304b9f03cbe"
      }
     },
     "b6e80b5838454297bc4fd6cc280b496a": {
      "model_module": "@jupyter-widgets/base",
      "model_module_version": "1.2.0",
      "model_name": "LayoutModel",
      "state": {}
     },
     "b87551cf4e8040dda67a08711847eee6": {
      "model_module": "@jupyter-widgets/base",
      "model_module_version": "1.2.0",
      "model_name": "LayoutModel",
      "state": {}
     },
     "b92cd1ff6b374648984cd3361ad20b88": {
      "model_module": "@jupyter-widgets/base",
      "model_module_version": "1.2.0",
      "model_name": "LayoutModel",
      "state": {}
     },
     "b93015ec8f284c438a5cac19cb88f13c": {
      "model_module": "@jupyter-widgets/controls",
      "model_module_version": "1.5.0",
      "model_name": "ButtonStyleModel",
      "state": {}
     },
     "b97f969220714fcab397dc1511559da7": {
      "model_module": "@jupyter-widgets/base",
      "model_module_version": "1.2.0",
      "model_name": "LayoutModel",
      "state": {
       "width": "34px"
      }
     },
     "b98db3a448f44148a752383cfdbd96bd": {
      "model_module": "@jupyter-widgets/output",
      "model_module_version": "1.0.0",
      "model_name": "OutputModel",
      "state": {
       "layout": "IPY_MODEL_fefb12a6131e43cb91dabc9b80ec59e3"
      }
     },
     "ba29498cf3ce47e8ae3e1d7e6ea5a389": {
      "model_module": "@jupyter-widgets/controls",
      "model_module_version": "1.5.0",
      "model_name": "ButtonStyleModel",
      "state": {}
     },
     "ba7d2c4bfc3449b3a095375ed64a70ef": {
      "model_module": "@jupyter-widgets/base",
      "model_module_version": "1.2.0",
      "model_name": "LayoutModel",
      "state": {}
     },
     "ba80f315cb4645f9962a14ea393d4c5b": {
      "model_module": "@jupyter-widgets/controls",
      "model_module_version": "1.5.0",
      "model_name": "HBoxModel",
      "state": {
       "children": [
        "IPY_MODEL_ddba749f66dc4e82a2868e7021bd9638",
        "IPY_MODEL_bd48da0a84c34af386a3a9afebd97201"
       ],
       "layout": "IPY_MODEL_9b7345b6be0c493ba3e9fac10cf8bab6"
      }
     },
     "ba920f8147e047e885529393b7f3a9d6": {
      "model_module": "@jupyter-widgets/controls",
      "model_module_version": "1.5.0",
      "model_name": "SliderStyleModel",
      "state": {
       "description_width": ""
      }
     },
     "bb0448b5baf042ffa569ef595d5a9b15": {
      "model_module": "@jupyter-widgets/output",
      "model_module_version": "1.0.0",
      "model_name": "OutputModel",
      "state": {
       "layout": "IPY_MODEL_f1d47111d3fa417681d4a9c542e37192"
      }
     },
     "bba74fc0a0014186bc29b3e51827316b": {
      "model_module": "@jupyter-widgets/controls",
      "model_module_version": "1.5.0",
      "model_name": "HBoxModel",
      "state": {
       "children": [
        "IPY_MODEL_ffc0ff16fc804555aa0c96aef6fa21ef",
        "IPY_MODEL_da155d5723284c9d9b23e07d0346e29d"
       ],
       "layout": "IPY_MODEL_a39596f56de343c7962f7c23ba5c287e"
      }
     },
     "bba7fe83352d411ca756e2efea277d64": {
      "model_module": "@jupyter-widgets/controls",
      "model_module_version": "1.5.0",
      "model_name": "FloatSliderModel",
      "state": {
       "description": "Charge scale",
       "layout": "IPY_MODEL_f85f967ab41d429998294e4286c2c597",
       "step": 0.1,
       "style": "IPY_MODEL_609cc7908fa745c294d33f030f6a5e6e",
       "value": 1
      }
     },
     "bbd185a8f4ce4a51bca8bd48e7d937a0": {
      "model_module": "@jupyter-widgets/controls",
      "model_module_version": "1.5.0",
      "model_name": "IntSliderModel",
      "state": {
       "layout": "IPY_MODEL_40e4a16d129f4f39953e0c2f4ab46dc1",
       "max": 1,
       "style": "IPY_MODEL_c35924d699a34c5481aaeaf3fe9898e7"
      }
     },
     "bbd45db7fcb74b8fa4c8cd6503f982fc": {
      "model_module": "@jupyter-widgets/base",
      "model_module_version": "1.2.0",
      "model_name": "LayoutModel",
      "state": {
       "width": "34px"
      }
     },
     "bcfd97cec4c342c3877dd5be076a708a": {
      "model_module": "@jupyter-widgets/base",
      "model_module_version": "1.2.0",
      "model_name": "LayoutModel",
      "state": {}
     },
     "bd48da0a84c34af386a3a9afebd97201": {
      "model_module": "@jupyter-widgets/controls",
      "model_module_version": "1.5.0",
      "model_name": "IntSliderModel",
      "state": {
       "layout": "IPY_MODEL_9242fe6632d24f29bb92a77fd629b66e",
       "max": 1,
       "style": "IPY_MODEL_4d0364f035694b199407b18fd0292239"
      }
     },
     "bdd9322039bc424ab6b163ea9b25da5c": {
      "model_module": "@jupyter-widgets/controls",
      "model_module_version": "1.5.0",
      "model_name": "HBoxModel",
      "state": {
       "children": [
        "IPY_MODEL_30fa8d53b09e472194a0d14c98a0e88d",
        "IPY_MODEL_3ae6a027e81b44c2b63c1a5f418d125e"
       ],
       "layout": "IPY_MODEL_841c88c727e4491a94101a2c9666dead"
      }
     },
     "be2355ad735549c8b044891d06a62a26": {
      "model_module": "@jupyter-widgets/controls",
      "model_module_version": "1.5.0",
      "model_name": "SliderStyleModel",
      "state": {
       "description_width": ""
      }
     },
     "bf97b3f05d164348bafa9985f9a28955": {
      "model_module": "@jupyter-widgets/controls",
      "model_module_version": "1.5.0",
      "model_name": "PlayModel",
      "state": {
       "layout": "IPY_MODEL_bcfd97cec4c342c3877dd5be076a708a",
       "max": 0,
       "style": "IPY_MODEL_cfc42c7502274d87ac7c671eb236e524"
      }
     },
     "c05550b36c7e46fe8a793d7e6291ca6e": {
      "model_module": "@jupyter-widgets/base",
      "model_module_version": "1.2.0",
      "model_name": "LayoutModel",
      "state": {}
     },
     "c14df8f9fb1e47f08b33eed7efda3c19": {
      "model_module": "@jupyter-widgets/controls",
      "model_module_version": "1.5.0",
      "model_name": "CheckboxModel",
      "state": {
       "description": "Show charge",
       "disabled": false,
       "layout": "IPY_MODEL_05d5dc3cd4ef4566a9f1a5f610c58cbd",
       "style": "IPY_MODEL_dde214886dfe42e6976ad98b6a8a12e6",
       "value": false
      }
     },
     "c199dc50ec2a4003b225e8c81423060b": {
      "model_module": "@jupyter-widgets/controls",
      "model_module_version": "1.5.0",
      "model_name": "CheckboxModel",
      "state": {
       "description": "Show charge",
       "disabled": false,
       "layout": "IPY_MODEL_e43e5c3b260e43fcbfd35353ca76d137",
       "style": "IPY_MODEL_6481b987f24244aab9cd7582b261007f",
       "value": false
      }
     },
     "c22a1725f56643848556ae487d62fe05": {
      "model_module": "@jupyter-widgets/controls",
      "model_module_version": "1.5.0",
      "model_name": "ButtonModel",
      "state": {
       "description": "Save image",
       "layout": "IPY_MODEL_119557eaab0f45448a538867b3ea7e52",
       "style": "IPY_MODEL_ae13f2d84c3a4b0db285f0c7669fc460",
       "tooltip": "Save current frame to file.\nCurrently .png and .html are supported.\nIt takes a bit time, please be patient."
      }
     },
     "c22b75a15e9542e3a0c1b137fde92814": {
      "model_module": "@jupyter-widgets/controls",
      "model_module_version": "1.5.0",
      "model_name": "SliderStyleModel",
      "state": {
       "description_width": ""
      }
     },
     "c2add05579614551b26f25cac7ca34b0": {
      "model_module": "@jupyter-widgets/controls",
      "model_module_version": "1.5.0",
      "model_name": "LinkModel",
      "state": {
       "source": [
        "IPY_MODEL_2b4c4e46a31747eb9c9f767a3f1864a4",
        "max"
       ],
       "target": [
        "IPY_MODEL_9b87bf5b29574b4c96d7ac4703bedaf4",
        "max_frame"
       ]
      }
     },
     "c2bc1c32bdcd4054bd8202bdb7b4140e": {
      "model_module": "@jupyter-widgets/controls",
      "model_module_version": "1.5.0",
      "model_name": "LinkModel",
      "state": {
       "source": [
        "IPY_MODEL_ec6e1028f2444bcfb65ab69ca33c5aaf",
        "max"
       ],
       "target": [
        "IPY_MODEL_ae6744d3a7824183b7faba85bb91a1e2",
        "max_frame"
       ]
      }
     },
     "c32d9760e8fc4ec8ad8b52b00a16aa22": {
      "model_module": "@jupyter-widgets/base",
      "model_module_version": "1.2.0",
      "model_name": "LayoutModel",
      "state": {}
     },
     "c35924d699a34c5481aaeaf3fe9898e7": {
      "model_module": "@jupyter-widgets/controls",
      "model_module_version": "1.5.0",
      "model_name": "SliderStyleModel",
      "state": {
       "description_width": ""
      }
     },
     "c388408f36c94ca483ccf7ee80ac39ae": {
      "model_module": "@jupyter-widgets/controls",
      "model_module_version": "1.5.0",
      "model_name": "SliderStyleModel",
      "state": {
       "description_width": ""
      }
     },
     "c3cea908a7e1418187fa79ffe8db5a74": {
      "model_module": "@jupyter-widgets/controls",
      "model_module_version": "1.5.0",
      "model_name": "SliderStyleModel",
      "state": {
       "description_width": ""
      }
     },
     "c409b46db2254637ad0f99b9de00584e": {
      "model_module": "@jupyter-widgets/controls",
      "model_module_version": "1.5.0",
      "model_name": "HBoxModel",
      "state": {
       "children": [
        "IPY_MODEL_fba03774a2264687b684d1fd3bbfd84b",
        "IPY_MODEL_2b4c4e46a31747eb9c9f767a3f1864a4"
       ],
       "layout": "IPY_MODEL_02efe031a1424468a9673f628cdbf65f"
      }
     },
     "c4f8b320eb3f444bb1cd70ba6971a3b8": {
      "model_module": "@jupyter-widgets/controls",
      "model_module_version": "1.5.0",
      "model_name": "DropdownModel",
      "state": {
       "_options_labels": [
        " ",
        "picking",
        "random",
        "uniform",
        "atomindex",
        "residueindex",
        "chainindex",
        "modelindex",
        "sstruc",
        "element",
        "resname",
        "bfactor",
        "hydrophobicity",
        "value",
        "volume",
        "occupancy"
       ],
       "description": "Color scheme",
       "index": 9,
       "layout": "IPY_MODEL_8e297815469f4e6ab32255069d90a32e",
       "style": "IPY_MODEL_14fd652689d441508127daf7dc591d6b"
      }
     },
     "c51a3075225c49159436141746bd76ac": {
      "model_module": "@jupyter-widgets/controls",
      "model_module_version": "1.5.0",
      "model_name": "ButtonModel",
      "state": {
       "description": "Save image",
       "layout": "IPY_MODEL_13e5c8e61dbb41dfb83389642e4e5d5e",
       "style": "IPY_MODEL_e3c66216bb674ce0b13e70fabf4377c3",
       "tooltip": "Save current frame to file.\nCurrently .png and .html are supported.\nIt takes a bit time, please be patient."
      }
     },
     "c57c4bfc9ba846f79f8b2f3372c2f26c": {
      "model_module": "@jupyter-widgets/controls",
      "model_module_version": "1.5.0",
      "model_name": "DropdownModel",
      "state": {
       "_options_labels": [
        " ",
        "picking",
        "random",
        "uniform",
        "atomindex",
        "residueindex",
        "chainindex",
        "modelindex",
        "sstruc",
        "element",
        "resname",
        "bfactor",
        "hydrophobicity",
        "value",
        "volume",
        "occupancy"
       ],
       "description": "Color scheme",
       "index": 9,
       "layout": "IPY_MODEL_8b989f9ff9204ce486b8bdbeb3fbb697",
       "style": "IPY_MODEL_63f0714514994644a6a3cf9b26c68c76"
      }
     },
     "c5e9daf4fd064b4cbc8c83f50884b332": {
      "model_module": "@jupyter-widgets/base",
      "model_module_version": "1.2.0",
      "model_name": "LayoutModel",
      "state": {}
     },
     "c66dcc36f56a4bdea53f09539e34cfb4": {
      "model_module": "@jupyter-widgets/controls",
      "model_module_version": "1.5.0",
      "model_name": "DropdownModel",
      "state": {
       "_options_labels": [
        "All",
        "Sn",
        "O"
       ],
       "description": "Show",
       "index": 0,
       "layout": "IPY_MODEL_ebdb70379f724400847c578f279b2d69",
       "style": "IPY_MODEL_04ef1eb1a84e48f5921212b328a6fdec"
      }
     },
     "c746e07bb9c7483abb368c6947bdd7b5": {
      "model_module": "@jupyter-widgets/controls",
      "model_module_version": "1.5.0",
      "model_name": "CheckboxModel",
      "state": {
       "description": "Show force",
       "disabled": false,
       "layout": "IPY_MODEL_7833e3ffac0346fd90b977c530850793",
       "style": "IPY_MODEL_518881f715d8483b8d0e6ecb31057ec2",
       "value": false
      }
     },
     "c78ee15c2b7b4fd5b415e3dd9526a499": {
      "model_module": "@jupyter-widgets/controls",
      "model_module_version": "1.5.0",
      "model_name": "SliderStyleModel",
      "state": {
       "description_width": ""
      }
     },
     "c7da40a4a25643d7a47a66cde4cdc772": {
      "model_module": "@jupyter-widgets/base",
      "model_module_version": "1.2.0",
      "model_name": "LayoutModel",
      "state": {}
     },
     "c810ab13a2674054ad114bbbee3e9407": {
      "model_module": "@jupyter-widgets/base",
      "model_module_version": "1.2.0",
      "model_name": "LayoutModel",
      "state": {}
     },
     "c871cc6c2c804c8aaa900382925e5216": {
      "model_module": "@jupyter-widgets/controls",
      "model_module_version": "1.5.0",
      "model_name": "CheckboxModel",
      "state": {
       "description": "Show charge",
       "disabled": false,
       "layout": "IPY_MODEL_2daf4d1520a344d4862082454bea6795",
       "style": "IPY_MODEL_0f192740877f4403957fa5f42098c970",
       "value": false
      }
     },
     "c9481e198ad548358e47d3ab3cc58b56": {
      "model_module": "@jupyter-widgets/controls",
      "model_module_version": "1.5.0",
      "model_name": "DescriptionStyleModel",
      "state": {
       "description_width": ""
      }
     },
     "c965f3a78c914df5a78fbea6a22383d1": {
      "model_module": "@jupyter-widgets/controls",
      "model_module_version": "1.5.0",
      "model_name": "ButtonModel",
      "state": {
       "description": "Download image",
       "layout": "IPY_MODEL_5eeafcb51b5243419a5491f2df2f1e24",
       "style": "IPY_MODEL_1657191f447b4b5fb484be084cb909f6",
       "tooltip": "Download current frame to your local PC"
      }
     },
     "c9b3c227e64a4553bb00ee5766574345": {
      "model_module": "@jupyter-widgets/controls",
      "model_module_version": "1.5.0",
      "model_name": "SliderStyleModel",
      "state": {
       "description_width": ""
      }
     },
     "c9ef9f0248a145f096bfecb7523130f5": {
      "model_module": "@jupyter-widgets/controls",
      "model_module_version": "1.5.0",
      "model_name": "ButtonModel",
      "state": {
       "description": "Download image",
       "layout": "IPY_MODEL_1df6136b59cc4711b17f5ee12299ee62",
       "style": "IPY_MODEL_31225cdc2aba4c75873078dbf6015037",
       "tooltip": "Download current frame to your local PC"
      }
     },
     "cabff38c0d2b4f18a64cd67beda7787e": {
      "model_module": "@jupyter-widgets/controls",
      "model_module_version": "1.5.0",
      "model_name": "CheckboxModel",
      "state": {
       "description": "Show force",
       "disabled": false,
       "layout": "IPY_MODEL_a5c893ae12bd4a0b84141bc1cc3d0976",
       "style": "IPY_MODEL_78b045afe3114537aa228098e5e1db47",
       "value": false
      }
     },
     "cbc0dc519dca425baa5ac14555532498": {
      "model_module": "@jupyter-widgets/base",
      "model_module_version": "1.2.0",
      "model_name": "LayoutModel",
      "state": {}
     },
     "cbf108cb3e3547daa75b25eb866ab378": {
      "model_module": "nglview-js-widgets",
      "model_module_version": "3.0.1",
      "model_name": "NGLModel",
      "state": {
       "_camera_orientation": [
        21.326715445391155,
        -0.9154410472915984,
        1.1489433718464135,
        0,
        0.9820542814012224,
        -3.5501012998832677,
        -21.0575222906308,
        0,
        1.0925532349307698,
        21.060523339199502,
        -3.49965412281579,
        0,
        -12.214500229805708,
        -13.031499572563916,
        -6.5824998915195465,
        1
       ],
       "_camera_str": "orthographic",
       "_gui_theme": null,
       "_ibtn_fullscreen": "IPY_MODEL_2d6364d524264941b53a36e379d8f9fb",
       "_igui": null,
       "_iplayer": "IPY_MODEL_69c8c96400fe47fb9d453ff398b07b54",
       "_ngl_color_dict": {},
       "_ngl_coordinate_resource": {},
       "_ngl_full_stage_parameters": {
        "ambientColor": 14540253,
        "ambientIntensity": 0.2,
        "backgroundColor": "white",
        "cameraEyeSep": 0.3,
        "cameraFov": 40,
        "cameraType": "orthographic",
        "clipDist": 0,
        "clipFar": 100,
        "clipNear": 0,
        "fogFar": 100,
        "fogNear": 50,
        "hoverTimeout": 0,
        "impostor": true,
        "lightColor": 14540253,
        "lightIntensity": 1,
        "mousePreset": "default",
        "panSpeed": 1,
        "quality": "medium",
        "rotateSpeed": 2,
        "sampleLevel": 0,
        "tooltip": true,
        "workerDefault": true,
        "zoomSpeed": 1.2
       },
       "_ngl_msg_archive": [
        {
         "args": [
          {
           "binary": false,
           "data": "CRYST1   25.946   27.336   27.336  90.00  90.00  90.00 P 1\nMODEL     1\nATOM      1   Sn MOL     1       1.668   3.418   5.068  1.00  0.00          SN  \nATOM      2   Sn MOL     1       1.663   0.005   0.954  1.00  0.00          SN  \nATOM      3   Sn MOL     1       0.046   3.417   1.575  1.00  0.00          SN  \nATOM      4   Sn MOL     1       0.044   0.004   4.449  1.00  0.00          SN  \nATOM      5    O MOL     1       1.667   1.273   4.845  1.00  0.00           O  \nATOM      6    O MOL     1       1.670   4.691   1.207  1.00  0.00           O  \nATOM      7    O MOL     1       1.676   5.575   4.861  1.00  0.00           O  \nATOM      8    O MOL     1       1.664   2.152   1.176  1.00  0.00           O  \nATOM      9    O MOL     1       0.048   3.420   6.252  1.00  0.00           O  \nATOM     10    O MOL     1       0.044   0.006   2.441  1.00  0.00           O  \nATOM     11    O MOL     1       0.050   3.420   3.583  1.00  0.00           O  \nATOM     12    O MOL     1       0.043   0.008  -0.229  1.00  0.00           O  \nATOM     13   Sn MOL     1       1.660  10.262   5.071  1.00  0.00          SN  \nATOM     14   Sn MOL     1       1.663   6.831   0.986  1.00  0.00          SN  \nATOM     15   Sn MOL     1       0.042  10.252   1.575  1.00  0.00          SN  \nATOM     16   Sn MOL     1       0.053   6.829   4.474  1.00  0.00          SN  \nATOM     17    O MOL     1       1.672   8.119   4.882  1.00  0.00           O  \nATOM     18    O MOL     1       1.660  11.524   1.194  1.00  0.00           O  \nATOM     19    O MOL     1       1.666  12.404   4.844  1.00  0.00           O  \nATOM     20    O MOL     1       1.660   8.982   1.192  1.00  0.00           O  \nATOM     21    O MOL     1       0.061  10.264   6.271  1.00  0.00           O  \nATOM     22    O MOL     1       0.051   6.841   2.467  1.00  0.00           O  \nATOM     23    O MOL     1       0.053  10.254   3.588  1.00  0.00           O  \nATOM     24    O MOL     1       0.051   6.834  -0.207  1.00  0.00           O  \nATOM     25   Sn MOL     1       4.905   3.410   5.060  1.00  0.00          SN  \nATOM     26   Sn MOL     1       4.905   0.003   0.953  1.00  0.00          SN  \nATOM     27   Sn MOL     1       3.284   3.412   1.572  1.00  0.00          SN  \nATOM     28   Sn MOL     1       3.285   0.005   4.448  1.00  0.00          SN  \nATOM     29    O MOL     1       4.913   1.270   4.841  1.00  0.00           O  \nATOM     30    O MOL     1       4.905   4.688   1.193  1.00  0.00           O  \nATOM     31    O MOL     1       4.894   5.583   4.855  1.00  0.00           O  \nATOM     32    O MOL     1       4.906   2.150   1.176  1.00  0.00           O  \nATOM     33    O MOL     1       3.292   3.425   6.249  1.00  0.00           O  \nATOM     34    O MOL     1       3.286   0.009   2.441  1.00  0.00           O  \nATOM     35    O MOL     1       3.291   3.417   3.581  1.00  0.00           O  \nATOM     36    O MOL     1       3.284   0.008  -0.229  1.00  0.00           O  \nATOM     37   Sn MOL     1       4.863  10.285   5.057  1.00  0.00          SN  \nATOM     38   Sn MOL     1       4.898   6.822   0.966  1.00  0.00          SN  \nATOM     39   Sn MOL     1       3.269  10.250   1.568  1.00  0.00          SN  \nATOM     40   Sn MOL     1       3.286   6.860   4.485  1.00  0.00          SN  \nATOM     41    O MOL     1       4.939   8.139   4.947  1.00  0.00           O  \nATOM     42    O MOL     1       4.896  11.522   1.202  1.00  0.00           O  \nATOM     43    O MOL     1       4.885  12.404   4.838  1.00  0.00           O  \nATOM     44    O MOL     1       4.884   8.978   1.161  1.00  0.00           O  \nATOM     45    O MOL     1       3.289  10.281   6.274  1.00  0.00           O  \nATOM     46    O MOL     1       3.299   6.869   2.477  1.00  0.00           O  \nATOM     47    O MOL     1       3.274  10.243   3.587  1.00  0.00           O  \nATOM     48    O MOL     1       3.276   6.827  -0.205  1.00  0.00           O  \nATOM     49   Sn MOL     1       8.151   3.408   5.054  1.00  0.00          SN  \nATOM     50   Sn MOL     1       8.148   0.001   0.952  1.00  0.00          SN  \nATOM     51   Sn MOL     1       6.525   3.411   1.562  1.00  0.00          SN  \nATOM     52   Sn MOL     1       6.528  -0.003   4.446  1.00  0.00          SN  \nATOM     53    O MOL     1       8.151   1.268   4.834  1.00  0.00           O  \nATOM     54    O MOL     1       8.148   4.686   1.170  1.00  0.00           O  \nATOM     55    O MOL     1       8.146   5.571   4.847  1.00  0.00           O  \nATOM     56    O MOL     1       8.149   2.149   1.177  1.00  0.00           O  \nATOM     57    O MOL     1       6.531   3.437   6.238  1.00  0.00           O  \nATOM     58    O MOL     1       6.530   0.004   2.440  1.00  0.00           O  \nATOM     59    O MOL     1       6.529   3.439   3.572  1.00  0.00           O  \nATOM     60    O MOL     1       6.527   0.006  -0.229  1.00  0.00           O  \nATOM     61   Sn MOL     1       8.098  10.216   4.848  1.00  0.00          SN  \nATOM     62   Sn MOL     1       8.142   6.815   0.932  1.00  0.00          SN  \nATOM     63   Sn MOL     1       6.496  10.232   1.523  1.00  0.00          SN  \nATOM     64   Sn MOL     1       6.508   6.811   4.442  1.00  0.00          SN  \nATOM     65    O MOL     1       8.107   8.102   4.820  1.00  0.00           O  \nATOM     66    O MOL     1       8.124  11.508   1.236  1.00  0.00           O  \nATOM     67    O MOL     1       8.064  12.327   4.611  1.00  0.00           O  \nATOM     68    O MOL     1       8.124   8.974   1.126  1.00  0.00           O  \nATOM     69    O MOL     1       6.632  10.484   6.295  1.00  0.00           O  \nATOM     70    O MOL     1       6.522   6.854   2.440  1.00  0.00           O  \nATOM     71    O MOL     1       6.438  10.166   3.574  1.00  0.00           O  \nATOM     72    O MOL     1       6.513   6.830  -0.231  1.00  0.00           O  \nATOM     73   Sn MOL     1      11.396   3.408   5.048  1.00  0.00          SN  \nATOM     74   Sn MOL     1      11.392  -0.001   0.950  1.00  0.00          SN  \nATOM     75   Sn MOL     1       9.771   3.410   1.554  1.00  0.00          SN  \nATOM     76   Sn MOL     1       9.772  -0.004   4.444  1.00  0.00          SN  \nATOM     77    O MOL     1      11.396   1.267   4.829  1.00  0.00           O  \nATOM     78    O MOL     1      11.395   4.686   1.158  1.00  0.00           O  \nATOM     79    O MOL     1      11.393   5.564   4.834  1.00  0.00           O  \nATOM     80    O MOL     1      11.395   2.148   1.174  1.00  0.00           O  \nATOM     81    O MOL     1       9.776   3.426   6.232  1.00  0.00           O  \nATOM     82    O MOL     1       9.772  -0.000   2.437  1.00  0.00           O  \nATOM     83    O MOL     1       9.772   3.438   3.564  1.00  0.00           O  \nATOM     84    O MOL     1       9.770   0.005  -0.230  1.00  0.00           O  \nATOM     85   Sn MOL     1      11.392  10.173   4.770  1.00  0.00          SN  \nATOM     86   Sn MOL     1      11.397   6.814   0.914  1.00  0.00          SN  \nATOM     87   Sn MOL     1       9.759  10.233   1.445  1.00  0.00          SN  \nATOM     88   Sn MOL     1       9.759   6.804   4.415  1.00  0.00          SN  \nATOM     89    O MOL     1      11.401   8.076   4.756  1.00  0.00           O  \nATOM     90    O MOL     1      11.400  11.496   1.246  1.00  0.00           O  \nATOM     91    O MOL     1      11.374  12.244   4.569  1.00  0.00           O  \nATOM     92    O MOL     1      11.398   8.970   1.101  1.00  0.00           O  \nATOM     93    O MOL     1       9.755   9.936   6.079  1.00  0.00           O  \nATOM     94    O MOL     1       9.766   6.846   2.414  1.00  0.00           O  \nATOM     95    O MOL     1       9.724  10.123   3.479  1.00  0.00           O  \nATOM     96    O MOL     1       9.765   6.841  -0.253  1.00  0.00           O  \nATOM     97   Sn MOL     1       1.637  17.103   5.031  1.00  0.00          SN  \nATOM     98   Sn MOL     1       1.658  13.669   0.950  1.00  0.00          SN  \nATOM     99   Sn MOL     1       0.036  17.091   1.538  1.00  0.00          SN  \nATOM    100   Sn MOL     1       0.036  13.674   4.455  1.00  0.00          SN  \nATOM    101    O MOL     1       1.646  14.950   4.839  1.00  0.00           O  \nATOM    102    O MOL     1       1.652  18.362   1.147  1.00  0.00           O  \nATOM    103    O MOL     1       1.655  19.241   4.802  1.00  0.00           O  \nATOM    104    O MOL     1       1.653  15.817   1.144  1.00  0.00           O  \nATOM    105    O MOL     1       0.038  17.107   6.234  1.00  0.00           O  \nATOM    106    O MOL     1       0.041  13.674   2.447  1.00  0.00           O  \nATOM    107    O MOL     1       0.035  17.085   3.549  1.00  0.00           O  \nATOM    108    O MOL     1       0.034  13.655  -0.224  1.00  0.00           O  \nATOM    109   Sn MOL     1       1.659  23.928   5.046  1.00  0.00          SN  \nATOM    110   Sn MOL     1       1.654  20.516   0.928  1.00  0.00          SN  \nATOM    111   Sn MOL     1       0.040  23.928   1.551  1.00  0.00          SN  \nATOM    112   Sn MOL     1       0.037  20.517   4.425  1.00  0.00          SN  \nATOM    113    O MOL     1       1.655  21.781   4.820  1.00  0.00           O  \nATOM    114    O MOL     1       1.662  25.196   1.168  1.00  0.00           O  \nATOM    115    O MOL     1       1.665  26.071   4.833  1.00  0.00           O  \nATOM    116    O MOL     1       1.659  22.659   1.157  1.00  0.00           O  \nATOM    117    O MOL     1       0.040  23.922   6.230  1.00  0.00           O  \nATOM    118    O MOL     1       0.038  20.511   2.417  1.00  0.00           O  \nATOM    119    O MOL     1       0.040  23.926   3.559  1.00  0.00           O  \nATOM    120    O MOL     1       0.036  20.510  -0.255  1.00  0.00           O  \nATOM    121   Sn MOL     1       4.838  17.106   5.016  1.00  0.00          SN  \nATOM    122   Sn MOL     1       4.907  13.673   0.927  1.00  0.00          SN  \nATOM    123   Sn MOL     1       3.266  17.093   1.521  1.00  0.00          SN  \nATOM    124   Sn MOL     1       3.255  13.691   4.434  1.00  0.00          SN  \nATOM    125    O MOL     1       4.869  14.946   4.857  1.00  0.00           O  \nATOM    126    O MOL     1       4.883  18.366   1.132  1.00  0.00           O  \nATOM    127    O MOL     1       4.885  19.239   4.795  1.00  0.00           O  \nATOM    128    O MOL     1       4.882  15.825   1.095  1.00  0.00           O  \nATOM    129    O MOL     1       3.251  17.106   6.224  1.00  0.00           O  \nATOM    130    O MOL     1       3.284  13.688   2.429  1.00  0.00           O  \nATOM    131    O MOL     1       3.258  17.073   3.535  1.00  0.00           O  \nATOM    132    O MOL     1       3.279  13.639  -0.240  1.00  0.00           O  \nATOM    133   Sn MOL     1       4.900  23.926   5.045  1.00  0.00          SN  \nATOM    134   Sn MOL     1       4.892  20.519   0.922  1.00  0.00          SN  \nATOM    135   Sn MOL     1       3.279  23.927   1.550  1.00  0.00          SN  \nATOM    136   Sn MOL     1       3.267  20.520   4.419  1.00  0.00          SN  \nATOM    137    O MOL     1       4.891  21.777   4.824  1.00  0.00           O  \nATOM    138    O MOL     1       4.904  25.195   1.171  1.00  0.00           O  \nATOM    139    O MOL     1       4.906  26.068   4.831  1.00  0.00           O  \nATOM    140    O MOL     1       4.901  22.658   1.151  1.00  0.00           O  \nATOM    141    O MOL     1       3.281  23.920   6.229  1.00  0.00           O  \nATOM    142    O MOL     1       3.277  20.511   2.412  1.00  0.00           O  \nATOM    143    O MOL     1       3.283  23.920   3.558  1.00  0.00           O  \nATOM    144    O MOL     1       3.273  20.513  -0.259  1.00  0.00           O  \nATOM    145   Sn MOL     1       8.013  17.091   4.904  1.00  0.00          SN  \nATOM    146   Sn MOL     1       8.162  13.670   1.042  1.00  0.00          SN  \nATOM    147   Sn MOL     1       6.495  17.092   1.471  1.00  0.00          SN  \nATOM    148   Sn MOL     1       6.480  13.689   4.434  1.00  0.00          SN  \nATOM    149    O MOL     1       8.073  14.945   4.867  1.00  0.00           O  \nATOM    150    O MOL     1       8.129  18.363   1.146  1.00  0.00           O  \nATOM    151    O MOL     1       8.111  19.223   4.784  1.00  0.00           O  \nATOM    152    O MOL     1       8.139  15.828   1.166  1.00  0.00           O  \nATOM    153    O MOL     1       6.482  17.129   6.183  1.00  0.00           O  \nATOM    154    O MOL     1       6.483  13.720   2.440  1.00  0.00           O  \nATOM    155    O MOL     1       6.444  17.065   3.490  1.00  0.00           O  \nATOM    156    O MOL     1       6.569  13.643  -0.200  1.00  0.00           O  \nATOM    157   Sn MOL     1       8.144  23.919   5.043  1.00  0.00          SN  \nATOM    158   Sn MOL     1       8.134  20.517   0.924  1.00  0.00          SN  \nATOM    159   Sn MOL     1       6.522  23.925   1.548  1.00  0.00          SN  \nATOM    160   Sn MOL     1       6.500  20.523   4.415  1.00  0.00          SN  \nATOM    161    O MOL     1       8.134  21.761   4.833  1.00  0.00           O  \nATOM    162    O MOL     1       8.147  25.190   1.167  1.00  0.00           O  \nATOM    163    O MOL     1       8.152  26.063   4.831  1.00  0.00           O  \nATOM    164    O MOL     1       8.145  22.652   1.155  1.00  0.00           O  \nATOM    165    O MOL     1       6.525  23.911   6.226  1.00  0.00           O  \nATOM    166    O MOL     1       6.516  20.511   2.411  1.00  0.00           O  \nATOM    167    O MOL     1       6.527  23.908   3.557  1.00  0.00           O  \nATOM    168    O MOL     1       6.517  20.499  -0.259  1.00  0.00           O  \nATOM    169   Sn MOL     1      11.337  17.094   4.913  1.00  0.00          SN  \nATOM    170   Sn MOL     1      11.396  13.665   1.151  1.00  0.00          SN  \nATOM    171   Sn MOL     1       9.747  17.098   1.519  1.00  0.00          SN  \nATOM    172   Sn MOL     1       9.744  13.635   4.663  1.00  0.00          SN  \nATOM    173    O MOL     1      11.346  15.017   4.776  1.00  0.00           O  \nATOM    174    O MOL     1      11.372  18.361   1.136  1.00  0.00           O  \nATOM    175    O MOL     1      11.365  19.207   4.847  1.00  0.00           O  \nATOM    176    O MOL     1      11.381  15.830   1.245  1.00  0.00           O  \nATOM    177    O MOL     1       9.656  17.179   6.187  1.00  0.00           O  \nATOM    178    O MOL     1       9.741  13.705   2.592  1.00  0.00           O  \nATOM    179    O MOL     1       9.696  17.135   3.560  1.00  0.00           O  \nATOM    180    O MOL     1       9.810  13.621  -0.094  1.00  0.00           O  \nATOM    181   Sn MOL     1      11.387  23.914   5.037  1.00  0.00          SN  \nATOM    182   Sn MOL     1      11.382  20.516   0.922  1.00  0.00          SN  \nATOM    183   Sn MOL     1       9.766  23.923   1.544  1.00  0.00          SN  \nATOM    184   Sn MOL     1       9.742  20.505   4.417  1.00  0.00          SN  \nATOM    185    O MOL     1      11.376  21.743   4.828  1.00  0.00           O  \nATOM    186    O MOL     1      11.390  25.187   1.165  1.00  0.00           O  \nATOM    187    O MOL     1      11.392  26.059   4.829  1.00  0.00           O  \nATOM    188    O MOL     1      11.389  22.648   1.154  1.00  0.00           O  \nATOM    189    O MOL     1       9.769  23.895   6.222  1.00  0.00           O  \nATOM    190    O MOL     1       9.764  20.485   2.416  1.00  0.00           O  \nATOM    191    O MOL     1       9.769  23.897   3.554  1.00  0.00           O  \nATOM    192    O MOL     1       9.760  20.503  -0.255  1.00  0.00           O  \nATOM    193   Sn MOL     1      14.645   3.405   5.044  1.00  0.00          SN  \nATOM    194   Sn MOL     1      14.637  -0.002   0.948  1.00  0.00          SN  \nATOM    195   Sn MOL     1      13.020   3.410   1.549  1.00  0.00          SN  \nATOM    196   Sn MOL     1      13.014  -0.008   4.441  1.00  0.00          SN  \nATOM    197    O MOL     1      14.635   1.264   4.829  1.00  0.00           O  \nATOM    198    O MOL     1      14.645   4.682   1.160  1.00  0.00           O  \nATOM    199    O MOL     1      14.660   5.567   4.827  1.00  0.00           O  \nATOM    200    O MOL     1      14.639   2.145   1.171  1.00  0.00           O  \nATOM    201    O MOL     1      13.022   3.433   6.226  1.00  0.00           O  \nATOM    202    O MOL     1      13.014  -0.005   2.435  1.00  0.00           O  \nATOM    203    O MOL     1      13.019   3.442   3.559  1.00  0.00           O  \nATOM    204    O MOL     1      13.014   0.001  -0.232  1.00  0.00           O  \nATOM    205   Sn MOL     1      14.683  10.205   4.921  1.00  0.00          SN  \nATOM    206   Sn MOL     1      14.654   6.813   0.920  1.00  0.00          SN  \nATOM    207   Sn MOL     1      13.039  10.224   1.469  1.00  0.00          SN  \nATOM    208   Sn MOL     1      13.031   6.786   4.404  1.00  0.00          SN  \nATOM    209    O MOL     1      14.650   8.096   4.842  1.00  0.00           O  \nATOM    210    O MOL     1      14.669  11.501   1.295  1.00  0.00           O  \nATOM    211    O MOL     1      14.690  12.285   4.821  1.00  0.00           O  \nATOM    212    O MOL     1      14.675   8.970   1.125  1.00  0.00           O  \nATOM    213    O MOL     1      12.963  10.110   6.117  1.00  0.00           O  \nATOM    214    O MOL     1      13.027   6.839   2.405  1.00  0.00           O  \nATOM    215    O MOL     1      13.072  10.102   3.497  1.00  0.00           O  \nATOM    216    O MOL     1      13.027   6.839  -0.259  1.00  0.00           O  \nATOM    217   Sn MOL     1      17.888   3.405   5.053  1.00  0.00          SN  \nATOM    218   Sn MOL     1      17.882  -0.001   0.948  1.00  0.00          SN  \nATOM    219   Sn MOL     1      16.266   3.406   1.553  1.00  0.00          SN  \nATOM    220   Sn MOL     1      16.258  -0.005   4.441  1.00  0.00          SN  \nATOM    221    O MOL     1      17.879   1.264   4.832  1.00  0.00           O  \nATOM    222    O MOL     1      17.889   4.682   1.176  1.00  0.00           O  \nATOM    223    O MOL     1      17.898   5.560   4.841  1.00  0.00           O  \nATOM    224    O MOL     1      17.886   2.145   1.170  1.00  0.00           O  \nATOM    225    O MOL     1      16.261   3.422   6.231  1.00  0.00           O  \nATOM    226    O MOL     1      16.256  -0.004   2.434  1.00  0.00           O  \nATOM    227    O MOL     1      16.263   3.423   3.562  1.00  0.00           O  \nATOM    228    O MOL     1      16.259   0.001  -0.233  1.00  0.00           O  \nATOM    229   Sn MOL     1      18.017  10.222   4.978  1.00  0.00          SN  \nATOM    230   Sn MOL     1      17.901   6.816   0.945  1.00  0.00          SN  \nATOM    231   Sn MOL     1      16.293  10.228   1.565  1.00  0.00          SN  \nATOM    232   Sn MOL     1      16.291   6.817   4.430  1.00  0.00          SN  \nATOM    233    O MOL     1      17.925   8.094   4.815  1.00  0.00           O  \nATOM    234    O MOL     1      17.897  11.506   1.260  1.00  0.00           O  \nATOM    235    O MOL     1      17.950  12.370   4.969  1.00  0.00           O  \nATOM    236    O MOL     1      17.908   8.969   1.174  1.00  0.00           O  \nATOM    237    O MOL     1      16.338  10.001   6.230  1.00  0.00           O  \nATOM    238    O MOL     1      16.267   6.851   2.428  1.00  0.00           O  \nATOM    239    O MOL     1      16.344  10.179   3.611  1.00  0.00           O  \nATOM    240    O MOL     1      16.283   6.821  -0.245  1.00  0.00           O  \nATOM    241   Sn MOL     1      21.132   3.404   5.062  1.00  0.00          SN  \nATOM    242   Sn MOL     1      21.126   0.002   0.951  1.00  0.00          SN  \nATOM    243   Sn MOL     1      19.511   3.409   1.562  1.00  0.00          SN  \nATOM    244   Sn MOL     1      19.502  -0.003   4.443  1.00  0.00          SN  \nATOM    245    O MOL     1      21.123   1.266   4.835  1.00  0.00           O  \nATOM    246    O MOL     1      21.133   4.682   1.177  1.00  0.00           O  \nATOM    247    O MOL     1      21.146   5.553   4.847  1.00  0.00           O  \nATOM    248    O MOL     1      21.129   2.146   1.178  1.00  0.00           O  \nATOM    249    O MOL     1      19.505   3.416   6.239  1.00  0.00           O  \nATOM    250    O MOL     1      19.500  -0.002   2.436  1.00  0.00           O  \nATOM    251    O MOL     1      19.507   3.421   3.571  1.00  0.00           O  \nATOM    252    O MOL     1      19.504   0.002  -0.232  1.00  0.00           O  \nATOM    253   Sn MOL     1      21.193  10.233   5.069  1.00  0.00          SN  \nATOM    254   Sn MOL     1      21.141   6.821   0.954  1.00  0.00          SN  \nATOM    255   Sn MOL     1      19.536  10.240   1.536  1.00  0.00          SN  \nATOM    256   Sn MOL     1      19.537   6.805   4.443  1.00  0.00          SN  \nATOM    257    O MOL     1      21.149   8.094   4.840  1.00  0.00           O  \nATOM    258    O MOL     1      21.142  11.515   1.180  1.00  0.00           O  \nATOM    259    O MOL     1      21.158  12.392   4.912  1.00  0.00           O  \nATOM    260    O MOL     1      21.147   8.972   1.172  1.00  0.00           O  \nATOM    261    O MOL     1      19.556  10.186   6.246  1.00  0.00           O  \nATOM    262    O MOL     1      19.519   6.825   2.438  1.00  0.00           O  \nATOM    263    O MOL     1      19.583  10.254   3.555  1.00  0.00           O  \nATOM    264    O MOL     1      19.521   6.836  -0.233  1.00  0.00           O  \nATOM    265   Sn MOL     1      24.373   3.410   5.068  1.00  0.00          SN  \nATOM    266   Sn MOL     1      24.368   0.005   0.954  1.00  0.00          SN  \nATOM    267   Sn MOL     1      22.752   3.412   1.570  1.00  0.00          SN  \nATOM    268   Sn MOL     1      22.747   0.001   4.446  1.00  0.00          SN  \nATOM    269    O MOL     1      24.369   1.270   4.841  1.00  0.00           O  \nATOM    270    O MOL     1      24.374   4.687   1.191  1.00  0.00           O  \nATOM    271    O MOL     1      24.378   5.560   4.856  1.00  0.00           O  \nATOM    272    O MOL     1      24.372   2.149   1.180  1.00  0.00           O  \nATOM    273    O MOL     1      22.750   3.408   6.248  1.00  0.00           O  \nATOM    274    O MOL     1      22.746   0.001   2.440  1.00  0.00           O  \nATOM    275    O MOL     1      22.752   3.415   3.578  1.00  0.00           O  \nATOM    276    O MOL     1      22.747   0.008  -0.230  1.00  0.00           O  \nATOM    277   Sn MOL     1      24.395  10.248   5.074  1.00  0.00          SN  \nATOM    278   Sn MOL     1      24.375   6.828   0.970  1.00  0.00          SN  \nATOM    279   Sn MOL     1      22.761  10.246   1.571  1.00  0.00          SN  \nATOM    280   Sn MOL     1      22.768   6.824   4.459  1.00  0.00          SN  \nATOM    281    O MOL     1      24.385   8.103   4.856  1.00  0.00           O  \nATOM    282    O MOL     1      24.371  11.522   1.193  1.00  0.00           O  \nATOM    283    O MOL     1      24.378  12.399   4.860  1.00  0.00           O  \nATOM    284    O MOL     1      24.376   8.979   1.190  1.00  0.00           O  \nATOM    285    O MOL     1      22.787  10.232   6.272  1.00  0.00           O  \nATOM    286    O MOL     1      22.757   6.832   2.451  1.00  0.00           O  \nATOM    287    O MOL     1      22.774  10.254   3.585  1.00  0.00           O  \nATOM    288    O MOL     1      22.762   6.830  -0.223  1.00  0.00           O  \nATOM    289   Sn MOL     1      14.647  17.125   4.823  1.00  0.00          SN  \nATOM    290   Sn MOL     1      14.651  13.668   1.215  1.00  0.00          SN  \nATOM    291   Sn MOL     1      13.007  17.105   1.493  1.00  0.00          SN  \nATOM    292   Sn MOL     1      13.012  13.641   4.665  1.00  0.00          SN  \nATOM    293    O MOL     1      14.644  15.047   4.695  1.00  0.00           O  \nATOM    294    O MOL     1      14.646  18.360   1.143  1.00  0.00           O  \nATOM    295    O MOL     1      14.632  19.227   4.792  1.00  0.00           O  \nATOM    296    O MOL     1      14.645  15.835   1.297  1.00  0.00           O  \nATOM    297    O MOL     1      13.029  17.190   6.158  1.00  0.00           O  \nATOM    298    O MOL     1      13.020  13.666   2.643  1.00  0.00           O  \nATOM    299    O MOL     1      12.974  17.199   3.526  1.00  0.00           O  \nATOM    300    O MOL     1      13.040  13.662  -0.003  1.00  0.00           O  \nATOM    301   Sn MOL     1      14.634  23.914   5.039  1.00  0.00          SN  \nATOM    302   Sn MOL     1      14.637  20.515   0.922  1.00  0.00          SN  \nATOM    303   Sn MOL     1      13.011  23.922   1.544  1.00  0.00          SN  \nATOM    304   Sn MOL     1      13.001  20.512   4.415  1.00  0.00          SN  \nATOM    305    O MOL     1      14.633  21.750   4.830  1.00  0.00           O  \nATOM    306    O MOL     1      14.634  25.185   1.163  1.00  0.00           O  \nATOM    307    O MOL     1      14.634  26.057   4.827  1.00  0.00           O  \nATOM    308    O MOL     1      14.632  22.646   1.156  1.00  0.00           O  \nATOM    309    O MOL     1      13.009  23.885   6.219  1.00  0.00           O  \nATOM    310    O MOL     1      13.003  20.483   2.414  1.00  0.00           O  \nATOM    311    O MOL     1      13.009  23.889   3.554  1.00  0.00           O  \nATOM    312    O MOL     1      13.010  20.484  -0.253  1.00  0.00           O  \nATOM    313   Sn MOL     1      17.994  17.121   4.956  1.00  0.00          SN  \nATOM    314   Sn MOL     1      17.870  13.666   1.141  1.00  0.00          SN  \nATOM    315   Sn MOL     1      16.283  17.101   1.520  1.00  0.00          SN  \nATOM    316   Sn MOL     1      16.285  13.690   4.794  1.00  0.00          SN  \nATOM    317    O MOL     1      17.965  14.985   4.928  1.00  0.00           O  \nATOM    318    O MOL     1      17.896  18.363   1.132  1.00  0.00           O  \nATOM    319    O MOL     1      17.896  19.242   4.809  1.00  0.00           O  \nATOM    320    O MOL     1      17.897  15.826   1.239  1.00  0.00           O  \nATOM    321    O MOL     1      16.262  17.301   6.157  1.00  0.00           O  \nATOM    322    O MOL     1      16.305  13.665   2.701  1.00  0.00           O  \nATOM    323    O MOL     1      16.338  17.158   3.559  1.00  0.00           O  \nATOM    324    O MOL     1      16.237  13.678  -0.012  1.00  0.00           O  \nATOM    325   Sn MOL     1      17.880  23.922   5.042  1.00  0.00          SN  \nATOM    326   Sn MOL     1      17.887  20.517   0.922  1.00  0.00          SN  \nATOM    327   Sn MOL     1      16.258  23.922   1.545  1.00  0.00          SN  \nATOM    328   Sn MOL     1      16.270  20.523   4.413  1.00  0.00          SN  \nATOM    329    O MOL     1      17.887  21.771   4.821  1.00  0.00           O  \nATOM    330    O MOL     1      17.878  25.188   1.164  1.00  0.00           O  \nATOM    331    O MOL     1      17.876  26.062   4.828  1.00  0.00           O  \nATOM    332    O MOL     1      17.879  22.651   1.157  1.00  0.00           O  \nATOM    333    O MOL     1      16.254  23.896   6.222  1.00  0.00           O  \nATOM    334    O MOL     1      16.258  20.488   2.412  1.00  0.00           O  \nATOM    335    O MOL     1      16.252  23.896   3.554  1.00  0.00           O  \nATOM    336    O MOL     1      16.260  20.500  -0.256  1.00  0.00           O  \nATOM    337   Sn MOL     1      21.171  17.108   5.049  1.00  0.00          SN  \nATOM    338   Sn MOL     1      21.120  13.666   0.988  1.00  0.00          SN  \nATOM    339   Sn MOL     1      19.528  17.100   1.517  1.00  0.00          SN  \nATOM    340   Sn MOL     1      19.542  13.665   4.532  1.00  0.00          SN  \nATOM    341    O MOL     1      21.149  14.948   4.902  1.00  0.00           O  \nATOM    342    O MOL     1      21.139  18.363   1.139  1.00  0.00           O  \nATOM    343    O MOL     1      21.134  19.246   4.818  1.00  0.00           O  \nATOM    344    O MOL     1      21.134  15.818   1.167  1.00  0.00           O  \nATOM    345    O MOL     1      19.531  17.156   6.227  1.00  0.00           O  \nATOM    346    O MOL     1      19.536  13.663   2.535  1.00  0.00           O  \nATOM    347    O MOL     1      19.568  17.105   3.535  1.00  0.00           O  \nATOM    348    O MOL     1      19.451  13.658  -0.116  1.00  0.00           O  \nATOM    349   Sn MOL     1      21.124  23.928   5.045  1.00  0.00          SN  \nATOM    350   Sn MOL     1      21.129  20.516   0.929  1.00  0.00          SN  \nATOM    351   Sn MOL     1      19.504  23.926   1.548  1.00  0.00          SN  \nATOM    352   Sn MOL     1      19.520  20.525   4.421  1.00  0.00          SN  \nATOM    353    O MOL     1      21.131  21.783   4.816  1.00  0.00           O  \nATOM    354    O MOL     1      21.124  25.193   1.164  1.00  0.00           O  \nATOM    355    O MOL     1      21.122  26.068   4.831  1.00  0.00           O  \nATOM    356    O MOL     1      21.122  22.656   1.160  1.00  0.00           O  \nATOM    357    O MOL     1      19.499  23.911   6.225  1.00  0.00           O  \nATOM    358    O MOL     1      19.503  20.498   2.415  1.00  0.00           O  \nATOM    359    O MOL     1      19.498  23.916   3.556  1.00  0.00           O  \nATOM    360    O MOL     1      19.508  20.506  -0.256  1.00  0.00           O  \nATOM    361   Sn MOL     1      24.375  17.101   5.043  1.00  0.00          SN  \nATOM    362   Sn MOL     1      24.363  13.667   0.967  1.00  0.00          SN  \nATOM    363   Sn MOL     1      22.754  17.091   1.547  1.00  0.00          SN  \nATOM    364   Sn MOL     1      22.760  13.672   4.476  1.00  0.00          SN  \nATOM    365    O MOL     1      24.370  14.948   4.851  1.00  0.00           O  \nATOM    366    O MOL     1      24.365  18.360   1.153  1.00  0.00           O  \nATOM    367    O MOL     1      24.368  19.242   4.810  1.00  0.00           O  \nATOM    368    O MOL     1      24.365  15.815   1.166  1.00  0.00           O  \nATOM    369    O MOL     1      22.768  17.118   6.246  1.00  0.00           O  \nATOM    370    O MOL     1      22.743  13.670   2.468  1.00  0.00           O  \nATOM    371    O MOL     1      22.757  17.084   3.560  1.00  0.00           O  \nATOM    372    O MOL     1      22.734  13.661  -0.204  1.00  0.00           O  \nATOM    373   Sn MOL     1      24.365  23.928   5.046  1.00  0.00          SN  \nATOM    374   Sn MOL     1      24.365  20.514   0.932  1.00  0.00          SN  \nATOM    375   Sn MOL     1      22.746  23.927   1.551  1.00  0.00          SN  \nATOM    376   Sn MOL     1      22.753  20.518   4.426  1.00  0.00          SN  \nATOM    377    O MOL     1      24.366  21.782   4.820  1.00  0.00           O  \nATOM    378    O MOL     1      24.366  25.196   1.166  1.00  0.00           O  \nATOM    379    O MOL     1      24.367  26.071   4.833  1.00  0.00           O  \nATOM    380    O MOL     1      24.365  22.658   1.160  1.00  0.00           O  \nATOM    381    O MOL     1      22.743  23.921   6.229  1.00  0.00           O  \nATOM    382    O MOL     1      22.744  20.506   2.419  1.00  0.00           O  \nATOM    383    O MOL     1      22.744  23.926   3.558  1.00  0.00           O  \nATOM    384    O MOL     1      22.747  20.514  -0.254  1.00  0.00           O  \nATOM    385   Pt MOL     1       8.864  12.163   9.808  1.00  0.00          PT  \nATOM    386   Pt MOL     1      10.648  10.346  10.644  1.00  0.00          PT  \nATOM    387   Pt MOL     1       9.760  10.296   8.107  1.00  0.00          PT  \nATOM    388   Pt MOL     1       9.793  12.169  12.270  1.00  0.00          PT  \nATOM    389   Pt MOL     1      10.233  14.525  13.424  1.00  0.00          PT  \nATOM    390   Pt MOL     1      12.221  12.906  12.815  1.00  0.00          PT  \nATOM    391   Pt MOL     1      11.635  12.711   9.855  1.00  0.00          PT  \nATOM    392   Pt MOL     1      14.099  14.808  12.503  1.00  0.00          PT  \nATOM    393   Pt MOL     1       7.687  11.926   7.514  1.00  0.00          PT  \nATOM    394   Pt MOL     1       8.366  14.410   8.502  1.00  0.00          PT  \nATOM    395   Pt MOL     1      10.203  12.896   7.254  1.00  0.00          PT  \nATOM    396   Pt MOL     1       9.080  14.440  11.068  1.00  0.00          PT  \nATOM    397   Pt MOL     1       9.339  16.958  10.751  1.00  0.00          PT  \nATOM    398   Pt MOL     1      11.666  15.080  11.223  1.00  0.00          PT  \nATOM    399   Pt MOL     1      10.999  14.983   8.595  1.00  0.00          PT  \nATOM    400   Pt MOL     1      10.841  17.002  12.875  1.00  0.00          PT  \nATOM    401   Pt MOL     1      13.191  17.188  11.757  1.00  0.00          PT  \nATOM    402   Pt MOL     1       9.409  16.949   8.198  1.00  0.00          PT  \nATOM    403   Pt MOL     1      11.612  17.449   9.609  1.00  0.00          PT  \nATOM    404   Pt MOL     1      11.613   8.639   9.009  1.00  0.00          PT  \nATOM    405   Pt MOL     1      12.281  11.078   7.840  1.00  0.00          PT  \nATOM    406   Pt MOL     1      13.944   9.516   9.377  1.00  0.00          PT  \nATOM    407   Pt MOL     1      13.100  10.984  11.330  1.00  0.00          PT  \nATOM    408   Pt MOL     1      13.745  14.329   9.807  1.00  0.00          PT  \nATOM    409   Pt MOL     1      15.736  10.976  10.713  1.00  0.00          PT  \nATOM    410   Pt MOL     1      14.540  12.102   8.584  1.00  0.00          PT  \nATOM    411   Pt MOL     1      14.745  12.307  12.867  1.00  0.00          PT  \nATOM    412   Pt MOL     1      16.083  13.680  11.107  1.00  0.00          PT  \nATOM    413   Pt MOL     1      12.859  13.591   7.280  1.00  0.00          PT  \nATOM    414   Pt MOL     1      13.320  16.117   7.898  1.00  0.00          PT  \nATOM    415   Pt MOL     1      15.559  14.240   7.477  1.00  0.00          PT  \nATOM    416   Pt MOL     1      15.416  16.254  10.572  1.00  0.00          PT  \nATOM    417   Pt MOL     1      15.931  16.846   8.085  1.00  0.00          PT  \nATOM    418   Pt MOL     1      14.077  18.200   9.476  1.00  0.00          PT  \nATOM    419   Pt MOL     1      16.237  10.200   8.233  1.00  0.00          PT  \nATOM    420   Pt MOL     1      17.141  12.540   8.971  1.00  0.00          PT  \nATOM    421   Pt MOL     1      17.427  15.056   9.328  1.00  0.00          PT  \nENDMDL\n",
           "type": "blob"
          }
         ],
         "kwargs": {
          "defaultRepresentation": false,
          "ext": "pdb"
         },
         "methodName": "loadFile",
         "reconstruc_color_scheme": false,
         "target": "Stage",
         "type": "call_method"
        },
        {
         "args": [
          "500px",
          "500px"
         ],
         "kwargs": {},
         "methodName": "setSize",
         "reconstruc_color_scheme": false,
         "target": "Widget",
         "type": "call_method"
        },
        {
         "args": [
          "unitcell"
         ],
         "component_index": 0,
         "kwargs": {
          "sele": "all"
         },
         "methodName": "addRepresentation",
         "reconstruc_color_scheme": false,
         "target": "compList",
         "type": "call_method"
        },
        {
         "args": [
          "spacefill"
         ],
         "component_index": 0,
         "kwargs": {
          "sele": "all"
         },
         "methodName": "addRepresentation",
         "reconstruc_color_scheme": false,
         "target": "compList",
         "type": "call_method"
        },
        {
         "args": [],
         "kwargs": {
          "cameraType": "orthographic"
         },
         "methodName": "setParameters",
         "reconstruc_color_scheme": false,
         "target": "Stage",
         "type": "call_method"
        },
        {
         "args": [
          {
           "clipDist": 0
          }
         ],
         "kwargs": {},
         "methodName": "setParameters",
         "reconstruc_color_scheme": false,
         "target": "Widget",
         "type": "call_method"
        },
        {
         "args": [
          "spacefill",
          0
         ],
         "kwargs": {
          "colorScale": "rainbow",
          "colorScheme": "element",
          "radiusScale": 0.5,
          "radiusType": "covalent"
         },
         "methodName": "updateRepresentationsByName",
         "reconstruc_color_scheme": false,
         "target": "Widget",
         "type": "call_method"
        },
        {
         "args": [
          "this._Q = [[1.0, 0.0, 0.0], [0.0, 1.0, 0.0], [0.0, 0.0, 1.0]]\n    var tooltip = document.createElement('div');\n    Object.assign(tooltip.style, {\n      display: 'none',\n      position: 'fixed',\n      zIndex: 10,\n      pointerEvents: 'none',\n      backgroundColor: 'rgba( 0, 0, 0, 0.6 )',\n      color: 'lightgrey',\n      padding: '8px',\n      fontFamily: 'sans-serif'\n    });\n    document.body.appendChild(tooltip);\n\n    var that = this;\n    this.stage.mouseControls.remove('hoverPick');\n    this.stage.signals.hovered.add(function (pickingProxy) {\n      if (pickingProxy && (pickingProxy.atom || pickingProxy.bond)) {\n        var atom = pickingProxy.atom || pickingProxy.closestBondAtom\n        var mp = pickingProxy.mouse.position\n        //tooltip.innerText = atom.element + ' i=' + atom.index + ' (' + atom.x.toFixed(2) +  ', ' + atom.y.toFixed(2) +  ', ' + atom.z.toFixed(2) + ')'\n        //var pos = that._atoms_pos[atom.index]\n        var Q = that._Q\n        var pos_x = Q[0][0] * atom.x + Q[0][1] * atom.y + Q[0][2] * atom.z \n        var pos_y = Q[1][0] * atom.x + Q[1][1] * atom.y + Q[1][2] * atom.z\n        var pos_z = Q[2][0] * atom.x + Q[2][1] * atom.y + Q[2][2] * atom.z\n        tooltip.innerText = 'i=' + atom.index + ' ' + atom.element + ' (' + pos_x.toFixed(2) +  ', ' + pos_y.toFixed(2) +  ', ' + pos_z.toFixed(2) + ')'\n        tooltip.style.bottom = window.innerHeight - mp.y + 3 + 'px'\n        tooltip.style.left = mp.x + 3 + 'px'\n        tooltip.style.display = 'block'\n      } else {\n        tooltip.style.display = 'none'\n      }\n    });\n    this.stage.tooltip = tooltip;\n    "
         ],
         "kwargs": {},
         "methodName": "executeCode",
         "reconstruc_color_scheme": false,
         "target": "Widget",
         "type": "call_method"
        },
        {
         "args": [
          "var chargeArray = [2.3898305892944336, 2.3917016983032227, 2.365492820739746, 2.363912582397461, -1.2078653573989868, -1.2121628522872925, -1.2087324857711792, -1.2059524059295654, -1.1261358261108398, -1.2218539714813232, -1.223052740097046, -1.127462387084961, 2.367375373840332, 2.3937809467315674, 2.364434003829956, 2.3627960681915283, -1.2072911262512207, -1.206979751586914, -1.2100186347961426, -1.205088496208191, -1.1273512840270996, -1.2244040966033936, -1.2341737747192383, -1.130145788192749, 2.3884189128875732, 2.391035318374634, 2.3676717281341553, 2.364518165588379, -1.2118513584136963, -1.214435338973999, -1.2001358270645142, -1.2061691284179688, -1.1261779069900513, -1.2219325304031372, -1.224571943283081, -1.1274611949920654, 2.385209321975708, 2.3917317390441895, 2.3563246726989746, 2.3541386127471924, -1.2157388925552368, -1.2020761966705322, -1.2238208055496216, -1.1960926055908203, -1.086638331413269, -1.2225451469421387, -1.2539798021316528, -1.1293715238571167, 2.3877031803131104, 2.390279769897461, 2.365769624710083, 2.3670642375946045, -1.2127057313919067, -1.2143700122833252, -1.2040064334869385, -1.2067738771438599, -1.1261416673660278, -1.2224217653274536, -1.2246568202972412, -1.1272644996643066, 2.357642889022827, 2.381619691848755, 2.350597620010376, 2.347822427749634, -1.2121539115905762, -1.1991043090820312, -1.2049024105072021, -1.1933197975158691, -0.9756301641464233, -1.2230592966079712, -1.291801929473877, -1.1308563947677612, 2.387054443359375, 2.389725923538208, 2.3633930683135986, 2.367499589920044, -1.211808681488037, -1.2132576704025269, -1.2110090255737305, -1.2072772979736328, -1.1274049282073975, -1.222630500793457, -1.2220488786697388, -1.1269184350967407, 2.3459343910217285, 2.3747215270996094, 2.3604700565338135, 2.341963768005371, -1.2115994691848755, -1.1982231140136719, -1.2254867553710938, -1.1947808265686035, -1.1031091213226318, -1.2168397903442383, -1.3026525974273682, -1.134796380996704, 2.3945553302764893, 2.38826322555542, 2.365097999572754, 2.364755630493164, -1.210430383682251, -1.2052955627441406, -1.214555263519287, -1.2072596549987793, -1.1309525966644287, -1.2248907089233398, -1.230039358139038, -1.1261756420135498, 2.3917131423950195, 2.3914594650268555, 2.364315986633301, 2.367753505706787, -1.2059921026229858, -1.2086098194122314, -1.2090296745300293, -1.2086155414581299, -1.1274536848068237, -1.2242823839187622, -1.2223219871520996, -1.1262966394424438, 2.3570051193237305, 2.3847813606262207, 2.3588852882385254, 2.3592703342437744, -1.2085789442062378, -1.201755404472351, -1.2156181335449219, -1.2023844718933105, -1.1306524276733398, -1.2222445011138916, -1.2336519956588745, -1.1214993000030518, 2.390801191329956, 2.3893091678619385, 2.36454176902771, 2.365657329559326, -1.2055351734161377, -1.2087522745132446, -1.2098454236984253, -1.2093560695648193, -1.1273225545883179, -1.2247508764266968, -1.222455382347107, -1.1268805265426636, 2.377070188522339, 2.3831515312194824, 2.3658552169799805, 2.3655288219451904, -1.2450368404388428, -1.1994163990020752, -1.2148323059082031, -1.2024749517440796, -1.0799239873886108, -1.2242145538330078, -1.2587242126464844, -1.132356882095337, 2.3892033100128174, 2.3857486248016357, 2.363950252532959, 2.3570456504821777, -1.207343339920044, -1.2082395553588867, -1.2107586860656738, -1.2117152214050293, -1.1271214485168457, -1.2244137525558472, -1.2227967977523804, -1.1305052042007446, 2.3832881450653076, 2.382962942123413, 2.34993577003479, 2.336374521255493, -1.2478511333465576, -1.1927359104156494, -1.2088900804519653, -1.1983212232589722, -1.099820613861084, -1.2062528133392334, -1.2912191152572632, -1.1500020027160645, 2.3859570026397705, 2.3825876712799072, 2.364668369293213, 2.34425950050354, -1.2021886110305786, -1.2073452472686768, -1.211958646774292, -1.213883876800537, -1.1269607543945312, -1.2195484638214111, -1.2236839532852173, -1.13044011592865, 2.3868472576141357, 2.389681816101074, 2.3627116680145264, 2.3680226802825928, -1.211893081665039, -1.213072657585144, -1.2017083168029785, -1.2077953815460205, -1.127669334411621, -1.2228882312774658, -1.2219724655151367, -1.1267094612121582, 2.3783583641052246, 2.380406379699707, 2.3589470386505127, 2.3394999504089355, -1.2139530181884766, -1.198164939880371, -1.2438554763793945, -1.1908438205718994, -1.1278449296951294, -1.2156074047088623, -1.3073110580444336, -1.1338118314743042, 2.3896267414093018, 2.3900928497314453, 2.364738702774048, 2.366971969604492, -1.2100517749786377, -1.2123112678527832, -1.208229422569275, -1.2074558734893799, -1.1281925439834595, -1.22218918800354, -1.2227262258529663, -1.1269385814666748, 2.3864357471466064, 2.3862321376800537, 2.348762273788452, 2.3405189514160156, -1.2106547355651855, -1.204673409461975, -1.2346924543380737, -1.1975226402282715, -1.112955093383789, -1.2193894386291504, -1.2891747951507568, -1.129262089729309, 2.3905742168426514, 2.3907573223114014, 2.364189624786377, 2.3659043312072754, -1.2094312906265259, -1.2103664875030518, -1.205378770828247, -1.2071640491485596, -1.1276323795318604, -1.2216675281524658, -1.2222973108291626, -1.1273809671401978, 2.358211040496826, 2.3902783393859863, 2.370065212249756, 2.3551506996154785, -1.2118091583251953, -1.205346941947937, -1.20576810836792, -1.2017812728881836, -1.0912617444992065, -1.224552869796753, -1.2603636980056763, -1.1306076049804688, 2.3902392387390137, 2.391557216644287, 2.3647143840789795, 2.3647897243499756, -1.2085251808166504, -1.2103151082992554, -1.2064865827560425, -1.2066926956176758, -1.1268750429153442, -1.2214076519012451, -1.222176194190979, -1.1277520656585693, 2.3902227878570557, 2.3924171924591064, 2.362283229827881, 2.3626608848571777, -1.2106131315231323, -1.2072421312332153, -1.2095524072647095, -1.2059015035629272, -1.1283162832260132, -1.224385380744934, -1.234626293182373, -1.1280276775360107, 2.338113307952881, 2.3913848400115967, 2.3599929809570312, 2.322361469268799, -1.2331091165542603, -1.1957483291625977, -1.2102100849151611, -1.2018442153930664, -1.1422208547592163, -1.2039240598678589, -1.3036748170852661, -1.1584513187408447, 2.386775493621826, 2.380399465560913, 2.363940715789795, 2.3345437049865723, -1.2066726684570312, -1.2068554162979126, -1.2114790678024292, -1.214086890220642, -1.1273967027664185, -1.215728998184204, -1.2235697507858276, -1.1327989101409912, 2.386363983154297, 2.398662805557251, 2.357442617416382, 2.323892831802368, -1.2301216125488281, -1.1963586807250977, -1.2076945304870605, -1.2033125162124634, -1.1049108505249023, -1.2078781127929688, -1.2868541479110718, -1.1471484899520874, 2.3889498710632324, 2.3847169876098633, 2.363710880279541, 2.343388080596924, -1.207149624824524, -1.2072833776474, -1.2107406854629517, -1.2120997905731201, -1.1280863285064697, -1.2196754217147827, -1.2221896648406982, -1.1318645477294922, 2.35703706741333, 2.3899753093719482, 2.366212844848633, 2.3653976917266846, -1.2079566717147827, -1.2002922296524048, -1.2106616497039795, -1.2067322731018066, -1.0982728004455566, -1.2228556871414185, -1.2614532709121704, -1.1337101459503174, 2.3911871910095215, 2.3897061347961426, 2.3641226291656494, 2.35383939743042, -1.2065246105194092, -1.2075419425964355, -1.2093558311462402, -1.2100238800048828, -1.128561019897461, -1.2236356735229492, -1.2218643426895142, -1.129159927368164, 2.3939051628112793, 2.3891475200653076, 2.3616559505462646, 2.3593599796295166, -1.210784912109375, -1.205024003982544, -1.212552785873413, -1.2080156803131104, -1.1286290884017944, -1.2232433557510376, -1.23440420627594, -1.1255037784576416, 2.3918087482452393, 2.3916327953338623, 2.364305019378662, 2.3642148971557617, -1.206449270248413, -1.2078980207443237, -1.2085574865341187, -1.2086613178253174, -1.1279819011688232, -1.224677562713623, -1.221970796585083, -1.1267592906951904, -0.0380498506128788, 0.03079882636666298, 0.33843350410461426, -0.0480877049267292, 0.016759566962718964, 0.006614213809370995, 0.03333733230829239, -0.004422100260853767, 0.12619903683662415, 0.04558362066745758, -0.16860878467559814, -0.02492574229836464, -0.022215507924556732, 0.15223705768585205, 0.1171862930059433, -0.11009864509105682, 0.017409317195415497, 0.3175436854362488, 0.07473304867744446, -0.03733452782034874, 0.3209167718887329, 0.09410946071147919, 0.018717486411333084, -0.03263531252741814, 0.061629801988601685, 0.11838625371456146, -0.09774790704250336, 0.015638932585716248, -0.2418619692325592, 0.35456582903862, -0.1838063895702362, 0.04086983948945999, 0.34014034271240234, 0.001956924796104431, 0.270175963640213, 0.09704586118459702, -0.015377238392829895]\n            var component = this.stage.compList[0]\n            var atomStore = component.structure.atomStore\n            if (atomStore.partialCharge === undefined) {\n                atomStore.addField('partialCharge', 1, 'float32')\n            }\n\n            for (let i = 0; i < chargeArray.length; ++i) {\n              atomStore.partialCharge[i] = chargeArray[i];\n            }\n            "
         ],
         "kwargs": {},
         "methodName": "executeCode",
         "reconstruc_color_scheme": false,
         "target": "Widget",
         "type": "call_method"
        },
        {
         "args": [
          "spacefill",
          0
         ],
         "kwargs": {
          "colorScale": "rwb",
          "colorScheme": "element",
          "radiusScale": 0.5,
          "radiusType": "covalent"
         },
         "methodName": "updateRepresentationsByName",
         "reconstruc_color_scheme": false,
         "target": "Widget",
         "type": "call_method"
        },
        {
         "args": [
          "spacefill",
          0
         ],
         "kwargs": {
          "colorScale": "rwb",
          "colorScheme": "partialcharge",
          "radiusScale": 0.5,
          "radiusType": "covalent"
         },
         "methodName": "updateRepresentationsByName",
         "reconstruc_color_scheme": false,
         "target": "Widget",
         "type": "call_method"
        },
        {
         "args": [
          "label"
         ],
         "component_index": 0,
         "kwargs": {
          "attachment": "middle_center",
          "color": "black",
          "labelText": [
           "2.39",
           "2.392",
           "2.365",
           "2.364",
           "-1.208",
           "-1.212",
           "-1.209",
           "-1.206",
           "-1.126",
           "-1.222",
           "-1.223",
           "-1.127",
           "2.367",
           "2.394",
           "2.364",
           "2.363",
           "-1.207",
           "-1.207",
           "-1.21",
           "-1.205",
           "-1.127",
           "-1.224",
           "-1.234",
           "-1.13",
           "2.388",
           "2.391",
           "2.368",
           "2.365",
           "-1.212",
           "-1.214",
           "-1.2",
           "-1.206",
           "-1.126",
           "-1.222",
           "-1.225",
           "-1.127",
           "2.385",
           "2.392",
           "2.356",
           "2.354",
           "-1.216",
           "-1.202",
           "-1.224",
           "-1.196",
           "-1.087",
           "-1.223",
           "-1.254",
           "-1.129",
           "2.388",
           "2.39",
           "2.366",
           "2.367",
           "-1.213",
           "-1.214",
           "-1.204",
           "-1.207",
           "-1.126",
           "-1.222",
           "-1.225",
           "-1.127",
           "2.358",
           "2.382",
           "2.351",
           "2.348",
           "-1.212",
           "-1.199",
           "-1.205",
           "-1.193",
           "-0.976",
           "-1.223",
           "-1.292",
           "-1.131",
           "2.387",
           "2.39",
           "2.363",
           "2.367",
           "-1.212",
           "-1.213",
           "-1.211",
           "-1.207",
           "-1.127",
           "-1.223",
           "-1.222",
           "-1.127",
           "2.346",
           "2.375",
           "2.36",
           "2.342",
           "-1.212",
           "-1.198",
           "-1.225",
           "-1.195",
           "-1.103",
           "-1.217",
           "-1.303",
           "-1.135",
           "2.395",
           "2.388",
           "2.365",
           "2.365",
           "-1.21",
           "-1.205",
           "-1.215",
           "-1.207",
           "-1.131",
           "-1.225",
           "-1.23",
           "-1.126",
           "2.392",
           "2.391",
           "2.364",
           "2.368",
           "-1.206",
           "-1.209",
           "-1.209",
           "-1.209",
           "-1.127",
           "-1.224",
           "-1.222",
           "-1.126",
           "2.357",
           "2.385",
           "2.359",
           "2.359",
           "-1.209",
           "-1.202",
           "-1.216",
           "-1.202",
           "-1.131",
           "-1.222",
           "-1.234",
           "-1.121",
           "2.391",
           "2.389",
           "2.365",
           "2.366",
           "-1.206",
           "-1.209",
           "-1.21",
           "-1.209",
           "-1.127",
           "-1.225",
           "-1.222",
           "-1.127",
           "2.377",
           "2.383",
           "2.366",
           "2.366",
           "-1.245",
           "-1.199",
           "-1.215",
           "-1.202",
           "-1.08",
           "-1.224",
           "-1.259",
           "-1.132",
           "2.389",
           "2.386",
           "2.364",
           "2.357",
           "-1.207",
           "-1.208",
           "-1.211",
           "-1.212",
           "-1.127",
           "-1.224",
           "-1.223",
           "-1.131",
           "2.383",
           "2.383",
           "2.35",
           "2.336",
           "-1.248",
           "-1.193",
           "-1.209",
           "-1.198",
           "-1.1",
           "-1.206",
           "-1.291",
           "-1.15",
           "2.386",
           "2.383",
           "2.365",
           "2.344",
           "-1.202",
           "-1.207",
           "-1.212",
           "-1.214",
           "-1.127",
           "-1.22",
           "-1.224",
           "-1.13",
           "2.387",
           "2.39",
           "2.363",
           "2.368",
           "-1.212",
           "-1.213",
           "-1.202",
           "-1.208",
           "-1.128",
           "-1.223",
           "-1.222",
           "-1.127",
           "2.378",
           "2.38",
           "2.359",
           "2.339",
           "-1.214",
           "-1.198",
           "-1.244",
           "-1.191",
           "-1.128",
           "-1.216",
           "-1.307",
           "-1.134",
           "2.39",
           "2.39",
           "2.365",
           "2.367",
           "-1.21",
           "-1.212",
           "-1.208",
           "-1.207",
           "-1.128",
           "-1.222",
           "-1.223",
           "-1.127",
           "2.386",
           "2.386",
           "2.349",
           "2.341",
           "-1.211",
           "-1.205",
           "-1.235",
           "-1.198",
           "-1.113",
           "-1.219",
           "-1.289",
           "-1.129",
           "2.391",
           "2.391",
           "2.364",
           "2.366",
           "-1.209",
           "-1.21",
           "-1.205",
           "-1.207",
           "-1.128",
           "-1.222",
           "-1.222",
           "-1.127",
           "2.358",
           "2.39",
           "2.37",
           "2.355",
           "-1.212",
           "-1.205",
           "-1.206",
           "-1.202",
           "-1.091",
           "-1.225",
           "-1.26",
           "-1.131",
           "2.39",
           "2.392",
           "2.365",
           "2.365",
           "-1.209",
           "-1.21",
           "-1.206",
           "-1.207",
           "-1.127",
           "-1.221",
           "-1.222",
           "-1.128",
           "2.39",
           "2.392",
           "2.362",
           "2.363",
           "-1.211",
           "-1.207",
           "-1.21",
           "-1.206",
           "-1.128",
           "-1.224",
           "-1.235",
           "-1.128",
           "2.338",
           "2.391",
           "2.36",
           "2.322",
           "-1.233",
           "-1.196",
           "-1.21",
           "-1.202",
           "-1.142",
           "-1.204",
           "-1.304",
           "-1.158",
           "2.387",
           "2.38",
           "2.364",
           "2.335",
           "-1.207",
           "-1.207",
           "-1.211",
           "-1.214",
           "-1.127",
           "-1.216",
           "-1.224",
           "-1.133",
           "2.386",
           "2.399",
           "2.357",
           "2.324",
           "-1.23",
           "-1.196",
           "-1.208",
           "-1.203",
           "-1.105",
           "-1.208",
           "-1.287",
           "-1.147",
           "2.389",
           "2.385",
           "2.364",
           "2.343",
           "-1.207",
           "-1.207",
           "-1.211",
           "-1.212",
           "-1.128",
           "-1.22",
           "-1.222",
           "-1.132",
           "2.357",
           "2.39",
           "2.366",
           "2.365",
           "-1.208",
           "-1.2",
           "-1.211",
           "-1.207",
           "-1.098",
           "-1.223",
           "-1.261",
           "-1.134",
           "2.391",
           "2.39",
           "2.364",
           "2.354",
           "-1.207",
           "-1.208",
           "-1.209",
           "-1.21",
           "-1.129",
           "-1.224",
           "-1.222",
           "-1.129",
           "2.394",
           "2.389",
           "2.362",
           "2.359",
           "-1.211",
           "-1.205",
           "-1.213",
           "-1.208",
           "-1.129",
           "-1.223",
           "-1.234",
           "-1.126",
           "2.392",
           "2.392",
           "2.364",
           "2.364",
           "-1.206",
           "-1.208",
           "-1.209",
           "-1.209",
           "-1.128",
           "-1.225",
           "-1.222",
           "-1.127",
           "-0.038",
           "0.031",
           "0.338",
           "-0.048",
           "0.017",
           "0.007",
           "0.033",
           "-0.004",
           "0.126",
           "0.046",
           "-0.169",
           "-0.025",
           "-0.022",
           "0.152",
           "0.117",
           "-0.11",
           "0.017",
           "0.318",
           "0.075",
           "-0.037",
           "0.321",
           "0.094",
           "0.019",
           "-0.033",
           "0.062",
           "0.118",
           "-0.098",
           "0.016",
           "-0.242",
           "0.355",
           "-0.184",
           "0.041",
           "0.34",
           "0.002",
           "0.27",
           "0.097",
           "-0.015"
          ],
          "labelType": "text",
          "radius": 0.8,
          "sele": "all",
          "zOffset": 2
         },
         "methodName": "addRepresentation",
         "reconstruc_color_scheme": false,
         "target": "compList",
         "type": "call_method"
        }
       ],
       "_ngl_original_stage_parameters": {
        "ambientColor": 14540253,
        "ambientIntensity": 0.2,
        "backgroundColor": "white",
        "cameraEyeSep": 0.3,
        "cameraFov": 40,
        "cameraType": "perspective",
        "clipDist": 10,
        "clipFar": 100,
        "clipNear": 0,
        "fogFar": 100,
        "fogNear": 50,
        "hoverTimeout": 0,
        "impostor": true,
        "lightColor": 14540253,
        "lightIntensity": 1,
        "mousePreset": "default",
        "panSpeed": 1,
        "quality": "medium",
        "rotateSpeed": 2,
        "sampleLevel": 0,
        "tooltip": true,
        "workerDefault": true,
        "zoomSpeed": 1.2
       },
       "_ngl_repr_dict": {
        "0": {
         "0": {
          "params": {
           "clipCenter": {
            "x": 0,
            "y": 0,
            "z": 0
           },
           "clipNear": 0,
           "clipRadius": 0,
           "colorMode": "hcl",
           "colorReverse": false,
           "colorScale": "",
           "colorScheme": "element",
           "colorValue": "orange",
           "defaultAssembly": "",
           "depthWrite": true,
           "diffuse": 16777215,
           "diffuseInterior": false,
           "disableImpostor": false,
           "disablePicking": false,
           "flatShaded": false,
           "interiorColor": 2236962,
           "interiorDarkening": 0,
           "lazy": false,
           "matrix": {
            "elements": [
             1,
             0,
             0,
             0,
             0,
             1,
             0,
             0,
             0,
             0,
             1,
             0,
             0,
             0,
             0,
             1
            ]
           },
           "metalness": 0,
           "opacity": 1,
           "quality": "medium",
           "radialSegments": 10,
           "radiusData": {},
           "radiusScale": 1,
           "radiusSize": 0.1343229126300808,
           "radiusType": "vdw",
           "roughness": 0.4,
           "sele": "all",
           "side": "double",
           "sphereDetail": 1,
           "useInteriorColor": true,
           "visible": true,
           "wireframe": false
          },
          "type": "unitcell"
         },
         "1": {
          "params": {
           "assembly": "default",
           "clipCenter": {
            "x": 0,
            "y": 0,
            "z": 0
           },
           "clipNear": 0,
           "clipRadius": 0,
           "colorMode": "hcl",
           "colorReverse": false,
           "colorScale": "rwb",
           "colorScheme": "partialcharge",
           "colorValue": 9474192,
           "defaultAssembly": "",
           "depthWrite": true,
           "diffuse": 16777215,
           "diffuseInterior": false,
           "disableImpostor": false,
           "disablePicking": false,
           "flatShaded": false,
           "interiorColor": 2236962,
           "interiorDarkening": 0,
           "lazy": false,
           "matrix": {
            "elements": [
             1,
             0,
             0,
             0,
             0,
             1,
             0,
             0,
             0,
             0,
             1,
             0,
             0,
             0,
             0,
             1
            ]
           },
           "metalness": 0,
           "opacity": 1,
           "quality": "medium",
           "radiusData": {},
           "radiusScale": 0.5,
           "radiusSize": 1,
           "radiusType": "covalent",
           "roughness": 0.4,
           "sele": "all",
           "side": "double",
           "sphereDetail": 1,
           "useInteriorColor": true,
           "visible": true,
           "wireframe": false
          },
          "type": "spacefill"
         },
         "2": {
          "params": {
           "assembly": "default",
           "attachment": "middle_center",
           "backgroundColor": "lightgrey",
           "backgroundMargin": 0.5,
           "backgroundOpacity": 1,
           "borderColor": "lightgrey",
           "borderWidth": 0.15,
           "clipCenter": {
            "x": 0,
            "y": 0,
            "z": 0
           },
           "clipNear": 0,
           "clipRadius": 0,
           "colorMode": "hcl",
           "colorReverse": false,
           "colorScale": "",
           "colorScheme": "uniform",
           "colorValue": 0,
           "defaultAssembly": "",
           "depthWrite": true,
           "diffuseInterior": false,
           "disablePicking": false,
           "fixedSize": false,
           "fontFamily": "sans-serif",
           "fontStyle": "normal",
           "fontWeight": "bold",
           "interiorColor": 2236962,
           "interiorDarkening": 0,
           "labelFormat": "",
           "labelGrouping": "atom",
           "labelText": [
            "2.39",
            "2.392",
            "2.365",
            "2.364",
            "-1.208",
            "-1.212",
            "-1.209",
            "-1.206",
            "-1.126",
            "-1.222",
            "-1.223",
            "-1.127",
            "2.367",
            "2.394",
            "2.364",
            "2.363",
            "-1.207",
            "-1.207",
            "-1.21",
            "-1.205",
            "-1.127",
            "-1.224",
            "-1.234",
            "-1.13",
            "2.388",
            "2.391",
            "2.368",
            "2.365",
            "-1.212",
            "-1.214",
            "-1.2",
            "-1.206",
            "-1.126",
            "-1.222",
            "-1.225",
            "-1.127",
            "2.385",
            "2.392",
            "2.356",
            "2.354",
            "-1.216",
            "-1.202",
            "-1.224",
            "-1.196",
            "-1.087",
            "-1.223",
            "-1.254",
            "-1.129",
            "2.388",
            "2.39",
            "2.366",
            "2.367",
            "-1.213",
            "-1.214",
            "-1.204",
            "-1.207",
            "-1.126",
            "-1.222",
            "-1.225",
            "-1.127",
            "2.358",
            "2.382",
            "2.351",
            "2.348",
            "-1.212",
            "-1.199",
            "-1.205",
            "-1.193",
            "-0.976",
            "-1.223",
            "-1.292",
            "-1.131",
            "2.387",
            "2.39",
            "2.363",
            "2.367",
            "-1.212",
            "-1.213",
            "-1.211",
            "-1.207",
            "-1.127",
            "-1.223",
            "-1.222",
            "-1.127",
            "2.346",
            "2.375",
            "2.36",
            "2.342",
            "-1.212",
            "-1.198",
            "-1.225",
            "-1.195",
            "-1.103",
            "-1.217",
            "-1.303",
            "-1.135",
            "2.395",
            "2.388",
            "2.365",
            "2.365",
            "-1.21",
            "-1.205",
            "-1.215",
            "-1.207",
            "-1.131",
            "-1.225",
            "-1.23",
            "-1.126",
            "2.392",
            "2.391",
            "2.364",
            "2.368",
            "-1.206",
            "-1.209",
            "-1.209",
            "-1.209",
            "-1.127",
            "-1.224",
            "-1.222",
            "-1.126",
            "2.357",
            "2.385",
            "2.359",
            "2.359",
            "-1.209",
            "-1.202",
            "-1.216",
            "-1.202",
            "-1.131",
            "-1.222",
            "-1.234",
            "-1.121",
            "2.391",
            "2.389",
            "2.365",
            "2.366",
            "-1.206",
            "-1.209",
            "-1.21",
            "-1.209",
            "-1.127",
            "-1.225",
            "-1.222",
            "-1.127",
            "2.377",
            "2.383",
            "2.366",
            "2.366",
            "-1.245",
            "-1.199",
            "-1.215",
            "-1.202",
            "-1.08",
            "-1.224",
            "-1.259",
            "-1.132",
            "2.389",
            "2.386",
            "2.364",
            "2.357",
            "-1.207",
            "-1.208",
            "-1.211",
            "-1.212",
            "-1.127",
            "-1.224",
            "-1.223",
            "-1.131",
            "2.383",
            "2.383",
            "2.35",
            "2.336",
            "-1.248",
            "-1.193",
            "-1.209",
            "-1.198",
            "-1.1",
            "-1.206",
            "-1.291",
            "-1.15",
            "2.386",
            "2.383",
            "2.365",
            "2.344",
            "-1.202",
            "-1.207",
            "-1.212",
            "-1.214",
            "-1.127",
            "-1.22",
            "-1.224",
            "-1.13",
            "2.387",
            "2.39",
            "2.363",
            "2.368",
            "-1.212",
            "-1.213",
            "-1.202",
            "-1.208",
            "-1.128",
            "-1.223",
            "-1.222",
            "-1.127",
            "2.378",
            "2.38",
            "2.359",
            "2.339",
            "-1.214",
            "-1.198",
            "-1.244",
            "-1.191",
            "-1.128",
            "-1.216",
            "-1.307",
            "-1.134",
            "2.39",
            "2.39",
            "2.365",
            "2.367",
            "-1.21",
            "-1.212",
            "-1.208",
            "-1.207",
            "-1.128",
            "-1.222",
            "-1.223",
            "-1.127",
            "2.386",
            "2.386",
            "2.349",
            "2.341",
            "-1.211",
            "-1.205",
            "-1.235",
            "-1.198",
            "-1.113",
            "-1.219",
            "-1.289",
            "-1.129",
            "2.391",
            "2.391",
            "2.364",
            "2.366",
            "-1.209",
            "-1.21",
            "-1.205",
            "-1.207",
            "-1.128",
            "-1.222",
            "-1.222",
            "-1.127",
            "2.358",
            "2.39",
            "2.37",
            "2.355",
            "-1.212",
            "-1.205",
            "-1.206",
            "-1.202",
            "-1.091",
            "-1.225",
            "-1.26",
            "-1.131",
            "2.39",
            "2.392",
            "2.365",
            "2.365",
            "-1.209",
            "-1.21",
            "-1.206",
            "-1.207",
            "-1.127",
            "-1.221",
            "-1.222",
            "-1.128",
            "2.39",
            "2.392",
            "2.362",
            "2.363",
            "-1.211",
            "-1.207",
            "-1.21",
            "-1.206",
            "-1.128",
            "-1.224",
            "-1.235",
            "-1.128",
            "2.338",
            "2.391",
            "2.36",
            "2.322",
            "-1.233",
            "-1.196",
            "-1.21",
            "-1.202",
            "-1.142",
            "-1.204",
            "-1.304",
            "-1.158",
            "2.387",
            "2.38",
            "2.364",
            "2.335",
            "-1.207",
            "-1.207",
            "-1.211",
            "-1.214",
            "-1.127",
            "-1.216",
            "-1.224",
            "-1.133",
            "2.386",
            "2.399",
            "2.357",
            "2.324",
            "-1.23",
            "-1.196",
            "-1.208",
            "-1.203",
            "-1.105",
            "-1.208",
            "-1.287",
            "-1.147",
            "2.389",
            "2.385",
            "2.364",
            "2.343",
            "-1.207",
            "-1.207",
            "-1.211",
            "-1.212",
            "-1.128",
            "-1.22",
            "-1.222",
            "-1.132",
            "2.357",
            "2.39",
            "2.366",
            "2.365",
            "-1.208",
            "-1.2",
            "-1.211",
            "-1.207",
            "-1.098",
            "-1.223",
            "-1.261",
            "-1.134",
            "2.391",
            "2.39",
            "2.364",
            "2.354",
            "-1.207",
            "-1.208",
            "-1.209",
            "-1.21",
            "-1.129",
            "-1.224",
            "-1.222",
            "-1.129",
            "2.394",
            "2.389",
            "2.362",
            "2.359",
            "-1.211",
            "-1.205",
            "-1.213",
            "-1.208",
            "-1.129",
            "-1.223",
            "-1.234",
            "-1.126",
            "2.392",
            "2.392",
            "2.364",
            "2.364",
            "-1.206",
            "-1.208",
            "-1.209",
            "-1.209",
            "-1.128",
            "-1.225",
            "-1.222",
            "-1.127",
            "-0.038",
            "0.031",
            "0.338",
            "-0.048",
            "0.017",
            "0.007",
            "0.033",
            "-0.004",
            "0.126",
            "0.046",
            "-0.169",
            "-0.025",
            "-0.022",
            "0.152",
            "0.117",
            "-0.11",
            "0.017",
            "0.318",
            "0.075",
            "-0.037",
            "0.321",
            "0.094",
            "0.019",
            "-0.033",
            "0.062",
            "0.118",
            "-0.098",
            "0.016",
            "-0.242",
            "0.355",
            "-0.184",
            "0.041",
            "0.34",
            "0.002",
            "0.27",
            "0.097",
            "-0.015"
           ],
           "labelType": "text",
           "lazy": false,
           "matrix": {
            "elements": [
             1,
             0,
             0,
             0,
             0,
             1,
             0,
             0,
             0,
             0,
             1,
             0,
             0,
             0,
             0,
             1
            ]
           },
           "opacity": 1,
           "quality": "medium",
           "radiusData": {},
           "radiusScale": 1,
           "radiusSize": 0.8,
           "radiusType": "size",
           "sele": "all",
           "showBackground": false,
           "showBorder": false,
           "useInteriorColor": false,
           "visible": true,
           "xOffset": 0,
           "yOffset": 0,
           "zOffset": 2
          },
          "type": "label"
         }
        }
       },
       "_ngl_serialize": false,
       "_ngl_version": "2.0.0-dev.36",
       "_ngl_view_id": [
        "524F4F1B-C4B6-4579-B566-79C855466F82"
       ],
       "_player_dict": {},
       "_scene_position": {},
       "_scene_rotation": {},
       "_synced_model_ids": [],
       "_synced_repr_model_ids": [],
       "_view_height": "",
       "_view_width": "",
       "background": "white",
       "frame": 0,
       "gui_style": null,
       "layout": "IPY_MODEL_7c8241dbd0f14ab79bdd6b2488689d35",
       "max_frame": 0,
       "n_components": 1,
       "picked": {}
      }
     },
     "cbf15158d50140d6b008b1500ab7f4e3": {
      "model_module": "@jupyter-widgets/base",
      "model_module_version": "1.2.0",
      "model_name": "LayoutModel",
      "state": {}
     },
     "cc5addefdad448c996cf58a135924c0a": {
      "model_module": "@jupyter-widgets/base",
      "model_module_version": "1.2.0",
      "model_name": "LayoutModel",
      "state": {}
     },
     "cc8eb6a461734fed8e60d78afb39549c": {
      "model_module": "@jupyter-widgets/controls",
      "model_module_version": "1.5.0",
      "model_name": "DescriptionStyleModel",
      "state": {
       "description_width": ""
      }
     },
     "ccfde63cc7214cb6b7ded228955254d7": {
      "model_module": "@jupyter-widgets/controls",
      "model_module_version": "1.5.0",
      "model_name": "SliderStyleModel",
      "state": {
       "description_width": ""
      }
     },
     "cd3b385aff3d461081cf78ca930d5b76": {
      "model_module": "@jupyter-widgets/controls",
      "model_module_version": "1.5.0",
      "model_name": "SliderStyleModel",
      "state": {
       "description_width": ""
      }
     },
     "cd45c6e1d80e432892914baa0bb1cb05": {
      "model_module": "@jupyter-widgets/base",
      "model_module_version": "1.2.0",
      "model_name": "LayoutModel",
      "state": {}
     },
     "cd99bb634c7644ebbaf7ed762ce63be5": {
      "model_module": "@jupyter-widgets/controls",
      "model_module_version": "1.5.0",
      "model_name": "FloatSliderModel",
      "state": {
       "description": "Charge scale",
       "layout": "IPY_MODEL_35858d276a914919b9443eb265f0f63d",
       "step": 0.1,
       "style": "IPY_MODEL_fd1659a77e3644ba913e9b6336318e32",
       "value": 1
      }
     },
     "cda25f7653ef4204a85b53a83313bc0c": {
      "model_module": "@jupyter-widgets/output",
      "model_module_version": "1.0.0",
      "model_name": "OutputModel",
      "state": {
       "layout": "IPY_MODEL_28f466d603a84effb53ea5a18764f4f0"
      }
     },
     "cdb467d35014461488bb21789d6935f8": {
      "model_module": "@jupyter-widgets/base",
      "model_module_version": "1.2.0",
      "model_name": "LayoutModel",
      "state": {}
     },
     "cdcbf717820f42078e592587b79fe99a": {
      "model_module": "@jupyter-widgets/controls",
      "model_module_version": "1.5.0",
      "model_name": "LinkModel",
      "state": {
       "source": [
        "IPY_MODEL_fb395ff55a264eb6a1b47ffb4f827ad5",
        "max"
       ],
       "target": [
        "IPY_MODEL_a99ad709090048eb9bfef8886e7312f0",
        "max_frame"
       ]
      }
     },
     "ce1ec43fa0b54603a9da2c0b11b016e6": {
      "model_module": "@jupyter-widgets/controls",
      "model_module_version": "1.5.0",
      "model_name": "CheckboxModel",
      "state": {
       "description": "Show force",
       "disabled": false,
       "layout": "IPY_MODEL_0285ae6b65a84712ac7937491f55ce50",
       "style": "IPY_MODEL_851f836c7e7a434d8e6c9ceb27e9ab46",
       "value": false
      }
     },
     "ce92e81217614297a2dc9a109a762be2": {
      "model_module": "@jupyter-widgets/controls",
      "model_module_version": "1.5.0",
      "model_name": "VBoxModel",
      "state": {
       "children": [
        "IPY_MODEL_5cf1893a77c447d78c05106299780b60",
        "IPY_MODEL_c57c4bfc9ba846f79f8b2f3372c2f26c",
        "IPY_MODEL_5f2fefcb08ae451cb2afc7e7ae768de7",
        "IPY_MODEL_1cf478c06a194e1383cd946b362ba2f2",
        "IPY_MODEL_3d9ba9f977a74c168ec00fc577d072b7",
        "IPY_MODEL_e8e515087911460bbfd243bda87aa182",
        "IPY_MODEL_9fd6fd1a31b14d4f8a51c6fb2b81e136",
        "IPY_MODEL_c14df8f9fb1e47f08b33eed7efda3c19",
        "IPY_MODEL_1be48f90800f4b2a98bfb0ebb8d56faf",
        "IPY_MODEL_cda25f7653ef4204a85b53a83313bc0c"
       ],
       "layout": "IPY_MODEL_f02b661f73284e0da2a7cd03a2d03d67"
      }
     },
     "ceba47529542434a8fa792b98f32dcbf": {
      "model_module": "@jupyter-widgets/base",
      "model_module_version": "1.2.0",
      "model_name": "LayoutModel",
      "state": {}
     },
     "cfc42c7502274d87ac7c671eb236e524": {
      "model_module": "@jupyter-widgets/controls",
      "model_module_version": "1.5.0",
      "model_name": "DescriptionStyleModel",
      "state": {
       "description_width": ""
      }
     },
     "cfda740f22e94a4bb719e3655516b66f": {
      "model_module": "@jupyter-widgets/controls",
      "model_module_version": "1.5.0",
      "model_name": "DropdownModel",
      "state": {
       "_options_labels": [
        "All",
        "Pt"
       ],
       "description": "Show",
       "index": 0,
       "layout": "IPY_MODEL_291d82cf6afd4973a9e48390b1ecb540",
       "style": "IPY_MODEL_8342b41232dc4173b3079ba0e95549a5"
      }
     },
     "d01fc4e926b74c9089b0ad7248c65d08": {
      "model_module": "@jupyter-widgets/controls",
      "model_module_version": "1.5.0",
      "model_name": "LinkModel",
      "state": {
       "source": [
        "IPY_MODEL_fce827b379ba477f876f4bda946e90ac",
        "max"
       ],
       "target": [
        "IPY_MODEL_f9e11cd4892740c3a4ecffbd4d3fb924",
        "max_frame"
       ]
      }
     },
     "d0a2be1c8c4844099f08c1f7483a639f": {
      "model_module": "@jupyter-widgets/controls",
      "model_module_version": "1.5.0",
      "model_name": "DescriptionStyleModel",
      "state": {
       "description_width": ""
      }
     },
     "d108da43eda6427e9caa7b9f2a62ee84": {
      "model_module": "@jupyter-widgets/controls",
      "model_module_version": "1.5.0",
      "model_name": "TextModel",
      "state": {
       "description": "Filename: ",
       "layout": "IPY_MODEL_2879e77131964e5b8be5f9bb16d5e7e9",
       "style": "IPY_MODEL_ef3c09555a504c1aa6141b96c589835a",
       "value": "screenshot.png"
      }
     },
     "d15a93931319412c8d2693c8c27ee88c": {
      "model_module": "@jupyter-widgets/controls",
      "model_module_version": "1.5.0",
      "model_name": "DescriptionStyleModel",
      "state": {
       "description_width": ""
      }
     },
     "d1afbf5542ad4cb4b3244601e53df68c": {
      "model_module": "@jupyter-widgets/controls",
      "model_module_version": "1.5.0",
      "model_name": "ButtonModel",
      "state": {
       "description": "Save image",
       "layout": "IPY_MODEL_e7891376cae34ad9aef9016b0013e372",
       "style": "IPY_MODEL_ed7c46c8b75e4af2b04e066e015c7897",
       "tooltip": "Save current frame to file.\nCurrently .png and .html are supported.\nIt takes a bit time, please be patient."
      }
     },
     "d2da626dd57e46818dfba1bfc78dc295": {
      "model_module": "@jupyter-widgets/controls",
      "model_module_version": "1.5.0",
      "model_name": "SliderStyleModel",
      "state": {
       "description_width": ""
      }
     },
     "d3132a3737b944a39f999a919b5df60e": {
      "model_module": "@jupyter-widgets/controls",
      "model_module_version": "1.5.0",
      "model_name": "DescriptionStyleModel",
      "state": {
       "description_width": ""
      }
     },
     "d47a4f75f9b143db9b2210d177fa2cab": {
      "model_module": "@jupyter-widgets/controls",
      "model_module_version": "1.5.0",
      "model_name": "FloatSliderModel",
      "state": {
       "description": "Charge scale",
       "layout": "IPY_MODEL_250db6983bd941428fc28f8e362510e0",
       "step": 0.1,
       "style": "IPY_MODEL_2d16e7a2fe0249a785103dd520dffd58",
       "value": 1
      }
     },
     "d4aad41878bd4f46921448683848fbe7": {
      "model_module": "@jupyter-widgets/controls",
      "model_module_version": "1.5.0",
      "model_name": "ImageModel",
      "state": {
       "layout": "IPY_MODEL_c5e9daf4fd064b4cbc8c83f50884b332",
       "width": "900.0"
      }
     },
     "d563325254cf41e28b0b65b8733d9354": {
      "model_module": "@jupyter-widgets/controls",
      "model_module_version": "1.5.0",
      "model_name": "FloatSliderModel",
      "state": {
       "description": "Force scale",
       "layout": "IPY_MODEL_6a3b899ccfbf49fc94f62b9a67777e2f",
       "step": 0.1,
       "style": "IPY_MODEL_0711d6c6bdc147bd960d8080cab07157",
       "value": 0.5
      }
     },
     "d57cb52093634541a89fbf678440e2cd": {
      "model_module": "@jupyter-widgets/controls",
      "model_module_version": "1.5.0",
      "model_name": "LinkModel",
      "state": {
       "source": [
        "IPY_MODEL_992e7bfabd9c4c0b928583d4f317984c",
        "value"
       ],
       "target": [
        "IPY_MODEL_96b03fa0f3074f83a60ca7aa10fb0463",
        "value"
       ]
      }
     },
     "d599592396114d68b4f364af743a5407": {
      "model_module": "@jupyter-widgets/base",
      "model_module_version": "1.2.0",
      "model_name": "LayoutModel",
      "state": {}
     },
     "d5ff84d3ace545e1b210cbe20334cd44": {
      "model_module": "@jupyter-widgets/controls",
      "model_module_version": "1.5.0",
      "model_name": "HBoxModel",
      "state": {
       "children": [
        "IPY_MODEL_4658bb2aec204d02a8e1a72344067efe",
        "IPY_MODEL_ab8be6235ade4883ae9d7979d1c229af"
       ],
       "layout": "IPY_MODEL_a742b93c7a3041f4909c8631dd2f55bd"
      }
     },
     "d62e49ba32b94254896fe68b4ac35034": {
      "model_module": "@jupyter-widgets/base",
      "model_module_version": "1.2.0",
      "model_name": "LayoutModel",
      "state": {}
     },
     "d634d1f13c454cc5b7c2dfc087b70348": {
      "model_module": "@jupyter-widgets/base",
      "model_module_version": "1.2.0",
      "model_name": "LayoutModel",
      "state": {}
     },
     "d63c2400239645a2b589f16c3dfeb1d0": {
      "model_module": "@jupyter-widgets/base",
      "model_module_version": "1.2.0",
      "model_name": "LayoutModel",
      "state": {}
     },
     "d675b8da56f0432da9ca6e04acfe7a3c": {
      "model_module": "@jupyter-widgets/controls",
      "model_module_version": "1.5.0",
      "model_name": "ButtonModel",
      "state": {
       "icon": "compress",
       "layout": "IPY_MODEL_bbd45db7fcb74b8fa4c8cd6503f982fc",
       "style": "IPY_MODEL_9ea293b654e64288a659ba9099777481"
      }
     },
     "d67e382b3fe14217821ef25a063bffc9": {
      "model_module": "@jupyter-widgets/controls",
      "model_module_version": "1.5.0",
      "model_name": "DescriptionStyleModel",
      "state": {
       "description_width": ""
      }
     },
     "d6b96a9797284df38c40995b6167b767": {
      "model_module": "@jupyter-widgets/controls",
      "model_module_version": "1.5.0",
      "model_name": "ButtonModel",
      "state": {
       "icon": "compress",
       "layout": "IPY_MODEL_b3fbcc3dedcd43539f9b4e5c2f730f8c",
       "style": "IPY_MODEL_578b41c7c96f490b888fa91e7d6ceae5"
      }
     },
     "d704043c664c4e6fa4761dfaac5453c6": {
      "model_module": "@jupyter-widgets/base",
      "model_module_version": "1.2.0",
      "model_name": "LayoutModel",
      "state": {}
     },
     "d7e52d7a3cb74c37970eb5aa763ee6b3": {
      "model_module": "@jupyter-widgets/base",
      "model_module_version": "1.2.0",
      "model_name": "LayoutModel",
      "state": {}
     },
     "d803af1ed36040d2af62610a410afe46": {
      "model_module": "@jupyter-widgets/controls",
      "model_module_version": "1.5.0",
      "model_name": "FloatSliderModel",
      "state": {
       "description": "Ball size",
       "layout": "IPY_MODEL_f11b7f5023c44bc0ae650b3d53ca02d6",
       "max": 1.5,
       "step": 0.01,
       "style": "IPY_MODEL_23fab29ddb2f44f09c78edbd4a561190",
       "value": 0.5
      }
     },
     "d8269d66873b47debe42a29c184f0a31": {
      "model_module": "@jupyter-widgets/base",
      "model_module_version": "1.2.0",
      "model_name": "LayoutModel",
      "state": {}
     },
     "d827f5721f0b4b43ae1e07eb18bd82b4": {
      "model_module": "@jupyter-widgets/base",
      "model_module_version": "1.2.0",
      "model_name": "LayoutModel",
      "state": {}
     },
     "d871d66931cd4b6ba89cfb68f1a51baf": {
      "model_module": "@jupyter-widgets/controls",
      "model_module_version": "1.5.0",
      "model_name": "FloatSliderModel",
      "state": {
       "description": "Force scale",
       "layout": "IPY_MODEL_aa0c81556d5f4755baef2ccaaccc5578",
       "step": 0.1,
       "style": "IPY_MODEL_6216d4a277124047bef4cbe6c0803596",
       "value": 0.5
      }
     },
     "d8c7bc25362745a8b2f310fc08171933": {
      "model_module": "@jupyter-widgets/base",
      "model_module_version": "1.2.0",
      "model_name": "LayoutModel",
      "state": {}
     },
     "d9516ecb3bf645ca8c53b8667dd4525f": {
      "model_module": "@jupyter-widgets/controls",
      "model_module_version": "1.5.0",
      "model_name": "DropdownModel",
      "state": {
       "_options_labels": [
        "All",
        "Sn",
        "O",
        "Pt"
       ],
       "description": "Show",
       "index": 0,
       "layout": "IPY_MODEL_85a05affc3044671822dd9fd15ba3d7b",
       "style": "IPY_MODEL_aa78c6fee7404f18a7a8f92991e04fa0"
      }
     },
     "da155d5723284c9d9b23e07d0346e29d": {
      "model_module": "@jupyter-widgets/controls",
      "model_module_version": "1.5.0",
      "model_name": "VBoxModel",
      "state": {
       "children": [
        "IPY_MODEL_47bf76e2b29a49d5a15625ed929485fa",
        "IPY_MODEL_dd6e9ebd15a2495694cdc3aac7af50bf",
        "IPY_MODEL_703b86b24f374526b773b81c334b1153",
        "IPY_MODEL_f1fa565c442f4e73b7f170689fe1f0b4",
        "IPY_MODEL_fade9d98bfbd499fbef2f81d57278be4",
        "IPY_MODEL_fa59c02fe0a8460aacab36b334957f25",
        "IPY_MODEL_75cfbc9f34b648ce8964137ee1eae804",
        "IPY_MODEL_6c7fb50ff0504f01b0512156b28ebec8",
        "IPY_MODEL_ebc6dcc83801470c8d72f3701651a41f",
        "IPY_MODEL_3f6f562017cf4ae8a474aadaec85e689"
       ],
       "layout": "IPY_MODEL_29aaa4278e9e4e1c9bac2813a7b72ae7"
      }
     },
     "db494a01dc20446889d62f2d32079acb": {
      "model_module": "@jupyter-widgets/base",
      "model_module_version": "1.2.0",
      "model_name": "LayoutModel",
      "state": {}
     },
     "dc12320d08ee4a6bbea6327de47dae5f": {
      "model_module": "@jupyter-widgets/base",
      "model_module_version": "1.2.0",
      "model_name": "LayoutModel",
      "state": {
       "border": "0px solid black"
      }
     },
     "dd6e9ebd15a2495694cdc3aac7af50bf": {
      "model_module": "@jupyter-widgets/controls",
      "model_module_version": "1.5.0",
      "model_name": "DropdownModel",
      "state": {
       "_options_labels": [
        " ",
        "picking",
        "random",
        "uniform",
        "atomindex",
        "residueindex",
        "chainindex",
        "modelindex",
        "sstruc",
        "element",
        "resname",
        "bfactor",
        "hydrophobicity",
        "value",
        "volume",
        "occupancy"
       ],
       "description": "Color scheme",
       "index": 9,
       "layout": "IPY_MODEL_e9328f6944d445a0b315ab1f6a8a4c23",
       "style": "IPY_MODEL_96e161522561402d99cafa151a65333f"
      }
     },
     "ddba749f66dc4e82a2868e7021bd9638": {
      "model_module": "@jupyter-widgets/controls",
      "model_module_version": "1.5.0",
      "model_name": "PlayModel",
      "state": {
       "layout": "IPY_MODEL_7c9b3917988c410fb8f53b4eb38274f0",
       "max": 1,
       "style": "IPY_MODEL_14c9075033934c81a3f3ce71b2497061"
      }
     },
     "dde214886dfe42e6976ad98b6a8a12e6": {
      "model_module": "@jupyter-widgets/controls",
      "model_module_version": "1.5.0",
      "model_name": "DescriptionStyleModel",
      "state": {
       "description_width": ""
      }
     },
     "de5731958700421a99214feb7f6047f0": {
      "model_module": "@jupyter-widgets/base",
      "model_module_version": "1.2.0",
      "model_name": "LayoutModel",
      "state": {}
     },
     "dec17bd47e134caba58b2a263a8444cb": {
      "model_module": "@jupyter-widgets/controls",
      "model_module_version": "1.5.0",
      "model_name": "ButtonStyleModel",
      "state": {}
     },
     "deca60704f0e4fbd8f74b07f701ad61d": {
      "model_module": "@jupyter-widgets/controls",
      "model_module_version": "1.5.0",
      "model_name": "CheckboxModel",
      "state": {
       "description": "Show charge",
       "disabled": false,
       "layout": "IPY_MODEL_d7e52d7a3cb74c37970eb5aa763ee6b3",
       "style": "IPY_MODEL_0f828b4d5f6044dba20f550ec98e9840",
       "value": false
      }
     },
     "e0a31e8ce8724332a724adddacb4f383": {
      "model_module": "@jupyter-widgets/base",
      "model_module_version": "1.2.0",
      "model_name": "LayoutModel",
      "state": {}
     },
     "e0ae8a733b454be2a7a953401207fbe2": {
      "model_module": "@jupyter-widgets/controls",
      "model_module_version": "1.5.0",
      "model_name": "HBoxModel",
      "state": {
       "children": [
        "IPY_MODEL_9b87bf5b29574b4c96d7ac4703bedaf4",
        "IPY_MODEL_ce92e81217614297a2dc9a109a762be2"
       ],
       "layout": "IPY_MODEL_3acffd825d314279b5aa8eda5e1b238a"
      }
     },
     "e0ea0bbae8224139bcd0f73feffa42d4": {
      "model_module": "@jupyter-widgets/base",
      "model_module_version": "1.2.0",
      "model_name": "LayoutModel",
      "state": {}
     },
     "e1812992bd0941d3bf0ddbf5f46c2772": {
      "model_module": "@jupyter-widgets/base",
      "model_module_version": "1.2.0",
      "model_name": "LayoutModel",
      "state": {}
     },
     "e333d88d3c5b4324934941562b75453f": {
      "model_module": "@jupyter-widgets/controls",
      "model_module_version": "1.5.0",
      "model_name": "DescriptionStyleModel",
      "state": {
       "description_width": ""
      }
     },
     "e3c66216bb674ce0b13e70fabf4377c3": {
      "model_module": "@jupyter-widgets/controls",
      "model_module_version": "1.5.0",
      "model_name": "ButtonStyleModel",
      "state": {}
     },
     "e43e5c3b260e43fcbfd35353ca76d137": {
      "model_module": "@jupyter-widgets/base",
      "model_module_version": "1.2.0",
      "model_name": "LayoutModel",
      "state": {}
     },
     "e4a2bdc482494982b57eb5d870f795f2": {
      "model_module": "@jupyter-widgets/controls",
      "model_module_version": "1.5.0",
      "model_name": "LinkModel",
      "state": {
       "source": [
        "IPY_MODEL_bf97b3f05d164348bafa9985f9a28955",
        "max"
       ],
       "target": [
        "IPY_MODEL_40d67bdddf7a4ddda429508b0745e327",
        "max_frame"
       ]
      }
     },
     "e4cbe5d1b0554dfaa36e1febf0993265": {
      "model_module": "@jupyter-widgets/base",
      "model_module_version": "1.2.0",
      "model_name": "LayoutModel",
      "state": {}
     },
     "e4cefc1141974970a155141fc29b218a": {
      "model_module": "@jupyter-widgets/controls",
      "model_module_version": "1.5.0",
      "model_name": "DescriptionStyleModel",
      "state": {
       "description_width": ""
      }
     },
     "e57436abbb4f44e4b0b2e97fb355c072": {
      "model_module": "@jupyter-widgets/controls",
      "model_module_version": "1.5.0",
      "model_name": "FloatSliderModel",
      "state": {
       "description": "Force scale",
       "layout": "IPY_MODEL_9dd0114525c34b239c541f8b1f673e5a",
       "step": 0.1,
       "style": "IPY_MODEL_07eaacf71ade4c7c8b7f582cf4ae5a2b",
       "value": 0.5
      }
     },
     "e5bb61eb1d964940b9f3031635c3521f": {
      "model_module": "nglview-js-widgets",
      "model_module_version": "3.0.1",
      "model_name": "NGLModel",
      "state": {
       "_camera_orientation": [
        43.228424188868175,
        0,
        0,
        0,
        0,
        -2.9891784704203612,
        -43.12495182518699,
        0,
        0,
        43.12495182518699,
        -2.9891784704203612,
        0,
        -12.161999702453613,
        -13.006999969482422,
        -6.303500175476074,
        1
       ],
       "_camera_str": "orthographic",
       "_gui_theme": null,
       "_ibtn_fullscreen": "IPY_MODEL_b46da67c67f2413eb6d23b94ca4a387e",
       "_igui": null,
       "_iplayer": "IPY_MODEL_bdd9322039bc424ab6b163ea9b25da5c",
       "_ngl_color_dict": {},
       "_ngl_coordinate_resource": {},
       "_ngl_full_stage_parameters": {
        "ambientColor": 14540253,
        "ambientIntensity": 0.2,
        "backgroundColor": "white",
        "cameraEyeSep": 0.3,
        "cameraFov": 40,
        "cameraType": "orthographic",
        "clipDist": 0,
        "clipFar": 100,
        "clipNear": 0,
        "fogFar": 100,
        "fogNear": 50,
        "hoverTimeout": 0,
        "impostor": true,
        "lightColor": 14540253,
        "lightIntensity": 1,
        "mousePreset": "default",
        "panSpeed": 1,
        "quality": "medium",
        "rotateSpeed": 2,
        "sampleLevel": 0,
        "tooltip": true,
        "workerDefault": true,
        "zoomSpeed": 1.2
       },
       "_ngl_msg_archive": [
        {
         "args": [
          {
           "binary": false,
           "data": "CRYST1   25.946   27.336   27.336  90.00  90.00  90.00 P 1\nMODEL     1\nATOM      1   Sn MOL     1       1.622   3.417   4.739  1.00  0.00          SN  \nATOM      2   Sn MOL     1       1.622   0.000   1.322  1.00  0.00          SN  \nATOM      3   Sn MOL     1       0.000   3.417   1.322  1.00  0.00          SN  \nATOM      4   Sn MOL     1       0.000   0.000   4.739  1.00  0.00          SN  \nATOM      5    O MOL     1       1.622   1.322   4.739  1.00  0.00           O  \nATOM      6    O MOL     1       1.622   4.739   1.322  1.00  0.00           O  \nATOM      7    O MOL     1       1.622   5.512   4.739  1.00  0.00           O  \nATOM      8    O MOL     1       1.622   2.095   1.322  1.00  0.00           O  \nATOM      9    O MOL     1       0.000   3.417   6.061  1.00  0.00           O  \nATOM     10    O MOL     1       0.000   0.000   2.644  1.00  0.00           O  \nATOM     11    O MOL     1       0.000   3.417   3.417  1.00  0.00           O  \nATOM     12    O MOL     1       0.000   0.000   0.000  1.00  0.00           O  \nATOM     13   Sn MOL     1       1.622  10.251   4.739  1.00  0.00          SN  \nATOM     14   Sn MOL     1       1.622   6.834   1.322  1.00  0.00          SN  \nATOM     15   Sn MOL     1       0.000  10.251   1.322  1.00  0.00          SN  \nATOM     16   Sn MOL     1       0.000   6.834   4.739  1.00  0.00          SN  \nATOM     17    O MOL     1       1.622   8.156   4.739  1.00  0.00           O  \nATOM     18    O MOL     1       1.622  11.573   1.322  1.00  0.00           O  \nATOM     19    O MOL     1       1.622  12.346   4.739  1.00  0.00           O  \nATOM     20    O MOL     1       1.622   8.929   1.322  1.00  0.00           O  \nATOM     21    O MOL     1       0.000  10.251   6.061  1.00  0.00           O  \nATOM     22    O MOL     1       0.000   6.834   2.644  1.00  0.00           O  \nATOM     23    O MOL     1       0.000  10.251   3.417  1.00  0.00           O  \nATOM     24    O MOL     1       0.000   6.834   0.000  1.00  0.00           O  \nATOM     25   Sn MOL     1       4.865   3.417   4.739  1.00  0.00          SN  \nATOM     26   Sn MOL     1       4.865   0.000   1.322  1.00  0.00          SN  \nATOM     27   Sn MOL     1       3.243   3.417   1.322  1.00  0.00          SN  \nATOM     28   Sn MOL     1       3.243   0.000   4.739  1.00  0.00          SN  \nATOM     29    O MOL     1       4.865   1.322   4.739  1.00  0.00           O  \nATOM     30    O MOL     1       4.865   4.739   1.322  1.00  0.00           O  \nATOM     31    O MOL     1       4.865   5.512   4.739  1.00  0.00           O  \nATOM     32    O MOL     1       4.865   2.095   1.322  1.00  0.00           O  \nATOM     33    O MOL     1       3.243   3.417   6.061  1.00  0.00           O  \nATOM     34    O MOL     1       3.243   0.000   2.644  1.00  0.00           O  \nATOM     35    O MOL     1       3.243   3.417   3.417  1.00  0.00           O  \nATOM     36    O MOL     1       3.243   0.000   0.000  1.00  0.00           O  \nATOM     37   Sn MOL     1       4.865  10.251   4.739  1.00  0.00          SN  \nATOM     38   Sn MOL     1       4.865   6.834   1.322  1.00  0.00          SN  \nATOM     39   Sn MOL     1       3.243  10.251   1.322  1.00  0.00          SN  \nATOM     40   Sn MOL     1       3.243   6.834   4.739  1.00  0.00          SN  \nATOM     41    O MOL     1       4.865   8.156   4.739  1.00  0.00           O  \nATOM     42    O MOL     1       4.865  11.573   1.322  1.00  0.00           O  \nATOM     43    O MOL     1       4.865  12.346   4.739  1.00  0.00           O  \nATOM     44    O MOL     1       4.865   8.929   1.322  1.00  0.00           O  \nATOM     45    O MOL     1       3.243  10.251   6.061  1.00  0.00           O  \nATOM     46    O MOL     1       3.243   6.834   2.644  1.00  0.00           O  \nATOM     47    O MOL     1       3.243  10.251   3.417  1.00  0.00           O  \nATOM     48    O MOL     1       3.243   6.834   0.000  1.00  0.00           O  \nATOM     49   Sn MOL     1       8.108   3.417   4.739  1.00  0.00          SN  \nATOM     50   Sn MOL     1       8.108   0.000   1.322  1.00  0.00          SN  \nATOM     51   Sn MOL     1       6.486   3.417   1.322  1.00  0.00          SN  \nATOM     52   Sn MOL     1       6.486   0.000   4.739  1.00  0.00          SN  \nATOM     53    O MOL     1       8.108   1.322   4.739  1.00  0.00           O  \nATOM     54    O MOL     1       8.108   4.739   1.322  1.00  0.00           O  \nATOM     55    O MOL     1       8.108   5.512   4.739  1.00  0.00           O  \nATOM     56    O MOL     1       8.108   2.095   1.322  1.00  0.00           O  \nATOM     57    O MOL     1       6.486   3.417   6.061  1.00  0.00           O  \nATOM     58    O MOL     1       6.486   0.000   2.644  1.00  0.00           O  \nATOM     59    O MOL     1       6.486   3.417   3.417  1.00  0.00           O  \nATOM     60    O MOL     1       6.486   0.000   0.000  1.00  0.00           O  \nATOM     61   Sn MOL     1       8.108  10.251   4.739  1.00  0.00          SN  \nATOM     62   Sn MOL     1       8.108   6.834   1.322  1.00  0.00          SN  \nATOM     63   Sn MOL     1       6.486  10.251   1.322  1.00  0.00          SN  \nATOM     64   Sn MOL     1       6.486   6.834   4.739  1.00  0.00          SN  \nATOM     65    O MOL     1       8.108   8.156   4.739  1.00  0.00           O  \nATOM     66    O MOL     1       8.108  11.573   1.322  1.00  0.00           O  \nATOM     67    O MOL     1       8.108  12.346   4.739  1.00  0.00           O  \nATOM     68    O MOL     1       8.108   8.929   1.322  1.00  0.00           O  \nATOM     69    O MOL     1       6.486  10.251   6.061  1.00  0.00           O  \nATOM     70    O MOL     1       6.486   6.834   2.644  1.00  0.00           O  \nATOM     71    O MOL     1       6.486  10.251   3.417  1.00  0.00           O  \nATOM     72    O MOL     1       6.486   6.834   0.000  1.00  0.00           O  \nATOM     73   Sn MOL     1      11.351   3.417   4.739  1.00  0.00          SN  \nATOM     74   Sn MOL     1      11.351   0.000   1.322  1.00  0.00          SN  \nATOM     75   Sn MOL     1       9.730   3.417   1.322  1.00  0.00          SN  \nATOM     76   Sn MOL     1       9.730   0.000   4.739  1.00  0.00          SN  \nATOM     77    O MOL     1      11.351   1.322   4.739  1.00  0.00           O  \nATOM     78    O MOL     1      11.351   4.739   1.322  1.00  0.00           O  \nATOM     79    O MOL     1      11.351   5.512   4.739  1.00  0.00           O  \nATOM     80    O MOL     1      11.351   2.095   1.322  1.00  0.00           O  \nATOM     81    O MOL     1       9.730   3.417   6.061  1.00  0.00           O  \nATOM     82    O MOL     1       9.730   0.000   2.644  1.00  0.00           O  \nATOM     83    O MOL     1       9.730   3.417   3.417  1.00  0.00           O  \nATOM     84    O MOL     1       9.730   0.000   0.000  1.00  0.00           O  \nATOM     85   Sn MOL     1      11.351  10.251   4.739  1.00  0.00          SN  \nATOM     86   Sn MOL     1      11.351   6.834   1.322  1.00  0.00          SN  \nATOM     87   Sn MOL     1       9.730  10.251   1.322  1.00  0.00          SN  \nATOM     88   Sn MOL     1       9.730   6.834   4.739  1.00  0.00          SN  \nATOM     89    O MOL     1      11.351   8.156   4.739  1.00  0.00           O  \nATOM     90    O MOL     1      11.351  11.573   1.322  1.00  0.00           O  \nATOM     91    O MOL     1      11.351  12.346   4.739  1.00  0.00           O  \nATOM     92    O MOL     1      11.351   8.929   1.322  1.00  0.00           O  \nATOM     93    O MOL     1       9.730  10.251   6.061  1.00  0.00           O  \nATOM     94    O MOL     1       9.730   6.834   2.644  1.00  0.00           O  \nATOM     95    O MOL     1       9.730  10.251   3.417  1.00  0.00           O  \nATOM     96    O MOL     1       9.730   6.834   0.000  1.00  0.00           O  \nATOM     97   Sn MOL     1       1.622  17.085   4.739  1.00  0.00          SN  \nATOM     98   Sn MOL     1       1.622  13.668   1.322  1.00  0.00          SN  \nATOM     99   Sn MOL     1       0.000  17.085   1.322  1.00  0.00          SN  \nATOM    100   Sn MOL     1       0.000  13.668   4.739  1.00  0.00          SN  \nATOM    101    O MOL     1       1.622  14.990   4.739  1.00  0.00           O  \nATOM    102    O MOL     1       1.622  18.407   1.322  1.00  0.00           O  \nATOM    103    O MOL     1       1.622  19.180   4.739  1.00  0.00           O  \nATOM    104    O MOL     1       1.622  15.763   1.322  1.00  0.00           O  \nATOM    105    O MOL     1       0.000  17.085   6.061  1.00  0.00           O  \nATOM    106    O MOL     1       0.000  13.668   2.644  1.00  0.00           O  \nATOM    107    O MOL     1       0.000  17.085   3.417  1.00  0.00           O  \nATOM    108    O MOL     1       0.000  13.668   0.000  1.00  0.00           O  \nATOM    109   Sn MOL     1       1.622  23.919   4.739  1.00  0.00          SN  \nATOM    110   Sn MOL     1       1.622  20.502   1.322  1.00  0.00          SN  \nATOM    111   Sn MOL     1       0.000  23.919   1.322  1.00  0.00          SN  \nATOM    112   Sn MOL     1       0.000  20.502   4.739  1.00  0.00          SN  \nATOM    113    O MOL     1       1.622  21.824   4.739  1.00  0.00           O  \nATOM    114    O MOL     1       1.622  25.241   1.322  1.00  0.00           O  \nATOM    115    O MOL     1       1.622  26.014   4.739  1.00  0.00           O  \nATOM    116    O MOL     1       1.622  22.597   1.322  1.00  0.00           O  \nATOM    117    O MOL     1       0.000  23.919   6.061  1.00  0.00           O  \nATOM    118    O MOL     1       0.000  20.502   2.644  1.00  0.00           O  \nATOM    119    O MOL     1       0.000  23.919   3.417  1.00  0.00           O  \nATOM    120    O MOL     1       0.000  20.502   0.000  1.00  0.00           O  \nATOM    121   Sn MOL     1       4.865  17.085   4.739  1.00  0.00          SN  \nATOM    122   Sn MOL     1       4.865  13.668   1.322  1.00  0.00          SN  \nATOM    123   Sn MOL     1       3.243  17.085   1.322  1.00  0.00          SN  \nATOM    124   Sn MOL     1       3.243  13.668   4.739  1.00  0.00          SN  \nATOM    125    O MOL     1       4.865  14.990   4.739  1.00  0.00           O  \nATOM    126    O MOL     1       4.865  18.407   1.322  1.00  0.00           O  \nATOM    127    O MOL     1       4.865  19.180   4.739  1.00  0.00           O  \nATOM    128    O MOL     1       4.865  15.763   1.322  1.00  0.00           O  \nATOM    129    O MOL     1       3.243  17.085   6.061  1.00  0.00           O  \nATOM    130    O MOL     1       3.243  13.668   2.644  1.00  0.00           O  \nATOM    131    O MOL     1       3.243  17.085   3.417  1.00  0.00           O  \nATOM    132    O MOL     1       3.243  13.668   0.000  1.00  0.00           O  \nATOM    133   Sn MOL     1       4.865  23.919   4.739  1.00  0.00          SN  \nATOM    134   Sn MOL     1       4.865  20.502   1.322  1.00  0.00          SN  \nATOM    135   Sn MOL     1       3.243  23.919   1.322  1.00  0.00          SN  \nATOM    136   Sn MOL     1       3.243  20.502   4.739  1.00  0.00          SN  \nATOM    137    O MOL     1       4.865  21.824   4.739  1.00  0.00           O  \nATOM    138    O MOL     1       4.865  25.241   1.322  1.00  0.00           O  \nATOM    139    O MOL     1       4.865  26.014   4.739  1.00  0.00           O  \nATOM    140    O MOL     1       4.865  22.597   1.322  1.00  0.00           O  \nATOM    141    O MOL     1       3.243  23.919   6.061  1.00  0.00           O  \nATOM    142    O MOL     1       3.243  20.502   2.644  1.00  0.00           O  \nATOM    143    O MOL     1       3.243  23.919   3.417  1.00  0.00           O  \nATOM    144    O MOL     1       3.243  20.502   0.000  1.00  0.00           O  \nATOM    145   Sn MOL     1       8.108  17.085   4.739  1.00  0.00          SN  \nATOM    146   Sn MOL     1       8.108  13.668   1.322  1.00  0.00          SN  \nATOM    147   Sn MOL     1       6.486  17.085   1.322  1.00  0.00          SN  \nATOM    148   Sn MOL     1       6.486  13.668   4.739  1.00  0.00          SN  \nATOM    149    O MOL     1       8.108  14.990   4.739  1.00  0.00           O  \nATOM    150    O MOL     1       8.108  18.407   1.322  1.00  0.00           O  \nATOM    151    O MOL     1       8.108  19.180   4.739  1.00  0.00           O  \nATOM    152    O MOL     1       8.108  15.763   1.322  1.00  0.00           O  \nATOM    153    O MOL     1       6.486  17.085   6.061  1.00  0.00           O  \nATOM    154    O MOL     1       6.486  13.668   2.644  1.00  0.00           O  \nATOM    155    O MOL     1       6.486  17.085   3.417  1.00  0.00           O  \nATOM    156    O MOL     1       6.486  13.668   0.000  1.00  0.00           O  \nATOM    157   Sn MOL     1       8.108  23.919   4.739  1.00  0.00          SN  \nATOM    158   Sn MOL     1       8.108  20.502   1.322  1.00  0.00          SN  \nATOM    159   Sn MOL     1       6.486  23.919   1.322  1.00  0.00          SN  \nATOM    160   Sn MOL     1       6.486  20.502   4.739  1.00  0.00          SN  \nATOM    161    O MOL     1       8.108  21.824   4.739  1.00  0.00           O  \nATOM    162    O MOL     1       8.108  25.241   1.322  1.00  0.00           O  \nATOM    163    O MOL     1       8.108  26.014   4.739  1.00  0.00           O  \nATOM    164    O MOL     1       8.108  22.597   1.322  1.00  0.00           O  \nATOM    165    O MOL     1       6.486  23.919   6.061  1.00  0.00           O  \nATOM    166    O MOL     1       6.486  20.502   2.644  1.00  0.00           O  \nATOM    167    O MOL     1       6.486  23.919   3.417  1.00  0.00           O  \nATOM    168    O MOL     1       6.486  20.502   0.000  1.00  0.00           O  \nATOM    169   Sn MOL     1      11.351  17.085   4.739  1.00  0.00          SN  \nATOM    170   Sn MOL     1      11.351  13.668   1.322  1.00  0.00          SN  \nATOM    171   Sn MOL     1       9.730  17.085   1.322  1.00  0.00          SN  \nATOM    172   Sn MOL     1       9.730  13.668   4.739  1.00  0.00          SN  \nATOM    173    O MOL     1      11.351  14.990   4.739  1.00  0.00           O  \nATOM    174    O MOL     1      11.351  18.407   1.322  1.00  0.00           O  \nATOM    175    O MOL     1      11.351  19.180   4.739  1.00  0.00           O  \nATOM    176    O MOL     1      11.351  15.763   1.322  1.00  0.00           O  \nATOM    177    O MOL     1       9.730  17.085   6.061  1.00  0.00           O  \nATOM    178    O MOL     1       9.730  13.668   2.644  1.00  0.00           O  \nATOM    179    O MOL     1       9.730  17.085   3.417  1.00  0.00           O  \nATOM    180    O MOL     1       9.730  13.668   0.000  1.00  0.00           O  \nATOM    181   Sn MOL     1      11.351  23.919   4.739  1.00  0.00          SN  \nATOM    182   Sn MOL     1      11.351  20.502   1.322  1.00  0.00          SN  \nATOM    183   Sn MOL     1       9.730  23.919   1.322  1.00  0.00          SN  \nATOM    184   Sn MOL     1       9.730  20.502   4.739  1.00  0.00          SN  \nATOM    185    O MOL     1      11.351  21.824   4.739  1.00  0.00           O  \nATOM    186    O MOL     1      11.351  25.241   1.322  1.00  0.00           O  \nATOM    187    O MOL     1      11.351  26.014   4.739  1.00  0.00           O  \nATOM    188    O MOL     1      11.351  22.597   1.322  1.00  0.00           O  \nATOM    189    O MOL     1       9.730  23.919   6.061  1.00  0.00           O  \nATOM    190    O MOL     1       9.730  20.502   2.644  1.00  0.00           O  \nATOM    191    O MOL     1       9.730  23.919   3.417  1.00  0.00           O  \nATOM    192    O MOL     1       9.730  20.502   0.000  1.00  0.00           O  \nATOM    193   Sn MOL     1      14.594   3.417   4.739  1.00  0.00          SN  \nATOM    194   Sn MOL     1      14.594   0.000   1.322  1.00  0.00          SN  \nATOM    195   Sn MOL     1      12.973   3.417   1.322  1.00  0.00          SN  \nATOM    196   Sn MOL     1      12.973   0.000   4.739  1.00  0.00          SN  \nATOM    197    O MOL     1      14.594   1.322   4.739  1.00  0.00           O  \nATOM    198    O MOL     1      14.594   4.739   1.322  1.00  0.00           O  \nATOM    199    O MOL     1      14.594   5.512   4.739  1.00  0.00           O  \nATOM    200    O MOL     1      14.594   2.095   1.322  1.00  0.00           O  \nATOM    201    O MOL     1      12.973   3.417   6.061  1.00  0.00           O  \nATOM    202    O MOL     1      12.973   0.000   2.644  1.00  0.00           O  \nATOM    203    O MOL     1      12.973   3.417   3.417  1.00  0.00           O  \nATOM    204    O MOL     1      12.973   0.000   0.000  1.00  0.00           O  \nATOM    205   Sn MOL     1      14.594  10.251   4.739  1.00  0.00          SN  \nATOM    206   Sn MOL     1      14.594   6.834   1.322  1.00  0.00          SN  \nATOM    207   Sn MOL     1      12.973  10.251   1.322  1.00  0.00          SN  \nATOM    208   Sn MOL     1      12.973   6.834   4.739  1.00  0.00          SN  \nATOM    209    O MOL     1      14.594   8.156   4.739  1.00  0.00           O  \nATOM    210    O MOL     1      14.594  11.573   1.322  1.00  0.00           O  \nATOM    211    O MOL     1      14.594  12.346   4.739  1.00  0.00           O  \nATOM    212    O MOL     1      14.594   8.929   1.322  1.00  0.00           O  \nATOM    213    O MOL     1      12.973  10.251   6.061  1.00  0.00           O  \nATOM    214    O MOL     1      12.973   6.834   2.644  1.00  0.00           O  \nATOM    215    O MOL     1      12.973  10.251   3.417  1.00  0.00           O  \nATOM    216    O MOL     1      12.973   6.834   0.000  1.00  0.00           O  \nATOM    217   Sn MOL     1      17.838   3.417   4.739  1.00  0.00          SN  \nATOM    218   Sn MOL     1      17.838   0.000   1.322  1.00  0.00          SN  \nATOM    219   Sn MOL     1      16.216   3.417   1.322  1.00  0.00          SN  \nATOM    220   Sn MOL     1      16.216   0.000   4.739  1.00  0.00          SN  \nATOM    221    O MOL     1      17.838   1.322   4.739  1.00  0.00           O  \nATOM    222    O MOL     1      17.838   4.739   1.322  1.00  0.00           O  \nATOM    223    O MOL     1      17.838   5.512   4.739  1.00  0.00           O  \nATOM    224    O MOL     1      17.838   2.095   1.322  1.00  0.00           O  \nATOM    225    O MOL     1      16.216   3.417   6.061  1.00  0.00           O  \nATOM    226    O MOL     1      16.216   0.000   2.644  1.00  0.00           O  \nATOM    227    O MOL     1      16.216   3.417   3.417  1.00  0.00           O  \nATOM    228    O MOL     1      16.216   0.000   0.000  1.00  0.00           O  \nATOM    229   Sn MOL     1      17.838  10.251   4.739  1.00  0.00          SN  \nATOM    230   Sn MOL     1      17.838   6.834   1.322  1.00  0.00          SN  \nATOM    231   Sn MOL     1      16.216  10.251   1.322  1.00  0.00          SN  \nATOM    232   Sn MOL     1      16.216   6.834   4.739  1.00  0.00          SN  \nATOM    233    O MOL     1      17.838   8.156   4.739  1.00  0.00           O  \nATOM    234    O MOL     1      17.838  11.573   1.322  1.00  0.00           O  \nATOM    235    O MOL     1      17.838  12.346   4.739  1.00  0.00           O  \nATOM    236    O MOL     1      17.838   8.929   1.322  1.00  0.00           O  \nATOM    237    O MOL     1      16.216  10.251   6.061  1.00  0.00           O  \nATOM    238    O MOL     1      16.216   6.834   2.644  1.00  0.00           O  \nATOM    239    O MOL     1      16.216  10.251   3.417  1.00  0.00           O  \nATOM    240    O MOL     1      16.216   6.834   0.000  1.00  0.00           O  \nATOM    241   Sn MOL     1      21.081   3.417   4.739  1.00  0.00          SN  \nATOM    242   Sn MOL     1      21.081   0.000   1.322  1.00  0.00          SN  \nATOM    243   Sn MOL     1      19.459   3.417   1.322  1.00  0.00          SN  \nATOM    244   Sn MOL     1      19.459   0.000   4.739  1.00  0.00          SN  \nATOM    245    O MOL     1      21.081   1.322   4.739  1.00  0.00           O  \nATOM    246    O MOL     1      21.081   4.739   1.322  1.00  0.00           O  \nATOM    247    O MOL     1      21.081   5.512   4.739  1.00  0.00           O  \nATOM    248    O MOL     1      21.081   2.095   1.322  1.00  0.00           O  \nATOM    249    O MOL     1      19.459   3.417   6.061  1.00  0.00           O  \nATOM    250    O MOL     1      19.459   0.000   2.644  1.00  0.00           O  \nATOM    251    O MOL     1      19.459   3.417   3.417  1.00  0.00           O  \nATOM    252    O MOL     1      19.459   0.000   0.000  1.00  0.00           O  \nATOM    253   Sn MOL     1      21.081  10.251   4.739  1.00  0.00          SN  \nATOM    254   Sn MOL     1      21.081   6.834   1.322  1.00  0.00          SN  \nATOM    255   Sn MOL     1      19.459  10.251   1.322  1.00  0.00          SN  \nATOM    256   Sn MOL     1      19.459   6.834   4.739  1.00  0.00          SN  \nATOM    257    O MOL     1      21.081   8.156   4.739  1.00  0.00           O  \nATOM    258    O MOL     1      21.081  11.573   1.322  1.00  0.00           O  \nATOM    259    O MOL     1      21.081  12.346   4.739  1.00  0.00           O  \nATOM    260    O MOL     1      21.081   8.929   1.322  1.00  0.00           O  \nATOM    261    O MOL     1      19.459  10.251   6.061  1.00  0.00           O  \nATOM    262    O MOL     1      19.459   6.834   2.644  1.00  0.00           O  \nATOM    263    O MOL     1      19.459  10.251   3.417  1.00  0.00           O  \nATOM    264    O MOL     1      19.459   6.834   0.000  1.00  0.00           O  \nATOM    265   Sn MOL     1      24.324   3.417   4.739  1.00  0.00          SN  \nATOM    266   Sn MOL     1      24.324   0.000   1.322  1.00  0.00          SN  \nATOM    267   Sn MOL     1      22.703   3.417   1.322  1.00  0.00          SN  \nATOM    268   Sn MOL     1      22.703   0.000   4.739  1.00  0.00          SN  \nATOM    269    O MOL     1      24.324   1.322   4.739  1.00  0.00           O  \nATOM    270    O MOL     1      24.324   4.739   1.322  1.00  0.00           O  \nATOM    271    O MOL     1      24.324   5.512   4.739  1.00  0.00           O  \nATOM    272    O MOL     1      24.324   2.095   1.322  1.00  0.00           O  \nATOM    273    O MOL     1      22.703   3.417   6.061  1.00  0.00           O  \nATOM    274    O MOL     1      22.703   0.000   2.644  1.00  0.00           O  \nATOM    275    O MOL     1      22.703   3.417   3.417  1.00  0.00           O  \nATOM    276    O MOL     1      22.703   0.000   0.000  1.00  0.00           O  \nATOM    277   Sn MOL     1      24.324  10.251   4.739  1.00  0.00          SN  \nATOM    278   Sn MOL     1      24.324   6.834   1.322  1.00  0.00          SN  \nATOM    279   Sn MOL     1      22.703  10.251   1.322  1.00  0.00          SN  \nATOM    280   Sn MOL     1      22.703   6.834   4.739  1.00  0.00          SN  \nATOM    281    O MOL     1      24.324   8.156   4.739  1.00  0.00           O  \nATOM    282    O MOL     1      24.324  11.573   1.322  1.00  0.00           O  \nATOM    283    O MOL     1      24.324  12.346   4.739  1.00  0.00           O  \nATOM    284    O MOL     1      24.324   8.929   1.322  1.00  0.00           O  \nATOM    285    O MOL     1      22.703  10.251   6.061  1.00  0.00           O  \nATOM    286    O MOL     1      22.703   6.834   2.644  1.00  0.00           O  \nATOM    287    O MOL     1      22.703  10.251   3.417  1.00  0.00           O  \nATOM    288    O MOL     1      22.703   6.834   0.000  1.00  0.00           O  \nATOM    289   Sn MOL     1      14.594  17.085   4.739  1.00  0.00          SN  \nATOM    290   Sn MOL     1      14.594  13.668   1.322  1.00  0.00          SN  \nATOM    291   Sn MOL     1      12.973  17.085   1.322  1.00  0.00          SN  \nATOM    292   Sn MOL     1      12.973  13.668   4.739  1.00  0.00          SN  \nATOM    293    O MOL     1      14.594  14.990   4.739  1.00  0.00           O  \nATOM    294    O MOL     1      14.594  18.407   1.322  1.00  0.00           O  \nATOM    295    O MOL     1      14.594  19.180   4.739  1.00  0.00           O  \nATOM    296    O MOL     1      14.594  15.763   1.322  1.00  0.00           O  \nATOM    297    O MOL     1      12.973  17.085   6.061  1.00  0.00           O  \nATOM    298    O MOL     1      12.973  13.668   2.644  1.00  0.00           O  \nATOM    299    O MOL     1      12.973  17.085   3.417  1.00  0.00           O  \nATOM    300    O MOL     1      12.973  13.668   0.000  1.00  0.00           O  \nATOM    301   Sn MOL     1      14.594  23.919   4.739  1.00  0.00          SN  \nATOM    302   Sn MOL     1      14.594  20.502   1.322  1.00  0.00          SN  \nATOM    303   Sn MOL     1      12.973  23.919   1.322  1.00  0.00          SN  \nATOM    304   Sn MOL     1      12.973  20.502   4.739  1.00  0.00          SN  \nATOM    305    O MOL     1      14.594  21.824   4.739  1.00  0.00           O  \nATOM    306    O MOL     1      14.594  25.241   1.322  1.00  0.00           O  \nATOM    307    O MOL     1      14.594  26.014   4.739  1.00  0.00           O  \nATOM    308    O MOL     1      14.594  22.597   1.322  1.00  0.00           O  \nATOM    309    O MOL     1      12.973  23.919   6.061  1.00  0.00           O  \nATOM    310    O MOL     1      12.973  20.502   2.644  1.00  0.00           O  \nATOM    311    O MOL     1      12.973  23.919   3.417  1.00  0.00           O  \nATOM    312    O MOL     1      12.973  20.502   0.000  1.00  0.00           O  \nATOM    313   Sn MOL     1      17.838  17.085   4.739  1.00  0.00          SN  \nATOM    314   Sn MOL     1      17.838  13.668   1.322  1.00  0.00          SN  \nATOM    315   Sn MOL     1      16.216  17.085   1.322  1.00  0.00          SN  \nATOM    316   Sn MOL     1      16.216  13.668   4.739  1.00  0.00          SN  \nATOM    317    O MOL     1      17.838  14.990   4.739  1.00  0.00           O  \nATOM    318    O MOL     1      17.838  18.407   1.322  1.00  0.00           O  \nATOM    319    O MOL     1      17.838  19.180   4.739  1.00  0.00           O  \nATOM    320    O MOL     1      17.838  15.763   1.322  1.00  0.00           O  \nATOM    321    O MOL     1      16.216  17.085   6.061  1.00  0.00           O  \nATOM    322    O MOL     1      16.216  13.668   2.644  1.00  0.00           O  \nATOM    323    O MOL     1      16.216  17.085   3.417  1.00  0.00           O  \nATOM    324    O MOL     1      16.216  13.668   0.000  1.00  0.00           O  \nATOM    325   Sn MOL     1      17.838  23.919   4.739  1.00  0.00          SN  \nATOM    326   Sn MOL     1      17.838  20.502   1.322  1.00  0.00          SN  \nATOM    327   Sn MOL     1      16.216  23.919   1.322  1.00  0.00          SN  \nATOM    328   Sn MOL     1      16.216  20.502   4.739  1.00  0.00          SN  \nATOM    329    O MOL     1      17.838  21.824   4.739  1.00  0.00           O  \nATOM    330    O MOL     1      17.838  25.241   1.322  1.00  0.00           O  \nATOM    331    O MOL     1      17.838  26.014   4.739  1.00  0.00           O  \nATOM    332    O MOL     1      17.838  22.597   1.322  1.00  0.00           O  \nATOM    333    O MOL     1      16.216  23.919   6.061  1.00  0.00           O  \nATOM    334    O MOL     1      16.216  20.502   2.644  1.00  0.00           O  \nATOM    335    O MOL     1      16.216  23.919   3.417  1.00  0.00           O  \nATOM    336    O MOL     1      16.216  20.502   0.000  1.00  0.00           O  \nATOM    337   Sn MOL     1      21.081  17.085   4.739  1.00  0.00          SN  \nATOM    338   Sn MOL     1      21.081  13.668   1.322  1.00  0.00          SN  \nATOM    339   Sn MOL     1      19.459  17.085   1.322  1.00  0.00          SN  \nATOM    340   Sn MOL     1      19.459  13.668   4.739  1.00  0.00          SN  \nATOM    341    O MOL     1      21.081  14.990   4.739  1.00  0.00           O  \nATOM    342    O MOL     1      21.081  18.407   1.322  1.00  0.00           O  \nATOM    343    O MOL     1      21.081  19.180   4.739  1.00  0.00           O  \nATOM    344    O MOL     1      21.081  15.763   1.322  1.00  0.00           O  \nATOM    345    O MOL     1      19.459  17.085   6.061  1.00  0.00           O  \nATOM    346    O MOL     1      19.459  13.668   2.644  1.00  0.00           O  \nATOM    347    O MOL     1      19.459  17.085   3.417  1.00  0.00           O  \nATOM    348    O MOL     1      19.459  13.668   0.000  1.00  0.00           O  \nATOM    349   Sn MOL     1      21.081  23.919   4.739  1.00  0.00          SN  \nATOM    350   Sn MOL     1      21.081  20.502   1.322  1.00  0.00          SN  \nATOM    351   Sn MOL     1      19.459  23.919   1.322  1.00  0.00          SN  \nATOM    352   Sn MOL     1      19.459  20.502   4.739  1.00  0.00          SN  \nATOM    353    O MOL     1      21.081  21.824   4.739  1.00  0.00           O  \nATOM    354    O MOL     1      21.081  25.241   1.322  1.00  0.00           O  \nATOM    355    O MOL     1      21.081  26.014   4.739  1.00  0.00           O  \nATOM    356    O MOL     1      21.081  22.597   1.322  1.00  0.00           O  \nATOM    357    O MOL     1      19.459  23.919   6.061  1.00  0.00           O  \nATOM    358    O MOL     1      19.459  20.502   2.644  1.00  0.00           O  \nATOM    359    O MOL     1      19.459  23.919   3.417  1.00  0.00           O  \nATOM    360    O MOL     1      19.459  20.502   0.000  1.00  0.00           O  \nATOM    361   Sn MOL     1      24.324  17.085   4.739  1.00  0.00          SN  \nATOM    362   Sn MOL     1      24.324  13.668   1.322  1.00  0.00          SN  \nATOM    363   Sn MOL     1      22.703  17.085   1.322  1.00  0.00          SN  \nATOM    364   Sn MOL     1      22.703  13.668   4.739  1.00  0.00          SN  \nATOM    365    O MOL     1      24.324  14.990   4.739  1.00  0.00           O  \nATOM    366    O MOL     1      24.324  18.407   1.322  1.00  0.00           O  \nATOM    367    O MOL     1      24.324  19.180   4.739  1.00  0.00           O  \nATOM    368    O MOL     1      24.324  15.763   1.322  1.00  0.00           O  \nATOM    369    O MOL     1      22.703  17.085   6.061  1.00  0.00           O  \nATOM    370    O MOL     1      22.703  13.668   2.644  1.00  0.00           O  \nATOM    371    O MOL     1      22.703  17.085   3.417  1.00  0.00           O  \nATOM    372    O MOL     1      22.703  13.668   0.000  1.00  0.00           O  \nATOM    373   Sn MOL     1      24.324  23.919   4.739  1.00  0.00          SN  \nATOM    374   Sn MOL     1      24.324  20.502   1.322  1.00  0.00          SN  \nATOM    375   Sn MOL     1      22.703  23.919   1.322  1.00  0.00          SN  \nATOM    376   Sn MOL     1      22.703  20.502   4.739  1.00  0.00          SN  \nATOM    377    O MOL     1      24.324  21.824   4.739  1.00  0.00           O  \nATOM    378    O MOL     1      24.324  25.241   1.322  1.00  0.00           O  \nATOM    379    O MOL     1      24.324  26.014   4.739  1.00  0.00           O  \nATOM    380    O MOL     1      24.324  22.597   1.322  1.00  0.00           O  \nATOM    381    O MOL     1      22.703  23.919   6.061  1.00  0.00           O  \nATOM    382    O MOL     1      22.703  20.502   2.644  1.00  0.00           O  \nATOM    383    O MOL     1      22.703  23.919   3.417  1.00  0.00           O  \nATOM    384    O MOL     1      22.703  20.502   0.000  1.00  0.00           O  \nATOM    385   Pt MOL     1       9.164  11.819  10.344  1.00  0.00          PT  \nATOM    386   Pt MOL     1      11.124   9.859  10.344  1.00  0.00          PT  \nATOM    387   Pt MOL     1       9.578  10.273   8.081  1.00  0.00          PT  \nATOM    388   Pt MOL     1      10.710  11.405  12.607  1.00  0.00          PT  \nATOM    389   Pt MOL     1      11.427  14.082  12.607  1.00  0.00          PT  \nATOM    390   Pt MOL     1      13.387  12.122  12.607  1.00  0.00          PT  \nATOM    391   Pt MOL     1      11.841  12.536  10.344  1.00  0.00          PT  \nATOM    392   Pt MOL     1      14.104  14.800  12.607  1.00  0.00          PT  \nATOM    393   Pt MOL     1       7.618  12.233   8.081  1.00  0.00          PT  \nATOM    394   Pt MOL     1       8.335  14.911   8.081  1.00  0.00          PT  \nATOM    395   Pt MOL     1      10.295  12.951   8.081  1.00  0.00          PT  \nATOM    396   Pt MOL     1       9.881  14.496  10.344  1.00  0.00          PT  \nATOM    397   Pt MOL     1      10.599  17.174  10.344  1.00  0.00          PT  \nATOM    398   Pt MOL     1      12.559  15.214  10.344  1.00  0.00          PT  \nATOM    399   Pt MOL     1      11.013  15.628   8.081  1.00  0.00          PT  \nATOM    400   Pt MOL     1      12.144  16.760  12.607  1.00  0.00          PT  \nATOM    401   Pt MOL     1      13.276  17.891  10.344  1.00  0.00          PT  \nATOM    402   Pt MOL     1       9.053  17.588   8.081  1.00  0.00          PT  \nATOM    403   Pt MOL     1      11.730  18.305   8.081  1.00  0.00          PT  \nATOM    404   Pt MOL     1      11.538   8.313   8.081  1.00  0.00          PT  \nATOM    405   Pt MOL     1      12.255  10.991   8.081  1.00  0.00          PT  \nATOM    406   Pt MOL     1      14.215   9.031   8.081  1.00  0.00          PT  \nATOM    407   Pt MOL     1      13.801  10.576  10.344  1.00  0.00          PT  \nATOM    408   Pt MOL     1      14.519  13.254  10.344  1.00  0.00          PT  \nATOM    409   Pt MOL     1      16.479  11.294  10.344  1.00  0.00          PT  \nATOM    410   Pt MOL     1      14.933  11.708   8.081  1.00  0.00          PT  \nATOM    411   Pt MOL     1      16.064  12.840  12.607  1.00  0.00          PT  \nATOM    412   Pt MOL     1      17.196  13.971  10.344  1.00  0.00          PT  \nATOM    413   Pt MOL     1      12.973  13.668   8.081  1.00  0.00          PT  \nATOM    414   Pt MOL     1      13.690  16.345   8.081  1.00  0.00          PT  \nATOM    415   Pt MOL     1      15.650  14.385   8.081  1.00  0.00          PT  \nATOM    416   Pt MOL     1      15.236  15.931  10.344  1.00  0.00          PT  \nATOM    417   Pt MOL     1      16.368  17.063   8.081  1.00  0.00          PT  \nATOM    418   Pt MOL     1      14.408  19.023   8.081  1.00  0.00          PT  \nATOM    419   Pt MOL     1      16.893   9.748   8.081  1.00  0.00          PT  \nATOM    420   Pt MOL     1      17.610  12.425   8.081  1.00  0.00          PT  \nATOM    421   Pt MOL     1      18.328  15.103   8.081  1.00  0.00          PT  \nENDMDL\n",
           "type": "blob"
          }
         ],
         "kwargs": {
          "defaultRepresentation": false,
          "ext": "pdb"
         },
         "methodName": "loadFile",
         "reconstruc_color_scheme": false,
         "target": "Stage",
         "type": "call_method"
        },
        {
         "args": [
          "500px",
          "500px"
         ],
         "kwargs": {},
         "methodName": "setSize",
         "reconstruc_color_scheme": false,
         "target": "Widget",
         "type": "call_method"
        },
        {
         "args": [
          "unitcell"
         ],
         "component_index": 0,
         "kwargs": {
          "sele": "all"
         },
         "methodName": "addRepresentation",
         "reconstruc_color_scheme": false,
         "target": "compList",
         "type": "call_method"
        },
        {
         "args": [
          "spacefill"
         ],
         "component_index": 0,
         "kwargs": {
          "sele": "all"
         },
         "methodName": "addRepresentation",
         "reconstruc_color_scheme": false,
         "target": "compList",
         "type": "call_method"
        },
        {
         "args": [],
         "kwargs": {
          "cameraType": "orthographic"
         },
         "methodName": "setParameters",
         "reconstruc_color_scheme": false,
         "target": "Stage",
         "type": "call_method"
        },
        {
         "args": [
          {
           "clipDist": 0
          }
         ],
         "kwargs": {},
         "methodName": "setParameters",
         "reconstruc_color_scheme": false,
         "target": "Widget",
         "type": "call_method"
        },
        {
         "args": [
          "spacefill",
          0
         ],
         "kwargs": {
          "colorScale": "rainbow",
          "colorScheme": "element",
          "radiusScale": 0.5,
          "radiusType": "covalent"
         },
         "methodName": "updateRepresentationsByName",
         "reconstruc_color_scheme": false,
         "target": "Widget",
         "type": "call_method"
        },
        {
         "args": [
          "this._Q = [[1.0, 0.0, 0.0], [0.0, 1.0, 0.0], [0.0, 0.0, 1.0]]\n    var tooltip = document.createElement('div');\n    Object.assign(tooltip.style, {\n      display: 'none',\n      position: 'fixed',\n      zIndex: 10,\n      pointerEvents: 'none',\n      backgroundColor: 'rgba( 0, 0, 0, 0.6 )',\n      color: 'lightgrey',\n      padding: '8px',\n      fontFamily: 'sans-serif'\n    });\n    document.body.appendChild(tooltip);\n\n    var that = this;\n    this.stage.mouseControls.remove('hoverPick');\n    this.stage.signals.hovered.add(function (pickingProxy) {\n      if (pickingProxy && (pickingProxy.atom || pickingProxy.bond)) {\n        var atom = pickingProxy.atom || pickingProxy.closestBondAtom\n        var mp = pickingProxy.mouse.position\n        //tooltip.innerText = atom.element + ' i=' + atom.index + ' (' + atom.x.toFixed(2) +  ', ' + atom.y.toFixed(2) +  ', ' + atom.z.toFixed(2) + ')'\n        //var pos = that._atoms_pos[atom.index]\n        var Q = that._Q\n        var pos_x = Q[0][0] * atom.x + Q[0][1] * atom.y + Q[0][2] * atom.z \n        var pos_y = Q[1][0] * atom.x + Q[1][1] * atom.y + Q[1][2] * atom.z\n        var pos_z = Q[2][0] * atom.x + Q[2][1] * atom.y + Q[2][2] * atom.z\n        tooltip.innerText = 'i=' + atom.index + ' ' + atom.element + ' (' + pos_x.toFixed(2) +  ', ' + pos_y.toFixed(2) +  ', ' + pos_z.toFixed(2) + ')'\n        tooltip.style.bottom = window.innerHeight - mp.y + 3 + 'px'\n        tooltip.style.left = mp.x + 3 + 'px'\n        tooltip.style.display = 'block'\n      } else {\n        tooltip.style.display = 'none'\n      }\n    });\n    this.stage.tooltip = tooltip;\n    "
         ],
         "kwargs": {},
         "methodName": "executeCode",
         "reconstruc_color_scheme": false,
         "target": "Widget",
         "type": "call_method"
        },
        {
         "args": [
          "ball+stick"
         ],
         "component_index": 0,
         "kwargs": {
          "sele": "all"
         },
         "methodName": "addRepresentation",
         "reconstruc_color_scheme": false,
         "target": "compList",
         "type": "call_method"
        }
       ],
       "_ngl_original_stage_parameters": {
        "ambientColor": 14540253,
        "ambientIntensity": 0.2,
        "backgroundColor": "white",
        "cameraEyeSep": 0.3,
        "cameraFov": 40,
        "cameraType": "perspective",
        "clipDist": 10,
        "clipFar": 100,
        "clipNear": 0,
        "fogFar": 100,
        "fogNear": 50,
        "hoverTimeout": 0,
        "impostor": true,
        "lightColor": 14540253,
        "lightIntensity": 1,
        "mousePreset": "default",
        "panSpeed": 1,
        "quality": "medium",
        "rotateSpeed": 2,
        "sampleLevel": 0,
        "tooltip": true,
        "workerDefault": true,
        "zoomSpeed": 1.2
       },
       "_ngl_repr_dict": {
        "0": {
         "0": {
          "params": {
           "clipCenter": {
            "x": 0,
            "y": 0,
            "z": 0
           },
           "clipNear": 0,
           "clipRadius": 0,
           "colorMode": "hcl",
           "colorReverse": false,
           "colorScale": "",
           "colorScheme": "element",
           "colorValue": "orange",
           "defaultAssembly": "",
           "depthWrite": true,
           "diffuse": 16777215,
           "diffuseInterior": false,
           "disableImpostor": false,
           "disablePicking": false,
           "flatShaded": false,
           "interiorColor": 2236962,
           "interiorDarkening": 0,
           "lazy": false,
           "matrix": {
            "elements": [
             1,
             0,
             0,
             0,
             0,
             1,
             0,
             0,
             0,
             0,
             1,
             0,
             0,
             0,
             0,
             1
            ]
           },
           "metalness": 0,
           "opacity": 1,
           "quality": "medium",
           "radialSegments": 10,
           "radiusData": {},
           "radiusScale": 1,
           "radiusSize": 0.1343229126300808,
           "radiusType": "vdw",
           "roughness": 0.4,
           "sele": "all",
           "side": "double",
           "sphereDetail": 1,
           "useInteriorColor": true,
           "visible": true,
           "wireframe": false
          },
          "type": "unitcell"
         },
         "1": {
          "params": {
           "assembly": "default",
           "clipCenter": {
            "x": 0,
            "y": 0,
            "z": 0
           },
           "clipNear": 0,
           "clipRadius": 0,
           "colorMode": "hcl",
           "colorReverse": false,
           "colorScale": "rainbow",
           "colorScheme": "element",
           "colorValue": 9474192,
           "defaultAssembly": "",
           "depthWrite": true,
           "diffuse": 16777215,
           "diffuseInterior": false,
           "disableImpostor": false,
           "disablePicking": false,
           "flatShaded": false,
           "interiorColor": 2236962,
           "interiorDarkening": 0,
           "lazy": false,
           "matrix": {
            "elements": [
             1,
             0,
             0,
             0,
             0,
             1,
             0,
             0,
             0,
             0,
             1,
             0,
             0,
             0,
             0,
             1
            ]
           },
           "metalness": 0,
           "opacity": 1,
           "quality": "medium",
           "radiusData": {},
           "radiusScale": 0.5,
           "radiusSize": 1,
           "radiusType": "covalent",
           "roughness": 0.4,
           "sele": "all",
           "side": "double",
           "sphereDetail": 1,
           "useInteriorColor": true,
           "visible": true,
           "wireframe": false
          },
          "type": "spacefill"
         },
         "2": {
          "params": {
           "aspectRatio": 2,
           "assembly": "default",
           "bondScale": 0.4,
           "bondSpacing": 1,
           "clipCenter": {
            "x": 0,
            "y": 0,
            "z": 0
           },
           "clipNear": 0,
           "clipRadius": 0,
           "colorMode": "hcl",
           "colorReverse": false,
           "colorScale": "",
           "colorScheme": "element",
           "colorValue": 9474192,
           "cylinderOnly": false,
           "defaultAssembly": "",
           "depthWrite": true,
           "diffuse": 16777215,
           "diffuseInterior": false,
           "disableImpostor": false,
           "disablePicking": false,
           "flatShaded": false,
           "interiorColor": 2236962,
           "interiorDarkening": 0,
           "lazy": false,
           "lineOnly": false,
           "linewidth": 2,
           "matrix": {
            "elements": [
             1,
             0,
             0,
             0,
             0,
             1,
             0,
             0,
             0,
             0,
             1,
             0,
             0,
             0,
             0,
             1
            ]
           },
           "metalness": 0,
           "multipleBond": "off",
           "opacity": 1,
           "openEnded": true,
           "quality": "medium",
           "radialSegments": 10,
           "radiusData": {},
           "radiusScale": 1,
           "radiusSize": 0.15,
           "radiusType": "size",
           "roughness": 0.4,
           "sele": "all",
           "side": "double",
           "sphereDetail": 1,
           "useInteriorColor": true,
           "visible": true,
           "wireframe": false
          },
          "type": "ball+stick"
         }
        }
       },
       "_ngl_serialize": false,
       "_ngl_version": "2.0.0-dev.36",
       "_ngl_view_id": [
        "B4607382-63C7-4D9B-9BA6-B4B78D1353CD"
       ],
       "_player_dict": {},
       "_scene_position": {},
       "_scene_rotation": {},
       "_synced_model_ids": [],
       "_synced_repr_model_ids": [],
       "_view_height": "",
       "_view_width": "",
       "background": "white",
       "frame": 0,
       "gui_style": null,
       "layout": "IPY_MODEL_a77a35586c1545c6966f1d1a2199b93c",
       "max_frame": 0,
       "n_components": 1,
       "picked": {}
      }
     },
     "e68fbf76aa464e058a83b4a0dded2d81": {
      "model_module": "@jupyter-widgets/controls",
      "model_module_version": "1.5.0",
      "model_name": "ButtonStyleModel",
      "state": {}
     },
     "e6b40583fdc84ddab86df8e1d414c088": {
      "model_module": "@jupyter-widgets/base",
      "model_module_version": "1.2.0",
      "model_name": "LayoutModel",
      "state": {}
     },
     "e717bc66d29f46b3907d49f08ed74b26": {
      "model_module": "@jupyter-widgets/controls",
      "model_module_version": "1.5.0",
      "model_name": "CheckboxModel",
      "state": {
       "description": "Show force",
       "disabled": false,
       "layout": "IPY_MODEL_2cee4c0890bd4f97a5d9f4bf16e233bc",
       "style": "IPY_MODEL_efc5bb41233747239ebd281d9ac298ba",
       "value": false
      }
     },
     "e7891376cae34ad9aef9016b0013e372": {
      "model_module": "@jupyter-widgets/base",
      "model_module_version": "1.2.0",
      "model_name": "LayoutModel",
      "state": {}
     },
     "e83d98337b174c34b2a29a76a9261740": {
      "model_module": "@jupyter-widgets/base",
      "model_module_version": "1.2.0",
      "model_name": "LayoutModel",
      "state": {}
     },
     "e8436c8f15a44d769c84659aa902f399": {
      "model_module": "@jupyter-widgets/base",
      "model_module_version": "1.2.0",
      "model_name": "LayoutModel",
      "state": {}
     },
     "e87b9c152c28481491697b50c152d27d": {
      "model_module": "@jupyter-widgets/base",
      "model_module_version": "1.2.0",
      "model_name": "LayoutModel",
      "state": {}
     },
     "e8e515087911460bbfd243bda87aa182": {
      "model_module": "@jupyter-widgets/controls",
      "model_module_version": "1.5.0",
      "model_name": "CheckboxModel",
      "state": {
       "description": "Show force",
       "disabled": false,
       "layout": "IPY_MODEL_16c106472d914a15baa4f23d648ec819",
       "style": "IPY_MODEL_28da9b1a0d5d401cb9bdce30bc590e6f",
       "value": false
      }
     },
     "e9328f6944d445a0b315ab1f6a8a4c23": {
      "model_module": "@jupyter-widgets/base",
      "model_module_version": "1.2.0",
      "model_name": "LayoutModel",
      "state": {}
     },
     "ea38bc7b3a054dedb5d32813b5201976": {
      "model_module": "@jupyter-widgets/controls",
      "model_module_version": "1.5.0",
      "model_name": "FloatSliderModel",
      "state": {
       "description": "Ball size",
       "layout": "IPY_MODEL_d704043c664c4e6fa4761dfaac5453c6",
       "max": 1.5,
       "step": 0.01,
       "style": "IPY_MODEL_32b7d6adb34d460e8581841293d8ad2c",
       "value": 0.5
      }
     },
     "eabac40d07554a6a91bfa0ca515de4e3": {
      "model_module": "@jupyter-widgets/controls",
      "model_module_version": "1.5.0",
      "model_name": "ButtonModel",
      "state": {
       "icon": "compress",
       "layout": "IPY_MODEL_17c52860d25e4cd69e11cc21018cf223",
       "style": "IPY_MODEL_4e2264df6a244bf8bdd77beb34e6185f"
      }
     },
     "eaec156e712641ccb4d9d2fd1102ab45": {
      "model_module": "@jupyter-widgets/base",
      "model_module_version": "1.2.0",
      "model_name": "LayoutModel",
      "state": {
       "border": "0px solid black"
      }
     },
     "eaf915a970a546409b153751af35046e": {
      "model_module": "@jupyter-widgets/controls",
      "model_module_version": "1.5.0",
      "model_name": "SliderStyleModel",
      "state": {
       "description_width": ""
      }
     },
     "ebc6dcc83801470c8d72f3701651a41f": {
      "model_module": "@jupyter-widgets/controls",
      "model_module_version": "1.5.0",
      "model_name": "FloatSliderModel",
      "state": {
       "description": "Charge scale",
       "layout": "IPY_MODEL_755d882c23b8438197e3aee910355454",
       "step": 0.1,
       "style": "IPY_MODEL_a182ba5cf7554e31b4b88e5bf1271334",
       "value": 1
      }
     },
     "ebcb438023a74157a0b0abc282122424": {
      "model_module": "@jupyter-widgets/output",
      "model_module_version": "1.0.0",
      "model_name": "OutputModel",
      "state": {
       "layout": "IPY_MODEL_3fe4f38a014945fe8dcf6373aa470b8f"
      }
     },
     "ebdb70379f724400847c578f279b2d69": {
      "model_module": "@jupyter-widgets/base",
      "model_module_version": "1.2.0",
      "model_name": "LayoutModel",
      "state": {}
     },
     "ec1ec0baf2bf432696e30113ab8d1111": {
      "model_module": "@jupyter-widgets/controls",
      "model_module_version": "1.5.0",
      "model_name": "SliderStyleModel",
      "state": {
       "description_width": ""
      }
     },
     "ec6e1028f2444bcfb65ab69ca33c5aaf": {
      "model_module": "@jupyter-widgets/controls",
      "model_module_version": "1.5.0",
      "model_name": "IntSliderModel",
      "state": {
       "layout": "IPY_MODEL_fd5edac98e7a482097fde124c7143afe",
       "max": 0,
       "style": "IPY_MODEL_6c42f448da334fd386184b56d2f7d79e"
      }
     },
     "ec7a45471e0840dcbbcb5f1394370243": {
      "model_module": "@jupyter-widgets/base",
      "model_module_version": "1.2.0",
      "model_name": "LayoutModel",
      "state": {}
     },
     "ecfca08f04a748f7ba145aa6f15d26da": {
      "model_module": "@jupyter-widgets/controls",
      "model_module_version": "1.5.0",
      "model_name": "DropdownModel",
      "state": {
       "_options_labels": [
        " ",
        "picking",
        "random",
        "uniform",
        "atomindex",
        "residueindex",
        "chainindex",
        "modelindex",
        "sstruc",
        "element",
        "resname",
        "bfactor",
        "hydrophobicity",
        "value",
        "volume",
        "occupancy"
       ],
       "description": "Color scheme",
       "index": 9,
       "layout": "IPY_MODEL_58fcd60707654cb3b01100eb94f4da88",
       "style": "IPY_MODEL_e4cefc1141974970a155141fc29b218a"
      }
     },
     "ed01386bd1784499a835685b9946514c": {
      "model_module": "@jupyter-widgets/base",
      "model_module_version": "1.2.0",
      "model_name": "LayoutModel",
      "state": {}
     },
     "ed18498608bb47a0ab57201791ae3ca8": {
      "model_module": "@jupyter-widgets/base",
      "model_module_version": "1.2.0",
      "model_name": "LayoutModel",
      "state": {}
     },
     "ed4b73196d2743e992acd1e7e9e8cdc9": {
      "model_module": "@jupyter-widgets/controls",
      "model_module_version": "1.5.0",
      "model_name": "TextModel",
      "state": {
       "description": "Filename: ",
       "layout": "IPY_MODEL_26bcd2018345410488ab2914dd47165f",
       "style": "IPY_MODEL_3e142208fb7a45e9b4b94ac972b5d70f",
       "value": "screenshot.png"
      }
     },
     "ed7c46c8b75e4af2b04e066e015c7897": {
      "model_module": "@jupyter-widgets/controls",
      "model_module_version": "1.5.0",
      "model_name": "ButtonStyleModel",
      "state": {}
     },
     "ed9f48cbc3cf4d20807a5675bf864e46": {
      "model_module": "@jupyter-widgets/base",
      "model_module_version": "1.2.0",
      "model_name": "LayoutModel",
      "state": {}
     },
     "ede8061359ba45dd8f5ebea7a8ddd9d1": {
      "model_module": "@jupyter-widgets/controls",
      "model_module_version": "1.5.0",
      "model_name": "ImageModel",
      "state": {
       "layout": "IPY_MODEL_34f477ce3f7d4d199ed6801568a5a468",
       "width": "900.0"
      }
     },
     "ee8c0aa1bece456f869dbf57a4e0f816": {
      "model_module": "@jupyter-widgets/base",
      "model_module_version": "1.2.0",
      "model_name": "LayoutModel",
      "state": {}
     },
     "ef3c09555a504c1aa6141b96c589835a": {
      "model_module": "@jupyter-widgets/controls",
      "model_module_version": "1.5.0",
      "model_name": "DescriptionStyleModel",
      "state": {
       "description_width": ""
      }
     },
     "ef98487d95d345f688b6bb34cf28e0ec": {
      "model_module": "@jupyter-widgets/controls",
      "model_module_version": "1.5.0",
      "model_name": "LinkModel",
      "state": {
       "source": [
        "IPY_MODEL_ae0b4ae5469540b4bdc6491b004545ad",
        "value"
       ],
       "target": [
        "IPY_MODEL_2dd51741fdd744c7877266b8fb3f8cef",
        "value"
       ]
      }
     },
     "efc5bb41233747239ebd281d9ac298ba": {
      "model_module": "@jupyter-widgets/controls",
      "model_module_version": "1.5.0",
      "model_name": "DescriptionStyleModel",
      "state": {
       "description_width": ""
      }
     },
     "f02b2fc2612641a6aec478c5b725e183": {
      "model_module": "@jupyter-widgets/base",
      "model_module_version": "1.2.0",
      "model_name": "LayoutModel",
      "state": {}
     },
     "f02b661f73284e0da2a7cd03a2d03d67": {
      "model_module": "@jupyter-widgets/base",
      "model_module_version": "1.2.0",
      "model_name": "LayoutModel",
      "state": {}
     },
     "f085e3b5440f4ce3bd009997b855f9f1": {
      "model_module": "@jupyter-widgets/controls",
      "model_module_version": "1.5.0",
      "model_name": "FloatSliderModel",
      "state": {
       "description": "Ball size",
       "layout": "IPY_MODEL_ad83a7ce4090448faef2b6b58fc38814",
       "max": 1.5,
       "step": 0.01,
       "style": "IPY_MODEL_cd3b385aff3d461081cf78ca930d5b76",
       "value": 0.5
      }
     },
     "f10023ca038c4a65a245cefeeaecca90": {
      "model_module": "@jupyter-widgets/controls",
      "model_module_version": "1.5.0",
      "model_name": "ButtonStyleModel",
      "state": {}
     },
     "f11b7f5023c44bc0ae650b3d53ca02d6": {
      "model_module": "@jupyter-widgets/base",
      "model_module_version": "1.2.0",
      "model_name": "LayoutModel",
      "state": {}
     },
     "f1d47111d3fa417681d4a9c542e37192": {
      "model_module": "@jupyter-widgets/base",
      "model_module_version": "1.2.0",
      "model_name": "LayoutModel",
      "state": {
       "border": "0px solid black"
      }
     },
     "f1dad71ee6d142e79cc16f040e983598": {
      "model_module": "@jupyter-widgets/base",
      "model_module_version": "1.2.0",
      "model_name": "LayoutModel",
      "state": {}
     },
     "f1fa565c442f4e73b7f170689fe1f0b4": {
      "model_module": "@jupyter-widgets/controls",
      "model_module_version": "1.5.0",
      "model_name": "TextModel",
      "state": {
       "description": "Filename: ",
       "layout": "IPY_MODEL_a55fd251497a47dbb29419c9c8bfe433",
       "style": "IPY_MODEL_872f953703d14dbbb3e00aabaec75479",
       "value": "screenshot.png"
      }
     },
     "f25a9958b5a548b78d385223532d3f5d": {
      "model_module": "@jupyter-widgets/base",
      "model_module_version": "1.2.0",
      "model_name": "LayoutModel",
      "state": {}
     },
     "f2e360dded724787a33e9304b9f03cbe": {
      "model_module": "@jupyter-widgets/controls",
      "model_module_version": "1.5.0",
      "model_name": "DescriptionStyleModel",
      "state": {
       "description_width": ""
      }
     },
     "f30ab9f295654d248928b986178d751e": {
      "model_module": "@jupyter-widgets/controls",
      "model_module_version": "1.5.0",
      "model_name": "LinkModel",
      "state": {
       "source": [
        "IPY_MODEL_4e0da825531948bf8539ff1a43cdf22d",
        "max"
       ],
       "target": [
        "IPY_MODEL_a99ad709090048eb9bfef8886e7312f0",
        "max_frame"
       ]
      }
     },
     "f34f8d3ec56a483888a449582d3e5106": {
      "model_module": "@jupyter-widgets/controls",
      "model_module_version": "1.5.0",
      "model_name": "TextModel",
      "state": {
       "description": "Filename: ",
       "layout": "IPY_MODEL_9414c3c906d2439895fd50f6b8f0616f",
       "style": "IPY_MODEL_2906dc0603894163ac34ab27307aa988",
       "value": "screenshot.png"
      }
     },
     "f3995bf59f394a0eb0a616aa3246deb8": {
      "model_module": "@jupyter-widgets/base",
      "model_module_version": "1.2.0",
      "model_name": "LayoutModel",
      "state": {}
     },
     "f407bc999fbc43fd8e2c9e59c831d223": {
      "model_module": "@jupyter-widgets/controls",
      "model_module_version": "1.5.0",
      "model_name": "LinkModel",
      "state": {
       "source": [
        "IPY_MODEL_fce827b379ba477f876f4bda946e90ac",
        "value"
       ],
       "target": [
        "IPY_MODEL_f9e11cd4892740c3a4ecffbd4d3fb924",
        "frame"
       ]
      }
     },
     "f4274f44c21c405da7833a866ea87323": {
      "model_module": "@jupyter-widgets/base",
      "model_module_version": "1.2.0",
      "model_name": "LayoutModel",
      "state": {}
     },
     "f4336351da8d4768bda440c0c468669f": {
      "model_module": "@jupyter-widgets/controls",
      "model_module_version": "1.5.0",
      "model_name": "ImageModel",
      "state": {
       "layout": "IPY_MODEL_58c9da9e56934502894f748e621ad9d6",
       "width": "900.0"
      }
     },
     "f461599251ce4ec6b111226acb8b4b01": {
      "model_module": "@jupyter-widgets/controls",
      "model_module_version": "1.5.0",
      "model_name": "IntSliderModel",
      "state": {
       "layout": "IPY_MODEL_4733b531f9fc4c9aa98145bc44ead202",
       "max": 0,
       "style": "IPY_MODEL_5fc84f8a87ca4018b72f00fad5232272"
      }
     },
     "f46df3be266f4861bc5bf25eb7493449": {
      "model_module": "@jupyter-widgets/controls",
      "model_module_version": "1.5.0",
      "model_name": "FloatSliderModel",
      "state": {
       "description": "Force scale",
       "layout": "IPY_MODEL_5adc5a4850764b6b98137420e34ee3d6",
       "step": 0.1,
       "style": "IPY_MODEL_0792cf6ef4c041b3997a6a51e1598218",
       "value": 0.5
      }
     },
     "f4d60dc7ec424b49a6e7145bf310ef17": {
      "model_module": "@jupyter-widgets/controls",
      "model_module_version": "1.5.0",
      "model_name": "DescriptionStyleModel",
      "state": {
       "description_width": ""
      }
     },
     "f5bc7d748d944352adf56f01dbf2257c": {
      "model_module": "@jupyter-widgets/base",
      "model_module_version": "1.2.0",
      "model_name": "LayoutModel",
      "state": {}
     },
     "f5d1cc7be7d546f189d119fc3ede0703": {
      "model_module": "@jupyter-widgets/base",
      "model_module_version": "1.2.0",
      "model_name": "LayoutModel",
      "state": {}
     },
     "f786df34ace34e71b2dbdd495c78c526": {
      "model_module": "@jupyter-widgets/controls",
      "model_module_version": "1.5.0",
      "model_name": "CheckboxModel",
      "state": {
       "description": "Show charge",
       "disabled": false,
       "layout": "IPY_MODEL_1e56f188dbae4f688d6a34159692a3d9",
       "style": "IPY_MODEL_6cf585a532ca470a8bc94e1ff28c75a8",
       "value": false
      }
     },
     "f7be960327ee43bda81d13371df4258b": {
      "model_module": "@jupyter-widgets/base",
      "model_module_version": "1.2.0",
      "model_name": "LayoutModel",
      "state": {}
     },
     "f7e75f61b0c54f729a2ae6f69bbd5d4d": {
      "model_module": "@jupyter-widgets/controls",
      "model_module_version": "1.5.0",
      "model_name": "DropdownModel",
      "state": {
       "_options_labels": [
        " ",
        "picking",
        "random",
        "uniform",
        "atomindex",
        "residueindex",
        "chainindex",
        "modelindex",
        "sstruc",
        "element",
        "resname",
        "bfactor",
        "hydrophobicity",
        "value",
        "volume",
        "occupancy"
       ],
       "description": "Color scheme",
       "index": 9,
       "layout": "IPY_MODEL_66ff7a3596e94f08993d4ab469a9e842",
       "style": "IPY_MODEL_4763296668254a1f929b8d08c664eea0"
      }
     },
     "f8252469c56642008eaf7befad0e0da3": {
      "model_module": "@jupyter-widgets/base",
      "model_module_version": "1.2.0",
      "model_name": "LayoutModel",
      "state": {
       "width": "34px"
      }
     },
     "f82d3ae226cf427db3374fbb6677e3a4": {
      "model_module": "@jupyter-widgets/controls",
      "model_module_version": "1.5.0",
      "model_name": "SliderStyleModel",
      "state": {
       "description_width": ""
      }
     },
     "f842200b0ab849248a71e0ae5e617290": {
      "model_module": "@jupyter-widgets/controls",
      "model_module_version": "1.5.0",
      "model_name": "SliderStyleModel",
      "state": {
       "description_width": ""
      }
     },
     "f85f967ab41d429998294e4286c2c597": {
      "model_module": "@jupyter-widgets/base",
      "model_module_version": "1.2.0",
      "model_name": "LayoutModel",
      "state": {}
     },
     "f88ddde686e9442e8cfa03759506a3d5": {
      "model_module": "@jupyter-widgets/base",
      "model_module_version": "1.2.0",
      "model_name": "LayoutModel",
      "state": {}
     },
     "f9e11cd4892740c3a4ecffbd4d3fb924": {
      "model_module": "nglview-js-widgets",
      "model_module_version": "3.0.1",
      "model_name": "NGLModel",
      "state": {
       "_camera_orientation": [
        41.72956239078236,
        0,
        0,
        0,
        0,
        41.72956239078236,
        0,
        0,
        0,
        0,
        41.72956239078236,
        0,
        0.01399993896484375,
        -0.0015001296997070312,
        0.004000186920166016,
        1
       ],
       "_camera_str": "orthographic",
       "_gui_theme": null,
       "_ibtn_fullscreen": "IPY_MODEL_9ee30269a98c484fb868c42aaa9bb0a1",
       "_igui": null,
       "_iplayer": "IPY_MODEL_18f46c6b2a1648099f8e6986054c4044",
       "_ngl_color_dict": {},
       "_ngl_coordinate_resource": {},
       "_ngl_full_stage_parameters": {
        "ambientColor": 14540253,
        "ambientIntensity": 0.2,
        "backgroundColor": "white",
        "cameraEyeSep": 0.3,
        "cameraFov": 40,
        "cameraType": "orthographic",
        "clipDist": 0,
        "clipFar": 100,
        "clipNear": 0,
        "fogFar": 100,
        "fogNear": 50,
        "hoverTimeout": 0,
        "impostor": true,
        "lightColor": 14540253,
        "lightIntensity": 1,
        "mousePreset": "default",
        "panSpeed": 1,
        "quality": "medium",
        "rotateSpeed": 2,
        "sampleLevel": 0,
        "tooltip": true,
        "workerDefault": true,
        "zoomSpeed": 1.2
       },
       "_ngl_msg_archive": [
        {
         "args": [
          {
           "binary": false,
           "data": "MODEL     1\nATOM      1   Pd MOL     1      -9.701  -9.720  -0.012  1.00  0.00          PD  \nATOM      2   Pd MOL     1     -11.701  -5.739  -1.969  1.00  0.00          PD  \nATOM      3   Pd MOL     1      -9.817  -7.855  -2.064  1.00  0.00          PD  \nATOM      4   Pd MOL     1      -9.831  -5.973  -4.046  1.00  0.00          PD  \nATOM      5   Pd MOL     1     -11.613  -7.744  -0.020  1.00  0.00          PD  \nATOM      6   Pd MOL     1     -11.707  -5.771   1.931  1.00  0.00          PD  \nATOM      7   Pd MOL     1      -9.804  -7.836   2.034  1.00  0.00          PD  \nATOM      8   Pd MOL     1      -9.747  -5.873  -0.009  1.00  0.00          PD  \nATOM      9   Pd MOL     1      -9.824  -5.897   3.995  1.00  0.00          PD  \nATOM     10   Pt MOL     1     -11.554  -1.968  -5.812  1.00  0.00          PT  \nATOM     11   Pt MOL     1      -9.733  -4.016  -5.924  1.00  0.00          PT  \nATOM     12   Pd MOL     1      -9.785  -2.159  -7.895  1.00  0.00          PD  \nATOM     13   Pt MOL     1     -11.567  -3.854  -3.957  1.00  0.00          PT  \nATOM     14   Pd MOL     1     -11.821  -1.960  -1.960  1.00  0.00          PD  \nATOM     15   Pt MOL     1      -9.757  -3.901  -1.944  1.00  0.00          PT  \nATOM     16   Pt MOL     1      -9.683  -1.928  -3.853  1.00  0.00          PT  \nATOM     17   Pt MOL     1     -11.658  -3.859   0.028  1.00  0.00          PT  \nATOM     18   Pt MOL     1     -11.689  -1.971   1.956  1.00  0.00          PT  \nATOM     19   Pd MOL     1      -9.732  -3.923   1.970  1.00  0.00          PD  \nATOM     20   Pd MOL     1      -9.776  -1.920  -0.022  1.00  0.00          PD  \nATOM     21   Pd MOL     1     -11.705  -3.837   3.939  1.00  0.00          PD  \nATOM     22   Pt MOL     1     -11.576  -1.908   5.821  1.00  0.00          PT  \nATOM     23   Pt MOL     1      -9.767  -3.922   5.908  1.00  0.00          PT  \nATOM     24   Pd MOL     1      -9.700  -1.965   3.881  1.00  0.00          PD  \nATOM     25   Pt MOL     1      -9.750  -2.014   7.822  1.00  0.00          PT  \nATOM     26   Pt MOL     1      -9.656  -0.048  -9.645  1.00  0.00          PT  \nATOM     27   Pt MOL     1     -11.521  -0.093  -7.741  1.00  0.00          PT  \nATOM     28   Pd MOL     1     -11.707   1.894  -5.839  1.00  0.00          PD  \nATOM     29   Pd MOL     1      -9.669   0.019  -5.874  1.00  0.00          PD  \nATOM     30   Pd MOL     1      -9.863   2.072  -7.884  1.00  0.00          PD  \nATOM     31   Pt MOL     1     -11.642  -0.040  -3.922  1.00  0.00          PT  \nATOM     32   Pd MOL     1     -11.809   1.921  -2.017  1.00  0.00          PD  \nATOM     33   Pt MOL     1      -9.822   0.018  -1.924  1.00  0.00          PT  \nATOM     34   Pd MOL     1      -9.762   1.969  -3.896  1.00  0.00          PD  \nATOM     35   Pd MOL     1     -11.841   0.009   0.068  1.00  0.00          PD  \nATOM     36   Pt MOL     1     -11.692   1.922   2.016  1.00  0.00          PT  \nATOM     37   Pt MOL     1      -9.751   0.011   1.924  1.00  0.00          PT  \nATOM     38   Pd MOL     1      -9.841   1.968  -0.030  1.00  0.00          PD  \nATOM     39   Pt MOL     1     -11.669  -0.020   3.869  1.00  0.00          PT  \nATOM     40   Pd MOL     1     -11.669   1.950   5.839  1.00  0.00          PD  \nATOM     41   Pd MOL     1      -9.706   0.044   5.846  1.00  0.00          PD  \nATOM     42   Pt MOL     1      -9.750   2.007   3.919  1.00  0.00          PT  \nATOM     43   Pd MOL     1     -11.587  -0.016   7.758  1.00  0.00          PD  \nATOM     44   Pd MOL     1      -9.674   0.008   9.706  1.00  0.00          PD  \nATOM     45   Pt MOL     1      -9.748   2.027   7.849  1.00  0.00          PT  \nATOM     46   Pt MOL     1      -9.797   3.921  -5.887  1.00  0.00          PT  \nATOM     47   Pd MOL     1     -11.685   3.920  -3.949  1.00  0.00          PD  \nATOM     48   Pd MOL     1     -11.697   5.876  -1.967  1.00  0.00          PD  \nATOM     49   Pt MOL     1      -9.836   3.915  -1.959  1.00  0.00          PT  \nATOM     50   Pd MOL     1      -9.858   5.967  -4.028  1.00  0.00          PD  \nATOM     51   Pd MOL     1     -11.809   3.871   0.038  1.00  0.00          PD  \nATOM     52   Pd MOL     1     -11.640   5.922   1.984  1.00  0.00          PD  \nATOM     53   Pd MOL     1      -9.782   3.920   1.927  1.00  0.00          PD  \nATOM     54   Pt MOL     1      -9.785   5.832  -0.017  1.00  0.00          PT  \nATOM     55   Pd MOL     1     -11.685   3.918   3.892  1.00  0.00          PD  \nATOM     56   Pd MOL     1      -9.850   4.036   5.967  1.00  0.00          PD  \nATOM     57   Pt MOL     1      -9.765   5.908   3.950  1.00  0.00          PT  \nATOM     58   Pt MOL     1      -9.773   7.835  -2.044  1.00  0.00          PT  \nATOM     59   Pd MOL     1     -11.571   7.842  -0.010  1.00  0.00          PD  \nATOM     60   Pt MOL     1      -9.744   7.844   2.027  1.00  0.00          PT  \nATOM     61   Pt MOL     1      -9.635   9.650   0.001  1.00  0.00          PT  \nATOM     62   Pd MOL     1      -7.876  -9.790  -2.089  1.00  0.00          PD  \nATOM     63   Pt MOL     1      -5.825 -11.577  -1.977  1.00  0.00          PT  \nATOM     64   Pt MOL     1      -5.869  -9.770  -3.948  1.00  0.00          PT  \nATOM     65   Pd MOL     1      -7.712 -11.632  -0.057  1.00  0.00          PD  \nATOM     66   Pd MOL     1      -7.861  -9.824   2.053  1.00  0.00          PD  \nATOM     67   Pd MOL     1      -5.831 -11.679   1.982  1.00  0.00          PD  \nATOM     68   Pd MOL     1      -5.865  -9.743   0.012  1.00  0.00          PD  \nATOM     69   Pt MOL     1      -5.875  -9.790   3.944  1.00  0.00          PT  \nATOM     70   Pt MOL     1      -7.852  -5.960  -5.940  1.00  0.00          PT  \nATOM     71   Pt MOL     1      -5.926  -7.889  -5.933  1.00  0.00          PT  \nATOM     72   Pt MOL     1      -5.941  -5.997  -7.894  1.00  0.00          PT  \nATOM     73   Pd MOL     1      -7.913  -7.938  -4.072  1.00  0.00          PD  \nATOM     74   Pd MOL     1      -7.876  -5.917  -2.012  1.00  0.00          PD  \nATOM     75   Pt MOL     1      -5.914  -7.826  -1.973  1.00  0.00          PT  \nATOM     76   Pt MOL     1      -5.917  -5.902  -3.939  1.00  0.00          PT  \nATOM     77   Pd MOL     1      -7.848  -7.838  -0.009  1.00  0.00          PD  \nATOM     78   Pt MOL     1      -7.859  -5.921   2.008  1.00  0.00          PT  \nATOM     79   Pd MOL     1      -5.918  -7.846   1.982  1.00  0.00          PD  \nATOM     80   Pt MOL     1      -5.919  -5.899   0.017  1.00  0.00          PT  \nATOM     81   Pd MOL     1      -7.905  -7.917   4.009  1.00  0.00          PD  \nATOM     82   Pd MOL     1      -7.944  -5.963   5.973  1.00  0.00          PD  \nATOM     83   Pd MOL     1      -5.988  -7.948   5.967  1.00  0.00          PD  \nATOM     84   Pd MOL     1      -5.945  -5.936   3.987  1.00  0.00          PD  \nATOM     85   Pd MOL     1      -5.988  -5.958   7.939  1.00  0.00          PD  \nATOM     86   Pd MOL     1      -7.915  -2.182  -9.820  1.00  0.00          PD  \nATOM     87   Pt MOL     1      -5.906  -4.050  -9.758  1.00  0.00          PT  \nATOM     88   Pt MOL     1      -5.856  -2.007 -11.527  1.00  0.00          PT  \nATOM     89   Pd MOL     1      -7.924  -4.142  -7.938  1.00  0.00          PD  \nATOM     90   Pt MOL     1      -7.823  -2.011  -5.920  1.00  0.00          PT  \nATOM     91   Pd MOL     1      -5.911  -3.943  -5.926  1.00  0.00          PD  \nATOM     92   Pd MOL     1      -5.904  -2.020  -7.862  1.00  0.00          PD  \nATOM     93   Pt MOL     1      -7.826  -3.938  -3.914  1.00  0.00          PT  \nATOM     94   Pd MOL     1      -7.785  -1.935  -1.939  1.00  0.00          PD  \nATOM     95   Pt MOL     1      -5.891  -3.943  -1.961  1.00  0.00          PT  \nATOM     96   Pd MOL     1      -5.874  -1.960  -3.935  1.00  0.00          PD  \nATOM     97   Pd MOL     1      -7.825  -3.921   0.007  1.00  0.00          PD  \nATOM     98   Pt MOL     1      -7.801  -1.935   1.939  1.00  0.00          PT  \nATOM     99   Pd MOL     1      -5.909  -3.943   1.982  1.00  0.00          PD  \nATOM    100   Pd MOL     1      -5.853  -1.946   0.002  1.00  0.00          PD  \nATOM    101   Pd MOL     1      -7.821  -3.954   3.933  1.00  0.00          PD  \nATOM    102   Pt MOL     1      -7.790  -1.984   5.877  1.00  0.00          PT  \nATOM    103   Pd MOL     1      -5.948  -4.004   5.940  1.00  0.00          PD  \nATOM    104   Pd MOL     1      -5.875  -1.976   3.925  1.00  0.00          PD  \nATOM    105   Pd MOL     1      -7.945  -4.034   7.934  1.00  0.00          PD  \nATOM    106   Pd MOL     1      -7.906  -2.086   9.829  1.00  0.00          PD  \nATOM    107   Pt MOL     1      -5.894  -3.949   9.781  1.00  0.00          PT  \nATOM    108   Pd MOL     1      -5.898  -2.007   7.834  1.00  0.00          PD  \nATOM    109   Pt MOL     1      -5.789  -1.916  11.550  1.00  0.00          PT  \nATOM    110   Pt MOL     1      -7.693  -0.025 -11.486  1.00  0.00          PT  \nATOM    111   Pd MOL     1      -7.923   2.093  -9.812  1.00  0.00          PD  \nATOM    112   Pt MOL     1      -5.818  -0.002  -9.692  1.00  0.00          PT  \nATOM    113   Pt MOL     1      -5.823   1.976 -11.582  1.00  0.00          PT  \nATOM    114   Pt MOL     1      -7.787  -0.003  -7.818  1.00  0.00          PT  \nATOM    115   Pt MOL     1      -7.837   2.011  -5.923  1.00  0.00          PT  \nATOM    116   Pd MOL     1      -5.886  -0.006  -5.901  1.00  0.00          PD  \nATOM    117   Pt MOL     1      -5.921   2.028  -7.858  1.00  0.00          PT  \nATOM    118   Pd MOL     1      -7.799   0.031  -3.921  1.00  0.00          PD  \nATOM    119   Pd MOL     1      -7.835   1.975  -1.958  1.00  0.00          PD  \nATOM    120   Pd MOL     1      -5.860   0.032  -1.967  1.00  0.00          PD  \nATOM    121   Pd MOL     1      -5.892   1.994  -3.959  1.00  0.00          PD  \nATOM    122   Pt MOL     1      -7.817   0.035  -0.009  1.00  0.00          PT  \nATOM    123   Pd MOL     1      -7.813   1.992   1.947  1.00  0.00          PD  \nATOM    124   Pd MOL     1      -5.844   0.020   1.958  1.00  0.00          PD  \nATOM    125   Pt MOL     1      -5.850   1.975  -0.009  1.00  0.00          PT  \nATOM    126   Pt MOL     1      -7.795   0.025   3.901  1.00  0.00          PT  \nATOM    127   Pd MOL     1      -7.825   2.022   5.864  1.00  0.00          PD  \nATOM    128   Pt MOL     1      -5.883  -0.002   5.876  1.00  0.00          PT  \nATOM    129   Pd MOL     1      -5.869   2.005   3.942  1.00  0.00          PD  \nATOM    130   Pt MOL     1      -7.799  -0.013   7.797  1.00  0.00          PT  \nATOM    131   Pt MOL     1      -7.839   2.030   9.742  1.00  0.00          PT  \nATOM    132   Pd MOL     1      -5.853   0.005   9.651  1.00  0.00          PD  \nATOM    133   Pd MOL     1      -5.878   2.013   7.796  1.00  0.00          PD  \nATOM    134   Pd MOL     1      -7.672   0.036  11.627  1.00  0.00          PD  \nATOM    135   Pt MOL     1      -5.799   1.941  11.563  1.00  0.00          PT  \nATOM    136   Pd MOL     1      -6.013   4.052  -9.806  1.00  0.00          PD  \nATOM    137   Pd MOL     1      -7.967   4.033  -7.884  1.00  0.00          PD  \nATOM    138   Pd MOL     1      -7.960   5.992  -5.983  1.00  0.00          PD  \nATOM    139   Pd MOL     1      -5.957   3.997  -5.938  1.00  0.00          PD  \nATOM    140   Pd MOL     1      -6.008   6.019  -7.933  1.00  0.00          PD  \nATOM    141   Pd MOL     1      -7.867   3.947  -3.947  1.00  0.00          PD  \nATOM    142   Pt MOL     1      -7.869   5.851  -1.998  1.00  0.00          PT  \nATOM    143   Pd MOL     1      -5.885   3.927  -1.989  1.00  0.00          PD  \nATOM    144   Pt MOL     1      -5.923   5.885  -3.952  1.00  0.00          PT  \nATOM    145   Pd MOL     1      -7.825   3.917  -0.018  1.00  0.00          PD  \nATOM    146   Pd MOL     1      -7.814   5.878   1.965  1.00  0.00          PD  \nATOM    147   Pd MOL     1      -5.875   3.951   1.969  1.00  0.00          PD  \nATOM    148   Pt MOL     1      -5.854   5.877  -0.007  1.00  0.00          PT  \nATOM    149   Pt MOL     1      -7.845   3.947   3.930  1.00  0.00          PT  \nATOM    150   Pt MOL     1      -7.913   5.934   5.927  1.00  0.00          PT  \nATOM    151   Pd MOL     1      -5.913   4.003   5.912  1.00  0.00          PD  \nATOM    152   Pd MOL     1      -5.925   5.921   3.936  1.00  0.00          PD  \nATOM    153   Pt MOL     1      -7.921   3.990   7.876  1.00  0.00          PT  \nATOM    154   Pd MOL     1      -5.980   4.020   9.809  1.00  0.00          PD  \nATOM    155   Pd MOL     1      -6.050   5.990   7.919  1.00  0.00          PD  \nATOM    156   Pt MOL     1      -5.964   7.860  -5.928  1.00  0.00          PT  \nATOM    157   Pt MOL     1      -7.894   7.854  -4.003  1.00  0.00          PT  \nATOM    158   Pd MOL     1      -7.962   9.824  -2.148  1.00  0.00          PD  \nATOM    159   Pt MOL     1      -5.893   7.836  -1.985  1.00  0.00          PT  \nATOM    160   Pt MOL     1      -5.983   9.761  -4.034  1.00  0.00          PT  \nATOM    161   Pd MOL     1      -7.778   7.763  -0.024  1.00  0.00          PD  \nATOM    162   Pt MOL     1      -7.888   9.750   2.028  1.00  0.00          PT  \nATOM    163   Pd MOL     1      -5.893   7.853   2.006  1.00  0.00          PD  \nATOM    164   Pt MOL     1      -5.859   9.708  -0.025  1.00  0.00          PT  \nATOM    165   Pd MOL     1      -7.991   7.936   4.080  1.00  0.00          PD  \nATOM    166   Pt MOL     1      -5.951   7.843   5.913  1.00  0.00          PT  \nATOM    167   Pd MOL     1      -6.025   9.807   4.045  1.00  0.00          PD  \nATOM    168   Pt MOL     1      -5.844  11.532  -2.023  1.00  0.00          PT  \nATOM    169   Pd MOL     1      -7.738  11.579  -0.020  1.00  0.00          PD  \nATOM    170   Pt MOL     1      -5.881  11.515   1.963  1.00  0.00          PT  \nATOM    171   Pd MOL     1      -4.042  -9.859  -5.944  1.00  0.00          PD  \nATOM    172   Pt MOL     1      -1.903 -11.596  -5.778  1.00  0.00          PT  \nATOM    173   Pd MOL     1      -2.107  -9.850  -7.866  1.00  0.00          PD  \nATOM    174   Pd MOL     1      -3.866 -11.724  -3.867  1.00  0.00          PD  \nATOM    175   Pd MOL     1      -3.883  -9.736  -1.935  1.00  0.00          PD  \nATOM    176   Pt MOL     1      -1.885 -11.687  -1.957  1.00  0.00          PT  \nATOM    177   Pd MOL     1      -1.992  -9.701  -3.880  1.00  0.00          PD  \nATOM    178   Pd MOL     1      -3.869 -11.807  -0.045  1.00  0.00          PD  \nATOM    179   Pt MOL     1      -3.928  -9.797   1.944  1.00  0.00          PT  \nATOM    180   Pt MOL     1      -1.941 -11.706   1.923  1.00  0.00          PT  \nATOM    181   Pt MOL     1      -1.971  -9.754   0.014  1.00  0.00          PT  \nATOM    182   Pd MOL     1      -3.849 -11.722   3.935  1.00  0.00          PD  \nATOM    183   Pt MOL     1      -3.997  -9.781   5.886  1.00  0.00          PT  \nATOM    184   Pt MOL     1      -1.951 -11.531   5.842  1.00  0.00          PT  \nATOM    185   Pt MOL     1      -1.954  -9.753   3.868  1.00  0.00          PT  \nATOM    186   Pd MOL     1      -2.138  -9.809   7.902  1.00  0.00          PD  \nATOM    187   Pt MOL     1      -3.991  -5.952  -9.749  1.00  0.00          PT  \nATOM    188   Pd MOL     1      -2.108  -7.924  -9.756  1.00  0.00          PD  \nATOM    189   Pt MOL     1      -1.974  -5.873 -11.525  1.00  0.00          PT  \nATOM    190   Pt MOL     1      -4.020  -7.886  -7.850  1.00  0.00          PT  \nATOM    191   Pt MOL     1      -3.950  -5.868  -5.881  1.00  0.00          PT  \nATOM    192   Pd MOL     1      -2.033  -7.835  -5.888  1.00  0.00          PD  \nATOM    193   Pt MOL     1      -1.989  -5.874  -7.827  1.00  0.00          PT  \nATOM    194   Pt MOL     1      -3.944  -7.810  -3.922  1.00  0.00          PT  \nATOM    195   Pd MOL     1      -3.937  -5.868  -1.956  1.00  0.00          PD  \nATOM    196   Pd MOL     1      -1.961  -7.783  -1.935  1.00  0.00          PD  \nATOM    197   Pd MOL     1      -1.972  -5.860  -3.914  1.00  0.00          PD  \nATOM    198   Pd MOL     1      -3.936  -7.804   0.012  1.00  0.00          PD  \nATOM    199   Pt MOL     1      -3.953  -5.869   1.982  1.00  0.00          PT  \nATOM    200   Pt MOL     1      -1.985  -7.818   1.963  1.00  0.00          PT  \nATOM    201   Pd MOL     1      -1.960  -5.842   0.024  1.00  0.00          PD  \nATOM    202   Pd MOL     1      -3.959  -7.816   3.934  1.00  0.00          PD  \nATOM    203   Pd MOL     1      -4.004  -5.935   5.937  1.00  0.00          PD  \nATOM    204   Pd MOL     1      -2.009  -7.854   5.897  1.00  0.00          PD  \nATOM    205   Pt MOL     1      -2.002  -5.890   3.929  1.00  0.00          PT  \nATOM    206   Pd MOL     1      -4.050  -7.909   7.899  1.00  0.00          PD  \nATOM    207   Pd MOL     1      -4.020  -5.934   9.838  1.00  0.00          PD  \nATOM    208   Pd MOL     1      -2.068  -7.873   9.792  1.00  0.00          PD  \nATOM    209   Pd MOL     1      -2.017  -5.912   7.850  1.00  0.00          PD  \nATOM    210   Pd MOL     1      -1.954  -5.881  11.678  1.00  0.00          PD  \nATOM    211   Pd MOL     1      -3.950  -3.973 -11.644  1.00  0.00          PD  \nATOM    212   Pt MOL     1      -3.853  -1.949  -9.788  1.00  0.00          PT  \nATOM    213   Pd MOL     1      -1.936  -3.868  -9.765  1.00  0.00          PD  \nATOM    214   Pd MOL     1      -1.933  -1.950 -11.822  1.00  0.00          PD  \nATOM    215   Pd MOL     1      -3.926  -3.910  -7.834  1.00  0.00          PD  \nATOM    216   Pt MOL     1      -3.916  -1.969  -5.878  1.00  0.00          PT  \nATOM    217   Pt MOL     1      -1.975  -3.913  -5.879  1.00  0.00          PT  \nATOM    218   Pd MOL     1      -1.939  -1.941  -7.825  1.00  0.00          PD  \nATOM    219   Pd MOL     1      -3.941  -3.913  -3.921  1.00  0.00          PD  \nATOM    220   Pd MOL     1      -3.932  -1.957  -1.955  1.00  0.00          PD  \nATOM    221   Pd MOL     1      -1.964  -3.905  -1.945  1.00  0.00          PD  \nATOM    222   Pd MOL     1      -1.968  -1.956  -3.909  1.00  0.00          PD  \nATOM    223   Pt MOL     1      -3.952  -3.928   0.008  1.00  0.00          PT  \nATOM    224   Pd MOL     1      -3.923  -1.962   1.979  1.00  0.00          PD  \nATOM    225   Pd MOL     1      -1.981  -3.905   1.972  1.00  0.00          PD  \nATOM    226   Pd MOL     1      -1.971  -1.949   0.004  1.00  0.00          PD  \nATOM    227   Pd MOL     1      -3.973  -3.960   3.958  1.00  0.00          PD  \nATOM    228   Pd MOL     1      -3.949  -2.005   5.879  1.00  0.00          PD  \nATOM    229   Pt MOL     1      -1.987  -3.964   5.873  1.00  0.00          PT  \nATOM    230   Pt MOL     1      -1.976  -1.963   3.936  1.00  0.00          PT  \nATOM    231   Pd MOL     1      -3.949  -3.975   7.834  1.00  0.00          PD  \nATOM    232   Pt MOL     1      -3.863  -1.963   9.692  1.00  0.00          PT  \nATOM    233   Pd MOL     1      -1.967  -3.936   9.798  1.00  0.00          PD  \nATOM    234   Pt MOL     1      -1.944  -1.995   7.795  1.00  0.00          PT  \nATOM    235   Pd MOL     1      -3.926  -3.849  11.709  1.00  0.00          PD  \nATOM    236   Pt MOL     1      -1.995  -1.905  11.698  1.00  0.00          PT  \nATOM    237   Pd MOL     1      -3.949  -0.020 -11.823  1.00  0.00          PD  \nATOM    238   Pt MOL     1      -3.877   1.930  -9.754  1.00  0.00          PT  \nATOM    239   Pt MOL     1      -1.949  -0.007  -9.833  1.00  0.00          PT  \nATOM    240   Pd MOL     1      -1.953   1.941 -11.827  1.00  0.00          PD  \nATOM    241   Pd MOL     1      -3.912  -0.014  -7.810  1.00  0.00          PD  \nATOM    242   Pt MOL     1      -3.938   2.005  -5.902  1.00  0.00          PT  \nATOM    243   Pt MOL     1      -1.967   0.014  -5.855  1.00  0.00          PT  \nATOM    244   Pt MOL     1      -1.946   1.943  -7.825  1.00  0.00          PT  \nATOM    245   Pd MOL     1      -3.935   0.017  -3.934  1.00  0.00          PD  \nATOM    246   Pd MOL     1      -3.913   1.985  -1.992  1.00  0.00          PD  \nATOM    247   Pd MOL     1      -1.956   0.009  -1.964  1.00  0.00          PD  \nATOM    248   Pt MOL     1      -1.963   1.984  -3.937  1.00  0.00          PT  \nATOM    249   Pt MOL     1      -3.901   0.027  -0.005  1.00  0.00          PT  \nATOM    250   Pd MOL     1      -3.919   1.986   1.984  1.00  0.00          PD  \nATOM    251   Pd MOL     1      -1.972   0.011   1.982  1.00  0.00          PD  \nATOM    252   Pt MOL     1      -1.967   1.969   0.007  1.00  0.00          PT  \nATOM    253   Pt MOL     1      -3.919   0.013   3.953  1.00  0.00          PT  \nATOM    254   Pd MOL     1      -3.937   1.997   5.902  1.00  0.00          PD  \nATOM    255   Pd MOL     1      -1.941   0.014   5.874  1.00  0.00          PD  \nATOM    256   Pt MOL     1      -1.981   1.987   3.943  1.00  0.00          PT  \nATOM    257   Pd MOL     1      -3.898  -0.007   7.771  1.00  0.00          PD  \nATOM    258   Pd MOL     1      -3.915   1.989   9.686  1.00  0.00          PD  \nATOM    259   Pd MOL     1      -1.923  -0.003   9.720  1.00  0.00          PD  \nATOM    260   Pt MOL     1      -1.948   1.992   7.811  1.00  0.00          PT  \nATOM    261   Pt MOL     1      -3.895   0.016  11.654  1.00  0.00          PT  \nATOM    262   Pt MOL     1      -2.001   1.914  11.673  1.00  0.00          PT  \nATOM    263   Pt MOL     1      -3.938   3.897 -11.576  1.00  0.00          PT  \nATOM    264   Pt MOL     1      -4.013   5.910  -9.757  1.00  0.00          PT  \nATOM    265   Pd MOL     1      -1.920   3.853  -9.732  1.00  0.00          PD  \nATOM    266   Pt MOL     1      -2.051   5.782 -11.566  1.00  0.00          PT  \nATOM    267   Pt MOL     1      -3.974   3.946  -7.847  1.00  0.00          PT  \nATOM    268   Pd MOL     1      -3.980   5.888  -5.919  1.00  0.00          PD  \nATOM    269   Pd MOL     1      -1.958   3.938  -5.900  1.00  0.00          PD  \nATOM    270   Pd MOL     1      -1.994   5.882  -7.838  1.00  0.00          PD  \nATOM    271   Pd MOL     1      -3.945   3.948  -3.958  1.00  0.00          PD  \nATOM    272   Pt MOL     1      -3.920   5.879  -1.971  1.00  0.00          PT  \nATOM    273   Pd MOL     1      -1.950   3.926  -1.964  1.00  0.00          PD  \nATOM    274   Pd MOL     1      -1.964   5.872  -3.934  1.00  0.00          PD  \nATOM    275   Pt MOL     1      -3.919   3.934   0.001  1.00  0.00          PT  \nATOM    276   Pd MOL     1      -3.926   5.913   1.985  1.00  0.00          PD  \nATOM    277   Pd MOL     1      -1.966   3.930   1.974  1.00  0.00          PD  \nATOM    278   Pd MOL     1      -1.944   5.870   0.016  1.00  0.00          PD  \nATOM    279   Pd MOL     1      -3.946   3.969   3.944  1.00  0.00          PD  \nATOM    280   Pt MOL     1      -3.975   5.954   5.924  1.00  0.00          PT  \nATOM    281   Pt MOL     1      -2.002   3.964   5.881  1.00  0.00          PT  \nATOM    282   Pd MOL     1      -1.981   5.914   3.935  1.00  0.00          PD  \nATOM    283   Pt MOL     1      -3.987   4.012   7.854  1.00  0.00          PT  \nATOM    284   Pd MOL     1      -4.037   5.965   9.835  1.00  0.00          PD  \nATOM    285   Pt MOL     1      -1.966   3.900   9.760  1.00  0.00          PT  \nATOM    286   Pt MOL     1      -2.024   5.901   7.837  1.00  0.00          PT  \nATOM    287   Pd MOL     1      -3.883   3.893  11.712  1.00  0.00          PD  \nATOM    288   Pt MOL     1      -1.944   5.853  11.573  1.00  0.00          PT  \nATOM    289   Pd MOL     1      -2.168   7.891  -9.842  1.00  0.00          PD  \nATOM    290   Pt MOL     1      -4.026   7.864  -7.866  1.00  0.00          PT  \nATOM    291   Pd MOL     1      -4.071   9.818  -6.008  1.00  0.00          PD  \nATOM    292   Pd MOL     1      -2.004   7.802  -5.867  1.00  0.00          PD  \nATOM    293   Pt MOL     1      -2.067   9.710  -7.835  1.00  0.00          PT  \nATOM    294   Pt MOL     1      -3.940   7.827  -3.944  1.00  0.00          PT  \nATOM    295   Pt MOL     1      -3.847   9.750  -1.914  1.00  0.00          PT  \nATOM    296   Pt MOL     1      -1.945   7.830  -1.965  1.00  0.00          PT  \nATOM    297   Pd MOL     1      -1.962   9.747  -3.931  1.00  0.00          PD  \nATOM    298   Pd MOL     1      -3.884   7.825   0.018  1.00  0.00          PD  \nATOM    299   Pt MOL     1      -3.871   9.785   1.961  1.00  0.00          PT  \nATOM    300   Pt MOL     1      -1.957   7.865   1.992  1.00  0.00          PT  \nATOM    301   Pt MOL     1      -1.929   9.873   0.007  1.00  0.00          PT  \nATOM    302   Pt MOL     1      -3.964   7.889   3.952  1.00  0.00          PT  \nATOM    303   Pd MOL     1      -4.046   9.829   5.950  1.00  0.00          PD  \nATOM    304   Pd MOL     1      -2.026   7.884   5.906  1.00  0.00          PD  \nATOM    305   Pd MOL     1      -1.975   9.833   3.932  1.00  0.00          PD  \nATOM    306   Pd MOL     1      -4.064   7.923   7.921  1.00  0.00          PD  \nATOM    307   Pt MOL     1      -2.077   7.870   9.769  1.00  0.00          PT  \nATOM    308   Pd MOL     1      -2.081   9.825   7.916  1.00  0.00          PD  \nATOM    309   Pd MOL     1      -2.013  11.647  -5.824  1.00  0.00          PD  \nATOM    310   Pt MOL     1      -3.984  11.550  -3.903  1.00  0.00          PT  \nATOM    311   Pd MOL     1      -1.935  11.810  -2.021  1.00  0.00          PD  \nATOM    312   Pd MOL     1      -3.946  11.802  -0.009  1.00  0.00          PD  \nATOM    313   Pd MOL     1      -1.961  11.824   1.965  1.00  0.00          PD  \nATOM    314   Pd MOL     1      -3.985  11.686   3.884  1.00  0.00          PD  \nATOM    315   Pd MOL     1      -1.972  11.681   5.878  1.00  0.00          PD  \nATOM    316   Pd MOL     1       0.042  -9.772  -9.652  1.00  0.00          PD  \nATOM    317   Pt MOL     1       0.025 -11.551  -7.606  1.00  0.00          PT  \nATOM    318   Pd MOL     1      -0.028  -9.618  -5.809  1.00  0.00          PD  \nATOM    319   Pt MOL     1       1.947 -11.560  -5.782  1.00  0.00          PT  \nATOM    320   Pt MOL     1       2.069  -9.783  -7.850  1.00  0.00          PT  \nATOM    321   Pt MOL     1      -0.007 -11.661  -3.885  1.00  0.00          PT  \nATOM    322   Pd MOL     1       0.011  -9.737  -1.915  1.00  0.00          PD  \nATOM    323   Pd MOL     1       1.946 -11.829  -1.920  1.00  0.00          PD  \nATOM    324   Pt MOL     1       1.922  -9.693  -3.834  1.00  0.00          PT  \nATOM    325   Pt MOL     1      -0.068 -11.729   0.006  1.00  0.00          PT  \nATOM    326   Pd MOL     1       0.046  -9.787   1.964  1.00  0.00          PD  \nATOM    327   Pd MOL     1       1.960 -11.834   1.874  1.00  0.00          PD  \nATOM    328   Pd MOL     1       1.947  -9.803   0.002  1.00  0.00          PD  \nATOM    329   Pd MOL     1      -0.012 -11.795   3.888  1.00  0.00          PD  \nATOM    330   Pd MOL     1       0.040  -9.700   5.811  1.00  0.00          PD  \nATOM    331   Pd MOL     1       1.997 -11.674   5.841  1.00  0.00          PD  \nATOM    332   Pt MOL     1       1.974  -9.824   3.879  1.00  0.00          PT  \nATOM    333   Pt MOL     1      -0.028 -11.509   7.690  1.00  0.00          PT  \nATOM    334   Pt MOL     1       0.036  -9.691   9.582  1.00  0.00          PT  \nATOM    335   Pd MOL     1       2.140  -9.840   7.880  1.00  0.00          PD  \nATOM    336   Pd MOL     1      -0.026  -7.789 -11.534  1.00  0.00          PD  \nATOM    337   Pd MOL     1       0.007  -5.853  -9.718  1.00  0.00          PD  \nATOM    338   Pt MOL     1       2.018  -7.856  -9.722  1.00  0.00          PT  \nATOM    339   Pd MOL     1       1.980  -5.924 -11.635  1.00  0.00          PD  \nATOM    340   Pd MOL     1      -0.044  -7.820  -7.823  1.00  0.00          PD  \nATOM    341   Pt MOL     1      -0.029  -5.858  -5.903  1.00  0.00          PT  \nATOM    342   Pt MOL     1       1.961  -7.783  -5.873  1.00  0.00          PT  \nATOM    343   Pt MOL     1       1.989  -5.863  -7.842  1.00  0.00          PT  \nATOM    344   Pd MOL     1      -0.020  -7.753  -3.883  1.00  0.00          PD  \nATOM    345   Pd MOL     1      -0.007  -5.832  -1.925  1.00  0.00          PD  \nATOM    346   Pt MOL     1       1.955  -7.777  -1.937  1.00  0.00          PT  \nATOM    347   Pd MOL     1       1.965  -5.855  -3.921  1.00  0.00          PD  \nATOM    348   Pd MOL     1       0.014  -7.800   0.025  1.00  0.00          PD  \nATOM    349   Pd MOL     1      -0.002  -5.864   1.967  1.00  0.00          PD  \nATOM    350   Pt MOL     1       1.986  -7.826   1.981  1.00  0.00          PT  \nATOM    351   Pd MOL     1       1.975  -5.857   0.020  1.00  0.00          PD  \nATOM    352   Pd MOL     1       0.001  -7.824   3.907  1.00  0.00          PD  \nATOM    353   Pt MOL     1      -0.028  -5.901   5.855  1.00  0.00          PT  \nATOM    354   Pd MOL     1       1.987  -7.833   5.886  1.00  0.00          PD  \nATOM    355   Pt MOL     1       1.978  -5.905   3.928  1.00  0.00          PT  \nATOM    356   Pd MOL     1      -0.016  -7.793   7.779  1.00  0.00          PD  \nATOM    357   Pt MOL     1      -0.026  -5.862   9.772  1.00  0.00          PT  \nATOM    358   Pt MOL     1       2.059  -7.857   9.714  1.00  0.00          PT  \nATOM    359   Pd MOL     1       1.950  -5.867   7.804  1.00  0.00          PD  \nATOM    360   Pd MOL     1       0.054  -7.874  11.509  1.00  0.00          PD  \nATOM    361   Pd MOL     1       2.002  -5.904  11.617  1.00  0.00          PD  \nATOM    362   Pd MOL     1       0.005  -3.959 -11.774  1.00  0.00          PD  \nATOM    363   Pt MOL     1       0.014  -1.966  -9.839  1.00  0.00          PT  \nATOM    364   Pd MOL     1       1.954  -3.908  -9.809  1.00  0.00          PD  \nATOM    365   Pd MOL     1       1.984  -1.919 -11.828  1.00  0.00          PD  \nATOM    366   Pd MOL     1       0.007  -3.888  -7.831  1.00  0.00          PD  \nATOM    367   Pd MOL     1       0.007  -1.945  -5.857  1.00  0.00          PD  \nATOM    368   Pt MOL     1       1.981  -3.930  -5.892  1.00  0.00          PT  \nATOM    369   Pd MOL     1       1.954  -1.950  -7.827  1.00  0.00          PD  \nATOM    370   Pd MOL     1      -0.000  -3.907  -3.913  1.00  0.00          PD  \nATOM    371   Pd MOL     1       0.011  -1.955  -1.950  1.00  0.00          PD  \nATOM    372   Pd MOL     1       1.974  -3.912  -1.947  1.00  0.00          PD  \nATOM    373   Pt MOL     1       1.991  -1.964  -3.926  1.00  0.00          PT  \nATOM    374   Pd MOL     1       0.002  -3.889   0.018  1.00  0.00          PD  \nATOM    375   Pd MOL     1       0.001  -1.951   1.969  1.00  0.00          PD  \nATOM    376   Pd MOL     1       1.982  -3.928   1.984  1.00  0.00          PD  \nATOM    377   Pt MOL     1       1.975  -1.955   0.024  1.00  0.00          PT  \nATOM    378   Pd MOL     1      -0.001  -3.927   3.906  1.00  0.00          PD  \nATOM    379   Pt MOL     1      -0.003  -1.980   5.860  1.00  0.00          PT  \nATOM    380   Pd MOL     1       1.965  -3.952   5.854  1.00  0.00          PD  \nATOM    381   Pt MOL     1       1.977  -1.955   3.924  1.00  0.00          PT  \nATOM    382   Pt MOL     1      -0.020  -3.944   7.828  1.00  0.00          PT  \nATOM    383   Pd MOL     1      -0.004  -1.960   9.826  1.00  0.00          PD  \nATOM    384   Pt MOL     1       1.925  -3.905   9.798  1.00  0.00          PT  \nATOM    385   Pt MOL     1       1.945  -1.992   7.828  1.00  0.00          PT  \nATOM    386   Pd MOL     1      -0.027  -3.891  11.800  1.00  0.00          PD  \nATOM    387   Pd MOL     1       1.957  -1.970  11.802  1.00  0.00          PD  \nATOM    388   Pt MOL     1      -0.003  -0.008 -11.722  1.00  0.00          PT  \nATOM    389   Pt MOL     1       0.020   1.953  -9.826  1.00  0.00          PT  \nATOM    390   Pt MOL     1       1.960  -0.014  -9.803  1.00  0.00          PT  \nATOM    391   Pd MOL     1       1.955   1.887 -11.842  1.00  0.00          PD  \nATOM    392   Pd MOL     1       0.021   0.004  -7.823  1.00  0.00          PD  \nATOM    393   Pd MOL     1       0.016   1.966  -5.870  1.00  0.00          PD  \nATOM    394   Pt MOL     1       1.981   0.015  -5.859  1.00  0.00          PT  \nATOM    395   Pd MOL     1       1.984   1.973  -7.824  1.00  0.00          PD  \nATOM    396   Pd MOL     1       0.005   0.002  -3.904  1.00  0.00          PD  \nATOM    397   Pd MOL     1       0.003   1.967  -1.953  1.00  0.00          PD  \nATOM    398   Pd MOL     1       1.967   0.011  -1.951  1.00  0.00          PD  \nATOM    399   Pt MOL     1       1.981   1.983  -3.934  1.00  0.00          PT  \nATOM    400   Pd MOL     1       0.004   0.013   0.009  1.00  0.00          PD  \nATOM    401   Pd MOL     1      -0.000   1.970   1.976  1.00  0.00          PD  \nATOM    402   Pt MOL     1       1.981   0.008   1.976  1.00  0.00          PT  \nATOM    403   Pt MOL     1       1.981   1.980   0.017  1.00  0.00          PT  \nATOM    404   Pd MOL     1       0.000   0.012   3.918  1.00  0.00          PD  \nATOM    405   Pd MOL     1       0.011   1.987   5.855  1.00  0.00          PD  \nATOM    406   Pd MOL     1       1.966  -0.010   5.871  1.00  0.00          PD  \nATOM    407   Pt MOL     1       1.994   1.987   3.928  1.00  0.00          PT  \nATOM    408   Pd MOL     1       0.015  -0.004   7.810  1.00  0.00          PD  \nATOM    409   Pt MOL     1       0.005   1.944   9.788  1.00  0.00          PT  \nATOM    410   Pd MOL     1       1.928  -0.030   9.811  1.00  0.00          PD  \nATOM    411   Pt MOL     1       1.957   1.956   7.820  1.00  0.00          PT  \nATOM    412   Pd MOL     1      -0.025   0.032  11.834  1.00  0.00          PD  \nATOM    413   Pt MOL     1       1.952   1.952  11.692  1.00  0.00          PT  \nATOM    414   Pd MOL     1      -0.007   3.938 -11.791  1.00  0.00          PD  \nATOM    415   Pd MOL     1      -0.022   5.849  -9.721  1.00  0.00          PD  \nATOM    416   Pt MOL     1       1.958   3.874  -9.797  1.00  0.00          PT  \nATOM    417   Pt MOL     1       1.958   5.816 -11.572  1.00  0.00          PT  \nATOM    418   Pd MOL     1       0.028   3.912  -7.824  1.00  0.00          PD  \nATOM    419   Pd MOL     1       0.014   5.872  -5.893  1.00  0.00          PD  \nATOM    420   Pd MOL     1       2.002   3.962  -5.901  1.00  0.00          PD  \nATOM    421   Pd MOL     1       2.014   5.903  -7.888  1.00  0.00          PD  \nATOM    422   Pt MOL     1       0.020   3.926  -3.926  1.00  0.00          PT  \nATOM    423   Pt MOL     1       0.013   5.874  -1.967  1.00  0.00          PT  \nATOM    424   Pd MOL     1       1.970   3.931  -1.962  1.00  0.00          PD  \nATOM    425   Pt MOL     1       1.990   5.899  -3.933  1.00  0.00          PT  \nATOM    426   Pd MOL     1       0.004   3.925   0.016  1.00  0.00          PD  \nATOM    427   Pd MOL     1       0.001   5.889   1.987  1.00  0.00          PD  \nATOM    428   Pt MOL     1       1.984   3.940   1.976  1.00  0.00          PT  \nATOM    429   Pd MOL     1       1.962   5.884   0.024  1.00  0.00          PD  \nATOM    430   Pd MOL     1      -0.002   3.933   3.923  1.00  0.00          PD  \nATOM    431   Pt MOL     1      -0.008   5.891   5.866  1.00  0.00          PT  \nATOM    432   Pt MOL     1       2.000   3.946   5.886  1.00  0.00          PT  \nATOM    433   Pd MOL     1       1.982   5.905   3.943  1.00  0.00          PD  \nATOM    434   Pd MOL     1       0.009   3.927   7.803  1.00  0.00          PD  \nATOM    435   Pt MOL     1       0.027   5.801   9.718  1.00  0.00          PT  \nATOM    436   Pd MOL     1       1.952   3.914   9.778  1.00  0.00          PD  \nATOM    437   Pt MOL     1       2.003   5.877   7.830  1.00  0.00          PT  \nATOM    438   Pd MOL     1      -0.042   3.843  11.821  1.00  0.00          PD  \nATOM    439   Pd MOL     1       1.976   5.842  11.711  1.00  0.00          PD  \nATOM    440   Pd MOL     1      -0.063   7.668 -11.632  1.00  0.00          PD  \nATOM    441   Pt MOL     1      -0.052   9.563  -9.668  1.00  0.00          PT  \nATOM    442   Pd MOL     1       2.076   7.907  -9.858  1.00  0.00          PD  \nATOM    443   Pt MOL     1      -0.010   7.747  -7.797  1.00  0.00          PT  \nATOM    444   Pd MOL     1      -0.022   9.710  -5.886  1.00  0.00          PD  \nATOM    445   Pd MOL     1       2.004   7.825  -5.905  1.00  0.00          PD  \nATOM    446   Pt MOL     1       1.992   9.731  -7.865  1.00  0.00          PT  \nATOM    447   Pt MOL     1       0.020   7.828  -3.911  1.00  0.00          PT  \nATOM    448   Pt MOL     1      -0.003   9.838  -1.932  1.00  0.00          PT  \nATOM    449   Pt MOL     1       1.961   7.836  -1.950  1.00  0.00          PT  \nATOM    450   Pt MOL     1       1.981   9.787  -3.921  1.00  0.00          PT  \nATOM    451   Pd MOL     1      -0.014   7.836   0.012  1.00  0.00          PD  \nATOM    452   Pt MOL     1      -0.031   9.831   1.965  1.00  0.00          PT  \nATOM    453   Pd MOL     1       1.967   7.841   1.980  1.00  0.00          PD  \nATOM    454   Pt MOL     1       1.946   9.781  -0.016  1.00  0.00          PT  \nATOM    455   Pt MOL     1      -0.008   7.850   3.941  1.00  0.00          PT  \nATOM    456   Pt MOL     1      -0.056   9.762   5.870  1.00  0.00          PT  \nATOM    457   Pd MOL     1       1.992   7.864   5.892  1.00  0.00          PD  \nATOM    458   Pt MOL     1       1.955   9.754   3.918  1.00  0.00          PT  \nATOM    459   Pd MOL     1      -0.024   7.788   7.773  1.00  0.00          PD  \nATOM    460   Pt MOL     1       0.020   9.613   9.699  1.00  0.00          PT  \nATOM    461   Pt MOL     1       2.061   7.822   9.796  1.00  0.00          PT  \nATOM    462   Pt MOL     1       2.086   9.742   7.947  1.00  0.00          PT  \nATOM    463   Pt MOL     1      -0.026   7.706  11.516  1.00  0.00          PT  \nATOM    464   Pd MOL     1      -0.065  11.523  -7.858  1.00  0.00          PD  \nATOM    465   Pd MOL     1       1.922  11.647  -5.886  1.00  0.00          PD  \nATOM    466   Pt MOL     1       0.018  11.652  -3.947  1.00  0.00          PT  \nATOM    467   Pd MOL     1       1.965  11.813  -1.973  1.00  0.00          PD  \nATOM    468   Pd MOL     1       0.043  11.837   0.030  1.00  0.00          PD  \nATOM    469   Pt MOL     1       2.003  11.670   1.931  1.00  0.00          PT  \nATOM    470   Pd MOL     1       0.072  11.809   3.911  1.00  0.00          PD  \nATOM    471   Pt MOL     1       1.962  11.511   5.926  1.00  0.00          PT  \nATOM    472   Pd MOL     1       0.075  11.538   7.847  1.00  0.00          PD  \nATOM    473   Pt MOL     1       3.999  -9.780  -5.960  1.00  0.00          PT  \nATOM    474   Pt MOL     1       3.850 -11.577  -3.964  1.00  0.00          PT  \nATOM    475   Pd MOL     1       3.887  -9.752  -1.936  1.00  0.00          PD  \nATOM    476   Pd MOL     1       5.769 -11.711  -2.019  1.00  0.00          PD  \nATOM    477   Pt MOL     1       5.880  -9.789  -3.988  1.00  0.00          PT  \nATOM    478   Pt MOL     1       3.944 -11.685   0.000  1.00  0.00          PT  \nATOM    479   Pd MOL     1       3.897  -9.764   1.946  1.00  0.00          PD  \nATOM    480   Pt MOL     1       5.826 -11.589   1.891  1.00  0.00          PT  \nATOM    481   Pd MOL     1       5.885  -9.716  -0.078  1.00  0.00          PD  \nATOM    482   Pd MOL     1       3.948 -11.700   3.893  1.00  0.00          PD  \nATOM    483   Pt MOL     1       3.961  -9.767   5.884  1.00  0.00          PT  \nATOM    484   Pd MOL     1       5.978  -9.852   4.015  1.00  0.00          PD  \nATOM    485   Pd MOL     1       4.044  -6.004  -9.828  1.00  0.00          PD  \nATOM    486   Pt MOL     1       3.992  -7.905  -7.887  1.00  0.00          PT  \nATOM    487   Pt MOL     1       3.989  -5.910  -5.923  1.00  0.00          PT  \nATOM    488   Pd MOL     1       6.020  -7.976  -6.061  1.00  0.00          PD  \nATOM    489   Pt MOL     1       5.946  -5.959  -7.898  1.00  0.00          PT  \nATOM    490   Pt MOL     1       3.941  -7.817  -3.954  1.00  0.00          PT  \nATOM    491   Pt MOL     1       3.957  -5.878  -1.985  1.00  0.00          PT  \nATOM    492   Pt MOL     1       5.916  -7.838  -2.041  1.00  0.00          PT  \nATOM    493   Pt MOL     1       5.940  -5.934  -4.000  1.00  0.00          PT  \nATOM    494   Pd MOL     1       3.924  -7.817  -0.007  1.00  0.00          PD  \nATOM    495   Pt MOL     1       3.959  -5.910   2.006  1.00  0.00          PT  \nATOM    496   Pt MOL     1       5.909  -7.851   2.016  1.00  0.00          PT  \nATOM    497   Pt MOL     1       5.886  -5.888   0.000  1.00  0.00          PT  \nATOM    498   Pt MOL     1       3.978  -7.865   3.950  1.00  0.00          PT  \nATOM    499   Pd MOL     1       3.964  -5.924   5.910  1.00  0.00          PD  \nATOM    500   Pd MOL     1       5.984  -7.961   6.014  1.00  0.00          PD  \nATOM    501   Pt MOL     1       5.971  -5.970   4.012  1.00  0.00          PT  \nATOM    502   Pt MOL     1       4.012  -7.895   7.884  1.00  0.00          PT  \nATOM    503   Pt MOL     1       3.971  -5.947   9.725  1.00  0.00          PT  \nATOM    504   Pt MOL     1       5.934  -5.940   7.881  1.00  0.00          PT  \nATOM    505   Pd MOL     1       3.928  -3.949 -11.672  1.00  0.00          PD  \nATOM    506   Pt MOL     1       3.902  -1.979  -9.765  1.00  0.00          PT  \nATOM    507   Pt MOL     1       5.888  -3.963  -9.762  1.00  0.00          PT  \nATOM    508   Pd MOL     1       5.849  -2.001 -11.669  1.00  0.00          PD  \nATOM    509   Pt MOL     1       3.922  -3.941  -7.860  1.00  0.00          PT  \nATOM    510   Pd MOL     1       3.938  -1.963  -5.891  1.00  0.00          PD  \nATOM    511   Pd MOL     1       5.924  -3.953  -5.930  1.00  0.00          PD  \nATOM    512   Pd MOL     1       5.895  -1.987  -7.795  1.00  0.00          PD  \nATOM    513   Pt MOL     1       3.945  -3.940  -3.953  1.00  0.00          PT  \nATOM    514   Pt MOL     1       3.933  -1.964  -1.979  1.00  0.00          PT  \nATOM    515   Pd MOL     1       5.896  -3.920  -1.993  1.00  0.00          PD  \nATOM    516   Pd MOL     1       5.897  -1.969  -3.953  1.00  0.00          PD  \nATOM    517   Pt MOL     1       3.949  -3.922   0.009  1.00  0.00          PT  \nATOM    518   Pt MOL     1       3.940  -1.962   1.981  1.00  0.00          PT  \nATOM    519   Pt MOL     1       5.901  -3.954   1.992  1.00  0.00          PT  \nATOM    520   Pt MOL     1       5.869  -1.954  -0.002  1.00  0.00          PT  \nATOM    521   Pd MOL     1       3.951  -3.962   3.957  1.00  0.00          PD  \nATOM    522   Pt MOL     1       3.933  -2.000   5.900  1.00  0.00          PT  \nATOM    523   Pt MOL     1       5.915  -3.978   5.917  1.00  0.00          PT  \nATOM    524   Pt MOL     1       5.890  -1.989   3.951  1.00  0.00          PT  \nATOM    525   Pt MOL     1       3.931  -3.923   7.860  1.00  0.00          PT  \nATOM    526   Pd MOL     1       3.888  -1.955   9.796  1.00  0.00          PD  \nATOM    527   Pd MOL     1       5.971  -4.059   9.819  1.00  0.00          PD  \nATOM    528   Pd MOL     1       5.891  -1.999   7.873  1.00  0.00          PD  \nATOM    529   Pd MOL     1       3.925  -3.961  11.628  1.00  0.00          PD  \nATOM    530   Pd MOL     1       5.854  -1.964  11.638  1.00  0.00          PD  \nATOM    531   Pt MOL     1       3.960  -0.016 -11.645  1.00  0.00          PT  \nATOM    532   Pt MOL     1       3.895   1.985  -9.762  1.00  0.00          PT  \nATOM    533   Pd MOL     1       5.888  -0.017  -9.681  1.00  0.00          PD  \nATOM    534   Pt MOL     1       5.815   1.916 -11.575  1.00  0.00          PT  \nATOM    535   Pd MOL     1       3.924   0.011  -7.824  1.00  0.00          PD  \nATOM    536   Pt MOL     1       3.955   1.985  -5.891  1.00  0.00          PT  \nATOM    537   Pd MOL     1       5.912   0.009  -5.891  1.00  0.00          PD  \nATOM    538   Pd MOL     1       5.917   2.016  -7.855  1.00  0.00          PD  \nATOM    539   Pt MOL     1       3.938   0.024  -3.924  1.00  0.00          PT  \nATOM    540   Pt MOL     1       3.925   1.997  -1.974  1.00  0.00          PT  \nATOM    541   Pd MOL     1       5.876   0.016  -1.965  1.00  0.00          PD  \nATOM    542   Pt MOL     1       5.894   2.000  -3.934  1.00  0.00          PT  \nATOM    543   Pd MOL     1       3.932   0.020  -0.004  1.00  0.00          PD  \nATOM    544   Pt MOL     1       3.948   1.989   1.983  1.00  0.00          PT  \nATOM    545   Pt MOL     1       5.877   0.011   1.967  1.00  0.00          PT  \nATOM    546   Pd MOL     1       5.884   1.981   0.001  1.00  0.00          PD  \nATOM    547   Pd MOL     1       3.947   0.009   3.956  1.00  0.00          PD  \nATOM    548   Pt MOL     1       3.926   1.985   5.908  1.00  0.00          PT  \nATOM    549   Pd MOL     1       5.884   0.015   5.916  1.00  0.00          PD  \nATOM    550   Pd MOL     1       5.900   1.996   3.958  1.00  0.00          PD  \nATOM    551   Pd MOL     1       3.906  -0.029   7.824  1.00  0.00          PD  \nATOM    552   Pd MOL     1       3.904   1.904   9.736  1.00  0.00          PD  \nATOM    553   Pd MOL     1       5.826  -0.014   9.726  1.00  0.00          PD  \nATOM    554   Pd MOL     1       5.896   1.983   7.840  1.00  0.00          PD  \nATOM    555   Pd MOL     1       3.882   0.019  11.779  1.00  0.00          PD  \nATOM    556   Pd MOL     1       5.863   1.988  11.659  1.00  0.00          PD  \nATOM    557   Pd MOL     1       3.912   3.900 -11.719  1.00  0.00          PD  \nATOM    558   Pd MOL     1       4.017   5.939  -9.826  1.00  0.00          PD  \nATOM    559   Pd MOL     1       5.955   3.999  -9.830  1.00  0.00          PD  \nATOM    560   Pd MOL     1       3.959   3.969  -7.868  1.00  0.00          PD  \nATOM    561   Pd MOL     1       3.981   5.938  -5.950  1.00  0.00          PD  \nATOM    562   Pd MOL     1       5.896   3.973  -5.936  1.00  0.00          PD  \nATOM    563   Pd MOL     1       5.985   5.970  -7.906  1.00  0.00          PD  \nATOM    564   Pd MOL     1       3.946   3.976  -3.953  1.00  0.00          PD  \nATOM    565   Pd MOL     1       3.938   5.896  -1.962  1.00  0.00          PD  \nATOM    566   Pd MOL     1       5.891   3.950  -1.965  1.00  0.00          PD  \nATOM    567   Pd MOL     1       5.903   5.929  -3.972  1.00  0.00          PD  \nATOM    568   Pt MOL     1       3.929   3.934   0.011  1.00  0.00          PT  \nATOM    569   Pd MOL     1       3.948   5.909   1.996  1.00  0.00          PD  \nATOM    570   Pd MOL     1       5.906   3.959   1.995  1.00  0.00          PD  \nATOM    571   Pt MOL     1       5.890   5.901  -0.004  1.00  0.00          PT  \nATOM    572   Pd MOL     1       3.973   3.971   3.949  1.00  0.00          PD  \nATOM    573   Pt MOL     1       3.986   5.933   5.905  1.00  0.00          PT  \nATOM    574   Pd MOL     1       5.940   3.971   5.922  1.00  0.00          PD  \nATOM    575   Pt MOL     1       5.943   5.957   4.014  1.00  0.00          PT  \nATOM    576   Pt MOL     1       3.935   3.945   7.852  1.00  0.00          PT  \nATOM    577   Pd MOL     1       4.051   5.972   9.908  1.00  0.00          PD  \nATOM    578   Pt MOL     1       5.880   3.963   9.791  1.00  0.00          PT  \nATOM    579   Pt MOL     1       5.914   5.919   7.929  1.00  0.00          PT  \nATOM    580   Pt MOL     1       3.884   3.830  11.628  1.00  0.00          PT  \nATOM    581   Pd MOL     1       4.018   7.923  -7.924  1.00  0.00          PD  \nATOM    582   Pd MOL     1       3.993   9.821  -5.971  1.00  0.00          PD  \nATOM    583   Pd MOL     1       5.982   7.926  -5.971  1.00  0.00          PD  \nATOM    584   Pt MOL     1       3.938   7.847  -3.964  1.00  0.00          PT  \nATOM    585   Pd MOL     1       3.909   9.775  -1.960  1.00  0.00          PD  \nATOM    586   Pt MOL     1       5.918   7.835  -2.002  1.00  0.00          PT  \nATOM    587   Pt MOL     1       5.870   9.766  -3.938  1.00  0.00          PT  \nATOM    588   Pt MOL     1       3.944   7.838   0.020  1.00  0.00          PT  \nATOM    589   Pt MOL     1       3.961   9.752   2.014  1.00  0.00          PT  \nATOM    590   Pt MOL     1       5.918   7.849   2.043  1.00  0.00          PT  \nATOM    591   Pd MOL     1       5.871   9.723   0.018  1.00  0.00          PD  \nATOM    592   Pd MOL     1       3.982   7.880   4.007  1.00  0.00          PD  \nATOM    593   Pd MOL     1       4.053   9.831   6.056  1.00  0.00          PD  \nATOM    594   Pd MOL     1       5.979   7.919   6.061  1.00  0.00          PD  \nATOM    595   Pd MOL     1       5.933   9.838   4.029  1.00  0.00          PD  \nATOM    596   Pt MOL     1       3.988   7.847   7.935  1.00  0.00          PT  \nATOM    597   Pd MOL     1       3.934  11.677  -3.944  1.00  0.00          PD  \nATOM    598   Pd MOL     1       5.827  11.699  -1.906  1.00  0.00          PD  \nATOM    599   Pt MOL     1       3.883  11.671   0.023  1.00  0.00          PT  \nATOM    600   Pd MOL     1       5.830  11.717   1.932  1.00  0.00          PD  \nATOM    601   Pd MOL     1       3.844  11.685   3.962  1.00  0.00          PD  \nATOM    602   Pd MOL     1       7.856  -9.845  -2.137  1.00  0.00          PD  \nATOM    603   Pd MOL     1       7.781 -11.611   0.009  1.00  0.00          PD  \nATOM    604   Pt MOL     1       7.821  -9.784   1.998  1.00  0.00          PT  \nATOM    605   Pt MOL     1       9.621  -9.680  -0.051  1.00  0.00          PT  \nATOM    606   Pt MOL     1       7.870  -5.960  -5.963  1.00  0.00          PT  \nATOM    607   Pd MOL     1       7.939  -7.968  -4.099  1.00  0.00          PD  \nATOM    608   Pt MOL     1       7.823  -5.877  -2.015  1.00  0.00          PT  \nATOM    609   Pt MOL     1       9.746  -7.859  -2.089  1.00  0.00          PT  \nATOM    610   Pt MOL     1       9.753  -5.941  -3.981  1.00  0.00          PT  \nATOM    611   Pd MOL     1       7.789  -7.780  -0.019  1.00  0.00          PD  \nATOM    612   Pt MOL     1       7.865  -5.916   2.027  1.00  0.00          PT  \nATOM    613   Pd MOL     1       9.806  -7.925   2.087  1.00  0.00          PD  \nATOM    614   Pt MOL     1       9.713  -5.832   0.016  1.00  0.00          PT  \nATOM    615   Pd MOL     1       7.939  -7.947   4.030  1.00  0.00          PD  \nATOM    616   Pd MOL     1       7.931  -6.005   6.019  1.00  0.00          PD  \nATOM    617   Pd MOL     1       9.847  -5.931   3.982  1.00  0.00          PD  \nATOM    618   Pt MOL     1       7.806  -2.038  -9.771  1.00  0.00          PT  \nATOM    619   Pd MOL     1       7.905  -4.087  -7.970  1.00  0.00          PD  \nATOM    620   Pt MOL     1       7.873  -2.032  -5.899  1.00  0.00          PT  \nATOM    621   Pd MOL     1       9.814  -4.090  -5.990  1.00  0.00          PD  \nATOM    622   Pd MOL     1       9.769  -2.124  -7.924  1.00  0.00          PD  \nATOM    623   Pt MOL     1       7.863  -3.921  -3.964  1.00  0.00          PT  \nATOM    624   Pd MOL     1       7.823  -1.943  -1.961  1.00  0.00          PD  \nATOM    625   Pd MOL     1       9.767  -3.899  -1.972  1.00  0.00          PD  \nATOM    626   Pt MOL     1       9.766  -1.952  -3.873  1.00  0.00          PT  \nATOM    627   Pd MOL     1       7.823  -3.911   0.002  1.00  0.00          PD  \nATOM    628   Pd MOL     1       7.822  -1.959   1.961  1.00  0.00          PD  \nATOM    629   Pd MOL     1       9.755  -3.932   1.998  1.00  0.00          PD  \nATOM    630   Pd MOL     1       9.779  -1.927  -0.029  1.00  0.00          PD  \nATOM    631   Pt MOL     1       7.862  -3.995   3.984  1.00  0.00          PT  \nATOM    632   Pt MOL     1       7.818  -1.992   5.874  1.00  0.00          PT  \nATOM    633   Pd MOL     1       9.844  -4.031   5.956  1.00  0.00          PD  \nATOM    634   Pd MOL     1       9.747  -1.970   3.898  1.00  0.00          PD  \nATOM    635   Pt MOL     1       7.877  -3.989   7.861  1.00  0.00          PT  \nATOM    636   Pd MOL     1       7.920  -2.106   9.787  1.00  0.00          PD  \nATOM    637   Pt MOL     1       9.754  -2.030   7.802  1.00  0.00          PT  \nATOM    638   Pd MOL     1       7.739  -0.006 -11.601  1.00  0.00          PD  \nATOM    639   Pd MOL     1       7.907   2.073  -9.808  1.00  0.00          PD  \nATOM    640   Pd MOL     1       9.698  -0.029  -9.712  1.00  0.00          PD  \nATOM    641   Pd MOL     1       7.822  -0.020  -7.796  1.00  0.00          PD  \nATOM    642   Pt MOL     1       7.833   2.028  -5.878  1.00  0.00          PT  \nATOM    643   Pd MOL     1       9.681   0.015  -5.808  1.00  0.00          PD  \nATOM    644   Pt MOL     1       9.738   1.993  -7.819  1.00  0.00          PT  \nATOM    645   Pd MOL     1       7.828   0.015  -3.904  1.00  0.00          PD  \nATOM    646   Pt MOL     1       7.850   1.982  -1.972  1.00  0.00          PT  \nATOM    647   Pt MOL     1       9.846   0.016  -1.959  1.00  0.00          PT  \nATOM    648   Pd MOL     1       9.819   1.981  -3.906  1.00  0.00          PD  \nATOM    649   Pd MOL     1       7.831   0.006  -0.023  1.00  0.00          PD  \nATOM    650   Pd MOL     1       7.821   1.966   1.948  1.00  0.00          PD  \nATOM    651   Pt MOL     1       9.787  -0.013   1.955  1.00  0.00          PT  \nATOM    652   Pd MOL     1       9.799   1.949  -0.031  1.00  0.00          PD  \nATOM    653   Pt MOL     1       7.788   0.004   3.919  1.00  0.00          PT  \nATOM    654   Pt MOL     1       7.846   2.016   5.930  1.00  0.00          PT  \nATOM    655   Pd MOL     1       9.700   0.012   5.844  1.00  0.00          PD  \nATOM    656   Pd MOL     1       9.682   1.928   3.906  1.00  0.00          PD  \nATOM    657   Pd MOL     1       7.817   0.011   7.848  1.00  0.00          PD  \nATOM    658   Pd MOL     1       7.882   2.070   9.796  1.00  0.00          PD  \nATOM    659   Pd MOL     1       9.749  -0.034   9.686  1.00  0.00          PD  \nATOM    660   Pd MOL     1       9.816   2.054   7.864  1.00  0.00          PD  \nATOM    661   Pt MOL     1       7.729  -0.012  11.483  1.00  0.00          PT  \nATOM    662   Pd MOL     1       7.944   4.029  -7.903  1.00  0.00          PD  \nATOM    663   Pt MOL     1       7.864   5.906  -5.909  1.00  0.00          PT  \nATOM    664   Pd MOL     1       9.836   4.004  -5.945  1.00  0.00          PD  \nATOM    665   Pt MOL     1       7.856   3.945  -3.940  1.00  0.00          PT  \nATOM    666   Pt MOL     1       7.863   5.904  -2.028  1.00  0.00          PT  \nATOM    667   Pd MOL     1       9.827   3.919  -1.966  1.00  0.00          PD  \nATOM    668   Pd MOL     1       9.815   5.924  -3.994  1.00  0.00          PD  \nATOM    669   Pt MOL     1       7.839   3.945  -0.008  1.00  0.00          PT  \nATOM    670   Pt MOL     1       7.837   5.892   2.032  1.00  0.00          PT  \nATOM    671   Pt MOL     1       9.741   3.933   1.945  1.00  0.00          PT  \nATOM    672   Pd MOL     1       9.747   5.832  -0.013  1.00  0.00          PD  \nATOM    673   Pd MOL     1       7.864   3.981   3.992  1.00  0.00          PD  \nATOM    674   Pd MOL     1       7.908   5.985   6.029  1.00  0.00          PD  \nATOM    675   Pd MOL     1       9.822   4.021   5.974  1.00  0.00          PD  \nATOM    676   Pd MOL     1       9.833   5.966   4.030  1.00  0.00          PD  \nATOM    677   Pd MOL     1       7.891   4.031   7.946  1.00  0.00          PD  \nATOM    678   Pd MOL     1       7.905   7.920  -4.032  1.00  0.00          PD  \nATOM    679   Pd MOL     1       7.874   9.828  -2.109  1.00  0.00          PD  \nATOM    680   Pd MOL     1       9.812   7.884  -2.082  1.00  0.00          PD  \nATOM    681   Pd MOL     1       7.798   7.788  -0.006  1.00  0.00          PD  \nATOM    682   Pd MOL     1       7.887   9.823   2.131  1.00  0.00          PD  \nATOM    683   Pt MOL     1       9.758   7.835   2.056  1.00  0.00          PT  \nATOM    684   Pt MOL     1       9.650   9.663   0.035  1.00  0.00          PT  \nATOM    685   Pd MOL     1       7.914   7.909   4.042  1.00  0.00          PD  \nATOM    686   Pt MOL     1       7.793  11.491   0.007  1.00  0.00          PT  \nATOM    687   Pd MOL     1      11.648  -5.861  -1.962  1.00  0.00          PD  \nATOM    688   Pt MOL     1      11.451  -7.795  -0.052  1.00  0.00          PT  \nATOM    689   Pd MOL     1      11.714  -5.863   1.883  1.00  0.00          PD  \nATOM    690   Pt MOL     1      11.534  -1.964  -5.866  1.00  0.00          PT  \nATOM    691   Pd MOL     1      11.652  -3.907  -3.984  1.00  0.00          PD  \nATOM    692   Pd MOL     1      11.790  -1.975  -1.935  1.00  0.00          PD  \nATOM    693   Pt MOL     1      11.657  -3.895   0.014  1.00  0.00          PT  \nATOM    694   Pt MOL     1      11.675  -1.993   1.916  1.00  0.00          PT  \nATOM    695   Pd MOL     1      11.744  -3.840   3.899  1.00  0.00          PD  \nATOM    696   Pt MOL     1      11.587  -1.957   5.835  1.00  0.00          PT  \nATOM    697   Pt MOL     1      11.502  -0.038  -7.695  1.00  0.00          PT  \nATOM    698   Pd MOL     1      11.675   1.967  -5.893  1.00  0.00          PD  \nATOM    699   Pd MOL     1      11.778  -0.027  -3.925  1.00  0.00          PD  \nATOM    700   Pd MOL     1      11.810   1.941  -1.966  1.00  0.00          PD  \nATOM    701   Pd MOL     1      11.813   0.022   0.070  1.00  0.00          PD  \nATOM    702   Pt MOL     1      11.656   1.967   1.975  1.00  0.00          PT  \nATOM    703   Pd MOL     1      11.808  -0.040   3.861  1.00  0.00          PD  \nATOM    704   Pt MOL     1      11.595   1.956   5.778  1.00  0.00          PT  \nATOM    705   Pd MOL     1      11.641  -0.016   7.661  1.00  0.00          PD  \nATOM    706   Pd MOL     1      11.731   3.916  -3.902  1.00  0.00          PD  \nATOM    707   Pd MOL     1      11.706   5.873  -1.922  1.00  0.00          PD  \nATOM    708   Pd MOL     1      11.795   3.878   0.035  1.00  0.00          PD  \nATOM    709   Pd MOL     1      11.680   5.850   2.010  1.00  0.00          PD  \nATOM    710   Pt MOL     1      11.589   3.832   3.883  1.00  0.00          PT  \nATOM    711   Pt MOL     1      11.481   7.791   0.045  1.00  0.00          PT  \nENDMDL\n",
           "type": "blob"
          }
         ],
         "kwargs": {
          "defaultRepresentation": false,
          "ext": "pdb"
         },
         "methodName": "loadFile",
         "reconstruc_color_scheme": false,
         "target": "Stage",
         "type": "call_method"
        },
        {
         "args": [
          "500px",
          "500px"
         ],
         "kwargs": {},
         "methodName": "setSize",
         "reconstruc_color_scheme": false,
         "target": "Widget",
         "type": "call_method"
        },
        {
         "args": [
          "unitcell"
         ],
         "component_index": 0,
         "kwargs": {
          "sele": "all"
         },
         "methodName": "addRepresentation",
         "reconstruc_color_scheme": false,
         "target": "compList",
         "type": "call_method"
        },
        {
         "args": [
          "spacefill"
         ],
         "component_index": 0,
         "kwargs": {
          "sele": "all"
         },
         "methodName": "addRepresentation",
         "reconstruc_color_scheme": false,
         "target": "compList",
         "type": "call_method"
        },
        {
         "args": [],
         "kwargs": {
          "cameraType": "orthographic"
         },
         "methodName": "setParameters",
         "reconstruc_color_scheme": false,
         "target": "Stage",
         "type": "call_method"
        },
        {
         "args": [
          {
           "clipDist": 0
          }
         ],
         "kwargs": {},
         "methodName": "setParameters",
         "reconstruc_color_scheme": false,
         "target": "Widget",
         "type": "call_method"
        },
        {
         "args": [
          "spacefill",
          0
         ],
         "kwargs": {
          "colorScale": "rainbow",
          "colorScheme": "element",
          "radiusScale": 0.5,
          "radiusType": "covalent"
         },
         "methodName": "updateRepresentationsByName",
         "reconstruc_color_scheme": false,
         "target": "Widget",
         "type": "call_method"
        },
        {
         "args": [
          "this._Q = [[1.0, 0.0, 0.0], [0.0, 1.0, 0.0], [0.0, 0.0, 1.0]]\n    var tooltip = document.createElement('div');\n    Object.assign(tooltip.style, {\n      display: 'none',\n      position: 'fixed',\n      zIndex: 10,\n      pointerEvents: 'none',\n      backgroundColor: 'rgba( 0, 0, 0, 0.6 )',\n      color: 'lightgrey',\n      padding: '8px',\n      fontFamily: 'sans-serif'\n    });\n    document.body.appendChild(tooltip);\n\n    var that = this;\n    this.stage.mouseControls.remove('hoverPick');\n    this.stage.signals.hovered.add(function (pickingProxy) {\n      if (pickingProxy && (pickingProxy.atom || pickingProxy.bond)) {\n        var atom = pickingProxy.atom || pickingProxy.closestBondAtom\n        var mp = pickingProxy.mouse.position\n        //tooltip.innerText = atom.element + ' i=' + atom.index + ' (' + atom.x.toFixed(2) +  ', ' + atom.y.toFixed(2) +  ', ' + atom.z.toFixed(2) + ')'\n        //var pos = that._atoms_pos[atom.index]\n        var Q = that._Q\n        var pos_x = Q[0][0] * atom.x + Q[0][1] * atom.y + Q[0][2] * atom.z \n        var pos_y = Q[1][0] * atom.x + Q[1][1] * atom.y + Q[1][2] * atom.z\n        var pos_z = Q[2][0] * atom.x + Q[2][1] * atom.y + Q[2][2] * atom.z\n        tooltip.innerText = 'i=' + atom.index + ' ' + atom.element + ' (' + pos_x.toFixed(2) +  ', ' + pos_y.toFixed(2) +  ', ' + pos_z.toFixed(2) + ')'\n        tooltip.style.bottom = window.innerHeight - mp.y + 3 + 'px'\n        tooltip.style.left = mp.x + 3 + 'px'\n        tooltip.style.display = 'block'\n      } else {\n        tooltip.style.display = 'none'\n      }\n    });\n    this.stage.tooltip = tooltip;\n    "
         ],
         "kwargs": {},
         "methodName": "executeCode",
         "reconstruc_color_scheme": false,
         "target": "Widget",
         "type": "call_method"
        }
       ],
       "_ngl_original_stage_parameters": {
        "ambientColor": 14540253,
        "ambientIntensity": 0.2,
        "backgroundColor": "white",
        "cameraEyeSep": 0.3,
        "cameraFov": 40,
        "cameraType": "perspective",
        "clipDist": 10,
        "clipFar": 100,
        "clipNear": 0,
        "fogFar": 100,
        "fogNear": 50,
        "hoverTimeout": 0,
        "impostor": true,
        "lightColor": 14540253,
        "lightIntensity": 1,
        "mousePreset": "default",
        "panSpeed": 1,
        "quality": "medium",
        "rotateSpeed": 2,
        "sampleLevel": 0,
        "tooltip": true,
        "workerDefault": true,
        "zoomSpeed": 1.2
       },
       "_ngl_repr_dict": {
        "0": {
         "0": {
          "params": {
           "clipCenter": {
            "x": 0,
            "y": 0,
            "z": 0
           },
           "clipNear": 0,
           "clipRadius": 0,
           "colorMode": "hcl",
           "colorReverse": false,
           "colorScale": "",
           "colorScheme": "element",
           "colorValue": "orange",
           "defaultAssembly": "",
           "depthWrite": true,
           "diffuse": 16777215,
           "diffuseInterior": false,
           "disableImpostor": false,
           "disablePicking": false,
           "flatShaded": false,
           "interiorColor": 2236962,
           "interiorDarkening": 0,
           "lazy": false,
           "matrix": {
            "elements": [
             1,
             0,
             0,
             0,
             0,
             1,
             0,
             0,
             0,
             0,
             1,
             0,
             0,
             0,
             0,
             1
            ]
           },
           "metalness": 0,
           "opacity": 1,
           "quality": "medium",
           "radialSegments": 10,
           "radiusData": {},
           "radiusScale": 1,
           "radiusSize": 0.5,
           "radiusType": "vdw",
           "roughness": 0.4,
           "sele": "all",
           "side": "double",
           "sphereDetail": 1,
           "useInteriorColor": true,
           "visible": true,
           "wireframe": false
          },
          "type": "unitcell"
         },
         "1": {
          "params": {
           "assembly": "default",
           "clipCenter": {
            "x": 0,
            "y": 0,
            "z": 0
           },
           "clipNear": 0,
           "clipRadius": 0,
           "colorMode": "hcl",
           "colorReverse": false,
           "colorScale": "rainbow",
           "colorScheme": "element",
           "colorValue": 9474192,
           "defaultAssembly": "",
           "depthWrite": true,
           "diffuse": 16777215,
           "diffuseInterior": false,
           "disableImpostor": false,
           "disablePicking": false,
           "flatShaded": false,
           "interiorColor": 2236962,
           "interiorDarkening": 0,
           "lazy": false,
           "matrix": {
            "elements": [
             1,
             0,
             0,
             0,
             0,
             1,
             0,
             0,
             0,
             0,
             1,
             0,
             0,
             0,
             0,
             1
            ]
           },
           "metalness": 0,
           "opacity": 1,
           "quality": "medium",
           "radiusData": {},
           "radiusScale": 0.5,
           "radiusSize": 1,
           "radiusType": "covalent",
           "roughness": 0.4,
           "sele": "all",
           "side": "double",
           "sphereDetail": 1,
           "useInteriorColor": true,
           "visible": true,
           "wireframe": false
          },
          "type": "spacefill"
         }
        }
       },
       "_ngl_serialize": false,
       "_ngl_version": "2.0.0-dev.36",
       "_ngl_view_id": [
        "B3ED38D2-57F9-450D-89E4-0EFE2A8F6FD7"
       ],
       "_player_dict": {},
       "_scene_position": {},
       "_scene_rotation": {},
       "_synced_model_ids": [],
       "_synced_repr_model_ids": [],
       "_view_height": "",
       "_view_width": "",
       "background": "white",
       "frame": 0,
       "gui_style": null,
       "layout": "IPY_MODEL_14ac4b9cef9843c39164138eb82c5c59",
       "max_frame": 0,
       "n_components": 1,
       "picked": {}
      }
     },
     "fa1da8283f704f78a466026e1d586f4b": {
      "model_module": "@jupyter-widgets/controls",
      "model_module_version": "1.5.0",
      "model_name": "LinkModel",
      "state": {
       "source": [
        "IPY_MODEL_79c31297bda141a3bf27aa8661b98543",
        "value"
       ],
       "target": [
        "IPY_MODEL_780fe39126ce456bae13c435afacbc77",
        "frame"
       ]
      }
     },
     "fa59c02fe0a8460aacab36b334957f25": {
      "model_module": "@jupyter-widgets/controls",
      "model_module_version": "1.5.0",
      "model_name": "CheckboxModel",
      "state": {
       "description": "Show force",
       "disabled": false,
       "layout": "IPY_MODEL_05f6818c378e447cb10538683e1f58ae",
       "style": "IPY_MODEL_149ebf04a46d45c18e68cb0c5fa833b9",
       "value": false
      }
     },
     "fade9d98bfbd499fbef2f81d57278be4": {
      "model_module": "@jupyter-widgets/controls",
      "model_module_version": "1.5.0",
      "model_name": "HBoxModel",
      "state": {
       "children": [
        "IPY_MODEL_c9ef9f0248a145f096bfecb7523130f5",
        "IPY_MODEL_c51a3075225c49159436141746bd76ac"
       ],
       "layout": "IPY_MODEL_2e92dc13063942829a47fdcad74fd472"
      }
     },
     "fb16882da67d4dde93f7555ab777c887": {
      "model_module": "@jupyter-widgets/controls",
      "model_module_version": "1.5.0",
      "model_name": "FloatSliderModel",
      "state": {
       "description": "Charge scale",
       "layout": "IPY_MODEL_6ae2497d4fb34aa3888b2a961bf4f52d",
       "step": 0.1,
       "style": "IPY_MODEL_0672f78e81224651b1ee4e71a00f1eff",
       "value": 1
      }
     },
     "fb18e75236a443b59168e3b31295f06a": {
      "model_module": "@jupyter-widgets/controls",
      "model_module_version": "1.5.0",
      "model_name": "DescriptionStyleModel",
      "state": {
       "description_width": ""
      }
     },
     "fb395ff55a264eb6a1b47ffb4f827ad5": {
      "model_module": "@jupyter-widgets/controls",
      "model_module_version": "1.5.0",
      "model_name": "IntSliderModel",
      "state": {
       "layout": "IPY_MODEL_8589ff638cfa46a68ddad564b2d2a250",
       "max": 706,
       "style": "IPY_MODEL_d2da626dd57e46818dfba1bfc78dc295",
       "value": 706
      }
     },
     "fb893b3dd11d4061b94d81bed8bd57f9": {
      "model_module": "@jupyter-widgets/controls",
      "model_module_version": "1.5.0",
      "model_name": "ButtonModel",
      "state": {
       "icon": "compress",
       "layout": "IPY_MODEL_568095dfa67c4096a8eb1a707b44c019",
       "style": "IPY_MODEL_91b05d26d6ba41228a70a377c712b8b5"
      }
     },
     "fba03774a2264687b684d1fd3bbfd84b": {
      "model_module": "@jupyter-widgets/controls",
      "model_module_version": "1.5.0",
      "model_name": "PlayModel",
      "state": {
       "layout": "IPY_MODEL_7a0da7e0af1140e28b2bbb81d0c2cb2a",
       "max": 0,
       "style": "IPY_MODEL_4172c389ed6b47a49820a703cf81536e"
      }
     },
     "fc9e367ddba74fe1873faa88ceaafce7": {
      "model_module": "@jupyter-widgets/base",
      "model_module_version": "1.2.0",
      "model_name": "LayoutModel",
      "state": {}
     },
     "fcaa413ff3374aab8e75f2a5734d6fd1": {
      "model_module": "@jupyter-widgets/controls",
      "model_module_version": "1.5.0",
      "model_name": "ButtonStyleModel",
      "state": {}
     },
     "fce827b379ba477f876f4bda946e90ac": {
      "model_module": "@jupyter-widgets/controls",
      "model_module_version": "1.5.0",
      "model_name": "PlayModel",
      "state": {
       "layout": "IPY_MODEL_3d7caa83602942e58b0e8eb47bbc0e25",
       "max": 0,
       "style": "IPY_MODEL_a5eeaa23da994984be352460a84bbd59"
      }
     },
     "fd1659a77e3644ba913e9b6336318e32": {
      "model_module": "@jupyter-widgets/controls",
      "model_module_version": "1.5.0",
      "model_name": "SliderStyleModel",
      "state": {
       "description_width": ""
      }
     },
     "fd5edac98e7a482097fde124c7143afe": {
      "model_module": "@jupyter-widgets/base",
      "model_module_version": "1.2.0",
      "model_name": "LayoutModel",
      "state": {}
     },
     "fe0a09d717d0478ab3cdad5403828791": {
      "model_module": "@jupyter-widgets/controls",
      "model_module_version": "1.5.0",
      "model_name": "DropdownModel",
      "state": {
       "_options_labels": [
        "All",
        "Sn",
        "O",
        "Pt"
       ],
       "description": "Show",
       "index": 0,
       "layout": "IPY_MODEL_255507ccb71d4bf5b86bea81482062ce",
       "style": "IPY_MODEL_5ad04443b3b943489f9cab68f7a5ba48"
      }
     },
     "fe3e3c80eaca47ef9dd01fd9fa2b20f3": {
      "model_module": "@jupyter-widgets/base",
      "model_module_version": "1.2.0",
      "model_name": "LayoutModel",
      "state": {}
     },
     "fefb12a6131e43cb91dabc9b80ec59e3": {
      "model_module": "@jupyter-widgets/base",
      "model_module_version": "1.2.0",
      "model_name": "LayoutModel",
      "state": {
       "border": "0px solid black"
      }
     },
     "ff2d8c1d53dd431e98b2795b38a4ef3c": {
      "model_module": "@jupyter-widgets/controls",
      "model_module_version": "1.5.0",
      "model_name": "TextModel",
      "state": {
       "description": "Filename: ",
       "layout": "IPY_MODEL_ee8c0aa1bece456f869dbf57a4e0f816",
       "style": "IPY_MODEL_2a62cc6c8b124ad3b7fa3042a6d2a6b6",
       "value": "screenshot.png"
      }
     },
     "ffc0ff16fc804555aa0c96aef6fa21ef": {
      "model_module": "nglview-js-widgets",
      "model_module_version": "3.0.1",
      "model_name": "NGLModel",
      "state": {
       "_camera_orientation": [
        41.190917300568096,
        0,
        0,
        0,
        0,
        41.190917300568096,
        0,
        0,
        0,
        0,
        41.190917300568096,
        0,
        0,
        0,
        0,
        1
       ],
       "_camera_str": "orthographic",
       "_gui_theme": null,
       "_ibtn_fullscreen": "IPY_MODEL_eabac40d07554a6a91bfa0ca515de4e3",
       "_igui": null,
       "_iplayer": "IPY_MODEL_2ba7552bbd424d6992f03ccbdde9cf26",
       "_ngl_color_dict": {},
       "_ngl_coordinate_resource": {},
       "_ngl_full_stage_parameters": {
        "ambientColor": 14540253,
        "ambientIntensity": 0.2,
        "backgroundColor": "white",
        "cameraEyeSep": 0.3,
        "cameraFov": 40,
        "cameraType": "orthographic",
        "clipDist": 0,
        "clipFar": 100,
        "clipNear": 0,
        "fogFar": 100,
        "fogNear": 50,
        "hoverTimeout": 0,
        "impostor": true,
        "lightColor": 14540253,
        "lightIntensity": 1,
        "mousePreset": "default",
        "panSpeed": 1,
        "quality": "medium",
        "rotateSpeed": 2,
        "sampleLevel": 0,
        "tooltip": true,
        "workerDefault": true,
        "zoomSpeed": 1.2
       },
       "_ngl_msg_archive": [
        {
         "args": [
          {
           "binary": false,
           "data": "MODEL     1\nATOM      1   Pt MOL     1      -9.725  -9.725   0.000  1.00  0.00          PT  \nATOM      2   Pt MOL     1     -11.670  -5.835  -1.945  1.00  0.00          PT  \nATOM      3   Pt MOL     1      -9.725  -7.780  -1.945  1.00  0.00          PT  \nATOM      4   Pt MOL     1      -9.725  -5.835  -3.890  1.00  0.00          PT  \nATOM      5   Pt MOL     1     -11.670  -7.780   0.000  1.00  0.00          PT  \nATOM      6   Pt MOL     1     -11.670  -5.835   1.945  1.00  0.00          PT  \nATOM      7   Pt MOL     1      -9.725  -7.780   1.945  1.00  0.00          PT  \nATOM      8   Pd MOL     1      -9.725  -5.835   0.000  1.00  0.00          PD  \nATOM      9   Pt MOL     1      -9.725  -5.835   3.890  1.00  0.00          PT  \nATOM     10   Pt MOL     1     -11.670  -1.945  -5.835  1.00  0.00          PT  \nATOM     11   Pt MOL     1      -9.725  -3.890  -5.835  1.00  0.00          PT  \nATOM     12   Pt MOL     1      -9.725  -1.945  -7.780  1.00  0.00          PT  \nATOM     13   Pt MOL     1     -11.670  -3.890  -3.890  1.00  0.00          PT  \nATOM     14   Pt MOL     1     -11.670  -1.945  -1.945  1.00  0.00          PT  \nATOM     15   Pd MOL     1      -9.725  -3.890  -1.945  1.00  0.00          PD  \nATOM     16   Pd MOL     1      -9.725  -1.945  -3.890  1.00  0.00          PD  \nATOM     17   Pt MOL     1     -11.670  -3.890   0.000  1.00  0.00          PT  \nATOM     18   Pt MOL     1     -11.670  -1.945   1.945  1.00  0.00          PT  \nATOM     19   Pd MOL     1      -9.725  -3.890   1.945  1.00  0.00          PD  \nATOM     20   Pd MOL     1      -9.725  -1.945   0.000  1.00  0.00          PD  \nATOM     21   Pt MOL     1     -11.670  -3.890   3.890  1.00  0.00          PT  \nATOM     22   Pt MOL     1     -11.670  -1.945   5.835  1.00  0.00          PT  \nATOM     23   Pt MOL     1      -9.725  -3.890   5.835  1.00  0.00          PT  \nATOM     24   Pd MOL     1      -9.725  -1.945   3.890  1.00  0.00          PD  \nATOM     25   Pt MOL     1      -9.725  -1.945   7.780  1.00  0.00          PT  \nATOM     26   Pt MOL     1      -9.725   0.000  -9.725  1.00  0.00          PT  \nATOM     27   Pt MOL     1     -11.670   0.000  -7.780  1.00  0.00          PT  \nATOM     28   Pt MOL     1     -11.670   1.945  -5.835  1.00  0.00          PT  \nATOM     29   Pd MOL     1      -9.725   0.000  -5.835  1.00  0.00          PD  \nATOM     30   Pt MOL     1      -9.725   1.945  -7.780  1.00  0.00          PT  \nATOM     31   Pt MOL     1     -11.670   0.000  -3.890  1.00  0.00          PT  \nATOM     32   Pt MOL     1     -11.670   1.945  -1.945  1.00  0.00          PT  \nATOM     33   Pd MOL     1      -9.725   0.000  -1.945  1.00  0.00          PD  \nATOM     34   Pd MOL     1      -9.725   1.945  -3.890  1.00  0.00          PD  \nATOM     35   Pt MOL     1     -11.670   0.000   0.000  1.00  0.00          PT  \nATOM     36   Pt MOL     1     -11.670   1.945   1.945  1.00  0.00          PT  \nATOM     37   Pd MOL     1      -9.725   0.000   1.945  1.00  0.00          PD  \nATOM     38   Pd MOL     1      -9.725   1.945   0.000  1.00  0.00          PD  \nATOM     39   Pt MOL     1     -11.670   0.000   3.890  1.00  0.00          PT  \nATOM     40   Pt MOL     1     -11.670   1.945   5.835  1.00  0.00          PT  \nATOM     41   Pd MOL     1      -9.725   0.000   5.835  1.00  0.00          PD  \nATOM     42   Pd MOL     1      -9.725   1.945   3.890  1.00  0.00          PD  \nATOM     43   Pt MOL     1     -11.670   0.000   7.780  1.00  0.00          PT  \nATOM     44   Pt MOL     1      -9.725   0.000   9.725  1.00  0.00          PT  \nATOM     45   Pt MOL     1      -9.725   1.945   7.780  1.00  0.00          PT  \nATOM     46   Pt MOL     1      -9.725   3.890  -5.835  1.00  0.00          PT  \nATOM     47   Pt MOL     1     -11.670   3.890  -3.890  1.00  0.00          PT  \nATOM     48   Pt MOL     1     -11.670   5.835  -1.945  1.00  0.00          PT  \nATOM     49   Pd MOL     1      -9.725   3.890  -1.945  1.00  0.00          PD  \nATOM     50   Pt MOL     1      -9.725   5.835  -3.890  1.00  0.00          PT  \nATOM     51   Pt MOL     1     -11.670   3.890   0.000  1.00  0.00          PT  \nATOM     52   Pt MOL     1     -11.670   5.835   1.945  1.00  0.00          PT  \nATOM     53   Pd MOL     1      -9.725   3.890   1.945  1.00  0.00          PD  \nATOM     54   Pd MOL     1      -9.725   5.835   0.000  1.00  0.00          PD  \nATOM     55   Pt MOL     1     -11.670   3.890   3.890  1.00  0.00          PT  \nATOM     56   Pt MOL     1      -9.725   3.890   5.835  1.00  0.00          PT  \nATOM     57   Pt MOL     1      -9.725   5.835   3.890  1.00  0.00          PT  \nATOM     58   Pt MOL     1      -9.725   7.780  -1.945  1.00  0.00          PT  \nATOM     59   Pt MOL     1     -11.670   7.780   0.000  1.00  0.00          PT  \nATOM     60   Pt MOL     1      -9.725   7.780   1.945  1.00  0.00          PT  \nATOM     61   Pt MOL     1      -9.725   9.725   0.000  1.00  0.00          PT  \nATOM     62   Pt MOL     1      -7.780  -9.725  -1.945  1.00  0.00          PT  \nATOM     63   Pt MOL     1      -5.835 -11.670  -1.945  1.00  0.00          PT  \nATOM     64   Pt MOL     1      -5.835  -9.725  -3.890  1.00  0.00          PT  \nATOM     65   Pt MOL     1      -7.780 -11.670   0.000  1.00  0.00          PT  \nATOM     66   Pt MOL     1      -7.780  -9.725   1.945  1.00  0.00          PT  \nATOM     67   Pt MOL     1      -5.835 -11.670   1.945  1.00  0.00          PT  \nATOM     68   Pd MOL     1      -5.835  -9.725   0.000  1.00  0.00          PD  \nATOM     69   Pt MOL     1      -5.835  -9.725   3.890  1.00  0.00          PT  \nATOM     70   Pt MOL     1      -7.780  -5.835  -5.835  1.00  0.00          PT  \nATOM     71   Pt MOL     1      -5.835  -7.780  -5.835  1.00  0.00          PT  \nATOM     72   Pt MOL     1      -5.835  -5.835  -7.780  1.00  0.00          PT  \nATOM     73   Pt MOL     1      -7.780  -7.780  -3.890  1.00  0.00          PT  \nATOM     74   Pd MOL     1      -7.780  -5.835  -1.945  1.00  0.00          PD  \nATOM     75   Pd MOL     1      -5.835  -7.780  -1.945  1.00  0.00          PD  \nATOM     76   Pd MOL     1      -5.835  -5.835  -3.890  1.00  0.00          PD  \nATOM     77   Pd MOL     1      -7.780  -7.780   0.000  1.00  0.00          PD  \nATOM     78   Pd MOL     1      -7.780  -5.835   1.945  1.00  0.00          PD  \nATOM     79   Pd MOL     1      -5.835  -7.780   1.945  1.00  0.00          PD  \nATOM     80   Pd MOL     1      -5.835  -5.835   0.000  1.00  0.00          PD  \nATOM     81   Pt MOL     1      -7.780  -7.780   3.890  1.00  0.00          PT  \nATOM     82   Pt MOL     1      -7.780  -5.835   5.835  1.00  0.00          PT  \nATOM     83   Pt MOL     1      -5.835  -7.780   5.835  1.00  0.00          PT  \nATOM     84   Pd MOL     1      -5.835  -5.835   3.890  1.00  0.00          PD  \nATOM     85   Pt MOL     1      -5.835  -5.835   7.780  1.00  0.00          PT  \nATOM     86   Pt MOL     1      -7.780  -1.945  -9.725  1.00  0.00          PT  \nATOM     87   Pt MOL     1      -5.835  -3.890  -9.725  1.00  0.00          PT  \nATOM     88   Pt MOL     1      -5.835  -1.945 -11.670  1.00  0.00          PT  \nATOM     89   Pt MOL     1      -7.780  -3.890  -7.780  1.00  0.00          PT  \nATOM     90   Pd MOL     1      -7.780  -1.945  -5.835  1.00  0.00          PD  \nATOM     91   Pd MOL     1      -5.835  -3.890  -5.835  1.00  0.00          PD  \nATOM     92   Pd MOL     1      -5.835  -1.945  -7.780  1.00  0.00          PD  \nATOM     93   Pd MOL     1      -7.780  -3.890  -3.890  1.00  0.00          PD  \nATOM     94   Pd MOL     1      -7.780  -1.945  -1.945  1.00  0.00          PD  \nATOM     95   Pd MOL     1      -5.835  -3.890  -1.945  1.00  0.00          PD  \nATOM     96   Pd MOL     1      -5.835  -1.945  -3.890  1.00  0.00          PD  \nATOM     97   Pd MOL     1      -7.780  -3.890   0.000  1.00  0.00          PD  \nATOM     98   Pd MOL     1      -7.780  -1.945   1.945  1.00  0.00          PD  \nATOM     99   Pd MOL     1      -5.835  -3.890   1.945  1.00  0.00          PD  \nATOM    100   Pd MOL     1      -5.835  -1.945   0.000  1.00  0.00          PD  \nATOM    101   Pd MOL     1      -7.780  -3.890   3.890  1.00  0.00          PD  \nATOM    102   Pd MOL     1      -7.780  -1.945   5.835  1.00  0.00          PD  \nATOM    103   Pd MOL     1      -5.835  -3.890   5.835  1.00  0.00          PD  \nATOM    104   Pd MOL     1      -5.835  -1.945   3.890  1.00  0.00          PD  \nATOM    105   Pt MOL     1      -7.780  -3.890   7.780  1.00  0.00          PT  \nATOM    106   Pt MOL     1      -7.780  -1.945   9.725  1.00  0.00          PT  \nATOM    107   Pt MOL     1      -5.835  -3.890   9.725  1.00  0.00          PT  \nATOM    108   Pd MOL     1      -5.835  -1.945   7.780  1.00  0.00          PD  \nATOM    109   Pt MOL     1      -5.835  -1.945  11.670  1.00  0.00          PT  \nATOM    110   Pt MOL     1      -7.780   0.000 -11.670  1.00  0.00          PT  \nATOM    111   Pt MOL     1      -7.780   1.945  -9.725  1.00  0.00          PT  \nATOM    112   Pd MOL     1      -5.835   0.000  -9.725  1.00  0.00          PD  \nATOM    113   Pt MOL     1      -5.835   1.945 -11.670  1.00  0.00          PT  \nATOM    114   Pd MOL     1      -7.780   0.000  -7.780  1.00  0.00          PD  \nATOM    115   Pd MOL     1      -7.780   1.945  -5.835  1.00  0.00          PD  \nATOM    116   Pd MOL     1      -5.835   0.000  -5.835  1.00  0.00          PD  \nATOM    117   Pd MOL     1      -5.835   1.945  -7.780  1.00  0.00          PD  \nATOM    118   Pd MOL     1      -7.780   0.000  -3.890  1.00  0.00          PD  \nATOM    119   Pd MOL     1      -7.780   1.945  -1.945  1.00  0.00          PD  \nATOM    120   Pd MOL     1      -5.835   0.000  -1.945  1.00  0.00          PD  \nATOM    121   Pd MOL     1      -5.835   1.945  -3.890  1.00  0.00          PD  \nATOM    122   Pd MOL     1      -7.780   0.000   0.000  1.00  0.00          PD  \nATOM    123   Pd MOL     1      -7.780   1.945   1.945  1.00  0.00          PD  \nATOM    124   Pd MOL     1      -5.835   0.000   1.945  1.00  0.00          PD  \nATOM    125   Pd MOL     1      -5.835   1.945   0.000  1.00  0.00          PD  \nATOM    126   Pd MOL     1      -7.780   0.000   3.890  1.00  0.00          PD  \nATOM    127   Pd MOL     1      -7.780   1.945   5.835  1.00  0.00          PD  \nATOM    128   Pd MOL     1      -5.835   0.000   5.835  1.00  0.00          PD  \nATOM    129   Pd MOL     1      -5.835   1.945   3.890  1.00  0.00          PD  \nATOM    130   Pd MOL     1      -7.780   0.000   7.780  1.00  0.00          PD  \nATOM    131   Pt MOL     1      -7.780   1.945   9.725  1.00  0.00          PT  \nATOM    132   Pd MOL     1      -5.835   0.000   9.725  1.00  0.00          PD  \nATOM    133   Pd MOL     1      -5.835   1.945   7.780  1.00  0.00          PD  \nATOM    134   Pt MOL     1      -7.780   0.000  11.670  1.00  0.00          PT  \nATOM    135   Pt MOL     1      -5.835   1.945  11.670  1.00  0.00          PT  \nATOM    136   Pt MOL     1      -5.835   3.890  -9.725  1.00  0.00          PT  \nATOM    137   Pt MOL     1      -7.780   3.890  -7.780  1.00  0.00          PT  \nATOM    138   Pt MOL     1      -7.780   5.835  -5.835  1.00  0.00          PT  \nATOM    139   Pd MOL     1      -5.835   3.890  -5.835  1.00  0.00          PD  \nATOM    140   Pt MOL     1      -5.835   5.835  -7.780  1.00  0.00          PT  \nATOM    141   Pd MOL     1      -7.780   3.890  -3.890  1.00  0.00          PD  \nATOM    142   Pd MOL     1      -7.780   5.835  -1.945  1.00  0.00          PD  \nATOM    143   Pd MOL     1      -5.835   3.890  -1.945  1.00  0.00          PD  \nATOM    144   Pd MOL     1      -5.835   5.835  -3.890  1.00  0.00          PD  \nATOM    145   Pd MOL     1      -7.780   3.890   0.000  1.00  0.00          PD  \nATOM    146   Pd MOL     1      -7.780   5.835   1.945  1.00  0.00          PD  \nATOM    147   Pd MOL     1      -5.835   3.890   1.945  1.00  0.00          PD  \nATOM    148   Pd MOL     1      -5.835   5.835   0.000  1.00  0.00          PD  \nATOM    149   Pd MOL     1      -7.780   3.890   3.890  1.00  0.00          PD  \nATOM    150   Pt MOL     1      -7.780   5.835   5.835  1.00  0.00          PT  \nATOM    151   Pd MOL     1      -5.835   3.890   5.835  1.00  0.00          PD  \nATOM    152   Pd MOL     1      -5.835   5.835   3.890  1.00  0.00          PD  \nATOM    153   Pt MOL     1      -7.780   3.890   7.780  1.00  0.00          PT  \nATOM    154   Pt MOL     1      -5.835   3.890   9.725  1.00  0.00          PT  \nATOM    155   Pt MOL     1      -5.835   5.835   7.780  1.00  0.00          PT  \nATOM    156   Pt MOL     1      -5.835   7.780  -5.835  1.00  0.00          PT  \nATOM    157   Pt MOL     1      -7.780   7.780  -3.890  1.00  0.00          PT  \nATOM    158   Pt MOL     1      -7.780   9.725  -1.945  1.00  0.00          PT  \nATOM    159   Pd MOL     1      -5.835   7.780  -1.945  1.00  0.00          PD  \nATOM    160   Pt MOL     1      -5.835   9.725  -3.890  1.00  0.00          PT  \nATOM    161   Pd MOL     1      -7.780   7.780   0.000  1.00  0.00          PD  \nATOM    162   Pt MOL     1      -7.780   9.725   1.945  1.00  0.00          PT  \nATOM    163   Pd MOL     1      -5.835   7.780   1.945  1.00  0.00          PD  \nATOM    164   Pd MOL     1      -5.835   9.725   0.000  1.00  0.00          PD  \nATOM    165   Pt MOL     1      -7.780   7.780   3.890  1.00  0.00          PT  \nATOM    166   Pt MOL     1      -5.835   7.780   5.835  1.00  0.00          PT  \nATOM    167   Pt MOL     1      -5.835   9.725   3.890  1.00  0.00          PT  \nATOM    168   Pt MOL     1      -5.835  11.670  -1.945  1.00  0.00          PT  \nATOM    169   Pt MOL     1      -7.780  11.670   0.000  1.00  0.00          PT  \nATOM    170   Pt MOL     1      -5.835  11.670   1.945  1.00  0.00          PT  \nATOM    171   Pt MOL     1      -3.890  -9.725  -5.835  1.00  0.00          PT  \nATOM    172   Pt MOL     1      -1.945 -11.670  -5.835  1.00  0.00          PT  \nATOM    173   Pt MOL     1      -1.945  -9.725  -7.780  1.00  0.00          PT  \nATOM    174   Pt MOL     1      -3.890 -11.670  -3.890  1.00  0.00          PT  \nATOM    175   Pd MOL     1      -3.890  -9.725  -1.945  1.00  0.00          PD  \nATOM    176   Pt MOL     1      -1.945 -11.670  -1.945  1.00  0.00          PT  \nATOM    177   Pd MOL     1      -1.945  -9.725  -3.890  1.00  0.00          PD  \nATOM    178   Pt MOL     1      -3.890 -11.670   0.000  1.00  0.00          PT  \nATOM    179   Pd MOL     1      -3.890  -9.725   1.945  1.00  0.00          PD  \nATOM    180   Pt MOL     1      -1.945 -11.670   1.945  1.00  0.00          PT  \nATOM    181   Pd MOL     1      -1.945  -9.725   0.000  1.00  0.00          PD  \nATOM    182   Pt MOL     1      -3.890 -11.670   3.890  1.00  0.00          PT  \nATOM    183   Pt MOL     1      -3.890  -9.725   5.835  1.00  0.00          PT  \nATOM    184   Pt MOL     1      -1.945 -11.670   5.835  1.00  0.00          PT  \nATOM    185   Pd MOL     1      -1.945  -9.725   3.890  1.00  0.00          PD  \nATOM    186   Pt MOL     1      -1.945  -9.725   7.780  1.00  0.00          PT  \nATOM    187   Pt MOL     1      -3.890  -5.835  -9.725  1.00  0.00          PT  \nATOM    188   Pt MOL     1      -1.945  -7.780  -9.725  1.00  0.00          PT  \nATOM    189   Pt MOL     1      -1.945  -5.835 -11.670  1.00  0.00          PT  \nATOM    190   Pt MOL     1      -3.890  -7.780  -7.780  1.00  0.00          PT  \nATOM    191   Pd MOL     1      -3.890  -5.835  -5.835  1.00  0.00          PD  \nATOM    192   Pd MOL     1      -1.945  -7.780  -5.835  1.00  0.00          PD  \nATOM    193   Pd MOL     1      -1.945  -5.835  -7.780  1.00  0.00          PD  \nATOM    194   Pd MOL     1      -3.890  -7.780  -3.890  1.00  0.00          PD  \nATOM    195   Pd MOL     1      -3.890  -5.835  -1.945  1.00  0.00          PD  \nATOM    196   Pd MOL     1      -1.945  -7.780  -1.945  1.00  0.00          PD  \nATOM    197   Pd MOL     1      -1.945  -5.835  -3.890  1.00  0.00          PD  \nATOM    198   Pd MOL     1      -3.890  -7.780   0.000  1.00  0.00          PD  \nATOM    199   Pd MOL     1      -3.890  -5.835   1.945  1.00  0.00          PD  \nATOM    200   Pd MOL     1      -1.945  -7.780   1.945  1.00  0.00          PD  \nATOM    201   Pd MOL     1      -1.945  -5.835   0.000  1.00  0.00          PD  \nATOM    202   Pd MOL     1      -3.890  -7.780   3.890  1.00  0.00          PD  \nATOM    203   Pd MOL     1      -3.890  -5.835   5.835  1.00  0.00          PD  \nATOM    204   Pd MOL     1      -1.945  -7.780   5.835  1.00  0.00          PD  \nATOM    205   Pd MOL     1      -1.945  -5.835   3.890  1.00  0.00          PD  \nATOM    206   Pt MOL     1      -3.890  -7.780   7.780  1.00  0.00          PT  \nATOM    207   Pt MOL     1      -3.890  -5.835   9.725  1.00  0.00          PT  \nATOM    208   Pt MOL     1      -1.945  -7.780   9.725  1.00  0.00          PT  \nATOM    209   Pd MOL     1      -1.945  -5.835   7.780  1.00  0.00          PD  \nATOM    210   Pt MOL     1      -1.945  -5.835  11.670  1.00  0.00          PT  \nATOM    211   Pt MOL     1      -3.890  -3.890 -11.670  1.00  0.00          PT  \nATOM    212   Pd MOL     1      -3.890  -1.945  -9.725  1.00  0.00          PD  \nATOM    213   Pd MOL     1      -1.945  -3.890  -9.725  1.00  0.00          PD  \nATOM    214   Pt MOL     1      -1.945  -1.945 -11.670  1.00  0.00          PT  \nATOM    215   Pd MOL     1      -3.890  -3.890  -7.780  1.00  0.00          PD  \nATOM    216   Pd MOL     1      -3.890  -1.945  -5.835  1.00  0.00          PD  \nATOM    217   Pd MOL     1      -1.945  -3.890  -5.835  1.00  0.00          PD  \nATOM    218   Pd MOL     1      -1.945  -1.945  -7.780  1.00  0.00          PD  \nATOM    219   Pd MOL     1      -3.890  -3.890  -3.890  1.00  0.00          PD  \nATOM    220   Pd MOL     1      -3.890  -1.945  -1.945  1.00  0.00          PD  \nATOM    221   Pd MOL     1      -1.945  -3.890  -1.945  1.00  0.00          PD  \nATOM    222   Pd MOL     1      -1.945  -1.945  -3.890  1.00  0.00          PD  \nATOM    223   Pd MOL     1      -3.890  -3.890   0.000  1.00  0.00          PD  \nATOM    224   Pd MOL     1      -3.890  -1.945   1.945  1.00  0.00          PD  \nATOM    225   Pd MOL     1      -1.945  -3.890   1.945  1.00  0.00          PD  \nATOM    226   Pd MOL     1      -1.945  -1.945   0.000  1.00  0.00          PD  \nATOM    227   Pd MOL     1      -3.890  -3.890   3.890  1.00  0.00          PD  \nATOM    228   Pd MOL     1      -3.890  -1.945   5.835  1.00  0.00          PD  \nATOM    229   Pd MOL     1      -1.945  -3.890   5.835  1.00  0.00          PD  \nATOM    230   Pd MOL     1      -1.945  -1.945   3.890  1.00  0.00          PD  \nATOM    231   Pd MOL     1      -3.890  -3.890   7.780  1.00  0.00          PD  \nATOM    232   Pd MOL     1      -3.890  -1.945   9.725  1.00  0.00          PD  \nATOM    233   Pd MOL     1      -1.945  -3.890   9.725  1.00  0.00          PD  \nATOM    234   Pd MOL     1      -1.945  -1.945   7.780  1.00  0.00          PD  \nATOM    235   Pt MOL     1      -3.890  -3.890  11.670  1.00  0.00          PT  \nATOM    236   Pt MOL     1      -1.945  -1.945  11.670  1.00  0.00          PT  \nATOM    237   Pt MOL     1      -3.890   0.000 -11.670  1.00  0.00          PT  \nATOM    238   Pd MOL     1      -3.890   1.945  -9.725  1.00  0.00          PD  \nATOM    239   Pd MOL     1      -1.945   0.000  -9.725  1.00  0.00          PD  \nATOM    240   Pt MOL     1      -1.945   1.945 -11.670  1.00  0.00          PT  \nATOM    241   Pd MOL     1      -3.890   0.000  -7.780  1.00  0.00          PD  \nATOM    242   Pd MOL     1      -3.890   1.945  -5.835  1.00  0.00          PD  \nATOM    243   Pd MOL     1      -1.945   0.000  -5.835  1.00  0.00          PD  \nATOM    244   Pd MOL     1      -1.945   1.945  -7.780  1.00  0.00          PD  \nATOM    245   Pd MOL     1      -3.890   0.000  -3.890  1.00  0.00          PD  \nATOM    246   Pd MOL     1      -3.890   1.945  -1.945  1.00  0.00          PD  \nATOM    247   Pd MOL     1      -1.945   0.000  -1.945  1.00  0.00          PD  \nATOM    248   Pd MOL     1      -1.945   1.945  -3.890  1.00  0.00          PD  \nATOM    249   Pd MOL     1      -3.890   0.000   0.000  1.00  0.00          PD  \nATOM    250   Pd MOL     1      -3.890   1.945   1.945  1.00  0.00          PD  \nATOM    251   Pd MOL     1      -1.945   0.000   1.945  1.00  0.00          PD  \nATOM    252   Pd MOL     1      -1.945   1.945   0.000  1.00  0.00          PD  \nATOM    253   Pd MOL     1      -3.890   0.000   3.890  1.00  0.00          PD  \nATOM    254   Pd MOL     1      -3.890   1.945   5.835  1.00  0.00          PD  \nATOM    255   Pd MOL     1      -1.945   0.000   5.835  1.00  0.00          PD  \nATOM    256   Pd MOL     1      -1.945   1.945   3.890  1.00  0.00          PD  \nATOM    257   Pd MOL     1      -3.890   0.000   7.780  1.00  0.00          PD  \nATOM    258   Pd MOL     1      -3.890   1.945   9.725  1.00  0.00          PD  \nATOM    259   Pd MOL     1      -1.945   0.000   9.725  1.00  0.00          PD  \nATOM    260   Pd MOL     1      -1.945   1.945   7.780  1.00  0.00          PD  \nATOM    261   Pt MOL     1      -3.890   0.000  11.670  1.00  0.00          PT  \nATOM    262   Pt MOL     1      -1.945   1.945  11.670  1.00  0.00          PT  \nATOM    263   Pt MOL     1      -3.890   3.890 -11.670  1.00  0.00          PT  \nATOM    264   Pt MOL     1      -3.890   5.835  -9.725  1.00  0.00          PT  \nATOM    265   Pd MOL     1      -1.945   3.890  -9.725  1.00  0.00          PD  \nATOM    266   Pt MOL     1      -1.945   5.835 -11.670  1.00  0.00          PT  \nATOM    267   Pd MOL     1      -3.890   3.890  -7.780  1.00  0.00          PD  \nATOM    268   Pd MOL     1      -3.890   5.835  -5.835  1.00  0.00          PD  \nATOM    269   Pd MOL     1      -1.945   3.890  -5.835  1.00  0.00          PD  \nATOM    270   Pd MOL     1      -1.945   5.835  -7.780  1.00  0.00          PD  \nATOM    271   Pd MOL     1      -3.890   3.890  -3.890  1.00  0.00          PD  \nATOM    272   Pd MOL     1      -3.890   5.835  -1.945  1.00  0.00          PD  \nATOM    273   Pd MOL     1      -1.945   3.890  -1.945  1.00  0.00          PD  \nATOM    274   Pd MOL     1      -1.945   5.835  -3.890  1.00  0.00          PD  \nATOM    275   Pd MOL     1      -3.890   3.890   0.000  1.00  0.00          PD  \nATOM    276   Pd MOL     1      -3.890   5.835   1.945  1.00  0.00          PD  \nATOM    277   Pd MOL     1      -1.945   3.890   1.945  1.00  0.00          PD  \nATOM    278   Pd MOL     1      -1.945   5.835   0.000  1.00  0.00          PD  \nATOM    279   Pd MOL     1      -3.890   3.890   3.890  1.00  0.00          PD  \nATOM    280   Pd MOL     1      -3.890   5.835   5.835  1.00  0.00          PD  \nATOM    281   Pd MOL     1      -1.945   3.890   5.835  1.00  0.00          PD  \nATOM    282   Pd MOL     1      -1.945   5.835   3.890  1.00  0.00          PD  \nATOM    283   Pd MOL     1      -3.890   3.890   7.780  1.00  0.00          PD  \nATOM    284   Pt MOL     1      -3.890   5.835   9.725  1.00  0.00          PT  \nATOM    285   Pd MOL     1      -1.945   3.890   9.725  1.00  0.00          PD  \nATOM    286   Pd MOL     1      -1.945   5.835   7.780  1.00  0.00          PD  \nATOM    287   Pt MOL     1      -3.890   3.890  11.670  1.00  0.00          PT  \nATOM    288   Pt MOL     1      -1.945   5.835  11.670  1.00  0.00          PT  \nATOM    289   Pt MOL     1      -1.945   7.780  -9.725  1.00  0.00          PT  \nATOM    290   Pt MOL     1      -3.890   7.780  -7.780  1.00  0.00          PT  \nATOM    291   Pt MOL     1      -3.890   9.725  -5.835  1.00  0.00          PT  \nATOM    292   Pd MOL     1      -1.945   7.780  -5.835  1.00  0.00          PD  \nATOM    293   Pt MOL     1      -1.945   9.725  -7.780  1.00  0.00          PT  \nATOM    294   Pd MOL     1      -3.890   7.780  -3.890  1.00  0.00          PD  \nATOM    295   Pd MOL     1      -3.890   9.725  -1.945  1.00  0.00          PD  \nATOM    296   Pd MOL     1      -1.945   7.780  -1.945  1.00  0.00          PD  \nATOM    297   Pd MOL     1      -1.945   9.725  -3.890  1.00  0.00          PD  \nATOM    298   Pd MOL     1      -3.890   7.780   0.000  1.00  0.00          PD  \nATOM    299   Pd MOL     1      -3.890   9.725   1.945  1.00  0.00          PD  \nATOM    300   Pd MOL     1      -1.945   7.780   1.945  1.00  0.00          PD  \nATOM    301   Pd MOL     1      -1.945   9.725   0.000  1.00  0.00          PD  \nATOM    302   Pd MOL     1      -3.890   7.780   3.890  1.00  0.00          PD  \nATOM    303   Pt MOL     1      -3.890   9.725   5.835  1.00  0.00          PT  \nATOM    304   Pd MOL     1      -1.945   7.780   5.835  1.00  0.00          PD  \nATOM    305   Pd MOL     1      -1.945   9.725   3.890  1.00  0.00          PD  \nATOM    306   Pt MOL     1      -3.890   7.780   7.780  1.00  0.00          PT  \nATOM    307   Pt MOL     1      -1.945   7.780   9.725  1.00  0.00          PT  \nATOM    308   Pt MOL     1      -1.945   9.725   7.780  1.00  0.00          PT  \nATOM    309   Pt MOL     1      -1.945  11.670  -5.835  1.00  0.00          PT  \nATOM    310   Pt MOL     1      -3.890  11.670  -3.890  1.00  0.00          PT  \nATOM    311   Pt MOL     1      -1.945  11.670  -1.945  1.00  0.00          PT  \nATOM    312   Pt MOL     1      -3.890  11.670   0.000  1.00  0.00          PT  \nATOM    313   Pt MOL     1      -1.945  11.670   1.945  1.00  0.00          PT  \nATOM    314   Pt MOL     1      -3.890  11.670   3.890  1.00  0.00          PT  \nATOM    315   Pt MOL     1      -1.945  11.670   5.835  1.00  0.00          PT  \nATOM    316   Pt MOL     1       0.000  -9.725  -9.725  1.00  0.00          PT  \nATOM    317   Pt MOL     1       0.000 -11.670  -7.780  1.00  0.00          PT  \nATOM    318   Pd MOL     1       0.000  -9.725  -5.835  1.00  0.00          PD  \nATOM    319   Pt MOL     1       1.945 -11.670  -5.835  1.00  0.00          PT  \nATOM    320   Pt MOL     1       1.945  -9.725  -7.780  1.00  0.00          PT  \nATOM    321   Pt MOL     1       0.000 -11.670  -3.890  1.00  0.00          PT  \nATOM    322   Pd MOL     1       0.000  -9.725  -1.945  1.00  0.00          PD  \nATOM    323   Pt MOL     1       1.945 -11.670  -1.945  1.00  0.00          PT  \nATOM    324   Pd MOL     1       1.945  -9.725  -3.890  1.00  0.00          PD  \nATOM    325   Pt MOL     1       0.000 -11.670   0.000  1.00  0.00          PT  \nATOM    326   Pd MOL     1       0.000  -9.725   1.945  1.00  0.00          PD  \nATOM    327   Pt MOL     1       1.945 -11.670   1.945  1.00  0.00          PT  \nATOM    328   Pd MOL     1       1.945  -9.725   0.000  1.00  0.00          PD  \nATOM    329   Pt MOL     1       0.000 -11.670   3.890  1.00  0.00          PT  \nATOM    330   Pd MOL     1       0.000  -9.725   5.835  1.00  0.00          PD  \nATOM    331   Pt MOL     1       1.945 -11.670   5.835  1.00  0.00          PT  \nATOM    332   Pd MOL     1       1.945  -9.725   3.890  1.00  0.00          PD  \nATOM    333   Pt MOL     1       0.000 -11.670   7.780  1.00  0.00          PT  \nATOM    334   Pt MOL     1       0.000  -9.725   9.725  1.00  0.00          PT  \nATOM    335   Pt MOL     1       1.945  -9.725   7.780  1.00  0.00          PT  \nATOM    336   Pt MOL     1       0.000  -7.780 -11.670  1.00  0.00          PT  \nATOM    337   Pd MOL     1       0.000  -5.835  -9.725  1.00  0.00          PD  \nATOM    338   Pt MOL     1       1.945  -7.780  -9.725  1.00  0.00          PT  \nATOM    339   Pt MOL     1       1.945  -5.835 -11.670  1.00  0.00          PT  \nATOM    340   Pd MOL     1       0.000  -7.780  -7.780  1.00  0.00          PD  \nATOM    341   Pd MOL     1       0.000  -5.835  -5.835  1.00  0.00          PD  \nATOM    342   Pd MOL     1       1.945  -7.780  -5.835  1.00  0.00          PD  \nATOM    343   Pd MOL     1       1.945  -5.835  -7.780  1.00  0.00          PD  \nATOM    344   Pd MOL     1       0.000  -7.780  -3.890  1.00  0.00          PD  \nATOM    345   Pd MOL     1       0.000  -5.835  -1.945  1.00  0.00          PD  \nATOM    346   Pd MOL     1       1.945  -7.780  -1.945  1.00  0.00          PD  \nATOM    347   Pd MOL     1       1.945  -5.835  -3.890  1.00  0.00          PD  \nATOM    348   Pd MOL     1       0.000  -7.780   0.000  1.00  0.00          PD  \nATOM    349   Pd MOL     1       0.000  -5.835   1.945  1.00  0.00          PD  \nATOM    350   Pd MOL     1       1.945  -7.780   1.945  1.00  0.00          PD  \nATOM    351   Pd MOL     1       1.945  -5.835   0.000  1.00  0.00          PD  \nATOM    352   Pd MOL     1       0.000  -7.780   3.890  1.00  0.00          PD  \nATOM    353   Pd MOL     1       0.000  -5.835   5.835  1.00  0.00          PD  \nATOM    354   Pd MOL     1       1.945  -7.780   5.835  1.00  0.00          PD  \nATOM    355   Pd MOL     1       1.945  -5.835   3.890  1.00  0.00          PD  \nATOM    356   Pd MOL     1       0.000  -7.780   7.780  1.00  0.00          PD  \nATOM    357   Pd MOL     1       0.000  -5.835   9.725  1.00  0.00          PD  \nATOM    358   Pt MOL     1       1.945  -7.780   9.725  1.00  0.00          PT  \nATOM    359   Pd MOL     1       1.945  -5.835   7.780  1.00  0.00          PD  \nATOM    360   Pt MOL     1       0.000  -7.780  11.670  1.00  0.00          PT  \nATOM    361   Pt MOL     1       1.945  -5.835  11.670  1.00  0.00          PT  \nATOM    362   Pt MOL     1       0.000  -3.890 -11.670  1.00  0.00          PT  \nATOM    363   Pd MOL     1       0.000  -1.945  -9.725  1.00  0.00          PD  \nATOM    364   Pd MOL     1       1.945  -3.890  -9.725  1.00  0.00          PD  \nATOM    365   Pt MOL     1       1.945  -1.945 -11.670  1.00  0.00          PT  \nATOM    366   Pd MOL     1       0.000  -3.890  -7.780  1.00  0.00          PD  \nATOM    367   Pd MOL     1       0.000  -1.945  -5.835  1.00  0.00          PD  \nATOM    368   Pd MOL     1       1.945  -3.890  -5.835  1.00  0.00          PD  \nATOM    369   Pd MOL     1       1.945  -1.945  -7.780  1.00  0.00          PD  \nATOM    370   Pd MOL     1       0.000  -3.890  -3.890  1.00  0.00          PD  \nATOM    371   Pd MOL     1       0.000  -1.945  -1.945  1.00  0.00          PD  \nATOM    372   Pd MOL     1       1.945  -3.890  -1.945  1.00  0.00          PD  \nATOM    373   Pd MOL     1       1.945  -1.945  -3.890  1.00  0.00          PD  \nATOM    374   Pd MOL     1       0.000  -3.890   0.000  1.00  0.00          PD  \nATOM    375   Pd MOL     1       0.000  -1.945   1.945  1.00  0.00          PD  \nATOM    376   Pd MOL     1       1.945  -3.890   1.945  1.00  0.00          PD  \nATOM    377   Pd MOL     1       1.945  -1.945   0.000  1.00  0.00          PD  \nATOM    378   Pd MOL     1       0.000  -3.890   3.890  1.00  0.00          PD  \nATOM    379   Pd MOL     1       0.000  -1.945   5.835  1.00  0.00          PD  \nATOM    380   Pd MOL     1       1.945  -3.890   5.835  1.00  0.00          PD  \nATOM    381   Pd MOL     1       1.945  -1.945   3.890  1.00  0.00          PD  \nATOM    382   Pd MOL     1       0.000  -3.890   7.780  1.00  0.00          PD  \nATOM    383   Pd MOL     1       0.000  -1.945   9.725  1.00  0.00          PD  \nATOM    384   Pd MOL     1       1.945  -3.890   9.725  1.00  0.00          PD  \nATOM    385   Pd MOL     1       1.945  -1.945   7.780  1.00  0.00          PD  \nATOM    386   Pt MOL     1       0.000  -3.890  11.670  1.00  0.00          PT  \nATOM    387   Pt MOL     1       1.945  -1.945  11.670  1.00  0.00          PT  \nATOM    388   Pt MOL     1       0.000   0.000 -11.670  1.00  0.00          PT  \nATOM    389   Pd MOL     1       0.000   1.945  -9.725  1.00  0.00          PD  \nATOM    390   Pd MOL     1       1.945   0.000  -9.725  1.00  0.00          PD  \nATOM    391   Pt MOL     1       1.945   1.945 -11.670  1.00  0.00          PT  \nATOM    392   Pd MOL     1       0.000   0.000  -7.780  1.00  0.00          PD  \nATOM    393   Pd MOL     1       0.000   1.945  -5.835  1.00  0.00          PD  \nATOM    394   Pd MOL     1       1.945   0.000  -5.835  1.00  0.00          PD  \nATOM    395   Pd MOL     1       1.945   1.945  -7.780  1.00  0.00          PD  \nATOM    396   Pd MOL     1       0.000   0.000  -3.890  1.00  0.00          PD  \nATOM    397   Pd MOL     1       0.000   1.945  -1.945  1.00  0.00          PD  \nATOM    398   Pd MOL     1       1.945   0.000  -1.945  1.00  0.00          PD  \nATOM    399   Pd MOL     1       1.945   1.945  -3.890  1.00  0.00          PD  \nATOM    400   Pd MOL     1       0.000   0.000   0.000  1.00  0.00          PD  \nATOM    401   Pd MOL     1       0.000   1.945   1.945  1.00  0.00          PD  \nATOM    402   Pd MOL     1       1.945   0.000   1.945  1.00  0.00          PD  \nATOM    403   Pd MOL     1       1.945   1.945   0.000  1.00  0.00          PD  \nATOM    404   Pd MOL     1       0.000   0.000   3.890  1.00  0.00          PD  \nATOM    405   Pd MOL     1       0.000   1.945   5.835  1.00  0.00          PD  \nATOM    406   Pd MOL     1       1.945   0.000   5.835  1.00  0.00          PD  \nATOM    407   Pd MOL     1       1.945   1.945   3.890  1.00  0.00          PD  \nATOM    408   Pd MOL     1       0.000   0.000   7.780  1.00  0.00          PD  \nATOM    409   Pd MOL     1       0.000   1.945   9.725  1.00  0.00          PD  \nATOM    410   Pd MOL     1       1.945   0.000   9.725  1.00  0.00          PD  \nATOM    411   Pd MOL     1       1.945   1.945   7.780  1.00  0.00          PD  \nATOM    412   Pt MOL     1       0.000   0.000  11.670  1.00  0.00          PT  \nATOM    413   Pt MOL     1       1.945   1.945  11.670  1.00  0.00          PT  \nATOM    414   Pt MOL     1       0.000   3.890 -11.670  1.00  0.00          PT  \nATOM    415   Pd MOL     1       0.000   5.835  -9.725  1.00  0.00          PD  \nATOM    416   Pd MOL     1       1.945   3.890  -9.725  1.00  0.00          PD  \nATOM    417   Pt MOL     1       1.945   5.835 -11.670  1.00  0.00          PT  \nATOM    418   Pd MOL     1       0.000   3.890  -7.780  1.00  0.00          PD  \nATOM    419   Pd MOL     1       0.000   5.835  -5.835  1.00  0.00          PD  \nATOM    420   Pd MOL     1       1.945   3.890  -5.835  1.00  0.00          PD  \nATOM    421   Pd MOL     1       1.945   5.835  -7.780  1.00  0.00          PD  \nATOM    422   Pd MOL     1       0.000   3.890  -3.890  1.00  0.00          PD  \nATOM    423   Pd MOL     1       0.000   5.835  -1.945  1.00  0.00          PD  \nATOM    424   Pd MOL     1       1.945   3.890  -1.945  1.00  0.00          PD  \nATOM    425   Pd MOL     1       1.945   5.835  -3.890  1.00  0.00          PD  \nATOM    426   Pd MOL     1       0.000   3.890   0.000  1.00  0.00          PD  \nATOM    427   Pd MOL     1       0.000   5.835   1.945  1.00  0.00          PD  \nATOM    428   Pd MOL     1       1.945   3.890   1.945  1.00  0.00          PD  \nATOM    429   Pd MOL     1       1.945   5.835   0.000  1.00  0.00          PD  \nATOM    430   Pd MOL     1       0.000   3.890   3.890  1.00  0.00          PD  \nATOM    431   Pd MOL     1       0.000   5.835   5.835  1.00  0.00          PD  \nATOM    432   Pd MOL     1       1.945   3.890   5.835  1.00  0.00          PD  \nATOM    433   Pd MOL     1       1.945   5.835   3.890  1.00  0.00          PD  \nATOM    434   Pd MOL     1       0.000   3.890   7.780  1.00  0.00          PD  \nATOM    435   Pd MOL     1       0.000   5.835   9.725  1.00  0.00          PD  \nATOM    436   Pd MOL     1       1.945   3.890   9.725  1.00  0.00          PD  \nATOM    437   Pd MOL     1       1.945   5.835   7.780  1.00  0.00          PD  \nATOM    438   Pt MOL     1       0.000   3.890  11.670  1.00  0.00          PT  \nATOM    439   Pt MOL     1       1.945   5.835  11.670  1.00  0.00          PT  \nATOM    440   Pt MOL     1       0.000   7.780 -11.670  1.00  0.00          PT  \nATOM    441   Pt MOL     1       0.000   9.725  -9.725  1.00  0.00          PT  \nATOM    442   Pt MOL     1       1.945   7.780  -9.725  1.00  0.00          PT  \nATOM    443   Pd MOL     1       0.000   7.780  -7.780  1.00  0.00          PD  \nATOM    444   Pd MOL     1       0.000   9.725  -5.835  1.00  0.00          PD  \nATOM    445   Pd MOL     1       1.945   7.780  -5.835  1.00  0.00          PD  \nATOM    446   Pt MOL     1       1.945   9.725  -7.780  1.00  0.00          PT  \nATOM    447   Pd MOL     1       0.000   7.780  -3.890  1.00  0.00          PD  \nATOM    448   Pd MOL     1       0.000   9.725  -1.945  1.00  0.00          PD  \nATOM    449   Pd MOL     1       1.945   7.780  -1.945  1.00  0.00          PD  \nATOM    450   Pd MOL     1       1.945   9.725  -3.890  1.00  0.00          PD  \nATOM    451   Pd MOL     1       0.000   7.780   0.000  1.00  0.00          PD  \nATOM    452   Pd MOL     1       0.000   9.725   1.945  1.00  0.00          PD  \nATOM    453   Pd MOL     1       1.945   7.780   1.945  1.00  0.00          PD  \nATOM    454   Pd MOL     1       1.945   9.725   0.000  1.00  0.00          PD  \nATOM    455   Pd MOL     1       0.000   7.780   3.890  1.00  0.00          PD  \nATOM    456   Pd MOL     1       0.000   9.725   5.835  1.00  0.00          PD  \nATOM    457   Pd MOL     1       1.945   7.780   5.835  1.00  0.00          PD  \nATOM    458   Pd MOL     1       1.945   9.725   3.890  1.00  0.00          PD  \nATOM    459   Pd MOL     1       0.000   7.780   7.780  1.00  0.00          PD  \nATOM    460   Pt MOL     1       0.000   9.725   9.725  1.00  0.00          PT  \nATOM    461   Pt MOL     1       1.945   7.780   9.725  1.00  0.00          PT  \nATOM    462   Pt MOL     1       1.945   9.725   7.780  1.00  0.00          PT  \nATOM    463   Pt MOL     1       0.000   7.780  11.670  1.00  0.00          PT  \nATOM    464   Pt MOL     1       0.000  11.670  -7.780  1.00  0.00          PT  \nATOM    465   Pt MOL     1       1.945  11.670  -5.835  1.00  0.00          PT  \nATOM    466   Pt MOL     1       0.000  11.670  -3.890  1.00  0.00          PT  \nATOM    467   Pt MOL     1       1.945  11.670  -1.945  1.00  0.00          PT  \nATOM    468   Pt MOL     1       0.000  11.670   0.000  1.00  0.00          PT  \nATOM    469   Pt MOL     1       1.945  11.670   1.945  1.00  0.00          PT  \nATOM    470   Pt MOL     1       0.000  11.670   3.890  1.00  0.00          PT  \nATOM    471   Pt MOL     1       1.945  11.670   5.835  1.00  0.00          PT  \nATOM    472   Pt MOL     1       0.000  11.670   7.780  1.00  0.00          PT  \nATOM    473   Pt MOL     1       3.890  -9.725  -5.835  1.00  0.00          PT  \nATOM    474   Pt MOL     1       3.890 -11.670  -3.890  1.00  0.00          PT  \nATOM    475   Pd MOL     1       3.890  -9.725  -1.945  1.00  0.00          PD  \nATOM    476   Pt MOL     1       5.835 -11.670  -1.945  1.00  0.00          PT  \nATOM    477   Pt MOL     1       5.835  -9.725  -3.890  1.00  0.00          PT  \nATOM    478   Pt MOL     1       3.890 -11.670   0.000  1.00  0.00          PT  \nATOM    479   Pd MOL     1       3.890  -9.725   1.945  1.00  0.00          PD  \nATOM    480   Pt MOL     1       5.835 -11.670   1.945  1.00  0.00          PT  \nATOM    481   Pd MOL     1       5.835  -9.725   0.000  1.00  0.00          PD  \nATOM    482   Pt MOL     1       3.890 -11.670   3.890  1.00  0.00          PT  \nATOM    483   Pt MOL     1       3.890  -9.725   5.835  1.00  0.00          PT  \nATOM    484   Pt MOL     1       5.835  -9.725   3.890  1.00  0.00          PT  \nATOM    485   Pt MOL     1       3.890  -5.835  -9.725  1.00  0.00          PT  \nATOM    486   Pt MOL     1       3.890  -7.780  -7.780  1.00  0.00          PT  \nATOM    487   Pd MOL     1       3.890  -5.835  -5.835  1.00  0.00          PD  \nATOM    488   Pt MOL     1       5.835  -7.780  -5.835  1.00  0.00          PT  \nATOM    489   Pt MOL     1       5.835  -5.835  -7.780  1.00  0.00          PT  \nATOM    490   Pd MOL     1       3.890  -7.780  -3.890  1.00  0.00          PD  \nATOM    491   Pd MOL     1       3.890  -5.835  -1.945  1.00  0.00          PD  \nATOM    492   Pd MOL     1       5.835  -7.780  -1.945  1.00  0.00          PD  \nATOM    493   Pd MOL     1       5.835  -5.835  -3.890  1.00  0.00          PD  \nATOM    494   Pd MOL     1       3.890  -7.780   0.000  1.00  0.00          PD  \nATOM    495   Pd MOL     1       3.890  -5.835   1.945  1.00  0.00          PD  \nATOM    496   Pd MOL     1       5.835  -7.780   1.945  1.00  0.00          PD  \nATOM    497   Pd MOL     1       5.835  -5.835   0.000  1.00  0.00          PD  \nATOM    498   Pd MOL     1       3.890  -7.780   3.890  1.00  0.00          PD  \nATOM    499   Pd MOL     1       3.890  -5.835   5.835  1.00  0.00          PD  \nATOM    500   Pt MOL     1       5.835  -7.780   5.835  1.00  0.00          PT  \nATOM    501   Pd MOL     1       5.835  -5.835   3.890  1.00  0.00          PD  \nATOM    502   Pt MOL     1       3.890  -7.780   7.780  1.00  0.00          PT  \nATOM    503   Pt MOL     1       3.890  -5.835   9.725  1.00  0.00          PT  \nATOM    504   Pt MOL     1       5.835  -5.835   7.780  1.00  0.00          PT  \nATOM    505   Pt MOL     1       3.890  -3.890 -11.670  1.00  0.00          PT  \nATOM    506   Pd MOL     1       3.890  -1.945  -9.725  1.00  0.00          PD  \nATOM    507   Pt MOL     1       5.835  -3.890  -9.725  1.00  0.00          PT  \nATOM    508   Pt MOL     1       5.835  -1.945 -11.670  1.00  0.00          PT  \nATOM    509   Pd MOL     1       3.890  -3.890  -7.780  1.00  0.00          PD  \nATOM    510   Pd MOL     1       3.890  -1.945  -5.835  1.00  0.00          PD  \nATOM    511   Pd MOL     1       5.835  -3.890  -5.835  1.00  0.00          PD  \nATOM    512   Pd MOL     1       5.835  -1.945  -7.780  1.00  0.00          PD  \nATOM    513   Pd MOL     1       3.890  -3.890  -3.890  1.00  0.00          PD  \nATOM    514   Pd MOL     1       3.890  -1.945  -1.945  1.00  0.00          PD  \nATOM    515   Pd MOL     1       5.835  -3.890  -1.945  1.00  0.00          PD  \nATOM    516   Pd MOL     1       5.835  -1.945  -3.890  1.00  0.00          PD  \nATOM    517   Pd MOL     1       3.890  -3.890   0.000  1.00  0.00          PD  \nATOM    518   Pd MOL     1       3.890  -1.945   1.945  1.00  0.00          PD  \nATOM    519   Pd MOL     1       5.835  -3.890   1.945  1.00  0.00          PD  \nATOM    520   Pd MOL     1       5.835  -1.945   0.000  1.00  0.00          PD  \nATOM    521   Pd MOL     1       3.890  -3.890   3.890  1.00  0.00          PD  \nATOM    522   Pd MOL     1       3.890  -1.945   5.835  1.00  0.00          PD  \nATOM    523   Pd MOL     1       5.835  -3.890   5.835  1.00  0.00          PD  \nATOM    524   Pd MOL     1       5.835  -1.945   3.890  1.00  0.00          PD  \nATOM    525   Pd MOL     1       3.890  -3.890   7.780  1.00  0.00          PD  \nATOM    526   Pd MOL     1       3.890  -1.945   9.725  1.00  0.00          PD  \nATOM    527   Pt MOL     1       5.835  -3.890   9.725  1.00  0.00          PT  \nATOM    528   Pd MOL     1       5.835  -1.945   7.780  1.00  0.00          PD  \nATOM    529   Pt MOL     1       3.890  -3.890  11.670  1.00  0.00          PT  \nATOM    530   Pt MOL     1       5.835  -1.945  11.670  1.00  0.00          PT  \nATOM    531   Pt MOL     1       3.890   0.000 -11.670  1.00  0.00          PT  \nATOM    532   Pd MOL     1       3.890   1.945  -9.725  1.00  0.00          PD  \nATOM    533   Pd MOL     1       5.835   0.000  -9.725  1.00  0.00          PD  \nATOM    534   Pt MOL     1       5.835   1.945 -11.670  1.00  0.00          PT  \nATOM    535   Pd MOL     1       3.890   0.000  -7.780  1.00  0.00          PD  \nATOM    536   Pd MOL     1       3.890   1.945  -5.835  1.00  0.00          PD  \nATOM    537   Pd MOL     1       5.835   0.000  -5.835  1.00  0.00          PD  \nATOM    538   Pd MOL     1       5.835   1.945  -7.780  1.00  0.00          PD  \nATOM    539   Pd MOL     1       3.890   0.000  -3.890  1.00  0.00          PD  \nATOM    540   Pd MOL     1       3.890   1.945  -1.945  1.00  0.00          PD  \nATOM    541   Pd MOL     1       5.835   0.000  -1.945  1.00  0.00          PD  \nATOM    542   Pd MOL     1       5.835   1.945  -3.890  1.00  0.00          PD  \nATOM    543   Pd MOL     1       3.890   0.000   0.000  1.00  0.00          PD  \nATOM    544   Pd MOL     1       3.890   1.945   1.945  1.00  0.00          PD  \nATOM    545   Pd MOL     1       5.835   0.000   1.945  1.00  0.00          PD  \nATOM    546   Pd MOL     1       5.835   1.945   0.000  1.00  0.00          PD  \nATOM    547   Pd MOL     1       3.890   0.000   3.890  1.00  0.00          PD  \nATOM    548   Pd MOL     1       3.890   1.945   5.835  1.00  0.00          PD  \nATOM    549   Pd MOL     1       5.835   0.000   5.835  1.00  0.00          PD  \nATOM    550   Pd MOL     1       5.835   1.945   3.890  1.00  0.00          PD  \nATOM    551   Pd MOL     1       3.890   0.000   7.780  1.00  0.00          PD  \nATOM    552   Pd MOL     1       3.890   1.945   9.725  1.00  0.00          PD  \nATOM    553   Pd MOL     1       5.835   0.000   9.725  1.00  0.00          PD  \nATOM    554   Pd MOL     1       5.835   1.945   7.780  1.00  0.00          PD  \nATOM    555   Pt MOL     1       3.890   0.000  11.670  1.00  0.00          PT  \nATOM    556   Pt MOL     1       5.835   1.945  11.670  1.00  0.00          PT  \nATOM    557   Pt MOL     1       3.890   3.890 -11.670  1.00  0.00          PT  \nATOM    558   Pt MOL     1       3.890   5.835  -9.725  1.00  0.00          PT  \nATOM    559   Pt MOL     1       5.835   3.890  -9.725  1.00  0.00          PT  \nATOM    560   Pd MOL     1       3.890   3.890  -7.780  1.00  0.00          PD  \nATOM    561   Pd MOL     1       3.890   5.835  -5.835  1.00  0.00          PD  \nATOM    562   Pd MOL     1       5.835   3.890  -5.835  1.00  0.00          PD  \nATOM    563   Pt MOL     1       5.835   5.835  -7.780  1.00  0.00          PT  \nATOM    564   Pd MOL     1       3.890   3.890  -3.890  1.00  0.00          PD  \nATOM    565   Pd MOL     1       3.890   5.835  -1.945  1.00  0.00          PD  \nATOM    566   Pd MOL     1       5.835   3.890  -1.945  1.00  0.00          PD  \nATOM    567   Pd MOL     1       5.835   5.835  -3.890  1.00  0.00          PD  \nATOM    568   Pd MOL     1       3.890   3.890   0.000  1.00  0.00          PD  \nATOM    569   Pd MOL     1       3.890   5.835   1.945  1.00  0.00          PD  \nATOM    570   Pd MOL     1       5.835   3.890   1.945  1.00  0.00          PD  \nATOM    571   Pd MOL     1       5.835   5.835   0.000  1.00  0.00          PD  \nATOM    572   Pd MOL     1       3.890   3.890   3.890  1.00  0.00          PD  \nATOM    573   Pd MOL     1       3.890   5.835   5.835  1.00  0.00          PD  \nATOM    574   Pd MOL     1       5.835   3.890   5.835  1.00  0.00          PD  \nATOM    575   Pd MOL     1       5.835   5.835   3.890  1.00  0.00          PD  \nATOM    576   Pd MOL     1       3.890   3.890   7.780  1.00  0.00          PD  \nATOM    577   Pt MOL     1       3.890   5.835   9.725  1.00  0.00          PT  \nATOM    578   Pt MOL     1       5.835   3.890   9.725  1.00  0.00          PT  \nATOM    579   Pt MOL     1       5.835   5.835   7.780  1.00  0.00          PT  \nATOM    580   Pt MOL     1       3.890   3.890  11.670  1.00  0.00          PT  \nATOM    581   Pt MOL     1       3.890   7.780  -7.780  1.00  0.00          PT  \nATOM    582   Pt MOL     1       3.890   9.725  -5.835  1.00  0.00          PT  \nATOM    583   Pt MOL     1       5.835   7.780  -5.835  1.00  0.00          PT  \nATOM    584   Pd MOL     1       3.890   7.780  -3.890  1.00  0.00          PD  \nATOM    585   Pd MOL     1       3.890   9.725  -1.945  1.00  0.00          PD  \nATOM    586   Pd MOL     1       5.835   7.780  -1.945  1.00  0.00          PD  \nATOM    587   Pt MOL     1       5.835   9.725  -3.890  1.00  0.00          PT  \nATOM    588   Pd MOL     1       3.890   7.780   0.000  1.00  0.00          PD  \nATOM    589   Pd MOL     1       3.890   9.725   1.945  1.00  0.00          PD  \nATOM    590   Pd MOL     1       5.835   7.780   1.945  1.00  0.00          PD  \nATOM    591   Pd MOL     1       5.835   9.725   0.000  1.00  0.00          PD  \nATOM    592   Pd MOL     1       3.890   7.780   3.890  1.00  0.00          PD  \nATOM    593   Pt MOL     1       3.890   9.725   5.835  1.00  0.00          PT  \nATOM    594   Pt MOL     1       5.835   7.780   5.835  1.00  0.00          PT  \nATOM    595   Pt MOL     1       5.835   9.725   3.890  1.00  0.00          PT  \nATOM    596   Pt MOL     1       3.890   7.780   7.780  1.00  0.00          PT  \nATOM    597   Pt MOL     1       3.890  11.670  -3.890  1.00  0.00          PT  \nATOM    598   Pt MOL     1       5.835  11.670  -1.945  1.00  0.00          PT  \nATOM    599   Pt MOL     1       3.890  11.670   0.000  1.00  0.00          PT  \nATOM    600   Pt MOL     1       5.835  11.670   1.945  1.00  0.00          PT  \nATOM    601   Pt MOL     1       3.890  11.670   3.890  1.00  0.00          PT  \nATOM    602   Pt MOL     1       7.780  -9.725  -1.945  1.00  0.00          PT  \nATOM    603   Pt MOL     1       7.780 -11.670   0.000  1.00  0.00          PT  \nATOM    604   Pt MOL     1       7.780  -9.725   1.945  1.00  0.00          PT  \nATOM    605   Pt MOL     1       9.725  -9.725   0.000  1.00  0.00          PT  \nATOM    606   Pt MOL     1       7.780  -5.835  -5.835  1.00  0.00          PT  \nATOM    607   Pt MOL     1       7.780  -7.780  -3.890  1.00  0.00          PT  \nATOM    608   Pd MOL     1       7.780  -5.835  -1.945  1.00  0.00          PD  \nATOM    609   Pt MOL     1       9.725  -7.780  -1.945  1.00  0.00          PT  \nATOM    610   Pt MOL     1       9.725  -5.835  -3.890  1.00  0.00          PT  \nATOM    611   Pd MOL     1       7.780  -7.780   0.000  1.00  0.00          PD  \nATOM    612   Pd MOL     1       7.780  -5.835   1.945  1.00  0.00          PD  \nATOM    613   Pt MOL     1       9.725  -7.780   1.945  1.00  0.00          PT  \nATOM    614   Pd MOL     1       9.725  -5.835   0.000  1.00  0.00          PD  \nATOM    615   Pt MOL     1       7.780  -7.780   3.890  1.00  0.00          PT  \nATOM    616   Pt MOL     1       7.780  -5.835   5.835  1.00  0.00          PT  \nATOM    617   Pt MOL     1       9.725  -5.835   3.890  1.00  0.00          PT  \nATOM    618   Pt MOL     1       7.780  -1.945  -9.725  1.00  0.00          PT  \nATOM    619   Pt MOL     1       7.780  -3.890  -7.780  1.00  0.00          PT  \nATOM    620   Pd MOL     1       7.780  -1.945  -5.835  1.00  0.00          PD  \nATOM    621   Pt MOL     1       9.725  -3.890  -5.835  1.00  0.00          PT  \nATOM    622   Pt MOL     1       9.725  -1.945  -7.780  1.00  0.00          PT  \nATOM    623   Pd MOL     1       7.780  -3.890  -3.890  1.00  0.00          PD  \nATOM    624   Pd MOL     1       7.780  -1.945  -1.945  1.00  0.00          PD  \nATOM    625   Pd MOL     1       9.725  -3.890  -1.945  1.00  0.00          PD  \nATOM    626   Pd MOL     1       9.725  -1.945  -3.890  1.00  0.00          PD  \nATOM    627   Pd MOL     1       7.780  -3.890   0.000  1.00  0.00          PD  \nATOM    628   Pd MOL     1       7.780  -1.945   1.945  1.00  0.00          PD  \nATOM    629   Pd MOL     1       9.725  -3.890   1.945  1.00  0.00          PD  \nATOM    630   Pd MOL     1       9.725  -1.945   0.000  1.00  0.00          PD  \nATOM    631   Pd MOL     1       7.780  -3.890   3.890  1.00  0.00          PD  \nATOM    632   Pd MOL     1       7.780  -1.945   5.835  1.00  0.00          PD  \nATOM    633   Pt MOL     1       9.725  -3.890   5.835  1.00  0.00          PT  \nATOM    634   Pd MOL     1       9.725  -1.945   3.890  1.00  0.00          PD  \nATOM    635   Pt MOL     1       7.780  -3.890   7.780  1.00  0.00          PT  \nATOM    636   Pt MOL     1       7.780  -1.945   9.725  1.00  0.00          PT  \nATOM    637   Pt MOL     1       9.725  -1.945   7.780  1.00  0.00          PT  \nATOM    638   Pt MOL     1       7.780   0.000 -11.670  1.00  0.00          PT  \nATOM    639   Pt MOL     1       7.780   1.945  -9.725  1.00  0.00          PT  \nATOM    640   Pt MOL     1       9.725   0.000  -9.725  1.00  0.00          PT  \nATOM    641   Pd MOL     1       7.780   0.000  -7.780  1.00  0.00          PD  \nATOM    642   Pd MOL     1       7.780   1.945  -5.835  1.00  0.00          PD  \nATOM    643   Pd MOL     1       9.725   0.000  -5.835  1.00  0.00          PD  \nATOM    644   Pt MOL     1       9.725   1.945  -7.780  1.00  0.00          PT  \nATOM    645   Pd MOL     1       7.780   0.000  -3.890  1.00  0.00          PD  \nATOM    646   Pd MOL     1       7.780   1.945  -1.945  1.00  0.00          PD  \nATOM    647   Pd MOL     1       9.725   0.000  -1.945  1.00  0.00          PD  \nATOM    648   Pd MOL     1       9.725   1.945  -3.890  1.00  0.00          PD  \nATOM    649   Pd MOL     1       7.780   0.000   0.000  1.00  0.00          PD  \nATOM    650   Pd MOL     1       7.780   1.945   1.945  1.00  0.00          PD  \nATOM    651   Pd MOL     1       9.725   0.000   1.945  1.00  0.00          PD  \nATOM    652   Pd MOL     1       9.725   1.945   0.000  1.00  0.00          PD  \nATOM    653   Pd MOL     1       7.780   0.000   3.890  1.00  0.00          PD  \nATOM    654   Pd MOL     1       7.780   1.945   5.835  1.00  0.00          PD  \nATOM    655   Pd MOL     1       9.725   0.000   5.835  1.00  0.00          PD  \nATOM    656   Pd MOL     1       9.725   1.945   3.890  1.00  0.00          PD  \nATOM    657   Pd MOL     1       7.780   0.000   7.780  1.00  0.00          PD  \nATOM    658   Pt MOL     1       7.780   1.945   9.725  1.00  0.00          PT  \nATOM    659   Pt MOL     1       9.725   0.000   9.725  1.00  0.00          PT  \nATOM    660   Pt MOL     1       9.725   1.945   7.780  1.00  0.00          PT  \nATOM    661   Pt MOL     1       7.780   0.000  11.670  1.00  0.00          PT  \nATOM    662   Pt MOL     1       7.780   3.890  -7.780  1.00  0.00          PT  \nATOM    663   Pt MOL     1       7.780   5.835  -5.835  1.00  0.00          PT  \nATOM    664   Pt MOL     1       9.725   3.890  -5.835  1.00  0.00          PT  \nATOM    665   Pd MOL     1       7.780   3.890  -3.890  1.00  0.00          PD  \nATOM    666   Pd MOL     1       7.780   5.835  -1.945  1.00  0.00          PD  \nATOM    667   Pd MOL     1       9.725   3.890  -1.945  1.00  0.00          PD  \nATOM    668   Pt MOL     1       9.725   5.835  -3.890  1.00  0.00          PT  \nATOM    669   Pd MOL     1       7.780   3.890   0.000  1.00  0.00          PD  \nATOM    670   Pd MOL     1       7.780   5.835   1.945  1.00  0.00          PD  \nATOM    671   Pd MOL     1       9.725   3.890   1.945  1.00  0.00          PD  \nATOM    672   Pd MOL     1       9.725   5.835   0.000  1.00  0.00          PD  \nATOM    673   Pd MOL     1       7.780   3.890   3.890  1.00  0.00          PD  \nATOM    674   Pt MOL     1       7.780   5.835   5.835  1.00  0.00          PT  \nATOM    675   Pt MOL     1       9.725   3.890   5.835  1.00  0.00          PT  \nATOM    676   Pt MOL     1       9.725   5.835   3.890  1.00  0.00          PT  \nATOM    677   Pt MOL     1       7.780   3.890   7.780  1.00  0.00          PT  \nATOM    678   Pt MOL     1       7.780   7.780  -3.890  1.00  0.00          PT  \nATOM    679   Pt MOL     1       7.780   9.725  -1.945  1.00  0.00          PT  \nATOM    680   Pt MOL     1       9.725   7.780  -1.945  1.00  0.00          PT  \nATOM    681   Pd MOL     1       7.780   7.780   0.000  1.00  0.00          PD  \nATOM    682   Pt MOL     1       7.780   9.725   1.945  1.00  0.00          PT  \nATOM    683   Pt MOL     1       9.725   7.780   1.945  1.00  0.00          PT  \nATOM    684   Pt MOL     1       9.725   9.725   0.000  1.00  0.00          PT  \nATOM    685   Pt MOL     1       7.780   7.780   3.890  1.00  0.00          PT  \nATOM    686   Pt MOL     1       7.780  11.670   0.000  1.00  0.00          PT  \nATOM    687   Pt MOL     1      11.670  -5.835  -1.945  1.00  0.00          PT  \nATOM    688   Pt MOL     1      11.670  -7.780   0.000  1.00  0.00          PT  \nATOM    689   Pt MOL     1      11.670  -5.835   1.945  1.00  0.00          PT  \nATOM    690   Pt MOL     1      11.670  -1.945  -5.835  1.00  0.00          PT  \nATOM    691   Pt MOL     1      11.670  -3.890  -3.890  1.00  0.00          PT  \nATOM    692   Pt MOL     1      11.670  -1.945  -1.945  1.00  0.00          PT  \nATOM    693   Pt MOL     1      11.670  -3.890   0.000  1.00  0.00          PT  \nATOM    694   Pt MOL     1      11.670  -1.945   1.945  1.00  0.00          PT  \nATOM    695   Pt MOL     1      11.670  -3.890   3.890  1.00  0.00          PT  \nATOM    696   Pt MOL     1      11.670  -1.945   5.835  1.00  0.00          PT  \nATOM    697   Pt MOL     1      11.670   0.000  -7.780  1.00  0.00          PT  \nATOM    698   Pt MOL     1      11.670   1.945  -5.835  1.00  0.00          PT  \nATOM    699   Pt MOL     1      11.670   0.000  -3.890  1.00  0.00          PT  \nATOM    700   Pt MOL     1      11.670   1.945  -1.945  1.00  0.00          PT  \nATOM    701   Pt MOL     1      11.670   0.000   0.000  1.00  0.00          PT  \nATOM    702   Pt MOL     1      11.670   1.945   1.945  1.00  0.00          PT  \nATOM    703   Pt MOL     1      11.670   0.000   3.890  1.00  0.00          PT  \nATOM    704   Pt MOL     1      11.670   1.945   5.835  1.00  0.00          PT  \nATOM    705   Pt MOL     1      11.670   0.000   7.780  1.00  0.00          PT  \nATOM    706   Pt MOL     1      11.670   3.890  -3.890  1.00  0.00          PT  \nATOM    707   Pt MOL     1      11.670   5.835  -1.945  1.00  0.00          PT  \nATOM    708   Pt MOL     1      11.670   3.890   0.000  1.00  0.00          PT  \nATOM    709   Pt MOL     1      11.670   5.835   1.945  1.00  0.00          PT  \nATOM    710   Pt MOL     1      11.670   3.890   3.890  1.00  0.00          PT  \nATOM    711   Pt MOL     1      11.670   7.780   0.000  1.00  0.00          PT  \nENDMDL\n",
           "type": "blob"
          }
         ],
         "kwargs": {
          "defaultRepresentation": false,
          "ext": "pdb"
         },
         "methodName": "loadFile",
         "reconstruc_color_scheme": false,
         "target": "Stage",
         "type": "call_method"
        },
        {
         "args": [
          "500px",
          "500px"
         ],
         "kwargs": {},
         "methodName": "setSize",
         "reconstruc_color_scheme": false,
         "target": "Widget",
         "type": "call_method"
        },
        {
         "args": [
          "unitcell"
         ],
         "component_index": 0,
         "kwargs": {
          "sele": "all"
         },
         "methodName": "addRepresentation",
         "reconstruc_color_scheme": false,
         "target": "compList",
         "type": "call_method"
        },
        {
         "args": [
          "spacefill"
         ],
         "component_index": 0,
         "kwargs": {
          "sele": "all"
         },
         "methodName": "addRepresentation",
         "reconstruc_color_scheme": false,
         "target": "compList",
         "type": "call_method"
        },
        {
         "args": [],
         "kwargs": {
          "cameraType": "orthographic"
         },
         "methodName": "setParameters",
         "reconstruc_color_scheme": false,
         "target": "Stage",
         "type": "call_method"
        },
        {
         "args": [
          {
           "clipDist": 0
          }
         ],
         "kwargs": {},
         "methodName": "setParameters",
         "reconstruc_color_scheme": false,
         "target": "Widget",
         "type": "call_method"
        },
        {
         "args": [
          "spacefill",
          0
         ],
         "kwargs": {
          "colorScale": "rainbow",
          "colorScheme": "element",
          "radiusScale": 0.5,
          "radiusType": "covalent"
         },
         "methodName": "updateRepresentationsByName",
         "reconstruc_color_scheme": false,
         "target": "Widget",
         "type": "call_method"
        },
        {
         "args": [
          "this._Q = [[1.0, 0.0, 0.0], [0.0, 1.0, 0.0], [0.0, 0.0, 1.0]]\n    var tooltip = document.createElement('div');\n    Object.assign(tooltip.style, {\n      display: 'none',\n      position: 'fixed',\n      zIndex: 10,\n      pointerEvents: 'none',\n      backgroundColor: 'rgba( 0, 0, 0, 0.6 )',\n      color: 'lightgrey',\n      padding: '8px',\n      fontFamily: 'sans-serif'\n    });\n    document.body.appendChild(tooltip);\n\n    var that = this;\n    this.stage.mouseControls.remove('hoverPick');\n    this.stage.signals.hovered.add(function (pickingProxy) {\n      if (pickingProxy && (pickingProxy.atom || pickingProxy.bond)) {\n        var atom = pickingProxy.atom || pickingProxy.closestBondAtom\n        var mp = pickingProxy.mouse.position\n        //tooltip.innerText = atom.element + ' i=' + atom.index + ' (' + atom.x.toFixed(2) +  ', ' + atom.y.toFixed(2) +  ', ' + atom.z.toFixed(2) + ')'\n        //var pos = that._atoms_pos[atom.index]\n        var Q = that._Q\n        var pos_x = Q[0][0] * atom.x + Q[0][1] * atom.y + Q[0][2] * atom.z \n        var pos_y = Q[1][0] * atom.x + Q[1][1] * atom.y + Q[1][2] * atom.z\n        var pos_z = Q[2][0] * atom.x + Q[2][1] * atom.y + Q[2][2] * atom.z\n        tooltip.innerText = 'i=' + atom.index + ' ' + atom.element + ' (' + pos_x.toFixed(2) +  ', ' + pos_y.toFixed(2) +  ', ' + pos_z.toFixed(2) + ')'\n        tooltip.style.bottom = window.innerHeight - mp.y + 3 + 'px'\n        tooltip.style.left = mp.x + 3 + 'px'\n        tooltip.style.display = 'block'\n      } else {\n        tooltip.style.display = 'none'\n      }\n    });\n    this.stage.tooltip = tooltip;\n    "
         ],
         "kwargs": {},
         "methodName": "executeCode",
         "reconstruc_color_scheme": false,
         "target": "Widget",
         "type": "call_method"
        }
       ],
       "_ngl_original_stage_parameters": {
        "ambientColor": 14540253,
        "ambientIntensity": 0.2,
        "backgroundColor": "white",
        "cameraEyeSep": 0.3,
        "cameraFov": 40,
        "cameraType": "perspective",
        "clipDist": 10,
        "clipFar": 100,
        "clipNear": 0,
        "fogFar": 100,
        "fogNear": 50,
        "hoverTimeout": 0,
        "impostor": true,
        "lightColor": 14540253,
        "lightIntensity": 1,
        "mousePreset": "default",
        "panSpeed": 1,
        "quality": "medium",
        "rotateSpeed": 2,
        "sampleLevel": 0,
        "tooltip": true,
        "workerDefault": true,
        "zoomSpeed": 1.2
       },
       "_ngl_repr_dict": {
        "0": {
         "0": {
          "params": {
           "clipCenter": {
            "x": 0,
            "y": 0,
            "z": 0
           },
           "clipNear": 0,
           "clipRadius": 0,
           "colorMode": "hcl",
           "colorReverse": false,
           "colorScale": "",
           "colorScheme": "element",
           "colorValue": "orange",
           "defaultAssembly": "",
           "depthWrite": true,
           "diffuse": 16777215,
           "diffuseInterior": false,
           "disableImpostor": false,
           "disablePicking": false,
           "flatShaded": false,
           "interiorColor": 2236962,
           "interiorDarkening": 0,
           "lazy": false,
           "matrix": {
            "elements": [
             1,
             0,
             0,
             0,
             0,
             1,
             0,
             0,
             0,
             0,
             1,
             0,
             0,
             0,
             0,
             1
            ]
           },
           "metalness": 0,
           "opacity": 1,
           "quality": "medium",
           "radialSegments": 10,
           "radiusData": {},
           "radiusScale": 1,
           "radiusSize": 0.5,
           "radiusType": "vdw",
           "roughness": 0.4,
           "sele": "all",
           "side": "double",
           "sphereDetail": 1,
           "useInteriorColor": true,
           "visible": true,
           "wireframe": false
          },
          "type": "unitcell"
         },
         "1": {
          "params": {
           "assembly": "default",
           "clipCenter": {
            "x": 0,
            "y": 0,
            "z": 0
           },
           "clipNear": 0,
           "clipRadius": 0,
           "colorMode": "hcl",
           "colorReverse": false,
           "colorScale": "rainbow",
           "colorScheme": "element",
           "colorValue": 9474192,
           "defaultAssembly": "",
           "depthWrite": true,
           "diffuse": 16777215,
           "diffuseInterior": false,
           "disableImpostor": false,
           "disablePicking": false,
           "flatShaded": false,
           "interiorColor": 2236962,
           "interiorDarkening": 0,
           "lazy": false,
           "matrix": {
            "elements": [
             1,
             0,
             0,
             0,
             0,
             1,
             0,
             0,
             0,
             0,
             1,
             0,
             0,
             0,
             0,
             1
            ]
           },
           "metalness": 0,
           "opacity": 1,
           "quality": "medium",
           "radiusData": {},
           "radiusScale": 0.5,
           "radiusSize": 1,
           "radiusType": "covalent",
           "roughness": 0.4,
           "sele": "all",
           "side": "double",
           "sphereDetail": 1,
           "useInteriorColor": true,
           "visible": true,
           "wireframe": false
          },
          "type": "spacefill"
         }
        }
       },
       "_ngl_serialize": false,
       "_ngl_version": "2.0.0-dev.36",
       "_ngl_view_id": [
        "DD02A74C-5812-4A16-A831-8AABE8AEE5A2"
       ],
       "_player_dict": {},
       "_scene_position": {},
       "_scene_rotation": {},
       "_synced_model_ids": [],
       "_synced_repr_model_ids": [],
       "_view_height": "",
       "_view_width": "",
       "background": "white",
       "frame": 0,
       "gui_style": null,
       "layout": "IPY_MODEL_f25a9958b5a548b78d385223532d3f5d",
       "max_frame": 0,
       "n_components": 1,
       "picked": {}
      }
     }
    },
    "version_major": 2,
    "version_minor": 0
   }
  }
 },
 "nbformat": 4,
 "nbformat_minor": 5
}
