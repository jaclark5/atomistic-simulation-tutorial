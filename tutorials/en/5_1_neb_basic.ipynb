{
 "cells": [
  {
   "cell_type": "markdown",
   "id": "54b8521e-4b7f-4ac6-9117-66d7c66624ec",
   "metadata": {},
   "source": [
    "# Reaction pathway analysis\n",
    "\n",
    "In the previous chapters, we have been looking at the behavior near the stable structure. In this chapter, we will analyze the reaction of substances.\n",
    "\n",
    "<figure style=\"width:450px\">\n",
    "    <img src=\"https://upload.wikimedia.org/wikipedia/commons/thumb/2/24/Activation_energy.svg/600px-Activation_energy.svg.png\"/>\n",
    "</figure>\n",
    "\n",
    "The relationship between the activation energy $E_a$ and the enthalpy of reaction $\\Delta H$ associated with the reaction X→Y.<br/>\n",
    "Cited from [Wikipedia](https://en.wikipedia.org/wiki/Activation_energy).\n",
    "\n",
    "<p></p>\n",
    "\n",
    "In a reaction process in which product Y is formed from reactant X, the point with the maximum energy in the reaction path is called the **Transition State (TS)**, and the energy difference between reactant/product and the transition state is called the **Activation energy** $E_a$.\n",
    "\n",
    "According to the Arrhenius equation, the reaction rate constant $k$ is wrriten as\n",
    "\n",
    "$$k = A \\exp \\left(- \\frac{E_a}{k_B T} \\right)$$\n",
    "\n",
    "where\n",
    "\n",
    " - $A$: pre-exponential factor (a constant independent of temperature)\n",
    " - $E_a$: activation energy\n",
    " - $k_B$: Boltzmann constant\n",
    " - $T$: temperature\n",
    "\n",
    "Thus, the likelihood of a chemical reaction is determined by the activation energy $E_a$.\n",
    "\n",
    "The energy of reactants/products does not change, but the activation energy changes as the reaction path changes with the surrounding environment, i.e., the presence of a catalyst.\n",
    "If we can find a catalyst with lower activation energy, we can make the target reaction more likely to be produced.\n",
    "\n",
    "Reference:\n",
    "\n",
    "\n",
    " - [Activation energy - Wikipedia](https://en.wikipedia.org/wiki/Activation_energy)\n",
    " - [Arrhenius equation - Wikipedia](https://en.wikipedia.org/wiki/Arrhenius_equation)\n",
    "\n",
    "Even if reactant X and product Y are known, finding the transition state is not obvious. <br/>\n",
    "In this section, we will try to calculate the activation energy using the NEB (Nudged Elastic Band) method, which searches for reaction pathways when the structures before and after the reaction are known.\n",
    "\n",
    " - https://databases.fysik.dtu.dk/ase/ase/neb.html"
   ]
  },
  {
   "cell_type": "markdown",
   "id": "d6f6dd19-7d87-46d4-84b4-1fbd3a3fe0cd",
   "metadata": {},
   "source": [
    "## NEB\n",
    "\n",
    "<figure style=\"width: 720px\">\n",
    "　　　　<img src=\"../assets/neb-small-720.png\" style=\"width: 720px\"/>\n",
    "  <figcaption>\n",
    "      Diagram of the NEB method: After generating reaction path candidates (red line) as the initial configuration, structural relaxation is performed to search for reaction paths (blue line) that pass through transition states.\n",
    "  </figcaption>\n",
    "</figure>\n",
    "\n",
    "[Note] The following content is based on the NEB Tutorial in the Matlantis.\n",
    "\n",
    "We will investigate an organic chemical reaction called the Curtius rearrangement.\n",
    "\n",
    "In the NEB method, we usually start with preparing the structures before and after a particular chemical reaction of interest.\n",
    "\n",
    "This time, we will write down the structures directly."
   ]
  },
  {
   "cell_type": "code",
   "execution_count": 1,
   "id": "d8c49891-d136-4f43-9d7e-7789b946e685",
   "metadata": {},
   "outputs": [],
   "source": [
    "import numpy as np\n",
    "from IPython.display import Image\n",
    "import matplotlib.pyplot as plt\n",
    "\n",
    "import ase\n",
    "from ase import Atoms\n",
    "from ase.visualize import view\n",
    "from ase.optimize import BFGS\n",
    "from ase.optimize import FIRE\n",
    "from ase.neb import NEB\n",
    "from ase.build.rotate import minimize_rotation_and_translation\n",
    "\n",
    "from pfp_api_client.pfp.calculators.ase_calculator import ASECalculator\n",
    "from pfp_api_client.pfp.estimator import Estimator\n",
    "from pfp_api_client.pfp.estimator import Estimator, EstimatorCalcMode\n",
    "\n",
    "estimator = Estimator(calc_mode=EstimatorCalcMode.CRYSTAL, model_version=\"v2.0.0\")\n",
    "calculator = ASECalculator(estimator)"
   ]
  },
  {
   "cell_type": "code",
   "execution_count": 2,
   "id": "484f304c-585f-49d7-9409-534cdab51241",
   "metadata": {},
   "outputs": [],
   "source": [
    "react = ase.Atoms(\n",
    "    symbols=\"C2NON2H3\",\n",
    "    positions = [\n",
    "        [ 2.12, -0.48,  0.00],\n",
    "        [ 0.76,  0.16, -0.00],\n",
    "        [-0.28, -0.79, -0.00],\n",
    "        [ 0.57,  1.35,  0.00],\n",
    "        [-1.42, -0.28,  0.00],\n",
    "        [-2.48,  0.07,  0.00],\n",
    "        [ 2.67, -0.14, -0.88],\n",
    "        [ 2.06, -1.57, -0.00],\n",
    "        [ 2.67, -0.14,  0.88],\n",
    "    ],\n",
    ")\n",
    "\n",
    "prod = ase.Atoms(\n",
    "    symbols=\"C2NON2H3\",\n",
    "    positions=[\n",
    "        [ 2.30, -0.87,  0.00],\n",
    "        [ 0.68,  0.92, -0.00],\n",
    "        [ 0.99, -0.25,  0.00],\n",
    "        [ 0.25,  2.03,  0.00],\n",
    "        [-2.34,  0.11,  0.00],\n",
    "        [-3.13, -0.67, -0.00],\n",
    "        [ 2.87, -0.57, -0.89],\n",
    "        [ 2.19, -1.96,  0.00],\n",
    "        [ 2.87, -0.57,  0.89],\n",
    "    ],\n",
    ")"
   ]
  },
  {
   "cell_type": "markdown",
   "id": "dd3e35cc-6994-4e81-a4fc-e87b639a25ad",
   "metadata": {},
   "source": [
    "The first step is to perform structural optimization. The way of structural optimization is the same as before.\n",
    "\n",
    "To facilitate future work, we will move the structures before and after the reaction so that they are as close as possible. This is done by `minimize_rotation_and_translation` method."
   ]
  },
  {
   "cell_type": "code",
   "execution_count": 3,
   "id": "fc4670f6-022d-4b4c-9944-b345d0a46b67",
   "metadata": {},
   "outputs": [
    {
     "name": "stdout",
     "output_type": "stream",
     "text": [
      "      Step     Time          Energy          fmax\n",
      "BFGS:    0 14:43:15      -41.288286        3.372026\n",
      "BFGS:    1 14:43:15      -41.050344        9.227204\n",
      "BFGS:    2 14:43:15      -41.352642        0.937929\n",
      "BFGS:    3 14:43:15      -41.360438        0.846813\n",
      "BFGS:    4 14:43:15      -41.367057        0.414904\n",
      "BFGS:    5 14:43:16      -41.370927        0.222537\n",
      "BFGS:    6 14:43:16      -41.373629        0.187670\n",
      "BFGS:    7 14:43:16      -41.374702        0.132663\n",
      "BFGS:    8 14:43:16      -41.376004        0.143219\n",
      "BFGS:    9 14:43:16      -41.377716        0.194960\n",
      "BFGS:   10 14:43:16      -41.379438        0.192537\n",
      "BFGS:   11 14:43:16      -41.380632        0.108121\n",
      "BFGS:   12 14:43:16      -41.381465        0.084829\n",
      "BFGS:   13 14:43:16      -41.382037        0.099253\n",
      "BFGS:   14 14:43:16      -41.382358        0.063755\n",
      "BFGS:   15 14:43:16      -41.382590        0.051461\n",
      "BFGS:   16 14:43:16      -41.382839        0.060071\n",
      "BFGS:   17 14:43:16      -41.383148        0.073773\n",
      "BFGS:   18 14:43:16      -41.383478        0.065854\n",
      "BFGS:   19 14:43:16      -41.383675        0.038820\n",
      "BFGS:   20 14:43:16      -41.383762        0.025375\n",
      "BFGS:   21 14:43:16      -41.383797        0.025825\n",
      "BFGS:   22 14:43:16      -41.383857        0.029769\n",
      "BFGS:   23 14:43:17      -41.383902        0.027067\n",
      "BFGS:   24 14:43:17      -41.383944        0.014089\n",
      "BFGS:   25 14:43:17      -41.383969        0.009115\n",
      "      Step     Time          Energy          fmax\n",
      "BFGS:    0 14:43:17      -42.925393        0.730117\n",
      "BFGS:    1 14:43:17      -42.911635        1.663660\n",
      "BFGS:    2 14:43:17      -42.928937        0.251647\n",
      "BFGS:    3 14:43:17      -42.928764        0.549965\n",
      "BFGS:    4 14:43:17      -42.931020        0.205362\n",
      "BFGS:    5 14:43:17      -42.933635        0.252208\n",
      "BFGS:    6 14:43:17      -42.937590        0.417864\n",
      "BFGS:    7 14:43:17      -42.942083        0.419333\n",
      "BFGS:    8 14:43:17      -42.946968        0.288300\n",
      "BFGS:    9 14:43:17      -42.950906        0.179478\n",
      "BFGS:   10 14:43:17      -42.954262        0.270988\n",
      "BFGS:   11 14:43:17      -42.956673        0.231530\n",
      "BFGS:   12 14:43:17      -42.958089        0.118511\n",
      "BFGS:   13 14:43:17      -42.959289        0.146021\n",
      "BFGS:   14 14:43:17      -42.960235        0.184809\n",
      "BFGS:   15 14:43:17      -42.960773        0.116383\n",
      "BFGS:   16 14:43:18      -42.961079        0.068664\n",
      "BFGS:   17 14:43:18      -42.961431        0.119403\n",
      "BFGS:   18 14:43:18      -42.962067        0.201879\n",
      "BFGS:   19 14:43:18      -42.963184        0.261755\n",
      "BFGS:   20 14:43:18      -42.964901        0.241058\n",
      "BFGS:   21 14:43:18      -42.966974        0.131766\n",
      "BFGS:   22 14:43:18      -42.969068        0.111116\n",
      "BFGS:   23 14:43:18      -42.970628        0.153895\n",
      "BFGS:   24 14:43:18      -42.971380        0.111868\n",
      "BFGS:   25 14:43:18      -42.971700        0.061562\n",
      "BFGS:   26 14:43:18      -42.971887        0.035948\n",
      "BFGS:   27 14:43:18      -42.971988        0.045980\n",
      "BFGS:   28 14:43:18      -42.972005        0.024488\n",
      "BFGS:   29 14:43:18      -42.972040        0.013546\n",
      "BFGS:   30 14:43:18      -42.972020        0.021100\n",
      "BFGS:   31 14:43:18      -42.972060        0.040577\n",
      "BFGS:   32 14:43:18      -42.972098        0.064734\n",
      "BFGS:   33 14:43:18      -42.972179        0.091686\n",
      "BFGS:   34 14:43:19      -42.972329        0.095636\n",
      "BFGS:   35 14:43:19      -42.972412        0.052399\n",
      "BFGS:   36 14:43:19      -42.972583        0.078331\n",
      "BFGS:   37 14:43:19      -42.972768        0.136407\n",
      "BFGS:   38 14:43:19      -42.972924        0.122819\n",
      "BFGS:   39 14:43:19      -42.972981        0.193897\n",
      "BFGS:   40 14:43:19      -42.973057        0.047662\n",
      "BFGS:   41 14:43:19      -42.973107        0.047561\n",
      "BFGS:   42 14:43:19      -42.973201        0.088515\n",
      "BFGS:   43 14:43:19      -42.973237        0.042605\n",
      "BFGS:   44 14:43:19      -42.973302        0.058457\n",
      "BFGS:   45 14:43:19      -42.973299        0.032923\n",
      "BFGS:   46 14:43:19      -42.973306        0.007837\n"
     ]
    }
   ],
   "source": [
    "react.calc = calculator\n",
    "opt = BFGS(react)\n",
    "opt.run(fmax=0.01)\n",
    "\n",
    "prod.calc = calculator\n",
    "opt = BFGS(prod)\n",
    "opt.run(fmax=0.01)\n",
    "\n",
    "minimize_rotation_and_translation(react, prod)"
   ]
  },
  {
   "cell_type": "markdown",
   "id": "61dfe534-4b33-4a29-a759-3e8515b39fe5",
   "metadata": {},
   "source": [
    "We check the reactant & product structures by visualization."
   ]
  },
  {
   "cell_type": "code",
   "execution_count": 4,
   "id": "44d167b8-7364-4c6a-b59b-927a61ca1be9",
   "metadata": {},
   "outputs": [
    {
     "data": {
      "image/png": "[encoded data removed]",
      "text/plain": [
       "<Figure size 600x300 with 2 Axes>"
      ]
     },
     "metadata": {},
     "output_type": "display_data"
    }
   ],
   "source": [
    "from ase.io import write\n",
    "from IPython.display import Image\n",
    "import matplotlib.pyplot as plt\n",
    "import matplotlib.image as mpimg\n",
    "\n",
    "write(\"output/curtius_react.png\", react, rotation=\"0x,0y,0z\")\n",
    "write(\"output/curtius_prod.png\", prod, rotation=\"0x,0y,0z\")\n",
    "\n",
    "fig, axes = plt.subplots(1, 2, figsize=(6, 3))\n",
    "ax0, ax1 = axes\n",
    "ax0.imshow(mpimg.imread(\"output/curtius_react.png\"))\n",
    "ax0.set_axis_off()\n",
    "ax0.set_title(\"Reactant\")\n",
    "ax1.imshow(mpimg.imread(\"output/curtius_prod.png\"))\n",
    "ax1.set_axis_off()\n",
    "ax1.set_title(\"Product\")\n",
    "fig.show()"
   ]
  },
  {
   "cell_type": "code",
   "execution_count": 5,
   "id": "27d3e092-a09c-47cd-8206-3280dcddb859",
   "metadata": {},
   "outputs": [
    {
     "data": {
      "application/vnd.jupyter.widget-view+json": {
       "model_id": "b010c9983e594c28be9e1e0869e6a63e",
       "version_major": 2,
       "version_minor": 0
      },
      "text/plain": []
     },
     "metadata": {},
     "output_type": "display_data"
    },
    {
     "data": {
      "application/vnd.jupyter.widget-view+json": {
       "model_id": "3e46f529a22447bdba48125e4ede0d71",
       "version_major": 2,
       "version_minor": 0
      },
      "text/plain": [
       "HBox(children=(NGLWidget(max_frame=1), VBox(children=(Dropdown(description='Show', options=('All', 'O', 'H', '…"
      ]
     },
     "metadata": {},
     "output_type": "display_data"
    }
   ],
   "source": [
    "from pfcc_extras.visualize.view import view_ngl\n",
    "\n",
    "view_ngl([react, prod], representations=[\"ball+stick\"], replace_structure=True)"
   ]
  },
  {
   "cell_type": "markdown",
   "id": "925c3c86-7289-4857-8d1f-0308c0dc829a",
   "metadata": {},
   "source": [
    "We will start to run NEB calculations from here. NEB is a method for finding reaction paths by interpolating many discrete structures between the structures before and after the reaction and then performing structural optimization on the combination of these structures in phase space.\n",
    "\n",
    "\n",
    "We can use the functions in ASE for both interpolating the intermediate structure and performing NEB calculation. Note that in order to run the NEB calculation in parallel, we create a unique calculator instance for each structure, and specify `allow_shared_calculator=False, parallel=True` for `NEB`. \n",
    "\n",
    "Because NEB contains multiple structures internally, the time cost of one step is greater than that of MD. Nevertheless, such a calculation can be completed in a few minutes with PFP, compared to several days or months with quantum chemical computation, e.g. DFT."
   ]
  },
  {
   "cell_type": "markdown",
   "id": "fa00d7a2-fa1a-42d1-ae7e-a8e947c41668",
   "metadata": {},
   "source": [
    "The calculations are performed in the following steps\n",
    "\n",
    " - First, create a list of ASE atoms as `images`.\n",
    "   - The first one is the reactant `react`, and the last one is the product `prod`.\n",
    "   - The coordinates of intermediate `image` will be changed later with the `neb.interpolate()` method. Here, we only need to make a copy here.\n",
    "   - In this case, we have created 7 intermediate images, for a total of 9 images.\n",
    " - Create and set a `calculator` for each atoms.\n",
    " - Create [NEB class](https://databases.fysik.dtu.dk/ase/ase/neb.html)\n",
    "     - `k` is the spring constant that represents the strength of the spring connecting each `images`.\n",
    "     - By setting `climb=True`, we use the Climbing Image NEB method, which is a method that reverts the energy gradient to find transition states.\n",
    " - `neb.interpolate()`\n",
    "     - Linear interpolation of the `images` is executed to create a list of coordinates that gradually change from reactant to product.\n",
    "     - The initial configuration (candidates) of the reaction paths can be confirmed by commenting out the line with `view_ngl`.\n",
    " - optimization with `FIRE`\n",
    "     - The obtained reaction pathway candidates are modified to the appropriate reaction pathway by optimizing them using the `FIRE` method."
   ]
  },
  {
   "cell_type": "code",
   "execution_count": 6,
   "id": "3d1f1742-0911-47ac-891e-9bfff0459a2f",
   "metadata": {},
   "outputs": [
    {
     "name": "stdout",
     "output_type": "stream",
     "text": [
      "      Step     Time          Energy          fmax\n",
      "FIRE:    0 14:43:27      -38.199809       23.490956\n",
      "FIRE:    1 14:43:27      -39.254621        6.505189\n"
     ]
    },
    {
     "name": "stderr",
     "output_type": "stream",
     "text": [
      "/tmp/ipykernel_25517/2722927025.py:8: FutureWarning: Please import NEB from ase.mep, not ase.neb.\n",
      "  neb = NEB(images, k=0.1, climb=True, allow_shared_calculator=False, parallel=True)\n"
     ]
    },
    {
     "name": "stdout",
     "output_type": "stream",
     "text": [
      "FIRE:    2 14:43:27      -39.008617       11.163567\n",
      "FIRE:    3 14:43:27      -39.405844        7.057152\n",
      "FIRE:    4 14:43:27      -39.450020        6.904893\n",
      "FIRE:    5 14:43:27      -39.462435        5.353684\n",
      "FIRE:    6 14:43:27      -39.478987        3.718861\n",
      "FIRE:    7 14:43:27      -39.489786        3.016063\n",
      "FIRE:    8 14:43:27      -39.491198        2.897458\n",
      "FIRE:    9 14:43:27      -39.488352        3.915679\n",
      "FIRE:   10 14:43:27      -39.488606        4.039161\n",
      "FIRE:   11 14:43:28      -39.495308        3.512413\n",
      "FIRE:   12 14:43:28      -39.507829        2.810146\n",
      "FIRE:   13 14:43:28      -39.519259        1.817654\n",
      "FIRE:   14 14:43:28      -39.525174        3.265853\n",
      "FIRE:   15 14:43:28      -39.539539        2.892644\n",
      "FIRE:   16 14:43:28      -39.572475        1.963444\n",
      "FIRE:   17 14:43:28      -39.604964        2.303778\n",
      "FIRE:   18 14:43:28      -39.606562        2.028061\n",
      "FIRE:   19 14:43:28      -39.609304        1.513654\n",
      "FIRE:   20 14:43:28      -39.612562        0.948627\n",
      "FIRE:   21 14:43:28      -39.615873        0.909884\n",
      "FIRE:   22 14:43:28      -39.619310        1.198012\n",
      "FIRE:   23 14:43:29      -39.623196        1.533371\n",
      "FIRE:   24 14:43:29      -39.627874        1.530900\n",
      "FIRE:   25 14:43:29      -39.633955        1.165640\n",
      "FIRE:   26 14:43:29      -39.641255        0.737797\n",
      "FIRE:   27 14:43:29      -39.649404        0.800478\n",
      "FIRE:   28 14:43:29      -39.658483        1.200173\n",
      "FIRE:   29 14:43:29      -39.669464        1.085851\n",
      "FIRE:   30 14:43:29      -39.682563        0.602644\n",
      "FIRE:   31 14:43:29      -39.696479        0.907790\n",
      "FIRE:   32 14:43:29      -39.710647        1.034686\n",
      "FIRE:   33 14:43:29      -39.725190        0.620371\n",
      "FIRE:   34 14:43:29      -39.737168        1.120402\n",
      "FIRE:   35 14:43:29      -39.747340        0.514008\n",
      "FIRE:   36 14:43:30      -39.752792        1.085785\n",
      "FIRE:   37 14:43:30      -39.755755        0.841935\n",
      "FIRE:   38 14:43:30      -39.753593        0.537654\n",
      "FIRE:   39 14:43:30      -39.748983        1.064867\n",
      "FIRE:   40 14:43:30      -39.752546        0.434176\n",
      "FIRE:   41 14:43:30      -39.753732        0.642694\n",
      "FIRE:   42 14:43:30      -39.754038        0.579657\n",
      "FIRE:   43 14:43:30      -39.754581        0.468322\n",
      "FIRE:   44 14:43:30      -39.755184        0.342757\n",
      "FIRE:   45 14:43:30      -39.755784        0.333293\n",
      "FIRE:   46 14:43:30      -39.756348        0.378653\n",
      "FIRE:   47 14:43:30      -39.757035        0.433039\n",
      "FIRE:   48 14:43:31      -39.757874        0.411865\n",
      "FIRE:   49 14:43:31      -39.758987        0.319442\n",
      "FIRE:   50 14:43:31      -39.760280        0.299208\n",
      "FIRE:   51 14:43:31      -39.761602        0.399914\n",
      "FIRE:   52 14:43:31      -39.762984        0.443207\n",
      "FIRE:   53 14:43:31      -39.764582        0.367706\n",
      "FIRE:   54 14:43:31      -39.766270        0.265688\n",
      "FIRE:   55 14:43:31      -39.767651        0.306568\n",
      "FIRE:   56 14:43:31      -39.768935        0.271192\n",
      "FIRE:   57 14:43:31      -39.769791        0.382343\n",
      "FIRE:   58 14:43:31      -39.770105        0.282708\n",
      "FIRE:   59 14:43:31      -39.769909        0.320444\n",
      "FIRE:   60 14:43:32      -39.769471        0.269958\n",
      "FIRE:   61 14:43:32      -39.768488        0.312202\n",
      "FIRE:   62 14:43:32      -39.768029        0.365170\n",
      "FIRE:   63 14:43:32      -39.768429        0.204112\n",
      "FIRE:   64 14:43:32      -39.768648        0.220764\n",
      "FIRE:   65 14:43:32      -39.768724        0.337588\n",
      "FIRE:   66 14:43:32      -39.769099        0.279886\n",
      "FIRE:   67 14:43:32      -39.769610        0.161808\n",
      "FIRE:   68 14:43:32      -39.769876        0.233502\n",
      "FIRE:   69 14:43:32      -39.770145        0.223181\n",
      "FIRE:   70 14:43:32      -39.770639        0.153745\n",
      "FIRE:   71 14:43:33      -39.770829        0.265734\n",
      "FIRE:   72 14:43:33      -39.771117        0.161783\n",
      "FIRE:   73 14:43:33      -39.771184        0.234144\n",
      "FIRE:   74 14:43:33      -39.771296        0.141023\n",
      "FIRE:   75 14:43:33      -39.770925        0.323859\n",
      "FIRE:   76 14:43:33      -39.771124        0.230935\n",
      "FIRE:   77 14:43:33      -39.771124        0.242028\n",
      "FIRE:   78 14:43:33      -39.770795        0.364439\n",
      "FIRE:   79 14:43:33      -39.771262        0.119569\n",
      "FIRE:   80 14:43:33      -39.771155        0.249417\n",
      "FIRE:   81 14:43:33      -39.771227        0.204118\n",
      "FIRE:   82 14:43:33      -39.771324        0.144965\n",
      "FIRE:   83 14:43:33      -39.771389        0.111566\n",
      "FIRE:   84 14:43:34      -39.771388        0.133739\n",
      "FIRE:   85 14:43:34      -39.771367        0.164100\n",
      "FIRE:   86 14:43:34      -39.771395        0.168005\n",
      "FIRE:   87 14:43:34      -39.771444        0.144330\n",
      "FIRE:   88 14:43:34      -39.771531        0.111891\n",
      "FIRE:   89 14:43:34      -39.771593        0.123567\n",
      "FIRE:   90 14:43:34      -39.771598        0.152820\n",
      "FIRE:   91 14:43:34      -39.771657        0.138157\n",
      "FIRE:   92 14:43:34      -39.771756        0.104620\n",
      "FIRE:   93 14:43:34      -39.771798        0.132303\n",
      "FIRE:   94 14:43:34      -39.771839        0.114626\n",
      "FIRE:   95 14:43:34      -39.771912        0.116256\n",
      "FIRE:   96 14:43:35      -39.771909        0.119960\n",
      "FIRE:   97 14:43:35      -39.771974        0.113715\n",
      "FIRE:   98 14:43:35      -39.771948        0.106299\n",
      "FIRE:   99 14:43:35      -39.771956        0.120135\n",
      "FIRE:  100 14:43:35      -39.772026        0.129044\n",
      "FIRE:  101 14:43:35      -39.772069        0.153474\n",
      "FIRE:  102 14:43:35      -39.772048        0.258043\n",
      "FIRE:  103 14:43:35      -39.772141        0.064037\n",
      "FIRE:  104 14:43:35      -39.772104        0.207688\n",
      "FIRE:  105 14:43:35      -39.772121        0.166595\n",
      "FIRE:  106 14:43:35      -39.772154        0.094351\n",
      "FIRE:  107 14:43:35      -39.772153        0.059529\n",
      "FIRE:  108 14:43:36      -39.772165        0.118646\n",
      "FIRE:  109 14:43:36      -39.772160        0.113806\n",
      "FIRE:  110 14:43:36      -39.772162        0.104494\n",
      "FIRE:  111 14:43:36      -39.772173        0.091514\n",
      "FIRE:  112 14:43:36      -39.772172        0.076141\n",
      "FIRE:  113 14:43:36      -39.772176        0.063003\n",
      "FIRE:  114 14:43:36      -39.772170        0.055623\n",
      "FIRE:  115 14:43:36      -39.772164        0.055830\n",
      "FIRE:  116 14:43:36      -39.772183        0.061785\n",
      "FIRE:  117 14:43:36      -39.772179        0.068822\n",
      "FIRE:  118 14:43:36      -39.772177        0.072309\n",
      "FIRE:  119 14:43:36      -39.772180        0.069552\n",
      "FIRE:  120 14:43:37      -39.772191        0.061102\n",
      "FIRE:  121 14:43:37      -39.772186        0.053883\n",
      "FIRE:  122 14:43:37      -39.772210        0.058257\n",
      "FIRE:  123 14:43:37      -39.772206        0.067317\n",
      "FIRE:  124 14:43:37      -39.772221        0.065830\n",
      "FIRE:  125 14:43:37      -39.772235        0.053900\n",
      "FIRE:  126 14:43:37      -39.772238        0.054710\n",
      "FIRE:  127 14:43:37      -39.772259        0.058955\n",
      "FIRE:  128 14:43:37      -39.772262        0.049006\n"
     ]
    }
   ],
   "source": [
    "images = [react.copy()]\n",
    "images += [react.copy() for i in range (7)]\n",
    "images += [prod.copy()]\n",
    "for image in images:\n",
    "    estimator = Estimator(calc_mode=EstimatorCalcMode.CRYSTAL, model_version=\"v2.0.0\")\n",
    "    calculator = ASECalculator(estimator)\n",
    "    image.calc = calculator\n",
    "neb = NEB(images, k=0.1, climb=True, allow_shared_calculator=False, parallel=True)\n",
    "neb.interpolate()\n",
    "# Check interpolated images\n",
    "# view_ngl(images, representations=[\"ball+stick\"], replace_structure=True)\n",
    "opt = FIRE(neb)\n",
    "status = opt.run(fmax=0.05, steps=500)"
   ]
  },
  {
   "cell_type": "markdown",
   "id": "0c14861a-de36-4ddf-b52e-3c6ffa6b63d6",
   "metadata": {},
   "source": [
    "If you want to suppress default logging, please specify the `logfile` parameter like `FIRE(neb, logfile=None)`.\n",
    "\n",
    "Let's look at the results. The Notebook environment is also suitable for the graphical visualization of numerical data. Below is a visualization of an energy profile using matplotlib.\n",
    "\n",
    "You can see the energy going up once and then going down in the reaction. The energy difference between the point of maximum energy (transition state) and each of the left and right stable points corresponds to the activation energy."
   ]
  },
  {
   "cell_type": "code",
   "execution_count": 7,
   "id": "0dd571d7-7dc8-4d16-8b7e-d8247b4873d5",
   "metadata": {},
   "outputs": [
    {
     "data": {
      "image/png": "[encoded data removed]",
      "text/plain": [
       "<Figure size 640x480 with 1 Axes>"
      ]
     },
     "metadata": {},
     "output_type": "display_data"
    }
   ],
   "source": [
    "energies = np.array([image.get_total_energy() for image in images])\n",
    "\n",
    "fig = plt.figure()\n",
    "ax = fig.add_subplot(1, 1, 1)\n",
    "ax.plot(energies)\n",
    "ax.set_xlabel(\"replica\")\n",
    "ax.set_ylabel(\"energy\")\n",
    "fig.show()"
   ]
  },
  {
   "cell_type": "markdown",
   "id": "9158dea4-84b7-4dbd-8584-41281a160cf8",
   "metadata": {},
   "source": [
    "The activation energy can be calculated as follows.\n",
    "\n",
    "Here, the activation energy in the forward reaction X→Y is denoted as `E_act_forward`, and reverse reaction Y→X is denoted as `E_act_backward`."
   ]
  },
  {
   "cell_type": "code",
   "execution_count": 8,
   "id": "4b02f3db-a3c4-4bd8-bb3c-5dfdad369e73",
   "metadata": {},
   "outputs": [
    {
     "name": "stdout",
     "output_type": "stream",
     "text": [
      "ts_index       = 2\n",
      "E_act_forward  = 1.61 eV\n",
      "E_act_backward = 3.20 eV\n"
     ]
    }
   ],
   "source": [
    "# Transition state takes maximum energy in the reaction path\n",
    "ts_index = np.argmax(energies)\n",
    "\n",
    "E_act_forward = energies[ts_index] - energies[0]\n",
    "E_act_backward = energies[ts_index] - energies[-1]\n",
    "\n",
    "print(f\"ts_index       = {ts_index}\")\n",
    "print(f\"E_act_forward  = {E_act_forward:.2f} eV\")\n",
    "print(f\"E_act_backward = {E_act_backward:.2f} eV\")"
   ]
  },
  {
   "cell_type": "markdown",
   "id": "56e66d24-0abe-475d-9e1d-0e343e6e73d4",
   "metadata": {},
   "source": [
    "You can visualize the structure in the Notebook as well, or you can save the image as a file. Let's have a try.\n",
    "\n",
    "The results are output as a trajectories rather than a single structure since it is NEB calculation. Let's save it as an animated GIF using ASE."
   ]
  },
  {
   "cell_type": "code",
   "execution_count": 9,
   "id": "ff993291-fea4-4be6-968d-69df4c45d4d3",
   "metadata": {},
   "outputs": [
    {
     "data": {
      "image/png": "[encoded data removed]",
      "text/plain": [
       "<Figure size 640x480 with 1 Axes>"
      ]
     },
     "metadata": {},
     "output_type": "display_data"
    }
   ],
   "source": [
    "fig = plt.figure(facecolor=\"white\")\n",
    "ax = fig.add_subplot()\n",
    "ase.io.write(\n",
    "    \"output/curtius_NEB.gif\",\n",
    "    images,\n",
    "    format=\"gif\",\n",
    "    ax=ax\n",
    ")"
   ]
  },
  {
   "cell_type": "markdown",
   "id": "0461b681-6f8b-46c7-977c-1650db646a32",
   "metadata": {},
   "source": [
    "You can see a static image of the final structure above, but if you double-click on \"curtius_NEB.gif\" in the file viewer on the left, you can directly see the animated GIF.\n",
    "\n",
    "If the calculations are successful, you will see the following animated GIFs."
   ]
  },
  {
   "cell_type": "code",
   "execution_count": 10,
   "id": "5abf5550-5f63-47a4-80a7-ed6ed280438a",
   "metadata": {},
   "outputs": [
    {
     "data": {
      "image/gif": "[encoded data removed]",
      "text/plain": [
       "<IPython.core.display.Image object>"
      ]
     },
     "execution_count": 10,
     "metadata": {},
     "output_type": "execute_result"
    }
   ],
   "source": [
    "Image(\"output/curtius_NEB.gif\", format=\"gif\")"
   ]
  },
  {
   "cell_type": "markdown",
   "id": "407df7e4-641e-4425-9977-f24452918ffd",
   "metadata": {},
   "source": [
    "Finally, let's compare how the NEB method changed the reaction path before and after optimization.\n",
    "\n",
    "Call the `neb.interpolate()` function and compare the energy of the candidate structure `interpolated_images` of the reaction pathway before FIRE opt, and `images` after optimization by the NEB."
   ]
  },
  {
   "cell_type": "code",
   "execution_count": 11,
   "id": "a94ccf92-189e-40ab-a3f3-e3966d6071da",
   "metadata": {},
   "outputs": [
    {
     "name": "stderr",
     "output_type": "stream",
     "text": [
      "/tmp/ipykernel_25517/4187733795.py:8: FutureWarning: Please import NEB from ase.mep, not ase.neb.\n",
      "  neb = NEB(_images, k=0.1, climb=True, allow_shared_calculator=False, parallel=True)\n"
     ]
    }
   ],
   "source": [
    "_images = [react.copy()]\n",
    "_images += [react.copy() for i in range (7)]\n",
    "_images += [prod.copy()]\n",
    "for image in _images:\n",
    "    estimator = Estimator()\n",
    "    calculator = ASECalculator(estimator)\n",
    "    image.calc = calculator\n",
    "neb = NEB(_images, k=0.1, climb=True, allow_shared_calculator=False, parallel=True)\n",
    "neb.interpolate()\n",
    "interpolated_images = _images"
   ]
  },
  {
   "cell_type": "code",
   "execution_count": 12,
   "id": "879edb2d-54cb-48f1-aa3b-8d92a69278d9",
   "metadata": {},
   "outputs": [
    {
     "data": {
      "image/png": "[encoded data removed]",
      "text/plain": [
       "<Figure size 640x480 with 1 Axes>"
      ]
     },
     "metadata": {},
     "output_type": "display_data"
    }
   ],
   "source": [
    "initial_energies = [image.get_total_energy() for image in interpolated_images]\n",
    "opt_energies = [image.get_total_energy() for image in images]\n",
    "\n",
    "fig = plt.figure()\n",
    "ax = fig.add_subplot(1, 1, 1)\n",
    "ax.plot(initial_energies, label=\"neb interpolated\", color=\"red\")\n",
    "ax.plot(energies, label=\"after neb opt\")\n",
    "ax.set_xlabel(\"replica\")\n",
    "ax.set_ylabel(\"energy\")\n",
    "ax.legend()\n",
    "fig.show()"
   ]
  },
  {
   "cell_type": "markdown",
   "id": "31941ac2-3168-4774-88c6-a2e10c8f5fea",
   "metadata": {},
   "source": [
    "As can be seen from the above figure, NEB method has led to the discovery of a pathway with lower activation energy than the candidate reaction pathway (red line), i.e., a pathway with lower transition state energy (blue line)."
   ]
  },
  {
   "cell_type": "markdown",
   "id": "b6de66fd-8c32-48b7-b6eb-03b9beaef7d8",
   "metadata": {},
   "source": [
    "## [Column] Comparison of reaction pathway analysis methods and molecular dynamics\n",
    "\n",
    "In this section, the reaction pathway was explored using the NEB method, which specifies the starting and ending states.\n",
    "\n",
    "Molecular dynamics (MD) methods, described in the next chapter, can follow the time evolution of atoms. So, what about running the MD simulation until the chemical reaction occurs naturally? <br/>\n",
    "There are examples where activation energies can be analyzed by MD as well. The diffusion phenomenon of the Li ion is such an example.\n",
    "\n",
    " - [Li diffusion in Li10GeP2S12 sulfide solid electrolyte | MATLANTIS](https://matlantis.com/calculation/li-diffusion-in-li10gep2s12-sulfide-solid-electrolyte)\n",
    "\n",
    "However, **reaction time** is a challenging issue in general. <br/>\n",
    "Reactions are rare events. \n",
    "As you can see from the Arrhenius equation, it is a phenomenon whose frequency of occurrence changes exponentially with respect to the activation energy $E_a$.\n",
    "\n",
    "$$k = A \\exp \\left(- \\frac{E_a}{k_B T} \\right)$$\n",
    "\n",
    "Therefore, MD can see the reaction if the activation energy is very low.\n",
    "However, if the activation energy becomes higher, the reaction does not occur in the time scale that MD can handle (~ns) and cannot be detected efficiently.\n",
    "Futhermore, if the activation energy is even higher, it will be a phenomenon that does not occur even in the real world.\n",
    "\n",
    "For reference, let us look at the relationship between activation energy and the likelihood of a phenomenon. At 300 K, which is about room temperature, the value of $k_B T$, which is the denominator inside the exponential function of the Arrhenius equation, is roughly 0.026 eV.\n",
    "This means that the occurrence probablilty of a phenomenon with 1 eV higher activation energy is reduced by a factor of $\\exp\\left(-1/0.026\\right)$, or $2\\times10^{-17}$. \n",
    "Even considering the difference between macroscale and atomic scale, this is still a large differencet and the reaction can be regarded as a rare event.\n",
    "Similarly, $k_B T$ is 0.086 eV and 0.172 eV at 1000 K and 2000 K, respectively. It means that the likelihood of a phenomenon with 1 eV higher activation energy is about $9 \\times10^{-6}$ and $0.003$ times lower, respectively. \n",
    "This is significantly larger than the value at 300 K, and can be regarded as a frequently occurring phenomenon on the macroscopic scale.\n",
    "In general, the occurrence probability  of the phenomenon is very sensitive to the activation energy and temperature.\n",
    "By using reaction path analysis such as the NEB method, it is possible to efficiently analyze such rare events across exponential scales."
   ]
  },
  {
   "cell_type": "code",
   "execution_count": 13,
   "id": "8307430d-8ae1-4167-a80d-803ac45e238f",
   "metadata": {},
   "outputs": [
    {
     "name": "stdout",
     "output_type": "stream",
     "text": [
      "----- T = 300 K -----\n",
      "kB T : 0.026\n",
      "ratio: 1.59e-17\n",
      "----- T = 1000 K -----\n",
      "kB T : 0.086\n",
      "ratio: 9.12e-06\n",
      "----- T = 2000 K -----\n",
      "kB T : 0.172\n",
      "ratio: 3.02e-03\n"
     ]
    }
   ],
   "source": [
    "from ase.units import kB\n",
    "from math import exp\n",
    "\n",
    "for T in [300, 1000, 2000]:\n",
    "    kBT = kB * T\n",
    "    ratio = exp(-1 / (kBT))\n",
    "\n",
    "    print(f\"----- T = {T} K -----\")\n",
    "    print(f\"kB T : {kBT:.3f}\")\n",
    "    print(f\"ratio: {ratio:.2e}\")"
   ]
  },
  {
   "cell_type": "markdown",
   "id": "62d9e4e9-bfbf-4a3f-a5c5-3fb97883a253",
   "metadata": {},
   "source": [
    "In this sense, it may be possible to efficiently explore reactions that are difficult to see with MD by using the NEB method.\n",
    "\n",
    "In addition, several approaches for reaction path searching are described below.\n",
    "\n",
    "<table>\n",
    "  <tr>\n",
    "    <th width=\"250\">Approach</th>\n",
    "    <th >Characteristic</th>\n",
    "    <th width=\"150\">Methods</th>\n",
    "  </tr>\n",
    "  <tr>\n",
    "    <td>Reaction pathway search for a specific reaction pathway</td>\n",
    "    <td>A method to find the minimum energy path (MEP) in a neighborhood starting from a path connecting two stable structures. Although the MEP and the corresponding transition state can be found with relatively low computational cost, the results strongly depend on the reaction path assumed before the search because it is local search method.</td>\n",
    "    <td>NEB, String method etc.</td>\n",
    "  </tr>\n",
    "  <tr>\n",
    "    <td>Reaction path search without assuming reaction paths in advance</td>\n",
    "    <td>A method to find one or more reaction pathways without a priori assumptions about reaction pathways or post-reaction structures. In addition to the standard method of MD, there are other methods such as metadynamics, which aims to efficiently search for energy surfaces, and a method that uses information on local energy surfaces to search (ADDF).</td>\n",
    "      <td>MD, metadynamics, ADDF etc.</td>\n",
    "  </tr>\n",
    "</table>"
   ]
  },
  {
   "cell_type": "markdown",
   "id": "fd8d6961-52fc-4ebe-adf7-d2192855a6a4",
   "metadata": {},
   "source": [
    "## Reference\n",
    "\n",
    "The following references may be useful to those who would like to study further.\n",
    "\n",
    " - [GRRM : Global Reaction Route Mapping](https://iqce.jp/GRRM/index_e.shtml)"
   ]
  }
 ],
 "metadata": {
  "kernelspec": {
   "display_name": "Python 3.9",
   "language": "python",
   "name": "python39"
  },
  "language_info": {
   "codemirror_mode": {
    "name": "ipython",
    "version": 3
   },
   "file_extension": ".py",
   "mimetype": "text/x-python",
   "name": "python",
   "nbconvert_exporter": "python",
   "pygments_lexer": "ipython3",
   "version": "3.9.16"
  },
  "widgets": {
   "application/vnd.jupyter.widget-state+json": {
    "state": {
     "01b2f39f888741c0be628e59792951e8": {
      "model_module": "@jupyter-widgets/controls",
      "model_module_version": "1.5.0",
      "model_name": "DescriptionStyleModel",
      "state": {
       "description_width": ""
      }
     },
     "046b84cbd023450288e37d1ddcb21026": {
      "model_module": "@jupyter-widgets/controls",
      "model_module_version": "1.5.0",
      "model_name": "LinkModel",
      "state": {
       "source": [
        "IPY_MODEL_e87649fb2af848c7b93dd714c16c5883",
        "value"
       ],
       "target": [
        "IPY_MODEL_262f95891a364ccea92c32ff41c53dd2",
        "frame"
       ]
      }
     },
     "0814c6e5c26841089f67e139ffe2cede": {
      "model_module": "@jupyter-widgets/controls",
      "model_module_version": "1.5.0",
      "model_name": "LinkModel",
      "state": {
       "source": [
        "IPY_MODEL_e87649fb2af848c7b93dd714c16c5883",
        "max"
       ],
       "target": [
        "IPY_MODEL_262f95891a364ccea92c32ff41c53dd2",
        "max_frame"
       ]
      }
     },
     "096ce8d1eb864f3eaa5aa9047baaf47c": {
      "model_module": "@jupyter-widgets/base",
      "model_module_version": "1.2.0",
      "model_name": "LayoutModel",
      "state": {}
     },
     "0ccae37d159e4f5e9e0f7da721a302bc": {
      "model_module": "@jupyter-widgets/base",
      "model_module_version": "1.2.0",
      "model_name": "LayoutModel",
      "state": {}
     },
     "0f11ee9861624b12a73011ddd0db7f36": {
      "model_module": "@jupyter-widgets/controls",
      "model_module_version": "1.5.0",
      "model_name": "ButtonModel",
      "state": {
       "description": "Download image",
       "layout": "IPY_MODEL_35d5ffe8ab754e198d052b142dc4964b",
       "style": "IPY_MODEL_9602a08b8ad147338d9663b8321a001f",
       "tooltip": "Download current frame to your local PC"
      }
     },
     "0fa807db1c8043d7a93e80ee1bf8ae2f": {
      "model_module": "@jupyter-widgets/base",
      "model_module_version": "1.2.0",
      "model_name": "LayoutModel",
      "state": {}
     },
     "162dc3e677324ee3a2af794c8102fa0a": {
      "model_module": "@jupyter-widgets/controls",
      "model_module_version": "1.5.0",
      "model_name": "LinkModel",
      "state": {
       "source": [
        "IPY_MODEL_f9a2eff0dbcf4971ac16f2ee218c7099",
        "max"
       ],
       "target": [
        "IPY_MODEL_262f95891a364ccea92c32ff41c53dd2",
        "max_frame"
       ]
      }
     },
     "21c04e465daf498a863de9f606c5c8f6": {
      "model_module": "@jupyter-widgets/base",
      "model_module_version": "1.2.0",
      "model_name": "LayoutModel",
      "state": {}
     },
     "21dfb142ce7f40ada5e709fd97fec04c": {
      "model_module": "@jupyter-widgets/controls",
      "model_module_version": "1.5.0",
      "model_name": "FloatSliderModel",
      "state": {
       "description": "Force scale",
       "layout": "IPY_MODEL_096ce8d1eb864f3eaa5aa9047baaf47c",
       "step": 0.1,
       "style": "IPY_MODEL_3f6fa3da6e6f4a24b58af84638492f30",
       "value": 0.5
      }
     },
     "262f95891a364ccea92c32ff41c53dd2": {
      "model_module": "nglview-js-widgets",
      "model_module_version": "3.0.1",
      "model_name": "NGLModel",
      "state": {
       "_camera_orientation": [
        9.610689373535678,
        0,
        0,
        0,
        0,
        9.610689373535678,
        0,
        0,
        0,
        0,
        9.610689373535678,
        0,
        -0.0690000057220459,
        0.0820000171661377,
        0,
        1
       ],
       "_camera_str": "orthographic",
       "_gui_theme": null,
       "_ibtn_fullscreen": "IPY_MODEL_a8dd6536301c4703b7566fdcf4f1ed2f",
       "_igui": null,
       "_iplayer": "IPY_MODEL_92d125173998463b91f86fa3096c2a4e",
       "_ngl_color_dict": {},
       "_ngl_coordinate_resource": {},
       "_ngl_full_stage_parameters": {
        "ambientColor": 14540253,
        "ambientIntensity": 0.2,
        "backgroundColor": "white",
        "cameraEyeSep": 0.3,
        "cameraFov": 40,
        "cameraType": "orthographic",
        "clipDist": 0,
        "clipFar": 100,
        "clipNear": 0,
        "fogFar": 100,
        "fogNear": 50,
        "hoverTimeout": 0,
        "impostor": true,
        "lightColor": 14540253,
        "lightIntensity": 1,
        "mousePreset": "default",
        "panSpeed": 1,
        "quality": "medium",
        "rotateSpeed": 2,
        "sampleLevel": 0,
        "tooltip": true,
        "workerDefault": true,
        "zoomSpeed": 1.2
       },
       "_ngl_msg_archive": [
        {
         "args": [
          {
           "binary": false,
           "data": "MODEL     1\nATOM      1    C MOL     1       2.128  -0.489   0.000  1.00  0.00           C  \nATOM      2    C MOL     1       0.790   0.206   0.000  1.00  0.00           C  \nATOM      3    N MOL     1      -0.291  -0.749  -0.000  1.00  0.00           N  \nATOM      4    O MOL     1       0.630   1.415  -0.000  1.00  0.00           O  \nATOM      5    N MOL     1      -1.449  -0.302  -0.000  1.00  0.00           N  \nATOM      6    N MOL     1      -2.553  -0.002   0.000  1.00  0.00           N  \nATOM      7    H MOL     1       2.691  -0.160  -0.883  1.00  0.00           H  \nATOM      8    H MOL     1       2.032  -1.579  -0.000  1.00  0.00           H  \nATOM      9    H MOL     1       2.691  -0.160   0.883  1.00  0.00           H  \nENDMDL\n",
           "type": "blob"
          }
         ],
         "kwargs": {
          "defaultRepresentation": false,
          "ext": "pdb"
         },
         "methodName": "loadFile",
         "reconstruc_color_scheme": false,
         "target": "Stage",
         "type": "call_method"
        },
        {
         "args": [
          "500px",
          "500px"
         ],
         "kwargs": {},
         "methodName": "setSize",
         "reconstruc_color_scheme": false,
         "target": "Widget",
         "type": "call_method"
        },
        {
         "args": [
          "unitcell"
         ],
         "component_index": 0,
         "kwargs": {
          "sele": "all"
         },
         "methodName": "addRepresentation",
         "reconstruc_color_scheme": false,
         "target": "compList",
         "type": "call_method"
        },
        {
         "args": [
          "spacefill"
         ],
         "component_index": 0,
         "kwargs": {
          "sele": "all"
         },
         "methodName": "addRepresentation",
         "reconstruc_color_scheme": false,
         "target": "compList",
         "type": "call_method"
        },
        {
         "args": [],
         "kwargs": {
          "cameraType": "orthographic"
         },
         "methodName": "setParameters",
         "reconstruc_color_scheme": false,
         "target": "Stage",
         "type": "call_method"
        },
        {
         "args": [
          {
           "clipDist": 0
          }
         ],
         "kwargs": {},
         "methodName": "setParameters",
         "reconstruc_color_scheme": false,
         "target": "Widget",
         "type": "call_method"
        },
        {
         "args": [
          "spacefill",
          0
         ],
         "kwargs": {
          "colorScale": "rainbow",
          "colorScheme": "element",
          "radiusScale": 0.5,
          "radiusType": "covalent"
         },
         "methodName": "updateRepresentationsByName",
         "reconstruc_color_scheme": false,
         "target": "Widget",
         "type": "call_method"
        },
        {
         "args": [
          "this._Q = [[1.0, 0.0, 0.0], [0.0, 1.0, 0.0], [0.0, 0.0, 1.0]]\n    var tooltip = document.createElement('div');\n    Object.assign(tooltip.style, {\n      display: 'none',\n      position: 'fixed',\n      zIndex: 10,\n      pointerEvents: 'none',\n      backgroundColor: 'rgba( 0, 0, 0, 0.6 )',\n      color: 'lightgrey',\n      padding: '8px',\n      fontFamily: 'sans-serif'\n    });\n    document.body.appendChild(tooltip);\n\n    var that = this;\n    this.stage.mouseControls.remove('hoverPick');\n    this.stage.signals.hovered.add(function (pickingProxy) {\n      if (pickingProxy && (pickingProxy.atom || pickingProxy.bond)) {\n        var atom = pickingProxy.atom || pickingProxy.closestBondAtom\n        var mp = pickingProxy.mouse.position\n        //tooltip.innerText = atom.element + ' i=' + atom.index + ' (' + atom.x.toFixed(2) +  ', ' + atom.y.toFixed(2) +  ', ' + atom.z.toFixed(2) + ')'\n        //var pos = that._atoms_pos[atom.index]\n        var Q = that._Q\n        var pos_x = Q[0][0] * atom.x + Q[0][1] * atom.y + Q[0][2] * atom.z \n        var pos_y = Q[1][0] * atom.x + Q[1][1] * atom.y + Q[1][2] * atom.z\n        var pos_z = Q[2][0] * atom.x + Q[2][1] * atom.y + Q[2][2] * atom.z\n        tooltip.innerText = 'i=' + atom.index + ' ' + atom.element + ' (' + pos_x.toFixed(2) +  ', ' + pos_y.toFixed(2) +  ', ' + pos_z.toFixed(2) + ')'\n        tooltip.style.bottom = window.innerHeight - mp.y + 3 + 'px'\n        tooltip.style.left = mp.x + 3 + 'px'\n        tooltip.style.display = 'block'\n      } else {\n        tooltip.style.display = 'none'\n      }\n    });\n    this.stage.tooltip = tooltip;\n    "
         ],
         "kwargs": {},
         "methodName": "executeCode",
         "reconstruc_color_scheme": false,
         "target": "Widget",
         "type": "call_method"
        },
        {
         "args": [
          "ball+stick"
         ],
         "component_index": 0,
         "kwargs": {
          "sele": "all"
         },
         "methodName": "addRepresentation",
         "reconstruc_color_scheme": false,
         "target": "compList",
         "type": "call_method"
        }
       ],
       "_ngl_original_stage_parameters": {
        "ambientColor": 14540253,
        "ambientIntensity": 0.2,
        "backgroundColor": "white",
        "cameraEyeSep": 0.3,
        "cameraFov": 40,
        "cameraType": "perspective",
        "clipDist": 10,
        "clipFar": 100,
        "clipNear": 0,
        "fogFar": 100,
        "fogNear": 50,
        "hoverTimeout": 0,
        "impostor": true,
        "lightColor": 14540253,
        "lightIntensity": 1,
        "mousePreset": "default",
        "panSpeed": 1,
        "quality": "medium",
        "rotateSpeed": 2,
        "sampleLevel": 0,
        "tooltip": true,
        "workerDefault": true,
        "zoomSpeed": 1.2
       },
       "_ngl_repr_dict": {
        "0": {
         "0": {
          "params": {
           "clipCenter": {
            "x": 0,
            "y": 0,
            "z": 0
           },
           "clipNear": 0,
           "clipRadius": 0,
           "colorMode": "hcl",
           "colorReverse": false,
           "colorScale": "",
           "colorScheme": "element",
           "colorValue": "orange",
           "defaultAssembly": "",
           "depthWrite": true,
           "diffuse": 16777215,
           "diffuseInterior": false,
           "disableImpostor": false,
           "disablePicking": false,
           "flatShaded": false,
           "interiorColor": 2236962,
           "interiorDarkening": 0,
           "lazy": false,
           "matrix": {
            "elements": [
             1,
             0,
             0,
             0,
             0,
             1,
             0,
             0,
             0,
             0,
             1,
             0,
             0,
             0,
             0,
             1
            ]
           },
           "metalness": 0,
           "opacity": 1,
           "quality": "medium",
           "radialSegments": 10,
           "radiusData": {},
           "radiusScale": 1,
           "radiusSize": 0.5,
           "radiusType": "vdw",
           "roughness": 0.4,
           "sele": "all",
           "side": "double",
           "sphereDetail": 1,
           "useInteriorColor": true,
           "visible": true,
           "wireframe": false
          },
          "type": "unitcell"
         },
         "1": {
          "params": {
           "assembly": "default",
           "clipCenter": {
            "x": 0,
            "y": 0,
            "z": 0
           },
           "clipNear": 0,
           "clipRadius": 0,
           "colorMode": "hcl",
           "colorReverse": false,
           "colorScale": "rainbow",
           "colorScheme": "element",
           "colorValue": 9474192,
           "defaultAssembly": "",
           "depthWrite": true,
           "diffuse": 16777215,
           "diffuseInterior": false,
           "disableImpostor": false,
           "disablePicking": false,
           "flatShaded": false,
           "interiorColor": 2236962,
           "interiorDarkening": 0,
           "lazy": false,
           "matrix": {
            "elements": [
             1,
             0,
             0,
             0,
             0,
             1,
             0,
             0,
             0,
             0,
             1,
             0,
             0,
             0,
             0,
             1
            ]
           },
           "metalness": 0,
           "opacity": 1,
           "quality": "medium",
           "radiusData": {},
           "radiusScale": 0.5,
           "radiusSize": 1,
           "radiusType": "covalent",
           "roughness": 0.4,
           "sele": "all",
           "side": "double",
           "sphereDetail": 1,
           "useInteriorColor": true,
           "visible": true,
           "wireframe": false
          },
          "type": "spacefill"
         },
         "2": {
          "params": {
           "aspectRatio": 2,
           "assembly": "default",
           "bondScale": 0.4,
           "bondSpacing": 1,
           "clipCenter": {
            "x": 0,
            "y": 0,
            "z": 0
           },
           "clipNear": 0,
           "clipRadius": 0,
           "colorMode": "hcl",
           "colorReverse": false,
           "colorScale": "",
           "colorScheme": "element",
           "colorValue": 9474192,
           "cylinderOnly": false,
           "defaultAssembly": "",
           "depthWrite": true,
           "diffuse": 16777215,
           "diffuseInterior": false,
           "disableImpostor": false,
           "disablePicking": false,
           "flatShaded": false,
           "interiorColor": 2236962,
           "interiorDarkening": 0,
           "lazy": false,
           "lineOnly": false,
           "linewidth": 2,
           "matrix": {
            "elements": [
             1,
             0,
             0,
             0,
             0,
             1,
             0,
             0,
             0,
             0,
             1,
             0,
             0,
             0,
             0,
             1
            ]
           },
           "metalness": 0,
           "multipleBond": "off",
           "opacity": 1,
           "openEnded": true,
           "quality": "medium",
           "radialSegments": 10,
           "radiusData": {},
           "radiusScale": 1,
           "radiusSize": 0.15,
           "radiusType": "size",
           "roughness": 0.4,
           "sele": "all",
           "side": "double",
           "sphereDetail": 1,
           "useInteriorColor": true,
           "visible": true,
           "wireframe": false
          },
          "type": "ball+stick"
         }
        }
       },
       "_ngl_serialize": false,
       "_ngl_version": "2.0.0-dev.36",
       "_ngl_view_id": [
        "A5DFD523-58C9-4733-8233-FBD3113899C3"
       ],
       "_player_dict": {},
       "_scene_position": {},
       "_scene_rotation": {},
       "_synced_model_ids": [],
       "_synced_repr_model_ids": [],
       "_view_height": "",
       "_view_width": "",
       "background": "white",
       "frame": 0,
       "gui_style": null,
       "layout": "IPY_MODEL_5a9b75539a8f4754818dd8a551d36dc6",
       "max_frame": 1,
       "n_components": 1,
       "picked": {}
      }
     },
     "28c75cf333ce46eba3d0681301c8c565": {
      "model_module": "@jupyter-widgets/base",
      "model_module_version": "1.2.0",
      "model_name": "LayoutModel",
      "state": {}
     },
     "35060c1d7825481cb65b58b135e0c09b": {
      "model_module": "@jupyter-widgets/controls",
      "model_module_version": "1.5.0",
      "model_name": "CheckboxModel",
      "state": {
       "description": "Show force",
       "disabled": false,
       "layout": "IPY_MODEL_0fa807db1c8043d7a93e80ee1bf8ae2f",
       "style": "IPY_MODEL_77f1622a62284784ad137637ca0be992",
       "value": false
      }
     },
     "359f7263d8d347b7803bf3605b458f53": {
      "model_module": "@jupyter-widgets/base",
      "model_module_version": "1.2.0",
      "model_name": "LayoutModel",
      "state": {}
     },
     "35d5ffe8ab754e198d052b142dc4964b": {
      "model_module": "@jupyter-widgets/base",
      "model_module_version": "1.2.0",
      "model_name": "LayoutModel",
      "state": {}
     },
     "3f6fa3da6e6f4a24b58af84638492f30": {
      "model_module": "@jupyter-widgets/controls",
      "model_module_version": "1.5.0",
      "model_name": "SliderStyleModel",
      "state": {
       "description_width": ""
      }
     },
     "4abde59c9c204e9dbf8d3404fa00fd72": {
      "model_module": "@jupyter-widgets/controls",
      "model_module_version": "1.5.0",
      "model_name": "HBoxModel",
      "state": {
       "children": [
        "IPY_MODEL_0f11ee9861624b12a73011ddd0db7f36",
        "IPY_MODEL_f43b132681c34e038d04625a78c834e6"
       ],
       "layout": "IPY_MODEL_700897f773644bc9a4f60639cb04c9ee"
      }
     },
     "516894b2872841ff9a9a1e5f28a11122": {
      "model_module": "@jupyter-widgets/controls",
      "model_module_version": "1.5.0",
      "model_name": "FloatSliderModel",
      "state": {
       "description": "Ball size",
       "layout": "IPY_MODEL_d70ca523ced346fd8c58e56a8a2bff85",
       "max": 1.5,
       "step": 0.01,
       "style": "IPY_MODEL_9783fc8f32e7406b9455611d3ee45803",
       "value": 0.5
      }
     },
     "55ce86d6f3ec4fa18386e78bcc371313": {
      "model_module": "@jupyter-widgets/controls",
      "model_module_version": "1.5.0",
      "model_name": "DescriptionStyleModel",
      "state": {
       "description_width": ""
      }
     },
     "5a9b75539a8f4754818dd8a551d36dc6": {
      "model_module": "@jupyter-widgets/base",
      "model_module_version": "1.2.0",
      "model_name": "LayoutModel",
      "state": {}
     },
     "5f88c512ddc44d7bac67ecec7457d17f": {
      "model_module": "@jupyter-widgets/base",
      "model_module_version": "1.2.0",
      "model_name": "LayoutModel",
      "state": {}
     },
     "5fbb5180573446dc95ced06c71166e35": {
      "model_module": "@jupyter-widgets/controls",
      "model_module_version": "1.5.0",
      "model_name": "TextModel",
      "state": {
       "description": "Filename: ",
       "layout": "IPY_MODEL_7b73a1a5013b49588f5b1474afdfba83",
       "style": "IPY_MODEL_72d0c8479a674db0bad03720a19351cd",
       "value": "screenshot.png"
      }
     },
     "6976e45f99f34c84b52f2acd9d6499d9": {
      "model_module": "@jupyter-widgets/base",
      "model_module_version": "1.2.0",
      "model_name": "LayoutModel",
      "state": {}
     },
     "6997f2367481448dac7236c4e698faf4": {
      "model_module": "@jupyter-widgets/output",
      "model_module_version": "1.0.0",
      "model_name": "OutputModel",
      "state": {
       "layout": "IPY_MODEL_9c9bb2cf1091409f82548a9eb6d67c59"
      }
     },
     "6aa9e1c76855425b982fc902e5d812cf": {
      "model_module": "@jupyter-widgets/controls",
      "model_module_version": "1.5.0",
      "model_name": "FloatSliderModel",
      "state": {
       "description": "Charge scale",
       "layout": "IPY_MODEL_28c75cf333ce46eba3d0681301c8c565",
       "step": 0.1,
       "style": "IPY_MODEL_91162cc35ce345878b0357bec98a3f82",
       "value": 1
      }
     },
     "700897f773644bc9a4f60639cb04c9ee": {
      "model_module": "@jupyter-widgets/base",
      "model_module_version": "1.2.0",
      "model_name": "LayoutModel",
      "state": {}
     },
     "706ddcb90cd143829b06c724c7176776": {
      "model_module": "@jupyter-widgets/controls",
      "model_module_version": "1.5.0",
      "model_name": "DescriptionStyleModel",
      "state": {
       "description_width": ""
      }
     },
     "72d0c8479a674db0bad03720a19351cd": {
      "model_module": "@jupyter-widgets/controls",
      "model_module_version": "1.5.0",
      "model_name": "DescriptionStyleModel",
      "state": {
       "description_width": ""
      }
     },
     "732b7b23b8a14ea9b372a004d8b0e0a9": {
      "model_module": "@jupyter-widgets/base",
      "model_module_version": "1.2.0",
      "model_name": "LayoutModel",
      "state": {}
     },
     "77f1622a62284784ad137637ca0be992": {
      "model_module": "@jupyter-widgets/controls",
      "model_module_version": "1.5.0",
      "model_name": "DescriptionStyleModel",
      "state": {
       "description_width": ""
      }
     },
     "7b1ed2d4210c4375b4ffa3021175dd61": {
      "model_module": "@jupyter-widgets/controls",
      "model_module_version": "1.5.0",
      "model_name": "LinkModel",
      "state": {
       "source": [
        "IPY_MODEL_e87649fb2af848c7b93dd714c16c5883",
        "value"
       ],
       "target": [
        "IPY_MODEL_f9a2eff0dbcf4971ac16f2ee218c7099",
        "value"
       ]
      }
     },
     "7b73a1a5013b49588f5b1474afdfba83": {
      "model_module": "@jupyter-widgets/base",
      "model_module_version": "1.2.0",
      "model_name": "LayoutModel",
      "state": {}
     },
     "7b8fef2e37da441691d8ad184729c23a": {
      "model_module": "@jupyter-widgets/controls",
      "model_module_version": "1.5.0",
      "model_name": "SliderStyleModel",
      "state": {
       "description_width": ""
      }
     },
     "7ca2918b0b9242478db69eb0d4d6daeb": {
      "model_module": "@jupyter-widgets/controls",
      "model_module_version": "1.5.0",
      "model_name": "VBoxModel",
      "state": {
       "children": [
        "IPY_MODEL_918c3d0d227145008561938c32b6c67e",
        "IPY_MODEL_f1da2d1ed920491da0f11a7c029b73f3",
        "IPY_MODEL_516894b2872841ff9a9a1e5f28a11122",
        "IPY_MODEL_dd0340ef618841d596b23d50315fe264",
        "IPY_MODEL_5fbb5180573446dc95ced06c71166e35",
        "IPY_MODEL_4abde59c9c204e9dbf8d3404fa00fd72",
        "IPY_MODEL_35060c1d7825481cb65b58b135e0c09b",
        "IPY_MODEL_21dfb142ce7f40ada5e709fd97fec04c",
        "IPY_MODEL_d1d27eb6cec345b2bf1e53aa64d11b37",
        "IPY_MODEL_6aa9e1c76855425b982fc902e5d812cf",
        "IPY_MODEL_6997f2367481448dac7236c4e698faf4"
       ],
       "layout": "IPY_MODEL_a29c598fab3449f397c5030fdae4488f"
      }
     },
     "7d4b5ed9a5d7491aa77851b72a09852e": {
      "model_module": "@jupyter-widgets/controls",
      "model_module_version": "1.5.0",
      "model_name": "ButtonStyleModel",
      "state": {}
     },
     "7ebc8deab2fa4b51833ad41bec5de2ad": {
      "model_module": "@jupyter-widgets/controls",
      "model_module_version": "1.5.0",
      "model_name": "ButtonStyleModel",
      "state": {}
     },
     "859ce3a22b384c00805f6fb69b9fccf8": {
      "model_module": "@jupyter-widgets/base",
      "model_module_version": "1.2.0",
      "model_name": "LayoutModel",
      "state": {}
     },
     "8a6cfd3d35024d5cb601bdb2b93088ff": {
      "model_module": "@jupyter-widgets/base",
      "model_module_version": "1.2.0",
      "model_name": "LayoutModel",
      "state": {}
     },
     "8deb9f32d54d4b81adc389ffc59d0540": {
      "model_module": "@jupyter-widgets/controls",
      "model_module_version": "1.5.0",
      "model_name": "HBoxModel",
      "state": {
       "children": [
        "IPY_MODEL_262f95891a364ccea92c32ff41c53dd2",
        "IPY_MODEL_7ca2918b0b9242478db69eb0d4d6daeb"
       ],
       "layout": "IPY_MODEL_5f88c512ddc44d7bac67ecec7457d17f"
      }
     },
     "91162cc35ce345878b0357bec98a3f82": {
      "model_module": "@jupyter-widgets/controls",
      "model_module_version": "1.5.0",
      "model_name": "SliderStyleModel",
      "state": {
       "description_width": ""
      }
     },
     "918c3d0d227145008561938c32b6c67e": {
      "model_module": "@jupyter-widgets/controls",
      "model_module_version": "1.5.0",
      "model_name": "DropdownModel",
      "state": {
       "_options_labels": [
        "All",
        "O",
        "N",
        "C",
        "H"
       ],
       "description": "Show",
       "index": 0,
       "layout": "IPY_MODEL_0ccae37d159e4f5e9e0f7da721a302bc",
       "style": "IPY_MODEL_706ddcb90cd143829b06c724c7176776"
      }
     },
     "92d125173998463b91f86fa3096c2a4e": {
      "model_module": "@jupyter-widgets/controls",
      "model_module_version": "1.5.0",
      "model_name": "HBoxModel",
      "state": {
       "children": [
        "IPY_MODEL_e87649fb2af848c7b93dd714c16c5883",
        "IPY_MODEL_f9a2eff0dbcf4971ac16f2ee218c7099"
       ],
       "layout": "IPY_MODEL_732b7b23b8a14ea9b372a004d8b0e0a9"
      }
     },
     "9602a08b8ad147338d9663b8321a001f": {
      "model_module": "@jupyter-widgets/controls",
      "model_module_version": "1.5.0",
      "model_name": "ButtonStyleModel",
      "state": {}
     },
     "9783fc8f32e7406b9455611d3ee45803": {
      "model_module": "@jupyter-widgets/controls",
      "model_module_version": "1.5.0",
      "model_name": "SliderStyleModel",
      "state": {
       "description_width": ""
      }
     },
     "97bb85d764714ead8391e15138f0bc0c": {
      "model_module": "@jupyter-widgets/controls",
      "model_module_version": "1.5.0",
      "model_name": "SliderStyleModel",
      "state": {
       "description_width": ""
      }
     },
     "9c9bb2cf1091409f82548a9eb6d67c59": {
      "model_module": "@jupyter-widgets/base",
      "model_module_version": "1.2.0",
      "model_name": "LayoutModel",
      "state": {
       "border": "0px solid black"
      }
     },
     "a29c598fab3449f397c5030fdae4488f": {
      "model_module": "@jupyter-widgets/base",
      "model_module_version": "1.2.0",
      "model_name": "LayoutModel",
      "state": {}
     },
     "a70974d0732744bcb732f1ee8d606876": {
      "model_module": "@jupyter-widgets/base",
      "model_module_version": "1.2.0",
      "model_name": "LayoutModel",
      "state": {}
     },
     "a8dd6536301c4703b7566fdcf4f1ed2f": {
      "model_module": "@jupyter-widgets/controls",
      "model_module_version": "1.5.0",
      "model_name": "ButtonModel",
      "state": {
       "icon": "compress",
       "layout": "IPY_MODEL_f680f9de339844ca806b129ee83b4720",
       "style": "IPY_MODEL_7ebc8deab2fa4b51833ad41bec5de2ad"
      }
     },
     "ae641344585f444980ae7a0e9a17891d": {
      "model_module": "@jupyter-widgets/controls",
      "model_module_version": "1.5.0",
      "model_name": "ImageModel",
      "state": {
       "layout": "IPY_MODEL_6976e45f99f34c84b52f2acd9d6499d9",
       "width": "900.0"
      }
     },
     "b32e1a19d91941ec8ea69f6fefbe10c3": {
      "model_module": "nglview-js-widgets",
      "model_module_version": "3.0.1",
      "model_name": "ColormakerRegistryModel",
      "state": {
       "_msg_ar": [],
       "_msg_q": [],
       "_ready": true,
       "layout": "IPY_MODEL_a70974d0732744bcb732f1ee8d606876"
      }
     },
     "d17829fea0674dd0b72632568d446b8f": {
      "model_module": "@jupyter-widgets/controls",
      "model_module_version": "1.5.0",
      "model_name": "DescriptionStyleModel",
      "state": {
       "description_width": ""
      }
     },
     "d1d27eb6cec345b2bf1e53aa64d11b37": {
      "model_module": "@jupyter-widgets/controls",
      "model_module_version": "1.5.0",
      "model_name": "CheckboxModel",
      "state": {
       "description": "Show charge",
       "disabled": false,
       "layout": "IPY_MODEL_ed23892fe2aa4fcf8c8b3dcbb4a80be4",
       "style": "IPY_MODEL_d17829fea0674dd0b72632568d446b8f",
       "value": false
      }
     },
     "d70ca523ced346fd8c58e56a8a2bff85": {
      "model_module": "@jupyter-widgets/base",
      "model_module_version": "1.2.0",
      "model_name": "LayoutModel",
      "state": {}
     },
     "dd0340ef618841d596b23d50315fe264": {
      "model_module": "@jupyter-widgets/controls",
      "model_module_version": "1.5.0",
      "model_name": "IntSliderModel",
      "state": {
       "layout": "IPY_MODEL_359f7263d8d347b7803bf3605b458f53",
       "max": 1,
       "style": "IPY_MODEL_97bb85d764714ead8391e15138f0bc0c"
      }
     },
     "e2cba217e0bf4d54a9fe60c6d8bc3691": {
      "model_module": "@jupyter-widgets/base",
      "model_module_version": "1.2.0",
      "model_name": "LayoutModel",
      "state": {}
     },
     "e87649fb2af848c7b93dd714c16c5883": {
      "model_module": "@jupyter-widgets/controls",
      "model_module_version": "1.5.0",
      "model_name": "PlayModel",
      "state": {
       "layout": "IPY_MODEL_859ce3a22b384c00805f6fb69b9fccf8",
       "max": 1,
       "style": "IPY_MODEL_01b2f39f888741c0be628e59792951e8"
      }
     },
     "ed23892fe2aa4fcf8c8b3dcbb4a80be4": {
      "model_module": "@jupyter-widgets/base",
      "model_module_version": "1.2.0",
      "model_name": "LayoutModel",
      "state": {}
     },
     "f1da2d1ed920491da0f11a7c029b73f3": {
      "model_module": "@jupyter-widgets/controls",
      "model_module_version": "1.5.0",
      "model_name": "DropdownModel",
      "state": {
       "_options_labels": [
        " ",
        "picking",
        "random",
        "uniform",
        "atomindex",
        "residueindex",
        "chainindex",
        "modelindex",
        "sstruc",
        "element",
        "resname",
        "bfactor",
        "hydrophobicity",
        "value",
        "volume",
        "occupancy"
       ],
       "description": "Color scheme",
       "index": 9,
       "layout": "IPY_MODEL_8a6cfd3d35024d5cb601bdb2b93088ff",
       "style": "IPY_MODEL_55ce86d6f3ec4fa18386e78bcc371313"
      }
     },
     "f43b132681c34e038d04625a78c834e6": {
      "model_module": "@jupyter-widgets/controls",
      "model_module_version": "1.5.0",
      "model_name": "ButtonModel",
      "state": {
       "description": "Save image",
       "layout": "IPY_MODEL_21c04e465daf498a863de9f606c5c8f6",
       "style": "IPY_MODEL_7d4b5ed9a5d7491aa77851b72a09852e",
       "tooltip": "Save current frame to file.\nCurrently .png and .html are supported.\nIt takes a bit time, please be patient."
      }
     },
     "f680f9de339844ca806b129ee83b4720": {
      "model_module": "@jupyter-widgets/base",
      "model_module_version": "1.2.0",
      "model_name": "LayoutModel",
      "state": {
       "width": "34px"
      }
     },
     "f9a2eff0dbcf4971ac16f2ee218c7099": {
      "model_module": "@jupyter-widgets/controls",
      "model_module_version": "1.5.0",
      "model_name": "IntSliderModel",
      "state": {
       "layout": "IPY_MODEL_e2cba217e0bf4d54a9fe60c6d8bc3691",
       "max": 1,
       "style": "IPY_MODEL_7b8fef2e37da441691d8ad184729c23a"
      }
     }
    },
    "version_major": 2,
    "version_minor": 0
   }
  }
 },
 "nbformat": 4,
 "nbformat_minor": 5
}
