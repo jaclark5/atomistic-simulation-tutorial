{
 "cells": [
  {
   "cell_type": "markdown",
   "id": "de4904f1-a204-48e6-bdf3-26b6d2e7d664",
   "metadata": {},
   "source": [
    "# Bulk energy\n",
    "\n",
    "In chapter 3, we will learn how to perform various energy calculations.\n",
    "\n",
    " - Binding energy\n",
    " - Cohesive energy\n",
    " - Vacancy formation energy\n",
    " - Surface energy\n",
    " - Interface energy\n",
    " - Excess energy\n",
    " - Adsorption energy\n",
    "\n",
    "By evaluating these energies, we can analyze what kind of materials or structures are stable.\n",
    "We will introduce the binding energy for molecular systems, the cohesive energy for crystal systems, and the vacancy formation energy for systems with defects in crystals."
   ]
  },
  {
   "cell_type": "markdown",
   "id": "a814fbe0-e127-42a6-9a8d-2e4fe297a643",
   "metadata": {},
   "source": [
    "## Binding energy\n",
    "\n",
    "It is defined as the difference in energy when the atoms are combined as a molecule from its isolated state.\n",
    "\n",
    "$$E_{\\rm{binding}} = E_{\\rm{molecule}} - E_{\\rm{isolated}}$$\n",
    "\n",
    "The binding energy $E_{\\rm{binding}}$ is obtained by taking $E_{\\rm{molecule}}$ as the energy of the molecule and $E_{\\rm{isolated}}$ as the energy of the isolated system.\n",
    "\n",
    "A molecule is composed of multiple atoms and multiple bonds. \n",
    "The energy required to isolate all of the atoms that make up a molecule is sometimes referred to as atomization energy.\n",
    "\n",
    "Here we will try to find the binding energy of the hydrogen molecule H2."
   ]
  },
  {
   "cell_type": "code",
   "execution_count": 1,
   "id": "d704964f-0278-4dfa-bb79-d5ebb7d07339",
   "metadata": {},
   "outputs": [
    {
     "name": "stdout",
     "output_type": "stream",
     "text": [
      "pfp_api_client: 1.18.0\n"
     ]
    }
   ],
   "source": [
    "import pfp_api_client\n",
    "from pfp_api_client.pfp.calculators.ase_calculator import ASECalculator\n",
    "from pfp_api_client.pfp.estimator import Estimator, EstimatorCalcMode\n",
    "\n",
    "\n",
    "print(f\"pfp_api_client: {pfp_api_client.__version__}\")\n",
    "\n",
    "estimator = Estimator(calc_mode=EstimatorCalcMode.CRYSTAL_U0, model_version=\"v3.0.0\")\n",
    "calculator = ASECalculator(estimator)"
   ]
  },
  {
   "cell_type": "markdown",
   "id": "67bd4082-43c6-4574-b212-42d8bcb23d9d",
   "metadata": {},
   "source": [
    "`E_mol` is the energy of the hydrogen molecule, and we need to get the energy of the stable structure after the structural optimization. <br/>\n",
    "`E_iso` is the energy of two hydrogen atoms in isolation. \n",
    "Since this is a single atom, the energy remains the same for any coordinate value, and no structural optimization is required.\n",
    "\n",
    "In the following calculation, the energy of two H atoms in isolation is calculated by calculating the case of one H atom and multiplying by two."
   ]
  },
  {
   "cell_type": "code",
   "execution_count": 2,
   "id": "9cffe205-b0d9-4207-9132-6962d24e4ff5",
   "metadata": {},
   "outputs": [
    {
     "name": "stdout",
     "output_type": "stream",
     "text": [
      "       Step     Time          Energy          fmax\n",
      "LBFGS:    0 14:17:55       -4.528349        0.571417\n",
      "LBFGS:    1 14:17:55       -4.532424        0.068936\n",
      "LBFGS:    2 14:17:55       -4.532485        0.001519\n",
      "E_molecule = -4.53 eV\n",
      "E_isolated = -0.00 eV\n"
     ]
    }
   ],
   "source": [
    "from ase import Atoms\n",
    "from ase.build import molecule\n",
    "from ase.optimize import LBFGS\n",
    "\n",
    "atoms_mol = molecule(\"H2\")\n",
    "atoms_mol.calc = calculator\n",
    "LBFGS(atoms_mol).run()\n",
    "E_mol = atoms_mol.get_potential_energy()\n",
    "print(f\"E_molecule = {E_mol:.2f} eV\")\n",
    "\n",
    "atoms_isolated = Atoms(\"H\")\n",
    "atoms_isolated.calc = calculator\n",
    "E_iso = atoms_isolated.get_potential_energy() * 2\n",
    "print(f\"E_isolated = {E_iso:.2f} eV\")"
   ]
  },
  {
   "cell_type": "code",
   "execution_count": 3,
   "id": "7619a130-488c-44bc-ba9d-17ebec76e931",
   "metadata": {},
   "outputs": [
    {
     "name": "stdout",
     "output_type": "stream",
     "text": [
      "E_binding  = -4.53 eV\n"
     ]
    }
   ],
   "source": [
    "E_bind = E_mol - E_iso\n",
    "\n",
    "print(f\"E_binding  = {E_bind:.2f} eV\")"
   ]
  },
  {
   "cell_type": "markdown",
   "id": "af07c882-5615-4c0a-80db-1bfbf5345842",
   "metadata": {},
   "source": [
    "Calculations using the above definition yield a negative value for the binding energy, confirming that it is more stable when H makes a bond to form a hydrogen molecule than when two H atoms are in isolation.\n",
    "\n",
    "In the following reference, the binding energy of H-H is listed as 4.5 eV, which was close to the result of this calculation.\n",
    "\n",
    " - https://websites.pmc.ucsc.edu/~fnimmo/website/binding_energies.pdf\n",
    "\n",
    "The various energies we will discuss are basically negative when they are stable. <br/>\n",
    "Absolute positive values are often written instead of negative values in the literature when it is obvious that they are negative.\n",
    "\n",
    "\n",
    "### The energy difference is important, not the absolute value\n",
    "\n",
    "The reference value for the energy of each element can be taken arbitrarily and varies with each potential energy calculation method. <br/>\n",
    "Note that the various energies we will look at in this chapter are only meaningful for **the energy difference** between the structures whose number of elements is the same.\n",
    "\n",
    "For example, we cannot directly compare the energy difference between an H2 molecule and a single H atom. <br/>\n",
    "Also note that if the elements are replaced (e.g., H$_2$ and HO), the energies cannot be compared."
   ]
  },
  {
   "cell_type": "markdown",
   "id": "575ed010-c314-4409-8402-5e4f5cf2e770",
   "metadata": {},
   "source": [
    "## Cohesive energy\n",
    "\n",
    "Next, let's look at the cohesive energy of the crystal.\n",
    "\n",
    "This is defined as the difference in energy when the atoms are agglomerated to form a crystal (bulk) from an isolated state.\n",
    "\n",
    "$$E_{\\rm{coh}} = E_{\\rm{bulk}} - E_{\\rm{isolated}}$$\n",
    "\n",
    "If $E_{\\rm{coh}}$ is calculated for a system consisting of $N$ atoms, the cohesive energy per atom is $E_{\\rm{coh}}/N$.\n",
    "\n",
    "For example, let us calculate the cohesive energy for the Au element. <br/>\n",
    "In the following, we calculate energy per atom for an isolated Au 1 atom `au_iso` and Au crystal `au_bulk`.\n",
    "\n",
    "At finite temperatures, `get_total_energy` also includes kinetic energy, but for now, we set it to 0, which corresponds to finding the cohesive energy at 0K."
   ]
  },
  {
   "cell_type": "code",
   "execution_count": 4,
   "id": "081d9114-796c-4a8b-b556-8c6e9ea5fe32",
   "metadata": {},
   "outputs": [
    {
     "name": "stdout",
     "output_type": "stream",
     "text": [
      "pfp_api_client: 1.18.0\n"
     ]
    }
   ],
   "source": [
    "import pfp_api_client\n",
    "from pfp_api_client.pfp.calculators.ase_calculator import ASECalculator\n",
    "from pfp_api_client.pfp.estimator import Estimator, EstimatorCalcMode\n",
    "\n",
    "\n",
    "print(f\"pfp_api_client: {pfp_api_client.__version__}\")\n",
    "\n",
    "estimator = Estimator(calc_mode=EstimatorCalcMode.CRYSTAL_U0, model_version=\"v3.0.0\")\n",
    "calculator = ASECalculator(estimator)"
   ]
  },
  {
   "cell_type": "code",
   "execution_count": 5,
   "id": "4f583a58-f431-461a-8b62-071a8c6301a6",
   "metadata": {},
   "outputs": [
    {
     "name": "stdout",
     "output_type": "stream",
     "text": [
      "       Step     Time          Energy          fmax\n",
      "LBFGS:    0 14:17:56       -3.002967        1.614090\n",
      "LBFGS:    1 14:17:56       -3.026008        0.445113\n",
      "LBFGS:    2 14:17:56       -3.028170        0.056708\n"
     ]
    },
    {
     "name": "stderr",
     "output_type": "stream",
     "text": [
      "/tmp/ipykernel_2119/3032443136.py:14: FutureWarning: Import StrainFilter from ase.filters\n",
      "  au_bulk_strain = StrainFilter(au_bulk)\n"
     ]
    },
    {
     "name": "stdout",
     "output_type": "stream",
     "text": [
      "LBFGS:    3 14:17:56       -3.028207        0.000668\n"
     ]
    }
   ],
   "source": [
    "from ase import Atoms\n",
    "from ase.build import bulk\n",
    "from ase.constraints import ExpCellFilter, StrainFilter\n",
    "from ase.optimize import LBFGS\n",
    "\n",
    "symbol = \"Au\"\n",
    "au_iso = Atoms(symbol)\n",
    "au_bulk = bulk(symbol)\n",
    "\n",
    "au_iso.calc = calculator\n",
    "E_iso = au_iso.get_total_energy()\n",
    "\n",
    "au_bulk.calc = calculator\n",
    "au_bulk_strain = StrainFilter(au_bulk)\n",
    "opt = LBFGS(au_bulk_strain)\n",
    "opt.run()\n",
    "E_bulk = au_bulk.get_total_energy()"
   ]
  },
  {
   "cell_type": "code",
   "execution_count": 6,
   "id": "b8bb9472-7b30-497f-8ea3-4dd5966ff18e",
   "metadata": {},
   "outputs": [
    {
     "name": "stdout",
     "output_type": "stream",
     "text": [
      "E_bulk     = -3.03 eV\n",
      "E_isolated = -0.04 eV\n",
      "E_coh      = -2.99 eV\n"
     ]
    }
   ],
   "source": [
    "E_coh = E_bulk - E_iso\n",
    "\n",
    "print(f\"E_bulk     = {E_bulk:.2f} eV\")\n",
    "print(f\"E_isolated = {E_iso:.2f} eV\")\n",
    "print(f\"E_coh      = {E_coh:.2f} eV\")"
   ]
  },
  {
   "cell_type": "markdown",
   "id": "ae96c11b-5661-4a06-adc0-968ff04b7742",
   "metadata": {},
   "source": [
    "In this example, the cohesive energy was obtained as `E_coh = -2.99` eV/atom. \n",
    "Cohesive energy is often expressed in eV/atom as a value per atom.\n",
    "\n",
    "A negative value of the cohesive energy indicates that the atoms are more stable as a crystal than when each atom exists in isolation."
   ]
  },
  {
   "cell_type": "markdown",
   "id": "022b8cc5-7629-4ff2-8267-1c473d993e33",
   "metadata": {},
   "source": [
    "The visualization for bulk and isolated atoms are as follows\n",
    "\n",
    "Both are the same single atom, but \"isolated\" represents a completely isolated atom with no periodic boundary, while \"bulk\" represents a system with a periodic boundary and an infinite series of crystals."
   ]
  },
  {
   "cell_type": "code",
   "execution_count": 7,
   "id": "6fe385ac-50c8-44db-90b9-c9648ee30d2c",
   "metadata": {
    "tags": []
   },
   "outputs": [],
   "source": [
    "from ase.io import write\n",
    "from IPython.display import Image\n",
    "\n",
    "write(\"output/au_iso.png\", au_iso, rotation=\"0x,0y,0z\")\n",
    "write(\"output/au_bulk.png\", au_bulk, rotation=\"0x,0y,0z\")"
   ]
  },
  {
   "cell_type": "code",
   "execution_count": 8,
   "id": "96f9e934-3d5b-4834-8279-64a8f6665728",
   "metadata": {},
   "outputs": [
    {
     "data": {
      "image/png": "[encoded data removed]",
      "text/plain": [
       "<Figure size 600x300 with 2 Axes>"
      ]
     },
     "metadata": {},
     "output_type": "display_data"
    }
   ],
   "source": [
    "import matplotlib.pyplot as plt\n",
    "import matplotlib.image as mpimg\n",
    "\n",
    "\n",
    "fig, axes = plt.subplots(1, 2, figsize=(6, 3))\n",
    "ax0, ax1 = axes\n",
    "ax0.imshow(mpimg.imread(\"output/au_iso.png\"))\n",
    "ax0.set_axis_off()\n",
    "ax0.set_title(\"Isolated\")\n",
    "ax1.imshow(mpimg.imread(\"output/au_bulk.png\"))\n",
    "ax1.set_axis_off()\n",
    "ax1.set_title(\"Bulk\")\n",
    "fig.show()"
   ]
  },
  {
   "cell_type": "code",
   "execution_count": 9,
   "id": "e1abf5b7-f9c2-4ac2-9837-0b994af2d934",
   "metadata": {},
   "outputs": [
    {
     "data": {
      "application/vnd.jupyter.widget-view+json": {
       "model_id": "4ecd42df1ac7400f9a536517aa6f487b",
       "version_major": 2,
       "version_minor": 0
      },
      "text/plain": []
     },
     "metadata": {},
     "output_type": "display_data"
    },
    {
     "data": {
      "application/vnd.jupyter.widget-view+json": {
       "model_id": "9901317834864243893f18e44e6f5e85",
       "version_major": 2,
       "version_minor": 0
      },
      "text/plain": [
       "HBox(children=(NGLWidget(max_frame=1), VBox(children=(Dropdown(description='Show', options=('All', 'Au'), valu…"
      ]
     },
     "metadata": {},
     "output_type": "display_data"
    }
   ],
   "source": [
    "from pfcc_extras.visualize.view import view_ngl\n",
    "\n",
    "view_ngl([au_iso, au_bulk], replace_structure=True)"
   ]
  },
  {
   "cell_type": "markdown",
   "id": "310b8441-75c9-4210-b9be-39f692d145fb",
   "metadata": {},
   "source": [
    "Let's run the above calculations for various elements."
   ]
  },
  {
   "cell_type": "code",
   "execution_count": 10,
   "id": "299f0d58-8023-4f86-8862-3c7f6ef24a54",
   "metadata": {},
   "outputs": [],
   "source": [
    "def calc_cohesive_energy(symbol, calculator):\n",
    "    atoms_iso = Atoms(symbol)\n",
    "    atoms_bulk = bulk(symbol)\n",
    "\n",
    "    atoms_iso.calc = calculator\n",
    "    E_iso = atoms_iso.get_total_energy() / len(atoms_iso)\n",
    "\n",
    "    atoms_bulk.calc = calculator\n",
    "    atoms_bulk_strain = StrainFilter(atoms_bulk)\n",
    "    opt = LBFGS(atoms_bulk_strain, logfile=None)\n",
    "    opt.run()\n",
    "    E_bulk = atoms_bulk.get_total_energy() / len(atoms_bulk)\n",
    "    E_coh = E_bulk - E_iso\n",
    "    print(f\"{symbol}: E_bulk {E_bulk:.2f} - E_iso {E_iso:.2f} = E_coh {E_coh:.2f} eV/atom\")\n",
    "    return E_bulk, E_iso, E_coh"
   ]
  },
  {
   "cell_type": "code",
   "execution_count": 11,
   "id": "17055e03-24fb-4b45-9e94-917c224c5b11",
   "metadata": {},
   "outputs": [
    {
     "name": "stderr",
     "output_type": "stream",
     "text": [
      "/tmp/ipykernel_2119/2154290698.py:9: FutureWarning: Import StrainFilter from ase.filters\n",
      "  atoms_bulk_strain = StrainFilter(atoms_bulk)\n"
     ]
    },
    {
     "name": "stdout",
     "output_type": "stream",
     "text": [
      "Fe: E_bulk -5.00 - E_iso -0.03 = E_coh -4.97 eV/atom\n",
      "Co: E_bulk -5.13 - E_iso 0.00 = E_coh -5.14 eV/atom\n",
      "Ni: E_bulk -4.82 - E_iso 0.00 = E_coh -4.82 eV/atom\n",
      "Cu: E_bulk -3.51 - E_iso 0.00 = E_coh -3.51 eV/atom\n",
      "Pt: E_bulk -5.45 - E_iso -0.02 = E_coh -5.43 eV/atom\n",
      "Au: E_bulk -3.03 - E_iso -0.04 = E_coh -2.99 eV/atom\n"
     ]
    }
   ],
   "source": [
    "for symbol in [\"Fe\", \"Co\", \"Ni\", \"Cu\", \"Pt\", \"Au\"]:\n",
    "    calc_cohesive_energy(symbol, calculator)"
   ]
  },
  {
   "cell_type": "markdown",
   "id": "d8c7c5f8-2d22-4485-8185-76b1004473ba",
   "metadata": {},
   "source": [
    "Table 2. in the literature　\"[Bulk Properties of Transition Metals: A Challenge for the Design of Universal Density Functionals](https://pubs.acs.org/doi/10.1021/ct500532v)\" contains DFT calculations and experimental values of cohesive energy for each element.\n",
    "\n",
    "Compared with PBE/GGA, which is the calculation condition of PFP CRYSTAL_U0 mode, we can see that the values are close."
   ]
  },
  {
   "cell_type": "markdown",
   "id": "e3ef95c8-95ea-4305-a47f-738d50f16346",
   "metadata": {},
   "source": [
    "Cohesive energy is defined not only for single elements but also for systems composed of multiple elements.\n",
    "\n",
    "As an example, let us calculate the cohesive energy of GaAs. \n",
    "From the following references, the experimental value is reported as about 6.5~6.7 eV/GaAs.\n",
    "\n",
    " - Cohesive Energies: http://cmt.dur.ac.uk/sjc/thesis_ppr/node50.html\n",
    " - GaAs (zinc-blende)\n",
    "http://www.ciss.iis.u-tokyo.ac.jp/theme/multi/material/periodic_detail/examples/GaAs_zb_gga/GaAs_zb_ggapbe.html\n"
   ]
  },
  {
   "cell_type": "markdown",
   "id": "844ade8c-4834-4b9b-9e9f-7dda7e8a0ac5",
   "metadata": {},
   "source": [
    "> Data retrieved from the Materials Project for GaAs (mp-2534) from database version v2021.11.10. <br/>\n",
    "> https://next-gen.materialsproject.org/materials/mp-2534"
   ]
  },
  {
   "cell_type": "code",
   "execution_count": 12,
   "id": "7c502237-bc7d-43bd-b78b-cd4e7414cec2",
   "metadata": {},
   "outputs": [
    {
     "data": {
      "application/vnd.jupyter.widget-view+json": {
       "model_id": "ca20e5fa196c420c9ad89034bd7b2365",
       "version_major": 2,
       "version_minor": 0
      },
      "text/plain": [
       "HBox(children=(NGLWidget(), VBox(children=(Dropdown(description='Show', options=('All', 'As', 'Ga'), value='Al…"
      ]
     },
     "metadata": {},
     "output_type": "display_data"
    }
   ],
   "source": [
    "from ase.io import read\n",
    "\n",
    "atoms_bulk = read(\"../input/mp_2534-GaAs.cif\")\n",
    "view_ngl(atoms_bulk, representations=[\"ball+stick\"])"
   ]
  },
  {
   "cell_type": "markdown",
   "id": "c9b998f0-b3ef-4ce8-bdf6-bbfe70656c64",
   "metadata": {},
   "source": [
    "First, the energy of GaAs as the above crystal is calculated as follows.\n",
    "Here we use `ExpCellFilter` to optimize both the cell size and the coordinates of the atoms."
   ]
  },
  {
   "cell_type": "code",
   "execution_count": 13,
   "id": "01f3766e-1be9-4c99-b29c-404db0290f5c",
   "metadata": {},
   "outputs": [
    {
     "name": "stdout",
     "output_type": "stream",
     "text": [
      "       Step     Time          Energy          fmax\n",
      "LBFGS:    0 14:18:04      -25.179112        0.239934\n",
      "LBFGS:    1 14:18:04      -25.177724        0.516134\n"
     ]
    },
    {
     "name": "stderr",
     "output_type": "stream",
     "text": [
      "/tmp/ipykernel_2119/1596021643.py:2: FutureWarning: Import ExpCellFilter from ase.filters\n",
      "  atoms_bulk_strain = ExpCellFilter(atoms_bulk)\n"
     ]
    },
    {
     "name": "stdout",
     "output_type": "stream",
     "text": [
      "LBFGS:    2 14:18:05      -25.179504        0.002928\n",
      "E_bulk -25.180 eV\n"
     ]
    }
   ],
   "source": [
    "atoms_bulk.calc = calculator\n",
    "atoms_bulk_strain = ExpCellFilter(atoms_bulk)\n",
    "opt = LBFGS(atoms_bulk_strain)\n",
    "opt.run()\n",
    "E_bulk = atoms_bulk.get_total_energy()\n",
    "\n",
    "print(f\"E_bulk {E_bulk:.3f} eV\")"
   ]
  },
  {
   "cell_type": "markdown",
   "id": "f958b079-91ac-4c28-9356-ea645277f878",
   "metadata": {},
   "source": [
    "Next, the energy of the isolated system are calculated separately for Ga and As."
   ]
  },
  {
   "cell_type": "code",
   "execution_count": 14,
   "id": "3565f46a-80af-456a-ae80-257714847d4c",
   "metadata": {},
   "outputs": [
    {
     "name": "stdout",
     "output_type": "stream",
     "text": [
      "E_ga -0.03 eV, E_as 0.00 eV\n"
     ]
    }
   ],
   "source": [
    "atoms_ga = Atoms(\"Ga\")\n",
    "atoms_ga.calc = calculator\n",
    "E_ga = atoms_ga.get_total_energy()\n",
    "atoms_as = Atoms(\"As\")\n",
    "atoms_as.calc = calculator\n",
    "E_as = atoms_as.get_total_energy()\n",
    "\n",
    "print(f\"E_ga {E_ga:.2f} eV, E_as {E_as:.2f} eV\")"
   ]
  },
  {
   "cell_type": "code",
   "execution_count": 15,
   "id": "1510fa5b-6314-4207-80de-c0b047a0c40f",
   "metadata": {},
   "outputs": [
    {
     "name": "stdout",
     "output_type": "stream",
     "text": [
      "E_coh -6.27 eV/atom\n"
     ]
    }
   ],
   "source": [
    "E_iso = E_ga + E_as\n",
    "E_coh = E_bulk / len(atoms_bulk) * 2.0 - E_iso\n",
    "print(f\"E_coh {E_coh:.2f} eV/atom\")"
   ]
  },
  {
   "cell_type": "markdown",
   "id": "a0be0014-f8ef-4546-bfc0-d67a14d00290",
   "metadata": {},
   "source": [
    "To calculate the cohesive energy per pair of GaAs, `E_solid` is calculated for two atoms, and `E_iso` is the energy of Ga and As added together. <br/>\n",
    "Comparing the above-obtained values with the experimental values, they are obtained with an error of about 5%."
   ]
  },
  {
   "cell_type": "markdown",
   "id": "33ba4e62-d756-49a9-bcc2-897274b9af57",
   "metadata": {},
   "source": [
    "## Vacancy formation energy\n",
    "\n",
    "As the energy of a system with defects in the crystal, the vacancy formation energy is defined as\n",
    "\n",
    "$$E_{\\rm{V}} = E_{\\rm{defect}} - E_{\\rm{bulk}} \\cdot N_{\\rm{defect}} / N_{\\rm{bulk}}$$\n",
    "\n",
    "Here, the number of atoms in the system with defects is $N_{\\rm{defect}}$, and energy is $E_{\\rm{defect}}$, and the number of atoms in the crystalline system is $N_{\\rm{bulk}}$ and energy is $E_{\\rm{bulk}}$.\n",
    "\n",
    "Let's calculate the energy of vacancy formation in Al crystals as an example.\n",
    "\n",
    "Ideally, when creating a system with atomic vacancy, one atom would be removed from an infinite series of a crystal. \n",
    "But in practice, an infinitely large crystal cannot be calculated, so a sufficiently large crystal is created, and a defect structure is created by removing atoms from it.\n",
    "\n",
    "In the following, a defect structure is created by creating a **supercell** (`size=(5, 5, 5)`) that is made larger by repeating the unit cell and removing one atom from it. <br/>\n",
    "The defect structure assumes that defects occur only in a very small portion of a very large crystal (sparse defect structure), so larger supercell sizes are more appropriate for modeling, but on the other hand, too large a supercell size takes more computation time.\n",
    "An appropriate size should be selected.\n",
    "\n",
    "After the defect structure is created, the structural optimization is performed again because the stable structure is considered to be slightly different from the crystal arrangement.\n",
    "However, since the lattice constant is not expected to change if there is only one defect in the crystal, the defect structure's lattice constant should not change from the lattice constant of the structure-optimized crystal structure."
   ]
  },
  {
   "cell_type": "code",
   "execution_count": 16,
   "id": "bb9b87eb-0fef-40b9-9419-969152f88372",
   "metadata": {},
   "outputs": [
    {
     "name": "stdout",
     "output_type": "stream",
     "text": [
      "       Step     Time          Energy          fmax\n",
      "LBFGS:    0 14:18:05     -427.703389        2.909615\n",
      "LBFGS:    1 14:18:05     -419.520845      144.339664\n"
     ]
    },
    {
     "name": "stderr",
     "output_type": "stream",
     "text": [
      "/tmp/ipykernel_2119/1363110420.py:7: FutureWarning: Import ExpCellFilter from ase.filters\n",
      "  atoms_bulk_strain = ExpCellFilter(atoms_bulk)\n"
     ]
    },
    {
     "name": "stdout",
     "output_type": "stream",
     "text": [
      "LBFGS:    2 14:18:05     -427.708278        0.896745\n",
      "LBFGS:    3 14:18:05     -427.708634        0.274859\n",
      "LBFGS:    4 14:18:05     -427.708603        0.012427\n",
      "       Step     Time          Energy          fmax\n",
      "LBFGS:    0 14:18:05     -423.542266        0.208453\n",
      "LBFGS:    1 14:18:05     -423.549926        0.195295\n",
      "LBFGS:    2 14:18:05     -423.603352        0.045197\n"
     ]
    }
   ],
   "source": [
    "symbol = \"Al\"\n",
    "size = (5, 5, 5)\n",
    "\n",
    "atoms_bulk = bulk(symbol) * size\n",
    "\n",
    "atoms_bulk.calc = calculator\n",
    "atoms_bulk_strain = ExpCellFilter(atoms_bulk)\n",
    "opt = LBFGS(atoms_bulk_strain)\n",
    "opt.run()\n",
    "E_bulk = atoms_bulk.get_total_energy()\n",
    "\n",
    "atoms_defect = atoms_bulk.copy()\n",
    "# Create defect by removing 0-th atom\n",
    "del atoms_defect[0]\n",
    "\n",
    "atoms_defect.calc = calculator\n",
    "opt = LBFGS(atoms_defect)\n",
    "opt.run()\n",
    "E_defect = atoms_defect.get_total_energy()\n",
    "E_v = E_defect - E_bulk * len(atoms_defect) / len(atoms_bulk)"
   ]
  },
  {
   "cell_type": "markdown",
   "id": "26842811-6463-488a-a44b-b1e75f46af19",
   "metadata": {},
   "source": [
    "The resulting vacancy formation energy is as follows"
   ]
  },
  {
   "cell_type": "code",
   "execution_count": 17,
   "id": "011d1aeb-7fda-4883-911f-f4a194f8235b",
   "metadata": {},
   "outputs": [
    {
     "name": "stdout",
     "output_type": "stream",
     "text": [
      "E_bulk  : -427.71 eV\n",
      "E_defect: -423.60 eV\n",
      "E_v     : 0.68 eV\n"
     ]
    }
   ],
   "source": [
    "E_v = E_defect - E_bulk * len(atoms_defect) / len(atoms_bulk)\n",
    "print(f\"E_bulk  : {E_bulk:.2f} eV\")\n",
    "print(f\"E_defect: {E_defect:.2f} eV\")\n",
    "print(f\"E_v     : {E_v:.2f} eV\")"
   ]
  },
  {
   "cell_type": "code",
   "execution_count": 18,
   "id": "0c6962f4-03fe-41c3-90c9-603322cef1d0",
   "metadata": {},
   "outputs": [
    {
     "data": {
      "application/vnd.jupyter.widget-view+json": {
       "model_id": "10218f5091f54ed58f36de8f04b298bb",
       "version_major": 2,
       "version_minor": 0
      },
      "text/plain": [
       "HBox(children=(NGLWidget(max_frame=1), VBox(children=(Dropdown(description='Show', options=('All', 'Al'), valu…"
      ]
     },
     "metadata": {},
     "output_type": "display_data"
    }
   ],
   "source": [
    "view_ngl([atoms_defect, atoms_bulk], replace_structure=True)"
   ]
  },
  {
   "cell_type": "markdown",
   "id": "367e905b-4226-4554-b67e-5fcba1d0687b",
   "metadata": {},
   "source": [
    "Let's make a method to run this calculation for various elements and supercell sizes."
   ]
  },
  {
   "cell_type": "code",
   "execution_count": 19,
   "id": "dc276fc0-53ca-4c24-be3c-6c04d32363fa",
   "metadata": {},
   "outputs": [],
   "source": [
    "def calc_vacancy_energy(symbol: str, calculator, size=(5, 5, 5)):\n",
    "\n",
    "    atoms_bulk = bulk(symbol) * size\n",
    "\n",
    "    atoms_bulk.calc = calculator\n",
    "    atoms_bulk_strain = ExpCellFilter(atoms_bulk)\n",
    "    opt = LBFGS(atoms_bulk_strain, logfile=None)\n",
    "    opt.run()\n",
    "    E_bulk = atoms_bulk.get_total_energy()\n",
    "\n",
    "    atoms_defect = atoms_bulk.copy()\n",
    "    # Create defect by removing 0-th atom\n",
    "    del atoms_defect[0]\n",
    "\n",
    "    atoms_defect.calc = calculator\n",
    "    opt = LBFGS(atoms_defect, logfile=None)\n",
    "    opt.run()\n",
    "    E_defect = atoms_defect.get_total_energy()\n",
    "    E_v = E_defect - E_bulk * len(atoms_defect) / len(atoms_bulk)\n",
    "    return E_bulk, E_defect, E_v"
   ]
  },
  {
   "cell_type": "code",
   "execution_count": 20,
   "id": "bb3161a0-e151-4a2c-a4d3-cff199c3fa64",
   "metadata": {},
   "outputs": [
    {
     "name": "stderr",
     "output_type": "stream",
     "text": [
      "/tmp/ipykernel_2119/777994303.py:6: FutureWarning: Import ExpCellFilter from ase.filters\n",
      "  atoms_bulk_strain = ExpCellFilter(atoms_bulk)\n"
     ]
    },
    {
     "name": "stdout",
     "output_type": "stream",
     "text": [
      "Al E_v = 0.68 eV\n",
      "Cu E_v = 1.10 eV\n",
      "Mo E_v = 3.47 eV\n",
      "Ta E_v = 3.12 eV\n",
      "Si E_v = 3.20 eV\n"
     ]
    }
   ],
   "source": [
    "for symbol in [\"Al\", \"Cu\", \"Mo\", \"Ta\", \"Si\"]:\n",
    "    E_bulk, E_defect, E_v = calc_vacancy_energy(symbol=symbol, calculator=calculator)\n",
    "    print(f\"{symbol} E_v = {E_v:.2f} eV\")"
   ]
  },
  {
   "cell_type": "markdown",
   "id": "64aba7b8-6047-4de6-a4a4-55393137a71d",
   "metadata": {},
   "source": [
    "Reference\n",
    "\n",
    " - Vacancy Formation Energy: http://micro.stanford.edu/mediawiki/images/2/29/VFE.pdf\n",
    "\n",
    "Here you will find the vacancy formation energies calculated for the classical force field, which cannot be compared because of the different potential. \n",
    "But if we compare them for reference, we will see that the trends are generally similar."
   ]
  },
  {
   "cell_type": "markdown",
   "id": "382dcc4d-039e-4a70-9f42-a181a79c9cee",
   "metadata": {},
   "source": [
    "Finally, let us examine the size dependence of the supercell for a better understanding."
   ]
  },
  {
   "cell_type": "code",
   "execution_count": 21,
   "id": "0df2c311-7128-4840-9411-f4b382cf95b4",
   "metadata": {},
   "outputs": [
    {
     "name": "stderr",
     "output_type": "stream",
     "text": [
      "/tmp/ipykernel_2119/777994303.py:6: FutureWarning: Import ExpCellFilter from ase.filters\n",
      "  atoms_bulk_strain = ExpCellFilter(atoms_bulk)\n"
     ]
    },
    {
     "name": "stdout",
     "output_type": "stream",
     "text": [
      "Al i = 2, E_v = 0.76 eV\n",
      "Al i = 3, E_v = 0.69 eV\n",
      "Al i = 4, E_v = 0.72 eV\n",
      "Al i = 5, E_v = 0.68 eV\n",
      "Al i = 6, E_v = 0.67 eV\n",
      "Al i = 7, E_v = 0.67 eV\n"
     ]
    }
   ],
   "source": [
    "symbol = \"Al\"\n",
    "E_v_list = []\n",
    "for i in range(2, 8):\n",
    "    E_bulk, E_defect, E_v = calc_vacancy_energy(symbol=symbol, calculator=calculator, size=(i, i, i))\n",
    "    print(f\"{symbol} i = {i}, E_v = {E_v:.2f} eV\")\n",
    "    E_v_list.append(E_v)"
   ]
  },
  {
   "cell_type": "code",
   "execution_count": 22,
   "id": "9356d4ef-272e-4f0f-9985-1e9811fa479d",
   "metadata": {},
   "outputs": [
    {
     "data": {
      "image/png": "[encoded data removed]",
      "text/plain": [
       "<Figure size 640x480 with 1 Axes>"
      ]
     },
     "metadata": {},
     "output_type": "display_data"
    }
   ],
   "source": [
    "plt.plot(range(2, 8), E_v_list)\n",
    "plt.title(\"E_v super cell size dependency\")\n",
    "plt.ylabel(\"eV\")\n",
    "plt.xlabel(\"super cell size\")\n",
    "plt.show()"
   ]
  },
  {
   "cell_type": "markdown",
   "id": "276a68fe-84b2-4611-a037-42855bc74c21",
   "metadata": {},
   "source": [
    "As the supercell size increases, it converges to the correct value, but if the supercell size is too small, we see that the wrong value is obtained."
   ]
  }
 ],
 "metadata": {
  "kernelspec": {
   "display_name": "Python 3.9",
   "language": "python",
   "name": "python39"
  },
  "language_info": {
   "codemirror_mode": {
    "name": "ipython",
    "version": 3
   },
   "file_extension": ".py",
   "mimetype": "text/x-python",
   "name": "python",
   "nbconvert_exporter": "python",
   "pygments_lexer": "ipython3",
   "version": "3.9.16"
  },
  "widgets": {
   "application/vnd.jupyter.widget-state+json": {
    "state": {
     "037328cafbdc452cbc5d4fceee88c407": {
      "model_module": "@jupyter-widgets/base",
      "model_module_version": "1.2.0",
      "model_name": "LayoutModel",
      "state": {}
     },
     "03956245e4054fe48d8bbcdef70206ce": {
      "model_module": "@jupyter-widgets/base",
      "model_module_version": "1.2.0",
      "model_name": "LayoutModel",
      "state": {}
     },
     "04ce47ca66e7495b8edb9ab6889025b0": {
      "model_module": "@jupyter-widgets/base",
      "model_module_version": "1.2.0",
      "model_name": "LayoutModel",
      "state": {}
     },
     "08d4b21b1b2243849c137ac4ad204fa3": {
      "model_module": "@jupyter-widgets/controls",
      "model_module_version": "1.5.0",
      "model_name": "SliderStyleModel",
      "state": {
       "description_width": ""
      }
     },
     "0904adfb20b34eab95320cc4257932b0": {
      "model_module": "@jupyter-widgets/base",
      "model_module_version": "1.2.0",
      "model_name": "LayoutModel",
      "state": {
       "border": "0px solid black"
      }
     },
     "0a6fc7ae59c54b448948bc34f3a28fd8": {
      "model_module": "@jupyter-widgets/base",
      "model_module_version": "1.2.0",
      "model_name": "LayoutModel",
      "state": {}
     },
     "0d24ccadd6304d6d8f6d30ded67a2ac9": {
      "model_module": "@jupyter-widgets/controls",
      "model_module_version": "1.5.0",
      "model_name": "FloatSliderModel",
      "state": {
       "description": "Force scale",
       "layout": "IPY_MODEL_77b7f1c1c1ad48c899e5646d6ad688b0",
       "step": 0.1,
       "style": "IPY_MODEL_deb535928dd347a8b48665c6fa1faea1",
       "value": 0.5
      }
     },
     "0e078c506db44683a9c6204666a48070": {
      "model_module": "nglview-js-widgets",
      "model_module_version": "3.0.1",
      "model_name": "ColormakerRegistryModel",
      "state": {
       "_msg_ar": [],
       "_msg_q": [],
       "_ready": true,
       "layout": "IPY_MODEL_4fbbc5e0ed7842f781fbcacce0905b97"
      }
     },
     "1248940871c5424194bd47b3df35cabd": {
      "model_module": "@jupyter-widgets/controls",
      "model_module_version": "1.5.0",
      "model_name": "LinkModel",
      "state": {
       "source": [
        "IPY_MODEL_afae2c02e47b44168879742d8aa0bba9",
        "max"
       ],
       "target": [
        "IPY_MODEL_bffcffea6bce4fef855b4b31c88d50f3",
        "max_frame"
       ]
      }
     },
     "1327ef72999340489e7d78a653aa662a": {
      "model_module": "@jupyter-widgets/base",
      "model_module_version": "1.2.0",
      "model_name": "LayoutModel",
      "state": {}
     },
     "1348b078ac454a2cb636bb23f44fd6d1": {
      "model_module": "@jupyter-widgets/base",
      "model_module_version": "1.2.0",
      "model_name": "LayoutModel",
      "state": {}
     },
     "14a5b6a6e4134286bdec000307f28812": {
      "model_module": "@jupyter-widgets/controls",
      "model_module_version": "1.5.0",
      "model_name": "CheckboxModel",
      "state": {
       "description": "Show charge",
       "disabled": false,
       "layout": "IPY_MODEL_0a6fc7ae59c54b448948bc34f3a28fd8",
       "style": "IPY_MODEL_7d143081a4f14683866e157a820f4cc5",
       "value": false
      }
     },
     "16a58eeb682a4d0c83ca34bba0a1cc46": {
      "model_module": "@jupyter-widgets/controls",
      "model_module_version": "1.5.0",
      "model_name": "VBoxModel",
      "state": {
       "children": [
        "IPY_MODEL_d554f4f13c9c4667923db4a62a804a52",
        "IPY_MODEL_ffdb29999b1b43a588c17e72fa35e701",
        "IPY_MODEL_7b4524e6424d4c049ba282776c38a0ec",
        "IPY_MODEL_9230ae60e3084f3aa148f83e17698376",
        "IPY_MODEL_a62c0565d6194e0b9e7c2885b10d6e2b",
        "IPY_MODEL_b909da93cae5480996b8f557a090c801",
        "IPY_MODEL_e02f8af2fd2e421783382ac956224bee",
        "IPY_MODEL_bcd8bb113dd54e7683121b9aaed86b75",
        "IPY_MODEL_14a5b6a6e4134286bdec000307f28812",
        "IPY_MODEL_4609283be282421d857dd6729979f567",
        "IPY_MODEL_e27215d51b624f0facf730a638b92c15"
       ],
       "layout": "IPY_MODEL_62f698a66a24486ea43d6c62f9a59fd9"
      }
     },
     "16bc9bbb504b4f28a26339b687c9c030": {
      "model_module": "@jupyter-widgets/controls",
      "model_module_version": "1.5.0",
      "model_name": "DescriptionStyleModel",
      "state": {
       "description_width": ""
      }
     },
     "16ee206a5a3141e6aaebc5ddb6c2a8a4": {
      "model_module": "@jupyter-widgets/controls",
      "model_module_version": "1.5.0",
      "model_name": "LinkModel",
      "state": {
       "source": [
        "IPY_MODEL_afae2c02e47b44168879742d8aa0bba9",
        "value"
       ],
       "target": [
        "IPY_MODEL_bffcffea6bce4fef855b4b31c88d50f3",
        "frame"
       ]
      }
     },
     "189c07709c7c4d22802164c06e1c5019": {
      "model_module": "@jupyter-widgets/controls",
      "model_module_version": "1.5.0",
      "model_name": "SliderStyleModel",
      "state": {
       "description_width": ""
      }
     },
     "19ba88836e8a455fabec2a4ef2bd256e": {
      "model_module": "@jupyter-widgets/base",
      "model_module_version": "1.2.0",
      "model_name": "LayoutModel",
      "state": {
       "width": "34px"
      }
     },
     "1a967ce3108543f9927fa5efb05601d0": {
      "model_module": "@jupyter-widgets/controls",
      "model_module_version": "1.5.0",
      "model_name": "LinkModel",
      "state": {
       "source": [
        "IPY_MODEL_7e2a4d4e1a044ef88168603db85d2887",
        "max"
       ],
       "target": [
        "IPY_MODEL_5b1a55aa819342a3be5dcc40906919ef",
        "max_frame"
       ]
      }
     },
     "1c9d62ffc0204ad69f3c0392c27d25e9": {
      "model_module": "@jupyter-widgets/controls",
      "model_module_version": "1.5.0",
      "model_name": "ButtonModel",
      "state": {
       "description": "Save image",
       "layout": "IPY_MODEL_bc2950e2b3884c4e81294ef571ec5736",
       "style": "IPY_MODEL_5e8636b8089440bb9a838d4adf0f0a5b",
       "tooltip": "Save current frame to file.\nCurrently .png and .html are supported.\nIt takes a bit time, please be patient."
      }
     },
     "1d4c1e040e704935b77b857730691208": {
      "model_module": "@jupyter-widgets/controls",
      "model_module_version": "1.5.0",
      "model_name": "TextModel",
      "state": {
       "description": "Filename: ",
       "layout": "IPY_MODEL_03956245e4054fe48d8bbcdef70206ce",
       "style": "IPY_MODEL_b0264f01dc004d238c80087bd890c3bc",
       "value": "screenshot.png"
      }
     },
     "1d5ea0fef6984c30b60c305b4eca3996": {
      "model_module": "nglview-js-widgets",
      "model_module_version": "3.0.1",
      "model_name": "NGLModel",
      "state": {
       "_camera_orientation": [
        2.6406977783709893,
        0,
        0,
        0,
        0,
        2.6406977783709893,
        0,
        0,
        0,
        0,
        2.6406977783709893,
        0,
        0,
        0,
        0,
        1
       ],
       "_camera_str": "orthographic",
       "_gui_theme": null,
       "_ibtn_fullscreen": "IPY_MODEL_d86a921a67804970a172b785c58a7184",
       "_igui": null,
       "_iplayer": "IPY_MODEL_518daeca38f1477393530bb388e1c41f",
       "_ngl_color_dict": {},
       "_ngl_coordinate_resource": {},
       "_ngl_full_stage_parameters": {
        "ambientColor": 14540253,
        "ambientIntensity": 0.2,
        "backgroundColor": "white",
        "cameraEyeSep": 0.3,
        "cameraFov": 40,
        "cameraType": "orthographic",
        "clipDist": 0,
        "clipFar": 100,
        "clipNear": 0,
        "fogFar": 100,
        "fogNear": 50,
        "hoverTimeout": 0,
        "impostor": true,
        "lightColor": 14540253,
        "lightIntensity": 1,
        "mousePreset": "default",
        "panSpeed": 1,
        "quality": "medium",
        "rotateSpeed": 2,
        "sampleLevel": 0,
        "tooltip": true,
        "workerDefault": true,
        "zoomSpeed": 1.2
       },
       "_ngl_msg_archive": [
        {
         "args": [
          {
           "binary": false,
           "data": "MODEL     1\nATOM      1   Au MOL     1       0.000   0.000   0.000  1.00  0.00          AU  \nENDMDL\n",
           "type": "blob"
          }
         ],
         "kwargs": {
          "defaultRepresentation": false,
          "ext": "pdb"
         },
         "methodName": "loadFile",
         "reconstruc_color_scheme": false,
         "target": "Stage",
         "type": "call_method"
        },
        {
         "args": [
          "500px",
          "500px"
         ],
         "kwargs": {},
         "methodName": "setSize",
         "reconstruc_color_scheme": false,
         "target": "Widget",
         "type": "call_method"
        },
        {
         "args": [
          "unitcell"
         ],
         "component_index": 0,
         "kwargs": {
          "sele": "all"
         },
         "methodName": "addRepresentation",
         "reconstruc_color_scheme": false,
         "target": "compList",
         "type": "call_method"
        },
        {
         "args": [
          "spacefill"
         ],
         "component_index": 0,
         "kwargs": {
          "sele": "all"
         },
         "methodName": "addRepresentation",
         "reconstruc_color_scheme": false,
         "target": "compList",
         "type": "call_method"
        },
        {
         "args": [],
         "kwargs": {
          "cameraType": "orthographic"
         },
         "methodName": "setParameters",
         "reconstruc_color_scheme": false,
         "target": "Stage",
         "type": "call_method"
        },
        {
         "args": [
          {
           "clipDist": 0
          }
         ],
         "kwargs": {},
         "methodName": "setParameters",
         "reconstruc_color_scheme": false,
         "target": "Widget",
         "type": "call_method"
        },
        {
         "args": [
          "spacefill",
          0
         ],
         "kwargs": {
          "colorScale": "rainbow",
          "colorScheme": "element",
          "radiusScale": 0.5,
          "radiusType": "covalent"
         },
         "methodName": "updateRepresentationsByName",
         "reconstruc_color_scheme": false,
         "target": "Widget",
         "type": "call_method"
        },
        {
         "args": [
          "this._Q = [[1.0, 0.0, 0.0], [0.0, 1.0, 0.0], [0.0, 0.0, 1.0]]\n    var tooltip = document.createElement('div');\n    Object.assign(tooltip.style, {\n      display: 'none',\n      position: 'fixed',\n      zIndex: 10,\n      pointerEvents: 'none',\n      backgroundColor: 'rgba( 0, 0, 0, 0.6 )',\n      color: 'lightgrey',\n      padding: '8px',\n      fontFamily: 'sans-serif'\n    });\n    document.body.appendChild(tooltip);\n\n    var that = this;\n    this.stage.mouseControls.remove('hoverPick');\n    this.stage.signals.hovered.add(function (pickingProxy) {\n      if (pickingProxy && (pickingProxy.atom || pickingProxy.bond)) {\n        var atom = pickingProxy.atom || pickingProxy.closestBondAtom\n        var mp = pickingProxy.mouse.position\n        //tooltip.innerText = atom.element + ' i=' + atom.index + ' (' + atom.x.toFixed(2) +  ', ' + atom.y.toFixed(2) +  ', ' + atom.z.toFixed(2) + ')'\n        //var pos = that._atoms_pos[atom.index]\n        var Q = that._Q\n        var pos_x = Q[0][0] * atom.x + Q[0][1] * atom.y + Q[0][2] * atom.z \n        var pos_y = Q[1][0] * atom.x + Q[1][1] * atom.y + Q[1][2] * atom.z\n        var pos_z = Q[2][0] * atom.x + Q[2][1] * atom.y + Q[2][2] * atom.z\n        tooltip.innerText = 'i=' + atom.index + ' ' + atom.element + ' (' + pos_x.toFixed(2) +  ', ' + pos_y.toFixed(2) +  ', ' + pos_z.toFixed(2) + ')'\n        tooltip.style.bottom = window.innerHeight - mp.y + 3 + 'px'\n        tooltip.style.left = mp.x + 3 + 'px'\n        tooltip.style.display = 'block'\n      } else {\n        tooltip.style.display = 'none'\n      }\n    });\n    this.stage.tooltip = tooltip;\n    "
         ],
         "kwargs": {},
         "methodName": "executeCode",
         "reconstruc_color_scheme": false,
         "target": "Widget",
         "type": "call_method"
        }
       ],
       "_ngl_original_stage_parameters": {
        "ambientColor": 14540253,
        "ambientIntensity": 0.2,
        "backgroundColor": "white",
        "cameraEyeSep": 0.3,
        "cameraFov": 40,
        "cameraType": "perspective",
        "clipDist": 10,
        "clipFar": 100,
        "clipNear": 0,
        "fogFar": 100,
        "fogNear": 50,
        "hoverTimeout": 0,
        "impostor": true,
        "lightColor": 14540253,
        "lightIntensity": 1,
        "mousePreset": "default",
        "panSpeed": 1,
        "quality": "medium",
        "rotateSpeed": 2,
        "sampleLevel": 0,
        "tooltip": true,
        "workerDefault": true,
        "zoomSpeed": 1.2
       },
       "_ngl_repr_dict": {
        "0": {
         "0": {
          "params": {
           "clipCenter": {
            "x": 0,
            "y": 0,
            "z": 0
           },
           "clipNear": 0,
           "clipRadius": 0,
           "colorMode": "hcl",
           "colorReverse": false,
           "colorScale": "",
           "colorScheme": "element",
           "colorValue": "orange",
           "defaultAssembly": "",
           "depthWrite": true,
           "diffuse": 16777215,
           "diffuseInterior": false,
           "disableImpostor": false,
           "disablePicking": false,
           "flatShaded": false,
           "interiorColor": 2236962,
           "interiorDarkening": 0,
           "lazy": false,
           "matrix": {
            "elements": [
             1,
             0,
             0,
             0,
             0,
             1,
             0,
             0,
             0,
             0,
             1,
             0,
             0,
             0,
             0,
             1
            ]
           },
           "metalness": 0,
           "opacity": 1,
           "quality": "medium",
           "radialSegments": 10,
           "radiusData": {},
           "radiusScale": 1,
           "radiusSize": 0.5,
           "radiusType": "vdw",
           "roughness": 0.4,
           "sele": "all",
           "side": "double",
           "sphereDetail": 1,
           "useInteriorColor": true,
           "visible": true,
           "wireframe": false
          },
          "type": "unitcell"
         },
         "1": {
          "params": {
           "assembly": "default",
           "clipCenter": {
            "x": 0,
            "y": 0,
            "z": 0
           },
           "clipNear": 0,
           "clipRadius": 0,
           "colorMode": "hcl",
           "colorReverse": false,
           "colorScale": "rainbow",
           "colorScheme": "element",
           "colorValue": 9474192,
           "defaultAssembly": "",
           "depthWrite": true,
           "diffuse": 16777215,
           "diffuseInterior": false,
           "disableImpostor": false,
           "disablePicking": false,
           "flatShaded": false,
           "interiorColor": 2236962,
           "interiorDarkening": 0,
           "lazy": false,
           "matrix": {
            "elements": [
             1,
             0,
             0,
             0,
             0,
             1,
             0,
             0,
             0,
             0,
             1,
             0,
             0,
             0,
             0,
             1
            ]
           },
           "metalness": 0,
           "opacity": 1,
           "quality": "medium",
           "radiusData": {},
           "radiusScale": 0.5,
           "radiusSize": 1,
           "radiusType": "covalent",
           "roughness": 0.4,
           "sele": "all",
           "side": "double",
           "sphereDetail": 1,
           "useInteriorColor": true,
           "visible": true,
           "wireframe": false
          },
          "type": "spacefill"
         }
        }
       },
       "_ngl_serialize": false,
       "_ngl_version": "2.0.0-dev.36",
       "_ngl_view_id": [
        "A9BB444C-90A2-4749-91C7-C3FB2EDE7998"
       ],
       "_player_dict": {},
       "_scene_position": {},
       "_scene_rotation": {},
       "_synced_model_ids": [],
       "_synced_repr_model_ids": [],
       "_view_height": "",
       "_view_width": "",
       "background": "white",
       "frame": 0,
       "gui_style": null,
       "layout": "IPY_MODEL_c5de1b3b2edb4cbcb9cfc171f6e215f5",
       "max_frame": 1,
       "n_components": 1,
       "picked": {}
      }
     },
     "1e6e747056d44a529e1832a7f075b3ab": {
      "model_module": "@jupyter-widgets/base",
      "model_module_version": "1.2.0",
      "model_name": "LayoutModel",
      "state": {}
     },
     "2187c5a11ed04fc981fdf1bd97132e21": {
      "model_module": "@jupyter-widgets/controls",
      "model_module_version": "1.5.0",
      "model_name": "FloatSliderModel",
      "state": {
       "description": "Charge scale",
       "layout": "IPY_MODEL_b77aededb3d6479c99f811eda1102ead",
       "step": 0.1,
       "style": "IPY_MODEL_4c4aca4d65764f2a9a0f3d1b4cfb977c",
       "value": 1
      }
     },
     "222ce992a00b4175b4feecf81825b227": {
      "model_module": "@jupyter-widgets/controls",
      "model_module_version": "1.5.0",
      "model_name": "DescriptionStyleModel",
      "state": {
       "description_width": ""
      }
     },
     "22a7a56a9a72410e9f70c0fb09cbb378": {
      "model_module": "@jupyter-widgets/controls",
      "model_module_version": "1.5.0",
      "model_name": "DescriptionStyleModel",
      "state": {
       "description_width": ""
      }
     },
     "23eab1074b6d4050bd6731293e455922": {
      "model_module": "@jupyter-widgets/controls",
      "model_module_version": "1.5.0",
      "model_name": "SliderStyleModel",
      "state": {
       "description_width": ""
      }
     },
     "249c6e257c924451913ab719d96d47db": {
      "model_module": "@jupyter-widgets/controls",
      "model_module_version": "1.5.0",
      "model_name": "HBoxModel",
      "state": {
       "children": [
        "IPY_MODEL_b5c0156b15a54f8a8dd619176f3c72d9",
        "IPY_MODEL_dfab9a8da2de42f9af351ac196a715f7"
       ],
       "layout": "IPY_MODEL_8afbfc09d7c44012873c05ac4d148bc3"
      }
     },
     "24c04633845b4f909daf1419f52035b1": {
      "model_module": "@jupyter-widgets/base",
      "model_module_version": "1.2.0",
      "model_name": "LayoutModel",
      "state": {}
     },
     "27729d6261f445648ce16725ed2cf474": {
      "model_module": "@jupyter-widgets/controls",
      "model_module_version": "1.5.0",
      "model_name": "HBoxModel",
      "state": {
       "children": [
        "IPY_MODEL_afae2c02e47b44168879742d8aa0bba9",
        "IPY_MODEL_57141c557f0c4770bca8aa2ae97f88ca"
       ],
       "layout": "IPY_MODEL_f2ba8d48a3cf4081b6f119e9324fbd8a"
      }
     },
     "298104a8774142eca8e627f9badba937": {
      "model_module": "@jupyter-widgets/base",
      "model_module_version": "1.2.0",
      "model_name": "LayoutModel",
      "state": {}
     },
     "2d9c810a033c42b994f54f0f3e05e855": {
      "model_module": "@jupyter-widgets/base",
      "model_module_version": "1.2.0",
      "model_name": "LayoutModel",
      "state": {}
     },
     "2ecc26243dc3485ba28f03b3fb17d17c": {
      "model_module": "@jupyter-widgets/controls",
      "model_module_version": "1.5.0",
      "model_name": "CheckboxModel",
      "state": {
       "description": "Show charge",
       "disabled": false,
       "layout": "IPY_MODEL_4b49591d6dd74813bdc4ddf18c4c8437",
       "style": "IPY_MODEL_222ce992a00b4175b4feecf81825b227",
       "value": false
      }
     },
     "2f82452906864ce28bc524f01a0afa98": {
      "model_module": "@jupyter-widgets/base",
      "model_module_version": "1.2.0",
      "model_name": "LayoutModel",
      "state": {}
     },
     "2fd603f188384bebbd9af82f6fa593d4": {
      "model_module": "@jupyter-widgets/base",
      "model_module_version": "1.2.0",
      "model_name": "LayoutModel",
      "state": {}
     },
     "310372109e364acd81cdc2b97c5c8d67": {
      "model_module": "@jupyter-widgets/controls",
      "model_module_version": "1.5.0",
      "model_name": "ButtonStyleModel",
      "state": {}
     },
     "314316e5265e45aa8c7baa6a804a0877": {
      "model_module": "@jupyter-widgets/base",
      "model_module_version": "1.2.0",
      "model_name": "LayoutModel",
      "state": {}
     },
     "31f7675384174bc992134eea4fd65d39": {
      "model_module": "@jupyter-widgets/controls",
      "model_module_version": "1.5.0",
      "model_name": "VBoxModel",
      "state": {
       "children": [
        "IPY_MODEL_47a2f1d817e04d37bb94c59bca2900aa",
        "IPY_MODEL_63f81770a9af452d82bb50df013f6f7f",
        "IPY_MODEL_be10c3562da04443a4d608f6499a18f1",
        "IPY_MODEL_d289f1e9307d41a89c2ebf6d0cbbe236",
        "IPY_MODEL_1d4c1e040e704935b77b857730691208",
        "IPY_MODEL_42161beb8307459bb939172fa8fd36fa",
        "IPY_MODEL_aa37142667a045edb676ef40aecac531",
        "IPY_MODEL_79ecc44824524ba786f332fc83908060",
        "IPY_MODEL_2ecc26243dc3485ba28f03b3fb17d17c",
        "IPY_MODEL_b80a14dea0534fa182e72c686c364353",
        "IPY_MODEL_6434b264df9a43e480690f61c253c690"
       ],
       "layout": "IPY_MODEL_24c04633845b4f909daf1419f52035b1"
      }
     },
     "3503a2c0c823466799a655031b356b6c": {
      "model_module": "@jupyter-widgets/controls",
      "model_module_version": "1.5.0",
      "model_name": "DropdownModel",
      "state": {
       "_options_labels": [
        "All",
        "As",
        "Ga"
       ],
       "description": "Show",
       "index": 0,
       "layout": "IPY_MODEL_1348b078ac454a2cb636bb23f44fd6d1",
       "style": "IPY_MODEL_9c11e6de9de4403b9fa5ee3b306b05f1"
      }
     },
     "38db635c717644948ce305fca71d0e01": {
      "model_module": "@jupyter-widgets/controls",
      "model_module_version": "1.5.0",
      "model_name": "LinkModel",
      "state": {
       "source": [
        "IPY_MODEL_830a3699931d4324af6b9a66dfbc342f",
        "value"
       ],
       "target": [
        "IPY_MODEL_70961fc1430e4368b3119a5920d05460",
        "value"
       ]
      }
     },
     "3a23fe07e6d24784b416b76bec9cfbb6": {
      "model_module": "@jupyter-widgets/controls",
      "model_module_version": "1.5.0",
      "model_name": "LinkModel",
      "state": {
       "source": [
        "IPY_MODEL_afae2c02e47b44168879742d8aa0bba9",
        "value"
       ],
       "target": [
        "IPY_MODEL_57141c557f0c4770bca8aa2ae97f88ca",
        "value"
       ]
      }
     },
     "3ed38460314048b0842edbd689288a3d": {
      "model_module": "@jupyter-widgets/output",
      "model_module_version": "1.0.0",
      "model_name": "OutputModel",
      "state": {
       "layout": "IPY_MODEL_0904adfb20b34eab95320cc4257932b0"
      }
     },
     "3fa0772656034027ab0b5f73d591aecb": {
      "model_module": "@jupyter-widgets/controls",
      "model_module_version": "1.5.0",
      "model_name": "ImageModel",
      "state": {
       "layout": "IPY_MODEL_8405fcf523e64202ad3511dd91f10091",
       "width": "900.0"
      }
     },
     "4041711fe0044f25a9fbcd3369e44c25": {
      "model_module": "@jupyter-widgets/base",
      "model_module_version": "1.2.0",
      "model_name": "LayoutModel",
      "state": {}
     },
     "42161beb8307459bb939172fa8fd36fa": {
      "model_module": "@jupyter-widgets/controls",
      "model_module_version": "1.5.0",
      "model_name": "HBoxModel",
      "state": {
       "children": [
        "IPY_MODEL_847e883d248f4eb6988c95a02040742d",
        "IPY_MODEL_d2a1d15e58ef4575981f7b20f0389b15"
       ],
       "layout": "IPY_MODEL_7ba77812b4204adca12010799c7ca872"
      }
     },
     "42d19ff8817a4e12a484f27fa05271ba": {
      "model_module": "@jupyter-widgets/controls",
      "model_module_version": "1.5.0",
      "model_name": "DescriptionStyleModel",
      "state": {
       "description_width": ""
      }
     },
     "4609283be282421d857dd6729979f567": {
      "model_module": "@jupyter-widgets/controls",
      "model_module_version": "1.5.0",
      "model_name": "FloatSliderModel",
      "state": {
       "description": "Charge scale",
       "layout": "IPY_MODEL_5d9b3e5c253349efb5aea1a9b7561acb",
       "step": 0.1,
       "style": "IPY_MODEL_f96bf28e0ae64ad8b5f155950b2bc8df",
       "value": 1
      }
     },
     "47a2f1d817e04d37bb94c59bca2900aa": {
      "model_module": "@jupyter-widgets/controls",
      "model_module_version": "1.5.0",
      "model_name": "DropdownModel",
      "state": {
       "_options_labels": [
        "All",
        "Au"
       ],
       "description": "Show",
       "index": 0,
       "layout": "IPY_MODEL_4ef17e4814e54c4cbd229f541876ed45",
       "style": "IPY_MODEL_efb02cd378374660956d4f027a65a336"
      }
     },
     "4b49591d6dd74813bdc4ddf18c4c8437": {
      "model_module": "@jupyter-widgets/base",
      "model_module_version": "1.2.0",
      "model_name": "LayoutModel",
      "state": {}
     },
     "4c4aca4d65764f2a9a0f3d1b4cfb977c": {
      "model_module": "@jupyter-widgets/controls",
      "model_module_version": "1.5.0",
      "model_name": "SliderStyleModel",
      "state": {
       "description_width": ""
      }
     },
     "4c6ee3f723f34e23b406b2a480ff0a66": {
      "model_module": "@jupyter-widgets/controls",
      "model_module_version": "1.5.0",
      "model_name": "DescriptionStyleModel",
      "state": {
       "description_width": ""
      }
     },
     "4ebf511d303f4d6dadcfd1a6f3e0ec7f": {
      "model_module": "@jupyter-widgets/controls",
      "model_module_version": "1.5.0",
      "model_name": "LinkModel",
      "state": {
       "source": [
        "IPY_MODEL_b8635a75bcd64ad8affada0d7c742d8b",
        "value"
       ],
       "target": [
        "IPY_MODEL_5b1a55aa819342a3be5dcc40906919ef",
        "frame"
       ]
      }
     },
     "4ef17e4814e54c4cbd229f541876ed45": {
      "model_module": "@jupyter-widgets/base",
      "model_module_version": "1.2.0",
      "model_name": "LayoutModel",
      "state": {}
     },
     "4fbbc5e0ed7842f781fbcacce0905b97": {
      "model_module": "@jupyter-widgets/base",
      "model_module_version": "1.2.0",
      "model_name": "LayoutModel",
      "state": {}
     },
     "51238e3fdaee4f748c1c61dfa5bbbf12": {
      "model_module": "@jupyter-widgets/controls",
      "model_module_version": "1.5.0",
      "model_name": "DescriptionStyleModel",
      "state": {
       "description_width": ""
      }
     },
     "518daeca38f1477393530bb388e1c41f": {
      "model_module": "@jupyter-widgets/controls",
      "model_module_version": "1.5.0",
      "model_name": "HBoxModel",
      "state": {
       "children": [
        "IPY_MODEL_830a3699931d4324af6b9a66dfbc342f",
        "IPY_MODEL_70961fc1430e4368b3119a5920d05460"
       ],
       "layout": "IPY_MODEL_83c71b69957f4398b18e0868ff40386c"
      }
     },
     "5275f8804b234bb2880e09895361f20c": {
      "model_module": "@jupyter-widgets/controls",
      "model_module_version": "1.5.0",
      "model_name": "CheckboxModel",
      "state": {
       "description": "Show force",
       "disabled": false,
       "layout": "IPY_MODEL_d4697a8538a84e9b8375d4d68096b14f",
       "style": "IPY_MODEL_71cfea2233214ea1bb551d6f9b9a406a",
       "value": false
      }
     },
     "52d33cd618214a61a3cb2c0e4e47ee4d": {
      "model_module": "@jupyter-widgets/base",
      "model_module_version": "1.2.0",
      "model_name": "LayoutModel",
      "state": {}
     },
     "53ced95f8cdc41b5b21fa4984fb910bd": {
      "model_module": "@jupyter-widgets/base",
      "model_module_version": "1.2.0",
      "model_name": "LayoutModel",
      "state": {
       "border": "0px solid black"
      }
     },
     "565830152e3e484f930b10d16385f3c4": {
      "model_module": "@jupyter-widgets/controls",
      "model_module_version": "1.5.0",
      "model_name": "DescriptionStyleModel",
      "state": {
       "description_width": ""
      }
     },
     "57141c557f0c4770bca8aa2ae97f88ca": {
      "model_module": "@jupyter-widgets/controls",
      "model_module_version": "1.5.0",
      "model_name": "IntSliderModel",
      "state": {
       "layout": "IPY_MODEL_f1edf76b5c7b4fa6a693c5f7e7d3e494",
       "max": 0,
       "style": "IPY_MODEL_6ff0087ecbc0441e936f3d91e8893ad7"
      }
     },
     "5a590af6f7a64529abe55472802ab220": {
      "model_module": "@jupyter-widgets/controls",
      "model_module_version": "1.5.0",
      "model_name": "LinkModel",
      "state": {
       "source": [
        "IPY_MODEL_70961fc1430e4368b3119a5920d05460",
        "max"
       ],
       "target": [
        "IPY_MODEL_1d5ea0fef6984c30b60c305b4eca3996",
        "max_frame"
       ]
      }
     },
     "5b1a55aa819342a3be5dcc40906919ef": {
      "model_module": "nglview-js-widgets",
      "model_module_version": "3.0.1",
      "model_name": "NGLModel",
      "state": {
       "_camera_orientation": [
        35.88304242435771,
        0,
        0,
        0,
        0,
        35.88304242435771,
        0,
        0,
        0,
        0,
        35.88304242435771,
        0,
        -12.145000398159027,
        -6.609000205993652,
        -4.689999782538507,
        1
       ],
       "_camera_str": "orthographic",
       "_gui_theme": null,
       "_ibtn_fullscreen": "IPY_MODEL_bc9a3d24ea334264aa62388d7d5731cc",
       "_igui": null,
       "_iplayer": "IPY_MODEL_f42bfea4502e475391e07cfe389fd175",
       "_ngl_color_dict": {},
       "_ngl_coordinate_resource": {},
       "_ngl_full_stage_parameters": {
        "ambientColor": 14540253,
        "ambientIntensity": 0.2,
        "backgroundColor": "white",
        "cameraEyeSep": 0.3,
        "cameraFov": 40,
        "cameraType": "orthographic",
        "clipDist": 0,
        "clipFar": 100,
        "clipNear": 0,
        "fogFar": 100,
        "fogNear": 50,
        "hoverTimeout": 0,
        "impostor": true,
        "lightColor": 14540253,
        "lightIntensity": 1,
        "mousePreset": "default",
        "panSpeed": 1,
        "quality": "medium",
        "rotateSpeed": 2,
        "sampleLevel": 0,
        "tooltip": true,
        "workerDefault": true,
        "zoomSpeed": 1.2
       },
       "_ngl_msg_archive": [
        {
         "args": [
          {
           "binary": false,
           "data": "CRYST1   14.302   14.302   14.302  60.00  60.00  60.00 P 1\nMODEL     1\nATOM      1   Al MOL     1       1.406   0.812   2.296  1.00  0.00          AL  \nATOM      2   Al MOL     1       2.856   1.649   4.663  1.00  0.00          AL  \nATOM      3   Al MOL     1       4.295   2.480   7.014  1.00  0.00          AL  \nATOM      4   Al MOL     1       5.745   3.317   9.381  1.00  0.00          AL  \nATOM      5   Al MOL     1       1.406   2.435  -0.000  1.00  0.00          AL  \nATOM      6   Al MOL     1       2.863   3.303   2.336  1.00  0.00          AL  \nATOM      7   Al MOL     1       4.290   4.127   4.672  1.00  0.00          AL  \nATOM      8   Al MOL     1       5.722   4.954   7.004  1.00  0.00          AL  \nATOM      9   Al MOL     1       7.151   5.752   9.381  1.00  0.00          AL  \nATOM     10   Al MOL     1       2.856   4.946  -0.000  1.00  0.00          AL  \nATOM     11   Al MOL     1       4.290   5.780   2.334  1.00  0.00          AL  \nATOM     12   Al MOL     1       5.722   6.607   4.672  1.00  0.00          AL  \nATOM     13   Al MOL     1       7.151   7.426   7.014  1.00  0.00          AL  \nATOM     14   Al MOL     1       8.581   8.259   9.342  1.00  0.00          AL  \nATOM     15   Al MOL     1       4.295   7.440   0.000  1.00  0.00          AL  \nATOM     16   Al MOL     1       5.722   8.255   2.336  1.00  0.00          AL  \nATOM     17   Al MOL     1       7.151   9.088   4.663  1.00  0.00          AL  \nATOM     18   Al MOL     1       8.581   9.908   7.006  1.00  0.00          AL  \nATOM     19   Al MOL     1      10.012  10.734   9.343  1.00  0.00          AL  \nATOM     20   Al MOL     1       5.745   9.950   0.000  1.00  0.00          AL  \nATOM     21   Al MOL     1       7.151  10.762   2.296  1.00  0.00          AL  \nATOM     22   Al MOL     1       8.581  11.560   4.673  1.00  0.00          AL  \nATOM     23   Al MOL     1      10.012  12.387   7.006  1.00  0.00          AL  \nATOM     24   Al MOL     1      11.440  13.211   9.342  1.00  0.00          AL  \nATOM     25   Al MOL     1       2.812  -0.000  -0.000  1.00  0.00          AL  \nATOM     26   Al MOL     1       4.292   0.827   2.336  1.00  0.00          AL  \nATOM     27   Al MOL     1       5.720   1.652   4.672  1.00  0.00          AL  \nATOM     28   Al MOL     1       7.151   2.478   7.004  1.00  0.00          AL  \nATOM     29   Al MOL     1       8.557   3.317   9.381  1.00  0.00          AL  \nATOM     30   Al MOL     1       4.292   2.478   0.001  1.00  0.00          AL  \nATOM     31   Al MOL     1       5.720   3.303   2.335  1.00  0.00          AL  \nATOM     32   Al MOL     1       7.151   4.129   4.672  1.00  0.00          AL  \nATOM     33   Al MOL     1       8.581   4.954   7.004  1.00  0.00          AL  \nATOM     34   Al MOL     1      10.006   5.777   9.347  1.00  0.00          AL  \nATOM     35   Al MOL     1       5.720   4.955   0.000  1.00  0.00          AL  \nATOM     36   Al MOL     1       7.151   5.781   2.335  1.00  0.00          AL  \nATOM     37   Al MOL     1       8.580   6.607   4.672  1.00  0.00          AL  \nATOM     38   Al MOL     1      10.011   7.431   7.007  1.00  0.00          AL  \nATOM     39   Al MOL     1      11.441   8.257   9.343  1.00  0.00          AL  \nATOM     40   Al MOL     1       7.151   7.430   0.001  1.00  0.00          AL  \nATOM     41   Al MOL     1       8.581   8.255   2.336  1.00  0.00          AL  \nATOM     42   Al MOL     1      10.011   9.083   4.671  1.00  0.00          AL  \nATOM     43   Al MOL     1      11.442   9.909   7.006  1.00  0.00          AL  \nATOM     44   Al MOL     1      12.872  10.735   9.343  1.00  0.00          AL  \nATOM     45   Al MOL     1       8.557   9.950  -0.000  1.00  0.00          AL  \nATOM     46   Al MOL     1      10.006  10.738   2.331  1.00  0.00          AL  \nATOM     47   Al MOL     1      11.441  11.560   4.671  1.00  0.00          AL  \nATOM     48   Al MOL     1      12.872  12.387   7.007  1.00  0.00          AL  \nATOM     49   Al MOL     1      14.302  13.218   9.347  1.00  0.00          AL  \nATOM     50   Al MOL     1       5.711  -0.000   0.000  1.00  0.00          AL  \nATOM     51   Al MOL     1       7.151   0.825   2.334  1.00  0.00          AL  \nATOM     52   Al MOL     1       8.582   1.652   4.672  1.00  0.00          AL  \nATOM     53   Al MOL     1      10.007   2.480   7.014  1.00  0.00          AL  \nATOM     54   Al MOL     1      11.443   3.301   9.342  1.00  0.00          AL  \nATOM     55   Al MOL     1       7.151   2.476   0.000  1.00  0.00          AL  \nATOM     56   Al MOL     1       8.582   3.303   2.335  1.00  0.00          AL  \nATOM     57   Al MOL     1      10.012   4.127   4.672  1.00  0.00          AL  \nATOM     58   Al MOL     1      11.441   4.954   7.007  1.00  0.00          AL  \nATOM     59   Al MOL     1      12.871   5.780   9.343  1.00  0.00          AL  \nATOM     60   Al MOL     1       8.582   4.955   0.000  1.00  0.00          AL  \nATOM     61   Al MOL     1      10.012   5.780   2.334  1.00  0.00          AL  \nATOM     62   Al MOL     1      11.442   6.606   4.671  1.00  0.00          AL  \nATOM     63   Al MOL     1      12.872   7.432   7.007  1.00  0.00          AL  \nATOM     64   Al MOL     1      14.302   8.257   9.342  1.00  0.00          AL  \nATOM     65   Al MOL     1      10.007   7.440   0.000  1.00  0.00          AL  \nATOM     66   Al MOL     1      11.441   8.258   2.335  1.00  0.00          AL  \nATOM     67   Al MOL     1      12.872   9.083   4.671  1.00  0.00          AL  \nATOM     68   Al MOL     1      14.302   9.909   7.007  1.00  0.00          AL  \nATOM     69   Al MOL     1      15.732  10.735   9.343  1.00  0.00          AL  \nATOM     70   Al MOL     1      11.443   9.908  -0.001  1.00  0.00          AL  \nATOM     71   Al MOL     1      12.871  10.735   2.335  1.00  0.00          AL  \nATOM     72   Al MOL     1      14.302  11.560   4.671  1.00  0.00          AL  \nATOM     73   Al MOL     1      15.732  12.387   7.007  1.00  0.00          AL  \nATOM     74   Al MOL     1      17.165  13.211   9.342  1.00  0.00          AL  \nATOM     75   Al MOL     1       8.591  -0.000   0.000  1.00  0.00          AL  \nATOM     76   Al MOL     1      10.010   0.827   2.336  1.00  0.00          AL  \nATOM     77   Al MOL     1      11.446   1.649   4.663  1.00  0.00          AL  \nATOM     78   Al MOL     1      12.871   2.477   7.006  1.00  0.00          AL  \nATOM     79   Al MOL     1      14.302   3.303   9.343  1.00  0.00          AL  \nATOM     80   Al MOL     1      10.010   2.478   0.001  1.00  0.00          AL  \nATOM     81   Al MOL     1      11.439   3.303   2.336  1.00  0.00          AL  \nATOM     82   Al MOL     1      12.872   4.128   4.671  1.00  0.00          AL  \nATOM     83   Al MOL     1      14.302   4.955   7.006  1.00  0.00          AL  \nATOM     84   Al MOL     1      15.733   5.780   9.343  1.00  0.00          AL  \nATOM     85   Al MOL     1      11.446   4.946  -0.000  1.00  0.00          AL  \nATOM     86   Al MOL     1      12.872   5.779   2.335  1.00  0.00          AL  \nATOM     87   Al MOL     1      14.302   6.606   4.671  1.00  0.00          AL  \nATOM     88   Al MOL     1      15.732   7.432   7.007  1.00  0.00          AL  \nATOM     89   Al MOL     1      17.163   8.257   9.343  1.00  0.00          AL  \nATOM     90   Al MOL     1      12.871   7.431  -0.000  1.00  0.00          AL  \nATOM     91   Al MOL     1      14.302   8.257   2.336  1.00  0.00          AL  \nATOM     92   Al MOL     1      15.732   9.083   4.671  1.00  0.00          AL  \nATOM     93   Al MOL     1      17.162   9.909   7.006  1.00  0.00          AL  \nATOM     94   Al MOL     1      18.592  10.734   9.343  1.00  0.00          AL  \nATOM     95   Al MOL     1      14.302   9.910  -0.000  1.00  0.00          AL  \nATOM     96   Al MOL     1      15.733  10.735   2.335  1.00  0.00          AL  \nATOM     97   Al MOL     1      17.163  11.560   4.671  1.00  0.00          AL  \nATOM     98   Al MOL     1      18.592  12.387   7.006  1.00  0.00          AL  \nATOM     99   Al MOL     1      20.022  13.212   9.342  1.00  0.00          AL  \nATOM    100   Al MOL     1      11.490   0.000   0.000  1.00  0.00          AL  \nATOM    101   Al MOL     1      12.896   0.812   2.296  1.00  0.00          AL  \nATOM    102   Al MOL     1      14.302   1.651   4.673  1.00  0.00          AL  \nATOM    103   Al MOL     1      15.733   2.477   7.006  1.00  0.00          AL  \nATOM    104   Al MOL     1      17.161   3.301   9.342  1.00  0.00          AL  \nATOM    105   Al MOL     1      12.896   2.435   0.000  1.00  0.00          AL  \nATOM    106   Al MOL     1      14.302   3.296   2.331  1.00  0.00          AL  \nATOM    107   Al MOL     1      15.732   4.128   4.671  1.00  0.00          AL  \nATOM    108   Al MOL     1      17.163   4.954   7.007  1.00  0.00          AL  \nATOM    109   Al MOL     1      18.598   5.777   9.347  1.00  0.00          AL  \nATOM    110   Al MOL     1      14.302   4.956  -0.001  1.00  0.00          AL  \nATOM    111   Al MOL     1      15.732   5.779   2.335  1.00  0.00          AL  \nATOM    112   Al MOL     1      17.162   6.606   4.671  1.00  0.00          AL  \nATOM    113   Al MOL     1      18.593   7.431   7.007  1.00  0.00          AL  \nATOM    114   Al MOL     1      20.023   8.259   9.342  1.00  0.00          AL  \nATOM    115   Al MOL     1      15.733   7.431  -0.000  1.00  0.00          AL  \nATOM    116   Al MOL     1      17.163   8.258   2.335  1.00  0.00          AL  \nATOM    117   Al MOL     1      18.593   9.083   4.671  1.00  0.00          AL  \nATOM    118   Al MOL     1      20.024   9.908   7.006  1.00  0.00          AL  \nATOM    119   Al MOL     1      21.453  10.734   9.342  1.00  0.00          AL  \nATOM    120   Al MOL     1      17.161   9.908  -0.001  1.00  0.00          AL  \nATOM    121   Al MOL     1      18.598  10.738   2.331  1.00  0.00          AL  \nATOM    122   Al MOL     1      20.024  11.560   4.673  1.00  0.00          AL  \nATOM    123   Al MOL     1      21.453  12.386   7.006  1.00  0.00          AL  \nATOM    124   Al MOL     1      22.884  13.212   9.342  1.00  0.00          AL  \nENDMDL\n",
           "type": "blob"
          }
         ],
         "kwargs": {
          "defaultRepresentation": false,
          "ext": "pdb"
         },
         "methodName": "loadFile",
         "reconstruc_color_scheme": false,
         "target": "Stage",
         "type": "call_method"
        },
        {
         "args": [
          "500px",
          "500px"
         ],
         "kwargs": {},
         "methodName": "setSize",
         "reconstruc_color_scheme": false,
         "target": "Widget",
         "type": "call_method"
        },
        {
         "args": [
          "unitcell"
         ],
         "component_index": 0,
         "kwargs": {
          "sele": "all"
         },
         "methodName": "addRepresentation",
         "reconstruc_color_scheme": false,
         "target": "compList",
         "type": "call_method"
        },
        {
         "args": [
          "spacefill"
         ],
         "component_index": 0,
         "kwargs": {
          "sele": "all"
         },
         "methodName": "addRepresentation",
         "reconstruc_color_scheme": false,
         "target": "compList",
         "type": "call_method"
        },
        {
         "args": [],
         "kwargs": {
          "cameraType": "orthographic"
         },
         "methodName": "setParameters",
         "reconstruc_color_scheme": false,
         "target": "Stage",
         "type": "call_method"
        },
        {
         "args": [
          {
           "clipDist": 0
          }
         ],
         "kwargs": {},
         "methodName": "setParameters",
         "reconstruc_color_scheme": false,
         "target": "Widget",
         "type": "call_method"
        },
        {
         "args": [
          "spacefill",
          0
         ],
         "kwargs": {
          "colorScale": "rainbow",
          "colorScheme": "element",
          "radiusScale": 0.5,
          "radiusType": "covalent"
         },
         "methodName": "updateRepresentationsByName",
         "reconstruc_color_scheme": false,
         "target": "Widget",
         "type": "call_method"
        },
        {
         "args": [
          "this._Q = [[9.321558894548332e-06, 0.7071063052552798, 0.7071072570560532], [0.8164952446535673, -0.40825528325339905, 0.40824397013770874], [0.577352158886775, 0.5773459073760839, -0.5773527412811568]]\n    var tooltip = document.createElement('div');\n    Object.assign(tooltip.style, {\n      display: 'none',\n      position: 'fixed',\n      zIndex: 10,\n      pointerEvents: 'none',\n      backgroundColor: 'rgba( 0, 0, 0, 0.6 )',\n      color: 'lightgrey',\n      padding: '8px',\n      fontFamily: 'sans-serif'\n    });\n    document.body.appendChild(tooltip);\n\n    var that = this;\n    this.stage.mouseControls.remove('hoverPick');\n    this.stage.signals.hovered.add(function (pickingProxy) {\n      if (pickingProxy && (pickingProxy.atom || pickingProxy.bond)) {\n        var atom = pickingProxy.atom || pickingProxy.closestBondAtom\n        var mp = pickingProxy.mouse.position\n        //tooltip.innerText = atom.element + ' i=' + atom.index + ' (' + atom.x.toFixed(2) +  ', ' + atom.y.toFixed(2) +  ', ' + atom.z.toFixed(2) + ')'\n        //var pos = that._atoms_pos[atom.index]\n        var Q = that._Q\n        var pos_x = Q[0][0] * atom.x + Q[0][1] * atom.y + Q[0][2] * atom.z \n        var pos_y = Q[1][0] * atom.x + Q[1][1] * atom.y + Q[1][2] * atom.z\n        var pos_z = Q[2][0] * atom.x + Q[2][1] * atom.y + Q[2][2] * atom.z\n        tooltip.innerText = 'i=' + atom.index + ' ' + atom.element + ' (' + pos_x.toFixed(2) +  ', ' + pos_y.toFixed(2) +  ', ' + pos_z.toFixed(2) + ')'\n        tooltip.style.bottom = window.innerHeight - mp.y + 3 + 'px'\n        tooltip.style.left = mp.x + 3 + 'px'\n        tooltip.style.display = 'block'\n      } else {\n        tooltip.style.display = 'none'\n      }\n    });\n    this.stage.tooltip = tooltip;\n    "
         ],
         "kwargs": {},
         "methodName": "executeCode",
         "reconstruc_color_scheme": false,
         "target": "Widget",
         "type": "call_method"
        }
       ],
       "_ngl_original_stage_parameters": {
        "ambientColor": 14540253,
        "ambientIntensity": 0.2,
        "backgroundColor": "white",
        "cameraEyeSep": 0.3,
        "cameraFov": 40,
        "cameraType": "perspective",
        "clipDist": 10,
        "clipFar": 100,
        "clipNear": 0,
        "fogFar": 100,
        "fogNear": 50,
        "hoverTimeout": 0,
        "impostor": true,
        "lightColor": 14540253,
        "lightIntensity": 1,
        "mousePreset": "default",
        "panSpeed": 1,
        "quality": "medium",
        "rotateSpeed": 2,
        "sampleLevel": 0,
        "tooltip": true,
        "workerDefault": true,
        "zoomSpeed": 1.2
       },
       "_ngl_repr_dict": {
        "0": {
         "0": {
          "params": {
           "clipCenter": {
            "x": 0,
            "y": 0,
            "z": 0
           },
           "clipNear": 0,
           "clipRadius": 0,
           "colorMode": "hcl",
           "colorReverse": false,
           "colorScale": "",
           "colorScheme": "element",
           "colorValue": "orange",
           "defaultAssembly": "",
           "depthWrite": true,
           "diffuse": 16777215,
           "diffuseInterior": false,
           "disableImpostor": false,
           "disablePicking": false,
           "flatShaded": false,
           "interiorColor": 2236962,
           "interiorDarkening": 0,
           "lazy": false,
           "matrix": {
            "elements": [
             1,
             0,
             0,
             0,
             0,
             1,
             0,
             0,
             0,
             0,
             1,
             0,
             0,
             0,
             0,
             1
            ]
           },
           "metalness": 0,
           "opacity": 1,
           "quality": "medium",
           "radialSegments": 10,
           "radiusData": {},
           "radiusScale": 1,
           "radiusSize": 0.06370271674421175,
           "radiusType": "vdw",
           "roughness": 0.4,
           "sele": "all",
           "side": "double",
           "sphereDetail": 1,
           "useInteriorColor": true,
           "visible": true,
           "wireframe": false
          },
          "type": "unitcell"
         },
         "1": {
          "params": {
           "assembly": "default",
           "clipCenter": {
            "x": 0,
            "y": 0,
            "z": 0
           },
           "clipNear": 0,
           "clipRadius": 0,
           "colorMode": "hcl",
           "colorReverse": false,
           "colorScale": "rainbow",
           "colorScheme": "element",
           "colorValue": 9474192,
           "defaultAssembly": "",
           "depthWrite": true,
           "diffuse": 16777215,
           "diffuseInterior": false,
           "disableImpostor": false,
           "disablePicking": false,
           "flatShaded": false,
           "interiorColor": 2236962,
           "interiorDarkening": 0,
           "lazy": false,
           "matrix": {
            "elements": [
             1,
             0,
             0,
             0,
             0,
             1,
             0,
             0,
             0,
             0,
             1,
             0,
             0,
             0,
             0,
             1
            ]
           },
           "metalness": 0,
           "opacity": 1,
           "quality": "medium",
           "radiusData": {},
           "radiusScale": 0.5,
           "radiusSize": 1,
           "radiusType": "covalent",
           "roughness": 0.4,
           "sele": "all",
           "side": "double",
           "sphereDetail": 1,
           "useInteriorColor": true,
           "visible": true,
           "wireframe": false
          },
          "type": "spacefill"
         }
        }
       },
       "_ngl_serialize": false,
       "_ngl_version": "2.0.0-dev.36",
       "_ngl_view_id": [
        "6C45FFC6-00C8-4E29-8004-55F0C19AE918"
       ],
       "_player_dict": {},
       "_scene_position": {},
       "_scene_rotation": {},
       "_synced_model_ids": [],
       "_synced_repr_model_ids": [],
       "_view_height": "",
       "_view_width": "",
       "background": "white",
       "frame": 0,
       "gui_style": null,
       "layout": "IPY_MODEL_9647b719031644c18d2cbec7ff5fc8e4",
       "max_frame": 1,
       "n_components": 1,
       "picked": {}
      }
     },
     "5d9b3e5c253349efb5aea1a9b7561acb": {
      "model_module": "@jupyter-widgets/base",
      "model_module_version": "1.2.0",
      "model_name": "LayoutModel",
      "state": {}
     },
     "5e8636b8089440bb9a838d4adf0f0a5b": {
      "model_module": "@jupyter-widgets/controls",
      "model_module_version": "1.5.0",
      "model_name": "ButtonStyleModel",
      "state": {}
     },
     "62f698a66a24486ea43d6c62f9a59fd9": {
      "model_module": "@jupyter-widgets/base",
      "model_module_version": "1.2.0",
      "model_name": "LayoutModel",
      "state": {}
     },
     "63f81770a9af452d82bb50df013f6f7f": {
      "model_module": "@jupyter-widgets/controls",
      "model_module_version": "1.5.0",
      "model_name": "DropdownModel",
      "state": {
       "_options_labels": [
        " ",
        "picking",
        "random",
        "uniform",
        "atomindex",
        "residueindex",
        "chainindex",
        "modelindex",
        "sstruc",
        "element",
        "resname",
        "bfactor",
        "hydrophobicity",
        "value",
        "volume",
        "occupancy"
       ],
       "description": "Color scheme",
       "index": 9,
       "layout": "IPY_MODEL_f7387ba57c4542e4ac57c846a0fd6d0d",
       "style": "IPY_MODEL_a4e3be1317ca4d6885771ff2a7e4e8ff"
      }
     },
     "6434b264df9a43e480690f61c253c690": {
      "model_module": "@jupyter-widgets/output",
      "model_module_version": "1.0.0",
      "model_name": "OutputModel",
      "state": {
       "layout": "IPY_MODEL_d82115a817db45b0abf48a293ea60bd3"
      }
     },
     "66e8224f5c5b4644b9da99418656d76c": {
      "model_module": "@jupyter-widgets/base",
      "model_module_version": "1.2.0",
      "model_name": "LayoutModel",
      "state": {}
     },
     "673e67a3854946e0ac9843b6351b52f9": {
      "model_module": "@jupyter-widgets/base",
      "model_module_version": "1.2.0",
      "model_name": "LayoutModel",
      "state": {}
     },
     "67f7aaa11d884d8da60fe0d85c1b3193": {
      "model_module": "@jupyter-widgets/controls",
      "model_module_version": "1.5.0",
      "model_name": "SliderStyleModel",
      "state": {
       "description_width": ""
      }
     },
     "6812470d3dcf4908be9491ff4d1dde30": {
      "model_module": "@jupyter-widgets/base",
      "model_module_version": "1.2.0",
      "model_name": "LayoutModel",
      "state": {}
     },
     "6e1dcdd369004802ba54cf1b5a44417e": {
      "model_module": "@jupyter-widgets/base",
      "model_module_version": "1.2.0",
      "model_name": "LayoutModel",
      "state": {}
     },
     "6e3f3ed2b82c4b46994f30acd61d1769": {
      "model_module": "@jupyter-widgets/controls",
      "model_module_version": "1.5.0",
      "model_name": "ImageModel",
      "state": {
       "layout": "IPY_MODEL_4041711fe0044f25a9fbcd3369e44c25",
       "width": "900.0"
      }
     },
     "6ff0087ecbc0441e936f3d91e8893ad7": {
      "model_module": "@jupyter-widgets/controls",
      "model_module_version": "1.5.0",
      "model_name": "SliderStyleModel",
      "state": {
       "description_width": ""
      }
     },
     "70961fc1430e4368b3119a5920d05460": {
      "model_module": "@jupyter-widgets/controls",
      "model_module_version": "1.5.0",
      "model_name": "IntSliderModel",
      "state": {
       "layout": "IPY_MODEL_04ce47ca66e7495b8edb9ab6889025b0",
       "max": 1,
       "style": "IPY_MODEL_67f7aaa11d884d8da60fe0d85c1b3193"
      }
     },
     "71cfea2233214ea1bb551d6f9b9a406a": {
      "model_module": "@jupyter-widgets/controls",
      "model_module_version": "1.5.0",
      "model_name": "DescriptionStyleModel",
      "state": {
       "description_width": ""
      }
     },
     "7294bdb3528f454c959ac5d791638a3a": {
      "model_module": "@jupyter-widgets/controls",
      "model_module_version": "1.5.0",
      "model_name": "ButtonStyleModel",
      "state": {}
     },
     "741aaa4963574ba5b5046ef1a1a373e9": {
      "model_module": "@jupyter-widgets/base",
      "model_module_version": "1.2.0",
      "model_name": "LayoutModel",
      "state": {}
     },
     "758d9714792243f1a6d15353c78a4cf5": {
      "model_module": "@jupyter-widgets/controls",
      "model_module_version": "1.5.0",
      "model_name": "SliderStyleModel",
      "state": {
       "description_width": ""
      }
     },
     "77b7f1c1c1ad48c899e5646d6ad688b0": {
      "model_module": "@jupyter-widgets/base",
      "model_module_version": "1.2.0",
      "model_name": "LayoutModel",
      "state": {}
     },
     "79ecc44824524ba786f332fc83908060": {
      "model_module": "@jupyter-widgets/controls",
      "model_module_version": "1.5.0",
      "model_name": "FloatSliderModel",
      "state": {
       "description": "Force scale",
       "layout": "IPY_MODEL_1327ef72999340489e7d78a653aa662a",
       "step": 0.1,
       "style": "IPY_MODEL_08d4b21b1b2243849c137ac4ad204fa3",
       "value": 0.5
      }
     },
     "7a46719cf0e24211ad7e2f28f00f41cb": {
      "model_module": "@jupyter-widgets/controls",
      "model_module_version": "1.5.0",
      "model_name": "ButtonStyleModel",
      "state": {}
     },
     "7b4524e6424d4c049ba282776c38a0ec": {
      "model_module": "@jupyter-widgets/controls",
      "model_module_version": "1.5.0",
      "model_name": "FloatSliderModel",
      "state": {
       "description": "Ball size",
       "layout": "IPY_MODEL_cc53384f98da4b75a8e201bd278ec17c",
       "max": 1.5,
       "step": 0.01,
       "style": "IPY_MODEL_23eab1074b6d4050bd6731293e455922",
       "value": 0.5
      }
     },
     "7ba77812b4204adca12010799c7ca872": {
      "model_module": "@jupyter-widgets/base",
      "model_module_version": "1.2.0",
      "model_name": "LayoutModel",
      "state": {}
     },
     "7d143081a4f14683866e157a820f4cc5": {
      "model_module": "@jupyter-widgets/controls",
      "model_module_version": "1.5.0",
      "model_name": "DescriptionStyleModel",
      "state": {
       "description_width": ""
      }
     },
     "7e2a4d4e1a044ef88168603db85d2887": {
      "model_module": "@jupyter-widgets/controls",
      "model_module_version": "1.5.0",
      "model_name": "IntSliderModel",
      "state": {
       "layout": "IPY_MODEL_e8c4cc4ea9f04ca1b1d6ea475a4cb5d5",
       "max": 1,
       "style": "IPY_MODEL_dd720d155fe14962bbc51840c73426c5"
      }
     },
     "808a1b3d7ff84c9c8d3156147257eea0": {
      "model_module": "@jupyter-widgets/controls",
      "model_module_version": "1.5.0",
      "model_name": "SliderStyleModel",
      "state": {
       "description_width": ""
      }
     },
     "8235d868afe0412c8127b6fa69c535de": {
      "model_module": "@jupyter-widgets/base",
      "model_module_version": "1.2.0",
      "model_name": "LayoutModel",
      "state": {}
     },
     "828484ff22f64b6496fc01f8a3ff2d51": {
      "model_module": "@jupyter-widgets/controls",
      "model_module_version": "1.5.0",
      "model_name": "VBoxModel",
      "state": {
       "children": [
        "IPY_MODEL_3503a2c0c823466799a655031b356b6c",
        "IPY_MODEL_b5069c1c5e934e9a97e5fe9c780f8b83",
        "IPY_MODEL_a55b5b5a27e847e0a2f12e1f905123d6",
        "IPY_MODEL_c038ddebfcb44c848d930436cfa1966c",
        "IPY_MODEL_249c6e257c924451913ab719d96d47db",
        "IPY_MODEL_5275f8804b234bb2880e09895361f20c",
        "IPY_MODEL_0d24ccadd6304d6d8f6d30ded67a2ac9",
        "IPY_MODEL_f4ada98f0fba44df9bcffd1e5cc39e06",
        "IPY_MODEL_2187c5a11ed04fc981fdf1bd97132e21",
        "IPY_MODEL_3ed38460314048b0842edbd689288a3d"
       ],
       "layout": "IPY_MODEL_f09b9dba7e8945acbed544aef03e87b6"
      }
     },
     "830a3699931d4324af6b9a66dfbc342f": {
      "model_module": "@jupyter-widgets/controls",
      "model_module_version": "1.5.0",
      "model_name": "PlayModel",
      "state": {
       "layout": "IPY_MODEL_298104a8774142eca8e627f9badba937",
       "max": 1,
       "style": "IPY_MODEL_a865b8aab3bb438d9afa1d15f8655c27"
      }
     },
     "8369eed1887b4dff85999cd7a17a3bd9": {
      "model_module": "@jupyter-widgets/base",
      "model_module_version": "1.2.0",
      "model_name": "LayoutModel",
      "state": {}
     },
     "83c71b69957f4398b18e0868ff40386c": {
      "model_module": "@jupyter-widgets/base",
      "model_module_version": "1.2.0",
      "model_name": "LayoutModel",
      "state": {}
     },
     "8405fcf523e64202ad3511dd91f10091": {
      "model_module": "@jupyter-widgets/base",
      "model_module_version": "1.2.0",
      "model_name": "LayoutModel",
      "state": {}
     },
     "847e883d248f4eb6988c95a02040742d": {
      "model_module": "@jupyter-widgets/controls",
      "model_module_version": "1.5.0",
      "model_name": "ButtonModel",
      "state": {
       "description": "Download image",
       "layout": "IPY_MODEL_314316e5265e45aa8c7baa6a804a0877",
       "style": "IPY_MODEL_7294bdb3528f454c959ac5d791638a3a",
       "tooltip": "Download current frame to your local PC"
      }
     },
     "884dd794744642a9a4582107926ea871": {
      "model_module": "@jupyter-widgets/base",
      "model_module_version": "1.2.0",
      "model_name": "LayoutModel",
      "state": {}
     },
     "8afbfc09d7c44012873c05ac4d148bc3": {
      "model_module": "@jupyter-widgets/base",
      "model_module_version": "1.2.0",
      "model_name": "LayoutModel",
      "state": {}
     },
     "8bab9f6d9a7b4d138146aac7a92b2066": {
      "model_module": "@jupyter-widgets/controls",
      "model_module_version": "1.5.0",
      "model_name": "HBoxModel",
      "state": {
       "children": [
        "IPY_MODEL_1d5ea0fef6984c30b60c305b4eca3996",
        "IPY_MODEL_31f7675384174bc992134eea4fd65d39"
       ],
       "layout": "IPY_MODEL_8369eed1887b4dff85999cd7a17a3bd9"
      }
     },
     "8d03b2ab5dc2491883581fde65096651": {
      "model_module": "@jupyter-widgets/base",
      "model_module_version": "1.2.0",
      "model_name": "LayoutModel",
      "state": {}
     },
     "913e9cce9d5b4adfb3eec1deada08806": {
      "model_module": "@jupyter-widgets/base",
      "model_module_version": "1.2.0",
      "model_name": "LayoutModel",
      "state": {}
     },
     "9230ae60e3084f3aa148f83e17698376": {
      "model_module": "@jupyter-widgets/controls",
      "model_module_version": "1.5.0",
      "model_name": "IntSliderModel",
      "state": {
       "layout": "IPY_MODEL_d548853600594f6ca3093f0fe4f30335",
       "max": 1,
       "style": "IPY_MODEL_dc9005839284468294297edb5dc54258"
      }
     },
     "92966704670a428894650a3172b08a83": {
      "model_module": "@jupyter-widgets/controls",
      "model_module_version": "1.5.0",
      "model_name": "SliderStyleModel",
      "state": {
       "description_width": ""
      }
     },
     "9647b719031644c18d2cbec7ff5fc8e4": {
      "model_module": "@jupyter-widgets/base",
      "model_module_version": "1.2.0",
      "model_name": "LayoutModel",
      "state": {}
     },
     "96b1b40ca5614a40a3818d5f1cf56577": {
      "model_module": "@jupyter-widgets/controls",
      "model_module_version": "1.5.0",
      "model_name": "SliderStyleModel",
      "state": {
       "description_width": ""
      }
     },
     "975a233bc99641138fd1add566a7395a": {
      "model_module": "@jupyter-widgets/controls",
      "model_module_version": "1.5.0",
      "model_name": "ButtonStyleModel",
      "state": {}
     },
     "999d0886aa614a8580655ab3e679c843": {
      "model_module": "@jupyter-widgets/controls",
      "model_module_version": "1.5.0",
      "model_name": "DescriptionStyleModel",
      "state": {
       "description_width": ""
      }
     },
     "9c11e6de9de4403b9fa5ee3b306b05f1": {
      "model_module": "@jupyter-widgets/controls",
      "model_module_version": "1.5.0",
      "model_name": "DescriptionStyleModel",
      "state": {
       "description_width": ""
      }
     },
     "9ef4910ebf8c48b3a313593b2ef3e508": {
      "model_module": "@jupyter-widgets/controls",
      "model_module_version": "1.5.0",
      "model_name": "HBoxModel",
      "state": {
       "children": [
        "IPY_MODEL_5b1a55aa819342a3be5dcc40906919ef",
        "IPY_MODEL_16a58eeb682a4d0c83ca34bba0a1cc46"
       ],
       "layout": "IPY_MODEL_037328cafbdc452cbc5d4fceee88c407"
      }
     },
     "9f6b14d0df06482c9f7f246c4d6118e3": {
      "model_module": "@jupyter-widgets/controls",
      "model_module_version": "1.5.0",
      "model_name": "LinkModel",
      "state": {
       "source": [
        "IPY_MODEL_b8635a75bcd64ad8affada0d7c742d8b",
        "value"
       ],
       "target": [
        "IPY_MODEL_7e2a4d4e1a044ef88168603db85d2887",
        "value"
       ]
      }
     },
     "9fb50deb769b4ab0be6d4f2cad48f9d3": {
      "model_module": "@jupyter-widgets/controls",
      "model_module_version": "1.5.0",
      "model_name": "ButtonStyleModel",
      "state": {}
     },
     "a1c07a216db8489c89b635388c9a1c2a": {
      "model_module": "@jupyter-widgets/controls",
      "model_module_version": "1.5.0",
      "model_name": "HBoxModel",
      "state": {
       "children": [
        "IPY_MODEL_bffcffea6bce4fef855b4b31c88d50f3",
        "IPY_MODEL_828484ff22f64b6496fc01f8a3ff2d51"
       ],
       "layout": "IPY_MODEL_cd3568ac8d7b434bbb1a6cf78a23aaf1"
      }
     },
     "a4e3be1317ca4d6885771ff2a7e4e8ff": {
      "model_module": "@jupyter-widgets/controls",
      "model_module_version": "1.5.0",
      "model_name": "DescriptionStyleModel",
      "state": {
       "description_width": ""
      }
     },
     "a55b5b5a27e847e0a2f12e1f905123d6": {
      "model_module": "@jupyter-widgets/controls",
      "model_module_version": "1.5.0",
      "model_name": "FloatSliderModel",
      "state": {
       "description": "Ball size",
       "layout": "IPY_MODEL_6e1dcdd369004802ba54cf1b5a44417e",
       "max": 1.5,
       "step": 0.01,
       "style": "IPY_MODEL_96b1b40ca5614a40a3818d5f1cf56577",
       "value": 0.5
      }
     },
     "a62c0565d6194e0b9e7c2885b10d6e2b": {
      "model_module": "@jupyter-widgets/controls",
      "model_module_version": "1.5.0",
      "model_name": "TextModel",
      "state": {
       "description": "Filename: ",
       "layout": "IPY_MODEL_913e9cce9d5b4adfb3eec1deada08806",
       "style": "IPY_MODEL_16bc9bbb504b4f28a26339b687c9c030",
       "value": "screenshot.png"
      }
     },
     "a865b8aab3bb438d9afa1d15f8655c27": {
      "model_module": "@jupyter-widgets/controls",
      "model_module_version": "1.5.0",
      "model_name": "DescriptionStyleModel",
      "state": {
       "description_width": ""
      }
     },
     "aa37142667a045edb676ef40aecac531": {
      "model_module": "@jupyter-widgets/controls",
      "model_module_version": "1.5.0",
      "model_name": "CheckboxModel",
      "state": {
       "description": "Show force",
       "disabled": false,
       "layout": "IPY_MODEL_d1d513876a4e4319aec0494318b07521",
       "style": "IPY_MODEL_d79f337a0e714790ad2587f18714f479",
       "value": false
      }
     },
     "aec3480ac4ce4d309dff7fe675ff8c1b": {
      "model_module": "@jupyter-widgets/controls",
      "model_module_version": "1.5.0",
      "model_name": "ButtonStyleModel",
      "state": {}
     },
     "aed67e6aa15f4d72ab5df83dbd48f220": {
      "model_module": "@jupyter-widgets/base",
      "model_module_version": "1.2.0",
      "model_name": "LayoutModel",
      "state": {}
     },
     "afae2c02e47b44168879742d8aa0bba9": {
      "model_module": "@jupyter-widgets/controls",
      "model_module_version": "1.5.0",
      "model_name": "PlayModel",
      "state": {
       "layout": "IPY_MODEL_2d9c810a033c42b994f54f0f3e05e855",
       "max": 0,
       "style": "IPY_MODEL_999d0886aa614a8580655ab3e679c843"
      }
     },
     "b0264f01dc004d238c80087bd890c3bc": {
      "model_module": "@jupyter-widgets/controls",
      "model_module_version": "1.5.0",
      "model_name": "DescriptionStyleModel",
      "state": {
       "description_width": ""
      }
     },
     "b3e88581b6b843019aefb37b64a51416": {
      "model_module": "@jupyter-widgets/controls",
      "model_module_version": "1.5.0",
      "model_name": "LinkModel",
      "state": {
       "source": [
        "IPY_MODEL_b8635a75bcd64ad8affada0d7c742d8b",
        "max"
       ],
       "target": [
        "IPY_MODEL_5b1a55aa819342a3be5dcc40906919ef",
        "max_frame"
       ]
      }
     },
     "b5069c1c5e934e9a97e5fe9c780f8b83": {
      "model_module": "@jupyter-widgets/controls",
      "model_module_version": "1.5.0",
      "model_name": "DropdownModel",
      "state": {
       "_options_labels": [
        " ",
        "picking",
        "random",
        "uniform",
        "atomindex",
        "residueindex",
        "chainindex",
        "modelindex",
        "sstruc",
        "element",
        "resname",
        "bfactor",
        "hydrophobicity",
        "value",
        "volume",
        "occupancy"
       ],
       "description": "Color scheme",
       "index": 9,
       "layout": "IPY_MODEL_1e6e747056d44a529e1832a7f075b3ab",
       "style": "IPY_MODEL_bf5561750d0f490c847e1b0e6ff6aa04"
      }
     },
     "b575fbd98da74e918abd24cc0e785e63": {
      "model_module": "@jupyter-widgets/controls",
      "model_module_version": "1.5.0",
      "model_name": "ButtonStyleModel",
      "state": {}
     },
     "b5c0156b15a54f8a8dd619176f3c72d9": {
      "model_module": "@jupyter-widgets/controls",
      "model_module_version": "1.5.0",
      "model_name": "ButtonModel",
      "state": {
       "description": "Download image",
       "layout": "IPY_MODEL_8235d868afe0412c8127b6fa69c535de",
       "style": "IPY_MODEL_d5569c8ba1b74d4fa7714cb76c97eea0",
       "tooltip": "Download current frame to your local PC"
      }
     },
     "b680154cb84a465ab7e5698583ae347e": {
      "model_module": "@jupyter-widgets/controls",
      "model_module_version": "1.5.0",
      "model_name": "DescriptionStyleModel",
      "state": {
       "description_width": ""
      }
     },
     "b77aededb3d6479c99f811eda1102ead": {
      "model_module": "@jupyter-widgets/base",
      "model_module_version": "1.2.0",
      "model_name": "LayoutModel",
      "state": {}
     },
     "b80a14dea0534fa182e72c686c364353": {
      "model_module": "@jupyter-widgets/controls",
      "model_module_version": "1.5.0",
      "model_name": "FloatSliderModel",
      "state": {
       "description": "Charge scale",
       "layout": "IPY_MODEL_2f82452906864ce28bc524f01a0afa98",
       "step": 0.1,
       "style": "IPY_MODEL_189c07709c7c4d22802164c06e1c5019",
       "value": 1
      }
     },
     "b8635a75bcd64ad8affada0d7c742d8b": {
      "model_module": "@jupyter-widgets/controls",
      "model_module_version": "1.5.0",
      "model_name": "PlayModel",
      "state": {
       "layout": "IPY_MODEL_884dd794744642a9a4582107926ea871",
       "max": 1,
       "style": "IPY_MODEL_22a7a56a9a72410e9f70c0fb09cbb378"
      }
     },
     "b909da93cae5480996b8f557a090c801": {
      "model_module": "@jupyter-widgets/controls",
      "model_module_version": "1.5.0",
      "model_name": "HBoxModel",
      "state": {
       "children": [
        "IPY_MODEL_ba53f4e8dcaf49a5a85714fd20610faa",
        "IPY_MODEL_1c9d62ffc0204ad69f3c0392c27d25e9"
       ],
       "layout": "IPY_MODEL_c61844eb893a45928602b23f8740e3f3"
      }
     },
     "ba53f4e8dcaf49a5a85714fd20610faa": {
      "model_module": "@jupyter-widgets/controls",
      "model_module_version": "1.5.0",
      "model_name": "ButtonModel",
      "state": {
       "description": "Download image",
       "layout": "IPY_MODEL_ed55cb103a2c49c893ad7a2fb51d3a44",
       "style": "IPY_MODEL_b575fbd98da74e918abd24cc0e785e63",
       "tooltip": "Download current frame to your local PC"
      }
     },
     "bc1c28eb4c8947e38715500c8c371c10": {
      "model_module": "@jupyter-widgets/base",
      "model_module_version": "1.2.0",
      "model_name": "LayoutModel",
      "state": {}
     },
     "bc2950e2b3884c4e81294ef571ec5736": {
      "model_module": "@jupyter-widgets/base",
      "model_module_version": "1.2.0",
      "model_name": "LayoutModel",
      "state": {}
     },
     "bc9a3d24ea334264aa62388d7d5731cc": {
      "model_module": "@jupyter-widgets/controls",
      "model_module_version": "1.5.0",
      "model_name": "ButtonModel",
      "state": {
       "icon": "compress",
       "layout": "IPY_MODEL_f235ec15b25a4a229844847069b4d55c",
       "style": "IPY_MODEL_aec3480ac4ce4d309dff7fe675ff8c1b"
      }
     },
     "bcd8bb113dd54e7683121b9aaed86b75": {
      "model_module": "@jupyter-widgets/controls",
      "model_module_version": "1.5.0",
      "model_name": "FloatSliderModel",
      "state": {
       "description": "Force scale",
       "layout": "IPY_MODEL_bc1c28eb4c8947e38715500c8c371c10",
       "step": 0.1,
       "style": "IPY_MODEL_808a1b3d7ff84c9c8d3156147257eea0",
       "value": 0.5
      }
     },
     "be10c3562da04443a4d608f6499a18f1": {
      "model_module": "@jupyter-widgets/controls",
      "model_module_version": "1.5.0",
      "model_name": "FloatSliderModel",
      "state": {
       "description": "Ball size",
       "layout": "IPY_MODEL_8d03b2ab5dc2491883581fde65096651",
       "max": 1.5,
       "step": 0.01,
       "style": "IPY_MODEL_758d9714792243f1a6d15353c78a4cf5",
       "value": 0.5
      }
     },
     "bf5561750d0f490c847e1b0e6ff6aa04": {
      "model_module": "@jupyter-widgets/controls",
      "model_module_version": "1.5.0",
      "model_name": "DescriptionStyleModel",
      "state": {
       "description_width": ""
      }
     },
     "bffcffea6bce4fef855b4b31c88d50f3": {
      "model_module": "nglview-js-widgets",
      "model_module_version": "3.0.1",
      "model_name": "NGLModel",
      "state": {
       "_camera_orientation": [
        12.889604475786777,
        0.5751739130993491,
        0.7431183233417815,
        0,
        0.8690238877555463,
        -3.4072637557154812,
        -12.436249619419733,
        0,
        -0.35755748531747644,
        12.453300047926945,
        -3.4369207113367963,
        0,
        -2.1565001010894775,
        -2.1565001010894775,
        -2.1565001010894775,
        1
       ],
       "_camera_str": "orthographic",
       "_gui_theme": null,
       "_ibtn_fullscreen": "IPY_MODEL_ec7911e50e184220bd05c134566dabf1",
       "_igui": null,
       "_iplayer": "IPY_MODEL_27729d6261f445648ce16725ed2cf474",
       "_ngl_color_dict": {},
       "_ngl_coordinate_resource": {},
       "_ngl_full_stage_parameters": {
        "ambientColor": 14540253,
        "ambientIntensity": 0.2,
        "backgroundColor": "white",
        "cameraEyeSep": 0.3,
        "cameraFov": 40,
        "cameraType": "orthographic",
        "clipDist": 0,
        "clipFar": 100,
        "clipNear": 0,
        "fogFar": 100,
        "fogNear": 50,
        "hoverTimeout": 0,
        "impostor": true,
        "lightColor": 14540253,
        "lightIntensity": 1,
        "mousePreset": "default",
        "panSpeed": 1,
        "quality": "medium",
        "rotateSpeed": 2,
        "sampleLevel": 0,
        "tooltip": true,
        "workerDefault": true,
        "zoomSpeed": 1.2
       },
       "_ngl_msg_archive": [
        {
         "args": [
          {
           "binary": false,
           "data": "CRYST1    5.750    5.750    5.750  90.00  90.00  90.00 P 1\nMODEL     1\nATOM      1   Ga MOL     1       0.000   0.000   0.000  1.00  0.00          GA  \nATOM      2   Ga MOL     1       2.875   2.875   0.000  1.00  0.00          GA  \nATOM      3   Ga MOL     1       2.875   0.000   2.875  1.00  0.00          GA  \nATOM      4   Ga MOL     1       0.000   2.875   2.875  1.00  0.00          GA  \nATOM      5   As MOL     1       1.438   1.438   1.438  1.00  0.00          AS  \nATOM      6   As MOL     1       1.438   4.313   4.313  1.00  0.00          AS  \nATOM      7   As MOL     1       4.313   4.313   1.438  1.00  0.00          AS  \nATOM      8   As MOL     1       4.313   1.438   4.313  1.00  0.00          AS  \nENDMDL\n",
           "type": "blob"
          }
         ],
         "kwargs": {
          "defaultRepresentation": false,
          "ext": "pdb"
         },
         "methodName": "loadFile",
         "reconstruc_color_scheme": false,
         "target": "Stage",
         "type": "call_method"
        },
        {
         "args": [
          "500px",
          "500px"
         ],
         "kwargs": {},
         "methodName": "setSize",
         "reconstruc_color_scheme": false,
         "target": "Widget",
         "type": "call_method"
        },
        {
         "args": [
          "unitcell"
         ],
         "component_index": 0,
         "kwargs": {
          "sele": "all"
         },
         "methodName": "addRepresentation",
         "reconstruc_color_scheme": false,
         "target": "compList",
         "type": "call_method"
        },
        {
         "args": [
          "spacefill"
         ],
         "component_index": 0,
         "kwargs": {
          "sele": "all"
         },
         "methodName": "addRepresentation",
         "reconstruc_color_scheme": false,
         "target": "compList",
         "type": "call_method"
        },
        {
         "args": [],
         "kwargs": {
          "cameraType": "orthographic"
         },
         "methodName": "setParameters",
         "reconstruc_color_scheme": false,
         "target": "Stage",
         "type": "call_method"
        },
        {
         "args": [
          {
           "clipDist": 0
          }
         ],
         "kwargs": {},
         "methodName": "setParameters",
         "reconstruc_color_scheme": false,
         "target": "Widget",
         "type": "call_method"
        },
        {
         "args": [
          "spacefill",
          0
         ],
         "kwargs": {
          "colorScale": "rainbow",
          "colorScheme": "element",
          "radiusScale": 0.5,
          "radiusType": "covalent"
         },
         "methodName": "updateRepresentationsByName",
         "reconstruc_color_scheme": false,
         "target": "Widget",
         "type": "call_method"
        },
        {
         "args": [
          "this._Q = [[1.0, 0.0, 0.0], [0.0, 1.0, 0.0], [0.0, 0.0, 1.0]]\n    var tooltip = document.createElement('div');\n    Object.assign(tooltip.style, {\n      display: 'none',\n      position: 'fixed',\n      zIndex: 10,\n      pointerEvents: 'none',\n      backgroundColor: 'rgba( 0, 0, 0, 0.6 )',\n      color: 'lightgrey',\n      padding: '8px',\n      fontFamily: 'sans-serif'\n    });\n    document.body.appendChild(tooltip);\n\n    var that = this;\n    this.stage.mouseControls.remove('hoverPick');\n    this.stage.signals.hovered.add(function (pickingProxy) {\n      if (pickingProxy && (pickingProxy.atom || pickingProxy.bond)) {\n        var atom = pickingProxy.atom || pickingProxy.closestBondAtom\n        var mp = pickingProxy.mouse.position\n        //tooltip.innerText = atom.element + ' i=' + atom.index + ' (' + atom.x.toFixed(2) +  ', ' + atom.y.toFixed(2) +  ', ' + atom.z.toFixed(2) + ')'\n        //var pos = that._atoms_pos[atom.index]\n        var Q = that._Q\n        var pos_x = Q[0][0] * atom.x + Q[0][1] * atom.y + Q[0][2] * atom.z \n        var pos_y = Q[1][0] * atom.x + Q[1][1] * atom.y + Q[1][2] * atom.z\n        var pos_z = Q[2][0] * atom.x + Q[2][1] * atom.y + Q[2][2] * atom.z\n        tooltip.innerText = 'i=' + atom.index + ' ' + atom.element + ' (' + pos_x.toFixed(2) +  ', ' + pos_y.toFixed(2) +  ', ' + pos_z.toFixed(2) + ')'\n        tooltip.style.bottom = window.innerHeight - mp.y + 3 + 'px'\n        tooltip.style.left = mp.x + 3 + 'px'\n        tooltip.style.display = 'block'\n      } else {\n        tooltip.style.display = 'none'\n      }\n    });\n    this.stage.tooltip = tooltip;\n    "
         ],
         "kwargs": {},
         "methodName": "executeCode",
         "reconstruc_color_scheme": false,
         "target": "Widget",
         "type": "call_method"
        },
        {
         "args": [
          "ball+stick"
         ],
         "component_index": 0,
         "kwargs": {
          "sele": "all"
         },
         "methodName": "addRepresentation",
         "reconstruc_color_scheme": false,
         "target": "compList",
         "type": "call_method"
        }
       ],
       "_ngl_original_stage_parameters": {
        "ambientColor": 14540253,
        "ambientIntensity": 0.2,
        "backgroundColor": "white",
        "cameraEyeSep": 0.3,
        "cameraFov": 40,
        "cameraType": "perspective",
        "clipDist": 10,
        "clipFar": 100,
        "clipNear": 0,
        "fogFar": 100,
        "fogNear": 50,
        "hoverTimeout": 0,
        "impostor": true,
        "lightColor": 14540253,
        "lightIntensity": 1,
        "mousePreset": "default",
        "panSpeed": 1,
        "quality": "medium",
        "rotateSpeed": 2,
        "sampleLevel": 0,
        "tooltip": true,
        "workerDefault": true,
        "zoomSpeed": 1.2
       },
       "_ngl_repr_dict": {
        "0": {
         "0": {
          "params": {
           "clipCenter": {
            "x": 0,
            "y": 0,
            "z": 0
           },
           "clipNear": 0,
           "clipRadius": 0,
           "colorMode": "hcl",
           "colorReverse": false,
           "colorScale": "",
           "colorScheme": "element",
           "colorValue": "orange",
           "defaultAssembly": "",
           "depthWrite": true,
           "diffuse": 16777215,
           "diffuseInterior": false,
           "disableImpostor": false,
           "disablePicking": false,
           "flatShaded": false,
           "interiorColor": 2236962,
           "interiorDarkening": 0,
           "lazy": false,
           "matrix": {
            "elements": [
             1,
             0,
             0,
             0,
             0,
             1,
             0,
             0,
             0,
             0,
             1,
             0,
             0,
             0,
             0,
             1
            ]
           },
           "metalness": 0,
           "opacity": 1,
           "quality": "medium",
           "radialSegments": 10,
           "radiusData": {},
           "radiusScale": 1,
           "radiusSize": 0.028749998737986702,
           "radiusType": "vdw",
           "roughness": 0.4,
           "sele": "all",
           "side": "double",
           "sphereDetail": 1,
           "useInteriorColor": true,
           "visible": true,
           "wireframe": false
          },
          "type": "unitcell"
         },
         "1": {
          "params": {
           "assembly": "default",
           "clipCenter": {
            "x": 0,
            "y": 0,
            "z": 0
           },
           "clipNear": 0,
           "clipRadius": 0,
           "colorMode": "hcl",
           "colorReverse": false,
           "colorScale": "rainbow",
           "colorScheme": "element",
           "colorValue": 9474192,
           "defaultAssembly": "",
           "depthWrite": true,
           "diffuse": 16777215,
           "diffuseInterior": false,
           "disableImpostor": false,
           "disablePicking": false,
           "flatShaded": false,
           "interiorColor": 2236962,
           "interiorDarkening": 0,
           "lazy": false,
           "matrix": {
            "elements": [
             1,
             0,
             0,
             0,
             0,
             1,
             0,
             0,
             0,
             0,
             1,
             0,
             0,
             0,
             0,
             1
            ]
           },
           "metalness": 0,
           "opacity": 1,
           "quality": "medium",
           "radiusData": {},
           "radiusScale": 0.5,
           "radiusSize": 1,
           "radiusType": "covalent",
           "roughness": 0.4,
           "sele": "all",
           "side": "double",
           "sphereDetail": 1,
           "useInteriorColor": true,
           "visible": true,
           "wireframe": false
          },
          "type": "spacefill"
         },
         "2": {
          "params": {
           "aspectRatio": 2,
           "assembly": "default",
           "bondScale": 0.4,
           "bondSpacing": 1,
           "clipCenter": {
            "x": 0,
            "y": 0,
            "z": 0
           },
           "clipNear": 0,
           "clipRadius": 0,
           "colorMode": "hcl",
           "colorReverse": false,
           "colorScale": "",
           "colorScheme": "element",
           "colorValue": 9474192,
           "cylinderOnly": false,
           "defaultAssembly": "",
           "depthWrite": true,
           "diffuse": 16777215,
           "diffuseInterior": false,
           "disableImpostor": false,
           "disablePicking": false,
           "flatShaded": false,
           "interiorColor": 2236962,
           "interiorDarkening": 0,
           "lazy": false,
           "lineOnly": false,
           "linewidth": 2,
           "matrix": {
            "elements": [
             1,
             0,
             0,
             0,
             0,
             1,
             0,
             0,
             0,
             0,
             1,
             0,
             0,
             0,
             0,
             1
            ]
           },
           "metalness": 0,
           "multipleBond": "off",
           "opacity": 1,
           "openEnded": true,
           "quality": "medium",
           "radialSegments": 10,
           "radiusData": {},
           "radiusScale": 1,
           "radiusSize": 0.15,
           "radiusType": "size",
           "roughness": 0.4,
           "sele": "all",
           "side": "double",
           "sphereDetail": 1,
           "useInteriorColor": true,
           "visible": true,
           "wireframe": false
          },
          "type": "ball+stick"
         }
        }
       },
       "_ngl_serialize": false,
       "_ngl_version": "2.0.0-dev.36",
       "_ngl_view_id": [
        "777A76EC-E37C-49E1-9372-0A3BED487358"
       ],
       "_player_dict": {},
       "_scene_position": {},
       "_scene_rotation": {},
       "_synced_model_ids": [],
       "_synced_repr_model_ids": [],
       "_view_height": "",
       "_view_width": "",
       "background": "white",
       "frame": 0,
       "gui_style": null,
       "layout": "IPY_MODEL_52d33cd618214a61a3cb2c0e4e47ee4d",
       "max_frame": 0,
       "n_components": 1,
       "picked": {}
      }
     },
     "c038ddebfcb44c848d930436cfa1966c": {
      "model_module": "@jupyter-widgets/controls",
      "model_module_version": "1.5.0",
      "model_name": "TextModel",
      "state": {
       "description": "Filename: ",
       "layout": "IPY_MODEL_673e67a3854946e0ac9843b6351b52f9",
       "style": "IPY_MODEL_51238e3fdaee4f748c1c61dfa5bbbf12",
       "value": "screenshot.png"
      }
     },
     "c409ed96568f481e8bccef6667e3b5a1": {
      "model_module": "@jupyter-widgets/controls",
      "model_module_version": "1.5.0",
      "model_name": "LinkModel",
      "state": {
       "source": [
        "IPY_MODEL_830a3699931d4324af6b9a66dfbc342f",
        "value"
       ],
       "target": [
        "IPY_MODEL_1d5ea0fef6984c30b60c305b4eca3996",
        "frame"
       ]
      }
     },
     "c5cef23f782f4ca2ae446e3cb3a2b70b": {
      "model_module": "@jupyter-widgets/base",
      "model_module_version": "1.2.0",
      "model_name": "LayoutModel",
      "state": {}
     },
     "c5de1b3b2edb4cbcb9cfc171f6e215f5": {
      "model_module": "@jupyter-widgets/base",
      "model_module_version": "1.2.0",
      "model_name": "LayoutModel",
      "state": {}
     },
     "c61844eb893a45928602b23f8740e3f3": {
      "model_module": "@jupyter-widgets/base",
      "model_module_version": "1.2.0",
      "model_name": "LayoutModel",
      "state": {}
     },
     "cc53384f98da4b75a8e201bd278ec17c": {
      "model_module": "@jupyter-widgets/base",
      "model_module_version": "1.2.0",
      "model_name": "LayoutModel",
      "state": {}
     },
     "ccf0ada886634ce8931660f7a613993e": {
      "model_module": "@jupyter-widgets/controls",
      "model_module_version": "1.5.0",
      "model_name": "LinkModel",
      "state": {
       "source": [
        "IPY_MODEL_57141c557f0c4770bca8aa2ae97f88ca",
        "max"
       ],
       "target": [
        "IPY_MODEL_bffcffea6bce4fef855b4b31c88d50f3",
        "max_frame"
       ]
      }
     },
     "cd3568ac8d7b434bbb1a6cf78a23aaf1": {
      "model_module": "@jupyter-widgets/base",
      "model_module_version": "1.2.0",
      "model_name": "LayoutModel",
      "state": {}
     },
     "d1d513876a4e4319aec0494318b07521": {
      "model_module": "@jupyter-widgets/base",
      "model_module_version": "1.2.0",
      "model_name": "LayoutModel",
      "state": {}
     },
     "d289f1e9307d41a89c2ebf6d0cbbe236": {
      "model_module": "@jupyter-widgets/controls",
      "model_module_version": "1.5.0",
      "model_name": "IntSliderModel",
      "state": {
       "layout": "IPY_MODEL_de80b954236f4b35874b8bf0451cd950",
       "max": 1,
       "style": "IPY_MODEL_92966704670a428894650a3172b08a83"
      }
     },
     "d2a1d15e58ef4575981f7b20f0389b15": {
      "model_module": "@jupyter-widgets/controls",
      "model_module_version": "1.5.0",
      "model_name": "ButtonModel",
      "state": {
       "description": "Save image",
       "layout": "IPY_MODEL_66e8224f5c5b4644b9da99418656d76c",
       "style": "IPY_MODEL_7a46719cf0e24211ad7e2f28f00f41cb",
       "tooltip": "Save current frame to file.\nCurrently .png and .html are supported.\nIt takes a bit time, please be patient."
      }
     },
     "d4697a8538a84e9b8375d4d68096b14f": {
      "model_module": "@jupyter-widgets/base",
      "model_module_version": "1.2.0",
      "model_name": "LayoutModel",
      "state": {}
     },
     "d548853600594f6ca3093f0fe4f30335": {
      "model_module": "@jupyter-widgets/base",
      "model_module_version": "1.2.0",
      "model_name": "LayoutModel",
      "state": {}
     },
     "d554f4f13c9c4667923db4a62a804a52": {
      "model_module": "@jupyter-widgets/controls",
      "model_module_version": "1.5.0",
      "model_name": "DropdownModel",
      "state": {
       "_options_labels": [
        "All",
        "Al"
       ],
       "description": "Show",
       "index": 0,
       "layout": "IPY_MODEL_aed67e6aa15f4d72ab5df83dbd48f220",
       "style": "IPY_MODEL_b680154cb84a465ab7e5698583ae347e"
      }
     },
     "d5569c8ba1b74d4fa7714cb76c97eea0": {
      "model_module": "@jupyter-widgets/controls",
      "model_module_version": "1.5.0",
      "model_name": "ButtonStyleModel",
      "state": {}
     },
     "d79f337a0e714790ad2587f18714f479": {
      "model_module": "@jupyter-widgets/controls",
      "model_module_version": "1.5.0",
      "model_name": "DescriptionStyleModel",
      "state": {
       "description_width": ""
      }
     },
     "d82115a817db45b0abf48a293ea60bd3": {
      "model_module": "@jupyter-widgets/base",
      "model_module_version": "1.2.0",
      "model_name": "LayoutModel",
      "state": {
       "border": "0px solid black"
      }
     },
     "d86a921a67804970a172b785c58a7184": {
      "model_module": "@jupyter-widgets/controls",
      "model_module_version": "1.5.0",
      "model_name": "ButtonModel",
      "state": {
       "icon": "compress",
       "layout": "IPY_MODEL_e2c86e0c7b784c589a052ad33f050c6b",
       "style": "IPY_MODEL_9fb50deb769b4ab0be6d4f2cad48f9d3"
      }
     },
     "dc9005839284468294297edb5dc54258": {
      "model_module": "@jupyter-widgets/controls",
      "model_module_version": "1.5.0",
      "model_name": "SliderStyleModel",
      "state": {
       "description_width": ""
      }
     },
     "dd720d155fe14962bbc51840c73426c5": {
      "model_module": "@jupyter-widgets/controls",
      "model_module_version": "1.5.0",
      "model_name": "SliderStyleModel",
      "state": {
       "description_width": ""
      }
     },
     "de80b954236f4b35874b8bf0451cd950": {
      "model_module": "@jupyter-widgets/base",
      "model_module_version": "1.2.0",
      "model_name": "LayoutModel",
      "state": {}
     },
     "deb535928dd347a8b48665c6fa1faea1": {
      "model_module": "@jupyter-widgets/controls",
      "model_module_version": "1.5.0",
      "model_name": "SliderStyleModel",
      "state": {
       "description_width": ""
      }
     },
     "dfab9a8da2de42f9af351ac196a715f7": {
      "model_module": "@jupyter-widgets/controls",
      "model_module_version": "1.5.0",
      "model_name": "ButtonModel",
      "state": {
       "description": "Save image",
       "layout": "IPY_MODEL_c5cef23f782f4ca2ae446e3cb3a2b70b",
       "style": "IPY_MODEL_975a233bc99641138fd1add566a7395a",
       "tooltip": "Save current frame to file.\nCurrently .png and .html are supported.\nIt takes a bit time, please be patient."
      }
     },
     "e02f8af2fd2e421783382ac956224bee": {
      "model_module": "@jupyter-widgets/controls",
      "model_module_version": "1.5.0",
      "model_name": "CheckboxModel",
      "state": {
       "description": "Show force",
       "disabled": false,
       "layout": "IPY_MODEL_f35af991a5704c87bf0c60ef4685b09d",
       "style": "IPY_MODEL_565830152e3e484f930b10d16385f3c4",
       "value": false
      }
     },
     "e27215d51b624f0facf730a638b92c15": {
      "model_module": "@jupyter-widgets/output",
      "model_module_version": "1.0.0",
      "model_name": "OutputModel",
      "state": {
       "layout": "IPY_MODEL_53ced95f8cdc41b5b21fa4984fb910bd"
      }
     },
     "e2c86e0c7b784c589a052ad33f050c6b": {
      "model_module": "@jupyter-widgets/base",
      "model_module_version": "1.2.0",
      "model_name": "LayoutModel",
      "state": {
       "width": "34px"
      }
     },
     "e8c4cc4ea9f04ca1b1d6ea475a4cb5d5": {
      "model_module": "@jupyter-widgets/base",
      "model_module_version": "1.2.0",
      "model_name": "LayoutModel",
      "state": {}
     },
     "ec7911e50e184220bd05c134566dabf1": {
      "model_module": "@jupyter-widgets/controls",
      "model_module_version": "1.5.0",
      "model_name": "ButtonModel",
      "state": {
       "icon": "compress",
       "layout": "IPY_MODEL_19ba88836e8a455fabec2a4ef2bd256e",
       "style": "IPY_MODEL_310372109e364acd81cdc2b97c5c8d67"
      }
     },
     "ed55cb103a2c49c893ad7a2fb51d3a44": {
      "model_module": "@jupyter-widgets/base",
      "model_module_version": "1.2.0",
      "model_name": "LayoutModel",
      "state": {}
     },
     "efb02cd378374660956d4f027a65a336": {
      "model_module": "@jupyter-widgets/controls",
      "model_module_version": "1.5.0",
      "model_name": "DescriptionStyleModel",
      "state": {
       "description_width": ""
      }
     },
     "f09b9dba7e8945acbed544aef03e87b6": {
      "model_module": "@jupyter-widgets/base",
      "model_module_version": "1.2.0",
      "model_name": "LayoutModel",
      "state": {}
     },
     "f1edf76b5c7b4fa6a693c5f7e7d3e494": {
      "model_module": "@jupyter-widgets/base",
      "model_module_version": "1.2.0",
      "model_name": "LayoutModel",
      "state": {}
     },
     "f235c82bea1f402ea59c9777572c9ef6": {
      "model_module": "@jupyter-widgets/controls",
      "model_module_version": "1.5.0",
      "model_name": "LinkModel",
      "state": {
       "source": [
        "IPY_MODEL_830a3699931d4324af6b9a66dfbc342f",
        "max"
       ],
       "target": [
        "IPY_MODEL_1d5ea0fef6984c30b60c305b4eca3996",
        "max_frame"
       ]
      }
     },
     "f235ec15b25a4a229844847069b4d55c": {
      "model_module": "@jupyter-widgets/base",
      "model_module_version": "1.2.0",
      "model_name": "LayoutModel",
      "state": {
       "width": "34px"
      }
     },
     "f2ba8d48a3cf4081b6f119e9324fbd8a": {
      "model_module": "@jupyter-widgets/base",
      "model_module_version": "1.2.0",
      "model_name": "LayoutModel",
      "state": {}
     },
     "f35af991a5704c87bf0c60ef4685b09d": {
      "model_module": "@jupyter-widgets/base",
      "model_module_version": "1.2.0",
      "model_name": "LayoutModel",
      "state": {}
     },
     "f42bfea4502e475391e07cfe389fd175": {
      "model_module": "@jupyter-widgets/controls",
      "model_module_version": "1.5.0",
      "model_name": "HBoxModel",
      "state": {
       "children": [
        "IPY_MODEL_b8635a75bcd64ad8affada0d7c742d8b",
        "IPY_MODEL_7e2a4d4e1a044ef88168603db85d2887"
       ],
       "layout": "IPY_MODEL_fdf7fa12df8949458d5954a9e2dfb736"
      }
     },
     "f4ada98f0fba44df9bcffd1e5cc39e06": {
      "model_module": "@jupyter-widgets/controls",
      "model_module_version": "1.5.0",
      "model_name": "CheckboxModel",
      "state": {
       "description": "Show charge",
       "disabled": false,
       "layout": "IPY_MODEL_2fd603f188384bebbd9af82f6fa593d4",
       "style": "IPY_MODEL_42d19ff8817a4e12a484f27fa05271ba",
       "value": false
      }
     },
     "f7387ba57c4542e4ac57c846a0fd6d0d": {
      "model_module": "@jupyter-widgets/base",
      "model_module_version": "1.2.0",
      "model_name": "LayoutModel",
      "state": {}
     },
     "f96bf28e0ae64ad8b5f155950b2bc8df": {
      "model_module": "@jupyter-widgets/controls",
      "model_module_version": "1.5.0",
      "model_name": "SliderStyleModel",
      "state": {
       "description_width": ""
      }
     },
     "f9e6c294d8684b6889949c39cabe1373": {
      "model_module": "@jupyter-widgets/controls",
      "model_module_version": "1.5.0",
      "model_name": "ImageModel",
      "state": {
       "layout": "IPY_MODEL_6812470d3dcf4908be9491ff4d1dde30",
       "width": "900.0"
      }
     },
     "fdf7fa12df8949458d5954a9e2dfb736": {
      "model_module": "@jupyter-widgets/base",
      "model_module_version": "1.2.0",
      "model_name": "LayoutModel",
      "state": {}
     },
     "ffdb29999b1b43a588c17e72fa35e701": {
      "model_module": "@jupyter-widgets/controls",
      "model_module_version": "1.5.0",
      "model_name": "DropdownModel",
      "state": {
       "_options_labels": [
        " ",
        "picking",
        "random",
        "uniform",
        "atomindex",
        "residueindex",
        "chainindex",
        "modelindex",
        "sstruc",
        "element",
        "resname",
        "bfactor",
        "hydrophobicity",
        "value",
        "volume",
        "occupancy"
       ],
       "description": "Color scheme",
       "index": 9,
       "layout": "IPY_MODEL_741aaa4963574ba5b5046ef1a1a373e9",
       "style": "IPY_MODEL_4c6ee3f723f34e23b406b2a480ff0a66"
      }
     }
    },
    "version_major": 2,
    "version_minor": 0
   }
  }
 },
 "nbformat": 4,
 "nbformat_minor": 5
}
